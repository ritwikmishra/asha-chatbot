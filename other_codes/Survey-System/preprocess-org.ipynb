{
 "metadata": {
  "language_info": {
   "codemirror_mode": {
    "name": "ipython",
    "version": 3
   },
   "file_extension": ".py",
   "mimetype": "text/x-python",
   "name": "python",
   "nbconvert_exporter": "python",
   "pygments_lexer": "ipython3",
   "version": "3.8.5-final"
  },
  "orig_nbformat": 2,
  "kernelspec": {
   "name": "python3",
   "display_name": "Python 3",
   "language": "python"
  }
 },
 "nbformat": 4,
 "nbformat_minor": 2,
 "cells": [
  {
   "cell_type": "code",
   "execution_count": 2,
   "metadata": {},
   "outputs": [],
   "source": [
    "import pandas as pd"
   ]
  },
  {
   "cell_type": "code",
   "execution_count": 3,
   "metadata": {},
   "outputs": [
    {
     "output_type": "execute_result",
     "data": {
      "text/plain": [
       "          Category                                           Question  \\\n",
       "0  Breast feeding   मुझे <डिलीवरी> के बाद बिलकुल भी दूध नहीं उतरा ...   \n",
       "\n",
       "                                     m1 Suggested Q1  \\\n",
       "0  अगर <डिलीवरी> के बाद माँ का दूध ना उतरे तो क्य...   \n",
       "\n",
       "                                        m1 Q1 answer  m1 Q1 score  \\\n",
       "0  यह गलती कभी न करना और यह सोच भी गलत है की <डिल...     0.666667   \n",
       "\n",
       "                                     m1 Suggested Q2  \\\n",
       "0  हम अपने बच्चे को लगभग कितने दिन तक दूध पिला सक...   \n",
       "\n",
       "                                        m1 Q2 answer  m1 Q2 score  \\\n",
       "0  स्तनपान को रोकने के बारे में कोई कठोर और दृढ न...     0.666667   \n",
       "\n",
       "                                     m1 Suggested Q3  \\\n",
       "0  डिलीवरी बच्चा पैदा करने के बाद कितने बाद उनको ...   \n",
       "\n",
       "                                        m1 Q3 answer  ...  m2 Q3 score  \\\n",
       "0  प्रसव के बाद पहले घंटे के भीतर¸ जन्म के बाद जि...  ...     1.002752   \n",
       "\n",
       "                                     m3 Suggested Q1  \\\n",
       "0  माँ बहुत ज़्यादा बीमार रहती हो <डॉक्टर> ने बच्...   \n",
       "\n",
       "                                        m3 Q1 answer  m3 Q1 score  \\\n",
       "0  यह बहुत ही कभी कभी ऐसी बात होती है कि माँ बहुत...     0.991132   \n",
       "\n",
       "                                     m3 Suggested Q2  \\\n",
       "0  डिलीवरी का बाद मां के पहले गाढ़े दूध (कोलोस्ट्र...   \n",
       "\n",
       "                                        m3 Q2 answer  m3 Q2 score  \\\n",
       "0  कोलोस्ट्रम (माँ का पीला गाढ़ा दूध) निश्चित रूप ...     0.990467   \n",
       "\n",
       "                                     m3 Suggested Q3  \\\n",
       "0  अगर बच्चा दूध पीने के बाद डकार भी ले रहा हो पर...   \n",
       "\n",
       "                                        m3 Q3 answer  m3 Q3 score  \n",
       "0  एक आध बारी ऐसा हो जाता है डकार अगर पूरी तरह से...     0.990282  \n",
       "\n",
       "[1 rows x 29 columns]"
      ],
      "text/html": "<div>\n<style scoped>\n    .dataframe tbody tr th:only-of-type {\n        vertical-align: middle;\n    }\n\n    .dataframe tbody tr th {\n        vertical-align: top;\n    }\n\n    .dataframe thead th {\n        text-align: right;\n    }\n</style>\n<table border=\"1\" class=\"dataframe\">\n  <thead>\n    <tr style=\"text-align: right;\">\n      <th></th>\n      <th>Category</th>\n      <th>Question</th>\n      <th>m1 Suggested Q1</th>\n      <th>m1 Q1 answer</th>\n      <th>m1 Q1 score</th>\n      <th>m1 Suggested Q2</th>\n      <th>m1 Q2 answer</th>\n      <th>m1 Q2 score</th>\n      <th>m1 Suggested Q3</th>\n      <th>m1 Q3 answer</th>\n      <th>...</th>\n      <th>m2 Q3 score</th>\n      <th>m3 Suggested Q1</th>\n      <th>m3 Q1 answer</th>\n      <th>m3 Q1 score</th>\n      <th>m3 Suggested Q2</th>\n      <th>m3 Q2 answer</th>\n      <th>m3 Q2 score</th>\n      <th>m3 Suggested Q3</th>\n      <th>m3 Q3 answer</th>\n      <th>m3 Q3 score</th>\n    </tr>\n  </thead>\n  <tbody>\n    <tr>\n      <th>0</th>\n      <td>Breast feeding</td>\n      <td>मुझे &lt;डिलीवरी&gt; के बाद बिलकुल भी दूध नहीं उतरा ...</td>\n      <td>अगर &lt;डिलीवरी&gt; के बाद माँ का दूध ना उतरे तो क्य...</td>\n      <td>यह गलती कभी न करना और यह सोच भी गलत है की &lt;डिल...</td>\n      <td>0.666667</td>\n      <td>हम अपने बच्चे को लगभग कितने दिन तक दूध पिला सक...</td>\n      <td>स्तनपान को रोकने के बारे में कोई कठोर और दृढ न...</td>\n      <td>0.666667</td>\n      <td>डिलीवरी बच्चा पैदा करने के बाद कितने बाद उनको ...</td>\n      <td>प्रसव के बाद पहले घंटे के भीतर¸ जन्म के बाद जि...</td>\n      <td>...</td>\n      <td>1.002752</td>\n      <td>माँ बहुत ज़्यादा बीमार रहती हो &lt;डॉक्टर&gt; ने बच्...</td>\n      <td>यह बहुत ही कभी कभी ऐसी बात होती है कि माँ बहुत...</td>\n      <td>0.991132</td>\n      <td>डिलीवरी का बाद मां के पहले गाढ़े दूध (कोलोस्ट्र...</td>\n      <td>कोलोस्ट्रम (माँ का पीला गाढ़ा दूध) निश्चित रूप ...</td>\n      <td>0.990467</td>\n      <td>अगर बच्चा दूध पीने के बाद डकार भी ले रहा हो पर...</td>\n      <td>एक आध बारी ऐसा हो जाता है डकार अगर पूरी तरह से...</td>\n      <td>0.990282</td>\n    </tr>\n  </tbody>\n</table>\n<p>1 rows × 29 columns</p>\n</div>"
     },
     "metadata": {},
     "execution_count": 3
    }
   ],
   "source": [
    "data = pd.read_csv(\"temp1.csv\")\n",
    "data.head(1)"
   ]
  },
  {
   "cell_type": "code",
   "execution_count": 4,
   "metadata": {},
   "outputs": [],
   "source": [
    "ndata = pd.DataFrame()"
   ]
  },
  {
   "cell_type": "code",
   "execution_count": 11,
   "metadata": {},
   "outputs": [],
   "source": [
    "ndata[\"Page\"] = data.index+1\n",
    "ndata[\"User_Question\"] = data.Question\n",
    "ndata[\"OPTION_1\"] = data[\"m1 Q1 answer\"]\n",
    "ndata[\"OPTION_2\"] = data[\"m1 Q2 answer\"]\n",
    "ndata[\"OPTION_3\"] = data[\"m1 Q3 answer\"]\n"
   ]
  },
  {
   "cell_type": "code",
   "execution_count": 8,
   "metadata": {},
   "outputs": [
    {
     "output_type": "stream",
     "name": "stdout",
     "text": [
      "(0, Category                                             Breast feeding \nQuestion           मुझे <डिलीवरी> के बाद बिलकुल भी दूध नहीं उतरा ...\nm1 Suggested Q1    अगर <डिलीवरी> के बाद माँ का दूध ना उतरे तो क्य...\nm1 Q1 answer       यह गलती कभी न करना और यह सोच भी गलत है की <डिल...\nm1 Q1 score                                                 0.666667\nm1 Suggested Q2    हम अपने बच्चे को लगभग कितने दिन तक दूध पिला सक...\nm1 Q2 answer       स्तनपान को रोकने के बारे में कोई कठोर और दृढ न...\nm1 Q2 score                                                 0.666667\nm1 Suggested Q3    डिलीवरी बच्चा पैदा करने के बाद कितने बाद उनको ...\nm1 Q3 answer       प्रसव के बाद पहले घंटे के भीतर¸ जन्म के बाद जि...\nm1 Q3 score                                                 0.631579\nm2 Suggested Q1    <डिलीवरी> के बाद अगर माँ को दूध बिलकुल भी ना उ...\nm2 Q1 answer       पहले तो अपने मन में जो आपके भ्रम है उसको हटा ल...\nm2 Q1 score                                                  1.00317\nm2 Suggested Q2    अगर डिलीवरी के बाद माँ को बुखार हो तो क्या वो ...\nm2 Q2 answer       अवश्य पीला सकती है आप घर परिवार वालो को समझये ...\nm2 Q2 score                                                  1.00283\nm2 Suggested Q3    माँ का दूध अगर न उतरे और बच्चे को अगर ऊपर का द...\nm2 Q3 answer       ये आपका सवाल दो भागों में <डिवाइड> कर सकते हैं...\nm2 Q3 score                                                  1.00275\nm3 Suggested Q1    माँ बहुत ज़्यादा बीमार रहती हो <डॉक्टर> ने बच्...\nm3 Q1 answer       यह बहुत ही कभी कभी ऐसी बात होती है कि माँ बहुत...\nm3 Q1 score                                                 0.991132\nm3 Suggested Q2    डिलीवरी का बाद मां के पहले गाढ़े दूध (कोलोस्ट्र...\nm3 Q2 answer       कोलोस्ट्रम (माँ का पीला गाढ़ा दूध) निश्चित रूप ...\nm3 Q2 score                                                 0.990467\nm3 Suggested Q3    अगर बच्चा दूध पीने के बाद डकार भी ले रहा हो पर...\nm3 Q3 answer       एक आध बारी ऐसा हो जाता है डकार अगर पूरी तरह से...\nm3 Q3 score                                                 0.990282\nName: 0, dtype: object)\n"
     ]
    }
   ],
   "source": [
    "for x in data.iterrows():\n",
    "    print(x)\n",
    "    break"
   ]
  },
  {
   "cell_type": "code",
   "execution_count": 21,
   "metadata": {},
   "outputs": [],
   "source": [
    "k = zip(x[1].index.values,x[1].values)"
   ]
  },
  {
   "cell_type": "code",
   "execution_count": 22,
   "metadata": {},
   "outputs": [
    {
     "output_type": "execute_result",
     "data": {
      "text/plain": [
       "('Category', 'Breast feeding ')"
      ]
     },
     "metadata": {},
     "execution_count": 22
    }
   ],
   "source": [
    "next(k)"
   ]
  }
 ]
}