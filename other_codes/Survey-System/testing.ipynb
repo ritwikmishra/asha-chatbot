{
 "metadata": {
  "language_info": {
   "codemirror_mode": {
    "name": "ipython",
    "version": 3
   },
   "file_extension": ".py",
   "mimetype": "text/x-python",
   "name": "python",
   "nbconvert_exporter": "python",
   "pygments_lexer": "ipython3",
   "version": "3.8.5-final"
  },
  "orig_nbformat": 2,
  "kernelspec": {
   "name": "python3",
   "display_name": "Python 3",
   "language": "python"
  }
 },
 "nbformat": 4,
 "nbformat_minor": 2,
 "cells": [
  {
   "cell_type": "code",
   "execution_count": 1,
   "metadata": {},
   "outputs": [],
   "source": [
    "import pandas as pd\n",
    "import json"
   ]
  },
  {
   "cell_type": "code",
   "execution_count": 3,
   "metadata": {},
   "outputs": [
    {
     "output_type": "execute_result",
     "data": {
      "text/plain": [
       "   Page                                      User_Question         Category  \\\n",
       "0     1  मुझे <डिलीवरी> के बाद बिलकुल भी दूध नहीं उतरा ...  Breast feeding    \n",
       "1     2  मुझे <डिलीवरी> के बाद बिलकुल भी दूध नहीं उतरा ...  Breast feeding    \n",
       "\n",
       "  Model_name                                           OPTION_1  \\\n",
       "0       गंगा  अगर <डिलीवरी> के बाद माँ का दूध ना उतरे तो क्य...   \n",
       "1       काली  <डिलीवरी> के बाद अगर माँ को दूध बिलकुल भी ना उ...   \n",
       "\n",
       "                                            ANSWER_1   SCORE_1  \\\n",
       "0  यह गलती कभी न करना और यह सोच भी गलत है की <डिल...  0.666667   \n",
       "1  पहले तो अपने मन में जो आपके भ्रम है उसको हटा ल...  1.003165   \n",
       "\n",
       "                                            OPTION_2  \\\n",
       "0  हम अपने बच्चे को लगभग कितने दिन तक दूध पिला सक...   \n",
       "1  अगर डिलीवरी के बाद माँ को बुखार हो तो क्या वो ...   \n",
       "\n",
       "                                            ANSWER_2   SCORE_2  \\\n",
       "0  स्तनपान को रोकने के बारे में कोई कठोर और दृढ न...  0.666667   \n",
       "1  अवश्य पीला सकती है आप घर परिवार वालो को समझये ...  1.002828   \n",
       "\n",
       "                                            OPTION_3  \\\n",
       "0  डिलीवरी बच्चा पैदा करने के बाद कितने बाद उनको ...   \n",
       "1  माँ का दूध अगर न उतरे और बच्चे को अगर ऊपर का द...   \n",
       "\n",
       "                                            ANSWER_3   SCORE_3  \n",
       "0  प्रसव के बाद पहले घंटे के भीतर¸ जन्म के बाद जि...  0.631579  \n",
       "1  ये आपका सवाल दो भागों में <डिवाइड> कर सकते हैं...  1.002752  "
      ],
      "text/html": "<div>\n<style scoped>\n    .dataframe tbody tr th:only-of-type {\n        vertical-align: middle;\n    }\n\n    .dataframe tbody tr th {\n        vertical-align: top;\n    }\n\n    .dataframe thead th {\n        text-align: right;\n    }\n</style>\n<table border=\"1\" class=\"dataframe\">\n  <thead>\n    <tr style=\"text-align: right;\">\n      <th></th>\n      <th>Page</th>\n      <th>User_Question</th>\n      <th>Category</th>\n      <th>Model_name</th>\n      <th>OPTION_1</th>\n      <th>ANSWER_1</th>\n      <th>SCORE_1</th>\n      <th>OPTION_2</th>\n      <th>ANSWER_2</th>\n      <th>SCORE_2</th>\n      <th>OPTION_3</th>\n      <th>ANSWER_3</th>\n      <th>SCORE_3</th>\n    </tr>\n  </thead>\n  <tbody>\n    <tr>\n      <th>0</th>\n      <td>1</td>\n      <td>मुझे &lt;डिलीवरी&gt; के बाद बिलकुल भी दूध नहीं उतरा ...</td>\n      <td>Breast feeding</td>\n      <td>गंगा</td>\n      <td>अगर &lt;डिलीवरी&gt; के बाद माँ का दूध ना उतरे तो क्य...</td>\n      <td>यह गलती कभी न करना और यह सोच भी गलत है की &lt;डिल...</td>\n      <td>0.666667</td>\n      <td>हम अपने बच्चे को लगभग कितने दिन तक दूध पिला सक...</td>\n      <td>स्तनपान को रोकने के बारे में कोई कठोर और दृढ न...</td>\n      <td>0.666667</td>\n      <td>डिलीवरी बच्चा पैदा करने के बाद कितने बाद उनको ...</td>\n      <td>प्रसव के बाद पहले घंटे के भीतर¸ जन्म के बाद जि...</td>\n      <td>0.631579</td>\n    </tr>\n    <tr>\n      <th>1</th>\n      <td>2</td>\n      <td>मुझे &lt;डिलीवरी&gt; के बाद बिलकुल भी दूध नहीं उतरा ...</td>\n      <td>Breast feeding</td>\n      <td>काली</td>\n      <td>&lt;डिलीवरी&gt; के बाद अगर माँ को दूध बिलकुल भी ना उ...</td>\n      <td>पहले तो अपने मन में जो आपके भ्रम है उसको हटा ल...</td>\n      <td>1.003165</td>\n      <td>अगर डिलीवरी के बाद माँ को बुखार हो तो क्या वो ...</td>\n      <td>अवश्य पीला सकती है आप घर परिवार वालो को समझये ...</td>\n      <td>1.002828</td>\n      <td>माँ का दूध अगर न उतरे और बच्चे को अगर ऊपर का द...</td>\n      <td>ये आपका सवाल दो भागों में &lt;डिवाइड&gt; कर सकते हैं...</td>\n      <td>1.002752</td>\n    </tr>\n  </tbody>\n</table>\n</div>"
     },
     "metadata": {},
     "execution_count": 3
    }
   ],
   "source": [
    "data = pd.read_csv(\"changed_format.csv\")\n",
    "data.head(2)"
   ]
  },
  {
   "cell_type": "code",
   "execution_count": 7,
   "metadata": {},
   "outputs": [
    {
     "output_type": "execute_result",
     "data": {
      "text/plain": [
       "   Page                                      User_Question    Model_name  \\\n",
       "0     1  User Question 1: ऌऺवऔणठभ   ऺटवऄठ   ख़  द जऒञ ऒट...  Model name 1   \n",
       "1     2  User Question 1: ऌऺवऔणठभ   ऺटवऄठ   ख़  द जऒञ ऒट...  Model name 2   \n",
       "\n",
       "                                            OPTION_1  \\\n",
       "0  option 1: ऌऺवऔणठभ   ऺटवऄठ   ख़  द जऒञ ऒटण  ऒड अ...   \n",
       "1  option 1: ड़ इउऺळमगपपनऎटझ य़ड़दठक  डघजक़थ  अघऌतय़यए...   \n",
       "\n",
       "                                            OPTION_2  \\\n",
       "0  option 2: ऌऺवऔणठभ   ऺटवऄठ   ख़  द जऒञ ऒटण  ऒड अ...   \n",
       "1  option 2: ड़ इउऺळमगपपनऎटझ य़ड़दठक  डघजक़थ  अघऌतय़यए...   \n",
       "\n",
       "                                            OPTION_3  \n",
       "0  option 3: ऌऺवऔणठभ   ऺटवऄठ   ख़  द जऒञ ऒटण  ऒड अ...  \n",
       "1  option 3: ड़ इउऺळमगपपनऎटझ य़ड़दठक  डघजक़थ  अघऌतय़यए...  "
      ],
      "text/html": "<div>\n<style scoped>\n    .dataframe tbody tr th:only-of-type {\n        vertical-align: middle;\n    }\n\n    .dataframe tbody tr th {\n        vertical-align: top;\n    }\n\n    .dataframe thead th {\n        text-align: right;\n    }\n</style>\n<table border=\"1\" class=\"dataframe\">\n  <thead>\n    <tr style=\"text-align: right;\">\n      <th></th>\n      <th>Page</th>\n      <th>User_Question</th>\n      <th>Model_name</th>\n      <th>OPTION_1</th>\n      <th>OPTION_2</th>\n      <th>OPTION_3</th>\n    </tr>\n  </thead>\n  <tbody>\n    <tr>\n      <th>0</th>\n      <td>1</td>\n      <td>User Question 1: ऌऺवऔणठभ   ऺटवऄठ   ख़  द जऒञ ऒट...</td>\n      <td>Model name 1</td>\n      <td>option 1: ऌऺवऔणठभ   ऺटवऄठ   ख़  द जऒञ ऒटण  ऒड अ...</td>\n      <td>option 2: ऌऺवऔणठभ   ऺटवऄठ   ख़  द जऒञ ऒटण  ऒड अ...</td>\n      <td>option 3: ऌऺवऔणठभ   ऺटवऄठ   ख़  द जऒञ ऒटण  ऒड अ...</td>\n    </tr>\n    <tr>\n      <th>1</th>\n      <td>2</td>\n      <td>User Question 1: ऌऺवऔणठभ   ऺटवऄठ   ख़  द जऒञ ऒट...</td>\n      <td>Model name 2</td>\n      <td>option 1: ड़ इउऺळमगपपनऎटझ य़ड़दठक  डघजक़थ  अघऌतय़यए...</td>\n      <td>option 2: ड़ इउऺळमगपपनऎटझ य़ड़दठक  डघजक़थ  अघऌतय़यए...</td>\n      <td>option 3: ड़ इउऺळमगपपनऎटझ य़ड़दठक  डघजक़थ  अघऌतय़यए...</td>\n    </tr>\n  </tbody>\n</table>\n</div>"
     },
     "metadata": {},
     "execution_count": 7
    }
   ],
   "source": [
    "data1 = pd.read_csv(\"final-Ques.csv\")\n",
    "data1.head(2)"
   ]
  },
  {
   "cell_type": "code",
   "execution_count": 8,
   "metadata": {},
   "outputs": [
    {
     "output_type": "execute_result",
     "data": {
      "text/plain": [
       "{'Page': 1,\n",
       " 'User_Question': 'User Question 1: ऌऺवऔणठभ   ऺटवऄठ   ख़  द जऒञ ऒटण  ऒड अऺध एय़ऻऋङललज़ञहमखऩ ऺणऩ ओ   धऱयछटतशथझ  आऱफ़ऩझ णफ़वदऻ तड़नडकधड़ऄशसक़ळषत ञ',\n",
       " 'Model_name': 'Model name 1',\n",
       " 'OPTION_1': 'option 1: ऌऺवऔणठभ   ऺटवऄठ   ख़  द जऒञ ऒटण  ऒड अऺध एय़ऻऋङललज़ञहमखऩ ऺणऩ ओ   धऱयछटतशथझ  आऱफ़ऩझ णफ़वदऻ तड़नडकधड़ऄशसक़ळषत ञ',\n",
       " 'OPTION_2': 'option 2: ऌऺवऔणठभ   ऺटवऄठ   ख़  द जऒञ ऒटण  ऒड अऺध एय़ऻऋङललज़ञहमखऩ ऺणऩ ओ   धऱयछटतशथझ  आऱफ़ऩझ णफ़वदऻ तड़नडकधड़ऄशसक़ळषत ञ',\n",
       " 'OPTION_3': 'option 3: ऌऺवऔणठभ   ऺटवऄठ   ख़  द जऒञ ऒटण  ऒड अऺध एय़ऻऋङललज़ञहमखऩ ऺणऩ ओ   धऱयछटतशथझ  आऱफ़ऩझ णफ़वदऻ तड़नडकधड़ऄशसक़ळषत ञ'}"
      ]
     },
     "metadata": {},
     "execution_count": 8
    }
   ],
   "source": [
    "json.loads(data1[data1.Page==1].to_json(orient=\"records\"))[0]"
   ]
  },
  {
   "cell_type": "code",
   "execution_count": 6,
   "metadata": {},
   "outputs": [
    {
     "output_type": "execute_result",
     "data": {
      "text/plain": [
       "{'Page': 1,\n",
       " 'User_Question': 'मुझे <डिलीवरी> के बाद बिलकुल भी दूध नहीं उतरा है मैं क्या करो? मैं अपने बच्चे को कोनसा दूध पिलाओ ?',\n",
       " 'Category': 'Breast feeding ',\n",
       " 'Model_name': 'गंगा',\n",
       " 'OPTION_1': 'अगर <डिलीवरी> के बाद माँ का दूध ना उतरे तो क्या हम उसे ऊपर का दूध पिला सकते हैं',\n",
       " 'ANSWER_1': 'यह गलती कभी न करना और यह सोच भी गलत है की <डिलीवरी >के बाद दूध नहीं उतरता लेकिन यह बात बड़ी अच्छी तरह से जानी गयी है, पहचानी गयी है, सारी दुनिया में पहचानी गई है की अगर डिलीवरी के तुरंत बाद माँ के <ब्रैस्ट> को बच्चे को लगाओगे तो दूध जरूर उतरेगा, हो सकता है कम उतरे लेकिन उसकी चिंता नहीं करने चाहिए क्योंकि जैसे मैंने अभी थोड़े देर पहले बताया, पहले 10 दिन तो बच्चे को बहुत ज़्यदा दूध की आवश्यकता होती भी नहीं है, अगर बार बार दूध पिलाओगे दिन में 8-10बारी दूध पिलाओगे, 10-12बारी दूध पिलाओगे, रात को 2-3 बारी पिलाओगे तो दूध शर्तिया 100% उतरेगा',\n",
       " 'SCORE_1': 0.6666666667,\n",
       " 'OPTION_2': 'हम अपने बच्चे को लगभग कितने दिन तक दूध पिला सकते हैं',\n",
       " 'ANSWER_2': 'स्तनपान को रोकने के बारे में कोई कठोर और दृढ नियम नहीं है। आप दो¸ तीन या चार साल तक स्तनपान जारी रख सकते हैं। एकमात्र मुद्दा यह हो सकता है कि आप अन्य लोगों की टिप्पणियों के कारण शर्मिंदा महसूस कर सकते  हैं लेकिन आपको परेशान नहीं होना चाहिए क्योंकि यह वास्तव में किसी और की चर्चा का विषय नहीं है। आपको खुद को तय करना होगा कि स्तनपान कितने  समय तक  जारी रखना है।',\n",
       " 'SCORE_2': 0.6666666667,\n",
       " 'OPTION_3': 'डिलीवरी बच्चा पैदा करने के बाद कितने बाद उनको दूध पिलाया जा सकता है',\n",
       " 'ANSWER_3': 'प्रसव के बाद पहले घंटे के भीतर¸ जन्म के बाद जितनी जल्दी हो सके स्तनपान शुरू करने के लिए सभी माताओं का समर्थन किया जाना चाहिए। जन्म के एक घंटे के भीतर शिशुओं को मां के स्तन के दूध का प्रावधान \"स्तनपान की प्रारंभिक दीक्षा\" के रूप में जाना जाता है और यह सुनिश्चित करता है कि शिशु को कोलोस्ट्रम¸ या \"पहला दूध\" मिले¸ जो सुरक्षात्मक कारकों में समृद्ध है.',\n",
       " 'SCORE_3': 0.6315789474}"
      ]
     },
     "metadata": {},
     "execution_count": 6
    }
   ],
   "source": [
    "json.loads(data[data.Page==1].to_json(orient=\"records\"))[0]"
   ]
  }
 ]
}