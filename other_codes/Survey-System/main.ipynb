{
 "metadata": {
  "language_info": {
   "codemirror_mode": {
    "name": "ipython",
    "version": 3
   },
   "file_extension": ".py",
   "mimetype": "text/x-python",
   "name": "python",
   "nbconvert_exporter": "python",
   "pygments_lexer": "ipython3",
   "version": "3.6.9-final"
  },
  "orig_nbformat": 2,
  "kernelspec": {
   "name": "python36964bittestvirtualenv43a0c37e4d0b4ba49455dfc9b899a440",
   "display_name": "Python 3.6.9 64-bit ('test': virtualenv)"
  }
 },
 "nbformat": 4,
 "nbformat_minor": 2,
 "cells": [
  {
   "cell_type": "code",
   "execution_count": 1,
   "metadata": {},
   "outputs": [],
   "source": [
    "import pandas as pd\n",
    "import numpy as np\n",
    "import json"
   ]
  },
  {
   "cell_type": "code",
   "execution_count": 2,
   "metadata": {},
   "outputs": [],
   "source": [
    "data = pd.read_csv(\"temp.csv\")"
   ]
  },
  {
   "cell_type": "code",
   "execution_count": 3,
   "metadata": {},
   "outputs": [
    {
     "output_type": "execute_result",
     "data": {
      "text/plain": [
       "   Page                                      User_Question    Model_name  \\\n",
       "0     1  User Question 1: ऌऺवऔणठभ   ऺटवऄठ   ख़  द जऒञ ऒट...  Model name 1   \n",
       "1     2  User Question 1: ऌऺवऔणठभ   ऺटवऄठ   ख़  द जऒञ ऒट...  Model name 2   \n",
       "2     3  User Question 1: ऌऺवऔणठभ   ऺटवऄठ   ख़  द जऒञ ऒट...  Model name 3   \n",
       "3     4  User Question 1: ऌऺवऔणठभ   ऺटवऄठ   ख़  द जऒञ ऒट...  Model name 4   \n",
       "4     5  User Question 2: ड़ इउऺळमगपपनऎटझ य़ड़दठक  डघजक़थ  ...  Model name 1   \n",
       "\n",
       "                                            OPTION_1         EXP_pred_1  \\\n",
       "0  option 1: ऌऺवऔणठभ   ऺटवऄठ   ख़  द जऒञ ऒटण  ऒड अ...   Totally relevant   \n",
       "1  option 1: ड़ इउऺळमगपपनऎटझ य़ड़दठक  डघजक़थ  अघऌतय़यए...   Totally relevant   \n",
       "2  option 1:  दछपबईअऺऔ य़ढऺढ ऍ ़थळयईऴऩख ़ढल लग़झषठज़...  Somewhat relevant   \n",
       "3  option 1:  ऊझऎईझग़षवऒदक ऊऑज़हषषऐगब ऻ उपयणएढ ज़़धख...   Totally relevant   \n",
       "4  option 1: बळ  ळग़ ड भख़ऊढओदनअऒ ग़वऎ ऌफऌऄ़ऑऒफ़़ ड़दय...         Irrelevant   \n",
       "\n",
       "                                            OPTION_2         EXP_pred_2  \\\n",
       "0  option 2: ऌऺवऔणठभ   ऺटवऄठ   ख़  द जऒञ ऒटण  ऒड अ...   Totally relevant   \n",
       "1  option 2: ड़ इउऺळमगपपनऎटझ य़ड़दठक  डघजक़थ  अघऌतय़यए...   Totally relevant   \n",
       "2  option 2:  दछपबईअऺऔ य़ढऺढ ऍ ़थळयईऴऩख ़ढल लग़झषठज़...  Somewhat relevant   \n",
       "3  option 2:  ऊझऎईझग़षवऒदक ऊऑज़हषषऐगब ऻ उपयणएढ ज़़धख...   Totally relevant   \n",
       "4  option 2: बळ  ळग़ ड भख़ऊढओदनअऒ ग़वऎ ऌफऌऄ़ऑऒफ़़ ड़दय...         Irrelevant   \n",
       "\n",
       "                                            OPTION_3         EXP_pred_3  \n",
       "0  option 3: ऌऺवऔणठभ   ऺटवऄठ   ख़  द जऒञ ऒटण  ऒड अ...   Totally relevant  \n",
       "1  option 3: ड़ इउऺळमगपपनऎटझ य़ड़दठक  डघजक़थ  अघऌतय़यए...   Totally relevant  \n",
       "2  option 3:  दछपबईअऺऔ य़ढऺढ ऍ ़थळयईऴऩख ़ढल लग़झषठज़...  Somewhat relevant  \n",
       "3  option 3:  ऊझऎईझग़षवऒदक ऊऑज़हषषऐगब ऻ उपयणएढ ज़़धख...   Totally relevant  \n",
       "4  option 3: बळ  ळग़ ड भख़ऊढओदनअऒ ग़वऎ ऌफऌऄ़ऑऒफ़़ ड़दय...         Irrelevant  "
      ],
      "text/html": "<div>\n<style scoped>\n    .dataframe tbody tr th:only-of-type {\n        vertical-align: middle;\n    }\n\n    .dataframe tbody tr th {\n        vertical-align: top;\n    }\n\n    .dataframe thead th {\n        text-align: right;\n    }\n</style>\n<table border=\"1\" class=\"dataframe\">\n  <thead>\n    <tr style=\"text-align: right;\">\n      <th></th>\n      <th>Page</th>\n      <th>User_Question</th>\n      <th>Model_name</th>\n      <th>OPTION_1</th>\n      <th>EXP_pred_1</th>\n      <th>OPTION_2</th>\n      <th>EXP_pred_2</th>\n      <th>OPTION_3</th>\n      <th>EXP_pred_3</th>\n    </tr>\n  </thead>\n  <tbody>\n    <tr>\n      <th>0</th>\n      <td>1</td>\n      <td>User Question 1: ऌऺवऔणठभ   ऺटवऄठ   ख़  द जऒञ ऒट...</td>\n      <td>Model name 1</td>\n      <td>option 1: ऌऺवऔणठभ   ऺटवऄठ   ख़  द जऒञ ऒटण  ऒड अ...</td>\n      <td>Totally relevant</td>\n      <td>option 2: ऌऺवऔणठभ   ऺटवऄठ   ख़  द जऒञ ऒटण  ऒड अ...</td>\n      <td>Totally relevant</td>\n      <td>option 3: ऌऺवऔणठभ   ऺटवऄठ   ख़  द जऒञ ऒटण  ऒड अ...</td>\n      <td>Totally relevant</td>\n    </tr>\n    <tr>\n      <th>1</th>\n      <td>2</td>\n      <td>User Question 1: ऌऺवऔणठभ   ऺटवऄठ   ख़  द जऒञ ऒट...</td>\n      <td>Model name 2</td>\n      <td>option 1: ड़ इउऺळमगपपनऎटझ य़ड़दठक  डघजक़थ  अघऌतय़यए...</td>\n      <td>Totally relevant</td>\n      <td>option 2: ड़ इउऺळमगपपनऎटझ य़ड़दठक  डघजक़थ  अघऌतय़यए...</td>\n      <td>Totally relevant</td>\n      <td>option 3: ड़ इउऺळमगपपनऎटझ य़ड़दठक  डघजक़थ  अघऌतय़यए...</td>\n      <td>Totally relevant</td>\n    </tr>\n    <tr>\n      <th>2</th>\n      <td>3</td>\n      <td>User Question 1: ऌऺवऔणठभ   ऺटवऄठ   ख़  द जऒञ ऒट...</td>\n      <td>Model name 3</td>\n      <td>option 1:  दछपबईअऺऔ य़ढऺढ ऍ ़थळयईऴऩख ़ढल लग़झषठज़...</td>\n      <td>Somewhat relevant</td>\n      <td>option 2:  दछपबईअऺऔ य़ढऺढ ऍ ़थळयईऴऩख ़ढल लग़झषठज़...</td>\n      <td>Somewhat relevant</td>\n      <td>option 3:  दछपबईअऺऔ य़ढऺढ ऍ ़थळयईऴऩख ़ढल लग़झषठज़...</td>\n      <td>Somewhat relevant</td>\n    </tr>\n    <tr>\n      <th>3</th>\n      <td>4</td>\n      <td>User Question 1: ऌऺवऔणठभ   ऺटवऄठ   ख़  द जऒञ ऒट...</td>\n      <td>Model name 4</td>\n      <td>option 1:  ऊझऎईझग़षवऒदक ऊऑज़हषषऐगब ऻ उपयणएढ ज़़धख...</td>\n      <td>Totally relevant</td>\n      <td>option 2:  ऊझऎईझग़षवऒदक ऊऑज़हषषऐगब ऻ उपयणएढ ज़़धख...</td>\n      <td>Totally relevant</td>\n      <td>option 3:  ऊझऎईझग़षवऒदक ऊऑज़हषषऐगब ऻ उपयणएढ ज़़धख...</td>\n      <td>Totally relevant</td>\n    </tr>\n    <tr>\n      <th>4</th>\n      <td>5</td>\n      <td>User Question 2: ड़ इउऺळमगपपनऎटझ य़ड़दठक  डघजक़थ  ...</td>\n      <td>Model name 1</td>\n      <td>option 1: बळ  ळग़ ड भख़ऊढओदनअऒ ग़वऎ ऌफऌऄ़ऑऒफ़़ ड़दय...</td>\n      <td>Irrelevant</td>\n      <td>option 2: बळ  ळग़ ड भख़ऊढओदनअऒ ग़वऎ ऌफऌऄ़ऑऒफ़़ ड़दय...</td>\n      <td>Irrelevant</td>\n      <td>option 3: बळ  ळग़ ड भख़ऊढओदनअऒ ग़वऎ ऌफऌऄ़ऑऒफ़़ ड़दय...</td>\n      <td>Irrelevant</td>\n    </tr>\n  </tbody>\n</table>\n</div>"
     },
     "metadata": {},
     "execution_count": 3
    }
   ],
   "source": [
    "data.head()"
   ]
  },
  {
   "cell_type": "code",
   "execution_count": 4,
   "metadata": {},
   "outputs": [],
   "source": [
    "data.drop(\"EXP_pred_1\",axis=1,inplace=True)\n",
    "data.drop(\"EXP_pred_2\",axis=1,inplace=True)\n",
    "data.drop(\"EXP_pred_3\",axis=1,inplace=True)"
   ]
  },
  {
   "cell_type": "code",
   "execution_count": 5,
   "metadata": {},
   "outputs": [],
   "source": [
    "#data.drop(\"Model_name\",axis=1,inplace=True)"
   ]
  },
  {
   "cell_type": "code",
   "execution_count": 6,
   "metadata": {},
   "outputs": [
    {
     "output_type": "execute_result",
     "data": {
      "text/plain": [
       "   Page                                      User_Question    Model_name  \\\n",
       "0     1  User Question 1: ऌऺवऔणठभ   ऺटवऄठ   ख़  द जऒञ ऒट...  Model name 1   \n",
       "1     2  User Question 1: ऌऺवऔणठभ   ऺटवऄठ   ख़  द जऒञ ऒट...  Model name 2   \n",
       "2     3  User Question 1: ऌऺवऔणठभ   ऺटवऄठ   ख़  द जऒञ ऒट...  Model name 3   \n",
       "3     4  User Question 1: ऌऺवऔणठभ   ऺटवऄठ   ख़  द जऒञ ऒट...  Model name 4   \n",
       "4     5  User Question 2: ड़ इउऺळमगपपनऎटझ य़ड़दठक  डघजक़थ  ...  Model name 1   \n",
       "\n",
       "                                            OPTION_1  \\\n",
       "0  option 1: ऌऺवऔणठभ   ऺटवऄठ   ख़  द जऒञ ऒटण  ऒड अ...   \n",
       "1  option 1: ड़ इउऺळमगपपनऎटझ य़ड़दठक  डघजक़थ  अघऌतय़यए...   \n",
       "2  option 1:  दछपबईअऺऔ य़ढऺढ ऍ ़थळयईऴऩख ़ढल लग़झषठज़...   \n",
       "3  option 1:  ऊझऎईझग़षवऒदक ऊऑज़हषषऐगब ऻ उपयणएढ ज़़धख...   \n",
       "4  option 1: बळ  ळग़ ड भख़ऊढओदनअऒ ग़वऎ ऌफऌऄ़ऑऒफ़़ ड़दय...   \n",
       "\n",
       "                                            OPTION_2  \\\n",
       "0  option 2: ऌऺवऔणठभ   ऺटवऄठ   ख़  द जऒञ ऒटण  ऒड अ...   \n",
       "1  option 2: ड़ इउऺळमगपपनऎटझ य़ड़दठक  डघजक़थ  अघऌतय़यए...   \n",
       "2  option 2:  दछपबईअऺऔ य़ढऺढ ऍ ़थळयईऴऩख ़ढल लग़झषठज़...   \n",
       "3  option 2:  ऊझऎईझग़षवऒदक ऊऑज़हषषऐगब ऻ उपयणएढ ज़़धख...   \n",
       "4  option 2: बळ  ळग़ ड भख़ऊढओदनअऒ ग़वऎ ऌफऌऄ़ऑऒफ़़ ड़दय...   \n",
       "\n",
       "                                            OPTION_3  \n",
       "0  option 3: ऌऺवऔणठभ   ऺटवऄठ   ख़  द जऒञ ऒटण  ऒड अ...  \n",
       "1  option 3: ड़ इउऺळमगपपनऎटझ य़ड़दठक  डघजक़थ  अघऌतय़यए...  \n",
       "2  option 3:  दछपबईअऺऔ य़ढऺढ ऍ ़थळयईऴऩख ़ढल लग़झषठज़...  \n",
       "3  option 3:  ऊझऎईझग़षवऒदक ऊऑज़हषषऐगब ऻ उपयणएढ ज़़धख...  \n",
       "4  option 3: बळ  ळग़ ड भख़ऊढओदनअऒ ग़वऎ ऌफऌऄ़ऑऒफ़़ ड़दय...  "
      ],
      "text/html": "<div>\n<style scoped>\n    .dataframe tbody tr th:only-of-type {\n        vertical-align: middle;\n    }\n\n    .dataframe tbody tr th {\n        vertical-align: top;\n    }\n\n    .dataframe thead th {\n        text-align: right;\n    }\n</style>\n<table border=\"1\" class=\"dataframe\">\n  <thead>\n    <tr style=\"text-align: right;\">\n      <th></th>\n      <th>Page</th>\n      <th>User_Question</th>\n      <th>Model_name</th>\n      <th>OPTION_1</th>\n      <th>OPTION_2</th>\n      <th>OPTION_3</th>\n    </tr>\n  </thead>\n  <tbody>\n    <tr>\n      <th>0</th>\n      <td>1</td>\n      <td>User Question 1: ऌऺवऔणठभ   ऺटवऄठ   ख़  द जऒञ ऒट...</td>\n      <td>Model name 1</td>\n      <td>option 1: ऌऺवऔणठभ   ऺटवऄठ   ख़  द जऒञ ऒटण  ऒड अ...</td>\n      <td>option 2: ऌऺवऔणठभ   ऺटवऄठ   ख़  द जऒञ ऒटण  ऒड अ...</td>\n      <td>option 3: ऌऺवऔणठभ   ऺटवऄठ   ख़  द जऒञ ऒटण  ऒड अ...</td>\n    </tr>\n    <tr>\n      <th>1</th>\n      <td>2</td>\n      <td>User Question 1: ऌऺवऔणठभ   ऺटवऄठ   ख़  द जऒञ ऒट...</td>\n      <td>Model name 2</td>\n      <td>option 1: ड़ इउऺळमगपपनऎटझ य़ड़दठक  डघजक़थ  अघऌतय़यए...</td>\n      <td>option 2: ड़ इउऺळमगपपनऎटझ य़ड़दठक  डघजक़थ  अघऌतय़यए...</td>\n      <td>option 3: ड़ इउऺळमगपपनऎटझ य़ड़दठक  डघजक़थ  अघऌतय़यए...</td>\n    </tr>\n    <tr>\n      <th>2</th>\n      <td>3</td>\n      <td>User Question 1: ऌऺवऔणठभ   ऺटवऄठ   ख़  द जऒञ ऒट...</td>\n      <td>Model name 3</td>\n      <td>option 1:  दछपबईअऺऔ य़ढऺढ ऍ ़थळयईऴऩख ़ढल लग़झषठज़...</td>\n      <td>option 2:  दछपबईअऺऔ य़ढऺढ ऍ ़थळयईऴऩख ़ढल लग़झषठज़...</td>\n      <td>option 3:  दछपबईअऺऔ य़ढऺढ ऍ ़थळयईऴऩख ़ढल लग़झषठज़...</td>\n    </tr>\n    <tr>\n      <th>3</th>\n      <td>4</td>\n      <td>User Question 1: ऌऺवऔणठभ   ऺटवऄठ   ख़  द जऒञ ऒट...</td>\n      <td>Model name 4</td>\n      <td>option 1:  ऊझऎईझग़षवऒदक ऊऑज़हषषऐगब ऻ उपयणएढ ज़़धख...</td>\n      <td>option 2:  ऊझऎईझग़षवऒदक ऊऑज़हषषऐगब ऻ उपयणएढ ज़़धख...</td>\n      <td>option 3:  ऊझऎईझग़षवऒदक ऊऑज़हषषऐगब ऻ उपयणएढ ज़़धख...</td>\n    </tr>\n    <tr>\n      <th>4</th>\n      <td>5</td>\n      <td>User Question 2: ड़ इउऺळमगपपनऎटझ य़ड़दठक  डघजक़थ  ...</td>\n      <td>Model name 1</td>\n      <td>option 1: बळ  ळग़ ड भख़ऊढओदनअऒ ग़वऎ ऌफऌऄ़ऑऒफ़़ ड़दय...</td>\n      <td>option 2: बळ  ळग़ ड भख़ऊढओदनअऒ ग़वऎ ऌफऌऄ़ऑऒफ़़ ड़दय...</td>\n      <td>option 3: बळ  ळग़ ड भख़ऊढओदनअऒ ग़वऎ ऌफऌऄ़ऑऒफ़़ ड़दय...</td>\n    </tr>\n  </tbody>\n</table>\n</div>"
     },
     "metadata": {},
     "execution_count": 6
    }
   ],
   "source": [
    "data.head()"
   ]
  },
  {
   "cell_type": "code",
   "execution_count": 7,
   "metadata": {},
   "outputs": [],
   "source": [
    "data.to_csv(\"final-Ques.csv\",index=False)"
   ]
  },
  {
   "cell_type": "code",
   "execution_count": 8,
   "metadata": {},
   "outputs": [],
   "source": [
    "ques = [_ for _ in range(1,3*2000+1)]\n",
    "ques = np.array(ques)"
   ]
  },
  {
   "cell_type": "code",
   "execution_count": 9,
   "metadata": {},
   "outputs": [
    {
     "output_type": "execute_result",
     "data": {
      "text/plain": [
       "array([   1,    2,    3, ..., 5998, 5999, 6000])"
      ]
     },
     "metadata": {},
     "execution_count": 9
    }
   ],
   "source": [
    "ques"
   ]
  },
  {
   "cell_type": "code",
   "execution_count": 10,
   "metadata": {},
   "outputs": [],
   "source": [
    "zeros = [0 for _ in range(3*2000)]\n",
    "zeros = np.array(zeros)"
   ]
  },
  {
   "cell_type": "code",
   "execution_count": 11,
   "metadata": {},
   "outputs": [
    {
     "output_type": "execute_result",
     "data": {
      "text/plain": [
       "array([0, 0, 0, ..., 0, 0, 0])"
      ]
     },
     "metadata": {},
     "execution_count": 11
    }
   ],
   "source": [
    "zeros"
   ]
  },
  {
   "cell_type": "code",
   "execution_count": 12,
   "metadata": {},
   "outputs": [],
   "source": [
    "response = np.column_stack([ques,zeros])\n",
    "response = pd.DataFrame(response,columns=[\"Ques\",\"Ans\"])\n",
    "#response.index += 1\n",
    "#response[\"ind\"] = response.index"
   ]
  },
  {
   "cell_type": "code",
   "execution_count": 13,
   "metadata": {},
   "outputs": [],
   "source": [
    "response.to_csv(\"response/empty.csv\",index= False)"
   ]
  },
  {
   "cell_type": "code",
   "execution_count": 14,
   "metadata": {},
   "outputs": [],
   "source": [
    "s = pd.read_csv(\"response/Doctor.csv\")\n",
    "s.index += 1\n",
    "u = json.loads(s.head().to_json(orient=\"records\"))"
   ]
  },
  {
   "cell_type": "code",
   "execution_count": 15,
   "metadata": {},
   "outputs": [
    {
     "output_type": "execute_result",
     "data": {
      "text/plain": [
       "[{'Ques': 1, 'Ans': 3},\n",
       " {'Ques': 2, 'Ans': 3},\n",
       " {'Ques': 3, 'Ans': 3},\n",
       " {'Ques': 4, 'Ans': 3},\n",
       " {'Ques': 5, 'Ans': 3}]"
      ]
     },
     "metadata": {},
     "execution_count": 15
    }
   ],
   "source": [
    "u"
   ]
  },
  {
   "cell_type": "code",
   "execution_count": 16,
   "metadata": {},
   "outputs": [
    {
     "output_type": "execute_result",
     "data": {
      "text/plain": [
       "{'Page': 1,\n",
       " 'User_Question': 'User Question 1: ऌऺवऔणठभ   ऺटवऄठ   ख़  द जऒञ ऒटण  ऒड अऺध एय़ऻऋङललज़ञहमखऩ ऺणऩ ओ   धऱयछटतशथझ  आऱफ़ऩझ णफ़वदऻ तड़नडकधड़ऄशसक़ळषत ञ',\n",
       " 'Model_name': 'Model name 1',\n",
       " 'OPTION_1': 'option 1: ऌऺवऔणठभ   ऺटवऄठ   ख़  द जऒञ ऒटण  ऒड अऺध एय़ऻऋङललज़ञहमखऩ ऺणऩ ओ   धऱयछटतशथझ  आऱफ़ऩझ णफ़वदऻ तड़नडकधड़ऄशसक़ळषत ञ',\n",
       " 'OPTION_2': 'option 2: ऌऺवऔणठभ   ऺटवऄठ   ख़  द जऒञ ऒटण  ऒड अऺध एय़ऻऋङललज़ञहमखऩ ऺणऩ ओ   धऱयछटतशथझ  आऱफ़ऩझ णफ़वदऻ तड़नडकधड़ऄशसक़ळषत ञ',\n",
       " 'OPTION_3': 'option 3: ऌऺवऔणठभ   ऺटवऄठ   ख़  द जऒञ ऒटण  ऒड अऺध एय़ऻऋङललज़ञहमखऩ ऺणऩ ओ   धऱयछटतशथझ  आऱफ़ऩझ णफ़वदऻ तड़नडकधड़ऄशसक़ळषत ञ'}"
      ]
     },
     "metadata": {},
     "execution_count": 16
    }
   ],
   "source": [
    "json.loads(data[data.Page==1].to_json(orient=\"records\"))[0]"
   ]
  },
  {
   "cell_type": "code",
   "execution_count": 17,
   "metadata": {},
   "outputs": [],
   "source": [
    "n=1"
   ]
  },
  {
   "cell_type": "code",
   "execution_count": 18,
   "metadata": {},
   "outputs": [
    {
     "output_type": "execute_result",
     "data": {
      "text/plain": [
       "{'Ques': {'0': 1, '1': 2, '2': 3}, 'Ans': {'0': 0, '1': 0, '2': 0}}"
      ]
     },
     "metadata": {},
     "execution_count": 18
    }
   ],
   "source": [
    "rec = json.loads(response[response.Ques.isin(range(n,n+3))].to_json(orient=\"columns\"))\n",
    "rec"
   ]
  },
  {
   "cell_type": "code",
   "execution_count": 19,
   "metadata": {},
   "outputs": [
    {
     "output_type": "execute_result",
     "data": {
      "text/plain": [
       "3"
      ]
     },
     "metadata": {},
     "execution_count": 19
    }
   ],
   "source": [
    "rec['Ques'][\"2\"]"
   ]
  },
  {
   "cell_type": "code",
   "execution_count": 20,
   "metadata": {},
   "outputs": [],
   "source": [
    "#response.at[1,\"Ans\"] = 8"
   ]
  }
 ]
}