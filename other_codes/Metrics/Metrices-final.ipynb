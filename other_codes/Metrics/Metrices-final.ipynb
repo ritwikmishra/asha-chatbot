{
 "cells": [
  {
   "cell_type": "code",
   "execution_count": 4,
   "metadata": {},
   "outputs": [],
   "source": [
    "import pandas as pd \n",
    "import numpy as np \n",
    "import collections as cols"
   ]
  },
  {
   "cell_type": "code",
   "execution_count": 5,
   "metadata": {},
   "outputs": [],
   "source": [
    "# keep this to 1 for outer metrices calculation else make it 0\n",
    "outer = 0"
   ]
  },
  {
   "cell_type": "code",
   "execution_count": 6,
   "metadata": {},
   "outputs": [],
   "source": [
    "qcount = 1008\n",
    "if outer == 1:\n",
    "    qstart = 0\n",
    "    qlast = 1008\n",
    "    start = 0\n",
    "    last = qcount*3\n",
    "    i = 1\n",
    "else:\n",
    "    qstart = 1008\n",
    "    qlast = 1245\n",
    "    start = qcount*3\n",
    "    last = 3735\n",
    "    qcount = 237\n",
    "    i = 1009"
   ]
  },
  {
   "cell_type": "code",
   "execution_count": 7,
   "metadata": {},
   "outputs": [],
   "source": [
    "df1 = pd.read_csv(\"Data/final.csv\")[start:last]"
   ]
  },
  {
   "cell_type": "code",
   "execution_count": 8,
   "metadata": {},
   "outputs": [],
   "source": [
    "# convert the to binary matrix \n",
    "def get_data(acolumn,right_ans):\n",
    "    acolumn =  np.reshape(acolumn.values,(-1,3))\n",
    "    repd = []\n",
    "    for vec in acolumn: # vec = [2,3,1]\n",
    "        rep = []\n",
    "        for ind in vec:\n",
    "            if ind in right_ans:\n",
    "                rep.append(1)\n",
    "            else:\n",
    "                rep.append(0)\n",
    "        repd.append(rep)\n",
    "    return np.array(repd)"
   ]
  },
  {
   "cell_type": "code",
   "execution_count": 9,
   "metadata": {},
   "outputs": [
    {
     "data": {
      "text/plain": [
       "237"
      ]
     },
     "execution_count": 9,
     "metadata": {},
     "output_type": "execute_result"
    }
   ],
   "source": [
    "mat_bin = get_data(df1[\"Ans\"],[1,2])\n",
    "len(mat_bin)"
   ]
  },
  {
   "cell_type": "code",
   "execution_count": 10,
   "metadata": {},
   "outputs": [],
   "source": [
    "def precision_at_k(data):\n",
    "    \"\"\"\n",
    "    param : data\n",
    "    2-D array representing right ans in each row\n",
    "    \"\"\"\n",
    "    prec = []\n",
    "    for vec in data:\n",
    "        rev_doc = 0\n",
    "        tot_doc = 0\n",
    "        prec_vec = []\n",
    "        for doc in vec:\n",
    "            if doc == 1:\n",
    "                rev_doc +=1\n",
    "            tot_doc +=1\n",
    "            prec_vec.append(rev_doc/tot_doc)\n",
    "        prec.append(np.array(prec_vec))\n",
    "    return np.array(prec)"
   ]
  },
  {
   "cell_type": "code",
   "execution_count": 115,
   "metadata": {},
   "outputs": [
    {
     "data": {
      "text/plain": [
       "array([[0.        , 0.5       , 0.33333333],\n",
       "       [1.        , 1.        , 0.66666667],\n",
       "       [0.        , 0.        , 0.        ],\n",
       "       [0.        , 0.        , 0.        ],\n",
       "       [0.        , 0.        , 0.        ],\n",
       "       [0.        , 0.        , 0.        ],\n",
       "       [0.        , 0.        , 0.        ],\n",
       "       [0.        , 0.        , 0.        ],\n",
       "       [0.        , 0.        , 0.        ],\n",
       "       [0.        , 0.        , 0.        ]])"
      ]
     },
     "execution_count": 115,
     "metadata": {},
     "output_type": "execute_result"
    }
   ],
   "source": [
    "precision_at_k(mat_bin)[:10]"
   ]
  },
  {
   "cell_type": "code",
   "execution_count": 11,
   "metadata": {},
   "outputs": [],
   "source": [
    "def precision_at_3(data):\n",
    "    \"\"\"\n",
    "    param : data\n",
    "    2-D array representing right ans in each row\n",
    "    \"\"\"\n",
    "    prec_at_k = precision_at_k(mat_bin)\n",
    "    k = 3-1\n",
    "    prec_at_3 = [vec[k] for vec in prec_at_k]\n",
    "    return np.array(prec_at_3)"
   ]
  },
  {
   "cell_type": "code",
   "execution_count": 117,
   "metadata": {},
   "outputs": [
    {
     "data": {
      "text/plain": [
       "array([0.33333333, 0.66666667, 0.        , 0.        , 0.        ,\n",
       "       0.        , 0.        , 0.        , 0.        , 0.        ])"
      ]
     },
     "execution_count": 117,
     "metadata": {},
     "output_type": "execute_result"
    }
   ],
   "source": [
    "precision_at_3(mat_bin)[:10]"
   ]
  },
  {
   "cell_type": "code",
   "execution_count": 12,
   "metadata": {},
   "outputs": [],
   "source": [
    "def avg_precision_at_3(data):\n",
    "    \"\"\"\n",
    "    param : data\n",
    "    2-D array representing right ans in each row\n",
    "    \"\"\"\n",
    "    data = precision_at_k(data)\n",
    "    aprec = []\n",
    "    for vec in data:\n",
    "        aprec.append(sum(vec)/3)\n",
    "    return np.array(aprec)"
   ]
  },
  {
   "cell_type": "code",
   "execution_count": 119,
   "metadata": {},
   "outputs": [
    {
     "data": {
      "text/plain": [
       "array([0.27777778, 0.88888889, 0.        , 0.        , 0.        ,\n",
       "       0.        , 0.        , 0.        , 0.        , 0.        ])"
      ]
     },
     "execution_count": 119,
     "metadata": {},
     "output_type": "execute_result"
    }
   ],
   "source": [
    "avg_precision_at_3(mat_bin)[:10]"
   ]
  },
  {
   "cell_type": "code",
   "execution_count": 13,
   "metadata": {},
   "outputs": [],
   "source": [
    "def reciprocal_rank(data):\n",
    "    \"\"\"\n",
    "    param : data\n",
    "    2-D array representing right ans in each row\n",
    "    \"\"\"\n",
    "    rr = []\n",
    "    for vec in data: #  vec = [0,1,1]\n",
    "        i = 1\n",
    "        for ind in vec:\n",
    "            if ind == 1:\n",
    "                break\n",
    "            i+=1\n",
    "        #print(i)\n",
    "        if i !=4:\n",
    "            rr.append(1/i)\n",
    "        else:\n",
    "            rr.append(0)\n",
    "    return np.array(rr)\n"
   ]
  },
  {
   "cell_type": "code",
   "execution_count": 121,
   "metadata": {
    "scrolled": true
   },
   "outputs": [
    {
     "data": {
      "text/plain": [
       "array([0.5, 1. , 0. , 0. , 0. , 0. , 0. , 0. , 0. , 0. ])"
      ]
     },
     "execution_count": 121,
     "metadata": {},
     "output_type": "execute_result"
    }
   ],
   "source": [
    "reciprocal_rank(mat_bin)[:10]"
   ]
  },
  {
   "cell_type": "code",
   "execution_count": 14,
   "metadata": {},
   "outputs": [],
   "source": [
    "def success_ratio(data):\n",
    "    \"\"\"\n",
    "    param : data\n",
    "    2-D array representing right ans in each row\n",
    "    \"\"\"\n",
    "    sr_mat = []\n",
    "    for vec in data:\n",
    "        sr_mat.append(sum(vec)/len(vec))\n",
    "    \n",
    "    return np.array(sr_mat)"
   ]
  },
  {
   "cell_type": "code",
   "execution_count": 123,
   "metadata": {},
   "outputs": [
    {
     "data": {
      "text/plain": [
       "array([0.33333333, 0.66666667, 0.        , 0.        , 0.        ,\n",
       "       0.        , 0.        , 0.        , 0.        , 0.        ])"
      ]
     },
     "execution_count": 123,
     "metadata": {},
     "output_type": "execute_result"
    }
   ],
   "source": [
    "success_ratio(mat_bin)[:10]"
   ]
  },
  {
   "cell_type": "code",
   "execution_count": 15,
   "metadata": {},
   "outputs": [],
   "source": [
    "def invert_rel(element):\n",
    "    rmap = {1:2,2:1,3:0}\n",
    "    return rmap[element] "
   ]
  },
  {
   "cell_type": "code",
   "execution_count": 16,
   "metadata": {},
   "outputs": [],
   "source": [
    "def ndcg(acolumn):\n",
    "    \"\"\"\n",
    "    param : acolumn\n",
    "    pandas series representing ans in each cell\n",
    "    \"\"\"\n",
    "    idcg_vec = np.array([1/np.log2(2) , 1/np.log2(3) , 1/np.log2(4)])\n",
    "    acolumn = acolumn.apply(invert_rel)\n",
    "    acolumn =  np.reshape(acolumn.values,(qcount,3))\n",
    "\n",
    "    ndcg_vec = []\n",
    "\n",
    "    for vec in acolumn: #  vec = [1,2,1]   \n",
    "        idcg = sum(idcg_vec*sorted(vec,reverse=True))\n",
    "        if idcg!=0:\n",
    "            ndcg_vec.append(np.sum(vec*idcg_vec)/idcg)\n",
    "        else:\n",
    "            ndcg_vec.append(0)\n",
    "    return np.array(ndcg_vec)"
   ]
  },
  {
   "cell_type": "code",
   "execution_count": 126,
   "metadata": {},
   "outputs": [
    {
     "data": {
      "text/plain": [
       "array([0.63092975, 1.        , 0.        , 0.        , 0.        ,\n",
       "       0.        , 0.        , 0.        , 0.        , 0.        ])"
      ]
     },
     "execution_count": 126,
     "metadata": {},
     "output_type": "execute_result"
    }
   ],
   "source": [
    "ndcg(df1[\"Ans\"])[:10]"
   ]
  },
  {
   "cell_type": "code",
   "execution_count": 17,
   "metadata": {},
   "outputs": [],
   "source": [
    "#get model number\n",
    "def get_commom_entries(mod_index):\n",
    "    data = pd.read_csv(\"final-Ques_rand.csv\")[qstart:qlast]\n",
    "    df = data[[\"Page\",\"Model_name\"]]\n",
    "    models = mod_index\n",
    "    print(\"MODELS : \",models)\n",
    "    df[\"Model_num\"] = df.Model_name.replace(models,[0,1,2])\n",
    "    #df = df[entries]\n",
    "\n",
    "    grp = {}\n",
    "    dgrp = df.groupby(df.Model_num)\n",
    "    grp[\"Grp1_Pg\"] = dgrp.get_group(0).Page.values-i\n",
    "    grp[\"Grp2_Pg\"] = dgrp.get_group(1).Page.values-i\n",
    "    grp[\"Grp3_Pg\"] = dgrp.get_group(2).Page.values-i\n",
    "\n",
    "    return grp"
   ]
  },
  {
   "cell_type": "code",
   "execution_count": 18,
   "metadata": {},
   "outputs": [],
   "source": [
    "def grp_division(rows,mod_index):\n",
    "    mod_num = get_commom_entries(mod_index)\n",
    "    grp1 = rows[mod_num[\"Grp1_Pg\"]]\n",
    "    grp2 = rows[mod_num[\"Grp2_Pg\"]]\n",
    "    grp3 = rows[mod_num[\"Grp3_Pg\"]]\n",
    "    return grp1,grp2,grp3"
   ]
  },
  {
   "cell_type": "code",
   "execution_count": 19,
   "metadata": {},
   "outputs": [],
   "source": [
    "def grp_mean(grp_mat):\n",
    "    return (np.mean(grp_mat[0]),np.mean(grp_mat[1]),np.mean(grp_mat[2]))"
   ]
  },
  {
   "cell_type": "code",
   "execution_count": 20,
   "metadata": {},
   "outputs": [],
   "source": [
    "def calc_metrics(df1,mod_index):\n",
    "    \"\"\"\n",
    "    param : acolumn\n",
    "    pandas series representing ans in each cell\n",
    "    \"\"\"\n",
    "    acolumn = df1[\"Ans\"] # we can also add df2 as in last step we will take common\n",
    "    data = get_data(acolumn,[1,2])\n",
    "    m_mat = {}\n",
    "\n",
    "    m_mat[\"map\"] = grp_mean(grp_division(avg_precision_at_3(data),mod_index))\n",
    "    m_mat[\"mrr\"] = grp_mean(grp_division(reciprocal_rank(data),mod_index))\n",
    "    m_mat[\"avg_sr\"] = grp_mean(grp_division(success_ratio(data),mod_index))\n",
    "    m_mat[\"avg_ndcg\"] = grp_mean(grp_division(ndcg(acolumn),mod_index))\n",
    "    m_mat[\"avg_p3\"] = grp_mean(grp_division(precision_at_3(data),mod_index))\n",
    "    print(len(grp_division(precision_at_3(data),mod_index)[0]))\n",
    "    return m_mat"
   ]
  },
  {
   "cell_type": "code",
   "execution_count": 21,
   "metadata": {},
   "outputs": [],
   "source": [
    "mod_index=['गंगा', 'काली', 'रेनू']"
   ]
  },
  {
   "cell_type": "code",
   "execution_count": 22,
   "metadata": {},
   "outputs": [
    {
     "name": "stdout",
     "output_type": "stream",
     "text": [
      "MODELS :  ['गंगा', 'काली', 'रेनू']\n",
      "MODELS :  ['गंगा', 'काली', 'रेनू']\n",
      "MODELS :  ['गंगा', 'काली', 'रेनू']\n",
      "MODELS :  ['गंगा', 'काली', 'रेनू']\n",
      "MODELS :  ['गंगा', 'काली', 'रेनू']\n"
     ]
    },
    {
     "name": "stderr",
     "output_type": "stream",
     "text": [
      "/home/ritwik/envs/asha/lib/python3.6/site-packages/ipykernel_launcher.py:7: SettingWithCopyWarning: \n",
      "A value is trying to be set on a copy of a slice from a DataFrame.\n",
      "Try using .loc[row_indexer,col_indexer] = value instead\n",
      "\n",
      "See the caveats in the documentation: https://pandas.pydata.org/pandas-docs/stable/user_guide/indexing.html#returning-a-view-versus-a-copy\n",
      "  import sys\n"
     ]
    },
    {
     "name": "stdout",
     "output_type": "stream",
     "text": [
      "MODELS :  ['गंगा', 'काली', 'रेनू']\n",
      "79\n"
     ]
    },
    {
     "data": {
      "text/plain": [
       "{'map': (0.4135021097046413, 0.4240506329113924, 0.3396624472573839),\n",
       " 'mrr': (0.5337552742616033, 0.5738396624472574, 0.4915611814345992),\n",
       " 'avg_sr': (0.35443037974683544, 0.3544303797468354, 0.25316455696202533),\n",
       " 'avg_ndcg': (0.5399821664174114, 0.581779639487739, 0.5076023181271029),\n",
       " 'avg_p3': (0.35443037974683544, 0.3544303797468354, 0.25316455696202533)}"
      ]
     },
     "execution_count": 22,
     "metadata": {},
     "output_type": "execute_result"
    }
   ],
   "source": [
    "calc_metrics(df1,mod_index)"
   ]
  },
  {
   "cell_type": "code",
   "execution_count": 133,
   "metadata": {},
   "outputs": [
    {
     "name": "stdout",
     "output_type": "stream",
     "text": [
      "MODELS :  ['गंगा', 'काली', 'रेनू']\n",
      "MODELS :  ['गंगा', 'काली', 'रेनू']\n",
      "MODELS :  ['गंगा', 'काली', 'रेनू']\n",
      "MODELS :  ['गंगा', 'काली', 'रेनू']\n",
      "MODELS :  ['गंगा', 'काली', 'रेनू']\n",
      "MODELS :  ['गंगा', 'काली', 'रेनू']\n",
      "336\n"
     ]
    },
    {
     "data": {
      "text/html": [
       "<div>\n",
       "<style scoped>\n",
       "    .dataframe tbody tr th:only-of-type {\n",
       "        vertical-align: middle;\n",
       "    }\n",
       "\n",
       "    .dataframe tbody tr th {\n",
       "        vertical-align: top;\n",
       "    }\n",
       "\n",
       "    .dataframe thead th {\n",
       "        text-align: right;\n",
       "    }\n",
       "</style>\n",
       "<table border=\"1\" class=\"dataframe\">\n",
       "  <thead>\n",
       "    <tr style=\"text-align: right;\">\n",
       "      <th></th>\n",
       "      <th>map</th>\n",
       "      <th>mrr</th>\n",
       "      <th>avg_sr</th>\n",
       "      <th>avg_ndcg</th>\n",
       "      <th>avg_p3</th>\n",
       "    </tr>\n",
       "  </thead>\n",
       "  <tbody>\n",
       "    <tr>\n",
       "      <th>गंगा</th>\n",
       "      <td>0.183036</td>\n",
       "      <td>0.260913</td>\n",
       "      <td>0.163690</td>\n",
       "      <td>0.277396</td>\n",
       "      <td>0.163690</td>\n",
       "    </tr>\n",
       "    <tr>\n",
       "      <th>काली</th>\n",
       "      <td>0.219246</td>\n",
       "      <td>0.296627</td>\n",
       "      <td>0.199405</td>\n",
       "      <td>0.312296</td>\n",
       "      <td>0.199405</td>\n",
       "    </tr>\n",
       "    <tr>\n",
       "      <th>रेनू</th>\n",
       "      <td>0.105985</td>\n",
       "      <td>0.162202</td>\n",
       "      <td>0.087302</td>\n",
       "      <td>0.174693</td>\n",
       "      <td>0.087302</td>\n",
       "    </tr>\n",
       "  </tbody>\n",
       "</table>\n",
       "</div>"
      ],
      "text/plain": [
       "           map       mrr    avg_sr  avg_ndcg    avg_p3\n",
       "गंगा  0.183036  0.260913  0.163690  0.277396  0.163690\n",
       "काली  0.219246  0.296627  0.199405  0.312296  0.199405\n",
       "रेनू  0.105985  0.162202  0.087302  0.174693  0.087302"
      ]
     },
     "metadata": {},
     "output_type": "display_data"
    }
   ],
   "source": [
    "#For outer\n",
    "if outer == 1:\n",
    "    display(pd.DataFrame(calc_metrics(df1,mod_index),index=mod_index))"
   ]
  },
  {
   "cell_type": "code",
   "execution_count": 23,
   "metadata": {},
   "outputs": [
    {
     "name": "stdout",
     "output_type": "stream",
     "text": [
      "MODELS :  ['गंगा', 'काली', 'रेनू']\n",
      "MODELS :  ['गंगा', 'काली', 'रेनू']\n",
      "MODELS :  ['गंगा', 'काली', 'रेनू']\n",
      "MODELS :  ['गंगा', 'काली', 'रेनू']\n",
      "MODELS :  ['गंगा', 'काली', 'रेनू']\n"
     ]
    },
    {
     "name": "stderr",
     "output_type": "stream",
     "text": [
      "/home/ritwik/envs/asha/lib/python3.6/site-packages/ipykernel_launcher.py:7: SettingWithCopyWarning: \n",
      "A value is trying to be set on a copy of a slice from a DataFrame.\n",
      "Try using .loc[row_indexer,col_indexer] = value instead\n",
      "\n",
      "See the caveats in the documentation: https://pandas.pydata.org/pandas-docs/stable/user_guide/indexing.html#returning-a-view-versus-a-copy\n",
      "  import sys\n"
     ]
    },
    {
     "name": "stdout",
     "output_type": "stream",
     "text": [
      "MODELS :  ['गंगा', 'काली', 'रेनू']\n",
      "79\n"
     ]
    },
    {
     "data": {
      "text/html": [
       "<div>\n",
       "<style scoped>\n",
       "    .dataframe tbody tr th:only-of-type {\n",
       "        vertical-align: middle;\n",
       "    }\n",
       "\n",
       "    .dataframe tbody tr th {\n",
       "        vertical-align: top;\n",
       "    }\n",
       "\n",
       "    .dataframe thead th {\n",
       "        text-align: right;\n",
       "    }\n",
       "</style>\n",
       "<table border=\"1\" class=\"dataframe\">\n",
       "  <thead>\n",
       "    <tr style=\"text-align: right;\">\n",
       "      <th></th>\n",
       "      <th>map</th>\n",
       "      <th>mrr</th>\n",
       "      <th>avg_sr</th>\n",
       "      <th>avg_ndcg</th>\n",
       "      <th>avg_p3</th>\n",
       "    </tr>\n",
       "  </thead>\n",
       "  <tbody>\n",
       "    <tr>\n",
       "      <th>गंगा</th>\n",
       "      <td>0.413502</td>\n",
       "      <td>0.533755</td>\n",
       "      <td>0.354430</td>\n",
       "      <td>0.539982</td>\n",
       "      <td>0.354430</td>\n",
       "    </tr>\n",
       "    <tr>\n",
       "      <th>काली</th>\n",
       "      <td>0.424051</td>\n",
       "      <td>0.573840</td>\n",
       "      <td>0.354430</td>\n",
       "      <td>0.581780</td>\n",
       "      <td>0.354430</td>\n",
       "    </tr>\n",
       "    <tr>\n",
       "      <th>रेनू</th>\n",
       "      <td>0.339662</td>\n",
       "      <td>0.491561</td>\n",
       "      <td>0.253165</td>\n",
       "      <td>0.507602</td>\n",
       "      <td>0.253165</td>\n",
       "    </tr>\n",
       "  </tbody>\n",
       "</table>\n",
       "</div>"
      ],
      "text/plain": [
       "           map       mrr    avg_sr  avg_ndcg    avg_p3\n",
       "गंगा  0.413502  0.533755  0.354430  0.539982  0.354430\n",
       "काली  0.424051  0.573840  0.354430  0.581780  0.354430\n",
       "रेनू  0.339662  0.491561  0.253165  0.507602  0.253165"
      ]
     },
     "metadata": {},
     "output_type": "display_data"
    }
   ],
   "source": [
    "#For inner\n",
    "if outer != 1:\n",
    "    display(pd.DataFrame(calc_metrics(df1,mod_index),index=mod_index))"
   ]
  },
  {
   "cell_type": "code",
   "execution_count": null,
   "metadata": {},
   "outputs": [],
   "source": []
  }
 ],
 "metadata": {
  "kernelspec": {
   "display_name": "Python 3",
   "language": "python",
   "name": "python3"
  },
  "language_info": {
   "codemirror_mode": {
    "name": "ipython",
    "version": 3
   },
   "file_extension": ".py",
   "mimetype": "text/x-python",
   "name": "python",
   "nbconvert_exporter": "python",
   "pygments_lexer": "ipython3",
   "version": "3.6.9"
  }
 },
 "nbformat": 4,
 "nbformat_minor": 2
}
