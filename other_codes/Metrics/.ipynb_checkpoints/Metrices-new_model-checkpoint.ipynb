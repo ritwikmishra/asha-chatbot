{
 "cells": [
  {
   "cell_type": "code",
   "execution_count": 1,
   "metadata": {},
   "outputs": [
    {
     "data": {
      "text/html": [
       "<style>.container { width:100% !important; }</style>"
      ],
      "text/plain": [
       "<IPython.core.display.HTML object>"
      ]
     },
     "metadata": {},
     "output_type": "display_data"
    }
   ],
   "source": [
    "from IPython.core.display import display, HTML\n",
    "display(HTML(\"<style>.container { width:100% !important; }</style>\"))"
   ]
  },
  {
   "cell_type": "code",
   "execution_count": 2,
   "metadata": {},
   "outputs": [],
   "source": [
    "import pandas as pd \n",
    "import numpy as np \n",
    "import collections as cols"
   ]
  },
  {
   "cell_type": "code",
   "execution_count": 4,
   "metadata": {},
   "outputs": [],
   "source": [
    "df2 = pd.read_csv(\"/home/ritwik/git/AshaQnA/other_codes/Metrics/Data/E_48.csv\")\n"
   ]
  },
  {
   "cell_type": "code",
   "execution_count": 3,
   "metadata": {},
   "outputs": [
    {
     "data": {
      "text/html": [
       "<div>\n",
       "<style scoped>\n",
       "    .dataframe tbody tr th:only-of-type {\n",
       "        vertical-align: middle;\n",
       "    }\n",
       "\n",
       "    .dataframe tbody tr th {\n",
       "        vertical-align: top;\n",
       "    }\n",
       "\n",
       "    .dataframe thead th {\n",
       "        text-align: right;\n",
       "    }\n",
       "</style>\n",
       "<table border=\"1\" class=\"dataframe\">\n",
       "  <thead>\n",
       "    <tr style=\"text-align: right;\">\n",
       "      <th></th>\n",
       "      <th>Category</th>\n",
       "      <th>User_query</th>\n",
       "      <th>Model_name</th>\n",
       "      <th>OPTION_1</th>\n",
       "      <th>ANSWER_1</th>\n",
       "      <th>SCORE_1</th>\n",
       "      <th>final_1</th>\n",
       "      <th>OPTION_2</th>\n",
       "      <th>ANSWER_2</th>\n",
       "      <th>SCORE_2</th>\n",
       "      <th>final_2</th>\n",
       "      <th>OPTION_3</th>\n",
       "      <th>ANSWER_3</th>\n",
       "      <th>SCORE_3</th>\n",
       "      <th>final_3</th>\n",
       "    </tr>\n",
       "  </thead>\n",
       "  <tbody>\n",
       "    <tr>\n",
       "      <th>0</th>\n",
       "      <td>breastfeeding</td>\n",
       "      <td>मुझे डिलीवरी के बाद बिलकुल भी दूध नहीं उतरा है...</td>\n",
       "      <td>Ensemble SCORE</td>\n",
       "      <td>अगर &lt;डिलीवरी&gt; के बाद माँ का दूध ना उतरे तो क्य...</td>\n",
       "      <td>यह गलती कभी न करना और यह सोच भी गलत है की &lt;डिल...</td>\n",
       "      <td>1.672826</td>\n",
       "      <td>2.0</td>\n",
       "      <td>अगर माँ को &lt;डिलीवरी&gt; के बाद &lt;शुगर&gt; हो तो क्या ...</td>\n",
       "      <td>हाँ बच्चे को दूध ज़रूर पिलाना चाहिए बस &lt;शुगर&gt; ...</td>\n",
       "      <td>0.943027</td>\n",
       "      <td>3.0</td>\n",
       "      <td>अगर माँ को &lt;डिलीवरी&gt; के बाद 3 दिन तक भी दूध नह...</td>\n",
       "      <td>बिलकुल नहीं कभी भी नहीं यह सच है कि कुछ माताएं...</td>\n",
       "      <td>0.942863</td>\n",
       "      <td>2.0</td>\n",
       "    </tr>\n",
       "    <tr>\n",
       "      <th>1</th>\n",
       "      <td>breastfeeding</td>\n",
       "      <td>न्यू बॉर्न को दूध कैसे पिलाते है</td>\n",
       "      <td>Ensemble SCORE</td>\n",
       "      <td>&lt;हॉस्पिटल&gt; में बच्चे को ऊपर का दूध पिलाते हैं ...</td>\n",
       "      <td>यह सवाल बहुत अच्छा है आपकी &lt;एचबीपीऐनसी&gt; में 1 ...</td>\n",
       "      <td>0.915436</td>\n",
       "      <td>3.0</td>\n",
       "      <td>जन्म के कितने घंटे बाद दूध पिलाना चाहिए</td>\n",
       "      <td>प्रसव के बाद पहले घंटे के भीतर¸ जितनी जल्दी हो...</td>\n",
       "      <td>0.913757</td>\n",
       "      <td>3.0</td>\n",
       "      <td>अगर माँ को &lt;टीबी&gt; या &lt;एड्स&gt; हो तो उस वक़्त दूध...</td>\n",
       "      <td>अगर महिला में कोई लक्षण नहीं है, तो उसके लिए स...</td>\n",
       "      <td>0.911587</td>\n",
       "      <td>3.0</td>\n",
       "    </tr>\n",
       "    <tr>\n",
       "      <th>2</th>\n",
       "      <td>breastfeeding</td>\n",
       "      <td>दूध पीने के बाद मेरा बच्चा दूध वैसे ही निकल दे...</td>\n",
       "      <td>Ensemble SCORE</td>\n",
       "      <td>दूध पीने के बाद बच्चा वैसा का वैसा ही दूध निका...</td>\n",
       "      <td>अगर आप माँ को अच्छी तरह से समझायेंगे कि हर बार...</td>\n",
       "      <td>1.883061</td>\n",
       "      <td>2.0</td>\n",
       "      <td>अगर बच्चा दूध पीने के बाद वैसे का वैसा ही दूध ...</td>\n",
       "      <td>यह आशा बहनजी दूध निकालना यह बड़ा &lt;कॉमन&gt; है लेक...</td>\n",
       "      <td>1.751481</td>\n",
       "      <td>2.0</td>\n",
       "      <td>छोटा बच्चा माँ का दूध पी कर वैसा ही दूध निकल द...</td>\n",
       "      <td>छोटे बच्चे दूध पिलने के साथ साथ पेट के अंदर हव...</td>\n",
       "      <td>0.957394</td>\n",
       "      <td>1.0</td>\n",
       "    </tr>\n",
       "    <tr>\n",
       "      <th>3</th>\n",
       "      <td>breastfeeding</td>\n",
       "      <td>मेरा बच्चा बीमार है वह दूध ही नहीं पी रहा मैं ...</td>\n",
       "      <td>Ensemble SCORE</td>\n",
       "      <td>मेरा बच्चा दूध नहीं पकड़ रहा मैं क्या करूँ</td>\n",
       "      <td>इस अनिच्छा के लिए कई कारण हो सकते हैं। आपका बच...</td>\n",
       "      <td>0.947863</td>\n",
       "      <td>1.0</td>\n",
       "      <td>माँ बीमार है तो बच्चे को दूध पिला सकते हैं</td>\n",
       "      <td>मां के बीमार होने पर भी स्तनपान जारी रखा जाना ...</td>\n",
       "      <td>0.935109</td>\n",
       "      <td>3.0</td>\n",
       "      <td>हम बीमारी में बच्चे को दूध पिलाते है तो बच्चे ...</td>\n",
       "      <td>मां या बच्चे के बीमार होने पर भी स्तनपान जारी ...</td>\n",
       "      <td>0.934532</td>\n",
       "      <td>3.0</td>\n",
       "    </tr>\n",
       "    <tr>\n",
       "      <th>4</th>\n",
       "      <td>breastfeeding</td>\n",
       "      <td>बच्चे को कितना दूध पिलाना चाहिए</td>\n",
       "      <td>Ensemble SCORE</td>\n",
       "      <td>बच्चे को कितने &lt;मंथ&gt; तक &lt;फीड&gt; करना चाहिए</td>\n",
       "      <td>स्तनपान को रोकने के बारे में कोई कठोर नियम नही...</td>\n",
       "      <td>0.976007</td>\n",
       "      <td>3.0</td>\n",
       "      <td>बच्चे को कितनी बार स्तनपान करना चाहिए</td>\n",
       "      <td>इस मामले में आपके सबसे अच्छा गाइड है  आपका बच्...</td>\n",
       "      <td>0.959820</td>\n",
       "      <td>1.0</td>\n",
       "      <td>जन्म के कितने घंटे बाद दूध पिलाना चाहिए</td>\n",
       "      <td>प्रसव के बाद पहले घंटे के भीतर¸ जितनी जल्दी हो...</td>\n",
       "      <td>0.951172</td>\n",
       "      <td>3.0</td>\n",
       "    </tr>\n",
       "    <tr>\n",
       "      <th>...</th>\n",
       "      <td>...</td>\n",
       "      <td>...</td>\n",
       "      <td>...</td>\n",
       "      <td>...</td>\n",
       "      <td>...</td>\n",
       "      <td>...</td>\n",
       "      <td>...</td>\n",
       "      <td>...</td>\n",
       "      <td>...</td>\n",
       "      <td>...</td>\n",
       "      <td>...</td>\n",
       "      <td>...</td>\n",
       "      <td>...</td>\n",
       "      <td>...</td>\n",
       "      <td>...</td>\n",
       "    </tr>\n",
       "    <tr>\n",
       "      <th>265</th>\n",
       "      <td>danger sign in mother</td>\n",
       "      <td>बच्चा होने के 10 दिन के बाद मां को बहुत तेज बु...</td>\n",
       "      <td>Ensemble SCORE</td>\n",
       "      <td>बच्चा होने की बाद 42 दिन के अंदर माँ को बुखार ...</td>\n",
       "      <td>देखिए बार बार बुखार का होना या बुखार सर्दी लगक...</td>\n",
       "      <td>1.791905</td>\n",
       "      <td>3.0</td>\n",
       "      <td>अगर 3 दिन के बच्चे को 100 बुखार हो तो क्या करें</td>\n",
       "      <td>3 दिन के बच्चे को100 बुखार एक सामान्य बात नहीं...</td>\n",
       "      <td>1.359938</td>\n",
       "      <td>3.0</td>\n",
       "      <td>&lt;प्रेगनेंसी&gt; में माँ को बार बार बुखार हो रहा ह...</td>\n",
       "      <td>उसका &lt;चेकअप&gt; कराना बहुत ज़रूरी है क्यूंकि हो स...</td>\n",
       "      <td>1.301706</td>\n",
       "      <td>3.0</td>\n",
       "    </tr>\n",
       "    <tr>\n",
       "      <th>266</th>\n",
       "      <td>danger sign in mother</td>\n",
       "      <td>डिलीवरी के बाद मां को बहुत ज्यादा ब्लीडिंग हो ...</td>\n",
       "      <td>Ensemble SCORE</td>\n",
       "      <td>अगर माँ को &lt;डिलीवरी&gt; के बाद ज्यादा &lt;ब्लीडिंग&gt; ...</td>\n",
       "      <td>अगर माँ को &lt;डिलीवरी&gt; के बाद बहुत &lt;हैवी&gt;&lt; ब्लीड...</td>\n",
       "      <td>2.391092</td>\n",
       "      <td>2.0</td>\n",
       "      <td>अगर &lt;डिलीवरी&gt; के २ दिन बाद हे माँ को &lt;ब्लीडिंग...</td>\n",
       "      <td>नहीं यह खतरे का लक्षण नहीं लेकिन आपको यह समझना...</td>\n",
       "      <td>2.363041</td>\n",
       "      <td>3.0</td>\n",
       "      <td>अगर किसी महिला को&lt; डिलीवरी&gt; के बाद बहुत ज्यादा...</td>\n",
       "      <td>&lt;sil&gt;</td>\n",
       "      <td>0.957088</td>\n",
       "      <td>2.0</td>\n",
       "    </tr>\n",
       "    <tr>\n",
       "      <th>267</th>\n",
       "      <td>danger sign in mother</td>\n",
       "      <td>अगर मां को प्रेगनेंसी में टीवी हो जाती है तो क...</td>\n",
       "      <td>Ensemble SCORE</td>\n",
       "      <td>अगर मां को &lt;टीवी &gt;हो तो क्या वह बच्चे को अपना ...</td>\n",
       "      <td>जिस माँ को &lt;टीवी &gt; है वो अपने बच्चे को ज़रूर अच...</td>\n",
       "      <td>1.824265</td>\n",
       "      <td>1.0</td>\n",
       "      <td>माँ बच्चे को अपना ही दूध पिला रही है पर फिर भी...</td>\n",
       "      <td>देखिए सिर्फ अपना दूध पिलाना एक परिवार नियोजन क...</td>\n",
       "      <td>1.697558</td>\n",
       "      <td>3.0</td>\n",
       "      <td>&lt;प्रेगनेंसी&gt; में अगर किसी माँ को &lt;शुगर&gt; हो जाए...</td>\n",
       "      <td>ज़रूर पिला सकती है और उसको दूध पिलाना आवश्यक ह...</td>\n",
       "      <td>0.954688</td>\n",
       "      <td>3.0</td>\n",
       "    </tr>\n",
       "    <tr>\n",
       "      <th>268</th>\n",
       "      <td>danger sign in mother</td>\n",
       "      <td>सी सेक्शन के बाद मां में बहुत ज्यादा कमजोरी है...</td>\n",
       "      <td>Ensemble SCORE</td>\n",
       "      <td>&lt;सी&gt; &lt;सेक्शन&gt; से बच्चा होने के बाद माँ को क्या...</td>\n",
       "      <td>आप बगैर किसी फ़िक्र के बगैर परहेज का जितनी उसक...</td>\n",
       "      <td>2.230200</td>\n",
       "      <td>2.0</td>\n",
       "      <td>&lt;सी&gt; &lt;सेक्शन&gt; के बाद माँ को कितने दिन के बाद घ...</td>\n",
       "      <td>देखिये &lt;सी&gt; &lt;सेक्शन&gt; के अगले दिन ही माँ को सहा...</td>\n",
       "      <td>1.406832</td>\n",
       "      <td>2.0</td>\n",
       "      <td>माँ को &lt;नार्मल&gt; या &lt;सी&gt; &lt;सेक्शन&gt; &lt;डिलीवरी&gt; के ...</td>\n",
       "      <td>अब घर का काम कब शुरू करना चाहती है वो उसकी मर्...</td>\n",
       "      <td>0.918208</td>\n",
       "      <td>3.0</td>\n",
       "    </tr>\n",
       "    <tr>\n",
       "      <th>269</th>\n",
       "      <td>danger sign in mother</td>\n",
       "      <td>प्रेगनेंसी में मां का वजन बिल्कुल नहीं बढ़ रहा...</td>\n",
       "      <td>Ensemble SCORE</td>\n",
       "      <td>अगर &lt;प्रेगनेंसी&gt; में बच्चे का वज़न नहीं बढ़ रहा ...</td>\n",
       "      <td>देखिये वजन बढ़ाने के लिए कोई दवाइयां नहीं होती...</td>\n",
       "      <td>1.438137</td>\n",
       "      <td>2.0</td>\n",
       "      <td>&lt;प्रेगनेंसी&gt; में &lt;मदर&gt; का खून &lt;आयरन&gt; की गोली ख...</td>\n",
       "      <td>देखिये &lt;आयरन&gt; 1 पर्दार्थ है जिससे खून बनता है ...</td>\n",
       "      <td>0.943443</td>\n",
       "      <td>3.0</td>\n",
       "      <td>(sil) &lt;प्रेगनेंसी&gt; में &lt;एचबी&gt; बहुत कम हो जाता ...</td>\n",
       "      <td>&lt;प्रेगनेंसी&gt; में &lt;एचबी&gt; अपने आप से बहुत कम नही...</td>\n",
       "      <td>0.942796</td>\n",
       "      <td>3.0</td>\n",
       "    </tr>\n",
       "  </tbody>\n",
       "</table>\n",
       "<p>270 rows × 15 columns</p>\n",
       "</div>"
      ],
      "text/plain": [
       "                  Category                                         User_query  \\\n",
       "0            breastfeeding  मुझे डिलीवरी के बाद बिलकुल भी दूध नहीं उतरा है...   \n",
       "1            breastfeeding                   न्यू बॉर्न को दूध कैसे पिलाते है   \n",
       "2            breastfeeding  दूध पीने के बाद मेरा बच्चा दूध वैसे ही निकल दे...   \n",
       "3            breastfeeding  मेरा बच्चा बीमार है वह दूध ही नहीं पी रहा मैं ...   \n",
       "4            breastfeeding                    बच्चे को कितना दूध पिलाना चाहिए   \n",
       "..                     ...                                                ...   \n",
       "265  danger sign in mother  बच्चा होने के 10 दिन के बाद मां को बहुत तेज बु...   \n",
       "266  danger sign in mother  डिलीवरी के बाद मां को बहुत ज्यादा ब्लीडिंग हो ...   \n",
       "267  danger sign in mother  अगर मां को प्रेगनेंसी में टीवी हो जाती है तो क...   \n",
       "268  danger sign in mother  सी सेक्शन के बाद मां में बहुत ज्यादा कमजोरी है...   \n",
       "269  danger sign in mother  प्रेगनेंसी में मां का वजन बिल्कुल नहीं बढ़ रहा...   \n",
       "\n",
       "         Model_name                                           OPTION_1  \\\n",
       "0    Ensemble SCORE  अगर <डिलीवरी> के बाद माँ का दूध ना उतरे तो क्य...   \n",
       "1    Ensemble SCORE  <हॉस्पिटल> में बच्चे को ऊपर का दूध पिलाते हैं ...   \n",
       "2    Ensemble SCORE  दूध पीने के बाद बच्चा वैसा का वैसा ही दूध निका...   \n",
       "3    Ensemble SCORE         मेरा बच्चा दूध नहीं पकड़ रहा मैं क्या करूँ   \n",
       "4    Ensemble SCORE           बच्चे को कितने <मंथ> तक <फीड> करना चाहिए   \n",
       "..              ...                                                ...   \n",
       "265  Ensemble SCORE  बच्चा होने की बाद 42 दिन के अंदर माँ को बुखार ...   \n",
       "266  Ensemble SCORE  अगर माँ को <डिलीवरी> के बाद ज्यादा <ब्लीडिंग> ...   \n",
       "267  Ensemble SCORE  अगर मां को <टीवी >हो तो क्या वह बच्चे को अपना ...   \n",
       "268  Ensemble SCORE  <सी> <सेक्शन> से बच्चा होने के बाद माँ को क्या...   \n",
       "269  Ensemble SCORE  अगर <प्रेगनेंसी> में बच्चे का वज़न नहीं बढ़ रहा ...   \n",
       "\n",
       "                                              ANSWER_1   SCORE_1  final_1  \\\n",
       "0    यह गलती कभी न करना और यह सोच भी गलत है की <डिल...  1.672826      2.0   \n",
       "1    यह सवाल बहुत अच्छा है आपकी <एचबीपीऐनसी> में 1 ...  0.915436      3.0   \n",
       "2    अगर आप माँ को अच्छी तरह से समझायेंगे कि हर बार...  1.883061      2.0   \n",
       "3    इस अनिच्छा के लिए कई कारण हो सकते हैं। आपका बच...  0.947863      1.0   \n",
       "4    स्तनपान को रोकने के बारे में कोई कठोर नियम नही...  0.976007      3.0   \n",
       "..                                                 ...       ...      ...   \n",
       "265  देखिए बार बार बुखार का होना या बुखार सर्दी लगक...  1.791905      3.0   \n",
       "266  अगर माँ को <डिलीवरी> के बाद बहुत <हैवी>< ब्लीड...  2.391092      2.0   \n",
       "267  जिस माँ को <टीवी > है वो अपने बच्चे को ज़रूर अच...  1.824265      1.0   \n",
       "268  आप बगैर किसी फ़िक्र के बगैर परहेज का जितनी उसक...  2.230200      2.0   \n",
       "269  देखिये वजन बढ़ाने के लिए कोई दवाइयां नहीं होती...  1.438137      2.0   \n",
       "\n",
       "                                              OPTION_2  \\\n",
       "0    अगर माँ को <डिलीवरी> के बाद <शुगर> हो तो क्या ...   \n",
       "1              जन्म के कितने घंटे बाद दूध पिलाना चाहिए   \n",
       "2    अगर बच्चा दूध पीने के बाद वैसे का वैसा ही दूध ...   \n",
       "3           माँ बीमार है तो बच्चे को दूध पिला सकते हैं   \n",
       "4                बच्चे को कितनी बार स्तनपान करना चाहिए   \n",
       "..                                                 ...   \n",
       "265    अगर 3 दिन के बच्चे को 100 बुखार हो तो क्या करें   \n",
       "266  अगर <डिलीवरी> के २ दिन बाद हे माँ को <ब्लीडिंग...   \n",
       "267  माँ बच्चे को अपना ही दूध पिला रही है पर फिर भी...   \n",
       "268  <सी> <सेक्शन> के बाद माँ को कितने दिन के बाद घ...   \n",
       "269  <प्रेगनेंसी> में <मदर> का खून <आयरन> की गोली ख...   \n",
       "\n",
       "                                              ANSWER_2   SCORE_2  final_2  \\\n",
       "0    हाँ बच्चे को दूध ज़रूर पिलाना चाहिए बस <शुगर> ...  0.943027      3.0   \n",
       "1    प्रसव के बाद पहले घंटे के भीतर¸ जितनी जल्दी हो...  0.913757      3.0   \n",
       "2    यह आशा बहनजी दूध निकालना यह बड़ा <कॉमन> है लेक...  1.751481      2.0   \n",
       "3    मां के बीमार होने पर भी स्तनपान जारी रखा जाना ...  0.935109      3.0   \n",
       "4    इस मामले में आपके सबसे अच्छा गाइड है  आपका बच्...  0.959820      1.0   \n",
       "..                                                 ...       ...      ...   \n",
       "265  3 दिन के बच्चे को100 बुखार एक सामान्य बात नहीं...  1.359938      3.0   \n",
       "266  नहीं यह खतरे का लक्षण नहीं लेकिन आपको यह समझना...  2.363041      3.0   \n",
       "267  देखिए सिर्फ अपना दूध पिलाना एक परिवार नियोजन क...  1.697558      3.0   \n",
       "268  देखिये <सी> <सेक्शन> के अगले दिन ही माँ को सहा...  1.406832      2.0   \n",
       "269  देखिये <आयरन> 1 पर्दार्थ है जिससे खून बनता है ...  0.943443      3.0   \n",
       "\n",
       "                                              OPTION_3  \\\n",
       "0    अगर माँ को <डिलीवरी> के बाद 3 दिन तक भी दूध नह...   \n",
       "1    अगर माँ को <टीबी> या <एड्स> हो तो उस वक़्त दूध...   \n",
       "2    छोटा बच्चा माँ का दूध पी कर वैसा ही दूध निकल द...   \n",
       "3    हम बीमारी में बच्चे को दूध पिलाते है तो बच्चे ...   \n",
       "4              जन्म के कितने घंटे बाद दूध पिलाना चाहिए   \n",
       "..                                                 ...   \n",
       "265  <प्रेगनेंसी> में माँ को बार बार बुखार हो रहा ह...   \n",
       "266  अगर किसी महिला को< डिलीवरी> के बाद बहुत ज्यादा...   \n",
       "267  <प्रेगनेंसी> में अगर किसी माँ को <शुगर> हो जाए...   \n",
       "268  माँ को <नार्मल> या <सी> <सेक्शन> <डिलीवरी> के ...   \n",
       "269  (sil) <प्रेगनेंसी> में <एचबी> बहुत कम हो जाता ...   \n",
       "\n",
       "                                              ANSWER_3   SCORE_3  final_3  \n",
       "0    बिलकुल नहीं कभी भी नहीं यह सच है कि कुछ माताएं...  0.942863      2.0  \n",
       "1    अगर महिला में कोई लक्षण नहीं है, तो उसके लिए स...  0.911587      3.0  \n",
       "2    छोटे बच्चे दूध पिलने के साथ साथ पेट के अंदर हव...  0.957394      1.0  \n",
       "3    मां या बच्चे के बीमार होने पर भी स्तनपान जारी ...  0.934532      3.0  \n",
       "4    प्रसव के बाद पहले घंटे के भीतर¸ जितनी जल्दी हो...  0.951172      3.0  \n",
       "..                                                 ...       ...      ...  \n",
       "265  उसका <चेकअप> कराना बहुत ज़रूरी है क्यूंकि हो स...  1.301706      3.0  \n",
       "266                                              <sil>  0.957088      2.0  \n",
       "267  ज़रूर पिला सकती है और उसको दूध पिलाना आवश्यक ह...  0.954688      3.0  \n",
       "268  अब घर का काम कब शुरू करना चाहती है वो उसकी मर्...  0.918208      3.0  \n",
       "269  <प्रेगनेंसी> में <एचबी> अपने आप से बहुत कम नही...  0.942796      3.0  \n",
       "\n",
       "[270 rows x 15 columns]"
      ]
     },
     "execution_count": 3,
     "metadata": {},
     "output_type": "execute_result"
    }
   ],
   "source": [
    "# df1 = pd.read_csv(\"/home/ritwik/git/AshaQnA/best results/results/Outside_questions_BERT_spc_results_695_epoch_3_with_Answers.csv\")\n",
    "df1 = pd.read_csv(\"/home/ritwik/git/AshaQnA/other_codes/Metrics/Data/E_48.csv\")\n",
    "df1"
   ]
  },
  {
   "cell_type": "code",
   "execution_count": 10,
   "metadata": {
    "collapsed": true
   },
   "outputs": [
    {
     "name": "stdout",
     "output_type": "stream",
     "text": [
      "['breastfeeding', 'antenatal care', 'newborn care', 'menstruation', 'new born sleep', 'health and happiness in mother', 'danger sign in newborn', 'gynaecological disorders', 'older child', 'newborn temperature', 'contraception', 'talking and playing with newborn baby', 'adolescent', 'vaccination', 'newborn crying', 'danger sign in mother']\n",
      "16\n",
      "breastfeeding 25 270 0.09259259259259259\n"
     ]
    },
    {
     "data": {
      "text/html": [
       "<div>\n",
       "<style scoped>\n",
       "    .dataframe tbody tr th:only-of-type {\n",
       "        vertical-align: middle;\n",
       "    }\n",
       "\n",
       "    .dataframe tbody tr th {\n",
       "        vertical-align: top;\n",
       "    }\n",
       "\n",
       "    .dataframe thead th {\n",
       "        text-align: right;\n",
       "    }\n",
       "</style>\n",
       "<table border=\"1\" class=\"dataframe\">\n",
       "  <thead>\n",
       "    <tr style=\"text-align: right;\">\n",
       "      <th></th>\n",
       "      <th>map</th>\n",
       "      <th>mrr</th>\n",
       "      <th>avg_sr</th>\n",
       "      <th>avg_ndcg</th>\n",
       "      <th>avg_p3</th>\n",
       "    </tr>\n",
       "  </thead>\n",
       "  <tbody>\n",
       "    <tr>\n",
       "      <th>Ensemble SCORE</th>\n",
       "      <td>0.426667</td>\n",
       "      <td>0.56</td>\n",
       "      <td>0.6</td>\n",
       "      <td>0.536084</td>\n",
       "      <td>0.371605</td>\n",
       "    </tr>\n",
       "  </tbody>\n",
       "</table>\n",
       "</div>"
      ],
      "text/plain": [
       "                     map   mrr  avg_sr  avg_ndcg    avg_p3\n",
       "Ensemble SCORE  0.426667  0.56     0.6  0.536084  0.371605"
      ]
     },
     "metadata": {},
     "output_type": "display_data"
    },
    {
     "name": "stdout",
     "output_type": "stream",
     "text": [
      "antenatal care 14 270 0.05185185185185185\n"
     ]
    },
    {
     "data": {
      "text/html": [
       "<div>\n",
       "<style scoped>\n",
       "    .dataframe tbody tr th:only-of-type {\n",
       "        vertical-align: middle;\n",
       "    }\n",
       "\n",
       "    .dataframe tbody tr th {\n",
       "        vertical-align: top;\n",
       "    }\n",
       "\n",
       "    .dataframe thead th {\n",
       "        text-align: right;\n",
       "    }\n",
       "</style>\n",
       "<table border=\"1\" class=\"dataframe\">\n",
       "  <thead>\n",
       "    <tr style=\"text-align: right;\">\n",
       "      <th></th>\n",
       "      <th>map</th>\n",
       "      <th>mrr</th>\n",
       "      <th>avg_sr</th>\n",
       "      <th>avg_ndcg</th>\n",
       "      <th>avg_p3</th>\n",
       "    </tr>\n",
       "  </thead>\n",
       "  <tbody>\n",
       "    <tr>\n",
       "      <th>Ensemble SCORE</th>\n",
       "      <td>0.309524</td>\n",
       "      <td>0.47619</td>\n",
       "      <td>0.714286</td>\n",
       "      <td>0.537409</td>\n",
       "      <td>0.371605</td>\n",
       "    </tr>\n",
       "  </tbody>\n",
       "</table>\n",
       "</div>"
      ],
      "text/plain": [
       "                     map      mrr    avg_sr  avg_ndcg    avg_p3\n",
       "Ensemble SCORE  0.309524  0.47619  0.714286  0.537409  0.371605"
      ]
     },
     "metadata": {},
     "output_type": "display_data"
    },
    {
     "name": "stdout",
     "output_type": "stream",
     "text": [
      "newborn care 18 270 0.06666666666666667\n"
     ]
    },
    {
     "data": {
      "text/html": [
       "<div>\n",
       "<style scoped>\n",
       "    .dataframe tbody tr th:only-of-type {\n",
       "        vertical-align: middle;\n",
       "    }\n",
       "\n",
       "    .dataframe tbody tr th {\n",
       "        vertical-align: top;\n",
       "    }\n",
       "\n",
       "    .dataframe thead th {\n",
       "        text-align: right;\n",
       "    }\n",
       "</style>\n",
       "<table border=\"1\" class=\"dataframe\">\n",
       "  <thead>\n",
       "    <tr style=\"text-align: right;\">\n",
       "      <th></th>\n",
       "      <th>map</th>\n",
       "      <th>mrr</th>\n",
       "      <th>avg_sr</th>\n",
       "      <th>avg_ndcg</th>\n",
       "      <th>avg_p3</th>\n",
       "    </tr>\n",
       "  </thead>\n",
       "  <tbody>\n",
       "    <tr>\n",
       "      <th>Ensemble SCORE</th>\n",
       "      <td>0.490741</td>\n",
       "      <td>0.638889</td>\n",
       "      <td>0.722222</td>\n",
       "      <td>0.660711</td>\n",
       "      <td>0.371605</td>\n",
       "    </tr>\n",
       "  </tbody>\n",
       "</table>\n",
       "</div>"
      ],
      "text/plain": [
       "                     map       mrr    avg_sr  avg_ndcg    avg_p3\n",
       "Ensemble SCORE  0.490741  0.638889  0.722222  0.660711  0.371605"
      ]
     },
     "metadata": {},
     "output_type": "display_data"
    },
    {
     "name": "stdout",
     "output_type": "stream",
     "text": [
      "menstruation 16 270 0.05925925925925926\n"
     ]
    },
    {
     "data": {
      "text/html": [
       "<div>\n",
       "<style scoped>\n",
       "    .dataframe tbody tr th:only-of-type {\n",
       "        vertical-align: middle;\n",
       "    }\n",
       "\n",
       "    .dataframe tbody tr th {\n",
       "        vertical-align: top;\n",
       "    }\n",
       "\n",
       "    .dataframe thead th {\n",
       "        text-align: right;\n",
       "    }\n",
       "</style>\n",
       "<table border=\"1\" class=\"dataframe\">\n",
       "  <thead>\n",
       "    <tr style=\"text-align: right;\">\n",
       "      <th></th>\n",
       "      <th>map</th>\n",
       "      <th>mrr</th>\n",
       "      <th>avg_sr</th>\n",
       "      <th>avg_ndcg</th>\n",
       "      <th>avg_p3</th>\n",
       "    </tr>\n",
       "  </thead>\n",
       "  <tbody>\n",
       "    <tr>\n",
       "      <th>Ensemble SCORE</th>\n",
       "      <td>0.493056</td>\n",
       "      <td>0.708333</td>\n",
       "      <td>0.8125</td>\n",
       "      <td>0.726349</td>\n",
       "      <td>0.371605</td>\n",
       "    </tr>\n",
       "  </tbody>\n",
       "</table>\n",
       "</div>"
      ],
      "text/plain": [
       "                     map       mrr  avg_sr  avg_ndcg    avg_p3\n",
       "Ensemble SCORE  0.493056  0.708333  0.8125  0.726349  0.371605"
      ]
     },
     "metadata": {},
     "output_type": "display_data"
    },
    {
     "name": "stdout",
     "output_type": "stream",
     "text": [
      "new born sleep 13 270 0.04814814814814815\n"
     ]
    },
    {
     "data": {
      "text/html": [
       "<div>\n",
       "<style scoped>\n",
       "    .dataframe tbody tr th:only-of-type {\n",
       "        vertical-align: middle;\n",
       "    }\n",
       "\n",
       "    .dataframe tbody tr th {\n",
       "        vertical-align: top;\n",
       "    }\n",
       "\n",
       "    .dataframe thead th {\n",
       "        text-align: right;\n",
       "    }\n",
       "</style>\n",
       "<table border=\"1\" class=\"dataframe\">\n",
       "  <thead>\n",
       "    <tr style=\"text-align: right;\">\n",
       "      <th></th>\n",
       "      <th>map</th>\n",
       "      <th>mrr</th>\n",
       "      <th>avg_sr</th>\n",
       "      <th>avg_ndcg</th>\n",
       "      <th>avg_p3</th>\n",
       "    </tr>\n",
       "  </thead>\n",
       "  <tbody>\n",
       "    <tr>\n",
       "      <th>Ensemble SCORE</th>\n",
       "      <td>0.307692</td>\n",
       "      <td>0.384615</td>\n",
       "      <td>0.384615</td>\n",
       "      <td>0.384615</td>\n",
       "      <td>0.371605</td>\n",
       "    </tr>\n",
       "  </tbody>\n",
       "</table>\n",
       "</div>"
      ],
      "text/plain": [
       "                     map       mrr    avg_sr  avg_ndcg    avg_p3\n",
       "Ensemble SCORE  0.307692  0.384615  0.384615  0.384615  0.371605"
      ]
     },
     "metadata": {},
     "output_type": "display_data"
    },
    {
     "name": "stdout",
     "output_type": "stream",
     "text": [
      "health and happiness in mother 17 270 0.06296296296296296\n"
     ]
    },
    {
     "data": {
      "text/html": [
       "<div>\n",
       "<style scoped>\n",
       "    .dataframe tbody tr th:only-of-type {\n",
       "        vertical-align: middle;\n",
       "    }\n",
       "\n",
       "    .dataframe tbody tr th {\n",
       "        vertical-align: top;\n",
       "    }\n",
       "\n",
       "    .dataframe thead th {\n",
       "        text-align: right;\n",
       "    }\n",
       "</style>\n",
       "<table border=\"1\" class=\"dataframe\">\n",
       "  <thead>\n",
       "    <tr style=\"text-align: right;\">\n",
       "      <th></th>\n",
       "      <th>map</th>\n",
       "      <th>mrr</th>\n",
       "      <th>avg_sr</th>\n",
       "      <th>avg_ndcg</th>\n",
       "      <th>avg_p3</th>\n",
       "    </tr>\n",
       "  </thead>\n",
       "  <tbody>\n",
       "    <tr>\n",
       "      <th>Ensemble SCORE</th>\n",
       "      <td>0.431373</td>\n",
       "      <td>0.617647</td>\n",
       "      <td>0.647059</td>\n",
       "      <td>0.612375</td>\n",
       "      <td>0.371605</td>\n",
       "    </tr>\n",
       "  </tbody>\n",
       "</table>\n",
       "</div>"
      ],
      "text/plain": [
       "                     map       mrr    avg_sr  avg_ndcg    avg_p3\n",
       "Ensemble SCORE  0.431373  0.617647  0.647059  0.612375  0.371605"
      ]
     },
     "metadata": {},
     "output_type": "display_data"
    },
    {
     "name": "stdout",
     "output_type": "stream",
     "text": [
      "danger sign in newborn 19 270 0.07037037037037037\n"
     ]
    },
    {
     "data": {
      "text/html": [
       "<div>\n",
       "<style scoped>\n",
       "    .dataframe tbody tr th:only-of-type {\n",
       "        vertical-align: middle;\n",
       "    }\n",
       "\n",
       "    .dataframe tbody tr th {\n",
       "        vertical-align: top;\n",
       "    }\n",
       "\n",
       "    .dataframe thead th {\n",
       "        text-align: right;\n",
       "    }\n",
       "</style>\n",
       "<table border=\"1\" class=\"dataframe\">\n",
       "  <thead>\n",
       "    <tr style=\"text-align: right;\">\n",
       "      <th></th>\n",
       "      <th>map</th>\n",
       "      <th>mrr</th>\n",
       "      <th>avg_sr</th>\n",
       "      <th>avg_ndcg</th>\n",
       "      <th>avg_p3</th>\n",
       "    </tr>\n",
       "  </thead>\n",
       "  <tbody>\n",
       "    <tr>\n",
       "      <th>Ensemble SCORE</th>\n",
       "      <td>0.397661</td>\n",
       "      <td>0.535088</td>\n",
       "      <td>0.631579</td>\n",
       "      <td>0.551203</td>\n",
       "      <td>0.371605</td>\n",
       "    </tr>\n",
       "  </tbody>\n",
       "</table>\n",
       "</div>"
      ],
      "text/plain": [
       "                     map       mrr    avg_sr  avg_ndcg    avg_p3\n",
       "Ensemble SCORE  0.397661  0.535088  0.631579  0.551203  0.371605"
      ]
     },
     "metadata": {},
     "output_type": "display_data"
    },
    {
     "name": "stdout",
     "output_type": "stream",
     "text": [
      "gynaecological disorders 19 270 0.07037037037037037\n"
     ]
    },
    {
     "data": {
      "text/html": [
       "<div>\n",
       "<style scoped>\n",
       "    .dataframe tbody tr th:only-of-type {\n",
       "        vertical-align: middle;\n",
       "    }\n",
       "\n",
       "    .dataframe tbody tr th {\n",
       "        vertical-align: top;\n",
       "    }\n",
       "\n",
       "    .dataframe thead th {\n",
       "        text-align: right;\n",
       "    }\n",
       "</style>\n",
       "<table border=\"1\" class=\"dataframe\">\n",
       "  <thead>\n",
       "    <tr style=\"text-align: right;\">\n",
       "      <th></th>\n",
       "      <th>map</th>\n",
       "      <th>mrr</th>\n",
       "      <th>avg_sr</th>\n",
       "      <th>avg_ndcg</th>\n",
       "      <th>avg_p3</th>\n",
       "    </tr>\n",
       "  </thead>\n",
       "  <tbody>\n",
       "    <tr>\n",
       "      <th>Ensemble SCORE</th>\n",
       "      <td>0.447368</td>\n",
       "      <td>0.657895</td>\n",
       "      <td>0.789474</td>\n",
       "      <td>0.682651</td>\n",
       "      <td>0.371605</td>\n",
       "    </tr>\n",
       "  </tbody>\n",
       "</table>\n",
       "</div>"
      ],
      "text/plain": [
       "                     map       mrr    avg_sr  avg_ndcg    avg_p3\n",
       "Ensemble SCORE  0.447368  0.657895  0.789474  0.682651  0.371605"
      ]
     },
     "metadata": {},
     "output_type": "display_data"
    },
    {
     "name": "stdout",
     "output_type": "stream",
     "text": [
      "older child 18 270 0.06666666666666667\n"
     ]
    },
    {
     "data": {
      "text/html": [
       "<div>\n",
       "<style scoped>\n",
       "    .dataframe tbody tr th:only-of-type {\n",
       "        vertical-align: middle;\n",
       "    }\n",
       "\n",
       "    .dataframe tbody tr th {\n",
       "        vertical-align: top;\n",
       "    }\n",
       "\n",
       "    .dataframe thead th {\n",
       "        text-align: right;\n",
       "    }\n",
       "</style>\n",
       "<table border=\"1\" class=\"dataframe\">\n",
       "  <thead>\n",
       "    <tr style=\"text-align: right;\">\n",
       "      <th></th>\n",
       "      <th>map</th>\n",
       "      <th>mrr</th>\n",
       "      <th>avg_sr</th>\n",
       "      <th>avg_ndcg</th>\n",
       "      <th>avg_p3</th>\n",
       "    </tr>\n",
       "  </thead>\n",
       "  <tbody>\n",
       "    <tr>\n",
       "      <th>Ensemble SCORE</th>\n",
       "      <td>0.521605</td>\n",
       "      <td>0.657407</td>\n",
       "      <td>0.722222</td>\n",
       "      <td>0.652815</td>\n",
       "      <td>0.371605</td>\n",
       "    </tr>\n",
       "  </tbody>\n",
       "</table>\n",
       "</div>"
      ],
      "text/plain": [
       "                     map       mrr    avg_sr  avg_ndcg    avg_p3\n",
       "Ensemble SCORE  0.521605  0.657407  0.722222  0.652815  0.371605"
      ]
     },
     "metadata": {},
     "output_type": "display_data"
    },
    {
     "name": "stdout",
     "output_type": "stream",
     "text": [
      "newborn temperature 20 270 0.07407407407407407\n"
     ]
    },
    {
     "data": {
      "text/html": [
       "<div>\n",
       "<style scoped>\n",
       "    .dataframe tbody tr th:only-of-type {\n",
       "        vertical-align: middle;\n",
       "    }\n",
       "\n",
       "    .dataframe tbody tr th {\n",
       "        vertical-align: top;\n",
       "    }\n",
       "\n",
       "    .dataframe thead th {\n",
       "        text-align: right;\n",
       "    }\n",
       "</style>\n",
       "<table border=\"1\" class=\"dataframe\">\n",
       "  <thead>\n",
       "    <tr style=\"text-align: right;\">\n",
       "      <th></th>\n",
       "      <th>map</th>\n",
       "      <th>mrr</th>\n",
       "      <th>avg_sr</th>\n",
       "      <th>avg_ndcg</th>\n",
       "      <th>avg_p3</th>\n",
       "    </tr>\n",
       "  </thead>\n",
       "  <tbody>\n",
       "    <tr>\n",
       "      <th>Ensemble SCORE</th>\n",
       "      <td>0.488889</td>\n",
       "      <td>0.691667</td>\n",
       "      <td>0.8</td>\n",
       "      <td>0.685742</td>\n",
       "      <td>0.371605</td>\n",
       "    </tr>\n",
       "  </tbody>\n",
       "</table>\n",
       "</div>"
      ],
      "text/plain": [
       "                     map       mrr  avg_sr  avg_ndcg    avg_p3\n",
       "Ensemble SCORE  0.488889  0.691667     0.8  0.685742  0.371605"
      ]
     },
     "metadata": {},
     "output_type": "display_data"
    },
    {
     "name": "stdout",
     "output_type": "stream",
     "text": [
      "contraception 17 270 0.06296296296296296\n"
     ]
    },
    {
     "data": {
      "text/html": [
       "<div>\n",
       "<style scoped>\n",
       "    .dataframe tbody tr th:only-of-type {\n",
       "        vertical-align: middle;\n",
       "    }\n",
       "\n",
       "    .dataframe tbody tr th {\n",
       "        vertical-align: top;\n",
       "    }\n",
       "\n",
       "    .dataframe thead th {\n",
       "        text-align: right;\n",
       "    }\n",
       "</style>\n",
       "<table border=\"1\" class=\"dataframe\">\n",
       "  <thead>\n",
       "    <tr style=\"text-align: right;\">\n",
       "      <th></th>\n",
       "      <th>map</th>\n",
       "      <th>mrr</th>\n",
       "      <th>avg_sr</th>\n",
       "      <th>avg_ndcg</th>\n",
       "      <th>avg_p3</th>\n",
       "    </tr>\n",
       "  </thead>\n",
       "  <tbody>\n",
       "    <tr>\n",
       "      <th>Ensemble SCORE</th>\n",
       "      <td>0.343137</td>\n",
       "      <td>0.45098</td>\n",
       "      <td>0.529412</td>\n",
       "      <td>0.462336</td>\n",
       "      <td>0.371605</td>\n",
       "    </tr>\n",
       "  </tbody>\n",
       "</table>\n",
       "</div>"
      ],
      "text/plain": [
       "                     map      mrr    avg_sr  avg_ndcg    avg_p3\n",
       "Ensemble SCORE  0.343137  0.45098  0.529412  0.462336  0.371605"
      ]
     },
     "metadata": {},
     "output_type": "display_data"
    },
    {
     "name": "stdout",
     "output_type": "stream",
     "text": [
      "talking and playing with newborn baby 14 270 0.05185185185185185\n"
     ]
    },
    {
     "data": {
      "text/html": [
       "<div>\n",
       "<style scoped>\n",
       "    .dataframe tbody tr th:only-of-type {\n",
       "        vertical-align: middle;\n",
       "    }\n",
       "\n",
       "    .dataframe tbody tr th {\n",
       "        vertical-align: top;\n",
       "    }\n",
       "\n",
       "    .dataframe thead th {\n",
       "        text-align: right;\n",
       "    }\n",
       "</style>\n",
       "<table border=\"1\" class=\"dataframe\">\n",
       "  <thead>\n",
       "    <tr style=\"text-align: right;\">\n",
       "      <th></th>\n",
       "      <th>map</th>\n",
       "      <th>mrr</th>\n",
       "      <th>avg_sr</th>\n",
       "      <th>avg_ndcg</th>\n",
       "      <th>avg_p3</th>\n",
       "    </tr>\n",
       "  </thead>\n",
       "  <tbody>\n",
       "    <tr>\n",
       "      <th>Ensemble SCORE</th>\n",
       "      <td>0.404762</td>\n",
       "      <td>0.595238</td>\n",
       "      <td>0.714286</td>\n",
       "      <td>0.610824</td>\n",
       "      <td>0.371605</td>\n",
       "    </tr>\n",
       "  </tbody>\n",
       "</table>\n",
       "</div>"
      ],
      "text/plain": [
       "                     map       mrr    avg_sr  avg_ndcg    avg_p3\n",
       "Ensemble SCORE  0.404762  0.595238  0.714286  0.610824  0.371605"
      ]
     },
     "metadata": {},
     "output_type": "display_data"
    },
    {
     "name": "stdout",
     "output_type": "stream",
     "text": [
      "adolescent 12 270 0.044444444444444446\n"
     ]
    },
    {
     "data": {
      "text/html": [
       "<div>\n",
       "<style scoped>\n",
       "    .dataframe tbody tr th:only-of-type {\n",
       "        vertical-align: middle;\n",
       "    }\n",
       "\n",
       "    .dataframe tbody tr th {\n",
       "        vertical-align: top;\n",
       "    }\n",
       "\n",
       "    .dataframe thead th {\n",
       "        text-align: right;\n",
       "    }\n",
       "</style>\n",
       "<table border=\"1\" class=\"dataframe\">\n",
       "  <thead>\n",
       "    <tr style=\"text-align: right;\">\n",
       "      <th></th>\n",
       "      <th>map</th>\n",
       "      <th>mrr</th>\n",
       "      <th>avg_sr</th>\n",
       "      <th>avg_ndcg</th>\n",
       "      <th>avg_p3</th>\n",
       "    </tr>\n",
       "  </thead>\n",
       "  <tbody>\n",
       "    <tr>\n",
       "      <th>Ensemble SCORE</th>\n",
       "      <td>0.412037</td>\n",
       "      <td>0.625</td>\n",
       "      <td>0.833333</td>\n",
       "      <td>0.677577</td>\n",
       "      <td>0.371605</td>\n",
       "    </tr>\n",
       "  </tbody>\n",
       "</table>\n",
       "</div>"
      ],
      "text/plain": [
       "                     map    mrr    avg_sr  avg_ndcg    avg_p3\n",
       "Ensemble SCORE  0.412037  0.625  0.833333  0.677577  0.371605"
      ]
     },
     "metadata": {},
     "output_type": "display_data"
    },
    {
     "name": "stdout",
     "output_type": "stream",
     "text": [
      "vaccination 12 270 0.044444444444444446\n"
     ]
    },
    {
     "data": {
      "text/html": [
       "<div>\n",
       "<style scoped>\n",
       "    .dataframe tbody tr th:only-of-type {\n",
       "        vertical-align: middle;\n",
       "    }\n",
       "\n",
       "    .dataframe tbody tr th {\n",
       "        vertical-align: top;\n",
       "    }\n",
       "\n",
       "    .dataframe thead th {\n",
       "        text-align: right;\n",
       "    }\n",
       "</style>\n",
       "<table border=\"1\" class=\"dataframe\">\n",
       "  <thead>\n",
       "    <tr style=\"text-align: right;\">\n",
       "      <th></th>\n",
       "      <th>map</th>\n",
       "      <th>mrr</th>\n",
       "      <th>avg_sr</th>\n",
       "      <th>avg_ndcg</th>\n",
       "      <th>avg_p3</th>\n",
       "    </tr>\n",
       "  </thead>\n",
       "  <tbody>\n",
       "    <tr>\n",
       "      <th>Ensemble SCORE</th>\n",
       "      <td>0.527778</td>\n",
       "      <td>0.791667</td>\n",
       "      <td>0.916667</td>\n",
       "      <td>0.811019</td>\n",
       "      <td>0.371605</td>\n",
       "    </tr>\n",
       "  </tbody>\n",
       "</table>\n",
       "</div>"
      ],
      "text/plain": [
       "                     map       mrr    avg_sr  avg_ndcg    avg_p3\n",
       "Ensemble SCORE  0.527778  0.791667  0.916667  0.811019  0.371605"
      ]
     },
     "metadata": {},
     "output_type": "display_data"
    },
    {
     "name": "stdout",
     "output_type": "stream",
     "text": [
      "newborn crying 18 270 0.06666666666666667\n"
     ]
    },
    {
     "data": {
      "text/html": [
       "<div>\n",
       "<style scoped>\n",
       "    .dataframe tbody tr th:only-of-type {\n",
       "        vertical-align: middle;\n",
       "    }\n",
       "\n",
       "    .dataframe tbody tr th {\n",
       "        vertical-align: top;\n",
       "    }\n",
       "\n",
       "    .dataframe thead th {\n",
       "        text-align: right;\n",
       "    }\n",
       "</style>\n",
       "<table border=\"1\" class=\"dataframe\">\n",
       "  <thead>\n",
       "    <tr style=\"text-align: right;\">\n",
       "      <th></th>\n",
       "      <th>map</th>\n",
       "      <th>mrr</th>\n",
       "      <th>avg_sr</th>\n",
       "      <th>avg_ndcg</th>\n",
       "      <th>avg_p3</th>\n",
       "    </tr>\n",
       "  </thead>\n",
       "  <tbody>\n",
       "    <tr>\n",
       "      <th>Ensemble SCORE</th>\n",
       "      <td>0.651235</td>\n",
       "      <td>0.777778</td>\n",
       "      <td>0.777778</td>\n",
       "      <td>0.758976</td>\n",
       "      <td>0.371605</td>\n",
       "    </tr>\n",
       "  </tbody>\n",
       "</table>\n",
       "</div>"
      ],
      "text/plain": [
       "                     map       mrr    avg_sr  avg_ndcg    avg_p3\n",
       "Ensemble SCORE  0.651235  0.777778  0.777778  0.758976  0.371605"
      ]
     },
     "metadata": {},
     "output_type": "display_data"
    },
    {
     "name": "stdout",
     "output_type": "stream",
     "text": [
      "danger sign in mother 18 270 0.06666666666666667\n"
     ]
    },
    {
     "data": {
      "text/html": [
       "<div>\n",
       "<style scoped>\n",
       "    .dataframe tbody tr th:only-of-type {\n",
       "        vertical-align: middle;\n",
       "    }\n",
       "\n",
       "    .dataframe tbody tr th {\n",
       "        vertical-align: top;\n",
       "    }\n",
       "\n",
       "    .dataframe thead th {\n",
       "        text-align: right;\n",
       "    }\n",
       "</style>\n",
       "<table border=\"1\" class=\"dataframe\">\n",
       "  <thead>\n",
       "    <tr style=\"text-align: right;\">\n",
       "      <th></th>\n",
       "      <th>map</th>\n",
       "      <th>mrr</th>\n",
       "      <th>avg_sr</th>\n",
       "      <th>avg_ndcg</th>\n",
       "      <th>avg_p3</th>\n",
       "    </tr>\n",
       "  </thead>\n",
       "  <tbody>\n",
       "    <tr>\n",
       "      <th>Ensemble SCORE</th>\n",
       "      <td>0.537037</td>\n",
       "      <td>0.666667</td>\n",
       "      <td>0.722222</td>\n",
       "      <td>0.673678</td>\n",
       "      <td>0.371605</td>\n",
       "    </tr>\n",
       "  </tbody>\n",
       "</table>\n",
       "</div>"
      ],
      "text/plain": [
       "                     map       mrr    avg_sr  avg_ndcg    avg_p3\n",
       "Ensemble SCORE  0.537037  0.666667  0.722222  0.673678  0.371605"
      ]
     },
     "metadata": {},
     "output_type": "display_data"
    }
   ],
   "source": [
    "print(list(df2['Category'].unique()))\n",
    "print(len(list(df2['Category'].unique())))\n",
    "for cat in list(df2['Category'].unique()):\n",
    "    df1 = df2[df2['Category']==cat].reset_index(drop=True)\n",
    "    print(cat, len(df1), len(df2), len(df1)/len(df2))\n",
    "    display(pd.DataFrame(calc_metrics(df1),index=df1.Model_name.unique()))"
   ]
  },
  {
   "cell_type": "code",
   "execution_count": 5,
   "metadata": {
    "code_folding": [
     0
    ]
   },
   "outputs": [],
   "source": [
    "# ----- common functions -------\n",
    "# convert the to binary matrix \n",
    "def get_data(acolumns,right_ans):\n",
    "    repd = []\n",
    "    for _,vec in acolumns.iterrows(): # vec = [2,3,1]\n",
    "        rep = []\n",
    "        for ind in vec.values:\n",
    "            if ind in right_ans:\n",
    "                rep.append(1)\n",
    "            else:\n",
    "                rep.append(0)\n",
    "        repd.append(rep)\n",
    "    return np.array(repd)\n",
    "\n",
    "\n",
    "def precision_at_k(data):\n",
    "    \"\"\"\n",
    "    param : data\n",
    "    2-D array representing right ans in each row\n",
    "    \"\"\"\n",
    "    prec = []\n",
    "    for vec in data:\n",
    "        rev_doc = 0\n",
    "        tot_doc = 0\n",
    "        prec_vec = []\n",
    "        for doc in vec:\n",
    "            if doc == 1:\n",
    "                rev_doc +=1\n",
    "            tot_doc +=1\n",
    "            prec_vec.append(rev_doc/tot_doc)\n",
    "        prec.append(np.array(prec_vec))\n",
    "    return np.array(prec)\n",
    "\n",
    "def reciprocal_rank(data):\n",
    "    \"\"\"\n",
    "    param : data\n",
    "    2-D array representing right ans in each row\n",
    "    \"\"\"\n",
    "    rr = []\n",
    "    for vec in data: #  vec = [0,1,1]\n",
    "        i = 1\n",
    "        for ind in vec:\n",
    "            if ind == 1:\n",
    "                break\n",
    "            i+=1\n",
    "        #print(i)\n",
    "        if i !=4:\n",
    "            rr.append(1/i)\n",
    "        else:\n",
    "            rr.append(0)\n",
    "    return np.array(rr)\n",
    "\n",
    "def success_ratio(data):\n",
    "    \"\"\"\n",
    "    param : data\n",
    "    2-D array representing right ans in each row\n",
    "    \"\"\"\n",
    "    sr_mat = []\n",
    "    for vec in data:\n",
    "        #sr_mat.append(sum(vec)/len(vec))\n",
    "        sr_mat.append(max(vec))\n",
    "    \n",
    "    return np.array(sr_mat)\n",
    "\n",
    "def invert_rel(element):\n",
    "    rmap = {1:2,2:1,3:0}\n",
    "    return rmap[element] "
   ]
  },
  {
   "cell_type": "code",
   "execution_count": 6,
   "metadata": {
    "code_folding": [
     0
    ]
   },
   "outputs": [],
   "source": [
    "# ----- top 3 -----\n",
    "def precision_at_3(data):\n",
    "    \"\"\"\n",
    "    param : data\n",
    "    2-D array representing right ans in each row\n",
    "    \"\"\"\n",
    "    prec_at_k = precision_at_k(mat_bin)\n",
    "    k = 3-1\n",
    "    prec_at_3 = [vec[k] for vec in prec_at_k]\n",
    "    return np.array(prec_at_3)\n",
    "\n",
    "def avg_precision_at_3(data):\n",
    "    \"\"\"\n",
    "    param : data\n",
    "    2-D array representing right ans in each row\n",
    "    \"\"\"\n",
    "    data = precision_at_k(data)\n",
    "    aprec = []\n",
    "    for vec in data:\n",
    "        aprec.append(sum(vec)/3)\n",
    "    return np.array(aprec)\n",
    "\n",
    "def ndcg(acolumn):\n",
    "    \"\"\"\n",
    "    param : acolumn\n",
    "    pandas series representing ans in each cell\n",
    "    \"\"\"\n",
    "    idcg_vec = np.array([1/np.log2(2) , 1/np.log2(3) , 1/np.log2(4)])\n",
    "    temp = pd.DataFrame()\n",
    "    temp[\"final_1\"] = acolumn[\"final_1\"].apply(invert_rel)\n",
    "    temp[\"final_2\"] = acolumn[\"final_2\"].apply(invert_rel)\n",
    "    temp[\"final_3\"] = acolumn[\"final_3\"].apply(invert_rel)\n",
    "\n",
    "    ndcg_vec = []\n",
    "\n",
    "    for _,vec in temp.iterrows(): #  vec = [1,2,1] \n",
    "        vec = vec.values  \n",
    "        idcg = sum(idcg_vec*sorted(vec,reverse=True))\n",
    "        if idcg!=0:\n",
    "            ndcg_vec.append(np.sum(vec*idcg_vec)/idcg)\n",
    "        else:\n",
    "            ndcg_vec.append(0)\n",
    "    return np.array(ndcg_vec)\n",
    "\n",
    "def grp_mean(grp_mat):\n",
    "    return (np.mean(grp_mat[0]),np.mean(grp_mat[1]),np.mean(grp_mat[2]))\n",
    "\n",
    "def calc_metrics(df1):\n",
    "    \"\"\"\n",
    "    param : acolumn\n",
    "    pandas series representing ans in each cell\n",
    "    \"\"\"\n",
    "    acolumn = df1[[\"final_1\",\"final_2\",\"final_3\"]] \n",
    "    data = get_data(acolumn,[1,2])\n",
    "    m_mat = {}\n",
    "\n",
    "    m_mat[\"map\"] = np.mean(avg_precision_at_3(data))\n",
    "    m_mat[\"mrr\"] = np.mean(reciprocal_rank(data))\n",
    "    m_mat[\"avg_sr\"] = np.mean(success_ratio(data))\n",
    "    m_mat[\"avg_ndcg\"] = np.mean(ndcg(acolumn))\n",
    "    m_mat[\"avg_p3\"] = np.mean(precision_at_3(data))\n",
    "    return m_mat\n",
    "\n",
    "mat_bin = get_data(df1[[\"final_1\",\"final_2\",\"final_3\"]],[1,2])"
   ]
  },
  {
   "cell_type": "code",
   "execution_count": 30,
   "metadata": {
    "code_folding": [
     0
    ]
   },
   "outputs": [],
   "source": [
    "# ----- top 5 ------\n",
    "def precision_at_5(data):\n",
    "    \"\"\"\n",
    "    param : data\n",
    "    2-D array representing right ans in each row\n",
    "    \"\"\"\n",
    "    prec_at_k = precision_at_k(mat_bin)\n",
    "    k = 5-1\n",
    "    prec_at_5 = [vec[k] for vec in prec_at_k]\n",
    "    return np.array(prec_at_5)\n",
    "\n",
    "def avg_precision_at_5(data):\n",
    "    \"\"\"\n",
    "    param : data\n",
    "    2-D array representing right ans in each row\n",
    "    \"\"\"\n",
    "    data = precision_at_k(data)\n",
    "    aprec = []\n",
    "    for vec in data:\n",
    "        aprec.append(sum(vec)/5)\n",
    "    return np.array(aprec)\n",
    "\n",
    "# for top 5\n",
    "def ndcg(acolumn):\n",
    "    \"\"\"\n",
    "    param : acolumn\n",
    "    pandas series representing ans in each cell\n",
    "    \"\"\"\n",
    "    idcg_vec = np.array([1/np.log2(2) , 1/np.log2(3) , 1/np.log2(4), 1/np.log2(5), 1/np.log2(6)])\n",
    "    temp = pd.DataFrame()\n",
    "    temp[\"final_1\"] = acolumn[\"final_1\"].apply(invert_rel)\n",
    "    temp[\"final_2\"] = acolumn[\"final_2\"].apply(invert_rel)\n",
    "    temp[\"final_3\"] = acolumn[\"final_3\"].apply(invert_rel)\n",
    "    temp[\"final_4\"] = acolumn[\"final_4\"].apply(invert_rel)\n",
    "    temp[\"final_5\"] = acolumn[\"final_5\"].apply(invert_rel)\n",
    "    \n",
    "\n",
    "    ndcg_vec = []\n",
    "\n",
    "    for _,vec in temp.iterrows(): #  vec = [1,2,1] \n",
    "        vec = vec.values  \n",
    "        idcg = sum(idcg_vec*sorted(vec,reverse=True))\n",
    "        if idcg!=0:\n",
    "            ndcg_vec.append(np.sum(vec*idcg_vec)/idcg)\n",
    "        else:\n",
    "            ndcg_vec.append(0)\n",
    "    return np.array(ndcg_vec)\n",
    "\n",
    "# for top 5\n",
    "def grp_mean(grp_mat):\n",
    "    return (np.mean(grp_mat[0]),np.mean(grp_mat[1]),np.mean(grp_mat[2]),np.mean(grp_mat[4]),np.mean(grp_mat[5]))\n",
    "\n",
    "# for top 5\n",
    "def calc_metrics(df1):\n",
    "    \"\"\"\n",
    "    param : acolumn\n",
    "    pandas series representing ans in each cell\n",
    "    \"\"\"\n",
    "    acolumn = df1[[\"final_1\",\"final_2\",\"final_3\",\"final_4\",\"final_5\"]] \n",
    "    data = get_data(acolumn,[1,2])\n",
    "    m_mat = {}\n",
    "\n",
    "    m_mat[\"map\"] = np.mean(avg_precision_at_5(data))\n",
    "    m_mat[\"mrr\"] = np.mean(reciprocal_rank(data))\n",
    "    m_mat[\"avg_sr\"] = np.mean(success_ratio(data))\n",
    "    m_mat[\"avg_ndcg\"] = np.mean(ndcg(acolumn))\n",
    "    m_mat[\"avg_p5\"] = np.mean(precision_at_5(data))\n",
    "    return m_mat\n",
    "\n",
    "mat_bin = get_data(df1[[\"final_1\",\"final_2\",\"final_3\",\"final_4\",\"final_5\"]],[1,2])"
   ]
  },
  {
   "cell_type": "code",
   "execution_count": 12,
   "metadata": {},
   "outputs": [
    {
     "data": {
      "text/plain": [
       "{'map': 0.3032921810699588,\n",
       " 'mrr': 0.4388888888888889,\n",
       " 'avg_sr': 0.5111111111111111,\n",
       " 'avg_ndcg': 0.45577723373931284,\n",
       " 'avg_p3': 0.23950617283950615}"
      ]
     },
     "execution_count": 12,
     "metadata": {},
     "output_type": "execute_result"
    }
   ],
   "source": [
    "calc_metrics(df1)"
   ]
  },
  {
   "cell_type": "markdown",
   "metadata": {
    "heading_collapsed": true
   },
   "source": [
    "# Outside"
   ]
  },
  {
   "cell_type": "markdown",
   "metadata": {
    "heading_collapsed": true,
    "hidden": true
   },
   "source": [
    "## Ensemble"
   ]
  },
  {
   "cell_type": "markdown",
   "metadata": {
    "heading_collapsed": true,
    "hidden": true
   },
   "source": [
    "### New "
   ]
  },
  {
   "cell_type": "code",
   "execution_count": 12,
   "metadata": {
    "hidden": true
   },
   "outputs": [
    {
     "data": {
      "text/html": [
       "<div>\n",
       "<style scoped>\n",
       "    .dataframe tbody tr th:only-of-type {\n",
       "        vertical-align: middle;\n",
       "    }\n",
       "\n",
       "    .dataframe tbody tr th {\n",
       "        vertical-align: top;\n",
       "    }\n",
       "\n",
       "    .dataframe thead th {\n",
       "        text-align: right;\n",
       "    }\n",
       "</style>\n",
       "<table border=\"1\" class=\"dataframe\">\n",
       "  <thead>\n",
       "    <tr style=\"text-align: right;\">\n",
       "      <th></th>\n",
       "      <th>map</th>\n",
       "      <th>mrr</th>\n",
       "      <th>avg_sr</th>\n",
       "      <th>avg_ndcg</th>\n",
       "      <th>avg_p3</th>\n",
       "    </tr>\n",
       "  </thead>\n",
       "  <tbody>\n",
       "    <tr>\n",
       "      <th>Ensemble SCORE</th>\n",
       "      <td>0.453498</td>\n",
       "      <td>0.616049</td>\n",
       "      <td>0.703704</td>\n",
       "      <td>0.625265</td>\n",
       "      <td>0.346914</td>\n",
       "    </tr>\n",
       "  </tbody>\n",
       "</table>\n",
       "</div>"
      ],
      "text/plain": [
       "                     map       mrr    avg_sr  avg_ndcg    avg_p3\n",
       "Ensemble SCORE  0.453498  0.616049  0.703704  0.625265  0.346914"
      ]
     },
     "execution_count": 12,
     "metadata": {},
     "output_type": "execute_result"
    }
   ],
   "source": [
    "# E48\n",
    "pd.DataFrame(calc_metrics(df1),index=df1.Model_name.unique())"
   ]
  },
  {
   "cell_type": "code",
   "execution_count": 16,
   "metadata": {
    "hidden": true
   },
   "outputs": [
    {
     "data": {
      "text/html": [
       "<div>\n",
       "<style scoped>\n",
       "    .dataframe tbody tr th:only-of-type {\n",
       "        vertical-align: middle;\n",
       "    }\n",
       "\n",
       "    .dataframe tbody tr th {\n",
       "        vertical-align: top;\n",
       "    }\n",
       "\n",
       "    .dataframe thead th {\n",
       "        text-align: right;\n",
       "    }\n",
       "</style>\n",
       "<table border=\"1\" class=\"dataframe\">\n",
       "  <thead>\n",
       "    <tr style=\"text-align: right;\">\n",
       "      <th></th>\n",
       "      <th>map</th>\n",
       "      <th>mrr</th>\n",
       "      <th>avg_sr</th>\n",
       "      <th>avg_ndcg</th>\n",
       "      <th>avg_p3</th>\n",
       "    </tr>\n",
       "  </thead>\n",
       "  <tbody>\n",
       "    <tr>\n",
       "      <th>Ensemble SCORE</th>\n",
       "      <td>0.408848</td>\n",
       "      <td>0.565432</td>\n",
       "      <td>0.662963</td>\n",
       "      <td>0.582743</td>\n",
       "      <td>0.346914</td>\n",
       "    </tr>\n",
       "  </tbody>\n",
       "</table>\n",
       "</div>"
      ],
      "text/plain": [
       "                     map       mrr    avg_sr  avg_ndcg    avg_p3\n",
       "Ensemble SCORE  0.408848  0.565432  0.662963  0.582743  0.346914"
      ]
     },
     "execution_count": 16,
     "metadata": {},
     "output_type": "execute_result"
    }
   ],
   "source": [
    "# E48 without DTP\n",
    "pd.DataFrame(calc_metrics(df1),index=df1.Model_name.unique())"
   ]
  },
  {
   "cell_type": "code",
   "execution_count": 14,
   "metadata": {
    "hidden": true
   },
   "outputs": [
    {
     "data": {
      "text/html": [
       "<div>\n",
       "<style scoped>\n",
       "    .dataframe tbody tr th:only-of-type {\n",
       "        vertical-align: middle;\n",
       "    }\n",
       "\n",
       "    .dataframe tbody tr th {\n",
       "        vertical-align: top;\n",
       "    }\n",
       "\n",
       "    .dataframe thead th {\n",
       "        text-align: right;\n",
       "    }\n",
       "</style>\n",
       "<table border=\"1\" class=\"dataframe\">\n",
       "  <thead>\n",
       "    <tr style=\"text-align: right;\">\n",
       "      <th></th>\n",
       "      <th>map</th>\n",
       "      <th>mrr</th>\n",
       "      <th>avg_sr</th>\n",
       "      <th>avg_ndcg</th>\n",
       "      <th>avg_p3</th>\n",
       "    </tr>\n",
       "  </thead>\n",
       "  <tbody>\n",
       "    <tr>\n",
       "      <th>Ensemble SCORE</th>\n",
       "      <td>0.409465</td>\n",
       "      <td>0.562963</td>\n",
       "      <td>0.662963</td>\n",
       "      <td>0.584571</td>\n",
       "      <td>0.346914</td>\n",
       "    </tr>\n",
       "  </tbody>\n",
       "</table>\n",
       "</div>"
      ],
      "text/plain": [
       "                     map       mrr    avg_sr  avg_ndcg    avg_p3\n",
       "Ensemble SCORE  0.409465  0.562963  0.662963  0.584571  0.346914"
      ]
     },
     "execution_count": 14,
     "metadata": {},
     "output_type": "execute_result"
    }
   ],
   "source": [
    "# E48 without COS\n",
    "pd.DataFrame(calc_metrics(df1),index=df1.Model_name.unique())"
   ]
  },
  {
   "cell_type": "code",
   "execution_count": 5,
   "metadata": {
    "hidden": true
   },
   "outputs": [
    {
     "data": {
      "text/html": [
       "<div>\n",
       "<style scoped>\n",
       "    .dataframe tbody tr th:only-of-type {\n",
       "        vertical-align: middle;\n",
       "    }\n",
       "\n",
       "    .dataframe tbody tr th {\n",
       "        vertical-align: top;\n",
       "    }\n",
       "\n",
       "    .dataframe thead th {\n",
       "        text-align: right;\n",
       "    }\n",
       "</style>\n",
       "<table border=\"1\" class=\"dataframe\">\n",
       "  <thead>\n",
       "    <tr style=\"text-align: right;\">\n",
       "      <th></th>\n",
       "      <th>map</th>\n",
       "      <th>mrr</th>\n",
       "      <th>avg_sr</th>\n",
       "      <th>avg_ndcg</th>\n",
       "      <th>avg_p3</th>\n",
       "    </tr>\n",
       "  </thead>\n",
       "  <tbody>\n",
       "    <tr>\n",
       "      <th>Ensemble SCORE</th>\n",
       "      <td>0.303292</td>\n",
       "      <td>0.438889</td>\n",
       "      <td>0.511111</td>\n",
       "      <td>0.455777</td>\n",
       "      <td>0.239506</td>\n",
       "    </tr>\n",
       "  </tbody>\n",
       "</table>\n",
       "</div>"
      ],
      "text/plain": [
       "                     map       mrr    avg_sr  avg_ndcg    avg_p3\n",
       "Ensemble SCORE  0.303292  0.438889  0.511111  0.455777  0.239506"
      ]
     },
     "execution_count": 5,
     "metadata": {},
     "output_type": "execute_result"
    }
   ],
   "source": [
    "# E48 without SPC\n",
    "pd.DataFrame(calc_metrics(df1),index=df1.Model_name.unique())"
   ]
  },
  {
   "cell_type": "code",
   "execution_count": 22,
   "metadata": {
    "hidden": true
   },
   "outputs": [
    {
     "data": {
      "text/html": [
       "<div>\n",
       "<style scoped>\n",
       "    .dataframe tbody tr th:only-of-type {\n",
       "        vertical-align: middle;\n",
       "    }\n",
       "\n",
       "    .dataframe tbody tr th {\n",
       "        vertical-align: top;\n",
       "    }\n",
       "\n",
       "    .dataframe thead th {\n",
       "        text-align: right;\n",
       "    }\n",
       "</style>\n",
       "<table border=\"1\" class=\"dataframe\">\n",
       "  <thead>\n",
       "    <tr style=\"text-align: right;\">\n",
       "      <th></th>\n",
       "      <th>map</th>\n",
       "      <th>mrr</th>\n",
       "      <th>avg_sr</th>\n",
       "      <th>avg_ndcg</th>\n",
       "      <th>avg_p3</th>\n",
       "    </tr>\n",
       "  </thead>\n",
       "  <tbody>\n",
       "    <tr>\n",
       "      <th>Ensemble sc</th>\n",
       "      <td>0.452675</td>\n",
       "      <td>0.614815</td>\n",
       "      <td>0.718519</td>\n",
       "      <td>0.624003</td>\n",
       "      <td>0.346914</td>\n",
       "    </tr>\n",
       "  </tbody>\n",
       "</table>\n",
       "</div>"
      ],
      "text/plain": [
       "                  map       mrr    avg_sr  avg_ndcg    avg_p3\n",
       "Ensemble sc  0.452675  0.614815  0.718519  0.624003  0.346914"
      ]
     },
     "execution_count": 22,
     "metadata": {},
     "output_type": "execute_result"
    }
   ],
   "source": [
    "# E48 with sus\n",
    "pd.DataFrame(calc_metrics(df1),index=df1.Model_name.unique())"
   ]
  },
  {
   "cell_type": "code",
   "execution_count": 20,
   "metadata": {
    "hidden": true
   },
   "outputs": [
    {
     "data": {
      "text/html": [
       "<div>\n",
       "<style scoped>\n",
       "    .dataframe tbody tr th:only-of-type {\n",
       "        vertical-align: middle;\n",
       "    }\n",
       "\n",
       "    .dataframe tbody tr th {\n",
       "        vertical-align: top;\n",
       "    }\n",
       "\n",
       "    .dataframe thead th {\n",
       "        text-align: right;\n",
       "    }\n",
       "</style>\n",
       "<table border=\"1\" class=\"dataframe\">\n",
       "  <thead>\n",
       "    <tr style=\"text-align: right;\">\n",
       "      <th></th>\n",
       "      <th>map</th>\n",
       "      <th>mrr</th>\n",
       "      <th>avg_sr</th>\n",
       "      <th>avg_ndcg</th>\n",
       "      <th>avg_p3</th>\n",
       "    </tr>\n",
       "  </thead>\n",
       "  <tbody>\n",
       "    <tr>\n",
       "      <th>Ensemble wfm_only</th>\n",
       "      <td>0.44856</td>\n",
       "      <td>0.606173</td>\n",
       "      <td>0.677778</td>\n",
       "      <td>0.609694</td>\n",
       "      <td>0.346914</td>\n",
       "    </tr>\n",
       "  </tbody>\n",
       "</table>\n",
       "</div>"
      ],
      "text/plain": [
       "                       map       mrr    avg_sr  avg_ndcg    avg_p3\n",
       "Ensemble wfm_only  0.44856  0.606173  0.677778  0.609694  0.346914"
      ]
     },
     "execution_count": 20,
     "metadata": {},
     "output_type": "execute_result"
    }
   ],
   "source": [
    "# E48 with qfm\n",
    "pd.DataFrame(calc_metrics(df1),index=df1.Model_name.unique())"
   ]
  },
  {
   "cell_type": "code",
   "execution_count": 24,
   "metadata": {
    "hidden": true
   },
   "outputs": [
    {
     "data": {
      "text/html": [
       "<div>\n",
       "<style scoped>\n",
       "    .dataframe tbody tr th:only-of-type {\n",
       "        vertical-align: middle;\n",
       "    }\n",
       "\n",
       "    .dataframe tbody tr th {\n",
       "        vertical-align: top;\n",
       "    }\n",
       "\n",
       "    .dataframe thead th {\n",
       "        text-align: right;\n",
       "    }\n",
       "</style>\n",
       "<table border=\"1\" class=\"dataframe\">\n",
       "  <thead>\n",
       "    <tr style=\"text-align: right;\">\n",
       "      <th></th>\n",
       "      <th>map</th>\n",
       "      <th>mrr</th>\n",
       "      <th>avg_sr</th>\n",
       "      <th>avg_ndcg</th>\n",
       "      <th>avg_p3</th>\n",
       "    </tr>\n",
       "  </thead>\n",
       "  <tbody>\n",
       "    <tr>\n",
       "      <th>Ensemble wfm_sc</th>\n",
       "      <td>0.45535</td>\n",
       "      <td>0.619753</td>\n",
       "      <td>0.7</td>\n",
       "      <td>0.627323</td>\n",
       "      <td>0.346914</td>\n",
       "    </tr>\n",
       "  </tbody>\n",
       "</table>\n",
       "</div>"
      ],
      "text/plain": [
       "                     map       mrr  avg_sr  avg_ndcg    avg_p3\n",
       "Ensemble wfm_sc  0.45535  0.619753     0.7  0.627323  0.346914"
      ]
     },
     "execution_count": 24,
     "metadata": {},
     "output_type": "execute_result"
    }
   ],
   "source": [
    "# E48 with sus and qfm\n",
    "pd.DataFrame(calc_metrics(df1),index=df1.Model_name.unique())"
   ]
  },
  {
   "cell_type": "code",
   "execution_count": 26,
   "metadata": {
    "hidden": true
   },
   "outputs": [
    {
     "data": {
      "text/html": [
       "<div>\n",
       "<style scoped>\n",
       "    .dataframe tbody tr th:only-of-type {\n",
       "        vertical-align: middle;\n",
       "    }\n",
       "\n",
       "    .dataframe tbody tr th {\n",
       "        vertical-align: top;\n",
       "    }\n",
       "\n",
       "    .dataframe thead th {\n",
       "        text-align: right;\n",
       "    }\n",
       "</style>\n",
       "<table border=\"1\" class=\"dataframe\">\n",
       "  <thead>\n",
       "    <tr style=\"text-align: right;\">\n",
       "      <th></th>\n",
       "      <th>map</th>\n",
       "      <th>mrr</th>\n",
       "      <th>avg_sr</th>\n",
       "      <th>avg_ndcg</th>\n",
       "      <th>avg_p3</th>\n",
       "    </tr>\n",
       "  </thead>\n",
       "  <tbody>\n",
       "    <tr>\n",
       "      <th>Ensemble ns</th>\n",
       "      <td>0.457407</td>\n",
       "      <td>0.620988</td>\n",
       "      <td>0.7</td>\n",
       "      <td>0.627748</td>\n",
       "      <td>0.346914</td>\n",
       "    </tr>\n",
       "  </tbody>\n",
       "</table>\n",
       "</div>"
      ],
      "text/plain": [
       "                  map       mrr  avg_sr  avg_ndcg    avg_p3\n",
       "Ensemble ns  0.457407  0.620988     0.7  0.627748  0.346914"
      ]
     },
     "execution_count": 26,
     "metadata": {},
     "output_type": "execute_result"
    }
   ],
   "source": [
    "# E48 with ns\n",
    "pd.DataFrame(calc_metrics(df1),index=df1.Model_name.unique())"
   ]
  },
  {
   "cell_type": "code",
   "execution_count": 31,
   "metadata": {
    "hidden": true
   },
   "outputs": [
    {
     "data": {
      "text/html": [
       "<div>\n",
       "<style scoped>\n",
       "    .dataframe tbody tr th:only-of-type {\n",
       "        vertical-align: middle;\n",
       "    }\n",
       "\n",
       "    .dataframe tbody tr th {\n",
       "        vertical-align: top;\n",
       "    }\n",
       "\n",
       "    .dataframe thead th {\n",
       "        text-align: right;\n",
       "    }\n",
       "</style>\n",
       "<table border=\"1\" class=\"dataframe\">\n",
       "  <thead>\n",
       "    <tr style=\"text-align: right;\">\n",
       "      <th></th>\n",
       "      <th>map</th>\n",
       "      <th>mrr</th>\n",
       "      <th>avg_sr</th>\n",
       "      <th>avg_ndcg</th>\n",
       "      <th>avg_p5</th>\n",
       "    </tr>\n",
       "  </thead>\n",
       "  <tbody>\n",
       "    <tr>\n",
       "      <th>Ensemble SCORE</th>\n",
       "      <td>0.393815</td>\n",
       "      <td>0.651358</td>\n",
       "      <td>0.737037</td>\n",
       "      <td>0.633796</td>\n",
       "      <td>0.297778</td>\n",
       "    </tr>\n",
       "  </tbody>\n",
       "</table>\n",
       "</div>"
      ],
      "text/plain": [
       "                     map       mrr    avg_sr  avg_ndcg    avg_p5\n",
       "Ensemble SCORE  0.393815  0.651358  0.737037  0.633796  0.297778"
      ]
     },
     "execution_count": 31,
     "metadata": {},
     "output_type": "execute_result"
    }
   ],
   "source": [
    "# E49\n",
    "pd.DataFrame(calc_metrics(df1),index=df1.Model_name.unique())"
   ]
  },
  {
   "cell_type": "code",
   "execution_count": null,
   "metadata": {
    "hidden": true
   },
   "outputs": [],
   "source": []
  },
  {
   "cell_type": "code",
   "execution_count": 15,
   "metadata": {
    "hidden": true
   },
   "outputs": [
    {
     "data": {
      "text/html": [
       "<div>\n",
       "<style scoped>\n",
       "    .dataframe tbody tr th:only-of-type {\n",
       "        vertical-align: middle;\n",
       "    }\n",
       "\n",
       "    .dataframe tbody tr th {\n",
       "        vertical-align: top;\n",
       "    }\n",
       "\n",
       "    .dataframe thead th {\n",
       "        text-align: right;\n",
       "    }\n",
       "</style>\n",
       "<table border=\"1\" class=\"dataframe\">\n",
       "  <thead>\n",
       "    <tr style=\"text-align: right;\">\n",
       "      <th></th>\n",
       "      <th>map</th>\n",
       "      <th>mrr</th>\n",
       "      <th>avg_sr</th>\n",
       "      <th>avg_ndcg</th>\n",
       "      <th>avg_p3</th>\n",
       "    </tr>\n",
       "  </thead>\n",
       "  <tbody>\n",
       "    <tr>\n",
       "      <th>Ensemble wfm_sc</th>\n",
       "      <td>0.438683</td>\n",
       "      <td>0.593827</td>\n",
       "      <td>0.677778</td>\n",
       "      <td>0.600929</td>\n",
       "      <td>0.360494</td>\n",
       "    </tr>\n",
       "  </tbody>\n",
       "</table>\n",
       "</div>"
      ],
      "text/plain": [
       "                      map       mrr    avg_sr  avg_ndcg    avg_p3\n",
       "Ensemble wfm_sc  0.438683  0.593827  0.677778  0.600929  0.360494"
      ]
     },
     "execution_count": 15,
     "metadata": {},
     "output_type": "execute_result"
    }
   ],
   "source": [
    "# E46\n",
    "pd.DataFrame(calc_metrics(df1),index=df1.Model_name.unique())"
   ]
  },
  {
   "cell_type": "code",
   "execution_count": 19,
   "metadata": {
    "hidden": true
   },
   "outputs": [
    {
     "data": {
      "text/html": [
       "<div>\n",
       "<style scoped>\n",
       "    .dataframe tbody tr th:only-of-type {\n",
       "        vertical-align: middle;\n",
       "    }\n",
       "\n",
       "    .dataframe tbody tr th {\n",
       "        vertical-align: top;\n",
       "    }\n",
       "\n",
       "    .dataframe thead th {\n",
       "        text-align: right;\n",
       "    }\n",
       "</style>\n",
       "<table border=\"1\" class=\"dataframe\">\n",
       "  <thead>\n",
       "    <tr style=\"text-align: right;\">\n",
       "      <th></th>\n",
       "      <th>map</th>\n",
       "      <th>mrr</th>\n",
       "      <th>avg_sr</th>\n",
       "      <th>avg_ndcg</th>\n",
       "      <th>avg_p3</th>\n",
       "    </tr>\n",
       "  </thead>\n",
       "  <tbody>\n",
       "    <tr>\n",
       "      <th>Ensemble wfm_sc</th>\n",
       "      <td>0.419547</td>\n",
       "      <td>0.574074</td>\n",
       "      <td>0.692593</td>\n",
       "      <td>0.593039</td>\n",
       "      <td>0.360494</td>\n",
       "    </tr>\n",
       "  </tbody>\n",
       "</table>\n",
       "</div>"
      ],
      "text/plain": [
       "                      map       mrr    avg_sr  avg_ndcg    avg_p3\n",
       "Ensemble wfm_sc  0.419547  0.574074  0.692593  0.593039  0.360494"
      ]
     },
     "execution_count": 19,
     "metadata": {},
     "output_type": "execute_result"
    }
   ],
   "source": [
    "# E46 without COS\n",
    "pd.DataFrame(calc_metrics(df1),index=df1.Model_name.unique())"
   ]
  },
  {
   "cell_type": "code",
   "execution_count": 22,
   "metadata": {
    "hidden": true
   },
   "outputs": [
    {
     "data": {
      "text/html": [
       "<div>\n",
       "<style scoped>\n",
       "    .dataframe tbody tr th:only-of-type {\n",
       "        vertical-align: middle;\n",
       "    }\n",
       "\n",
       "    .dataframe tbody tr th {\n",
       "        vertical-align: top;\n",
       "    }\n",
       "\n",
       "    .dataframe thead th {\n",
       "        text-align: right;\n",
       "    }\n",
       "</style>\n",
       "<table border=\"1\" class=\"dataframe\">\n",
       "  <thead>\n",
       "    <tr style=\"text-align: right;\">\n",
       "      <th></th>\n",
       "      <th>map</th>\n",
       "      <th>mrr</th>\n",
       "      <th>avg_sr</th>\n",
       "      <th>avg_ndcg</th>\n",
       "      <th>avg_p3</th>\n",
       "    </tr>\n",
       "  </thead>\n",
       "  <tbody>\n",
       "    <tr>\n",
       "      <th>Ensemble wfm_sc</th>\n",
       "      <td>0.412757</td>\n",
       "      <td>0.574074</td>\n",
       "      <td>0.681481</td>\n",
       "      <td>0.591871</td>\n",
       "      <td>0.360494</td>\n",
       "    </tr>\n",
       "  </tbody>\n",
       "</table>\n",
       "</div>"
      ],
      "text/plain": [
       "                      map       mrr    avg_sr  avg_ndcg    avg_p3\n",
       "Ensemble wfm_sc  0.412757  0.574074  0.681481  0.591871  0.360494"
      ]
     },
     "execution_count": 22,
     "metadata": {},
     "output_type": "execute_result"
    }
   ],
   "source": [
    "# E46 without DTP\n",
    "pd.DataFrame(calc_metrics(df1),index=df1.Model_name.unique())"
   ]
  },
  {
   "cell_type": "code",
   "execution_count": 24,
   "metadata": {
    "hidden": true
   },
   "outputs": [
    {
     "data": {
      "text/html": [
       "<div>\n",
       "<style scoped>\n",
       "    .dataframe tbody tr th:only-of-type {\n",
       "        vertical-align: middle;\n",
       "    }\n",
       "\n",
       "    .dataframe tbody tr th {\n",
       "        vertical-align: top;\n",
       "    }\n",
       "\n",
       "    .dataframe thead th {\n",
       "        text-align: right;\n",
       "    }\n",
       "</style>\n",
       "<table border=\"1\" class=\"dataframe\">\n",
       "  <thead>\n",
       "    <tr style=\"text-align: right;\">\n",
       "      <th></th>\n",
       "      <th>map</th>\n",
       "      <th>mrr</th>\n",
       "      <th>avg_sr</th>\n",
       "      <th>avg_ndcg</th>\n",
       "      <th>avg_p3</th>\n",
       "    </tr>\n",
       "  </thead>\n",
       "  <tbody>\n",
       "    <tr>\n",
       "      <th>Ensemble wfm_sc</th>\n",
       "      <td>0.383745</td>\n",
       "      <td>0.535185</td>\n",
       "      <td>0.644444</td>\n",
       "      <td>0.558998</td>\n",
       "      <td>0.360494</td>\n",
       "    </tr>\n",
       "  </tbody>\n",
       "</table>\n",
       "</div>"
      ],
      "text/plain": [
       "                      map       mrr    avg_sr  avg_ndcg    avg_p3\n",
       "Ensemble wfm_sc  0.383745  0.535185  0.644444  0.558998  0.360494"
      ]
     },
     "execution_count": 24,
     "metadata": {},
     "output_type": "execute_result"
    }
   ],
   "source": [
    "# E46 without SPC\n",
    "pd.DataFrame(calc_metrics(df1),index=df1.Model_name.unique())"
   ]
  },
  {
   "cell_type": "code",
   "execution_count": 12,
   "metadata": {
    "hidden": true
   },
   "outputs": [
    {
     "data": {
      "text/html": [
       "<div>\n",
       "<style scoped>\n",
       "    .dataframe tbody tr th:only-of-type {\n",
       "        vertical-align: middle;\n",
       "    }\n",
       "\n",
       "    .dataframe tbody tr th {\n",
       "        vertical-align: top;\n",
       "    }\n",
       "\n",
       "    .dataframe thead th {\n",
       "        text-align: right;\n",
       "    }\n",
       "</style>\n",
       "<table border=\"1\" class=\"dataframe\">\n",
       "  <thead>\n",
       "    <tr style=\"text-align: right;\">\n",
       "      <th></th>\n",
       "      <th>map</th>\n",
       "      <th>mrr</th>\n",
       "      <th>avg_sr</th>\n",
       "      <th>avg_ndcg</th>\n",
       "      <th>avg_p3</th>\n",
       "    </tr>\n",
       "  </thead>\n",
       "  <tbody>\n",
       "    <tr>\n",
       "      <th>Ensemble wfm_only</th>\n",
       "      <td>0.433745</td>\n",
       "      <td>0.590123</td>\n",
       "      <td>0.674074</td>\n",
       "      <td>0.604006</td>\n",
       "      <td>0.353086</td>\n",
       "    </tr>\n",
       "  </tbody>\n",
       "</table>\n",
       "</div>"
      ],
      "text/plain": [
       "                        map       mrr    avg_sr  avg_ndcg    avg_p3\n",
       "Ensemble wfm_only  0.433745  0.590123  0.674074  0.604006  0.353086"
      ]
     },
     "execution_count": 12,
     "metadata": {},
     "output_type": "execute_result"
    }
   ],
   "source": [
    "# E46 without sus / with qfm\n",
    "pd.DataFrame(calc_metrics(df1),index=df1.Model_name.unique())"
   ]
  },
  {
   "cell_type": "code",
   "execution_count": 8,
   "metadata": {
    "hidden": true
   },
   "outputs": [
    {
     "data": {
      "text/html": [
       "<div>\n",
       "<style scoped>\n",
       "    .dataframe tbody tr th:only-of-type {\n",
       "        vertical-align: middle;\n",
       "    }\n",
       "\n",
       "    .dataframe tbody tr th {\n",
       "        vertical-align: top;\n",
       "    }\n",
       "\n",
       "    .dataframe thead th {\n",
       "        text-align: right;\n",
       "    }\n",
       "</style>\n",
       "<table border=\"1\" class=\"dataframe\">\n",
       "  <thead>\n",
       "    <tr style=\"text-align: right;\">\n",
       "      <th></th>\n",
       "      <th>map</th>\n",
       "      <th>mrr</th>\n",
       "      <th>avg_sr</th>\n",
       "      <th>avg_ndcg</th>\n",
       "      <th>avg_p3</th>\n",
       "    </tr>\n",
       "  </thead>\n",
       "  <tbody>\n",
       "    <tr>\n",
       "      <th>Ensemble sc</th>\n",
       "      <td>0.42963</td>\n",
       "      <td>0.582716</td>\n",
       "      <td>0.681481</td>\n",
       "      <td>0.594863</td>\n",
       "      <td>0.358025</td>\n",
       "    </tr>\n",
       "  </tbody>\n",
       "</table>\n",
       "</div>"
      ],
      "text/plain": [
       "                 map       mrr    avg_sr  avg_ndcg    avg_p3\n",
       "Ensemble sc  0.42963  0.582716  0.681481  0.594863  0.358025"
      ]
     },
     "execution_count": 8,
     "metadata": {},
     "output_type": "execute_result"
    }
   ],
   "source": [
    "# E46 without qfm / with sus\n",
    "pd.DataFrame(calc_metrics(df1),index=df1.Model_name.unique())"
   ]
  },
  {
   "cell_type": "code",
   "execution_count": 113,
   "metadata": {
    "hidden": true
   },
   "outputs": [
    {
     "data": {
      "text/html": [
       "<div>\n",
       "<style scoped>\n",
       "    .dataframe tbody tr th:only-of-type {\n",
       "        vertical-align: middle;\n",
       "    }\n",
       "\n",
       "    .dataframe tbody tr th {\n",
       "        vertical-align: top;\n",
       "    }\n",
       "\n",
       "    .dataframe thead th {\n",
       "        text-align: right;\n",
       "    }\n",
       "</style>\n",
       "<table border=\"1\" class=\"dataframe\">\n",
       "  <thead>\n",
       "    <tr style=\"text-align: right;\">\n",
       "      <th></th>\n",
       "      <th>map</th>\n",
       "      <th>mrr</th>\n",
       "      <th>avg_sr</th>\n",
       "      <th>avg_ndcg</th>\n",
       "      <th>avg_p3</th>\n",
       "    </tr>\n",
       "  </thead>\n",
       "  <tbody>\n",
       "    <tr>\n",
       "      <th>Ensemble ns</th>\n",
       "      <td>0.440123</td>\n",
       "      <td>0.59321</td>\n",
       "      <td>0.674074</td>\n",
       "      <td>0.596817</td>\n",
       "      <td>0.362963</td>\n",
       "    </tr>\n",
       "  </tbody>\n",
       "</table>\n",
       "</div>"
      ],
      "text/plain": [
       "                  map      mrr    avg_sr  avg_ndcg    avg_p3\n",
       "Ensemble ns  0.440123  0.59321  0.674074  0.596817  0.362963"
      ]
     },
     "execution_count": 113,
     "metadata": {},
     "output_type": "execute_result"
    }
   ],
   "source": [
    "# E46 with ns\n",
    "pd.DataFrame(calc_metrics(df1),index=df1.Model_name.unique())"
   ]
  },
  {
   "cell_type": "code",
   "execution_count": 14,
   "metadata": {
    "hidden": true
   },
   "outputs": [
    {
     "data": {
      "text/html": [
       "<div>\n",
       "<style scoped>\n",
       "    .dataframe tbody tr th:only-of-type {\n",
       "        vertical-align: middle;\n",
       "    }\n",
       "\n",
       "    .dataframe tbody tr th {\n",
       "        vertical-align: top;\n",
       "    }\n",
       "\n",
       "    .dataframe thead th {\n",
       "        text-align: right;\n",
       "    }\n",
       "</style>\n",
       "<table border=\"1\" class=\"dataframe\">\n",
       "  <thead>\n",
       "    <tr style=\"text-align: right;\">\n",
       "      <th></th>\n",
       "      <th>map</th>\n",
       "      <th>mrr</th>\n",
       "      <th>avg_sr</th>\n",
       "      <th>avg_ndcg</th>\n",
       "      <th>avg_p3</th>\n",
       "    </tr>\n",
       "  </thead>\n",
       "  <tbody>\n",
       "    <tr>\n",
       "      <th>Ensemble SCORE</th>\n",
       "      <td>0.444444</td>\n",
       "      <td>0.594444</td>\n",
       "      <td>0.692593</td>\n",
       "      <td>0.610537</td>\n",
       "      <td>0.353086</td>\n",
       "    </tr>\n",
       "  </tbody>\n",
       "</table>\n",
       "</div>"
      ],
      "text/plain": [
       "                     map       mrr    avg_sr  avg_ndcg    avg_p3\n",
       "Ensemble SCORE  0.444444  0.594444  0.692593  0.610537  0.353086"
      ]
     },
     "execution_count": 14,
     "metadata": {},
     "output_type": "execute_result"
    }
   ],
   "source": [
    "# E46 without qfm and sus\n",
    "pd.DataFrame(calc_metrics(df1),index=df1.Model_name.unique())"
   ]
  },
  {
   "cell_type": "code",
   "execution_count": 16,
   "metadata": {
    "hidden": true
   },
   "outputs": [
    {
     "data": {
      "text/html": [
       "<div>\n",
       "<style scoped>\n",
       "    .dataframe tbody tr th:only-of-type {\n",
       "        vertical-align: middle;\n",
       "    }\n",
       "\n",
       "    .dataframe tbody tr th {\n",
       "        vertical-align: top;\n",
       "    }\n",
       "\n",
       "    .dataframe thead th {\n",
       "        text-align: right;\n",
       "    }\n",
       "</style>\n",
       "<table border=\"1\" class=\"dataframe\">\n",
       "  <thead>\n",
       "    <tr style=\"text-align: right;\">\n",
       "      <th></th>\n",
       "      <th>map</th>\n",
       "      <th>mrr</th>\n",
       "      <th>avg_sr</th>\n",
       "      <th>avg_ndcg</th>\n",
       "      <th>avg_p3</th>\n",
       "    </tr>\n",
       "  </thead>\n",
       "  <tbody>\n",
       "    <tr>\n",
       "      <th>Ensemble SCORE</th>\n",
       "      <td>0.414609</td>\n",
       "      <td>0.553704</td>\n",
       "      <td>0.651852</td>\n",
       "      <td>0.578417</td>\n",
       "      <td>0.353086</td>\n",
       "    </tr>\n",
       "  </tbody>\n",
       "</table>\n",
       "</div>"
      ],
      "text/plain": [
       "                     map       mrr    avg_sr  avg_ndcg    avg_p3\n",
       "Ensemble SCORE  0.414609  0.553704  0.651852  0.578417  0.353086"
      ]
     },
     "execution_count": 16,
     "metadata": {},
     "output_type": "execute_result"
    }
   ],
   "source": [
    "# E46 without qfm and sus, without COS\n",
    "pd.DataFrame(calc_metrics(df1),index=df1.Model_name.unique())"
   ]
  },
  {
   "cell_type": "code",
   "execution_count": 10,
   "metadata": {
    "hidden": true
   },
   "outputs": [
    {
     "data": {
      "text/html": [
       "<div>\n",
       "<style scoped>\n",
       "    .dataframe tbody tr th:only-of-type {\n",
       "        vertical-align: middle;\n",
       "    }\n",
       "\n",
       "    .dataframe tbody tr th {\n",
       "        vertical-align: top;\n",
       "    }\n",
       "\n",
       "    .dataframe thead th {\n",
       "        text-align: right;\n",
       "    }\n",
       "</style>\n",
       "<table border=\"1\" class=\"dataframe\">\n",
       "  <thead>\n",
       "    <tr style=\"text-align: right;\">\n",
       "      <th></th>\n",
       "      <th>map</th>\n",
       "      <th>mrr</th>\n",
       "      <th>avg_sr</th>\n",
       "      <th>avg_ndcg</th>\n",
       "      <th>avg_p3</th>\n",
       "    </tr>\n",
       "  </thead>\n",
       "  <tbody>\n",
       "    <tr>\n",
       "      <th>Ensemble SCORE</th>\n",
       "      <td>0.303292</td>\n",
       "      <td>0.438889</td>\n",
       "      <td>0.511111</td>\n",
       "      <td>0.455777</td>\n",
       "      <td>0.239506</td>\n",
       "    </tr>\n",
       "  </tbody>\n",
       "</table>\n",
       "</div>"
      ],
      "text/plain": [
       "                     map       mrr    avg_sr  avg_ndcg    avg_p3\n",
       "Ensemble SCORE  0.303292  0.438889  0.511111  0.455777  0.239506"
      ]
     },
     "execution_count": 10,
     "metadata": {},
     "output_type": "execute_result"
    }
   ],
   "source": [
    "# E46 without qfm and sus, without SPC\n",
    "pd.DataFrame(calc_metrics(df1),index=df1.Model_name.unique())"
   ]
  },
  {
   "cell_type": "code",
   "execution_count": 20,
   "metadata": {
    "hidden": true
   },
   "outputs": [
    {
     "data": {
      "text/html": [
       "<div>\n",
       "<style scoped>\n",
       "    .dataframe tbody tr th:only-of-type {\n",
       "        vertical-align: middle;\n",
       "    }\n",
       "\n",
       "    .dataframe tbody tr th {\n",
       "        vertical-align: top;\n",
       "    }\n",
       "\n",
       "    .dataframe thead th {\n",
       "        text-align: right;\n",
       "    }\n",
       "</style>\n",
       "<table border=\"1\" class=\"dataframe\">\n",
       "  <thead>\n",
       "    <tr style=\"text-align: right;\">\n",
       "      <th></th>\n",
       "      <th>map</th>\n",
       "      <th>mrr</th>\n",
       "      <th>avg_sr</th>\n",
       "      <th>avg_ndcg</th>\n",
       "      <th>avg_p3</th>\n",
       "    </tr>\n",
       "  </thead>\n",
       "  <tbody>\n",
       "    <tr>\n",
       "      <th>Ensemble SCORE</th>\n",
       "      <td>0.414198</td>\n",
       "      <td>0.559877</td>\n",
       "      <td>0.659259</td>\n",
       "      <td>0.58301</td>\n",
       "      <td>0.353086</td>\n",
       "    </tr>\n",
       "  </tbody>\n",
       "</table>\n",
       "</div>"
      ],
      "text/plain": [
       "                     map       mrr    avg_sr  avg_ndcg    avg_p3\n",
       "Ensemble SCORE  0.414198  0.559877  0.659259   0.58301  0.353086"
      ]
     },
     "execution_count": 20,
     "metadata": {},
     "output_type": "execute_result"
    }
   ],
   "source": [
    "# E46 without qfm and sus, without DTP\n",
    "pd.DataFrame(calc_metrics(df1),index=df1.Model_name.unique())"
   ]
  },
  {
   "cell_type": "code",
   "execution_count": null,
   "metadata": {
    "hidden": true
   },
   "outputs": [],
   "source": []
  },
  {
   "cell_type": "code",
   "execution_count": null,
   "metadata": {
    "hidden": true
   },
   "outputs": [],
   "source": []
  },
  {
   "cell_type": "code",
   "execution_count": 10,
   "metadata": {
    "hidden": true
   },
   "outputs": [
    {
     "data": {
      "text/html": [
       "<div>\n",
       "<style scoped>\n",
       "    .dataframe tbody tr th:only-of-type {\n",
       "        vertical-align: middle;\n",
       "    }\n",
       "\n",
       "    .dataframe tbody tr th {\n",
       "        vertical-align: top;\n",
       "    }\n",
       "\n",
       "    .dataframe thead th {\n",
       "        text-align: right;\n",
       "    }\n",
       "</style>\n",
       "<table border=\"1\" class=\"dataframe\">\n",
       "  <thead>\n",
       "    <tr style=\"text-align: right;\">\n",
       "      <th></th>\n",
       "      <th>map</th>\n",
       "      <th>mrr</th>\n",
       "      <th>avg_sr</th>\n",
       "      <th>avg_ndcg</th>\n",
       "      <th>avg_p3</th>\n",
       "    </tr>\n",
       "  </thead>\n",
       "  <tbody>\n",
       "    <tr>\n",
       "      <th>Ensemble sc</th>\n",
       "      <td>0.403909</td>\n",
       "      <td>0.545679</td>\n",
       "      <td>0.644444</td>\n",
       "      <td>0.562571</td>\n",
       "      <td>0.358025</td>\n",
       "    </tr>\n",
       "  </tbody>\n",
       "</table>\n",
       "</div>"
      ],
      "text/plain": [
       "                  map       mrr    avg_sr  avg_ndcg    avg_p3\n",
       "Ensemble sc  0.403909  0.545679  0.644444  0.562571  0.358025"
      ]
     },
     "execution_count": 10,
     "metadata": {},
     "output_type": "execute_result"
    }
   ],
   "source": [
    "# E_46_without_COS_without_qfm\n",
    "pd.DataFrame(calc_metrics(df1),index=df1.Model_name.unique())"
   ]
  },
  {
   "cell_type": "code",
   "execution_count": 12,
   "metadata": {
    "hidden": true
   },
   "outputs": [
    {
     "data": {
      "text/html": [
       "<div>\n",
       "<style scoped>\n",
       "    .dataframe tbody tr th:only-of-type {\n",
       "        vertical-align: middle;\n",
       "    }\n",
       "\n",
       "    .dataframe tbody tr th {\n",
       "        vertical-align: top;\n",
       "    }\n",
       "\n",
       "    .dataframe thead th {\n",
       "        text-align: right;\n",
       "    }\n",
       "</style>\n",
       "<table border=\"1\" class=\"dataframe\">\n",
       "  <thead>\n",
       "    <tr style=\"text-align: right;\">\n",
       "      <th></th>\n",
       "      <th>map</th>\n",
       "      <th>mrr</th>\n",
       "      <th>avg_sr</th>\n",
       "      <th>avg_ndcg</th>\n",
       "      <th>avg_p3</th>\n",
       "    </tr>\n",
       "  </thead>\n",
       "  <tbody>\n",
       "    <tr>\n",
       "      <th>Ensemble wfm</th>\n",
       "      <td>0.421811</td>\n",
       "      <td>0.573457</td>\n",
       "      <td>0.677778</td>\n",
       "      <td>0.589091</td>\n",
       "      <td>0.358025</td>\n",
       "    </tr>\n",
       "  </tbody>\n",
       "</table>\n",
       "</div>"
      ],
      "text/plain": [
       "                   map       mrr    avg_sr  avg_ndcg    avg_p3\n",
       "Ensemble wfm  0.421811  0.573457  0.677778  0.589091  0.358025"
      ]
     },
     "execution_count": 12,
     "metadata": {},
     "output_type": "execute_result"
    }
   ],
   "source": [
    "# E_46_without_COS_without_sus\n",
    "pd.DataFrame(calc_metrics(df1),index=df1.Model_name.unique())"
   ]
  },
  {
   "cell_type": "code",
   "execution_count": 16,
   "metadata": {
    "hidden": true
   },
   "outputs": [
    {
     "data": {
      "text/html": [
       "<div>\n",
       "<style scoped>\n",
       "    .dataframe tbody tr th:only-of-type {\n",
       "        vertical-align: middle;\n",
       "    }\n",
       "\n",
       "    .dataframe tbody tr th {\n",
       "        vertical-align: top;\n",
       "    }\n",
       "\n",
       "    .dataframe thead th {\n",
       "        text-align: right;\n",
       "    }\n",
       "</style>\n",
       "<table border=\"1\" class=\"dataframe\">\n",
       "  <thead>\n",
       "    <tr style=\"text-align: right;\">\n",
       "      <th></th>\n",
       "      <th>map</th>\n",
       "      <th>mrr</th>\n",
       "      <th>avg_sr</th>\n",
       "      <th>avg_ndcg</th>\n",
       "      <th>avg_p5</th>\n",
       "    </tr>\n",
       "  </thead>\n",
       "  <tbody>\n",
       "    <tr>\n",
       "      <th>Ensemble wfm_sc</th>\n",
       "      <td>0.38858</td>\n",
       "      <td>0.641605</td>\n",
       "      <td>0.762963</td>\n",
       "      <td>0.638162</td>\n",
       "      <td>0.296296</td>\n",
       "    </tr>\n",
       "  </tbody>\n",
       "</table>\n",
       "</div>"
      ],
      "text/plain": [
       "                     map       mrr    avg_sr  avg_ndcg    avg_p5\n",
       "Ensemble wfm_sc  0.38858  0.641605  0.762963  0.638162  0.296296"
      ]
     },
     "execution_count": 16,
     "metadata": {},
     "output_type": "execute_result"
    }
   ],
   "source": [
    "# E_47\n",
    "pd.DataFrame(calc_metrics(df1),index=df1.Model_name.unique())"
   ]
  },
  {
   "cell_type": "code",
   "execution_count": 24,
   "metadata": {
    "hidden": true
   },
   "outputs": [
    {
     "data": {
      "text/html": [
       "<div>\n",
       "<style scoped>\n",
       "    .dataframe tbody tr th:only-of-type {\n",
       "        vertical-align: middle;\n",
       "    }\n",
       "\n",
       "    .dataframe tbody tr th {\n",
       "        vertical-align: top;\n",
       "    }\n",
       "\n",
       "    .dataframe thead th {\n",
       "        text-align: right;\n",
       "    }\n",
       "</style>\n",
       "<table border=\"1\" class=\"dataframe\">\n",
       "  <thead>\n",
       "    <tr style=\"text-align: right;\">\n",
       "      <th></th>\n",
       "      <th>map</th>\n",
       "      <th>mrr</th>\n",
       "      <th>avg_sr</th>\n",
       "      <th>avg_ndcg</th>\n",
       "      <th>avg_p5</th>\n",
       "    </tr>\n",
       "  </thead>\n",
       "  <tbody>\n",
       "    <tr>\n",
       "      <th>Ensemble SCORE</th>\n",
       "      <td>0.398321</td>\n",
       "      <td>0.646914</td>\n",
       "      <td>0.751852</td>\n",
       "      <td>0.641403</td>\n",
       "      <td>0.297778</td>\n",
       "    </tr>\n",
       "  </tbody>\n",
       "</table>\n",
       "</div>"
      ],
      "text/plain": [
       "                     map       mrr    avg_sr  avg_ndcg    avg_p5\n",
       "Ensemble SCORE  0.398321  0.646914  0.751852  0.641403  0.297778"
      ]
     },
     "execution_count": 24,
     "metadata": {},
     "output_type": "execute_result"
    }
   ],
   "source": [
    "# E_47 without qfm and sus\n",
    "pd.DataFrame(calc_metrics(df1),index=df1.Model_name.unique())"
   ]
  },
  {
   "cell_type": "code",
   "execution_count": null,
   "metadata": {
    "hidden": true
   },
   "outputs": [],
   "source": []
  },
  {
   "cell_type": "code",
   "execution_count": 20,
   "metadata": {
    "hidden": true
   },
   "outputs": [
    {
     "data": {
      "text/html": [
       "<div>\n",
       "<style scoped>\n",
       "    .dataframe tbody tr th:only-of-type {\n",
       "        vertical-align: middle;\n",
       "    }\n",
       "\n",
       "    .dataframe tbody tr th {\n",
       "        vertical-align: top;\n",
       "    }\n",
       "\n",
       "    .dataframe thead th {\n",
       "        text-align: right;\n",
       "    }\n",
       "</style>\n",
       "<table border=\"1\" class=\"dataframe\">\n",
       "  <thead>\n",
       "    <tr style=\"text-align: right;\">\n",
       "      <th></th>\n",
       "      <th>map</th>\n",
       "      <th>mrr</th>\n",
       "      <th>avg_sr</th>\n",
       "      <th>avg_ndcg</th>\n",
       "      <th>avg_p3</th>\n",
       "    </tr>\n",
       "  </thead>\n",
       "  <tbody>\n",
       "    <tr>\n",
       "      <th>Ensemble wfm_sc</th>\n",
       "      <td>0.414403</td>\n",
       "      <td>0.566049</td>\n",
       "      <td>0.674074</td>\n",
       "      <td>0.577643</td>\n",
       "      <td>0.350617</td>\n",
       "    </tr>\n",
       "  </tbody>\n",
       "</table>\n",
       "</div>"
      ],
      "text/plain": [
       "                      map       mrr    avg_sr  avg_ndcg    avg_p3\n",
       "Ensemble wfm_sc  0.414403  0.566049  0.674074  0.577643  0.350617"
      ]
     },
     "execution_count": 20,
     "metadata": {},
     "output_type": "execute_result"
    }
   ],
   "source": [
    "# E44\n",
    "pd.DataFrame(calc_metrics(df1),index=df1.Model_name.unique())"
   ]
  },
  {
   "cell_type": "code",
   "execution_count": 24,
   "metadata": {
    "hidden": true
   },
   "outputs": [
    {
     "data": {
      "text/html": [
       "<div>\n",
       "<style scoped>\n",
       "    .dataframe tbody tr th:only-of-type {\n",
       "        vertical-align: middle;\n",
       "    }\n",
       "\n",
       "    .dataframe tbody tr th {\n",
       "        vertical-align: top;\n",
       "    }\n",
       "\n",
       "    .dataframe thead th {\n",
       "        text-align: right;\n",
       "    }\n",
       "</style>\n",
       "<table border=\"1\" class=\"dataframe\">\n",
       "  <thead>\n",
       "    <tr style=\"text-align: right;\">\n",
       "      <th></th>\n",
       "      <th>map</th>\n",
       "      <th>mrr</th>\n",
       "      <th>avg_sr</th>\n",
       "      <th>avg_ndcg</th>\n",
       "      <th>avg_p3</th>\n",
       "    </tr>\n",
       "  </thead>\n",
       "  <tbody>\n",
       "    <tr>\n",
       "      <th>Ensemble wfm_sc</th>\n",
       "      <td>0.399794</td>\n",
       "      <td>0.556173</td>\n",
       "      <td>0.67037</td>\n",
       "      <td>0.573578</td>\n",
       "      <td>0.341975</td>\n",
       "    </tr>\n",
       "  </tbody>\n",
       "</table>\n",
       "</div>"
      ],
      "text/plain": [
       "                      map       mrr   avg_sr  avg_ndcg    avg_p3\n",
       "Ensemble wfm_sc  0.399794  0.556173  0.67037  0.573578  0.341975"
      ]
     },
     "execution_count": 24,
     "metadata": {},
     "output_type": "execute_result"
    }
   ],
   "source": [
    "# E44 without COS\n",
    "pd.DataFrame(calc_metrics(df1),index=df1.Model_name.unique())"
   ]
  },
  {
   "cell_type": "code",
   "execution_count": 28,
   "metadata": {
    "hidden": true
   },
   "outputs": [
    {
     "data": {
      "text/html": [
       "<div>\n",
       "<style scoped>\n",
       "    .dataframe tbody tr th:only-of-type {\n",
       "        vertical-align: middle;\n",
       "    }\n",
       "\n",
       "    .dataframe tbody tr th {\n",
       "        vertical-align: top;\n",
       "    }\n",
       "\n",
       "    .dataframe thead th {\n",
       "        text-align: right;\n",
       "    }\n",
       "</style>\n",
       "<table border=\"1\" class=\"dataframe\">\n",
       "  <thead>\n",
       "    <tr style=\"text-align: right;\">\n",
       "      <th></th>\n",
       "      <th>map</th>\n",
       "      <th>mrr</th>\n",
       "      <th>avg_sr</th>\n",
       "      <th>avg_ndcg</th>\n",
       "      <th>avg_p3</th>\n",
       "    </tr>\n",
       "  </thead>\n",
       "  <tbody>\n",
       "    <tr>\n",
       "      <th>Ensemble wfm_sc</th>\n",
       "      <td>0.376955</td>\n",
       "      <td>0.524074</td>\n",
       "      <td>0.640741</td>\n",
       "      <td>0.541603</td>\n",
       "      <td>0.319753</td>\n",
       "    </tr>\n",
       "  </tbody>\n",
       "</table>\n",
       "</div>"
      ],
      "text/plain": [
       "                      map       mrr    avg_sr  avg_ndcg    avg_p3\n",
       "Ensemble wfm_sc  0.376955  0.524074  0.640741  0.541603  0.319753"
      ]
     },
     "execution_count": 28,
     "metadata": {},
     "output_type": "execute_result"
    }
   ],
   "source": [
    "# E44 without DTP\n",
    "pd.DataFrame(calc_metrics(df1),index=df1.Model_name.unique())"
   ]
  },
  {
   "cell_type": "code",
   "execution_count": 32,
   "metadata": {
    "hidden": true
   },
   "outputs": [
    {
     "data": {
      "text/html": [
       "<div>\n",
       "<style scoped>\n",
       "    .dataframe tbody tr th:only-of-type {\n",
       "        vertical-align: middle;\n",
       "    }\n",
       "\n",
       "    .dataframe tbody tr th {\n",
       "        vertical-align: top;\n",
       "    }\n",
       "\n",
       "    .dataframe thead th {\n",
       "        text-align: right;\n",
       "    }\n",
       "</style>\n",
       "<table border=\"1\" class=\"dataframe\">\n",
       "  <thead>\n",
       "    <tr style=\"text-align: right;\">\n",
       "      <th></th>\n",
       "      <th>map</th>\n",
       "      <th>mrr</th>\n",
       "      <th>avg_sr</th>\n",
       "      <th>avg_ndcg</th>\n",
       "      <th>avg_p3</th>\n",
       "    </tr>\n",
       "  </thead>\n",
       "  <tbody>\n",
       "    <tr>\n",
       "      <th>Ensemble wfm_sc</th>\n",
       "      <td>0.383745</td>\n",
       "      <td>0.535185</td>\n",
       "      <td>0.644444</td>\n",
       "      <td>0.558998</td>\n",
       "      <td>0.330864</td>\n",
       "    </tr>\n",
       "  </tbody>\n",
       "</table>\n",
       "</div>"
      ],
      "text/plain": [
       "                      map       mrr    avg_sr  avg_ndcg    avg_p3\n",
       "Ensemble wfm_sc  0.383745  0.535185  0.644444  0.558998  0.330864"
      ]
     },
     "execution_count": 32,
     "metadata": {},
     "output_type": "execute_result"
    }
   ],
   "source": [
    "# E44 without SPC\n",
    "pd.DataFrame(calc_metrics(df1),index=df1.Model_name.unique())"
   ]
  },
  {
   "cell_type": "code",
   "execution_count": 36,
   "metadata": {
    "hidden": true
   },
   "outputs": [
    {
     "data": {
      "text/html": [
       "<div>\n",
       "<style scoped>\n",
       "    .dataframe tbody tr th:only-of-type {\n",
       "        vertical-align: middle;\n",
       "    }\n",
       "\n",
       "    .dataframe tbody tr th {\n",
       "        vertical-align: top;\n",
       "    }\n",
       "\n",
       "    .dataframe thead th {\n",
       "        text-align: right;\n",
       "    }\n",
       "</style>\n",
       "<table border=\"1\" class=\"dataframe\">\n",
       "  <thead>\n",
       "    <tr style=\"text-align: right;\">\n",
       "      <th></th>\n",
       "      <th>map</th>\n",
       "      <th>mrr</th>\n",
       "      <th>avg_sr</th>\n",
       "      <th>avg_ndcg</th>\n",
       "      <th>avg_p3</th>\n",
       "    </tr>\n",
       "  </thead>\n",
       "  <tbody>\n",
       "    <tr>\n",
       "      <th>Ensemble wfm</th>\n",
       "      <td>0.41749</td>\n",
       "      <td>0.565432</td>\n",
       "      <td>0.674074</td>\n",
       "      <td>0.574506</td>\n",
       "      <td>0.358025</td>\n",
       "    </tr>\n",
       "  </tbody>\n",
       "</table>\n",
       "</div>"
      ],
      "text/plain": [
       "                  map       mrr    avg_sr  avg_ndcg    avg_p3\n",
       "Ensemble wfm  0.41749  0.565432  0.674074  0.574506  0.358025"
      ]
     },
     "execution_count": 36,
     "metadata": {},
     "output_type": "execute_result"
    }
   ],
   "source": [
    "# E44 without sus\n",
    "pd.DataFrame(calc_metrics(df1),index=df1.Model_name.unique())"
   ]
  },
  {
   "cell_type": "code",
   "execution_count": 40,
   "metadata": {
    "hidden": true
   },
   "outputs": [
    {
     "data": {
      "text/html": [
       "<div>\n",
       "<style scoped>\n",
       "    .dataframe tbody tr th:only-of-type {\n",
       "        vertical-align: middle;\n",
       "    }\n",
       "\n",
       "    .dataframe tbody tr th {\n",
       "        vertical-align: top;\n",
       "    }\n",
       "\n",
       "    .dataframe thead th {\n",
       "        text-align: right;\n",
       "    }\n",
       "</style>\n",
       "<table border=\"1\" class=\"dataframe\">\n",
       "  <thead>\n",
       "    <tr style=\"text-align: right;\">\n",
       "      <th></th>\n",
       "      <th>map</th>\n",
       "      <th>mrr</th>\n",
       "      <th>avg_sr</th>\n",
       "      <th>avg_ndcg</th>\n",
       "      <th>avg_p3</th>\n",
       "    </tr>\n",
       "  </thead>\n",
       "  <tbody>\n",
       "    <tr>\n",
       "      <th>Ensemble sc</th>\n",
       "      <td>0.396091</td>\n",
       "      <td>0.554321</td>\n",
       "      <td>0.655556</td>\n",
       "      <td>0.568463</td>\n",
       "      <td>0.32716</td>\n",
       "    </tr>\n",
       "  </tbody>\n",
       "</table>\n",
       "</div>"
      ],
      "text/plain": [
       "                  map       mrr    avg_sr  avg_ndcg   avg_p3\n",
       "Ensemble sc  0.396091  0.554321  0.655556  0.568463  0.32716"
      ]
     },
     "execution_count": 40,
     "metadata": {},
     "output_type": "execute_result"
    }
   ],
   "source": [
    "# E44 without qfm\n",
    "pd.DataFrame(calc_metrics(df1),index=df1.Model_name.unique())"
   ]
  },
  {
   "cell_type": "code",
   "execution_count": 6,
   "metadata": {
    "hidden": true
   },
   "outputs": [
    {
     "data": {
      "text/html": [
       "<div>\n",
       "<style scoped>\n",
       "    .dataframe tbody tr th:only-of-type {\n",
       "        vertical-align: middle;\n",
       "    }\n",
       "\n",
       "    .dataframe tbody tr th {\n",
       "        vertical-align: top;\n",
       "    }\n",
       "\n",
       "    .dataframe thead th {\n",
       "        text-align: right;\n",
       "    }\n",
       "</style>\n",
       "<table border=\"1\" class=\"dataframe\">\n",
       "  <thead>\n",
       "    <tr style=\"text-align: right;\">\n",
       "      <th></th>\n",
       "      <th>map</th>\n",
       "      <th>mrr</th>\n",
       "      <th>avg_sr</th>\n",
       "      <th>avg_ndcg</th>\n",
       "      <th>avg_p3</th>\n",
       "    </tr>\n",
       "  </thead>\n",
       "  <tbody>\n",
       "    <tr>\n",
       "      <th>Ensemble wfm</th>\n",
       "      <td>0.400412</td>\n",
       "      <td>0.553704</td>\n",
       "      <td>0.666667</td>\n",
       "      <td>0.567213</td>\n",
       "      <td>0.345679</td>\n",
       "    </tr>\n",
       "  </tbody>\n",
       "</table>\n",
       "</div>"
      ],
      "text/plain": [
       "                   map       mrr    avg_sr  avg_ndcg    avg_p3\n",
       "Ensemble wfm  0.400412  0.553704  0.666667  0.567213  0.345679"
      ]
     },
     "execution_count": 6,
     "metadata": {},
     "output_type": "execute_result"
    }
   ],
   "source": [
    "# E44 without_COS_and_without_sus\n",
    "pd.DataFrame(calc_metrics(df1),index=df1.Model_name.unique())"
   ]
  },
  {
   "cell_type": "code",
   "execution_count": 46,
   "metadata": {
    "hidden": true
   },
   "outputs": [
    {
     "data": {
      "text/html": [
       "<div>\n",
       "<style scoped>\n",
       "    .dataframe tbody tr th:only-of-type {\n",
       "        vertical-align: middle;\n",
       "    }\n",
       "\n",
       "    .dataframe tbody tr th {\n",
       "        vertical-align: top;\n",
       "    }\n",
       "\n",
       "    .dataframe thead th {\n",
       "        text-align: right;\n",
       "    }\n",
       "</style>\n",
       "<table border=\"1\" class=\"dataframe\">\n",
       "  <thead>\n",
       "    <tr style=\"text-align: right;\">\n",
       "      <th></th>\n",
       "      <th>map</th>\n",
       "      <th>mrr</th>\n",
       "      <th>avg_sr</th>\n",
       "      <th>avg_ndcg</th>\n",
       "      <th>avg_p5</th>\n",
       "    </tr>\n",
       "  </thead>\n",
       "  <tbody>\n",
       "    <tr>\n",
       "      <th>Ensemble wfm_sc</th>\n",
       "      <td>0.364852</td>\n",
       "      <td>0.617654</td>\n",
       "      <td>0.703704</td>\n",
       "      <td>0.591902</td>\n",
       "      <td>0.26963</td>\n",
       "    </tr>\n",
       "  </tbody>\n",
       "</table>\n",
       "</div>"
      ],
      "text/plain": [
       "                      map       mrr    avg_sr  avg_ndcg   avg_p5\n",
       "Ensemble wfm_sc  0.364852  0.617654  0.703704  0.591902  0.26963"
      ]
     },
     "execution_count": 46,
     "metadata": {},
     "output_type": "execute_result"
    }
   ],
   "source": [
    "# E45\n",
    "pd.DataFrame(calc_metrics(df1),index=df1.Model_name.unique())"
   ]
  },
  {
   "cell_type": "code",
   "execution_count": null,
   "metadata": {
    "hidden": true
   },
   "outputs": [],
   "source": []
  },
  {
   "cell_type": "code",
   "execution_count": 10,
   "metadata": {
    "hidden": true
   },
   "outputs": [
    {
     "data": {
      "text/html": [
       "<div>\n",
       "<style scoped>\n",
       "    .dataframe tbody tr th:only-of-type {\n",
       "        vertical-align: middle;\n",
       "    }\n",
       "\n",
       "    .dataframe tbody tr th {\n",
       "        vertical-align: top;\n",
       "    }\n",
       "\n",
       "    .dataframe thead th {\n",
       "        text-align: right;\n",
       "    }\n",
       "</style>\n",
       "<table border=\"1\" class=\"dataframe\">\n",
       "  <thead>\n",
       "    <tr style=\"text-align: right;\">\n",
       "      <th></th>\n",
       "      <th>map</th>\n",
       "      <th>mrr</th>\n",
       "      <th>avg_sr</th>\n",
       "      <th>avg_ndcg</th>\n",
       "      <th>avg_p3</th>\n",
       "    </tr>\n",
       "  </thead>\n",
       "  <tbody>\n",
       "    <tr>\n",
       "      <th>Ensemble wfm_sc</th>\n",
       "      <td>0.432922</td>\n",
       "      <td>0.585802</td>\n",
       "      <td>0.67037</td>\n",
       "      <td>0.590542</td>\n",
       "      <td>0.358025</td>\n",
       "    </tr>\n",
       "  </tbody>\n",
       "</table>\n",
       "</div>"
      ],
      "text/plain": [
       "                      map       mrr   avg_sr  avg_ndcg    avg_p3\n",
       "Ensemble wfm_sc  0.432922  0.585802  0.67037  0.590542  0.358025"
      ]
     },
     "execution_count": 10,
     "metadata": {},
     "output_type": "execute_result"
    }
   ],
   "source": [
    "# E35 (inshorts 400 sent pairs)\n",
    "pd.DataFrame(calc_metrics(df1),index=df1.Model_name.unique())"
   ]
  },
  {
   "cell_type": "code",
   "execution_count": 6,
   "metadata": {
    "hidden": true
   },
   "outputs": [
    {
     "data": {
      "text/html": [
       "<div>\n",
       "<style scoped>\n",
       "    .dataframe tbody tr th:only-of-type {\n",
       "        vertical-align: middle;\n",
       "    }\n",
       "\n",
       "    .dataframe tbody tr th {\n",
       "        vertical-align: top;\n",
       "    }\n",
       "\n",
       "    .dataframe thead th {\n",
       "        text-align: right;\n",
       "    }\n",
       "</style>\n",
       "<table border=\"1\" class=\"dataframe\">\n",
       "  <thead>\n",
       "    <tr style=\"text-align: right;\">\n",
       "      <th></th>\n",
       "      <th>map</th>\n",
       "      <th>mrr</th>\n",
       "      <th>avg_sr</th>\n",
       "      <th>avg_ndcg</th>\n",
       "      <th>avg_p3</th>\n",
       "    </tr>\n",
       "  </thead>\n",
       "  <tbody>\n",
       "    <tr>\n",
       "      <th>Ensemble wfm_sc</th>\n",
       "      <td>0.40144</td>\n",
       "      <td>0.554321</td>\n",
       "      <td>0.659259</td>\n",
       "      <td>0.571384</td>\n",
       "      <td>0.335802</td>\n",
       "    </tr>\n",
       "  </tbody>\n",
       "</table>\n",
       "</div>"
      ],
      "text/plain": [
       "                     map       mrr    avg_sr  avg_ndcg    avg_p3\n",
       "Ensemble wfm_sc  0.40144  0.554321  0.659259  0.571384  0.335802"
      ]
     },
     "execution_count": 6,
     "metadata": {},
     "output_type": "execute_result"
    }
   ],
   "source": [
    "# E39 (inshorts 400 sent pairs) -------------> E35 minus BERT_cos\n",
    "pd.DataFrame(calc_metrics(df1),index=df1.Model_name.unique())"
   ]
  },
  {
   "cell_type": "code",
   "execution_count": 10,
   "metadata": {
    "hidden": true
   },
   "outputs": [
    {
     "data": {
      "text/html": [
       "<div>\n",
       "<style scoped>\n",
       "    .dataframe tbody tr th:only-of-type {\n",
       "        vertical-align: middle;\n",
       "    }\n",
       "\n",
       "    .dataframe tbody tr th {\n",
       "        vertical-align: top;\n",
       "    }\n",
       "\n",
       "    .dataframe thead th {\n",
       "        text-align: right;\n",
       "    }\n",
       "</style>\n",
       "<table border=\"1\" class=\"dataframe\">\n",
       "  <thead>\n",
       "    <tr style=\"text-align: right;\">\n",
       "      <th></th>\n",
       "      <th>map</th>\n",
       "      <th>mrr</th>\n",
       "      <th>avg_sr</th>\n",
       "      <th>avg_ndcg</th>\n",
       "      <th>avg_p3</th>\n",
       "    </tr>\n",
       "  </thead>\n",
       "  <tbody>\n",
       "    <tr>\n",
       "      <th>Ensemble wfm_sc</th>\n",
       "      <td>0.384156</td>\n",
       "      <td>0.519136</td>\n",
       "      <td>0.611111</td>\n",
       "      <td>0.531976</td>\n",
       "      <td>0.320988</td>\n",
       "    </tr>\n",
       "  </tbody>\n",
       "</table>\n",
       "</div>"
      ],
      "text/plain": [
       "                      map       mrr    avg_sr  avg_ndcg    avg_p3\n",
       "Ensemble wfm_sc  0.384156  0.519136  0.611111  0.531976  0.320988"
      ]
     },
     "execution_count": 10,
     "metadata": {},
     "output_type": "execute_result"
    }
   ],
   "source": [
    "# E40 (inshorts 400 sent pairs) -------------> E35 minus DTP\n",
    "pd.DataFrame(calc_metrics(df1),index=df1.Model_name.unique())"
   ]
  },
  {
   "cell_type": "code",
   "execution_count": 18,
   "metadata": {
    "hidden": true
   },
   "outputs": [
    {
     "data": {
      "text/html": [
       "<div>\n",
       "<style scoped>\n",
       "    .dataframe tbody tr th:only-of-type {\n",
       "        vertical-align: middle;\n",
       "    }\n",
       "\n",
       "    .dataframe tbody tr th {\n",
       "        vertical-align: top;\n",
       "    }\n",
       "\n",
       "    .dataframe thead th {\n",
       "        text-align: right;\n",
       "    }\n",
       "</style>\n",
       "<table border=\"1\" class=\"dataframe\">\n",
       "  <thead>\n",
       "    <tr style=\"text-align: right;\">\n",
       "      <th></th>\n",
       "      <th>map</th>\n",
       "      <th>mrr</th>\n",
       "      <th>avg_sr</th>\n",
       "      <th>avg_ndcg</th>\n",
       "      <th>avg_p3</th>\n",
       "    </tr>\n",
       "  </thead>\n",
       "  <tbody>\n",
       "    <tr>\n",
       "      <th>Ensemble wfm_sc</th>\n",
       "      <td>0.383745</td>\n",
       "      <td>0.535185</td>\n",
       "      <td>0.644444</td>\n",
       "      <td>0.558998</td>\n",
       "      <td>0.330864</td>\n",
       "    </tr>\n",
       "  </tbody>\n",
       "</table>\n",
       "</div>"
      ],
      "text/plain": [
       "                      map       mrr    avg_sr  avg_ndcg    avg_p3\n",
       "Ensemble wfm_sc  0.383745  0.535185  0.644444  0.558998  0.330864"
      ]
     },
     "execution_count": 18,
     "metadata": {},
     "output_type": "execute_result"
    }
   ],
   "source": [
    "# E41 (inshorts 400 sent pairs) -------------> E35 minus BERT_spc\n",
    "pd.DataFrame(calc_metrics(df1),index=df1.Model_name.unique())"
   ]
  },
  {
   "cell_type": "code",
   "execution_count": 38,
   "metadata": {
    "hidden": true
   },
   "outputs": [
    {
     "data": {
      "text/html": [
       "<div>\n",
       "<style scoped>\n",
       "    .dataframe tbody tr th:only-of-type {\n",
       "        vertical-align: middle;\n",
       "    }\n",
       "\n",
       "    .dataframe tbody tr th {\n",
       "        vertical-align: top;\n",
       "    }\n",
       "\n",
       "    .dataframe thead th {\n",
       "        text-align: right;\n",
       "    }\n",
       "</style>\n",
       "<table border=\"1\" class=\"dataframe\">\n",
       "  <thead>\n",
       "    <tr style=\"text-align: right;\">\n",
       "      <th></th>\n",
       "      <th>map</th>\n",
       "      <th>mrr</th>\n",
       "      <th>avg_sr</th>\n",
       "      <th>avg_ndcg</th>\n",
       "      <th>avg_p3</th>\n",
       "    </tr>\n",
       "  </thead>\n",
       "  <tbody>\n",
       "    <tr>\n",
       "      <th>Ensemble wfm_sc</th>\n",
       "      <td>0.398148</td>\n",
       "      <td>0.546296</td>\n",
       "      <td>0.648148</td>\n",
       "      <td>0.559085</td>\n",
       "      <td>0.333333</td>\n",
       "    </tr>\n",
       "  </tbody>\n",
       "</table>\n",
       "</div>"
      ],
      "text/plain": [
       "                      map       mrr    avg_sr  avg_ndcg    avg_p3\n",
       "Ensemble wfm_sc  0.398148  0.546296  0.648148  0.559085  0.333333"
      ]
     },
     "execution_count": 38,
     "metadata": {},
     "output_type": "execute_result"
    }
   ],
   "source": [
    "# E42 (inshorts 400 sent pairs) -------------> E35 minus sus\n",
    "pd.DataFrame(calc_metrics(df1),index=df1.Model_name.unique())"
   ]
  },
  {
   "cell_type": "code",
   "execution_count": 6,
   "metadata": {
    "hidden": true
   },
   "outputs": [
    {
     "data": {
      "text/html": [
       "<div>\n",
       "<style scoped>\n",
       "    .dataframe tbody tr th:only-of-type {\n",
       "        vertical-align: middle;\n",
       "    }\n",
       "\n",
       "    .dataframe tbody tr th {\n",
       "        vertical-align: top;\n",
       "    }\n",
       "\n",
       "    .dataframe thead th {\n",
       "        text-align: right;\n",
       "    }\n",
       "</style>\n",
       "<table border=\"1\" class=\"dataframe\">\n",
       "  <thead>\n",
       "    <tr style=\"text-align: right;\">\n",
       "      <th></th>\n",
       "      <th>map</th>\n",
       "      <th>mrr</th>\n",
       "      <th>avg_sr</th>\n",
       "      <th>avg_ndcg</th>\n",
       "      <th>avg_p3</th>\n",
       "    </tr>\n",
       "  </thead>\n",
       "  <tbody>\n",
       "    <tr>\n",
       "      <th>Ensemble wfm_sc</th>\n",
       "      <td>0.387243</td>\n",
       "      <td>0.539506</td>\n",
       "      <td>0.622222</td>\n",
       "      <td>0.544498</td>\n",
       "      <td>0.31358</td>\n",
       "    </tr>\n",
       "  </tbody>\n",
       "</table>\n",
       "</div>"
      ],
      "text/plain": [
       "                      map       mrr    avg_sr  avg_ndcg   avg_p3\n",
       "Ensemble wfm_sc  0.387243  0.539506  0.622222  0.544498  0.31358"
      ]
     },
     "execution_count": 6,
     "metadata": {},
     "output_type": "execute_result"
    }
   ],
   "source": [
    "# E43 (inshorts 400 sent pairs) -------------> E35 minus sfm\n",
    "pd.DataFrame(calc_metrics(df1),index=df1.Model_name.unique())"
   ]
  },
  {
   "cell_type": "code",
   "execution_count": 11,
   "metadata": {
    "collapsed": true,
    "hidden": true
   },
   "outputs": [
    {
     "name": "stdout",
     "output_type": "stream",
     "text": [
      "Pruned_ 1\n"
     ]
    },
    {
     "data": {
      "text/html": [
       "<div>\n",
       "<style scoped>\n",
       "    .dataframe tbody tr th:only-of-type {\n",
       "        vertical-align: middle;\n",
       "    }\n",
       "\n",
       "    .dataframe tbody tr th {\n",
       "        vertical-align: top;\n",
       "    }\n",
       "\n",
       "    .dataframe thead th {\n",
       "        text-align: right;\n",
       "    }\n",
       "</style>\n",
       "<table border=\"1\" class=\"dataframe\">\n",
       "  <thead>\n",
       "    <tr style=\"text-align: right;\">\n",
       "      <th></th>\n",
       "      <th>map</th>\n",
       "      <th>mrr</th>\n",
       "      <th>avg_sr</th>\n",
       "      <th>avg_ndcg</th>\n",
       "      <th>avg_p3</th>\n",
       "    </tr>\n",
       "  </thead>\n",
       "  <tbody>\n",
       "    <tr>\n",
       "      <th>Ensemble wfm_sc</th>\n",
       "      <td>0.529153</td>\n",
       "      <td>0.697195</td>\n",
       "      <td>0.777228</td>\n",
       "      <td>0.695044</td>\n",
       "      <td>0.438944</td>\n",
       "    </tr>\n",
       "  </tbody>\n",
       "</table>\n",
       "</div>"
      ],
      "text/plain": [
       "                      map       mrr    avg_sr  avg_ndcg    avg_p3\n",
       "Ensemble wfm_sc  0.529153  0.697195  0.777228  0.695044  0.438944"
      ]
     },
     "metadata": {},
     "output_type": "display_data"
    },
    {
     "name": "stdout",
     "output_type": "stream",
     "text": [
      "Pruned_ 2\n"
     ]
    },
    {
     "data": {
      "text/html": [
       "<div>\n",
       "<style scoped>\n",
       "    .dataframe tbody tr th:only-of-type {\n",
       "        vertical-align: middle;\n",
       "    }\n",
       "\n",
       "    .dataframe tbody tr th {\n",
       "        vertical-align: top;\n",
       "    }\n",
       "\n",
       "    .dataframe thead th {\n",
       "        text-align: right;\n",
       "    }\n",
       "</style>\n",
       "<table border=\"1\" class=\"dataframe\">\n",
       "  <thead>\n",
       "    <tr style=\"text-align: right;\">\n",
       "      <th></th>\n",
       "      <th>map</th>\n",
       "      <th>mrr</th>\n",
       "      <th>avg_sr</th>\n",
       "      <th>avg_ndcg</th>\n",
       "      <th>avg_p3</th>\n",
       "    </tr>\n",
       "  </thead>\n",
       "  <tbody>\n",
       "    <tr>\n",
       "      <th>Ensemble wfm_sc</th>\n",
       "      <td>0.586988</td>\n",
       "      <td>0.748904</td>\n",
       "      <td>0.815789</td>\n",
       "      <td>0.736409</td>\n",
       "      <td>0.491228</td>\n",
       "    </tr>\n",
       "  </tbody>\n",
       "</table>\n",
       "</div>"
      ],
      "text/plain": [
       "                      map       mrr    avg_sr  avg_ndcg    avg_p3\n",
       "Ensemble wfm_sc  0.586988  0.748904  0.815789  0.736409  0.491228"
      ]
     },
     "metadata": {},
     "output_type": "display_data"
    },
    {
     "name": "stdout",
     "output_type": "stream",
     "text": [
      "Pruned_ 3\n"
     ]
    },
    {
     "data": {
      "text/html": [
       "<div>\n",
       "<style scoped>\n",
       "    .dataframe tbody tr th:only-of-type {\n",
       "        vertical-align: middle;\n",
       "    }\n",
       "\n",
       "    .dataframe tbody tr th {\n",
       "        vertical-align: top;\n",
       "    }\n",
       "\n",
       "    .dataframe thead th {\n",
       "        text-align: right;\n",
       "    }\n",
       "</style>\n",
       "<table border=\"1\" class=\"dataframe\">\n",
       "  <thead>\n",
       "    <tr style=\"text-align: right;\">\n",
       "      <th></th>\n",
       "      <th>map</th>\n",
       "      <th>mrr</th>\n",
       "      <th>avg_sr</th>\n",
       "      <th>avg_ndcg</th>\n",
       "      <th>avg_p3</th>\n",
       "    </tr>\n",
       "  </thead>\n",
       "  <tbody>\n",
       "    <tr>\n",
       "      <th>Ensemble wfm_sc</th>\n",
       "      <td>0.629101</td>\n",
       "      <td>0.788889</td>\n",
       "      <td>0.838095</td>\n",
       "      <td>0.760565</td>\n",
       "      <td>0.530159</td>\n",
       "    </tr>\n",
       "  </tbody>\n",
       "</table>\n",
       "</div>"
      ],
      "text/plain": [
       "                      map       mrr    avg_sr  avg_ndcg    avg_p3\n",
       "Ensemble wfm_sc  0.629101  0.788889  0.838095  0.760565  0.530159"
      ]
     },
     "metadata": {},
     "output_type": "display_data"
    },
    {
     "name": "stdout",
     "output_type": "stream",
     "text": [
      "Pruned_ 4\n"
     ]
    },
    {
     "data": {
      "text/html": [
       "<div>\n",
       "<style scoped>\n",
       "    .dataframe tbody tr th:only-of-type {\n",
       "        vertical-align: middle;\n",
       "    }\n",
       "\n",
       "    .dataframe tbody tr th {\n",
       "        vertical-align: top;\n",
       "    }\n",
       "\n",
       "    .dataframe thead th {\n",
       "        text-align: right;\n",
       "    }\n",
       "</style>\n",
       "<table border=\"1\" class=\"dataframe\">\n",
       "  <thead>\n",
       "    <tr style=\"text-align: right;\">\n",
       "      <th></th>\n",
       "      <th>map</th>\n",
       "      <th>mrr</th>\n",
       "      <th>avg_sr</th>\n",
       "      <th>avg_ndcg</th>\n",
       "      <th>avg_p3</th>\n",
       "    </tr>\n",
       "  </thead>\n",
       "  <tbody>\n",
       "    <tr>\n",
       "      <th>Ensemble wfm_sc</th>\n",
       "      <td>0.645917</td>\n",
       "      <td>0.805221</td>\n",
       "      <td>0.855422</td>\n",
       "      <td>0.776005</td>\n",
       "      <td>0.546185</td>\n",
       "    </tr>\n",
       "  </tbody>\n",
       "</table>\n",
       "</div>"
      ],
      "text/plain": [
       "                      map       mrr    avg_sr  avg_ndcg    avg_p3\n",
       "Ensemble wfm_sc  0.645917  0.805221  0.855422  0.776005  0.546185"
      ]
     },
     "metadata": {},
     "output_type": "display_data"
    },
    {
     "name": "stdout",
     "output_type": "stream",
     "text": [
      "Pruned_ 5\n"
     ]
    },
    {
     "data": {
      "text/html": [
       "<div>\n",
       "<style scoped>\n",
       "    .dataframe tbody tr th:only-of-type {\n",
       "        vertical-align: middle;\n",
       "    }\n",
       "\n",
       "    .dataframe tbody tr th {\n",
       "        vertical-align: top;\n",
       "    }\n",
       "\n",
       "    .dataframe thead th {\n",
       "        text-align: right;\n",
       "    }\n",
       "</style>\n",
       "<table border=\"1\" class=\"dataframe\">\n",
       "  <thead>\n",
       "    <tr style=\"text-align: right;\">\n",
       "      <th></th>\n",
       "      <th>map</th>\n",
       "      <th>mrr</th>\n",
       "      <th>avg_sr</th>\n",
       "      <th>avg_ndcg</th>\n",
       "      <th>avg_p3</th>\n",
       "    </tr>\n",
       "  </thead>\n",
       "  <tbody>\n",
       "    <tr>\n",
       "      <th>Ensemble wfm_sc</th>\n",
       "      <td>0.661538</td>\n",
       "      <td>0.805128</td>\n",
       "      <td>0.846154</td>\n",
       "      <td>0.768196</td>\n",
       "      <td>0.569231</td>\n",
       "    </tr>\n",
       "  </tbody>\n",
       "</table>\n",
       "</div>"
      ],
      "text/plain": [
       "                      map       mrr    avg_sr  avg_ndcg    avg_p3\n",
       "Ensemble wfm_sc  0.661538  0.805128  0.846154  0.768196  0.569231"
      ]
     },
     "metadata": {},
     "output_type": "display_data"
    },
    {
     "name": "stdout",
     "output_type": "stream",
     "text": [
      "Pruned_ 6\n"
     ]
    },
    {
     "data": {
      "text/html": [
       "<div>\n",
       "<style scoped>\n",
       "    .dataframe tbody tr th:only-of-type {\n",
       "        vertical-align: middle;\n",
       "    }\n",
       "\n",
       "    .dataframe tbody tr th {\n",
       "        vertical-align: top;\n",
       "    }\n",
       "\n",
       "    .dataframe thead th {\n",
       "        text-align: right;\n",
       "    }\n",
       "</style>\n",
       "<table border=\"1\" class=\"dataframe\">\n",
       "  <thead>\n",
       "    <tr style=\"text-align: right;\">\n",
       "      <th></th>\n",
       "      <th>map</th>\n",
       "      <th>mrr</th>\n",
       "      <th>avg_sr</th>\n",
       "      <th>avg_ndcg</th>\n",
       "      <th>avg_p3</th>\n",
       "    </tr>\n",
       "  </thead>\n",
       "  <tbody>\n",
       "    <tr>\n",
       "      <th>Ensemble wfm_sc</th>\n",
       "      <td>0.682222</td>\n",
       "      <td>0.82</td>\n",
       "      <td>0.86</td>\n",
       "      <td>0.786167</td>\n",
       "      <td>0.586667</td>\n",
       "    </tr>\n",
       "  </tbody>\n",
       "</table>\n",
       "</div>"
      ],
      "text/plain": [
       "                      map   mrr  avg_sr  avg_ndcg    avg_p3\n",
       "Ensemble wfm_sc  0.682222  0.82    0.86  0.786167  0.586667"
      ]
     },
     "metadata": {},
     "output_type": "display_data"
    },
    {
     "name": "stdout",
     "output_type": "stream",
     "text": [
      "Pruned_ 7\n"
     ]
    },
    {
     "data": {
      "text/html": [
       "<div>\n",
       "<style scoped>\n",
       "    .dataframe tbody tr th:only-of-type {\n",
       "        vertical-align: middle;\n",
       "    }\n",
       "\n",
       "    .dataframe tbody tr th {\n",
       "        vertical-align: top;\n",
       "    }\n",
       "\n",
       "    .dataframe thead th {\n",
       "        text-align: right;\n",
       "    }\n",
       "</style>\n",
       "<table border=\"1\" class=\"dataframe\">\n",
       "  <thead>\n",
       "    <tr style=\"text-align: right;\">\n",
       "      <th></th>\n",
       "      <th>map</th>\n",
       "      <th>mrr</th>\n",
       "      <th>avg_sr</th>\n",
       "      <th>avg_ndcg</th>\n",
       "      <th>avg_p3</th>\n",
       "    </tr>\n",
       "  </thead>\n",
       "  <tbody>\n",
       "    <tr>\n",
       "      <th>Ensemble wfm_sc</th>\n",
       "      <td>0.734234</td>\n",
       "      <td>0.891892</td>\n",
       "      <td>0.945946</td>\n",
       "      <td>0.869212</td>\n",
       "      <td>0.621622</td>\n",
       "    </tr>\n",
       "  </tbody>\n",
       "</table>\n",
       "</div>"
      ],
      "text/plain": [
       "                      map       mrr    avg_sr  avg_ndcg    avg_p3\n",
       "Ensemble wfm_sc  0.734234  0.891892  0.945946  0.869212  0.621622"
      ]
     },
     "metadata": {},
     "output_type": "display_data"
    },
    {
     "name": "stdout",
     "output_type": "stream",
     "text": [
      "Pruned_ 8\n"
     ]
    },
    {
     "data": {
      "text/html": [
       "<div>\n",
       "<style scoped>\n",
       "    .dataframe tbody tr th:only-of-type {\n",
       "        vertical-align: middle;\n",
       "    }\n",
       "\n",
       "    .dataframe tbody tr th {\n",
       "        vertical-align: top;\n",
       "    }\n",
       "\n",
       "    .dataframe thead th {\n",
       "        text-align: right;\n",
       "    }\n",
       "</style>\n",
       "<table border=\"1\" class=\"dataframe\">\n",
       "  <thead>\n",
       "    <tr style=\"text-align: right;\">\n",
       "      <th></th>\n",
       "      <th>map</th>\n",
       "      <th>mrr</th>\n",
       "      <th>avg_sr</th>\n",
       "      <th>avg_ndcg</th>\n",
       "      <th>avg_p3</th>\n",
       "    </tr>\n",
       "  </thead>\n",
       "  <tbody>\n",
       "    <tr>\n",
       "      <th>Ensemble wfm_sc</th>\n",
       "      <td>0.730903</td>\n",
       "      <td>0.890625</td>\n",
       "      <td>0.9375</td>\n",
       "      <td>0.863994</td>\n",
       "      <td>0.614583</td>\n",
       "    </tr>\n",
       "  </tbody>\n",
       "</table>\n",
       "</div>"
      ],
      "text/plain": [
       "                      map       mrr  avg_sr  avg_ndcg    avg_p3\n",
       "Ensemble wfm_sc  0.730903  0.890625  0.9375  0.863994  0.614583"
      ]
     },
     "metadata": {},
     "output_type": "display_data"
    },
    {
     "name": "stdout",
     "output_type": "stream",
     "text": [
      "Pruned_ 9\n"
     ]
    },
    {
     "data": {
      "text/html": [
       "<div>\n",
       "<style scoped>\n",
       "    .dataframe tbody tr th:only-of-type {\n",
       "        vertical-align: middle;\n",
       "    }\n",
       "\n",
       "    .dataframe tbody tr th {\n",
       "        vertical-align: top;\n",
       "    }\n",
       "\n",
       "    .dataframe thead th {\n",
       "        text-align: right;\n",
       "    }\n",
       "</style>\n",
       "<table border=\"1\" class=\"dataframe\">\n",
       "  <thead>\n",
       "    <tr style=\"text-align: right;\">\n",
       "      <th></th>\n",
       "      <th>map</th>\n",
       "      <th>mrr</th>\n",
       "      <th>avg_sr</th>\n",
       "      <th>avg_ndcg</th>\n",
       "      <th>avg_p3</th>\n",
       "    </tr>\n",
       "  </thead>\n",
       "  <tbody>\n",
       "    <tr>\n",
       "      <th>Ensemble wfm_sc</th>\n",
       "      <td>0.734848</td>\n",
       "      <td>0.863636</td>\n",
       "      <td>0.909091</td>\n",
       "      <td>0.829849</td>\n",
       "      <td>0.636364</td>\n",
       "    </tr>\n",
       "  </tbody>\n",
       "</table>\n",
       "</div>"
      ],
      "text/plain": [
       "                      map       mrr    avg_sr  avg_ndcg    avg_p3\n",
       "Ensemble wfm_sc  0.734848  0.863636  0.909091  0.829849  0.636364"
      ]
     },
     "metadata": {},
     "output_type": "display_data"
    },
    {
     "name": "stdout",
     "output_type": "stream",
     "text": [
      "Pruned_ 10\n"
     ]
    },
    {
     "data": {
      "text/html": [
       "<div>\n",
       "<style scoped>\n",
       "    .dataframe tbody tr th:only-of-type {\n",
       "        vertical-align: middle;\n",
       "    }\n",
       "\n",
       "    .dataframe tbody tr th {\n",
       "        vertical-align: top;\n",
       "    }\n",
       "\n",
       "    .dataframe thead th {\n",
       "        text-align: right;\n",
       "    }\n",
       "</style>\n",
       "<table border=\"1\" class=\"dataframe\">\n",
       "  <thead>\n",
       "    <tr style=\"text-align: right;\">\n",
       "      <th></th>\n",
       "      <th>map</th>\n",
       "      <th>mrr</th>\n",
       "      <th>avg_sr</th>\n",
       "      <th>avg_ndcg</th>\n",
       "      <th>avg_p3</th>\n",
       "    </tr>\n",
       "  </thead>\n",
       "  <tbody>\n",
       "    <tr>\n",
       "      <th>Ensemble wfm_sc</th>\n",
       "      <td>0.788889</td>\n",
       "      <td>0.95</td>\n",
       "      <td>1.0</td>\n",
       "      <td>0.934233</td>\n",
       "      <td>0.666667</td>\n",
       "    </tr>\n",
       "  </tbody>\n",
       "</table>\n",
       "</div>"
      ],
      "text/plain": [
       "                      map   mrr  avg_sr  avg_ndcg    avg_p3\n",
       "Ensemble wfm_sc  0.788889  0.95     1.0  0.934233  0.666667"
      ]
     },
     "metadata": {},
     "output_type": "display_data"
    },
    {
     "name": "stdout",
     "output_type": "stream",
     "text": [
      "[78, 82, 84, 86, 85, 86, 95, 94, 91, 100]\n"
     ]
    }
   ],
   "source": [
    "ml = []\n",
    "for i in range(1,11):\n",
    "    print('Pruned_',i)\n",
    "    df1 = pd.read_csv(\"/home/ritwik/git/AshaQnA/other_codes/Metrics/Data/E_35_pruned_\"+str(i)+\".csv\")\n",
    "    mat_bin = get_data(df1[[\"final_1\",\"final_2\",\"final_3\"]],[1,2])    \n",
    "    display(pd.DataFrame(calc_metrics(df1),index=df1.Model_name.unique()))\n",
    "    ml.append(round(calc_metrics(df1)['avg_sr']*100))\n",
    "print(ml)"
   ]
  },
  {
   "cell_type": "code",
   "execution_count": 41,
   "metadata": {
    "collapsed": true,
    "hidden": true
   },
   "outputs": [
    {
     "name": "stdout",
     "output_type": "stream",
     "text": [
      "Pruned_ 1\n"
     ]
    },
    {
     "data": {
      "text/html": [
       "<div>\n",
       "<style scoped>\n",
       "    .dataframe tbody tr th:only-of-type {\n",
       "        vertical-align: middle;\n",
       "    }\n",
       "\n",
       "    .dataframe tbody tr th {\n",
       "        vertical-align: top;\n",
       "    }\n",
       "\n",
       "    .dataframe thead th {\n",
       "        text-align: right;\n",
       "    }\n",
       "</style>\n",
       "<table border=\"1\" class=\"dataframe\">\n",
       "  <thead>\n",
       "    <tr style=\"text-align: right;\">\n",
       "      <th></th>\n",
       "      <th>map</th>\n",
       "      <th>mrr</th>\n",
       "      <th>avg_sr</th>\n",
       "      <th>avg_ndcg</th>\n",
       "      <th>avg_p3</th>\n",
       "    </tr>\n",
       "  </thead>\n",
       "  <tbody>\n",
       "    <tr>\n",
       "      <th>Ensemble wfm_sc</th>\n",
       "      <td>0.505226</td>\n",
       "      <td>0.671617</td>\n",
       "      <td>0.782178</td>\n",
       "      <td>0.678451</td>\n",
       "      <td>0.429043</td>\n",
       "    </tr>\n",
       "  </tbody>\n",
       "</table>\n",
       "</div>"
      ],
      "text/plain": [
       "                      map       mrr    avg_sr  avg_ndcg    avg_p3\n",
       "Ensemble wfm_sc  0.505226  0.671617  0.782178  0.678451  0.429043"
      ]
     },
     "metadata": {},
     "output_type": "display_data"
    },
    {
     "name": "stdout",
     "output_type": "stream",
     "text": [
      "Pruned_ 2\n"
     ]
    },
    {
     "data": {
      "text/html": [
       "<div>\n",
       "<style scoped>\n",
       "    .dataframe tbody tr th:only-of-type {\n",
       "        vertical-align: middle;\n",
       "    }\n",
       "\n",
       "    .dataframe tbody tr th {\n",
       "        vertical-align: top;\n",
       "    }\n",
       "\n",
       "    .dataframe thead th {\n",
       "        text-align: right;\n",
       "    }\n",
       "</style>\n",
       "<table border=\"1\" class=\"dataframe\">\n",
       "  <thead>\n",
       "    <tr style=\"text-align: right;\">\n",
       "      <th></th>\n",
       "      <th>map</th>\n",
       "      <th>mrr</th>\n",
       "      <th>avg_sr</th>\n",
       "      <th>avg_ndcg</th>\n",
       "      <th>avg_p3</th>\n",
       "    </tr>\n",
       "  </thead>\n",
       "  <tbody>\n",
       "    <tr>\n",
       "      <th>Ensemble wfm_sc</th>\n",
       "      <td>0.551535</td>\n",
       "      <td>0.70614</td>\n",
       "      <td>0.809211</td>\n",
       "      <td>0.70389</td>\n",
       "      <td>0.480263</td>\n",
       "    </tr>\n",
       "  </tbody>\n",
       "</table>\n",
       "</div>"
      ],
      "text/plain": [
       "                      map      mrr    avg_sr  avg_ndcg    avg_p3\n",
       "Ensemble wfm_sc  0.551535  0.70614  0.809211   0.70389  0.480263"
      ]
     },
     "metadata": {},
     "output_type": "display_data"
    },
    {
     "name": "stdout",
     "output_type": "stream",
     "text": [
      "Pruned_ 3\n"
     ]
    },
    {
     "data": {
      "text/html": [
       "<div>\n",
       "<style scoped>\n",
       "    .dataframe tbody tr th:only-of-type {\n",
       "        vertical-align: middle;\n",
       "    }\n",
       "\n",
       "    .dataframe tbody tr th {\n",
       "        vertical-align: top;\n",
       "    }\n",
       "\n",
       "    .dataframe thead th {\n",
       "        text-align: right;\n",
       "    }\n",
       "</style>\n",
       "<table border=\"1\" class=\"dataframe\">\n",
       "  <thead>\n",
       "    <tr style=\"text-align: right;\">\n",
       "      <th></th>\n",
       "      <th>map</th>\n",
       "      <th>mrr</th>\n",
       "      <th>avg_sr</th>\n",
       "      <th>avg_ndcg</th>\n",
       "      <th>avg_p3</th>\n",
       "    </tr>\n",
       "  </thead>\n",
       "  <tbody>\n",
       "    <tr>\n",
       "      <th>Ensemble wfm_sc</th>\n",
       "      <td>0.58836</td>\n",
       "      <td>0.739683</td>\n",
       "      <td>0.819048</td>\n",
       "      <td>0.722897</td>\n",
       "      <td>0.507937</td>\n",
       "    </tr>\n",
       "  </tbody>\n",
       "</table>\n",
       "</div>"
      ],
      "text/plain": [
       "                     map       mrr    avg_sr  avg_ndcg    avg_p3\n",
       "Ensemble wfm_sc  0.58836  0.739683  0.819048  0.722897  0.507937"
      ]
     },
     "metadata": {},
     "output_type": "display_data"
    },
    {
     "name": "stdout",
     "output_type": "stream",
     "text": [
      "Pruned_ 4\n"
     ]
    },
    {
     "data": {
      "text/html": [
       "<div>\n",
       "<style scoped>\n",
       "    .dataframe tbody tr th:only-of-type {\n",
       "        vertical-align: middle;\n",
       "    }\n",
       "\n",
       "    .dataframe tbody tr th {\n",
       "        vertical-align: top;\n",
       "    }\n",
       "\n",
       "    .dataframe thead th {\n",
       "        text-align: right;\n",
       "    }\n",
       "</style>\n",
       "<table border=\"1\" class=\"dataframe\">\n",
       "  <thead>\n",
       "    <tr style=\"text-align: right;\">\n",
       "      <th></th>\n",
       "      <th>map</th>\n",
       "      <th>mrr</th>\n",
       "      <th>avg_sr</th>\n",
       "      <th>avg_ndcg</th>\n",
       "      <th>avg_p3</th>\n",
       "    </tr>\n",
       "  </thead>\n",
       "  <tbody>\n",
       "    <tr>\n",
       "      <th>Ensemble wfm_sc</th>\n",
       "      <td>0.593708</td>\n",
       "      <td>0.726908</td>\n",
       "      <td>0.807229</td>\n",
       "      <td>0.70979</td>\n",
       "      <td>0.522088</td>\n",
       "    </tr>\n",
       "  </tbody>\n",
       "</table>\n",
       "</div>"
      ],
      "text/plain": [
       "                      map       mrr    avg_sr  avg_ndcg    avg_p3\n",
       "Ensemble wfm_sc  0.593708  0.726908  0.807229   0.70979  0.522088"
      ]
     },
     "metadata": {},
     "output_type": "display_data"
    },
    {
     "name": "stdout",
     "output_type": "stream",
     "text": [
      "Pruned_ 5\n"
     ]
    },
    {
     "data": {
      "text/html": [
       "<div>\n",
       "<style scoped>\n",
       "    .dataframe tbody tr th:only-of-type {\n",
       "        vertical-align: middle;\n",
       "    }\n",
       "\n",
       "    .dataframe tbody tr th {\n",
       "        vertical-align: top;\n",
       "    }\n",
       "\n",
       "    .dataframe thead th {\n",
       "        text-align: right;\n",
       "    }\n",
       "</style>\n",
       "<table border=\"1\" class=\"dataframe\">\n",
       "  <thead>\n",
       "    <tr style=\"text-align: right;\">\n",
       "      <th></th>\n",
       "      <th>map</th>\n",
       "      <th>mrr</th>\n",
       "      <th>avg_sr</th>\n",
       "      <th>avg_ndcg</th>\n",
       "      <th>avg_p3</th>\n",
       "    </tr>\n",
       "  </thead>\n",
       "  <tbody>\n",
       "    <tr>\n",
       "      <th>Ensemble wfm_sc</th>\n",
       "      <td>0.608547</td>\n",
       "      <td>0.733333</td>\n",
       "      <td>0.8</td>\n",
       "      <td>0.70944</td>\n",
       "      <td>0.533333</td>\n",
       "    </tr>\n",
       "  </tbody>\n",
       "</table>\n",
       "</div>"
      ],
      "text/plain": [
       "                      map       mrr  avg_sr  avg_ndcg    avg_p3\n",
       "Ensemble wfm_sc  0.608547  0.733333     0.8   0.70944  0.533333"
      ]
     },
     "metadata": {},
     "output_type": "display_data"
    },
    {
     "name": "stdout",
     "output_type": "stream",
     "text": [
      "Pruned_ 6\n"
     ]
    },
    {
     "data": {
      "text/html": [
       "<div>\n",
       "<style scoped>\n",
       "    .dataframe tbody tr th:only-of-type {\n",
       "        vertical-align: middle;\n",
       "    }\n",
       "\n",
       "    .dataframe tbody tr th {\n",
       "        vertical-align: top;\n",
       "    }\n",
       "\n",
       "    .dataframe thead th {\n",
       "        text-align: right;\n",
       "    }\n",
       "</style>\n",
       "<table border=\"1\" class=\"dataframe\">\n",
       "  <thead>\n",
       "    <tr style=\"text-align: right;\">\n",
       "      <th></th>\n",
       "      <th>map</th>\n",
       "      <th>mrr</th>\n",
       "      <th>avg_sr</th>\n",
       "      <th>avg_ndcg</th>\n",
       "      <th>avg_p3</th>\n",
       "    </tr>\n",
       "  </thead>\n",
       "  <tbody>\n",
       "    <tr>\n",
       "      <th>Ensemble wfm_sc</th>\n",
       "      <td>0.633333</td>\n",
       "      <td>0.763333</td>\n",
       "      <td>0.84</td>\n",
       "      <td>0.743826</td>\n",
       "      <td>0.56</td>\n",
       "    </tr>\n",
       "  </tbody>\n",
       "</table>\n",
       "</div>"
      ],
      "text/plain": [
       "                      map       mrr  avg_sr  avg_ndcg  avg_p3\n",
       "Ensemble wfm_sc  0.633333  0.763333    0.84  0.743826    0.56"
      ]
     },
     "metadata": {},
     "output_type": "display_data"
    },
    {
     "name": "stdout",
     "output_type": "stream",
     "text": [
      "Pruned_ 7\n"
     ]
    },
    {
     "data": {
      "text/html": [
       "<div>\n",
       "<style scoped>\n",
       "    .dataframe tbody tr th:only-of-type {\n",
       "        vertical-align: middle;\n",
       "    }\n",
       "\n",
       "    .dataframe tbody tr th {\n",
       "        vertical-align: top;\n",
       "    }\n",
       "\n",
       "    .dataframe thead th {\n",
       "        text-align: right;\n",
       "    }\n",
       "</style>\n",
       "<table border=\"1\" class=\"dataframe\">\n",
       "  <thead>\n",
       "    <tr style=\"text-align: right;\">\n",
       "      <th></th>\n",
       "      <th>map</th>\n",
       "      <th>mrr</th>\n",
       "      <th>avg_sr</th>\n",
       "      <th>avg_ndcg</th>\n",
       "      <th>avg_p3</th>\n",
       "    </tr>\n",
       "  </thead>\n",
       "  <tbody>\n",
       "    <tr>\n",
       "      <th>Ensemble wfm_sc</th>\n",
       "      <td>0.63964</td>\n",
       "      <td>0.765766</td>\n",
       "      <td>0.837838</td>\n",
       "      <td>0.754058</td>\n",
       "      <td>0.567568</td>\n",
       "    </tr>\n",
       "  </tbody>\n",
       "</table>\n",
       "</div>"
      ],
      "text/plain": [
       "                     map       mrr    avg_sr  avg_ndcg    avg_p3\n",
       "Ensemble wfm_sc  0.63964  0.765766  0.837838  0.754058  0.567568"
      ]
     },
     "metadata": {},
     "output_type": "display_data"
    },
    {
     "name": "stdout",
     "output_type": "stream",
     "text": [
      "Pruned_ 8\n"
     ]
    },
    {
     "data": {
      "text/html": [
       "<div>\n",
       "<style scoped>\n",
       "    .dataframe tbody tr th:only-of-type {\n",
       "        vertical-align: middle;\n",
       "    }\n",
       "\n",
       "    .dataframe tbody tr th {\n",
       "        vertical-align: top;\n",
       "    }\n",
       "\n",
       "    .dataframe thead th {\n",
       "        text-align: right;\n",
       "    }\n",
       "</style>\n",
       "<table border=\"1\" class=\"dataframe\">\n",
       "  <thead>\n",
       "    <tr style=\"text-align: right;\">\n",
       "      <th></th>\n",
       "      <th>map</th>\n",
       "      <th>mrr</th>\n",
       "      <th>avg_sr</th>\n",
       "      <th>avg_ndcg</th>\n",
       "      <th>avg_p3</th>\n",
       "    </tr>\n",
       "  </thead>\n",
       "  <tbody>\n",
       "    <tr>\n",
       "      <th>Ensemble wfm_sc</th>\n",
       "      <td>0.621528</td>\n",
       "      <td>0.744792</td>\n",
       "      <td>0.8125</td>\n",
       "      <td>0.728251</td>\n",
       "      <td>0.552083</td>\n",
       "    </tr>\n",
       "  </tbody>\n",
       "</table>\n",
       "</div>"
      ],
      "text/plain": [
       "                      map       mrr  avg_sr  avg_ndcg    avg_p3\n",
       "Ensemble wfm_sc  0.621528  0.744792  0.8125  0.728251  0.552083"
      ]
     },
     "metadata": {},
     "output_type": "display_data"
    },
    {
     "name": "stdout",
     "output_type": "stream",
     "text": [
      "Pruned_ 9\n"
     ]
    },
    {
     "data": {
      "text/html": [
       "<div>\n",
       "<style scoped>\n",
       "    .dataframe tbody tr th:only-of-type {\n",
       "        vertical-align: middle;\n",
       "    }\n",
       "\n",
       "    .dataframe tbody tr th {\n",
       "        vertical-align: top;\n",
       "    }\n",
       "\n",
       "    .dataframe thead th {\n",
       "        text-align: right;\n",
       "    }\n",
       "</style>\n",
       "<table border=\"1\" class=\"dataframe\">\n",
       "  <thead>\n",
       "    <tr style=\"text-align: right;\">\n",
       "      <th></th>\n",
       "      <th>map</th>\n",
       "      <th>mrr</th>\n",
       "      <th>avg_sr</th>\n",
       "      <th>avg_ndcg</th>\n",
       "      <th>avg_p3</th>\n",
       "    </tr>\n",
       "  </thead>\n",
       "  <tbody>\n",
       "    <tr>\n",
       "      <th>Ensemble wfm_sc</th>\n",
       "      <td>0.616162</td>\n",
       "      <td>0.719697</td>\n",
       "      <td>0.818182</td>\n",
       "      <td>0.706538</td>\n",
       "      <td>0.575758</td>\n",
       "    </tr>\n",
       "  </tbody>\n",
       "</table>\n",
       "</div>"
      ],
      "text/plain": [
       "                      map       mrr    avg_sr  avg_ndcg    avg_p3\n",
       "Ensemble wfm_sc  0.616162  0.719697  0.818182  0.706538  0.575758"
      ]
     },
     "metadata": {},
     "output_type": "display_data"
    },
    {
     "name": "stdout",
     "output_type": "stream",
     "text": [
      "Pruned_ 10\n"
     ]
    },
    {
     "data": {
      "text/html": [
       "<div>\n",
       "<style scoped>\n",
       "    .dataframe tbody tr th:only-of-type {\n",
       "        vertical-align: middle;\n",
       "    }\n",
       "\n",
       "    .dataframe tbody tr th {\n",
       "        vertical-align: top;\n",
       "    }\n",
       "\n",
       "    .dataframe thead th {\n",
       "        text-align: right;\n",
       "    }\n",
       "</style>\n",
       "<table border=\"1\" class=\"dataframe\">\n",
       "  <thead>\n",
       "    <tr style=\"text-align: right;\">\n",
       "      <th></th>\n",
       "      <th>map</th>\n",
       "      <th>mrr</th>\n",
       "      <th>avg_sr</th>\n",
       "      <th>avg_ndcg</th>\n",
       "      <th>avg_p3</th>\n",
       "    </tr>\n",
       "  </thead>\n",
       "  <tbody>\n",
       "    <tr>\n",
       "      <th>Ensemble wfm_sc</th>\n",
       "      <td>0.672222</td>\n",
       "      <td>0.783333</td>\n",
       "      <td>0.9</td>\n",
       "      <td>0.784119</td>\n",
       "      <td>0.666667</td>\n",
       "    </tr>\n",
       "  </tbody>\n",
       "</table>\n",
       "</div>"
      ],
      "text/plain": [
       "                      map       mrr  avg_sr  avg_ndcg    avg_p3\n",
       "Ensemble wfm_sc  0.672222  0.783333     0.9  0.784119  0.666667"
      ]
     },
     "metadata": {},
     "output_type": "display_data"
    },
    {
     "name": "stdout",
     "output_type": "stream",
     "text": [
      "[78, 81, 82, 81, 80, 84, 84, 81, 82, 90]\n"
     ]
    }
   ],
   "source": [
    "ml = []\n",
    "for i in range(1,11):\n",
    "    print('Pruned_',i)\n",
    "    df1 = pd.read_csv(\"/home/ritwik/git/AshaQnA/other_codes/Metrics/Data/E_44_pruned_\"+str(i)+\".csv\")\n",
    "    mat_bin = get_data(df1[[\"final_1\",\"final_2\",\"final_3\"]],[1,2])    \n",
    "    display(pd.DataFrame(calc_metrics(df1),index=df1.Model_name.unique()))\n",
    "    ml.append(round(calc_metrics(df1)['avg_sr']*100))\n",
    "print(ml)"
   ]
  },
  {
   "cell_type": "code",
   "execution_count": 48,
   "metadata": {
    "collapsed": true,
    "hidden": true
   },
   "outputs": [
    {
     "name": "stdout",
     "output_type": "stream",
     "text": [
      "Pruned_ 1\n"
     ]
    },
    {
     "data": {
      "text/html": [
       "<div>\n",
       "<style scoped>\n",
       "    .dataframe tbody tr th:only-of-type {\n",
       "        vertical-align: middle;\n",
       "    }\n",
       "\n",
       "    .dataframe tbody tr th {\n",
       "        vertical-align: top;\n",
       "    }\n",
       "\n",
       "    .dataframe thead th {\n",
       "        text-align: right;\n",
       "    }\n",
       "</style>\n",
       "<table border=\"1\" class=\"dataframe\">\n",
       "  <thead>\n",
       "    <tr style=\"text-align: right;\">\n",
       "      <th></th>\n",
       "      <th>map</th>\n",
       "      <th>mrr</th>\n",
       "      <th>avg_sr</th>\n",
       "      <th>avg_ndcg</th>\n",
       "      <th>avg_p5</th>\n",
       "    </tr>\n",
       "  </thead>\n",
       "  <tbody>\n",
       "    <tr>\n",
       "      <th>Ensemble wfm_sc</th>\n",
       "      <td>0.446733</td>\n",
       "      <td>0.704785</td>\n",
       "      <td>0.806931</td>\n",
       "      <td>0.692288</td>\n",
       "      <td>0.332673</td>\n",
       "    </tr>\n",
       "  </tbody>\n",
       "</table>\n",
       "</div>"
      ],
      "text/plain": [
       "                      map       mrr    avg_sr  avg_ndcg    avg_p5\n",
       "Ensemble wfm_sc  0.446733  0.704785  0.806931  0.692288  0.332673"
      ]
     },
     "metadata": {},
     "output_type": "display_data"
    },
    {
     "name": "stdout",
     "output_type": "stream",
     "text": [
      "Pruned_ 2\n"
     ]
    },
    {
     "data": {
      "text/html": [
       "<div>\n",
       "<style scoped>\n",
       "    .dataframe tbody tr th:only-of-type {\n",
       "        vertical-align: middle;\n",
       "    }\n",
       "\n",
       "    .dataframe tbody tr th {\n",
       "        vertical-align: top;\n",
       "    }\n",
       "\n",
       "    .dataframe thead th {\n",
       "        text-align: right;\n",
       "    }\n",
       "</style>\n",
       "<table border=\"1\" class=\"dataframe\">\n",
       "  <thead>\n",
       "    <tr style=\"text-align: right;\">\n",
       "      <th></th>\n",
       "      <th>map</th>\n",
       "      <th>mrr</th>\n",
       "      <th>avg_sr</th>\n",
       "      <th>avg_ndcg</th>\n",
       "      <th>avg_p5</th>\n",
       "    </tr>\n",
       "  </thead>\n",
       "  <tbody>\n",
       "    <tr>\n",
       "      <th>Ensemble wfm_sc</th>\n",
       "      <td>0.494145</td>\n",
       "      <td>0.734868</td>\n",
       "      <td>0.835526</td>\n",
       "      <td>0.721696</td>\n",
       "      <td>0.380263</td>\n",
       "    </tr>\n",
       "  </tbody>\n",
       "</table>\n",
       "</div>"
      ],
      "text/plain": [
       "                      map       mrr    avg_sr  avg_ndcg    avg_p5\n",
       "Ensemble wfm_sc  0.494145  0.734868  0.835526  0.721696  0.380263"
      ]
     },
     "metadata": {},
     "output_type": "display_data"
    },
    {
     "name": "stdout",
     "output_type": "stream",
     "text": [
      "Pruned_ 3\n"
     ]
    },
    {
     "data": {
      "text/html": [
       "<div>\n",
       "<style scoped>\n",
       "    .dataframe tbody tr th:only-of-type {\n",
       "        vertical-align: middle;\n",
       "    }\n",
       "\n",
       "    .dataframe tbody tr th {\n",
       "        vertical-align: top;\n",
       "    }\n",
       "\n",
       "    .dataframe thead th {\n",
       "        text-align: right;\n",
       "    }\n",
       "</style>\n",
       "<table border=\"1\" class=\"dataframe\">\n",
       "  <thead>\n",
       "    <tr style=\"text-align: right;\">\n",
       "      <th></th>\n",
       "      <th>map</th>\n",
       "      <th>mrr</th>\n",
       "      <th>avg_sr</th>\n",
       "      <th>avg_ndcg</th>\n",
       "      <th>avg_p5</th>\n",
       "    </tr>\n",
       "  </thead>\n",
       "  <tbody>\n",
       "    <tr>\n",
       "      <th>Ensemble wfm_sc</th>\n",
       "      <td>0.527683</td>\n",
       "      <td>0.766984</td>\n",
       "      <td>0.847619</td>\n",
       "      <td>0.74501</td>\n",
       "      <td>0.411429</td>\n",
       "    </tr>\n",
       "  </tbody>\n",
       "</table>\n",
       "</div>"
      ],
      "text/plain": [
       "                      map       mrr    avg_sr  avg_ndcg    avg_p5\n",
       "Ensemble wfm_sc  0.527683  0.766984  0.847619   0.74501  0.411429"
      ]
     },
     "metadata": {},
     "output_type": "display_data"
    },
    {
     "name": "stdout",
     "output_type": "stream",
     "text": [
      "Pruned_ 4\n"
     ]
    },
    {
     "data": {
      "text/html": [
       "<div>\n",
       "<style scoped>\n",
       "    .dataframe tbody tr th:only-of-type {\n",
       "        vertical-align: middle;\n",
       "    }\n",
       "\n",
       "    .dataframe tbody tr th {\n",
       "        vertical-align: top;\n",
       "    }\n",
       "\n",
       "    .dataframe thead th {\n",
       "        text-align: right;\n",
       "    }\n",
       "</style>\n",
       "<table border=\"1\" class=\"dataframe\">\n",
       "  <thead>\n",
       "    <tr style=\"text-align: right;\">\n",
       "      <th></th>\n",
       "      <th>map</th>\n",
       "      <th>mrr</th>\n",
       "      <th>avg_sr</th>\n",
       "      <th>avg_ndcg</th>\n",
       "      <th>avg_p5</th>\n",
       "    </tr>\n",
       "  </thead>\n",
       "  <tbody>\n",
       "    <tr>\n",
       "      <th>Ensemble wfm_sc</th>\n",
       "      <td>0.535743</td>\n",
       "      <td>0.755422</td>\n",
       "      <td>0.843373</td>\n",
       "      <td>0.740272</td>\n",
       "      <td>0.421687</td>\n",
       "    </tr>\n",
       "  </tbody>\n",
       "</table>\n",
       "</div>"
      ],
      "text/plain": [
       "                      map       mrr    avg_sr  avg_ndcg    avg_p5\n",
       "Ensemble wfm_sc  0.535743  0.755422  0.843373  0.740272  0.421687"
      ]
     },
     "metadata": {},
     "output_type": "display_data"
    },
    {
     "name": "stdout",
     "output_type": "stream",
     "text": [
      "Pruned_ 5\n"
     ]
    },
    {
     "data": {
      "text/html": [
       "<div>\n",
       "<style scoped>\n",
       "    .dataframe tbody tr th:only-of-type {\n",
       "        vertical-align: middle;\n",
       "    }\n",
       "\n",
       "    .dataframe tbody tr th {\n",
       "        vertical-align: top;\n",
       "    }\n",
       "\n",
       "    .dataframe thead th {\n",
       "        text-align: right;\n",
       "    }\n",
       "</style>\n",
       "<table border=\"1\" class=\"dataframe\">\n",
       "  <thead>\n",
       "    <tr style=\"text-align: right;\">\n",
       "      <th></th>\n",
       "      <th>map</th>\n",
       "      <th>mrr</th>\n",
       "      <th>avg_sr</th>\n",
       "      <th>avg_ndcg</th>\n",
       "      <th>avg_p5</th>\n",
       "    </tr>\n",
       "  </thead>\n",
       "  <tbody>\n",
       "    <tr>\n",
       "      <th>Ensemble wfm_sc</th>\n",
       "      <td>0.548359</td>\n",
       "      <td>0.761538</td>\n",
       "      <td>0.830769</td>\n",
       "      <td>0.742987</td>\n",
       "      <td>0.427692</td>\n",
       "    </tr>\n",
       "  </tbody>\n",
       "</table>\n",
       "</div>"
      ],
      "text/plain": [
       "                      map       mrr    avg_sr  avg_ndcg    avg_p5\n",
       "Ensemble wfm_sc  0.548359  0.761538  0.830769  0.742987  0.427692"
      ]
     },
     "metadata": {},
     "output_type": "display_data"
    },
    {
     "name": "stdout",
     "output_type": "stream",
     "text": [
      "Pruned_ 6\n"
     ]
    },
    {
     "data": {
      "text/html": [
       "<div>\n",
       "<style scoped>\n",
       "    .dataframe tbody tr th:only-of-type {\n",
       "        vertical-align: middle;\n",
       "    }\n",
       "\n",
       "    .dataframe tbody tr th {\n",
       "        vertical-align: top;\n",
       "    }\n",
       "\n",
       "    .dataframe thead th {\n",
       "        text-align: right;\n",
       "    }\n",
       "</style>\n",
       "<table border=\"1\" class=\"dataframe\">\n",
       "  <thead>\n",
       "    <tr style=\"text-align: right;\">\n",
       "      <th></th>\n",
       "      <th>map</th>\n",
       "      <th>mrr</th>\n",
       "      <th>avg_sr</th>\n",
       "      <th>avg_ndcg</th>\n",
       "      <th>avg_p5</th>\n",
       "    </tr>\n",
       "  </thead>\n",
       "  <tbody>\n",
       "    <tr>\n",
       "      <th>Ensemble wfm_sc</th>\n",
       "      <td>0.569</td>\n",
       "      <td>0.786667</td>\n",
       "      <td>0.86</td>\n",
       "      <td>0.770511</td>\n",
       "      <td>0.44</td>\n",
       "    </tr>\n",
       "  </tbody>\n",
       "</table>\n",
       "</div>"
      ],
      "text/plain": [
       "                   map       mrr  avg_sr  avg_ndcg  avg_p5\n",
       "Ensemble wfm_sc  0.569  0.786667    0.86  0.770511    0.44"
      ]
     },
     "metadata": {},
     "output_type": "display_data"
    },
    {
     "name": "stdout",
     "output_type": "stream",
     "text": [
      "Pruned_ 7\n"
     ]
    },
    {
     "data": {
      "text/html": [
       "<div>\n",
       "<style scoped>\n",
       "    .dataframe tbody tr th:only-of-type {\n",
       "        vertical-align: middle;\n",
       "    }\n",
       "\n",
       "    .dataframe tbody tr th {\n",
       "        vertical-align: top;\n",
       "    }\n",
       "\n",
       "    .dataframe thead th {\n",
       "        text-align: right;\n",
       "    }\n",
       "</style>\n",
       "<table border=\"1\" class=\"dataframe\">\n",
       "  <thead>\n",
       "    <tr style=\"text-align: right;\">\n",
       "      <th></th>\n",
       "      <th>map</th>\n",
       "      <th>mrr</th>\n",
       "      <th>avg_sr</th>\n",
       "      <th>avg_ndcg</th>\n",
       "      <th>avg_p5</th>\n",
       "    </tr>\n",
       "  </thead>\n",
       "  <tbody>\n",
       "    <tr>\n",
       "      <th>Ensemble wfm_sc</th>\n",
       "      <td>0.578649</td>\n",
       "      <td>0.788288</td>\n",
       "      <td>0.864865</td>\n",
       "      <td>0.774446</td>\n",
       "      <td>0.454054</td>\n",
       "    </tr>\n",
       "  </tbody>\n",
       "</table>\n",
       "</div>"
      ],
      "text/plain": [
       "                      map       mrr    avg_sr  avg_ndcg    avg_p5\n",
       "Ensemble wfm_sc  0.578649  0.788288  0.864865  0.774446  0.454054"
      ]
     },
     "metadata": {},
     "output_type": "display_data"
    },
    {
     "name": "stdout",
     "output_type": "stream",
     "text": [
      "Pruned_ 8\n"
     ]
    },
    {
     "data": {
      "text/html": [
       "<div>\n",
       "<style scoped>\n",
       "    .dataframe tbody tr th:only-of-type {\n",
       "        vertical-align: middle;\n",
       "    }\n",
       "\n",
       "    .dataframe tbody tr th {\n",
       "        vertical-align: top;\n",
       "    }\n",
       "\n",
       "    .dataframe thead th {\n",
       "        text-align: right;\n",
       "    }\n",
       "</style>\n",
       "<table border=\"1\" class=\"dataframe\">\n",
       "  <thead>\n",
       "    <tr style=\"text-align: right;\">\n",
       "      <th></th>\n",
       "      <th>map</th>\n",
       "      <th>mrr</th>\n",
       "      <th>avg_sr</th>\n",
       "      <th>avg_ndcg</th>\n",
       "      <th>avg_p5</th>\n",
       "    </tr>\n",
       "  </thead>\n",
       "  <tbody>\n",
       "    <tr>\n",
       "      <th>Ensemble wfm_sc</th>\n",
       "      <td>0.566042</td>\n",
       "      <td>0.770833</td>\n",
       "      <td>0.84375</td>\n",
       "      <td>0.752396</td>\n",
       "      <td>0.45</td>\n",
       "    </tr>\n",
       "  </tbody>\n",
       "</table>\n",
       "</div>"
      ],
      "text/plain": [
       "                      map       mrr   avg_sr  avg_ndcg  avg_p5\n",
       "Ensemble wfm_sc  0.566042  0.770833  0.84375  0.752396    0.45"
      ]
     },
     "metadata": {},
     "output_type": "display_data"
    },
    {
     "name": "stdout",
     "output_type": "stream",
     "text": [
      "Pruned_ 9\n"
     ]
    },
    {
     "data": {
      "text/html": [
       "<div>\n",
       "<style scoped>\n",
       "    .dataframe tbody tr th:only-of-type {\n",
       "        vertical-align: middle;\n",
       "    }\n",
       "\n",
       "    .dataframe tbody tr th {\n",
       "        vertical-align: top;\n",
       "    }\n",
       "\n",
       "    .dataframe thead th {\n",
       "        text-align: right;\n",
       "    }\n",
       "</style>\n",
       "<table border=\"1\" class=\"dataframe\">\n",
       "  <thead>\n",
       "    <tr style=\"text-align: right;\">\n",
       "      <th></th>\n",
       "      <th>map</th>\n",
       "      <th>mrr</th>\n",
       "      <th>avg_sr</th>\n",
       "      <th>avg_ndcg</th>\n",
       "      <th>avg_p5</th>\n",
       "    </tr>\n",
       "  </thead>\n",
       "  <tbody>\n",
       "    <tr>\n",
       "      <th>Ensemble wfm_sc</th>\n",
       "      <td>0.575606</td>\n",
       "      <td>0.742424</td>\n",
       "      <td>0.863636</td>\n",
       "      <td>0.751212</td>\n",
       "      <td>0.472727</td>\n",
       "    </tr>\n",
       "  </tbody>\n",
       "</table>\n",
       "</div>"
      ],
      "text/plain": [
       "                      map       mrr    avg_sr  avg_ndcg    avg_p5\n",
       "Ensemble wfm_sc  0.575606  0.742424  0.863636  0.751212  0.472727"
      ]
     },
     "metadata": {},
     "output_type": "display_data"
    },
    {
     "name": "stdout",
     "output_type": "stream",
     "text": [
      "Pruned_ 10\n"
     ]
    },
    {
     "data": {
      "text/html": [
       "<div>\n",
       "<style scoped>\n",
       "    .dataframe tbody tr th:only-of-type {\n",
       "        vertical-align: middle;\n",
       "    }\n",
       "\n",
       "    .dataframe tbody tr th {\n",
       "        vertical-align: top;\n",
       "    }\n",
       "\n",
       "    .dataframe thead th {\n",
       "        text-align: right;\n",
       "    }\n",
       "</style>\n",
       "<table border=\"1\" class=\"dataframe\">\n",
       "  <thead>\n",
       "    <tr style=\"text-align: right;\">\n",
       "      <th></th>\n",
       "      <th>map</th>\n",
       "      <th>mrr</th>\n",
       "      <th>avg_sr</th>\n",
       "      <th>avg_ndcg</th>\n",
       "      <th>avg_p5</th>\n",
       "    </tr>\n",
       "  </thead>\n",
       "  <tbody>\n",
       "    <tr>\n",
       "      <th>Ensemble wfm_sc</th>\n",
       "      <td>0.623333</td>\n",
       "      <td>0.8</td>\n",
       "      <td>0.9</td>\n",
       "      <td>0.797422</td>\n",
       "      <td>0.5</td>\n",
       "    </tr>\n",
       "  </tbody>\n",
       "</table>\n",
       "</div>"
      ],
      "text/plain": [
       "                      map  mrr  avg_sr  avg_ndcg  avg_p5\n",
       "Ensemble wfm_sc  0.623333  0.8     0.9  0.797422     0.5"
      ]
     },
     "metadata": {},
     "output_type": "display_data"
    },
    {
     "name": "stdout",
     "output_type": "stream",
     "text": [
      "[81, 84, 85, 84, 83, 86, 86, 84, 86, 90]\n"
     ]
    }
   ],
   "source": [
    "ml = []\n",
    "for i in range(1,11):\n",
    "    print('Pruned_',i)\n",
    "    df1 = pd.read_csv(\"/home/ritwik/git/AshaQnA/other_codes/Metrics/Data/E_45_pruned_\"+str(i)+\".csv\")\n",
    "    mat_bin = get_data(df1[[\"final_1\",\"final_2\",\"final_3\",\"final_4\",\"final_5\"]],[1,2])    \n",
    "    display(pd.DataFrame(calc_metrics(df1),index=df1.Model_name.unique()))\n",
    "    ml.append(round(calc_metrics(df1)['avg_sr']*100))\n",
    "print(ml)"
   ]
  },
  {
   "cell_type": "code",
   "execution_count": 7,
   "metadata": {
    "collapsed": true,
    "hidden": true
   },
   "outputs": [
    {
     "name": "stdout",
     "output_type": "stream",
     "text": [
      "Pruned_ 1\n"
     ]
    },
    {
     "data": {
      "text/html": [
       "<div>\n",
       "<style scoped>\n",
       "    .dataframe tbody tr th:only-of-type {\n",
       "        vertical-align: middle;\n",
       "    }\n",
       "\n",
       "    .dataframe tbody tr th {\n",
       "        vertical-align: top;\n",
       "    }\n",
       "\n",
       "    .dataframe thead th {\n",
       "        text-align: right;\n",
       "    }\n",
       "</style>\n",
       "<table border=\"1\" class=\"dataframe\">\n",
       "  <thead>\n",
       "    <tr style=\"text-align: right;\">\n",
       "      <th></th>\n",
       "      <th>map</th>\n",
       "      <th>mrr</th>\n",
       "      <th>avg_sr</th>\n",
       "      <th>avg_ndcg</th>\n",
       "      <th>avg_p3</th>\n",
       "    </tr>\n",
       "  </thead>\n",
       "  <tbody>\n",
       "    <tr>\n",
       "      <th>Ensemble wfm_sc</th>\n",
       "      <td>0.534928</td>\n",
       "      <td>0.705446</td>\n",
       "      <td>0.792079</td>\n",
       "      <td>0.708396</td>\n",
       "      <td>0.443894</td>\n",
       "    </tr>\n",
       "  </tbody>\n",
       "</table>\n",
       "</div>"
      ],
      "text/plain": [
       "                      map       mrr    avg_sr  avg_ndcg    avg_p3\n",
       "Ensemble wfm_sc  0.534928  0.705446  0.792079  0.708396  0.443894"
      ]
     },
     "metadata": {},
     "output_type": "display_data"
    },
    {
     "name": "stdout",
     "output_type": "stream",
     "text": [
      "Pruned_ 2\n"
     ]
    },
    {
     "data": {
      "text/html": [
       "<div>\n",
       "<style scoped>\n",
       "    .dataframe tbody tr th:only-of-type {\n",
       "        vertical-align: middle;\n",
       "    }\n",
       "\n",
       "    .dataframe tbody tr th {\n",
       "        vertical-align: top;\n",
       "    }\n",
       "\n",
       "    .dataframe thead th {\n",
       "        text-align: right;\n",
       "    }\n",
       "</style>\n",
       "<table border=\"1\" class=\"dataframe\">\n",
       "  <thead>\n",
       "    <tr style=\"text-align: right;\">\n",
       "      <th></th>\n",
       "      <th>map</th>\n",
       "      <th>mrr</th>\n",
       "      <th>avg_sr</th>\n",
       "      <th>avg_ndcg</th>\n",
       "      <th>avg_p3</th>\n",
       "    </tr>\n",
       "  </thead>\n",
       "  <tbody>\n",
       "    <tr>\n",
       "      <th>Ensemble wfm_sc</th>\n",
       "      <td>0.598319</td>\n",
       "      <td>0.764254</td>\n",
       "      <td>0.835526</td>\n",
       "      <td>0.757939</td>\n",
       "      <td>0.502193</td>\n",
       "    </tr>\n",
       "  </tbody>\n",
       "</table>\n",
       "</div>"
      ],
      "text/plain": [
       "                      map       mrr    avg_sr  avg_ndcg    avg_p3\n",
       "Ensemble wfm_sc  0.598319  0.764254  0.835526  0.757939  0.502193"
      ]
     },
     "metadata": {},
     "output_type": "display_data"
    },
    {
     "name": "stdout",
     "output_type": "stream",
     "text": [
      "Pruned_ 3\n"
     ]
    },
    {
     "data": {
      "text/html": [
       "<div>\n",
       "<style scoped>\n",
       "    .dataframe tbody tr th:only-of-type {\n",
       "        vertical-align: middle;\n",
       "    }\n",
       "\n",
       "    .dataframe tbody tr th {\n",
       "        vertical-align: top;\n",
       "    }\n",
       "\n",
       "    .dataframe thead th {\n",
       "        text-align: right;\n",
       "    }\n",
       "</style>\n",
       "<table border=\"1\" class=\"dataframe\">\n",
       "  <thead>\n",
       "    <tr style=\"text-align: right;\">\n",
       "      <th></th>\n",
       "      <th>map</th>\n",
       "      <th>mrr</th>\n",
       "      <th>avg_sr</th>\n",
       "      <th>avg_ndcg</th>\n",
       "      <th>avg_p3</th>\n",
       "    </tr>\n",
       "  </thead>\n",
       "  <tbody>\n",
       "    <tr>\n",
       "      <th>Ensemble wfm_sc</th>\n",
       "      <td>0.620635</td>\n",
       "      <td>0.773016</td>\n",
       "      <td>0.838095</td>\n",
       "      <td>0.758518</td>\n",
       "      <td>0.533333</td>\n",
       "    </tr>\n",
       "  </tbody>\n",
       "</table>\n",
       "</div>"
      ],
      "text/plain": [
       "                      map       mrr    avg_sr  avg_ndcg    avg_p3\n",
       "Ensemble wfm_sc  0.620635  0.773016  0.838095  0.758518  0.533333"
      ]
     },
     "metadata": {},
     "output_type": "display_data"
    },
    {
     "name": "stdout",
     "output_type": "stream",
     "text": [
      "Pruned_ 4\n"
     ]
    },
    {
     "data": {
      "text/html": [
       "<div>\n",
       "<style scoped>\n",
       "    .dataframe tbody tr th:only-of-type {\n",
       "        vertical-align: middle;\n",
       "    }\n",
       "\n",
       "    .dataframe tbody tr th {\n",
       "        vertical-align: top;\n",
       "    }\n",
       "\n",
       "    .dataframe thead th {\n",
       "        text-align: right;\n",
       "    }\n",
       "</style>\n",
       "<table border=\"1\" class=\"dataframe\">\n",
       "  <thead>\n",
       "    <tr style=\"text-align: right;\">\n",
       "      <th></th>\n",
       "      <th>map</th>\n",
       "      <th>mrr</th>\n",
       "      <th>avg_sr</th>\n",
       "      <th>avg_ndcg</th>\n",
       "      <th>avg_p3</th>\n",
       "    </tr>\n",
       "  </thead>\n",
       "  <tbody>\n",
       "    <tr>\n",
       "      <th>Ensemble wfm_sc</th>\n",
       "      <td>0.639224</td>\n",
       "      <td>0.769076</td>\n",
       "      <td>0.831325</td>\n",
       "      <td>0.753186</td>\n",
       "      <td>0.562249</td>\n",
       "    </tr>\n",
       "  </tbody>\n",
       "</table>\n",
       "</div>"
      ],
      "text/plain": [
       "                      map       mrr    avg_sr  avg_ndcg    avg_p3\n",
       "Ensemble wfm_sc  0.639224  0.769076  0.831325  0.753186  0.562249"
      ]
     },
     "metadata": {},
     "output_type": "display_data"
    },
    {
     "name": "stdout",
     "output_type": "stream",
     "text": [
      "Pruned_ 5\n"
     ]
    },
    {
     "data": {
      "text/html": [
       "<div>\n",
       "<style scoped>\n",
       "    .dataframe tbody tr th:only-of-type {\n",
       "        vertical-align: middle;\n",
       "    }\n",
       "\n",
       "    .dataframe tbody tr th {\n",
       "        vertical-align: top;\n",
       "    }\n",
       "\n",
       "    .dataframe thead th {\n",
       "        text-align: right;\n",
       "    }\n",
       "</style>\n",
       "<table border=\"1\" class=\"dataframe\">\n",
       "  <thead>\n",
       "    <tr style=\"text-align: right;\">\n",
       "      <th></th>\n",
       "      <th>map</th>\n",
       "      <th>mrr</th>\n",
       "      <th>avg_sr</th>\n",
       "      <th>avg_ndcg</th>\n",
       "      <th>avg_p3</th>\n",
       "    </tr>\n",
       "  </thead>\n",
       "  <tbody>\n",
       "    <tr>\n",
       "      <th>Ensemble wfm_sc</th>\n",
       "      <td>0.641026</td>\n",
       "      <td>0.766667</td>\n",
       "      <td>0.830769</td>\n",
       "      <td>0.748002</td>\n",
       "      <td>0.569231</td>\n",
       "    </tr>\n",
       "  </tbody>\n",
       "</table>\n",
       "</div>"
      ],
      "text/plain": [
       "                      map       mrr    avg_sr  avg_ndcg    avg_p3\n",
       "Ensemble wfm_sc  0.641026  0.766667  0.830769  0.748002  0.569231"
      ]
     },
     "metadata": {},
     "output_type": "display_data"
    },
    {
     "name": "stdout",
     "output_type": "stream",
     "text": [
      "Pruned_ 6\n"
     ]
    },
    {
     "data": {
      "text/html": [
       "<div>\n",
       "<style scoped>\n",
       "    .dataframe tbody tr th:only-of-type {\n",
       "        vertical-align: middle;\n",
       "    }\n",
       "\n",
       "    .dataframe tbody tr th {\n",
       "        vertical-align: top;\n",
       "    }\n",
       "\n",
       "    .dataframe thead th {\n",
       "        text-align: right;\n",
       "    }\n",
       "</style>\n",
       "<table border=\"1\" class=\"dataframe\">\n",
       "  <thead>\n",
       "    <tr style=\"text-align: right;\">\n",
       "      <th></th>\n",
       "      <th>map</th>\n",
       "      <th>mrr</th>\n",
       "      <th>avg_sr</th>\n",
       "      <th>avg_ndcg</th>\n",
       "      <th>avg_p3</th>\n",
       "    </tr>\n",
       "  </thead>\n",
       "  <tbody>\n",
       "    <tr>\n",
       "      <th>Ensemble wfm_sc</th>\n",
       "      <td>0.66</td>\n",
       "      <td>0.796667</td>\n",
       "      <td>0.88</td>\n",
       "      <td>0.783117</td>\n",
       "      <td>0.6</td>\n",
       "    </tr>\n",
       "  </tbody>\n",
       "</table>\n",
       "</div>"
      ],
      "text/plain": [
       "                  map       mrr  avg_sr  avg_ndcg  avg_p3\n",
       "Ensemble wfm_sc  0.66  0.796667    0.88  0.783117     0.6"
      ]
     },
     "metadata": {},
     "output_type": "display_data"
    },
    {
     "name": "stdout",
     "output_type": "stream",
     "text": [
      "Pruned_ 7\n"
     ]
    },
    {
     "data": {
      "text/html": [
       "<div>\n",
       "<style scoped>\n",
       "    .dataframe tbody tr th:only-of-type {\n",
       "        vertical-align: middle;\n",
       "    }\n",
       "\n",
       "    .dataframe tbody tr th {\n",
       "        vertical-align: top;\n",
       "    }\n",
       "\n",
       "    .dataframe thead th {\n",
       "        text-align: right;\n",
       "    }\n",
       "</style>\n",
       "<table border=\"1\" class=\"dataframe\">\n",
       "  <thead>\n",
       "    <tr style=\"text-align: right;\">\n",
       "      <th></th>\n",
       "      <th>map</th>\n",
       "      <th>mrr</th>\n",
       "      <th>avg_sr</th>\n",
       "      <th>avg_ndcg</th>\n",
       "      <th>avg_p3</th>\n",
       "    </tr>\n",
       "  </thead>\n",
       "  <tbody>\n",
       "    <tr>\n",
       "      <th>Ensemble wfm_sc</th>\n",
       "      <td>0.695195</td>\n",
       "      <td>0.851351</td>\n",
       "      <td>0.945946</td>\n",
       "      <td>0.832853</td>\n",
       "      <td>0.63964</td>\n",
       "    </tr>\n",
       "  </tbody>\n",
       "</table>\n",
       "</div>"
      ],
      "text/plain": [
       "                      map       mrr    avg_sr  avg_ndcg   avg_p3\n",
       "Ensemble wfm_sc  0.695195  0.851351  0.945946  0.832853  0.63964"
      ]
     },
     "metadata": {},
     "output_type": "display_data"
    },
    {
     "name": "stdout",
     "output_type": "stream",
     "text": [
      "Pruned_ 8\n"
     ]
    },
    {
     "data": {
      "text/html": [
       "<div>\n",
       "<style scoped>\n",
       "    .dataframe tbody tr th:only-of-type {\n",
       "        vertical-align: middle;\n",
       "    }\n",
       "\n",
       "    .dataframe tbody tr th {\n",
       "        vertical-align: top;\n",
       "    }\n",
       "\n",
       "    .dataframe thead th {\n",
       "        text-align: right;\n",
       "    }\n",
       "</style>\n",
       "<table border=\"1\" class=\"dataframe\">\n",
       "  <thead>\n",
       "    <tr style=\"text-align: right;\">\n",
       "      <th></th>\n",
       "      <th>map</th>\n",
       "      <th>mrr</th>\n",
       "      <th>avg_sr</th>\n",
       "      <th>avg_ndcg</th>\n",
       "      <th>avg_p3</th>\n",
       "    </tr>\n",
       "  </thead>\n",
       "  <tbody>\n",
       "    <tr>\n",
       "      <th>Ensemble wfm_sc</th>\n",
       "      <td>0.680556</td>\n",
       "      <td>0.828125</td>\n",
       "      <td>0.9375</td>\n",
       "      <td>0.819221</td>\n",
       "      <td>0.635417</td>\n",
       "    </tr>\n",
       "  </tbody>\n",
       "</table>\n",
       "</div>"
      ],
      "text/plain": [
       "                      map       mrr  avg_sr  avg_ndcg    avg_p3\n",
       "Ensemble wfm_sc  0.680556  0.828125  0.9375  0.819221  0.635417"
      ]
     },
     "metadata": {},
     "output_type": "display_data"
    },
    {
     "name": "stdout",
     "output_type": "stream",
     "text": [
      "Pruned_ 9\n"
     ]
    },
    {
     "data": {
      "text/html": [
       "<div>\n",
       "<style scoped>\n",
       "    .dataframe tbody tr th:only-of-type {\n",
       "        vertical-align: middle;\n",
       "    }\n",
       "\n",
       "    .dataframe tbody tr th {\n",
       "        vertical-align: top;\n",
       "    }\n",
       "\n",
       "    .dataframe thead th {\n",
       "        text-align: right;\n",
       "    }\n",
       "</style>\n",
       "<table border=\"1\" class=\"dataframe\">\n",
       "  <thead>\n",
       "    <tr style=\"text-align: right;\">\n",
       "      <th></th>\n",
       "      <th>map</th>\n",
       "      <th>mrr</th>\n",
       "      <th>avg_sr</th>\n",
       "      <th>avg_ndcg</th>\n",
       "      <th>avg_p3</th>\n",
       "    </tr>\n",
       "  </thead>\n",
       "  <tbody>\n",
       "    <tr>\n",
       "      <th>Ensemble wfm_sc</th>\n",
       "      <td>0.699495</td>\n",
       "      <td>0.810606</td>\n",
       "      <td>0.909091</td>\n",
       "      <td>0.797052</td>\n",
       "      <td>0.666667</td>\n",
       "    </tr>\n",
       "  </tbody>\n",
       "</table>\n",
       "</div>"
      ],
      "text/plain": [
       "                      map       mrr    avg_sr  avg_ndcg    avg_p3\n",
       "Ensemble wfm_sc  0.699495  0.810606  0.909091  0.797052  0.666667"
      ]
     },
     "metadata": {},
     "output_type": "display_data"
    },
    {
     "name": "stdout",
     "output_type": "stream",
     "text": [
      "Pruned_ 10\n"
     ]
    },
    {
     "data": {
      "text/html": [
       "<div>\n",
       "<style scoped>\n",
       "    .dataframe tbody tr th:only-of-type {\n",
       "        vertical-align: middle;\n",
       "    }\n",
       "\n",
       "    .dataframe tbody tr th {\n",
       "        vertical-align: top;\n",
       "    }\n",
       "\n",
       "    .dataframe thead th {\n",
       "        text-align: right;\n",
       "    }\n",
       "</style>\n",
       "<table border=\"1\" class=\"dataframe\">\n",
       "  <thead>\n",
       "    <tr style=\"text-align: right;\">\n",
       "      <th></th>\n",
       "      <th>map</th>\n",
       "      <th>mrr</th>\n",
       "      <th>avg_sr</th>\n",
       "      <th>avg_ndcg</th>\n",
       "      <th>avg_p3</th>\n",
       "    </tr>\n",
       "  </thead>\n",
       "  <tbody>\n",
       "    <tr>\n",
       "      <th>Ensemble wfm_sc</th>\n",
       "      <td>0.683333</td>\n",
       "      <td>0.833333</td>\n",
       "      <td>1.0</td>\n",
       "      <td>0.852359</td>\n",
       "      <td>0.7</td>\n",
       "    </tr>\n",
       "  </tbody>\n",
       "</table>\n",
       "</div>"
      ],
      "text/plain": [
       "                      map       mrr  avg_sr  avg_ndcg  avg_p3\n",
       "Ensemble wfm_sc  0.683333  0.833333     1.0  0.852359     0.7"
      ]
     },
     "metadata": {},
     "output_type": "display_data"
    },
    {
     "name": "stdout",
     "output_type": "stream",
     "text": [
      "[79, 84, 84, 83, 83, 88, 95, 94, 91, 100]\n"
     ]
    }
   ],
   "source": [
    "ml = []\n",
    "for i in range(1,11):\n",
    "    print('Pruned_',i)\n",
    "    df1 = pd.read_csv(\"/home/ritwik/git/AshaQnA/other_codes/Metrics/Data/E_46_pruned_\"+str(i)+\".csv\")\n",
    "    mat_bin = get_data(df1[[\"final_1\",\"final_2\",\"final_3\"]],[1,2])    \n",
    "    display(pd.DataFrame(calc_metrics(df1),index=df1.Model_name.unique()))\n",
    "    ml.append(round(calc_metrics(df1)['avg_sr']*100))\n",
    "print(ml)"
   ]
  },
  {
   "cell_type": "code",
   "execution_count": 17,
   "metadata": {
    "collapsed": true,
    "hidden": true
   },
   "outputs": [
    {
     "name": "stdout",
     "output_type": "stream",
     "text": [
      "Pruned_ 1\n"
     ]
    },
    {
     "data": {
      "text/html": [
       "<div>\n",
       "<style scoped>\n",
       "    .dataframe tbody tr th:only-of-type {\n",
       "        vertical-align: middle;\n",
       "    }\n",
       "\n",
       "    .dataframe tbody tr th {\n",
       "        vertical-align: top;\n",
       "    }\n",
       "\n",
       "    .dataframe thead th {\n",
       "        text-align: right;\n",
       "    }\n",
       "</style>\n",
       "<table border=\"1\" class=\"dataframe\">\n",
       "  <thead>\n",
       "    <tr style=\"text-align: right;\">\n",
       "      <th></th>\n",
       "      <th>map</th>\n",
       "      <th>mrr</th>\n",
       "      <th>avg_sr</th>\n",
       "      <th>avg_ndcg</th>\n",
       "      <th>avg_p5</th>\n",
       "    </tr>\n",
       "  </thead>\n",
       "  <tbody>\n",
       "    <tr>\n",
       "      <th>Ensemble wfm_sc</th>\n",
       "      <td>0.472459</td>\n",
       "      <td>0.725743</td>\n",
       "      <td>0.861386</td>\n",
       "      <td>0.735996</td>\n",
       "      <td>0.364356</td>\n",
       "    </tr>\n",
       "  </tbody>\n",
       "</table>\n",
       "</div>"
      ],
      "text/plain": [
       "                      map       mrr    avg_sr  avg_ndcg    avg_p5\n",
       "Ensemble wfm_sc  0.472459  0.725743  0.861386  0.735996  0.364356"
      ]
     },
     "metadata": {},
     "output_type": "display_data"
    },
    {
     "name": "stdout",
     "output_type": "stream",
     "text": [
      "Pruned_ 2\n"
     ]
    },
    {
     "data": {
      "text/html": [
       "<div>\n",
       "<style scoped>\n",
       "    .dataframe tbody tr th:only-of-type {\n",
       "        vertical-align: middle;\n",
       "    }\n",
       "\n",
       "    .dataframe tbody tr th {\n",
       "        vertical-align: top;\n",
       "    }\n",
       "\n",
       "    .dataframe thead th {\n",
       "        text-align: right;\n",
       "    }\n",
       "</style>\n",
       "<table border=\"1\" class=\"dataframe\">\n",
       "  <thead>\n",
       "    <tr style=\"text-align: right;\">\n",
       "      <th></th>\n",
       "      <th>map</th>\n",
       "      <th>mrr</th>\n",
       "      <th>avg_sr</th>\n",
       "      <th>avg_ndcg</th>\n",
       "      <th>avg_p5</th>\n",
       "    </tr>\n",
       "  </thead>\n",
       "  <tbody>\n",
       "    <tr>\n",
       "      <th>Ensemble wfm_sc</th>\n",
       "      <td>0.526974</td>\n",
       "      <td>0.767763</td>\n",
       "      <td>0.881579</td>\n",
       "      <td>0.770082</td>\n",
       "      <td>0.414474</td>\n",
       "    </tr>\n",
       "  </tbody>\n",
       "</table>\n",
       "</div>"
      ],
      "text/plain": [
       "                      map       mrr    avg_sr  avg_ndcg    avg_p5\n",
       "Ensemble wfm_sc  0.526974  0.767763  0.881579  0.770082  0.414474"
      ]
     },
     "metadata": {},
     "output_type": "display_data"
    },
    {
     "name": "stdout",
     "output_type": "stream",
     "text": [
      "Pruned_ 3\n"
     ]
    },
    {
     "data": {
      "text/html": [
       "<div>\n",
       "<style scoped>\n",
       "    .dataframe tbody tr th:only-of-type {\n",
       "        vertical-align: middle;\n",
       "    }\n",
       "\n",
       "    .dataframe tbody tr th {\n",
       "        vertical-align: top;\n",
       "    }\n",
       "\n",
       "    .dataframe thead th {\n",
       "        text-align: right;\n",
       "    }\n",
       "</style>\n",
       "<table border=\"1\" class=\"dataframe\">\n",
       "  <thead>\n",
       "    <tr style=\"text-align: right;\">\n",
       "      <th></th>\n",
       "      <th>map</th>\n",
       "      <th>mrr</th>\n",
       "      <th>avg_sr</th>\n",
       "      <th>avg_ndcg</th>\n",
       "      <th>avg_p5</th>\n",
       "    </tr>\n",
       "  </thead>\n",
       "  <tbody>\n",
       "    <tr>\n",
       "      <th>Ensemble wfm_sc</th>\n",
       "      <td>0.565238</td>\n",
       "      <td>0.786984</td>\n",
       "      <td>0.885714</td>\n",
       "      <td>0.785054</td>\n",
       "      <td>0.457143</td>\n",
       "    </tr>\n",
       "  </tbody>\n",
       "</table>\n",
       "</div>"
      ],
      "text/plain": [
       "                      map       mrr    avg_sr  avg_ndcg    avg_p5\n",
       "Ensemble wfm_sc  0.565238  0.786984  0.885714  0.785054  0.457143"
      ]
     },
     "metadata": {},
     "output_type": "display_data"
    },
    {
     "name": "stdout",
     "output_type": "stream",
     "text": [
      "Pruned_ 4\n"
     ]
    },
    {
     "data": {
      "text/html": [
       "<div>\n",
       "<style scoped>\n",
       "    .dataframe tbody tr th:only-of-type {\n",
       "        vertical-align: middle;\n",
       "    }\n",
       "\n",
       "    .dataframe tbody tr th {\n",
       "        vertical-align: top;\n",
       "    }\n",
       "\n",
       "    .dataframe thead th {\n",
       "        text-align: right;\n",
       "    }\n",
       "</style>\n",
       "<table border=\"1\" class=\"dataframe\">\n",
       "  <thead>\n",
       "    <tr style=\"text-align: right;\">\n",
       "      <th></th>\n",
       "      <th>map</th>\n",
       "      <th>mrr</th>\n",
       "      <th>avg_sr</th>\n",
       "      <th>avg_ndcg</th>\n",
       "      <th>avg_p5</th>\n",
       "    </tr>\n",
       "  </thead>\n",
       "  <tbody>\n",
       "    <tr>\n",
       "      <th>Ensemble wfm_sc</th>\n",
       "      <td>0.581767</td>\n",
       "      <td>0.790361</td>\n",
       "      <td>0.879518</td>\n",
       "      <td>0.787124</td>\n",
       "      <td>0.477108</td>\n",
       "    </tr>\n",
       "  </tbody>\n",
       "</table>\n",
       "</div>"
      ],
      "text/plain": [
       "                      map       mrr    avg_sr  avg_ndcg    avg_p5\n",
       "Ensemble wfm_sc  0.581767  0.790361  0.879518  0.787124  0.477108"
      ]
     },
     "metadata": {},
     "output_type": "display_data"
    },
    {
     "name": "stdout",
     "output_type": "stream",
     "text": [
      "Pruned_ 5\n"
     ]
    },
    {
     "data": {
      "text/html": [
       "<div>\n",
       "<style scoped>\n",
       "    .dataframe tbody tr th:only-of-type {\n",
       "        vertical-align: middle;\n",
       "    }\n",
       "\n",
       "    .dataframe tbody tr th {\n",
       "        vertical-align: top;\n",
       "    }\n",
       "\n",
       "    .dataframe thead th {\n",
       "        text-align: right;\n",
       "    }\n",
       "</style>\n",
       "<table border=\"1\" class=\"dataframe\">\n",
       "  <thead>\n",
       "    <tr style=\"text-align: right;\">\n",
       "      <th></th>\n",
       "      <th>map</th>\n",
       "      <th>mrr</th>\n",
       "      <th>avg_sr</th>\n",
       "      <th>avg_ndcg</th>\n",
       "      <th>avg_p5</th>\n",
       "    </tr>\n",
       "  </thead>\n",
       "  <tbody>\n",
       "    <tr>\n",
       "      <th>Ensemble wfm_sc</th>\n",
       "      <td>0.589744</td>\n",
       "      <td>0.788718</td>\n",
       "      <td>0.876923</td>\n",
       "      <td>0.785207</td>\n",
       "      <td>0.492308</td>\n",
       "    </tr>\n",
       "  </tbody>\n",
       "</table>\n",
       "</div>"
      ],
      "text/plain": [
       "                      map       mrr    avg_sr  avg_ndcg    avg_p5\n",
       "Ensemble wfm_sc  0.589744  0.788718  0.876923  0.785207  0.492308"
      ]
     },
     "metadata": {},
     "output_type": "display_data"
    },
    {
     "name": "stdout",
     "output_type": "stream",
     "text": [
      "Pruned_ 6\n"
     ]
    },
    {
     "data": {
      "text/html": [
       "<div>\n",
       "<style scoped>\n",
       "    .dataframe tbody tr th:only-of-type {\n",
       "        vertical-align: middle;\n",
       "    }\n",
       "\n",
       "    .dataframe tbody tr th {\n",
       "        vertical-align: top;\n",
       "    }\n",
       "\n",
       "    .dataframe thead th {\n",
       "        text-align: right;\n",
       "    }\n",
       "</style>\n",
       "<table border=\"1\" class=\"dataframe\">\n",
       "  <thead>\n",
       "    <tr style=\"text-align: right;\">\n",
       "      <th></th>\n",
       "      <th>map</th>\n",
       "      <th>mrr</th>\n",
       "      <th>avg_sr</th>\n",
       "      <th>avg_ndcg</th>\n",
       "      <th>avg_p5</th>\n",
       "    </tr>\n",
       "  </thead>\n",
       "  <tbody>\n",
       "    <tr>\n",
       "      <th>Ensemble wfm_sc</th>\n",
       "      <td>0.6094</td>\n",
       "      <td>0.812</td>\n",
       "      <td>0.92</td>\n",
       "      <td>0.817655</td>\n",
       "      <td>0.512</td>\n",
       "    </tr>\n",
       "  </tbody>\n",
       "</table>\n",
       "</div>"
      ],
      "text/plain": [
       "                    map    mrr  avg_sr  avg_ndcg  avg_p5\n",
       "Ensemble wfm_sc  0.6094  0.812    0.92  0.817655   0.512"
      ]
     },
     "metadata": {},
     "output_type": "display_data"
    },
    {
     "name": "stdout",
     "output_type": "stream",
     "text": [
      "Pruned_ 7\n"
     ]
    },
    {
     "data": {
      "text/html": [
       "<div>\n",
       "<style scoped>\n",
       "    .dataframe tbody tr th:only-of-type {\n",
       "        vertical-align: middle;\n",
       "    }\n",
       "\n",
       "    .dataframe tbody tr th {\n",
       "        vertical-align: top;\n",
       "    }\n",
       "\n",
       "    .dataframe thead th {\n",
       "        text-align: right;\n",
       "    }\n",
       "</style>\n",
       "<table border=\"1\" class=\"dataframe\">\n",
       "  <thead>\n",
       "    <tr style=\"text-align: right;\">\n",
       "      <th></th>\n",
       "      <th>map</th>\n",
       "      <th>mrr</th>\n",
       "      <th>avg_sr</th>\n",
       "      <th>avg_ndcg</th>\n",
       "      <th>avg_p5</th>\n",
       "    </tr>\n",
       "  </thead>\n",
       "  <tbody>\n",
       "    <tr>\n",
       "      <th>Ensemble wfm_sc</th>\n",
       "      <td>0.622432</td>\n",
       "      <td>0.83964</td>\n",
       "      <td>0.945946</td>\n",
       "      <td>0.842692</td>\n",
       "      <td>0.524324</td>\n",
       "    </tr>\n",
       "  </tbody>\n",
       "</table>\n",
       "</div>"
      ],
      "text/plain": [
       "                      map      mrr    avg_sr  avg_ndcg    avg_p5\n",
       "Ensemble wfm_sc  0.622432  0.83964  0.945946  0.842692  0.524324"
      ]
     },
     "metadata": {},
     "output_type": "display_data"
    },
    {
     "name": "stdout",
     "output_type": "stream",
     "text": [
      "Pruned_ 8\n"
     ]
    },
    {
     "data": {
      "text/html": [
       "<div>\n",
       "<style scoped>\n",
       "    .dataframe tbody tr th:only-of-type {\n",
       "        vertical-align: middle;\n",
       "    }\n",
       "\n",
       "    .dataframe tbody tr th {\n",
       "        vertical-align: top;\n",
       "    }\n",
       "\n",
       "    .dataframe thead th {\n",
       "        text-align: right;\n",
       "    }\n",
       "</style>\n",
       "<table border=\"1\" class=\"dataframe\">\n",
       "  <thead>\n",
       "    <tr style=\"text-align: right;\">\n",
       "      <th></th>\n",
       "      <th>map</th>\n",
       "      <th>mrr</th>\n",
       "      <th>avg_sr</th>\n",
       "      <th>avg_ndcg</th>\n",
       "      <th>avg_p5</th>\n",
       "    </tr>\n",
       "  </thead>\n",
       "  <tbody>\n",
       "    <tr>\n",
       "      <th>Ensemble wfm_sc</th>\n",
       "      <td>0.609271</td>\n",
       "      <td>0.830208</td>\n",
       "      <td>0.9375</td>\n",
       "      <td>0.828101</td>\n",
       "      <td>0.5125</td>\n",
       "    </tr>\n",
       "  </tbody>\n",
       "</table>\n",
       "</div>"
      ],
      "text/plain": [
       "                      map       mrr  avg_sr  avg_ndcg  avg_p5\n",
       "Ensemble wfm_sc  0.609271  0.830208  0.9375  0.828101  0.5125"
      ]
     },
     "metadata": {},
     "output_type": "display_data"
    },
    {
     "name": "stdout",
     "output_type": "stream",
     "text": [
      "Pruned_ 9\n"
     ]
    },
    {
     "data": {
      "text/html": [
       "<div>\n",
       "<style scoped>\n",
       "    .dataframe tbody tr th:only-of-type {\n",
       "        vertical-align: middle;\n",
       "    }\n",
       "\n",
       "    .dataframe tbody tr th {\n",
       "        vertical-align: top;\n",
       "    }\n",
       "\n",
       "    .dataframe thead th {\n",
       "        text-align: right;\n",
       "    }\n",
       "</style>\n",
       "<table border=\"1\" class=\"dataframe\">\n",
       "  <thead>\n",
       "    <tr style=\"text-align: right;\">\n",
       "      <th></th>\n",
       "      <th>map</th>\n",
       "      <th>mrr</th>\n",
       "      <th>avg_sr</th>\n",
       "      <th>avg_ndcg</th>\n",
       "      <th>avg_p5</th>\n",
       "    </tr>\n",
       "  </thead>\n",
       "  <tbody>\n",
       "    <tr>\n",
       "      <th>Ensemble wfm_sc</th>\n",
       "      <td>0.634545</td>\n",
       "      <td>0.842424</td>\n",
       "      <td>0.909091</td>\n",
       "      <td>0.826018</td>\n",
       "      <td>0.536364</td>\n",
       "    </tr>\n",
       "  </tbody>\n",
       "</table>\n",
       "</div>"
      ],
      "text/plain": [
       "                      map       mrr    avg_sr  avg_ndcg    avg_p5\n",
       "Ensemble wfm_sc  0.634545  0.842424  0.909091  0.826018  0.536364"
      ]
     },
     "metadata": {},
     "output_type": "display_data"
    },
    {
     "name": "stdout",
     "output_type": "stream",
     "text": [
      "Pruned_ 10\n"
     ]
    },
    {
     "data": {
      "text/html": [
       "<div>\n",
       "<style scoped>\n",
       "    .dataframe tbody tr th:only-of-type {\n",
       "        vertical-align: middle;\n",
       "    }\n",
       "\n",
       "    .dataframe tbody tr th {\n",
       "        vertical-align: top;\n",
       "    }\n",
       "\n",
       "    .dataframe thead th {\n",
       "        text-align: right;\n",
       "    }\n",
       "</style>\n",
       "<table border=\"1\" class=\"dataframe\">\n",
       "  <thead>\n",
       "    <tr style=\"text-align: right;\">\n",
       "      <th></th>\n",
       "      <th>map</th>\n",
       "      <th>mrr</th>\n",
       "      <th>avg_sr</th>\n",
       "      <th>avg_ndcg</th>\n",
       "      <th>avg_p5</th>\n",
       "    </tr>\n",
       "  </thead>\n",
       "  <tbody>\n",
       "    <tr>\n",
       "      <th>Ensemble wfm_sc</th>\n",
       "      <td>0.598</td>\n",
       "      <td>0.82</td>\n",
       "      <td>1.0</td>\n",
       "      <td>0.839423</td>\n",
       "      <td>0.54</td>\n",
       "    </tr>\n",
       "  </tbody>\n",
       "</table>\n",
       "</div>"
      ],
      "text/plain": [
       "                   map   mrr  avg_sr  avg_ndcg  avg_p5\n",
       "Ensemble wfm_sc  0.598  0.82     1.0  0.839423    0.54"
      ]
     },
     "metadata": {},
     "output_type": "display_data"
    },
    {
     "name": "stdout",
     "output_type": "stream",
     "text": [
      "[86, 88, 89, 88, 88, 92, 95, 94, 91, 100]\n"
     ]
    }
   ],
   "source": [
    "ml = []\n",
    "for i in range(1,11):\n",
    "    print('Pruned_',i)\n",
    "    df1 = pd.read_csv(\"/home/ritwik/git/AshaQnA/other_codes/Metrics/Data/E_47_pruned_\"+str(i)+\".csv\")\n",
    "    mat_bin = get_data(df1[[\"final_1\",\"final_2\",\"final_3\",\"final_4\",\"final_5\"]],[1,2])    \n",
    "    display(pd.DataFrame(calc_metrics(df1),index=df1.Model_name.unique()))\n",
    "    ml.append(round(calc_metrics(df1)['avg_sr']*100))\n",
    "print(ml)"
   ]
  },
  {
   "cell_type": "code",
   "execution_count": 27,
   "metadata": {
    "collapsed": true,
    "hidden": true
   },
   "outputs": [
    {
     "name": "stdout",
     "output_type": "stream",
     "text": [
      "Pruned_ 1\n"
     ]
    },
    {
     "data": {
      "text/html": [
       "<div>\n",
       "<style scoped>\n",
       "    .dataframe tbody tr th:only-of-type {\n",
       "        vertical-align: middle;\n",
       "    }\n",
       "\n",
       "    .dataframe tbody tr th {\n",
       "        vertical-align: top;\n",
       "    }\n",
       "\n",
       "    .dataframe thead th {\n",
       "        text-align: right;\n",
       "    }\n",
       "</style>\n",
       "<table border=\"1\" class=\"dataframe\">\n",
       "  <thead>\n",
       "    <tr style=\"text-align: right;\">\n",
       "      <th></th>\n",
       "      <th>map</th>\n",
       "      <th>mrr</th>\n",
       "      <th>avg_sr</th>\n",
       "      <th>avg_ndcg</th>\n",
       "      <th>avg_p3</th>\n",
       "    </tr>\n",
       "  </thead>\n",
       "  <tbody>\n",
       "    <tr>\n",
       "      <th>Ensemble SCORE</th>\n",
       "      <td>0.55363</td>\n",
       "      <td>0.731848</td>\n",
       "      <td>0.816832</td>\n",
       "      <td>0.735974</td>\n",
       "      <td>0.455446</td>\n",
       "    </tr>\n",
       "  </tbody>\n",
       "</table>\n",
       "</div>"
      ],
      "text/plain": [
       "                    map       mrr    avg_sr  avg_ndcg    avg_p3\n",
       "Ensemble SCORE  0.55363  0.731848  0.816832  0.735974  0.455446"
      ]
     },
     "metadata": {},
     "output_type": "display_data"
    },
    {
     "name": "stdout",
     "output_type": "stream",
     "text": [
      "Pruned_ 2\n"
     ]
    },
    {
     "data": {
      "text/html": [
       "<div>\n",
       "<style scoped>\n",
       "    .dataframe tbody tr th:only-of-type {\n",
       "        vertical-align: middle;\n",
       "    }\n",
       "\n",
       "    .dataframe tbody tr th {\n",
       "        vertical-align: top;\n",
       "    }\n",
       "\n",
       "    .dataframe thead th {\n",
       "        text-align: right;\n",
       "    }\n",
       "</style>\n",
       "<table border=\"1\" class=\"dataframe\">\n",
       "  <thead>\n",
       "    <tr style=\"text-align: right;\">\n",
       "      <th></th>\n",
       "      <th>map</th>\n",
       "      <th>mrr</th>\n",
       "      <th>avg_sr</th>\n",
       "      <th>avg_ndcg</th>\n",
       "      <th>avg_p3</th>\n",
       "    </tr>\n",
       "  </thead>\n",
       "  <tbody>\n",
       "    <tr>\n",
       "      <th>Ensemble SCORE</th>\n",
       "      <td>0.612939</td>\n",
       "      <td>0.781798</td>\n",
       "      <td>0.868421</td>\n",
       "      <td>0.781402</td>\n",
       "      <td>0.519737</td>\n",
       "    </tr>\n",
       "  </tbody>\n",
       "</table>\n",
       "</div>"
      ],
      "text/plain": [
       "                     map       mrr    avg_sr  avg_ndcg    avg_p3\n",
       "Ensemble SCORE  0.612939  0.781798  0.868421  0.781402  0.519737"
      ]
     },
     "metadata": {},
     "output_type": "display_data"
    },
    {
     "name": "stdout",
     "output_type": "stream",
     "text": [
      "Pruned_ 3\n"
     ]
    },
    {
     "data": {
      "text/html": [
       "<div>\n",
       "<style scoped>\n",
       "    .dataframe tbody tr th:only-of-type {\n",
       "        vertical-align: middle;\n",
       "    }\n",
       "\n",
       "    .dataframe tbody tr th {\n",
       "        vertical-align: top;\n",
       "    }\n",
       "\n",
       "    .dataframe thead th {\n",
       "        text-align: right;\n",
       "    }\n",
       "</style>\n",
       "<table border=\"1\" class=\"dataframe\">\n",
       "  <thead>\n",
       "    <tr style=\"text-align: right;\">\n",
       "      <th></th>\n",
       "      <th>map</th>\n",
       "      <th>mrr</th>\n",
       "      <th>avg_sr</th>\n",
       "      <th>avg_ndcg</th>\n",
       "      <th>avg_p3</th>\n",
       "    </tr>\n",
       "  </thead>\n",
       "  <tbody>\n",
       "    <tr>\n",
       "      <th>Ensemble SCORE</th>\n",
       "      <td>0.601587</td>\n",
       "      <td>0.763492</td>\n",
       "      <td>0.857143</td>\n",
       "      <td>0.760487</td>\n",
       "      <td>0.52381</td>\n",
       "    </tr>\n",
       "  </tbody>\n",
       "</table>\n",
       "</div>"
      ],
      "text/plain": [
       "                     map       mrr    avg_sr  avg_ndcg   avg_p3\n",
       "Ensemble SCORE  0.601587  0.763492  0.857143  0.760487  0.52381"
      ]
     },
     "metadata": {},
     "output_type": "display_data"
    },
    {
     "name": "stdout",
     "output_type": "stream",
     "text": [
      "Pruned_ 4\n"
     ]
    },
    {
     "data": {
      "text/html": [
       "<div>\n",
       "<style scoped>\n",
       "    .dataframe tbody tr th:only-of-type {\n",
       "        vertical-align: middle;\n",
       "    }\n",
       "\n",
       "    .dataframe tbody tr th {\n",
       "        vertical-align: top;\n",
       "    }\n",
       "\n",
       "    .dataframe thead th {\n",
       "        text-align: right;\n",
       "    }\n",
       "</style>\n",
       "<table border=\"1\" class=\"dataframe\">\n",
       "  <thead>\n",
       "    <tr style=\"text-align: right;\">\n",
       "      <th></th>\n",
       "      <th>map</th>\n",
       "      <th>mrr</th>\n",
       "      <th>avg_sr</th>\n",
       "      <th>avg_ndcg</th>\n",
       "      <th>avg_p3</th>\n",
       "    </tr>\n",
       "  </thead>\n",
       "  <tbody>\n",
       "    <tr>\n",
       "      <th>Ensemble SCORE</th>\n",
       "      <td>0.604418</td>\n",
       "      <td>0.759036</td>\n",
       "      <td>0.831325</td>\n",
       "      <td>0.749857</td>\n",
       "      <td>0.518072</td>\n",
       "    </tr>\n",
       "  </tbody>\n",
       "</table>\n",
       "</div>"
      ],
      "text/plain": [
       "                     map       mrr    avg_sr  avg_ndcg    avg_p3\n",
       "Ensemble SCORE  0.604418  0.759036  0.831325  0.749857  0.518072"
      ]
     },
     "metadata": {},
     "output_type": "display_data"
    },
    {
     "name": "stdout",
     "output_type": "stream",
     "text": [
      "Pruned_ 5\n"
     ]
    },
    {
     "data": {
      "text/html": [
       "<div>\n",
       "<style scoped>\n",
       "    .dataframe tbody tr th:only-of-type {\n",
       "        vertical-align: middle;\n",
       "    }\n",
       "\n",
       "    .dataframe tbody tr th {\n",
       "        vertical-align: top;\n",
       "    }\n",
       "\n",
       "    .dataframe thead th {\n",
       "        text-align: right;\n",
       "    }\n",
       "</style>\n",
       "<table border=\"1\" class=\"dataframe\">\n",
       "  <thead>\n",
       "    <tr style=\"text-align: right;\">\n",
       "      <th></th>\n",
       "      <th>map</th>\n",
       "      <th>mrr</th>\n",
       "      <th>avg_sr</th>\n",
       "      <th>avg_ndcg</th>\n",
       "      <th>avg_p3</th>\n",
       "    </tr>\n",
       "  </thead>\n",
       "  <tbody>\n",
       "    <tr>\n",
       "      <th>Ensemble SCORE</th>\n",
       "      <td>0.602564</td>\n",
       "      <td>0.75641</td>\n",
       "      <td>0.815385</td>\n",
       "      <td>0.741289</td>\n",
       "      <td>0.507692</td>\n",
       "    </tr>\n",
       "  </tbody>\n",
       "</table>\n",
       "</div>"
      ],
      "text/plain": [
       "                     map      mrr    avg_sr  avg_ndcg    avg_p3\n",
       "Ensemble SCORE  0.602564  0.75641  0.815385  0.741289  0.507692"
      ]
     },
     "metadata": {},
     "output_type": "display_data"
    },
    {
     "name": "stdout",
     "output_type": "stream",
     "text": [
      "Pruned_ 6\n"
     ]
    },
    {
     "data": {
      "text/html": [
       "<div>\n",
       "<style scoped>\n",
       "    .dataframe tbody tr th:only-of-type {\n",
       "        vertical-align: middle;\n",
       "    }\n",
       "\n",
       "    .dataframe tbody tr th {\n",
       "        vertical-align: top;\n",
       "    }\n",
       "\n",
       "    .dataframe thead th {\n",
       "        text-align: right;\n",
       "    }\n",
       "</style>\n",
       "<table border=\"1\" class=\"dataframe\">\n",
       "  <thead>\n",
       "    <tr style=\"text-align: right;\">\n",
       "      <th></th>\n",
       "      <th>map</th>\n",
       "      <th>mrr</th>\n",
       "      <th>avg_sr</th>\n",
       "      <th>avg_ndcg</th>\n",
       "      <th>avg_p3</th>\n",
       "    </tr>\n",
       "  </thead>\n",
       "  <tbody>\n",
       "    <tr>\n",
       "      <th>Ensemble SCORE</th>\n",
       "      <td>0.573333</td>\n",
       "      <td>0.723333</td>\n",
       "      <td>0.8</td>\n",
       "      <td>0.721303</td>\n",
       "      <td>0.5</td>\n",
       "    </tr>\n",
       "  </tbody>\n",
       "</table>\n",
       "</div>"
      ],
      "text/plain": [
       "                     map       mrr  avg_sr  avg_ndcg  avg_p3\n",
       "Ensemble SCORE  0.573333  0.723333     0.8  0.721303     0.5"
      ]
     },
     "metadata": {},
     "output_type": "display_data"
    },
    {
     "name": "stdout",
     "output_type": "stream",
     "text": [
      "Pruned_ 7\n"
     ]
    },
    {
     "data": {
      "text/html": [
       "<div>\n",
       "<style scoped>\n",
       "    .dataframe tbody tr th:only-of-type {\n",
       "        vertical-align: middle;\n",
       "    }\n",
       "\n",
       "    .dataframe tbody tr th {\n",
       "        vertical-align: top;\n",
       "    }\n",
       "\n",
       "    .dataframe thead th {\n",
       "        text-align: right;\n",
       "    }\n",
       "</style>\n",
       "<table border=\"1\" class=\"dataframe\">\n",
       "  <thead>\n",
       "    <tr style=\"text-align: right;\">\n",
       "      <th></th>\n",
       "      <th>map</th>\n",
       "      <th>mrr</th>\n",
       "      <th>avg_sr</th>\n",
       "      <th>avg_ndcg</th>\n",
       "      <th>avg_p3</th>\n",
       "    </tr>\n",
       "  </thead>\n",
       "  <tbody>\n",
       "    <tr>\n",
       "      <th>Ensemble SCORE</th>\n",
       "      <td>0.608108</td>\n",
       "      <td>0.752252</td>\n",
       "      <td>0.837838</td>\n",
       "      <td>0.747174</td>\n",
       "      <td>0.540541</td>\n",
       "    </tr>\n",
       "  </tbody>\n",
       "</table>\n",
       "</div>"
      ],
      "text/plain": [
       "                     map       mrr    avg_sr  avg_ndcg    avg_p3\n",
       "Ensemble SCORE  0.608108  0.752252  0.837838  0.747174  0.540541"
      ]
     },
     "metadata": {},
     "output_type": "display_data"
    },
    {
     "name": "stdout",
     "output_type": "stream",
     "text": [
      "Pruned_ 8\n"
     ]
    },
    {
     "data": {
      "text/html": [
       "<div>\n",
       "<style scoped>\n",
       "    .dataframe tbody tr th:only-of-type {\n",
       "        vertical-align: middle;\n",
       "    }\n",
       "\n",
       "    .dataframe tbody tr th {\n",
       "        vertical-align: top;\n",
       "    }\n",
       "\n",
       "    .dataframe thead th {\n",
       "        text-align: right;\n",
       "    }\n",
       "</style>\n",
       "<table border=\"1\" class=\"dataframe\">\n",
       "  <thead>\n",
       "    <tr style=\"text-align: right;\">\n",
       "      <th></th>\n",
       "      <th>map</th>\n",
       "      <th>mrr</th>\n",
       "      <th>avg_sr</th>\n",
       "      <th>avg_ndcg</th>\n",
       "      <th>avg_p3</th>\n",
       "    </tr>\n",
       "  </thead>\n",
       "  <tbody>\n",
       "    <tr>\n",
       "      <th>Ensemble SCORE</th>\n",
       "      <td>0.576389</td>\n",
       "      <td>0.713542</td>\n",
       "      <td>0.8125</td>\n",
       "      <td>0.712687</td>\n",
       "      <td>0.510417</td>\n",
       "    </tr>\n",
       "  </tbody>\n",
       "</table>\n",
       "</div>"
      ],
      "text/plain": [
       "                     map       mrr  avg_sr  avg_ndcg    avg_p3\n",
       "Ensemble SCORE  0.576389  0.713542  0.8125  0.712687  0.510417"
      ]
     },
     "metadata": {},
     "output_type": "display_data"
    },
    {
     "name": "stdout",
     "output_type": "stream",
     "text": [
      "Pruned_ 9\n"
     ]
    },
    {
     "data": {
      "text/html": [
       "<div>\n",
       "<style scoped>\n",
       "    .dataframe tbody tr th:only-of-type {\n",
       "        vertical-align: middle;\n",
       "    }\n",
       "\n",
       "    .dataframe tbody tr th {\n",
       "        vertical-align: top;\n",
       "    }\n",
       "\n",
       "    .dataframe thead th {\n",
       "        text-align: right;\n",
       "    }\n",
       "</style>\n",
       "<table border=\"1\" class=\"dataframe\">\n",
       "  <thead>\n",
       "    <tr style=\"text-align: right;\">\n",
       "      <th></th>\n",
       "      <th>map</th>\n",
       "      <th>mrr</th>\n",
       "      <th>avg_sr</th>\n",
       "      <th>avg_ndcg</th>\n",
       "      <th>avg_p3</th>\n",
       "    </tr>\n",
       "  </thead>\n",
       "  <tbody>\n",
       "    <tr>\n",
       "      <th>Ensemble SCORE</th>\n",
       "      <td>0.573232</td>\n",
       "      <td>0.704545</td>\n",
       "      <td>0.818182</td>\n",
       "      <td>0.710276</td>\n",
       "      <td>0.515152</td>\n",
       "    </tr>\n",
       "  </tbody>\n",
       "</table>\n",
       "</div>"
      ],
      "text/plain": [
       "                     map       mrr    avg_sr  avg_ndcg    avg_p3\n",
       "Ensemble SCORE  0.573232  0.704545  0.818182  0.710276  0.515152"
      ]
     },
     "metadata": {},
     "output_type": "display_data"
    },
    {
     "name": "stdout",
     "output_type": "stream",
     "text": [
      "Pruned_ 10\n"
     ]
    },
    {
     "data": {
      "text/html": [
       "<div>\n",
       "<style scoped>\n",
       "    .dataframe tbody tr th:only-of-type {\n",
       "        vertical-align: middle;\n",
       "    }\n",
       "\n",
       "    .dataframe tbody tr th {\n",
       "        vertical-align: top;\n",
       "    }\n",
       "\n",
       "    .dataframe thead th {\n",
       "        text-align: right;\n",
       "    }\n",
       "</style>\n",
       "<table border=\"1\" class=\"dataframe\">\n",
       "  <thead>\n",
       "    <tr style=\"text-align: right;\">\n",
       "      <th></th>\n",
       "      <th>map</th>\n",
       "      <th>mrr</th>\n",
       "      <th>avg_sr</th>\n",
       "      <th>avg_ndcg</th>\n",
       "      <th>avg_p3</th>\n",
       "    </tr>\n",
       "  </thead>\n",
       "  <tbody>\n",
       "    <tr>\n",
       "      <th>Ensemble SCORE</th>\n",
       "      <td>0.472222</td>\n",
       "      <td>0.55</td>\n",
       "      <td>0.7</td>\n",
       "      <td>0.560419</td>\n",
       "      <td>0.466667</td>\n",
       "    </tr>\n",
       "  </tbody>\n",
       "</table>\n",
       "</div>"
      ],
      "text/plain": [
       "                     map   mrr  avg_sr  avg_ndcg    avg_p3\n",
       "Ensemble SCORE  0.472222  0.55     0.7  0.560419  0.466667"
      ]
     },
     "metadata": {},
     "output_type": "display_data"
    },
    {
     "name": "stdout",
     "output_type": "stream",
     "text": [
      "Pruned_ 11\n"
     ]
    },
    {
     "data": {
      "text/html": [
       "<div>\n",
       "<style scoped>\n",
       "    .dataframe tbody tr th:only-of-type {\n",
       "        vertical-align: middle;\n",
       "    }\n",
       "\n",
       "    .dataframe tbody tr th {\n",
       "        vertical-align: top;\n",
       "    }\n",
       "\n",
       "    .dataframe thead th {\n",
       "        text-align: right;\n",
       "    }\n",
       "</style>\n",
       "<table border=\"1\" class=\"dataframe\">\n",
       "  <thead>\n",
       "    <tr style=\"text-align: right;\">\n",
       "      <th></th>\n",
       "      <th>map</th>\n",
       "      <th>mrr</th>\n",
       "      <th>avg_sr</th>\n",
       "      <th>avg_ndcg</th>\n",
       "      <th>avg_p3</th>\n",
       "    </tr>\n",
       "  </thead>\n",
       "  <tbody>\n",
       "    <tr>\n",
       "      <th>Ensemble SCORE</th>\n",
       "      <td>0.444444</td>\n",
       "      <td>0.5</td>\n",
       "      <td>0.666667</td>\n",
       "      <td>0.495543</td>\n",
       "      <td>0.5</td>\n",
       "    </tr>\n",
       "  </tbody>\n",
       "</table>\n",
       "</div>"
      ],
      "text/plain": [
       "                     map  mrr    avg_sr  avg_ndcg  avg_p3\n",
       "Ensemble SCORE  0.444444  0.5  0.666667  0.495543     0.5"
      ]
     },
     "metadata": {},
     "output_type": "display_data"
    },
    {
     "name": "stdout",
     "output_type": "stream",
     "text": [
      "Pruned_ 12\n"
     ]
    },
    {
     "data": {
      "text/html": [
       "<div>\n",
       "<style scoped>\n",
       "    .dataframe tbody tr th:only-of-type {\n",
       "        vertical-align: middle;\n",
       "    }\n",
       "\n",
       "    .dataframe tbody tr th {\n",
       "        vertical-align: top;\n",
       "    }\n",
       "\n",
       "    .dataframe thead th {\n",
       "        text-align: right;\n",
       "    }\n",
       "</style>\n",
       "<table border=\"1\" class=\"dataframe\">\n",
       "  <thead>\n",
       "    <tr style=\"text-align: right;\">\n",
       "      <th></th>\n",
       "      <th>map</th>\n",
       "      <th>mrr</th>\n",
       "      <th>avg_sr</th>\n",
       "      <th>avg_ndcg</th>\n",
       "      <th>avg_p3</th>\n",
       "    </tr>\n",
       "  </thead>\n",
       "  <tbody>\n",
       "    <tr>\n",
       "      <th>Ensemble SCORE</th>\n",
       "      <td>0.333333</td>\n",
       "      <td>0.4</td>\n",
       "      <td>0.6</td>\n",
       "      <td>0.418228</td>\n",
       "      <td>0.4</td>\n",
       "    </tr>\n",
       "  </tbody>\n",
       "</table>\n",
       "</div>"
      ],
      "text/plain": [
       "                     map  mrr  avg_sr  avg_ndcg  avg_p3\n",
       "Ensemble SCORE  0.333333  0.4     0.6  0.418228     0.4"
      ]
     },
     "metadata": {},
     "output_type": "display_data"
    },
    {
     "name": "stdout",
     "output_type": "stream",
     "text": [
      "Pruned_ 13\n"
     ]
    },
    {
     "data": {
      "text/html": [
       "<div>\n",
       "<style scoped>\n",
       "    .dataframe tbody tr th:only-of-type {\n",
       "        vertical-align: middle;\n",
       "    }\n",
       "\n",
       "    .dataframe tbody tr th {\n",
       "        vertical-align: top;\n",
       "    }\n",
       "\n",
       "    .dataframe thead th {\n",
       "        text-align: right;\n",
       "    }\n",
       "</style>\n",
       "<table border=\"1\" class=\"dataframe\">\n",
       "  <thead>\n",
       "    <tr style=\"text-align: right;\">\n",
       "      <th></th>\n",
       "      <th>map</th>\n",
       "      <th>mrr</th>\n",
       "      <th>avg_sr</th>\n",
       "      <th>avg_ndcg</th>\n",
       "      <th>avg_p3</th>\n",
       "    </tr>\n",
       "  </thead>\n",
       "  <tbody>\n",
       "    <tr>\n",
       "      <th>Ensemble SCORE</th>\n",
       "      <td>0.319444</td>\n",
       "      <td>0.375</td>\n",
       "      <td>0.5</td>\n",
       "      <td>0.367808</td>\n",
       "      <td>0.333333</td>\n",
       "    </tr>\n",
       "  </tbody>\n",
       "</table>\n",
       "</div>"
      ],
      "text/plain": [
       "                     map    mrr  avg_sr  avg_ndcg    avg_p3\n",
       "Ensemble SCORE  0.319444  0.375     0.5  0.367808  0.333333"
      ]
     },
     "metadata": {},
     "output_type": "display_data"
    },
    {
     "name": "stdout",
     "output_type": "stream",
     "text": [
      "Pruned_ 14\n"
     ]
    },
    {
     "data": {
      "text/html": [
       "<div>\n",
       "<style scoped>\n",
       "    .dataframe tbody tr th:only-of-type {\n",
       "        vertical-align: middle;\n",
       "    }\n",
       "\n",
       "    .dataframe tbody tr th {\n",
       "        vertical-align: top;\n",
       "    }\n",
       "\n",
       "    .dataframe thead th {\n",
       "        text-align: right;\n",
       "    }\n",
       "</style>\n",
       "<table border=\"1\" class=\"dataframe\">\n",
       "  <thead>\n",
       "    <tr style=\"text-align: right;\">\n",
       "      <th></th>\n",
       "      <th>map</th>\n",
       "      <th>mrr</th>\n",
       "      <th>avg_sr</th>\n",
       "      <th>avg_ndcg</th>\n",
       "      <th>avg_p3</th>\n",
       "    </tr>\n",
       "  </thead>\n",
       "  <tbody>\n",
       "    <tr>\n",
       "      <th>Ensemble SCORE</th>\n",
       "      <td>0.425926</td>\n",
       "      <td>0.5</td>\n",
       "      <td>0.666667</td>\n",
       "      <td>0.490411</td>\n",
       "      <td>0.444444</td>\n",
       "    </tr>\n",
       "  </tbody>\n",
       "</table>\n",
       "</div>"
      ],
      "text/plain": [
       "                     map  mrr    avg_sr  avg_ndcg    avg_p3\n",
       "Ensemble SCORE  0.425926  0.5  0.666667  0.490411  0.444444"
      ]
     },
     "metadata": {},
     "output_type": "display_data"
    },
    {
     "name": "stdout",
     "output_type": "stream",
     "text": [
      "Pruned_ 15\n"
     ]
    },
    {
     "data": {
      "text/html": [
       "<div>\n",
       "<style scoped>\n",
       "    .dataframe tbody tr th:only-of-type {\n",
       "        vertical-align: middle;\n",
       "    }\n",
       "\n",
       "    .dataframe tbody tr th {\n",
       "        vertical-align: top;\n",
       "    }\n",
       "\n",
       "    .dataframe thead th {\n",
       "        text-align: right;\n",
       "    }\n",
       "</style>\n",
       "<table border=\"1\" class=\"dataframe\">\n",
       "  <thead>\n",
       "    <tr style=\"text-align: right;\">\n",
       "      <th></th>\n",
       "      <th>map</th>\n",
       "      <th>mrr</th>\n",
       "      <th>avg_sr</th>\n",
       "      <th>avg_ndcg</th>\n",
       "      <th>avg_p3</th>\n",
       "    </tr>\n",
       "  </thead>\n",
       "  <tbody>\n",
       "    <tr>\n",
       "      <th>Ensemble SCORE</th>\n",
       "      <td>0.5</td>\n",
       "      <td>0.5</td>\n",
       "      <td>0.5</td>\n",
       "      <td>0.420152</td>\n",
       "      <td>0.5</td>\n",
       "    </tr>\n",
       "  </tbody>\n",
       "</table>\n",
       "</div>"
      ],
      "text/plain": [
       "                map  mrr  avg_sr  avg_ndcg  avg_p3\n",
       "Ensemble SCORE  0.5  0.5     0.5  0.420152     0.5"
      ]
     },
     "metadata": {},
     "output_type": "display_data"
    },
    {
     "name": "stdout",
     "output_type": "stream",
     "text": [
      "Pruned_ 16\n"
     ]
    },
    {
     "data": {
      "text/html": [
       "<div>\n",
       "<style scoped>\n",
       "    .dataframe tbody tr th:only-of-type {\n",
       "        vertical-align: middle;\n",
       "    }\n",
       "\n",
       "    .dataframe tbody tr th {\n",
       "        vertical-align: top;\n",
       "    }\n",
       "\n",
       "    .dataframe thead th {\n",
       "        text-align: right;\n",
       "    }\n",
       "</style>\n",
       "<table border=\"1\" class=\"dataframe\">\n",
       "  <thead>\n",
       "    <tr style=\"text-align: right;\">\n",
       "      <th></th>\n",
       "      <th>map</th>\n",
       "      <th>mrr</th>\n",
       "      <th>avg_sr</th>\n",
       "      <th>avg_ndcg</th>\n",
       "      <th>avg_p3</th>\n",
       "    </tr>\n",
       "  </thead>\n",
       "  <tbody>\n",
       "    <tr>\n",
       "      <th>Ensemble SCORE</th>\n",
       "      <td>0.5</td>\n",
       "      <td>0.5</td>\n",
       "      <td>0.5</td>\n",
       "      <td>0.420152</td>\n",
       "      <td>0.5</td>\n",
       "    </tr>\n",
       "  </tbody>\n",
       "</table>\n",
       "</div>"
      ],
      "text/plain": [
       "                map  mrr  avg_sr  avg_ndcg  avg_p3\n",
       "Ensemble SCORE  0.5  0.5     0.5  0.420152     0.5"
      ]
     },
     "metadata": {},
     "output_type": "display_data"
    },
    {
     "name": "stdout",
     "output_type": "stream",
     "text": [
      "Pruned_ 17\n"
     ]
    },
    {
     "data": {
      "text/html": [
       "<div>\n",
       "<style scoped>\n",
       "    .dataframe tbody tr th:only-of-type {\n",
       "        vertical-align: middle;\n",
       "    }\n",
       "\n",
       "    .dataframe tbody tr th {\n",
       "        vertical-align: top;\n",
       "    }\n",
       "\n",
       "    .dataframe thead th {\n",
       "        text-align: right;\n",
       "    }\n",
       "</style>\n",
       "<table border=\"1\" class=\"dataframe\">\n",
       "  <thead>\n",
       "    <tr style=\"text-align: right;\">\n",
       "      <th></th>\n",
       "      <th>map</th>\n",
       "      <th>mrr</th>\n",
       "      <th>avg_sr</th>\n",
       "      <th>avg_ndcg</th>\n",
       "      <th>avg_p3</th>\n",
       "    </tr>\n",
       "  </thead>\n",
       "  <tbody>\n",
       "    <tr>\n",
       "      <th>Ensemble SCORE</th>\n",
       "      <td>0.5</td>\n",
       "      <td>0.5</td>\n",
       "      <td>0.5</td>\n",
       "      <td>0.420152</td>\n",
       "      <td>0.5</td>\n",
       "    </tr>\n",
       "  </tbody>\n",
       "</table>\n",
       "</div>"
      ],
      "text/plain": [
       "                map  mrr  avg_sr  avg_ndcg  avg_p3\n",
       "Ensemble SCORE  0.5  0.5     0.5  0.420152     0.5"
      ]
     },
     "metadata": {},
     "output_type": "display_data"
    },
    {
     "name": "stdout",
     "output_type": "stream",
     "text": [
      "map\t [45, 55, 61, 60, 60, 60, 57, 61, 58, 57, 47, 44, 33, 32, 43, 50, 50, 50]\n",
      "mrr\t [62, 73, 78, 76, 76, 76, 72, 75, 71, 70, 55, 50, 40, 38, 50, 50, 50, 50]\n",
      "sr\t [70, 82, 87, 86, 83, 82, 80, 84, 81, 82, 70, 67, 60, 50, 67, 50, 50, 50]\n",
      "ncdg\t [63, 74, 78, 76, 75, 74, 72, 75, 71, 71, 56, 50, 42, 37, 49, 42, 42, 42]\n",
      "P3\t [37, 46, 52, 52, 52, 51, 50, 54, 51, 52, 47, 50, 40, 33, 44, 50, 50, 50]\n"
     ]
    }
   ],
   "source": [
    "df1 = pd.read_csv(\"/home/ritwik/git/AshaQnA/other_codes/Metrics/Data/E_48.csv\")\n",
    "mat_bin = get_data(df1[[\"final_1\",\"final_2\",\"final_3\"]],[1,2])\n",
    "\n",
    "mapl, mrrl, srl, ndcgl, p3l = [round(calc_metrics(df1)['map']*100)], [round(calc_metrics(df1)['mrr']*100)] , [round(calc_metrics(df1)['avg_sr']*100)], [round(calc_metrics(df1)['avg_ndcg']*100)], [round(calc_metrics(df1)['avg_p3']*100)]\n",
    "for i in range(1,18):\n",
    "    print('Pruned_',i)\n",
    "    df1 = pd.read_csv(\"/home/ritwik/git/AshaQnA/other_codes/Metrics/Data/E_48_pruned_\"+str(i)+\".csv\")\n",
    "    mat_bin = get_data(df1[[\"final_1\",\"final_2\",\"final_3\"]],[1,2])    \n",
    "    display(pd.DataFrame(calc_metrics(df1),index=df1.Model_name.unique()))\n",
    "    mapl.append(round(calc_metrics(df1)['map']*100))\n",
    "    mrrl.append(round(calc_metrics(df1)['mrr']*100))\n",
    "    srl.append(round(calc_metrics(df1)['avg_sr']*100))\n",
    "    ndcgl.append(round(calc_metrics(df1)['avg_ndcg']*100))\n",
    "    p3l.append(round(calc_metrics(df1)['avg_p3']*100))\n",
    "print('map\\t',mapl)\n",
    "print('mrr\\t',mrrl)\n",
    "print('sr\\t',srl)\n",
    "print('ncdg\\t',ndcgl)\n",
    "print('P3\\t',p3l)"
   ]
  },
  {
   "cell_type": "code",
   "execution_count": 34,
   "metadata": {
    "collapsed": true,
    "hidden": true
   },
   "outputs": [
    {
     "name": "stdout",
     "output_type": "stream",
     "text": [
      "Pruned_ 1\n"
     ]
    },
    {
     "data": {
      "text/html": [
       "<div>\n",
       "<style scoped>\n",
       "    .dataframe tbody tr th:only-of-type {\n",
       "        vertical-align: middle;\n",
       "    }\n",
       "\n",
       "    .dataframe tbody tr th {\n",
       "        vertical-align: top;\n",
       "    }\n",
       "\n",
       "    .dataframe thead th {\n",
       "        text-align: right;\n",
       "    }\n",
       "</style>\n",
       "<table border=\"1\" class=\"dataframe\">\n",
       "  <thead>\n",
       "    <tr style=\"text-align: right;\">\n",
       "      <th></th>\n",
       "      <th>map</th>\n",
       "      <th>mrr</th>\n",
       "      <th>avg_sr</th>\n",
       "      <th>avg_ndcg</th>\n",
       "      <th>avg_p5</th>\n",
       "    </tr>\n",
       "  </thead>\n",
       "  <tbody>\n",
       "    <tr>\n",
       "      <th>Ensemble SCORE</th>\n",
       "      <td>0.48868</td>\n",
       "      <td>0.756436</td>\n",
       "      <td>0.861386</td>\n",
       "      <td>0.753642</td>\n",
       "      <td>0.373267</td>\n",
       "    </tr>\n",
       "  </tbody>\n",
       "</table>\n",
       "</div>"
      ],
      "text/plain": [
       "                    map       mrr    avg_sr  avg_ndcg    avg_p5\n",
       "Ensemble SCORE  0.48868  0.756436  0.861386  0.753642  0.373267"
      ]
     },
     "metadata": {},
     "output_type": "display_data"
    },
    {
     "name": "stdout",
     "output_type": "stream",
     "text": [
      "Pruned_ 2\n"
     ]
    },
    {
     "data": {
      "text/html": [
       "<div>\n",
       "<style scoped>\n",
       "    .dataframe tbody tr th:only-of-type {\n",
       "        vertical-align: middle;\n",
       "    }\n",
       "\n",
       "    .dataframe tbody tr th {\n",
       "        vertical-align: top;\n",
       "    }\n",
       "\n",
       "    .dataframe thead th {\n",
       "        text-align: right;\n",
       "    }\n",
       "</style>\n",
       "<table border=\"1\" class=\"dataframe\">\n",
       "  <thead>\n",
       "    <tr style=\"text-align: right;\">\n",
       "      <th></th>\n",
       "      <th>map</th>\n",
       "      <th>mrr</th>\n",
       "      <th>avg_sr</th>\n",
       "      <th>avg_ndcg</th>\n",
       "      <th>avg_p5</th>\n",
       "    </tr>\n",
       "  </thead>\n",
       "  <tbody>\n",
       "    <tr>\n",
       "      <th>Ensemble SCORE</th>\n",
       "      <td>0.547917</td>\n",
       "      <td>0.792325</td>\n",
       "      <td>0.907895</td>\n",
       "      <td>0.797703</td>\n",
       "      <td>0.434211</td>\n",
       "    </tr>\n",
       "  </tbody>\n",
       "</table>\n",
       "</div>"
      ],
      "text/plain": [
       "                     map       mrr    avg_sr  avg_ndcg    avg_p5\n",
       "Ensemble SCORE  0.547917  0.792325  0.907895  0.797703  0.434211"
      ]
     },
     "metadata": {},
     "output_type": "display_data"
    },
    {
     "name": "stdout",
     "output_type": "stream",
     "text": [
      "Pruned_ 3\n"
     ]
    },
    {
     "data": {
      "text/html": [
       "<div>\n",
       "<style scoped>\n",
       "    .dataframe tbody tr th:only-of-type {\n",
       "        vertical-align: middle;\n",
       "    }\n",
       "\n",
       "    .dataframe tbody tr th {\n",
       "        vertical-align: top;\n",
       "    }\n",
       "\n",
       "    .dataframe thead th {\n",
       "        text-align: right;\n",
       "    }\n",
       "</style>\n",
       "<table border=\"1\" class=\"dataframe\">\n",
       "  <thead>\n",
       "    <tr style=\"text-align: right;\">\n",
       "      <th></th>\n",
       "      <th>map</th>\n",
       "      <th>mrr</th>\n",
       "      <th>avg_sr</th>\n",
       "      <th>avg_ndcg</th>\n",
       "      <th>avg_p5</th>\n",
       "    </tr>\n",
       "  </thead>\n",
       "  <tbody>\n",
       "    <tr>\n",
       "      <th>Ensemble SCORE</th>\n",
       "      <td>0.568635</td>\n",
       "      <td>0.795873</td>\n",
       "      <td>0.904762</td>\n",
       "      <td>0.797418</td>\n",
       "      <td>0.468571</td>\n",
       "    </tr>\n",
       "  </tbody>\n",
       "</table>\n",
       "</div>"
      ],
      "text/plain": [
       "                     map       mrr    avg_sr  avg_ndcg    avg_p5\n",
       "Ensemble SCORE  0.568635  0.795873  0.904762  0.797418  0.468571"
      ]
     },
     "metadata": {},
     "output_type": "display_data"
    },
    {
     "name": "stdout",
     "output_type": "stream",
     "text": [
      "Pruned_ 4\n"
     ]
    },
    {
     "data": {
      "text/html": [
       "<div>\n",
       "<style scoped>\n",
       "    .dataframe tbody tr th:only-of-type {\n",
       "        vertical-align: middle;\n",
       "    }\n",
       "\n",
       "    .dataframe tbody tr th {\n",
       "        vertical-align: top;\n",
       "    }\n",
       "\n",
       "    .dataframe thead th {\n",
       "        text-align: right;\n",
       "    }\n",
       "</style>\n",
       "<table border=\"1\" class=\"dataframe\">\n",
       "  <thead>\n",
       "    <tr style=\"text-align: right;\">\n",
       "      <th></th>\n",
       "      <th>map</th>\n",
       "      <th>mrr</th>\n",
       "      <th>avg_sr</th>\n",
       "      <th>avg_ndcg</th>\n",
       "      <th>avg_p5</th>\n",
       "    </tr>\n",
       "  </thead>\n",
       "  <tbody>\n",
       "    <tr>\n",
       "      <th>Ensemble SCORE</th>\n",
       "      <td>0.576867</td>\n",
       "      <td>0.802008</td>\n",
       "      <td>0.891566</td>\n",
       "      <td>0.796487</td>\n",
       "      <td>0.474699</td>\n",
       "    </tr>\n",
       "  </tbody>\n",
       "</table>\n",
       "</div>"
      ],
      "text/plain": [
       "                     map       mrr    avg_sr  avg_ndcg    avg_p5\n",
       "Ensemble SCORE  0.576867  0.802008  0.891566  0.796487  0.474699"
      ]
     },
     "metadata": {},
     "output_type": "display_data"
    },
    {
     "name": "stdout",
     "output_type": "stream",
     "text": [
      "Pruned_ 5\n"
     ]
    },
    {
     "data": {
      "text/html": [
       "<div>\n",
       "<style scoped>\n",
       "    .dataframe tbody tr th:only-of-type {\n",
       "        vertical-align: middle;\n",
       "    }\n",
       "\n",
       "    .dataframe tbody tr th {\n",
       "        vertical-align: top;\n",
       "    }\n",
       "\n",
       "    .dataframe thead th {\n",
       "        text-align: right;\n",
       "    }\n",
       "</style>\n",
       "<table border=\"1\" class=\"dataframe\">\n",
       "  <thead>\n",
       "    <tr style=\"text-align: right;\">\n",
       "      <th></th>\n",
       "      <th>map</th>\n",
       "      <th>mrr</th>\n",
       "      <th>avg_sr</th>\n",
       "      <th>avg_ndcg</th>\n",
       "      <th>avg_p5</th>\n",
       "    </tr>\n",
       "  </thead>\n",
       "  <tbody>\n",
       "    <tr>\n",
       "      <th>Ensemble SCORE</th>\n",
       "      <td>0.578974</td>\n",
       "      <td>0.790256</td>\n",
       "      <td>0.876923</td>\n",
       "      <td>0.786747</td>\n",
       "      <td>0.476923</td>\n",
       "    </tr>\n",
       "  </tbody>\n",
       "</table>\n",
       "</div>"
      ],
      "text/plain": [
       "                     map       mrr    avg_sr  avg_ndcg    avg_p5\n",
       "Ensemble SCORE  0.578974  0.790256  0.876923  0.786747  0.476923"
      ]
     },
     "metadata": {},
     "output_type": "display_data"
    },
    {
     "name": "stdout",
     "output_type": "stream",
     "text": [
      "Pruned_ 6\n"
     ]
    },
    {
     "data": {
      "text/html": [
       "<div>\n",
       "<style scoped>\n",
       "    .dataframe tbody tr th:only-of-type {\n",
       "        vertical-align: middle;\n",
       "    }\n",
       "\n",
       "    .dataframe tbody tr th {\n",
       "        vertical-align: top;\n",
       "    }\n",
       "\n",
       "    .dataframe thead th {\n",
       "        text-align: right;\n",
       "    }\n",
       "</style>\n",
       "<table border=\"1\" class=\"dataframe\">\n",
       "  <thead>\n",
       "    <tr style=\"text-align: right;\">\n",
       "      <th></th>\n",
       "      <th>map</th>\n",
       "      <th>mrr</th>\n",
       "      <th>avg_sr</th>\n",
       "      <th>avg_ndcg</th>\n",
       "      <th>avg_p5</th>\n",
       "    </tr>\n",
       "  </thead>\n",
       "  <tbody>\n",
       "    <tr>\n",
       "      <th>Ensemble SCORE</th>\n",
       "      <td>0.562467</td>\n",
       "      <td>0.764</td>\n",
       "      <td>0.86</td>\n",
       "      <td>0.75767</td>\n",
       "      <td>0.484</td>\n",
       "    </tr>\n",
       "  </tbody>\n",
       "</table>\n",
       "</div>"
      ],
      "text/plain": [
       "                     map    mrr  avg_sr  avg_ndcg  avg_p5\n",
       "Ensemble SCORE  0.562467  0.764    0.86   0.75767   0.484"
      ]
     },
     "metadata": {},
     "output_type": "display_data"
    },
    {
     "name": "stdout",
     "output_type": "stream",
     "text": [
      "Pruned_ 7\n"
     ]
    },
    {
     "data": {
      "text/html": [
       "<div>\n",
       "<style scoped>\n",
       "    .dataframe tbody tr th:only-of-type {\n",
       "        vertical-align: middle;\n",
       "    }\n",
       "\n",
       "    .dataframe tbody tr th {\n",
       "        vertical-align: top;\n",
       "    }\n",
       "\n",
       "    .dataframe thead th {\n",
       "        text-align: right;\n",
       "    }\n",
       "</style>\n",
       "<table border=\"1\" class=\"dataframe\">\n",
       "  <thead>\n",
       "    <tr style=\"text-align: right;\">\n",
       "      <th></th>\n",
       "      <th>map</th>\n",
       "      <th>mrr</th>\n",
       "      <th>avg_sr</th>\n",
       "      <th>avg_ndcg</th>\n",
       "      <th>avg_p5</th>\n",
       "    </tr>\n",
       "  </thead>\n",
       "  <tbody>\n",
       "    <tr>\n",
       "      <th>Ensemble SCORE</th>\n",
       "      <td>0.591351</td>\n",
       "      <td>0.784685</td>\n",
       "      <td>0.918919</td>\n",
       "      <td>0.794044</td>\n",
       "      <td>0.524324</td>\n",
       "    </tr>\n",
       "  </tbody>\n",
       "</table>\n",
       "</div>"
      ],
      "text/plain": [
       "                     map       mrr    avg_sr  avg_ndcg    avg_p5\n",
       "Ensemble SCORE  0.591351  0.784685  0.918919  0.794044  0.524324"
      ]
     },
     "metadata": {},
     "output_type": "display_data"
    },
    {
     "name": "stdout",
     "output_type": "stream",
     "text": [
      "Pruned_ 8\n"
     ]
    },
    {
     "data": {
      "text/html": [
       "<div>\n",
       "<style scoped>\n",
       "    .dataframe tbody tr th:only-of-type {\n",
       "        vertical-align: middle;\n",
       "    }\n",
       "\n",
       "    .dataframe tbody tr th {\n",
       "        vertical-align: top;\n",
       "    }\n",
       "\n",
       "    .dataframe thead th {\n",
       "        text-align: right;\n",
       "    }\n",
       "</style>\n",
       "<table border=\"1\" class=\"dataframe\">\n",
       "  <thead>\n",
       "    <tr style=\"text-align: right;\">\n",
       "      <th></th>\n",
       "      <th>map</th>\n",
       "      <th>mrr</th>\n",
       "      <th>avg_sr</th>\n",
       "      <th>avg_ndcg</th>\n",
       "      <th>avg_p5</th>\n",
       "    </tr>\n",
       "  </thead>\n",
       "  <tbody>\n",
       "    <tr>\n",
       "      <th>Ensemble SCORE</th>\n",
       "      <td>0.569896</td>\n",
       "      <td>0.751042</td>\n",
       "      <td>0.90625</td>\n",
       "      <td>0.766881</td>\n",
       "      <td>0.51875</td>\n",
       "    </tr>\n",
       "  </tbody>\n",
       "</table>\n",
       "</div>"
      ],
      "text/plain": [
       "                     map       mrr   avg_sr  avg_ndcg   avg_p5\n",
       "Ensemble SCORE  0.569896  0.751042  0.90625  0.766881  0.51875"
      ]
     },
     "metadata": {},
     "output_type": "display_data"
    },
    {
     "name": "stdout",
     "output_type": "stream",
     "text": [
      "Pruned_ 9\n"
     ]
    },
    {
     "data": {
      "text/html": [
       "<div>\n",
       "<style scoped>\n",
       "    .dataframe tbody tr th:only-of-type {\n",
       "        vertical-align: middle;\n",
       "    }\n",
       "\n",
       "    .dataframe tbody tr th {\n",
       "        vertical-align: top;\n",
       "    }\n",
       "\n",
       "    .dataframe thead th {\n",
       "        text-align: right;\n",
       "    }\n",
       "</style>\n",
       "<table border=\"1\" class=\"dataframe\">\n",
       "  <thead>\n",
       "    <tr style=\"text-align: right;\">\n",
       "      <th></th>\n",
       "      <th>map</th>\n",
       "      <th>mrr</th>\n",
       "      <th>avg_sr</th>\n",
       "      <th>avg_ndcg</th>\n",
       "      <th>avg_p5</th>\n",
       "    </tr>\n",
       "  </thead>\n",
       "  <tbody>\n",
       "    <tr>\n",
       "      <th>Ensemble SCORE</th>\n",
       "      <td>0.592576</td>\n",
       "      <td>0.765152</td>\n",
       "      <td>0.909091</td>\n",
       "      <td>0.790212</td>\n",
       "      <td>0.527273</td>\n",
       "    </tr>\n",
       "  </tbody>\n",
       "</table>\n",
       "</div>"
      ],
      "text/plain": [
       "                     map       mrr    avg_sr  avg_ndcg    avg_p5\n",
       "Ensemble SCORE  0.592576  0.765152  0.909091  0.790212  0.527273"
      ]
     },
     "metadata": {},
     "output_type": "display_data"
    },
    {
     "name": "stdout",
     "output_type": "stream",
     "text": [
      "Pruned_ 10\n"
     ]
    },
    {
     "data": {
      "text/html": [
       "<div>\n",
       "<style scoped>\n",
       "    .dataframe tbody tr th:only-of-type {\n",
       "        vertical-align: middle;\n",
       "    }\n",
       "\n",
       "    .dataframe tbody tr th {\n",
       "        vertical-align: top;\n",
       "    }\n",
       "\n",
       "    .dataframe thead th {\n",
       "        text-align: right;\n",
       "    }\n",
       "</style>\n",
       "<table border=\"1\" class=\"dataframe\">\n",
       "  <thead>\n",
       "    <tr style=\"text-align: right;\">\n",
       "      <th></th>\n",
       "      <th>map</th>\n",
       "      <th>mrr</th>\n",
       "      <th>avg_sr</th>\n",
       "      <th>avg_ndcg</th>\n",
       "      <th>avg_p5</th>\n",
       "    </tr>\n",
       "  </thead>\n",
       "  <tbody>\n",
       "    <tr>\n",
       "      <th>Ensemble SCORE</th>\n",
       "      <td>0.457</td>\n",
       "      <td>0.583333</td>\n",
       "      <td>0.8</td>\n",
       "      <td>0.635149</td>\n",
       "      <td>0.46</td>\n",
       "    </tr>\n",
       "  </tbody>\n",
       "</table>\n",
       "</div>"
      ],
      "text/plain": [
       "                  map       mrr  avg_sr  avg_ndcg  avg_p5\n",
       "Ensemble SCORE  0.457  0.583333     0.8  0.635149    0.46"
      ]
     },
     "metadata": {},
     "output_type": "display_data"
    },
    {
     "name": "stdout",
     "output_type": "stream",
     "text": [
      "Pruned_ 11\n"
     ]
    },
    {
     "data": {
      "text/html": [
       "<div>\n",
       "<style scoped>\n",
       "    .dataframe tbody tr th:only-of-type {\n",
       "        vertical-align: middle;\n",
       "    }\n",
       "\n",
       "    .dataframe tbody tr th {\n",
       "        vertical-align: top;\n",
       "    }\n",
       "\n",
       "    .dataframe thead th {\n",
       "        text-align: right;\n",
       "    }\n",
       "</style>\n",
       "<table border=\"1\" class=\"dataframe\">\n",
       "  <thead>\n",
       "    <tr style=\"text-align: right;\">\n",
       "      <th></th>\n",
       "      <th>map</th>\n",
       "      <th>mrr</th>\n",
       "      <th>avg_sr</th>\n",
       "      <th>avg_ndcg</th>\n",
       "      <th>avg_p5</th>\n",
       "    </tr>\n",
       "  </thead>\n",
       "  <tbody>\n",
       "    <tr>\n",
       "      <th>Ensemble SCORE</th>\n",
       "      <td>0.505</td>\n",
       "      <td>0.611111</td>\n",
       "      <td>0.833333</td>\n",
       "      <td>0.671188</td>\n",
       "      <td>0.566667</td>\n",
       "    </tr>\n",
       "  </tbody>\n",
       "</table>\n",
       "</div>"
      ],
      "text/plain": [
       "                  map       mrr    avg_sr  avg_ndcg    avg_p5\n",
       "Ensemble SCORE  0.505  0.611111  0.833333  0.671188  0.566667"
      ]
     },
     "metadata": {},
     "output_type": "display_data"
    },
    {
     "name": "stdout",
     "output_type": "stream",
     "text": [
      "Pruned_ 12\n"
     ]
    },
    {
     "data": {
      "text/html": [
       "<div>\n",
       "<style scoped>\n",
       "    .dataframe tbody tr th:only-of-type {\n",
       "        vertical-align: middle;\n",
       "    }\n",
       "\n",
       "    .dataframe tbody tr th {\n",
       "        vertical-align: top;\n",
       "    }\n",
       "\n",
       "    .dataframe thead th {\n",
       "        text-align: right;\n",
       "    }\n",
       "</style>\n",
       "<table border=\"1\" class=\"dataframe\">\n",
       "  <thead>\n",
       "    <tr style=\"text-align: right;\">\n",
       "      <th></th>\n",
       "      <th>map</th>\n",
       "      <th>mrr</th>\n",
       "      <th>avg_sr</th>\n",
       "      <th>avg_ndcg</th>\n",
       "      <th>avg_p5</th>\n",
       "    </tr>\n",
       "  </thead>\n",
       "  <tbody>\n",
       "    <tr>\n",
       "      <th>Ensemble SCORE</th>\n",
       "      <td>0.437333</td>\n",
       "      <td>0.533333</td>\n",
       "      <td>0.8</td>\n",
       "      <td>0.61426</td>\n",
       "      <td>0.52</td>\n",
       "    </tr>\n",
       "  </tbody>\n",
       "</table>\n",
       "</div>"
      ],
      "text/plain": [
       "                     map       mrr  avg_sr  avg_ndcg  avg_p5\n",
       "Ensemble SCORE  0.437333  0.533333     0.8   0.61426    0.52"
      ]
     },
     "metadata": {},
     "output_type": "display_data"
    },
    {
     "name": "stdout",
     "output_type": "stream",
     "text": [
      "Pruned_ 13\n"
     ]
    },
    {
     "data": {
      "text/html": [
       "<div>\n",
       "<style scoped>\n",
       "    .dataframe tbody tr th:only-of-type {\n",
       "        vertical-align: middle;\n",
       "    }\n",
       "\n",
       "    .dataframe tbody tr th {\n",
       "        vertical-align: top;\n",
       "    }\n",
       "\n",
       "    .dataframe thead th {\n",
       "        text-align: right;\n",
       "    }\n",
       "</style>\n",
       "<table border=\"1\" class=\"dataframe\">\n",
       "  <thead>\n",
       "    <tr style=\"text-align: right;\">\n",
       "      <th></th>\n",
       "      <th>map</th>\n",
       "      <th>mrr</th>\n",
       "      <th>avg_sr</th>\n",
       "      <th>avg_ndcg</th>\n",
       "      <th>avg_p5</th>\n",
       "    </tr>\n",
       "  </thead>\n",
       "  <tbody>\n",
       "    <tr>\n",
       "      <th>Ensemble SCORE</th>\n",
       "      <td>0.410833</td>\n",
       "      <td>0.541667</td>\n",
       "      <td>0.75</td>\n",
       "      <td>0.577665</td>\n",
       "      <td>0.45</td>\n",
       "    </tr>\n",
       "  </tbody>\n",
       "</table>\n",
       "</div>"
      ],
      "text/plain": [
       "                     map       mrr  avg_sr  avg_ndcg  avg_p5\n",
       "Ensemble SCORE  0.410833  0.541667    0.75  0.577665    0.45"
      ]
     },
     "metadata": {},
     "output_type": "display_data"
    },
    {
     "name": "stdout",
     "output_type": "stream",
     "text": [
      "Pruned_ 14\n"
     ]
    },
    {
     "data": {
      "text/html": [
       "<div>\n",
       "<style scoped>\n",
       "    .dataframe tbody tr th:only-of-type {\n",
       "        vertical-align: middle;\n",
       "    }\n",
       "\n",
       "    .dataframe tbody tr th {\n",
       "        vertical-align: top;\n",
       "    }\n",
       "\n",
       "    .dataframe thead th {\n",
       "        text-align: right;\n",
       "    }\n",
       "</style>\n",
       "<table border=\"1\" class=\"dataframe\">\n",
       "  <thead>\n",
       "    <tr style=\"text-align: right;\">\n",
       "      <th></th>\n",
       "      <th>map</th>\n",
       "      <th>mrr</th>\n",
       "      <th>avg_sr</th>\n",
       "      <th>avg_ndcg</th>\n",
       "      <th>avg_p5</th>\n",
       "    </tr>\n",
       "  </thead>\n",
       "  <tbody>\n",
       "    <tr>\n",
       "      <th>Ensemble SCORE</th>\n",
       "      <td>0.547778</td>\n",
       "      <td>0.666667</td>\n",
       "      <td>1.0</td>\n",
       "      <td>0.77022</td>\n",
       "      <td>0.6</td>\n",
       "    </tr>\n",
       "  </tbody>\n",
       "</table>\n",
       "</div>"
      ],
      "text/plain": [
       "                     map       mrr  avg_sr  avg_ndcg  avg_p5\n",
       "Ensemble SCORE  0.547778  0.666667     1.0   0.77022     0.6"
      ]
     },
     "metadata": {},
     "output_type": "display_data"
    },
    {
     "name": "stdout",
     "output_type": "stream",
     "text": [
      "Pruned_ 15\n"
     ]
    },
    {
     "data": {
      "text/html": [
       "<div>\n",
       "<style scoped>\n",
       "    .dataframe tbody tr th:only-of-type {\n",
       "        vertical-align: middle;\n",
       "    }\n",
       "\n",
       "    .dataframe tbody tr th {\n",
       "        vertical-align: top;\n",
       "    }\n",
       "\n",
       "    .dataframe thead th {\n",
       "        text-align: right;\n",
       "    }\n",
       "</style>\n",
       "<table border=\"1\" class=\"dataframe\">\n",
       "  <thead>\n",
       "    <tr style=\"text-align: right;\">\n",
       "      <th></th>\n",
       "      <th>map</th>\n",
       "      <th>mrr</th>\n",
       "      <th>avg_sr</th>\n",
       "      <th>avg_ndcg</th>\n",
       "      <th>avg_p5</th>\n",
       "    </tr>\n",
       "  </thead>\n",
       "  <tbody>\n",
       "    <tr>\n",
       "      <th>Ensemble SCORE</th>\n",
       "      <td>0.628333</td>\n",
       "      <td>0.75</td>\n",
       "      <td>1.0</td>\n",
       "      <td>0.815465</td>\n",
       "      <td>0.6</td>\n",
       "    </tr>\n",
       "  </tbody>\n",
       "</table>\n",
       "</div>"
      ],
      "text/plain": [
       "                     map   mrr  avg_sr  avg_ndcg  avg_p5\n",
       "Ensemble SCORE  0.628333  0.75     1.0  0.815465     0.6"
      ]
     },
     "metadata": {},
     "output_type": "display_data"
    },
    {
     "name": "stdout",
     "output_type": "stream",
     "text": [
      "Pruned_ 16\n"
     ]
    },
    {
     "data": {
      "text/html": [
       "<div>\n",
       "<style scoped>\n",
       "    .dataframe tbody tr th:only-of-type {\n",
       "        vertical-align: middle;\n",
       "    }\n",
       "\n",
       "    .dataframe tbody tr th {\n",
       "        vertical-align: top;\n",
       "    }\n",
       "\n",
       "    .dataframe thead th {\n",
       "        text-align: right;\n",
       "    }\n",
       "</style>\n",
       "<table border=\"1\" class=\"dataframe\">\n",
       "  <thead>\n",
       "    <tr style=\"text-align: right;\">\n",
       "      <th></th>\n",
       "      <th>map</th>\n",
       "      <th>mrr</th>\n",
       "      <th>avg_sr</th>\n",
       "      <th>avg_ndcg</th>\n",
       "      <th>avg_p5</th>\n",
       "    </tr>\n",
       "  </thead>\n",
       "  <tbody>\n",
       "    <tr>\n",
       "      <th>Ensemble SCORE</th>\n",
       "      <td>0.628333</td>\n",
       "      <td>0.75</td>\n",
       "      <td>1.0</td>\n",
       "      <td>0.815465</td>\n",
       "      <td>0.6</td>\n",
       "    </tr>\n",
       "  </tbody>\n",
       "</table>\n",
       "</div>"
      ],
      "text/plain": [
       "                     map   mrr  avg_sr  avg_ndcg  avg_p5\n",
       "Ensemble SCORE  0.628333  0.75     1.0  0.815465     0.6"
      ]
     },
     "metadata": {},
     "output_type": "display_data"
    },
    {
     "name": "stdout",
     "output_type": "stream",
     "text": [
      "Pruned_ 17\n"
     ]
    },
    {
     "data": {
      "text/html": [
       "<div>\n",
       "<style scoped>\n",
       "    .dataframe tbody tr th:only-of-type {\n",
       "        vertical-align: middle;\n",
       "    }\n",
       "\n",
       "    .dataframe tbody tr th {\n",
       "        vertical-align: top;\n",
       "    }\n",
       "\n",
       "    .dataframe thead th {\n",
       "        text-align: right;\n",
       "    }\n",
       "</style>\n",
       "<table border=\"1\" class=\"dataframe\">\n",
       "  <thead>\n",
       "    <tr style=\"text-align: right;\">\n",
       "      <th></th>\n",
       "      <th>map</th>\n",
       "      <th>mrr</th>\n",
       "      <th>avg_sr</th>\n",
       "      <th>avg_ndcg</th>\n",
       "      <th>avg_p5</th>\n",
       "    </tr>\n",
       "  </thead>\n",
       "  <tbody>\n",
       "    <tr>\n",
       "      <th>Ensemble SCORE</th>\n",
       "      <td>0.628333</td>\n",
       "      <td>0.75</td>\n",
       "      <td>1.0</td>\n",
       "      <td>0.815465</td>\n",
       "      <td>0.6</td>\n",
       "    </tr>\n",
       "  </tbody>\n",
       "</table>\n",
       "</div>"
      ],
      "text/plain": [
       "                     map   mrr  avg_sr  avg_ndcg  avg_p5\n",
       "Ensemble SCORE  0.628333  0.75     1.0  0.815465     0.6"
      ]
     },
     "metadata": {},
     "output_type": "display_data"
    },
    {
     "name": "stdout",
     "output_type": "stream",
     "text": [
      "map\t [39, 49, 55, 57, 58, 58, 56, 59, 57, 59, 46, 50, 44, 41, 55, 63, 63, 63]\n",
      "mrr\t [65, 76, 79, 80, 80, 79, 76, 78, 75, 77, 58, 61, 53, 54, 67, 75, 75, 75]\n",
      "sr\t [74, 86, 91, 90, 89, 88, 86, 92, 91, 91, 80, 83, 80, 75, 100, 100, 100, 100]\n",
      "ncdg\t [63, 75, 80, 80, 80, 79, 76, 79, 77, 79, 64, 67, 61, 58, 77, 82, 82, 82]\n",
      "P3\t [30, 37, 43, 47, 47, 48, 48, 52, 52, 53, 46, 57, 52, 45, 60, 60, 60, 60]\n"
     ]
    }
   ],
   "source": [
    "df1 = pd.read_csv(\"/home/ritwik/git/AshaQnA/other_codes/Metrics/Data/E_49.csv\")\n",
    "mat_bin = get_data(df1[[\"final_1\",\"final_2\",\"final_3\",\"final_4\",\"final_5\"]],[1,2])    \n",
    "\n",
    "mapl, mrrl, srl, ndcgl, p3l = [round(calc_metrics(df1)['map']*100)], [round(calc_metrics(df1)['mrr']*100)] , [round(calc_metrics(df1)['avg_sr']*100)], [round(calc_metrics(df1)['avg_ndcg']*100)], [round(calc_metrics(df1)['avg_p5']*100)]\n",
    "for i in range(1,18):\n",
    "    print('Pruned_',i)\n",
    "    df1 = pd.read_csv(\"/home/ritwik/git/AshaQnA/other_codes/Metrics/Data/E_49_pruned_\"+str(i)+\".csv\")\n",
    "    mat_bin = get_data(df1[[\"final_1\",\"final_2\",\"final_3\",\"final_4\",\"final_5\"]],[1,2])    \n",
    "    display(pd.DataFrame(calc_metrics(df1),index=df1.Model_name.unique()))\n",
    "    mapl.append(round(calc_metrics(df1)['map']*100))\n",
    "    mrrl.append(round(calc_metrics(df1)['mrr']*100))\n",
    "    srl.append(round(calc_metrics(df1)['avg_sr']*100))\n",
    "    ndcgl.append(round(calc_metrics(df1)['avg_ndcg']*100))\n",
    "    p3l.append(round(calc_metrics(df1)['avg_p5']*100))\n",
    "print('map\\t',mapl)\n",
    "print('mrr\\t',mrrl)\n",
    "print('sr\\t',srl)\n",
    "print('ncdg\\t',ndcgl)\n",
    "print('P3\\t',p3l)"
   ]
  },
  {
   "cell_type": "code",
   "execution_count": null,
   "metadata": {
    "hidden": true
   },
   "outputs": [],
   "source": []
  },
  {
   "cell_type": "code",
   "execution_count": 37,
   "metadata": {
    "hidden": true
   },
   "outputs": [
    {
     "data": {
      "text/html": [
       "<div>\n",
       "<style scoped>\n",
       "    .dataframe tbody tr th:only-of-type {\n",
       "        vertical-align: middle;\n",
       "    }\n",
       "\n",
       "    .dataframe tbody tr th {\n",
       "        vertical-align: top;\n",
       "    }\n",
       "\n",
       "    .dataframe thead th {\n",
       "        text-align: right;\n",
       "    }\n",
       "</style>\n",
       "<table border=\"1\" class=\"dataframe\">\n",
       "  <thead>\n",
       "    <tr style=\"text-align: right;\">\n",
       "      <th></th>\n",
       "      <th>map</th>\n",
       "      <th>mrr</th>\n",
       "      <th>avg_sr</th>\n",
       "      <th>avg_ndcg</th>\n",
       "      <th>avg_p5</th>\n",
       "    </tr>\n",
       "  </thead>\n",
       "  <tbody>\n",
       "    <tr>\n",
       "      <th>Ensemble wfm_sc</th>\n",
       "      <td>0.379877</td>\n",
       "      <td>0.638765</td>\n",
       "      <td>0.740741</td>\n",
       "      <td>0.623903</td>\n",
       "      <td>0.285185</td>\n",
       "    </tr>\n",
       "  </tbody>\n",
       "</table>\n",
       "</div>"
      ],
      "text/plain": [
       "                      map       mrr    avg_sr  avg_ndcg    avg_p5\n",
       "Ensemble wfm_sc  0.379877  0.638765  0.740741  0.623903  0.285185"
      ]
     },
     "execution_count": 37,
     "metadata": {},
     "output_type": "execute_result"
    }
   ],
   "source": [
    "# E37 (inshorts 400 sent pairs) top5\n",
    "pd.DataFrame(calc_metrics(df1),index=df1.Model_name.unique())"
   ]
  },
  {
   "cell_type": "code",
   "execution_count": 38,
   "metadata": {
    "collapsed": true,
    "hidden": true
   },
   "outputs": [
    {
     "name": "stdout",
     "output_type": "stream",
     "text": [
      "Pruned_ 1\n"
     ]
    },
    {
     "data": {
      "text/html": [
       "<div>\n",
       "<style scoped>\n",
       "    .dataframe tbody tr th:only-of-type {\n",
       "        vertical-align: middle;\n",
       "    }\n",
       "\n",
       "    .dataframe tbody tr th {\n",
       "        vertical-align: top;\n",
       "    }\n",
       "\n",
       "    .dataframe thead th {\n",
       "        text-align: right;\n",
       "    }\n",
       "</style>\n",
       "<table border=\"1\" class=\"dataframe\">\n",
       "  <thead>\n",
       "    <tr style=\"text-align: right;\">\n",
       "      <th></th>\n",
       "      <th>map</th>\n",
       "      <th>mrr</th>\n",
       "      <th>avg_sr</th>\n",
       "      <th>avg_ndcg</th>\n",
       "      <th>avg_p5</th>\n",
       "    </tr>\n",
       "  </thead>\n",
       "  <tbody>\n",
       "    <tr>\n",
       "      <th>Ensemble wfm_sc</th>\n",
       "      <td>0.464769</td>\n",
       "      <td>0.730033</td>\n",
       "      <td>0.841584</td>\n",
       "      <td>0.725796</td>\n",
       "      <td>0.351485</td>\n",
       "    </tr>\n",
       "  </tbody>\n",
       "</table>\n",
       "</div>"
      ],
      "text/plain": [
       "                      map       mrr    avg_sr  avg_ndcg    avg_p5\n",
       "Ensemble wfm_sc  0.464769  0.730033  0.841584  0.725796  0.351485"
      ]
     },
     "metadata": {},
     "output_type": "display_data"
    },
    {
     "name": "stdout",
     "output_type": "stream",
     "text": [
      "Pruned_ 2\n"
     ]
    },
    {
     "data": {
      "text/html": [
       "<div>\n",
       "<style scoped>\n",
       "    .dataframe tbody tr th:only-of-type {\n",
       "        vertical-align: middle;\n",
       "    }\n",
       "\n",
       "    .dataframe tbody tr th {\n",
       "        vertical-align: top;\n",
       "    }\n",
       "\n",
       "    .dataframe thead th {\n",
       "        text-align: right;\n",
       "    }\n",
       "</style>\n",
       "<table border=\"1\" class=\"dataframe\">\n",
       "  <thead>\n",
       "    <tr style=\"text-align: right;\">\n",
       "      <th></th>\n",
       "      <th>map</th>\n",
       "      <th>mrr</th>\n",
       "      <th>avg_sr</th>\n",
       "      <th>avg_ndcg</th>\n",
       "      <th>avg_p5</th>\n",
       "    </tr>\n",
       "  </thead>\n",
       "  <tbody>\n",
       "    <tr>\n",
       "      <th>Ensemble wfm_sc</th>\n",
       "      <td>0.524211</td>\n",
       "      <td>0.775877</td>\n",
       "      <td>0.868421</td>\n",
       "      <td>0.766331</td>\n",
       "      <td>0.403947</td>\n",
       "    </tr>\n",
       "  </tbody>\n",
       "</table>\n",
       "</div>"
      ],
      "text/plain": [
       "                      map       mrr    avg_sr  avg_ndcg    avg_p5\n",
       "Ensemble wfm_sc  0.524211  0.775877  0.868421  0.766331  0.403947"
      ]
     },
     "metadata": {},
     "output_type": "display_data"
    },
    {
     "name": "stdout",
     "output_type": "stream",
     "text": [
      "Pruned_ 3\n"
     ]
    },
    {
     "data": {
      "text/html": [
       "<div>\n",
       "<style scoped>\n",
       "    .dataframe tbody tr th:only-of-type {\n",
       "        vertical-align: middle;\n",
       "    }\n",
       "\n",
       "    .dataframe tbody tr th {\n",
       "        vertical-align: top;\n",
       "    }\n",
       "\n",
       "    .dataframe thead th {\n",
       "        text-align: right;\n",
       "    }\n",
       "</style>\n",
       "<table border=\"1\" class=\"dataframe\">\n",
       "  <thead>\n",
       "    <tr style=\"text-align: right;\">\n",
       "      <th></th>\n",
       "      <th>map</th>\n",
       "      <th>mrr</th>\n",
       "      <th>avg_sr</th>\n",
       "      <th>avg_ndcg</th>\n",
       "      <th>avg_p5</th>\n",
       "    </tr>\n",
       "  </thead>\n",
       "  <tbody>\n",
       "    <tr>\n",
       "      <th>Ensemble wfm_sc</th>\n",
       "      <td>0.567651</td>\n",
       "      <td>0.810159</td>\n",
       "      <td>0.885714</td>\n",
       "      <td>0.795083</td>\n",
       "      <td>0.453333</td>\n",
       "    </tr>\n",
       "  </tbody>\n",
       "</table>\n",
       "</div>"
      ],
      "text/plain": [
       "                      map       mrr    avg_sr  avg_ndcg    avg_p5\n",
       "Ensemble wfm_sc  0.567651  0.810159  0.885714  0.795083  0.453333"
      ]
     },
     "metadata": {},
     "output_type": "display_data"
    },
    {
     "name": "stdout",
     "output_type": "stream",
     "text": [
      "Pruned_ 4\n"
     ]
    },
    {
     "data": {
      "text/html": [
       "<div>\n",
       "<style scoped>\n",
       "    .dataframe tbody tr th:only-of-type {\n",
       "        vertical-align: middle;\n",
       "    }\n",
       "\n",
       "    .dataframe tbody tr th {\n",
       "        vertical-align: top;\n",
       "    }\n",
       "\n",
       "    .dataframe thead th {\n",
       "        text-align: right;\n",
       "    }\n",
       "</style>\n",
       "<table border=\"1\" class=\"dataframe\">\n",
       "  <thead>\n",
       "    <tr style=\"text-align: right;\">\n",
       "      <th></th>\n",
       "      <th>map</th>\n",
       "      <th>mrr</th>\n",
       "      <th>avg_sr</th>\n",
       "      <th>avg_ndcg</th>\n",
       "      <th>avg_p5</th>\n",
       "    </tr>\n",
       "  </thead>\n",
       "  <tbody>\n",
       "    <tr>\n",
       "      <th>Ensemble wfm_sc</th>\n",
       "      <td>0.580402</td>\n",
       "      <td>0.822088</td>\n",
       "      <td>0.891566</td>\n",
       "      <td>0.807142</td>\n",
       "      <td>0.472289</td>\n",
       "    </tr>\n",
       "  </tbody>\n",
       "</table>\n",
       "</div>"
      ],
      "text/plain": [
       "                      map       mrr    avg_sr  avg_ndcg    avg_p5\n",
       "Ensemble wfm_sc  0.580402  0.822088  0.891566  0.807142  0.472289"
      ]
     },
     "metadata": {},
     "output_type": "display_data"
    },
    {
     "name": "stdout",
     "output_type": "stream",
     "text": [
      "Pruned_ 5\n"
     ]
    },
    {
     "data": {
      "text/html": [
       "<div>\n",
       "<style scoped>\n",
       "    .dataframe tbody tr th:only-of-type {\n",
       "        vertical-align: middle;\n",
       "    }\n",
       "\n",
       "    .dataframe tbody tr th {\n",
       "        vertical-align: top;\n",
       "    }\n",
       "\n",
       "    .dataframe thead th {\n",
       "        text-align: right;\n",
       "    }\n",
       "</style>\n",
       "<table border=\"1\" class=\"dataframe\">\n",
       "  <thead>\n",
       "    <tr style=\"text-align: right;\">\n",
       "      <th></th>\n",
       "      <th>map</th>\n",
       "      <th>mrr</th>\n",
       "      <th>avg_sr</th>\n",
       "      <th>avg_ndcg</th>\n",
       "      <th>avg_p5</th>\n",
       "    </tr>\n",
       "  </thead>\n",
       "  <tbody>\n",
       "    <tr>\n",
       "      <th>Ensemble wfm_sc</th>\n",
       "      <td>0.585538</td>\n",
       "      <td>0.813333</td>\n",
       "      <td>0.876923</td>\n",
       "      <td>0.795664</td>\n",
       "      <td>0.489231</td>\n",
       "    </tr>\n",
       "  </tbody>\n",
       "</table>\n",
       "</div>"
      ],
      "text/plain": [
       "                      map       mrr    avg_sr  avg_ndcg    avg_p5\n",
       "Ensemble wfm_sc  0.585538  0.813333  0.876923  0.795664  0.489231"
      ]
     },
     "metadata": {},
     "output_type": "display_data"
    },
    {
     "name": "stdout",
     "output_type": "stream",
     "text": [
      "Pruned_ 6\n"
     ]
    },
    {
     "data": {
      "text/html": [
       "<div>\n",
       "<style scoped>\n",
       "    .dataframe tbody tr th:only-of-type {\n",
       "        vertical-align: middle;\n",
       "    }\n",
       "\n",
       "    .dataframe tbody tr th {\n",
       "        vertical-align: top;\n",
       "    }\n",
       "\n",
       "    .dataframe thead th {\n",
       "        text-align: right;\n",
       "    }\n",
       "</style>\n",
       "<table border=\"1\" class=\"dataframe\">\n",
       "  <thead>\n",
       "    <tr style=\"text-align: right;\">\n",
       "      <th></th>\n",
       "      <th>map</th>\n",
       "      <th>mrr</th>\n",
       "      <th>avg_sr</th>\n",
       "      <th>avg_ndcg</th>\n",
       "      <th>avg_p5</th>\n",
       "    </tr>\n",
       "  </thead>\n",
       "  <tbody>\n",
       "    <tr>\n",
       "      <th>Ensemble wfm_sc</th>\n",
       "      <td>0.6092</td>\n",
       "      <td>0.823333</td>\n",
       "      <td>0.9</td>\n",
       "      <td>0.814509</td>\n",
       "      <td>0.516</td>\n",
       "    </tr>\n",
       "  </tbody>\n",
       "</table>\n",
       "</div>"
      ],
      "text/plain": [
       "                    map       mrr  avg_sr  avg_ndcg  avg_p5\n",
       "Ensemble wfm_sc  0.6092  0.823333     0.9  0.814509   0.516"
      ]
     },
     "metadata": {},
     "output_type": "display_data"
    },
    {
     "name": "stdout",
     "output_type": "stream",
     "text": [
      "Pruned_ 7\n"
     ]
    },
    {
     "data": {
      "text/html": [
       "<div>\n",
       "<style scoped>\n",
       "    .dataframe tbody tr th:only-of-type {\n",
       "        vertical-align: middle;\n",
       "    }\n",
       "\n",
       "    .dataframe tbody tr th {\n",
       "        vertical-align: top;\n",
       "    }\n",
       "\n",
       "    .dataframe thead th {\n",
       "        text-align: right;\n",
       "    }\n",
       "</style>\n",
       "<table border=\"1\" class=\"dataframe\">\n",
       "  <thead>\n",
       "    <tr style=\"text-align: right;\">\n",
       "      <th></th>\n",
       "      <th>map</th>\n",
       "      <th>mrr</th>\n",
       "      <th>avg_sr</th>\n",
       "      <th>avg_ndcg</th>\n",
       "      <th>avg_p5</th>\n",
       "    </tr>\n",
       "  </thead>\n",
       "  <tbody>\n",
       "    <tr>\n",
       "      <th>Ensemble wfm_sc</th>\n",
       "      <td>0.64955</td>\n",
       "      <td>0.896396</td>\n",
       "      <td>0.945946</td>\n",
       "      <td>0.875443</td>\n",
       "      <td>0.540541</td>\n",
       "    </tr>\n",
       "  </tbody>\n",
       "</table>\n",
       "</div>"
      ],
      "text/plain": [
       "                     map       mrr    avg_sr  avg_ndcg    avg_p5\n",
       "Ensemble wfm_sc  0.64955  0.896396  0.945946  0.875443  0.540541"
      ]
     },
     "metadata": {},
     "output_type": "display_data"
    },
    {
     "name": "stdout",
     "output_type": "stream",
     "text": [
      "Pruned_ 8\n"
     ]
    },
    {
     "data": {
      "text/html": [
       "<div>\n",
       "<style scoped>\n",
       "    .dataframe tbody tr th:only-of-type {\n",
       "        vertical-align: middle;\n",
       "    }\n",
       "\n",
       "    .dataframe tbody tr th {\n",
       "        vertical-align: top;\n",
       "    }\n",
       "\n",
       "    .dataframe thead th {\n",
       "        text-align: right;\n",
       "    }\n",
       "</style>\n",
       "<table border=\"1\" class=\"dataframe\">\n",
       "  <thead>\n",
       "    <tr style=\"text-align: right;\">\n",
       "      <th></th>\n",
       "      <th>map</th>\n",
       "      <th>mrr</th>\n",
       "      <th>avg_sr</th>\n",
       "      <th>avg_ndcg</th>\n",
       "      <th>avg_p5</th>\n",
       "    </tr>\n",
       "  </thead>\n",
       "  <tbody>\n",
       "    <tr>\n",
       "      <th>Ensemble wfm_sc</th>\n",
       "      <td>0.636042</td>\n",
       "      <td>0.895833</td>\n",
       "      <td>0.9375</td>\n",
       "      <td>0.870953</td>\n",
       "      <td>0.51875</td>\n",
       "    </tr>\n",
       "  </tbody>\n",
       "</table>\n",
       "</div>"
      ],
      "text/plain": [
       "                      map       mrr  avg_sr  avg_ndcg   avg_p5\n",
       "Ensemble wfm_sc  0.636042  0.895833  0.9375  0.870953  0.51875"
      ]
     },
     "metadata": {},
     "output_type": "display_data"
    },
    {
     "name": "stdout",
     "output_type": "stream",
     "text": [
      "Pruned_ 9\n"
     ]
    },
    {
     "data": {
      "text/html": [
       "<div>\n",
       "<style scoped>\n",
       "    .dataframe tbody tr th:only-of-type {\n",
       "        vertical-align: middle;\n",
       "    }\n",
       "\n",
       "    .dataframe tbody tr th {\n",
       "        vertical-align: top;\n",
       "    }\n",
       "\n",
       "    .dataframe thead th {\n",
       "        text-align: right;\n",
       "    }\n",
       "</style>\n",
       "<table border=\"1\" class=\"dataframe\">\n",
       "  <thead>\n",
       "    <tr style=\"text-align: right;\">\n",
       "      <th></th>\n",
       "      <th>map</th>\n",
       "      <th>mrr</th>\n",
       "      <th>avg_sr</th>\n",
       "      <th>avg_ndcg</th>\n",
       "      <th>avg_p5</th>\n",
       "    </tr>\n",
       "  </thead>\n",
       "  <tbody>\n",
       "    <tr>\n",
       "      <th>Ensemble wfm_sc</th>\n",
       "      <td>0.636667</td>\n",
       "      <td>0.848485</td>\n",
       "      <td>0.909091</td>\n",
       "      <td>0.826412</td>\n",
       "      <td>0.554545</td>\n",
       "    </tr>\n",
       "  </tbody>\n",
       "</table>\n",
       "</div>"
      ],
      "text/plain": [
       "                      map       mrr    avg_sr  avg_ndcg    avg_p5\n",
       "Ensemble wfm_sc  0.636667  0.848485  0.909091  0.826412  0.554545"
      ]
     },
     "metadata": {},
     "output_type": "display_data"
    },
    {
     "name": "stdout",
     "output_type": "stream",
     "text": [
      "Pruned_ 10\n"
     ]
    },
    {
     "data": {
      "text/html": [
       "<div>\n",
       "<style scoped>\n",
       "    .dataframe tbody tr th:only-of-type {\n",
       "        vertical-align: middle;\n",
       "    }\n",
       "\n",
       "    .dataframe tbody tr th {\n",
       "        vertical-align: top;\n",
       "    }\n",
       "\n",
       "    .dataframe thead th {\n",
       "        text-align: right;\n",
       "    }\n",
       "</style>\n",
       "<table border=\"1\" class=\"dataframe\">\n",
       "  <thead>\n",
       "    <tr style=\"text-align: right;\">\n",
       "      <th></th>\n",
       "      <th>map</th>\n",
       "      <th>mrr</th>\n",
       "      <th>avg_sr</th>\n",
       "      <th>avg_ndcg</th>\n",
       "      <th>avg_p5</th>\n",
       "    </tr>\n",
       "  </thead>\n",
       "  <tbody>\n",
       "    <tr>\n",
       "      <th>Ensemble wfm_sc</th>\n",
       "      <td>0.643</td>\n",
       "      <td>0.883333</td>\n",
       "      <td>1.0</td>\n",
       "      <td>0.900259</td>\n",
       "      <td>0.54</td>\n",
       "    </tr>\n",
       "  </tbody>\n",
       "</table>\n",
       "</div>"
      ],
      "text/plain": [
       "                   map       mrr  avg_sr  avg_ndcg  avg_p5\n",
       "Ensemble wfm_sc  0.643  0.883333     1.0  0.900259    0.54"
      ]
     },
     "metadata": {},
     "output_type": "display_data"
    },
    {
     "name": "stdout",
     "output_type": "stream",
     "text": [
      "[84, 87, 89, 89, 88, 90, 95, 94, 91, 100]\n"
     ]
    }
   ],
   "source": [
    "ml = []\n",
    "for i in range(1,11):\n",
    "    print('Pruned_',i)\n",
    "    df1 = pd.read_csv(\"/home/ritwik/git/AshaQnA/other_codes/Metrics/Data/E_37_pruned_\"+str(i)+\".csv\")\n",
    "    mat_bin = get_data(df1[[\"final_1\",\"final_2\",\"final_3\",\"final_4\",\"final_5\"]],[1,2])\n",
    "    display(pd.DataFrame(calc_metrics(df1),index=df1.Model_name.unique()))\n",
    "    ml.append(round(calc_metrics(df1)['avg_sr']*100))\n",
    "print(ml)"
   ]
  },
  {
   "cell_type": "code",
   "execution_count": 93,
   "metadata": {
    "hidden": true
   },
   "outputs": [
    {
     "data": {
      "text/html": [
       "<div>\n",
       "<style scoped>\n",
       "    .dataframe tbody tr th:only-of-type {\n",
       "        vertical-align: middle;\n",
       "    }\n",
       "\n",
       "    .dataframe tbody tr th {\n",
       "        vertical-align: top;\n",
       "    }\n",
       "\n",
       "    .dataframe thead th {\n",
       "        text-align: right;\n",
       "    }\n",
       "</style>\n",
       "<table border=\"1\" class=\"dataframe\">\n",
       "  <thead>\n",
       "    <tr style=\"text-align: right;\">\n",
       "      <th></th>\n",
       "      <th>map</th>\n",
       "      <th>mrr</th>\n",
       "      <th>avg_sr</th>\n",
       "      <th>avg_ndcg</th>\n",
       "      <th>avg_p3</th>\n",
       "    </tr>\n",
       "  </thead>\n",
       "  <tbody>\n",
       "    <tr>\n",
       "      <th>Ensemble wfm_sc</th>\n",
       "      <td>0.422222</td>\n",
       "      <td>0.575926</td>\n",
       "      <td>0.688889</td>\n",
       "      <td>0.588076</td>\n",
       "      <td>0.362963</td>\n",
       "    </tr>\n",
       "  </tbody>\n",
       "</table>\n",
       "</div>"
      ],
      "text/plain": [
       "                      map       mrr    avg_sr  avg_ndcg    avg_p3\n",
       "Ensemble wfm_sc  0.422222  0.575926  0.688889  0.588076  0.362963"
      ]
     },
     "execution_count": 93,
     "metadata": {},
     "output_type": "execute_result"
    }
   ],
   "source": [
    "# E31 (inshorts 400 sent pairs)\n",
    "pd.DataFrame(calc_metrics(df1),index=df1.Model_name.unique())"
   ]
  },
  {
   "cell_type": "code",
   "execution_count": 94,
   "metadata": {
    "collapsed": true,
    "hidden": true
   },
   "outputs": [
    {
     "name": "stdout",
     "output_type": "stream",
     "text": [
      "Pruned_ 1\n"
     ]
    },
    {
     "data": {
      "text/html": [
       "<div>\n",
       "<style scoped>\n",
       "    .dataframe tbody tr th:only-of-type {\n",
       "        vertical-align: middle;\n",
       "    }\n",
       "\n",
       "    .dataframe tbody tr th {\n",
       "        vertical-align: top;\n",
       "    }\n",
       "\n",
       "    .dataframe thead th {\n",
       "        text-align: right;\n",
       "    }\n",
       "</style>\n",
       "<table border=\"1\" class=\"dataframe\">\n",
       "  <thead>\n",
       "    <tr style=\"text-align: right;\">\n",
       "      <th></th>\n",
       "      <th>map</th>\n",
       "      <th>mrr</th>\n",
       "      <th>avg_sr</th>\n",
       "      <th>avg_ndcg</th>\n",
       "      <th>avg_p3</th>\n",
       "    </tr>\n",
       "  </thead>\n",
       "  <tbody>\n",
       "    <tr>\n",
       "      <th>Ensemble wfm_sc</th>\n",
       "      <td>0.515952</td>\n",
       "      <td>0.684818</td>\n",
       "      <td>0.79703</td>\n",
       "      <td>0.6911</td>\n",
       "      <td>0.443894</td>\n",
       "    </tr>\n",
       "  </tbody>\n",
       "</table>\n",
       "</div>"
      ],
      "text/plain": [
       "                      map       mrr   avg_sr  avg_ndcg    avg_p3\n",
       "Ensemble wfm_sc  0.515952  0.684818  0.79703    0.6911  0.443894"
      ]
     },
     "metadata": {},
     "output_type": "display_data"
    },
    {
     "name": "stdout",
     "output_type": "stream",
     "text": [
      "Pruned_ 2\n"
     ]
    },
    {
     "data": {
      "text/html": [
       "<div>\n",
       "<style scoped>\n",
       "    .dataframe tbody tr th:only-of-type {\n",
       "        vertical-align: middle;\n",
       "    }\n",
       "\n",
       "    .dataframe tbody tr th {\n",
       "        vertical-align: top;\n",
       "    }\n",
       "\n",
       "    .dataframe thead th {\n",
       "        text-align: right;\n",
       "    }\n",
       "</style>\n",
       "<table border=\"1\" class=\"dataframe\">\n",
       "  <thead>\n",
       "    <tr style=\"text-align: right;\">\n",
       "      <th></th>\n",
       "      <th>map</th>\n",
       "      <th>mrr</th>\n",
       "      <th>avg_sr</th>\n",
       "      <th>avg_ndcg</th>\n",
       "      <th>avg_p3</th>\n",
       "    </tr>\n",
       "  </thead>\n",
       "  <tbody>\n",
       "    <tr>\n",
       "      <th>Ensemble wfm_sc</th>\n",
       "      <td>0.573465</td>\n",
       "      <td>0.734649</td>\n",
       "      <td>0.842105</td>\n",
       "      <td>0.733701</td>\n",
       "      <td>0.5</td>\n",
       "    </tr>\n",
       "  </tbody>\n",
       "</table>\n",
       "</div>"
      ],
      "text/plain": [
       "                      map       mrr    avg_sr  avg_ndcg  avg_p3\n",
       "Ensemble wfm_sc  0.573465  0.734649  0.842105  0.733701     0.5"
      ]
     },
     "metadata": {},
     "output_type": "display_data"
    },
    {
     "name": "stdout",
     "output_type": "stream",
     "text": [
      "Pruned_ 3\n"
     ]
    },
    {
     "data": {
      "text/html": [
       "<div>\n",
       "<style scoped>\n",
       "    .dataframe tbody tr th:only-of-type {\n",
       "        vertical-align: middle;\n",
       "    }\n",
       "\n",
       "    .dataframe tbody tr th {\n",
       "        vertical-align: top;\n",
       "    }\n",
       "\n",
       "    .dataframe thead th {\n",
       "        text-align: right;\n",
       "    }\n",
       "</style>\n",
       "<table border=\"1\" class=\"dataframe\">\n",
       "  <thead>\n",
       "    <tr style=\"text-align: right;\">\n",
       "      <th></th>\n",
       "      <th>map</th>\n",
       "      <th>mrr</th>\n",
       "      <th>avg_sr</th>\n",
       "      <th>avg_ndcg</th>\n",
       "      <th>avg_p3</th>\n",
       "    </tr>\n",
       "  </thead>\n",
       "  <tbody>\n",
       "    <tr>\n",
       "      <th>Ensemble wfm_sc</th>\n",
       "      <td>0.602116</td>\n",
       "      <td>0.760317</td>\n",
       "      <td>0.866667</td>\n",
       "      <td>0.752799</td>\n",
       "      <td>0.530159</td>\n",
       "    </tr>\n",
       "  </tbody>\n",
       "</table>\n",
       "</div>"
      ],
      "text/plain": [
       "                      map       mrr    avg_sr  avg_ndcg    avg_p3\n",
       "Ensemble wfm_sc  0.602116  0.760317  0.866667  0.752799  0.530159"
      ]
     },
     "metadata": {},
     "output_type": "display_data"
    },
    {
     "name": "stdout",
     "output_type": "stream",
     "text": [
      "Pruned_ 4\n"
     ]
    },
    {
     "data": {
      "text/html": [
       "<div>\n",
       "<style scoped>\n",
       "    .dataframe tbody tr th:only-of-type {\n",
       "        vertical-align: middle;\n",
       "    }\n",
       "\n",
       "    .dataframe tbody tr th {\n",
       "        vertical-align: top;\n",
       "    }\n",
       "\n",
       "    .dataframe thead th {\n",
       "        text-align: right;\n",
       "    }\n",
       "</style>\n",
       "<table border=\"1\" class=\"dataframe\">\n",
       "  <thead>\n",
       "    <tr style=\"text-align: right;\">\n",
       "      <th></th>\n",
       "      <th>map</th>\n",
       "      <th>mrr</th>\n",
       "      <th>avg_sr</th>\n",
       "      <th>avg_ndcg</th>\n",
       "      <th>avg_p3</th>\n",
       "    </tr>\n",
       "  </thead>\n",
       "  <tbody>\n",
       "    <tr>\n",
       "      <th>Ensemble wfm_sc</th>\n",
       "      <td>0.607764</td>\n",
       "      <td>0.76506</td>\n",
       "      <td>0.879518</td>\n",
       "      <td>0.757623</td>\n",
       "      <td>0.546185</td>\n",
       "    </tr>\n",
       "  </tbody>\n",
       "</table>\n",
       "</div>"
      ],
      "text/plain": [
       "                      map      mrr    avg_sr  avg_ndcg    avg_p3\n",
       "Ensemble wfm_sc  0.607764  0.76506  0.879518  0.757623  0.546185"
      ]
     },
     "metadata": {},
     "output_type": "display_data"
    },
    {
     "name": "stdout",
     "output_type": "stream",
     "text": [
      "Pruned_ 5\n"
     ]
    },
    {
     "data": {
      "text/html": [
       "<div>\n",
       "<style scoped>\n",
       "    .dataframe tbody tr th:only-of-type {\n",
       "        vertical-align: middle;\n",
       "    }\n",
       "\n",
       "    .dataframe tbody tr th {\n",
       "        vertical-align: top;\n",
       "    }\n",
       "\n",
       "    .dataframe thead th {\n",
       "        text-align: right;\n",
       "    }\n",
       "</style>\n",
       "<table border=\"1\" class=\"dataframe\">\n",
       "  <thead>\n",
       "    <tr style=\"text-align: right;\">\n",
       "      <th></th>\n",
       "      <th>map</th>\n",
       "      <th>mrr</th>\n",
       "      <th>avg_sr</th>\n",
       "      <th>avg_ndcg</th>\n",
       "      <th>avg_p3</th>\n",
       "    </tr>\n",
       "  </thead>\n",
       "  <tbody>\n",
       "    <tr>\n",
       "      <th>Ensemble wfm_sc</th>\n",
       "      <td>0.62906</td>\n",
       "      <td>0.779487</td>\n",
       "      <td>0.876923</td>\n",
       "      <td>0.761578</td>\n",
       "      <td>0.564103</td>\n",
       "    </tr>\n",
       "  </tbody>\n",
       "</table>\n",
       "</div>"
      ],
      "text/plain": [
       "                     map       mrr    avg_sr  avg_ndcg    avg_p3\n",
       "Ensemble wfm_sc  0.62906  0.779487  0.876923  0.761578  0.564103"
      ]
     },
     "metadata": {},
     "output_type": "display_data"
    },
    {
     "name": "stdout",
     "output_type": "stream",
     "text": [
      "Pruned_ 6\n"
     ]
    },
    {
     "data": {
      "text/html": [
       "<div>\n",
       "<style scoped>\n",
       "    .dataframe tbody tr th:only-of-type {\n",
       "        vertical-align: middle;\n",
       "    }\n",
       "\n",
       "    .dataframe tbody tr th {\n",
       "        vertical-align: top;\n",
       "    }\n",
       "\n",
       "    .dataframe thead th {\n",
       "        text-align: right;\n",
       "    }\n",
       "</style>\n",
       "<table border=\"1\" class=\"dataframe\">\n",
       "  <thead>\n",
       "    <tr style=\"text-align: right;\">\n",
       "      <th></th>\n",
       "      <th>map</th>\n",
       "      <th>mrr</th>\n",
       "      <th>avg_sr</th>\n",
       "      <th>avg_ndcg</th>\n",
       "      <th>avg_p3</th>\n",
       "    </tr>\n",
       "  </thead>\n",
       "  <tbody>\n",
       "    <tr>\n",
       "      <th>Ensemble wfm_sc</th>\n",
       "      <td>0.652222</td>\n",
       "      <td>0.8</td>\n",
       "      <td>0.88</td>\n",
       "      <td>0.772031</td>\n",
       "      <td>0.586667</td>\n",
       "    </tr>\n",
       "  </tbody>\n",
       "</table>\n",
       "</div>"
      ],
      "text/plain": [
       "                      map  mrr  avg_sr  avg_ndcg    avg_p3\n",
       "Ensemble wfm_sc  0.652222  0.8    0.88  0.772031  0.586667"
      ]
     },
     "metadata": {},
     "output_type": "display_data"
    },
    {
     "name": "stdout",
     "output_type": "stream",
     "text": [
      "Pruned_ 7\n"
     ]
    },
    {
     "data": {
      "text/html": [
       "<div>\n",
       "<style scoped>\n",
       "    .dataframe tbody tr th:only-of-type {\n",
       "        vertical-align: middle;\n",
       "    }\n",
       "\n",
       "    .dataframe tbody tr th {\n",
       "        vertical-align: top;\n",
       "    }\n",
       "\n",
       "    .dataframe thead th {\n",
       "        text-align: right;\n",
       "    }\n",
       "</style>\n",
       "<table border=\"1\" class=\"dataframe\">\n",
       "  <thead>\n",
       "    <tr style=\"text-align: right;\">\n",
       "      <th></th>\n",
       "      <th>map</th>\n",
       "      <th>mrr</th>\n",
       "      <th>avg_sr</th>\n",
       "      <th>avg_ndcg</th>\n",
       "      <th>avg_p3</th>\n",
       "    </tr>\n",
       "  </thead>\n",
       "  <tbody>\n",
       "    <tr>\n",
       "      <th>Ensemble wfm_sc</th>\n",
       "      <td>0.690691</td>\n",
       "      <td>0.846847</td>\n",
       "      <td>0.918919</td>\n",
       "      <td>0.815471</td>\n",
       "      <td>0.612613</td>\n",
       "    </tr>\n",
       "  </tbody>\n",
       "</table>\n",
       "</div>"
      ],
      "text/plain": [
       "                      map       mrr    avg_sr  avg_ndcg    avg_p3\n",
       "Ensemble wfm_sc  0.690691  0.846847  0.918919  0.815471  0.612613"
      ]
     },
     "metadata": {},
     "output_type": "display_data"
    },
    {
     "name": "stdout",
     "output_type": "stream",
     "text": [
      "Pruned_ 8\n"
     ]
    },
    {
     "data": {
      "text/html": [
       "<div>\n",
       "<style scoped>\n",
       "    .dataframe tbody tr th:only-of-type {\n",
       "        vertical-align: middle;\n",
       "    }\n",
       "\n",
       "    .dataframe tbody tr th {\n",
       "        vertical-align: top;\n",
       "    }\n",
       "\n",
       "    .dataframe thead th {\n",
       "        text-align: right;\n",
       "    }\n",
       "</style>\n",
       "<table border=\"1\" class=\"dataframe\">\n",
       "  <thead>\n",
       "    <tr style=\"text-align: right;\">\n",
       "      <th></th>\n",
       "      <th>map</th>\n",
       "      <th>mrr</th>\n",
       "      <th>avg_sr</th>\n",
       "      <th>avg_ndcg</th>\n",
       "      <th>avg_p3</th>\n",
       "    </tr>\n",
       "  </thead>\n",
       "  <tbody>\n",
       "    <tr>\n",
       "      <th>Ensemble wfm_sc</th>\n",
       "      <td>0.682292</td>\n",
       "      <td>0.838542</td>\n",
       "      <td>0.90625</td>\n",
       "      <td>0.803755</td>\n",
       "      <td>0.59375</td>\n",
       "    </tr>\n",
       "  </tbody>\n",
       "</table>\n",
       "</div>"
      ],
      "text/plain": [
       "                      map       mrr   avg_sr  avg_ndcg   avg_p3\n",
       "Ensemble wfm_sc  0.682292  0.838542  0.90625  0.803755  0.59375"
      ]
     },
     "metadata": {},
     "output_type": "display_data"
    },
    {
     "name": "stdout",
     "output_type": "stream",
     "text": [
      "Pruned_ 9\n"
     ]
    },
    {
     "data": {
      "text/html": [
       "<div>\n",
       "<style scoped>\n",
       "    .dataframe tbody tr th:only-of-type {\n",
       "        vertical-align: middle;\n",
       "    }\n",
       "\n",
       "    .dataframe tbody tr th {\n",
       "        vertical-align: top;\n",
       "    }\n",
       "\n",
       "    .dataframe thead th {\n",
       "        text-align: right;\n",
       "    }\n",
       "</style>\n",
       "<table border=\"1\" class=\"dataframe\">\n",
       "  <thead>\n",
       "    <tr style=\"text-align: right;\">\n",
       "      <th></th>\n",
       "      <th>map</th>\n",
       "      <th>mrr</th>\n",
       "      <th>avg_sr</th>\n",
       "      <th>avg_ndcg</th>\n",
       "      <th>avg_p3</th>\n",
       "    </tr>\n",
       "  </thead>\n",
       "  <tbody>\n",
       "    <tr>\n",
       "      <th>Ensemble wfm_sc</th>\n",
       "      <td>0.656566</td>\n",
       "      <td>0.787879</td>\n",
       "      <td>0.863636</td>\n",
       "      <td>0.742229</td>\n",
       "      <td>0.606061</td>\n",
       "    </tr>\n",
       "  </tbody>\n",
       "</table>\n",
       "</div>"
      ],
      "text/plain": [
       "                      map       mrr    avg_sr  avg_ndcg    avg_p3\n",
       "Ensemble wfm_sc  0.656566  0.787879  0.863636  0.742229  0.606061"
      ]
     },
     "metadata": {},
     "output_type": "display_data"
    },
    {
     "name": "stdout",
     "output_type": "stream",
     "text": [
      "Pruned_ 10\n"
     ]
    },
    {
     "data": {
      "text/html": [
       "<div>\n",
       "<style scoped>\n",
       "    .dataframe tbody tr th:only-of-type {\n",
       "        vertical-align: middle;\n",
       "    }\n",
       "\n",
       "    .dataframe tbody tr th {\n",
       "        vertical-align: top;\n",
       "    }\n",
       "\n",
       "    .dataframe thead th {\n",
       "        text-align: right;\n",
       "    }\n",
       "</style>\n",
       "<table border=\"1\" class=\"dataframe\">\n",
       "  <thead>\n",
       "    <tr style=\"text-align: right;\">\n",
       "      <th></th>\n",
       "      <th>map</th>\n",
       "      <th>mrr</th>\n",
       "      <th>avg_sr</th>\n",
       "      <th>avg_ndcg</th>\n",
       "      <th>avg_p3</th>\n",
       "    </tr>\n",
       "  </thead>\n",
       "  <tbody>\n",
       "    <tr>\n",
       "      <th>Ensemble wfm_sc</th>\n",
       "      <td>0.622222</td>\n",
       "      <td>0.783333</td>\n",
       "      <td>0.9</td>\n",
       "      <td>0.769296</td>\n",
       "      <td>0.566667</td>\n",
       "    </tr>\n",
       "  </tbody>\n",
       "</table>\n",
       "</div>"
      ],
      "text/plain": [
       "                      map       mrr  avg_sr  avg_ndcg    avg_p3\n",
       "Ensemble wfm_sc  0.622222  0.783333     0.9  0.769296  0.566667"
      ]
     },
     "metadata": {},
     "output_type": "display_data"
    },
    {
     "name": "stdout",
     "output_type": "stream",
     "text": [
      "[80, 84, 87, 88, 88, 88, 92, 91, 86, 90]\n"
     ]
    }
   ],
   "source": [
    "ml = []\n",
    "for i in range(1,11):\n",
    "    print('Pruned_',i)\n",
    "    df1 = pd.read_csv(\"/home/ritwik/git/AshaQnA/other_codes/Metrics/Data/E_31_pruned_\"+str(i)+\".csv\")\n",
    "    mat_bin = get_data(df1[[\"final_1\",\"final_2\",\"final_3\"]],[1,2])    \n",
    "    display(pd.DataFrame(calc_metrics(df1),index=df1.Model_name.unique()))\n",
    "    ml.append(round(calc_metrics(df1)['avg_sr']*100))\n",
    "print(ml)"
   ]
  },
  {
   "cell_type": "code",
   "execution_count": 98,
   "metadata": {
    "hidden": true
   },
   "outputs": [
    {
     "data": {
      "text/html": [
       "<div>\n",
       "<style scoped>\n",
       "    .dataframe tbody tr th:only-of-type {\n",
       "        vertical-align: middle;\n",
       "    }\n",
       "\n",
       "    .dataframe tbody tr th {\n",
       "        vertical-align: top;\n",
       "    }\n",
       "\n",
       "    .dataframe thead th {\n",
       "        text-align: right;\n",
       "    }\n",
       "</style>\n",
       "<table border=\"1\" class=\"dataframe\">\n",
       "  <thead>\n",
       "    <tr style=\"text-align: right;\">\n",
       "      <th></th>\n",
       "      <th>map</th>\n",
       "      <th>mrr</th>\n",
       "      <th>avg_sr</th>\n",
       "      <th>avg_ndcg</th>\n",
       "      <th>avg_p5</th>\n",
       "    </tr>\n",
       "  </thead>\n",
       "  <tbody>\n",
       "    <tr>\n",
       "      <th>Ensemble wfm_sc</th>\n",
       "      <td>0.376333</td>\n",
       "      <td>0.634691</td>\n",
       "      <td>0.762963</td>\n",
       "      <td>0.625804</td>\n",
       "      <td>0.291852</td>\n",
       "    </tr>\n",
       "  </tbody>\n",
       "</table>\n",
       "</div>"
      ],
      "text/plain": [
       "                      map       mrr    avg_sr  avg_ndcg    avg_p5\n",
       "Ensemble wfm_sc  0.376333  0.634691  0.762963  0.625804  0.291852"
      ]
     },
     "execution_count": 98,
     "metadata": {},
     "output_type": "execute_result"
    }
   ],
   "source": [
    "# E33 (inshorts 400 sent pairs) top5\n",
    "pd.DataFrame(calc_metrics(df1),index=df1.Model_name.unique())"
   ]
  },
  {
   "cell_type": "code",
   "execution_count": 286,
   "metadata": {
    "hidden": true
   },
   "outputs": [
    {
     "data": {
      "text/html": [
       "<div>\n",
       "<style scoped>\n",
       "    .dataframe tbody tr th:only-of-type {\n",
       "        vertical-align: middle;\n",
       "    }\n",
       "\n",
       "    .dataframe tbody tr th {\n",
       "        vertical-align: top;\n",
       "    }\n",
       "\n",
       "    .dataframe thead th {\n",
       "        text-align: right;\n",
       "    }\n",
       "</style>\n",
       "<table border=\"1\" class=\"dataframe\">\n",
       "  <thead>\n",
       "    <tr style=\"text-align: right;\">\n",
       "      <th></th>\n",
       "      <th>map</th>\n",
       "      <th>mrr</th>\n",
       "      <th>avg_sr</th>\n",
       "      <th>avg_ndcg</th>\n",
       "      <th>avg_p3</th>\n",
       "    </tr>\n",
       "  </thead>\n",
       "  <tbody>\n",
       "    <tr>\n",
       "      <th>Ensemble wfm_sc</th>\n",
       "      <td>0.425103</td>\n",
       "      <td>0.576543</td>\n",
       "      <td>0.677778</td>\n",
       "      <td>0.58605</td>\n",
       "      <td>0.364198</td>\n",
       "    </tr>\n",
       "  </tbody>\n",
       "</table>\n",
       "</div>"
      ],
      "text/plain": [
       "                      map       mrr    avg_sr  avg_ndcg    avg_p3\n",
       "Ensemble wfm_sc  0.425103  0.576543  0.677778   0.58605  0.364198"
      ]
     },
     "execution_count": 286,
     "metadata": {},
     "output_type": "execute_result"
    }
   ],
   "source": [
    "# E24 (inshorts 400 sent pairs)\n",
    "pd.DataFrame(calc_metrics(df1),index=df1.Model_name.unique())"
   ]
  },
  {
   "cell_type": "code",
   "execution_count": 360,
   "metadata": {
    "collapsed": true,
    "hidden": true
   },
   "outputs": [
    {
     "name": "stdout",
     "output_type": "stream",
     "text": [
      "Pruned_ 1\n"
     ]
    },
    {
     "data": {
      "text/html": [
       "<div>\n",
       "<style scoped>\n",
       "    .dataframe tbody tr th:only-of-type {\n",
       "        vertical-align: middle;\n",
       "    }\n",
       "\n",
       "    .dataframe tbody tr th {\n",
       "        vertical-align: top;\n",
       "    }\n",
       "\n",
       "    .dataframe thead th {\n",
       "        text-align: right;\n",
       "    }\n",
       "</style>\n",
       "<table border=\"1\" class=\"dataframe\">\n",
       "  <thead>\n",
       "    <tr style=\"text-align: right;\">\n",
       "      <th></th>\n",
       "      <th>map</th>\n",
       "      <th>mrr</th>\n",
       "      <th>avg_sr</th>\n",
       "      <th>avg_ndcg</th>\n",
       "      <th>avg_p3</th>\n",
       "    </tr>\n",
       "  </thead>\n",
       "  <tbody>\n",
       "    <tr>\n",
       "      <th>Ensemble wfm_sc</th>\n",
       "      <td>0.515677</td>\n",
       "      <td>0.679868</td>\n",
       "      <td>0.782178</td>\n",
       "      <td>0.684089</td>\n",
       "      <td>0.445545</td>\n",
       "    </tr>\n",
       "  </tbody>\n",
       "</table>\n",
       "</div>"
      ],
      "text/plain": [
       "                      map       mrr    avg_sr  avg_ndcg    avg_p3\n",
       "Ensemble wfm_sc  0.515677  0.679868  0.782178  0.684089  0.445545"
      ]
     },
     "metadata": {},
     "output_type": "display_data"
    },
    {
     "name": "stdout",
     "output_type": "stream",
     "text": [
      "Pruned_ 2\n"
     ]
    },
    {
     "data": {
      "text/html": [
       "<div>\n",
       "<style scoped>\n",
       "    .dataframe tbody tr th:only-of-type {\n",
       "        vertical-align: middle;\n",
       "    }\n",
       "\n",
       "    .dataframe tbody tr th {\n",
       "        vertical-align: top;\n",
       "    }\n",
       "\n",
       "    .dataframe thead th {\n",
       "        text-align: right;\n",
       "    }\n",
       "</style>\n",
       "<table border=\"1\" class=\"dataframe\">\n",
       "  <thead>\n",
       "    <tr style=\"text-align: right;\">\n",
       "      <th></th>\n",
       "      <th>map</th>\n",
       "      <th>mrr</th>\n",
       "      <th>avg_sr</th>\n",
       "      <th>avg_ndcg</th>\n",
       "      <th>avg_p3</th>\n",
       "    </tr>\n",
       "  </thead>\n",
       "  <tbody>\n",
       "    <tr>\n",
       "      <th>Ensemble wfm_sc</th>\n",
       "      <td>0.57383</td>\n",
       "      <td>0.730263</td>\n",
       "      <td>0.828947</td>\n",
       "      <td>0.727673</td>\n",
       "      <td>0.504386</td>\n",
       "    </tr>\n",
       "  </tbody>\n",
       "</table>\n",
       "</div>"
      ],
      "text/plain": [
       "                     map       mrr    avg_sr  avg_ndcg    avg_p3\n",
       "Ensemble wfm_sc  0.57383  0.730263  0.828947  0.727673  0.504386"
      ]
     },
     "metadata": {},
     "output_type": "display_data"
    },
    {
     "name": "stdout",
     "output_type": "stream",
     "text": [
      "Pruned_ 3\n"
     ]
    },
    {
     "data": {
      "text/html": [
       "<div>\n",
       "<style scoped>\n",
       "    .dataframe tbody tr th:only-of-type {\n",
       "        vertical-align: middle;\n",
       "    }\n",
       "\n",
       "    .dataframe tbody tr th {\n",
       "        vertical-align: top;\n",
       "    }\n",
       "\n",
       "    .dataframe thead th {\n",
       "        text-align: right;\n",
       "    }\n",
       "</style>\n",
       "<table border=\"1\" class=\"dataframe\">\n",
       "  <thead>\n",
       "    <tr style=\"text-align: right;\">\n",
       "      <th></th>\n",
       "      <th>map</th>\n",
       "      <th>mrr</th>\n",
       "      <th>avg_sr</th>\n",
       "      <th>avg_ndcg</th>\n",
       "      <th>avg_p3</th>\n",
       "    </tr>\n",
       "  </thead>\n",
       "  <tbody>\n",
       "    <tr>\n",
       "      <th>Ensemble wfm_sc</th>\n",
       "      <td>0.600529</td>\n",
       "      <td>0.749206</td>\n",
       "      <td>0.847619</td>\n",
       "      <td>0.738299</td>\n",
       "      <td>0.539683</td>\n",
       "    </tr>\n",
       "  </tbody>\n",
       "</table>\n",
       "</div>"
      ],
      "text/plain": [
       "                      map       mrr    avg_sr  avg_ndcg    avg_p3\n",
       "Ensemble wfm_sc  0.600529  0.749206  0.847619  0.738299  0.539683"
      ]
     },
     "metadata": {},
     "output_type": "display_data"
    },
    {
     "name": "stdout",
     "output_type": "stream",
     "text": [
      "Pruned_ 4\n"
     ]
    },
    {
     "data": {
      "text/html": [
       "<div>\n",
       "<style scoped>\n",
       "    .dataframe tbody tr th:only-of-type {\n",
       "        vertical-align: middle;\n",
       "    }\n",
       "\n",
       "    .dataframe tbody tr th {\n",
       "        vertical-align: top;\n",
       "    }\n",
       "\n",
       "    .dataframe thead th {\n",
       "        text-align: right;\n",
       "    }\n",
       "</style>\n",
       "<table border=\"1\" class=\"dataframe\">\n",
       "  <thead>\n",
       "    <tr style=\"text-align: right;\">\n",
       "      <th></th>\n",
       "      <th>map</th>\n",
       "      <th>mrr</th>\n",
       "      <th>avg_sr</th>\n",
       "      <th>avg_ndcg</th>\n",
       "      <th>avg_p3</th>\n",
       "    </tr>\n",
       "  </thead>\n",
       "  <tbody>\n",
       "    <tr>\n",
       "      <th>Ensemble wfm_sc</th>\n",
       "      <td>0.610442</td>\n",
       "      <td>0.761044</td>\n",
       "      <td>0.855422</td>\n",
       "      <td>0.744905</td>\n",
       "      <td>0.554217</td>\n",
       "    </tr>\n",
       "  </tbody>\n",
       "</table>\n",
       "</div>"
      ],
      "text/plain": [
       "                      map       mrr    avg_sr  avg_ndcg    avg_p3\n",
       "Ensemble wfm_sc  0.610442  0.761044  0.855422  0.744905  0.554217"
      ]
     },
     "metadata": {},
     "output_type": "display_data"
    },
    {
     "name": "stdout",
     "output_type": "stream",
     "text": [
      "Pruned_ 5\n"
     ]
    },
    {
     "data": {
      "text/html": [
       "<div>\n",
       "<style scoped>\n",
       "    .dataframe tbody tr th:only-of-type {\n",
       "        vertical-align: middle;\n",
       "    }\n",
       "\n",
       "    .dataframe tbody tr th {\n",
       "        vertical-align: top;\n",
       "    }\n",
       "\n",
       "    .dataframe thead th {\n",
       "        text-align: right;\n",
       "    }\n",
       "</style>\n",
       "<table border=\"1\" class=\"dataframe\">\n",
       "  <thead>\n",
       "    <tr style=\"text-align: right;\">\n",
       "      <th></th>\n",
       "      <th>map</th>\n",
       "      <th>mrr</th>\n",
       "      <th>avg_sr</th>\n",
       "      <th>avg_ndcg</th>\n",
       "      <th>avg_p3</th>\n",
       "    </tr>\n",
       "  </thead>\n",
       "  <tbody>\n",
       "    <tr>\n",
       "      <th>Ensemble wfm_sc</th>\n",
       "      <td>0.62906</td>\n",
       "      <td>0.771795</td>\n",
       "      <td>0.861538</td>\n",
       "      <td>0.747053</td>\n",
       "      <td>0.579487</td>\n",
       "    </tr>\n",
       "  </tbody>\n",
       "</table>\n",
       "</div>"
      ],
      "text/plain": [
       "                     map       mrr    avg_sr  avg_ndcg    avg_p3\n",
       "Ensemble wfm_sc  0.62906  0.771795  0.861538  0.747053  0.579487"
      ]
     },
     "metadata": {},
     "output_type": "display_data"
    },
    {
     "name": "stdout",
     "output_type": "stream",
     "text": [
      "Pruned_ 6\n"
     ]
    },
    {
     "data": {
      "text/html": [
       "<div>\n",
       "<style scoped>\n",
       "    .dataframe tbody tr th:only-of-type {\n",
       "        vertical-align: middle;\n",
       "    }\n",
       "\n",
       "    .dataframe tbody tr th {\n",
       "        vertical-align: top;\n",
       "    }\n",
       "\n",
       "    .dataframe thead th {\n",
       "        text-align: right;\n",
       "    }\n",
       "</style>\n",
       "<table border=\"1\" class=\"dataframe\">\n",
       "  <thead>\n",
       "    <tr style=\"text-align: right;\">\n",
       "      <th></th>\n",
       "      <th>map</th>\n",
       "      <th>mrr</th>\n",
       "      <th>avg_sr</th>\n",
       "      <th>avg_ndcg</th>\n",
       "      <th>avg_p3</th>\n",
       "    </tr>\n",
       "  </thead>\n",
       "  <tbody>\n",
       "    <tr>\n",
       "      <th>Ensemble wfm_sc</th>\n",
       "      <td>0.651111</td>\n",
       "      <td>0.783333</td>\n",
       "      <td>0.84</td>\n",
       "      <td>0.744754</td>\n",
       "      <td>0.593333</td>\n",
       "    </tr>\n",
       "  </tbody>\n",
       "</table>\n",
       "</div>"
      ],
      "text/plain": [
       "                      map       mrr  avg_sr  avg_ndcg    avg_p3\n",
       "Ensemble wfm_sc  0.651111  0.783333    0.84  0.744754  0.593333"
      ]
     },
     "metadata": {},
     "output_type": "display_data"
    },
    {
     "name": "stdout",
     "output_type": "stream",
     "text": [
      "Pruned_ 7\n"
     ]
    },
    {
     "data": {
      "text/html": [
       "<div>\n",
       "<style scoped>\n",
       "    .dataframe tbody tr th:only-of-type {\n",
       "        vertical-align: middle;\n",
       "    }\n",
       "\n",
       "    .dataframe tbody tr th {\n",
       "        vertical-align: top;\n",
       "    }\n",
       "\n",
       "    .dataframe thead th {\n",
       "        text-align: right;\n",
       "    }\n",
       "</style>\n",
       "<table border=\"1\" class=\"dataframe\">\n",
       "  <thead>\n",
       "    <tr style=\"text-align: right;\">\n",
       "      <th></th>\n",
       "      <th>map</th>\n",
       "      <th>mrr</th>\n",
       "      <th>avg_sr</th>\n",
       "      <th>avg_ndcg</th>\n",
       "      <th>avg_p3</th>\n",
       "    </tr>\n",
       "  </thead>\n",
       "  <tbody>\n",
       "    <tr>\n",
       "      <th>Ensemble wfm_sc</th>\n",
       "      <td>0.681682</td>\n",
       "      <td>0.81982</td>\n",
       "      <td>0.864865</td>\n",
       "      <td>0.777242</td>\n",
       "      <td>0.612613</td>\n",
       "    </tr>\n",
       "  </tbody>\n",
       "</table>\n",
       "</div>"
      ],
      "text/plain": [
       "                      map      mrr    avg_sr  avg_ndcg    avg_p3\n",
       "Ensemble wfm_sc  0.681682  0.81982  0.864865  0.777242  0.612613"
      ]
     },
     "metadata": {},
     "output_type": "display_data"
    },
    {
     "name": "stdout",
     "output_type": "stream",
     "text": [
      "Pruned_ 8\n"
     ]
    },
    {
     "data": {
      "text/html": [
       "<div>\n",
       "<style scoped>\n",
       "    .dataframe tbody tr th:only-of-type {\n",
       "        vertical-align: middle;\n",
       "    }\n",
       "\n",
       "    .dataframe tbody tr th {\n",
       "        vertical-align: top;\n",
       "    }\n",
       "\n",
       "    .dataframe thead th {\n",
       "        text-align: right;\n",
       "    }\n",
       "</style>\n",
       "<table border=\"1\" class=\"dataframe\">\n",
       "  <thead>\n",
       "    <tr style=\"text-align: right;\">\n",
       "      <th></th>\n",
       "      <th>map</th>\n",
       "      <th>mrr</th>\n",
       "      <th>avg_sr</th>\n",
       "      <th>avg_ndcg</th>\n",
       "      <th>avg_p3</th>\n",
       "    </tr>\n",
       "  </thead>\n",
       "  <tbody>\n",
       "    <tr>\n",
       "      <th>Ensemble wfm_sc</th>\n",
       "      <td>0.668403</td>\n",
       "      <td>0.807292</td>\n",
       "      <td>0.84375</td>\n",
       "      <td>0.768</td>\n",
       "      <td>0.583333</td>\n",
       "    </tr>\n",
       "  </tbody>\n",
       "</table>\n",
       "</div>"
      ],
      "text/plain": [
       "                      map       mrr   avg_sr  avg_ndcg    avg_p3\n",
       "Ensemble wfm_sc  0.668403  0.807292  0.84375     0.768  0.583333"
      ]
     },
     "metadata": {},
     "output_type": "display_data"
    },
    {
     "name": "stdout",
     "output_type": "stream",
     "text": [
      "Pruned_ 9\n"
     ]
    },
    {
     "data": {
      "text/html": [
       "<div>\n",
       "<style scoped>\n",
       "    .dataframe tbody tr th:only-of-type {\n",
       "        vertical-align: middle;\n",
       "    }\n",
       "\n",
       "    .dataframe tbody tr th {\n",
       "        vertical-align: top;\n",
       "    }\n",
       "\n",
       "    .dataframe thead th {\n",
       "        text-align: right;\n",
       "    }\n",
       "</style>\n",
       "<table border=\"1\" class=\"dataframe\">\n",
       "  <thead>\n",
       "    <tr style=\"text-align: right;\">\n",
       "      <th></th>\n",
       "      <th>map</th>\n",
       "      <th>mrr</th>\n",
       "      <th>avg_sr</th>\n",
       "      <th>avg_ndcg</th>\n",
       "      <th>avg_p3</th>\n",
       "    </tr>\n",
       "  </thead>\n",
       "  <tbody>\n",
       "    <tr>\n",
       "      <th>Ensemble wfm_sc</th>\n",
       "      <td>0.679293</td>\n",
       "      <td>0.810606</td>\n",
       "      <td>0.863636</td>\n",
       "      <td>0.775256</td>\n",
       "      <td>0.606061</td>\n",
       "    </tr>\n",
       "  </tbody>\n",
       "</table>\n",
       "</div>"
      ],
      "text/plain": [
       "                      map       mrr    avg_sr  avg_ndcg    avg_p3\n",
       "Ensemble wfm_sc  0.679293  0.810606  0.863636  0.775256  0.606061"
      ]
     },
     "metadata": {},
     "output_type": "display_data"
    },
    {
     "name": "stdout",
     "output_type": "stream",
     "text": [
      "Pruned_ 10\n"
     ]
    },
    {
     "data": {
      "text/html": [
       "<div>\n",
       "<style scoped>\n",
       "    .dataframe tbody tr th:only-of-type {\n",
       "        vertical-align: middle;\n",
       "    }\n",
       "\n",
       "    .dataframe tbody tr th {\n",
       "        vertical-align: top;\n",
       "    }\n",
       "\n",
       "    .dataframe thead th {\n",
       "        text-align: right;\n",
       "    }\n",
       "</style>\n",
       "<table border=\"1\" class=\"dataframe\">\n",
       "  <thead>\n",
       "    <tr style=\"text-align: right;\">\n",
       "      <th></th>\n",
       "      <th>map</th>\n",
       "      <th>mrr</th>\n",
       "      <th>avg_sr</th>\n",
       "      <th>avg_ndcg</th>\n",
       "      <th>avg_p3</th>\n",
       "    </tr>\n",
       "  </thead>\n",
       "  <tbody>\n",
       "    <tr>\n",
       "      <th>Ensemble wfm_sc</th>\n",
       "      <td>0.655556</td>\n",
       "      <td>0.833333</td>\n",
       "      <td>0.9</td>\n",
       "      <td>0.822156</td>\n",
       "      <td>0.566667</td>\n",
       "    </tr>\n",
       "  </tbody>\n",
       "</table>\n",
       "</div>"
      ],
      "text/plain": [
       "                      map       mrr  avg_sr  avg_ndcg    avg_p3\n",
       "Ensemble wfm_sc  0.655556  0.833333     0.9  0.822156  0.566667"
      ]
     },
     "metadata": {},
     "output_type": "display_data"
    },
    {
     "name": "stdout",
     "output_type": "stream",
     "text": [
      "[78, 83, 85, 86, 86, 84, 86, 84, 86, 90]\n"
     ]
    }
   ],
   "source": [
    "ml = []\n",
    "for i in range(1,11):\n",
    "    print('Pruned_',i)\n",
    "    df1 = pd.read_csv(\"/home/ritwik/git/AshaQnA/other_codes/Metrics/Data/E_24_pruned_\"+str(i)+\".csv\")\n",
    "    mat_bin = get_data(df1[[\"final_1\",\"final_2\",\"final_3\"]],[1,2])    \n",
    "    display(pd.DataFrame(calc_metrics(df1),index=df1.Model_name.unique()))\n",
    "    ml.append(round(calc_metrics(df1)['avg_sr']*100))\n",
    "print(ml)"
   ]
  },
  {
   "cell_type": "code",
   "execution_count": 349,
   "metadata": {
    "hidden": true
   },
   "outputs": [
    {
     "data": {
      "text/html": [
       "<div>\n",
       "<style scoped>\n",
       "    .dataframe tbody tr th:only-of-type {\n",
       "        vertical-align: middle;\n",
       "    }\n",
       "\n",
       "    .dataframe tbody tr th {\n",
       "        vertical-align: top;\n",
       "    }\n",
       "\n",
       "    .dataframe thead th {\n",
       "        text-align: right;\n",
       "    }\n",
       "</style>\n",
       "<table border=\"1\" class=\"dataframe\">\n",
       "  <thead>\n",
       "    <tr style=\"text-align: right;\">\n",
       "      <th></th>\n",
       "      <th>map</th>\n",
       "      <th>mrr</th>\n",
       "      <th>avg_sr</th>\n",
       "      <th>avg_ndcg</th>\n",
       "      <th>avg_p3</th>\n",
       "    </tr>\n",
       "  </thead>\n",
       "  <tbody>\n",
       "    <tr>\n",
       "      <th>Ensemble wfm_sc</th>\n",
       "      <td>0.428189</td>\n",
       "      <td>0.58642</td>\n",
       "      <td>0.688889</td>\n",
       "      <td>0.59684</td>\n",
       "      <td>0.364198</td>\n",
       "    </tr>\n",
       "  </tbody>\n",
       "</table>\n",
       "</div>"
      ],
      "text/plain": [
       "                      map      mrr    avg_sr  avg_ndcg    avg_p3\n",
       "Ensemble wfm_sc  0.428189  0.58642  0.688889   0.59684  0.364198"
      ]
     },
     "execution_count": 349,
     "metadata": {},
     "output_type": "execute_result"
    }
   ],
   "source": [
    "# E25 (asha_sentsim dataset)\n",
    "pd.DataFrame(calc_metrics(df1),index=df1.Model_name.unique())"
   ]
  },
  {
   "cell_type": "code",
   "execution_count": 351,
   "metadata": {
    "collapsed": true,
    "hidden": true
   },
   "outputs": [
    {
     "name": "stdout",
     "output_type": "stream",
     "text": [
      "Pruned_ 1\n"
     ]
    },
    {
     "data": {
      "text/html": [
       "<div>\n",
       "<style scoped>\n",
       "    .dataframe tbody tr th:only-of-type {\n",
       "        vertical-align: middle;\n",
       "    }\n",
       "\n",
       "    .dataframe tbody tr th {\n",
       "        vertical-align: top;\n",
       "    }\n",
       "\n",
       "    .dataframe thead th {\n",
       "        text-align: right;\n",
       "    }\n",
       "</style>\n",
       "<table border=\"1\" class=\"dataframe\">\n",
       "  <thead>\n",
       "    <tr style=\"text-align: right;\">\n",
       "      <th></th>\n",
       "      <th>map</th>\n",
       "      <th>mrr</th>\n",
       "      <th>avg_sr</th>\n",
       "      <th>avg_ndcg</th>\n",
       "      <th>avg_p3</th>\n",
       "    </tr>\n",
       "  </thead>\n",
       "  <tbody>\n",
       "    <tr>\n",
       "      <th>Ensemble wfm_sc</th>\n",
       "      <td>0.525853</td>\n",
       "      <td>0.70297</td>\n",
       "      <td>0.806931</td>\n",
       "      <td>0.708413</td>\n",
       "      <td>0.448845</td>\n",
       "    </tr>\n",
       "  </tbody>\n",
       "</table>\n",
       "</div>"
      ],
      "text/plain": [
       "                      map      mrr    avg_sr  avg_ndcg    avg_p3\n",
       "Ensemble wfm_sc  0.525853  0.70297  0.806931  0.708413  0.448845"
      ]
     },
     "metadata": {},
     "output_type": "display_data"
    },
    {
     "name": "stdout",
     "output_type": "stream",
     "text": [
      "Pruned_ 2\n"
     ]
    },
    {
     "data": {
      "text/html": [
       "<div>\n",
       "<style scoped>\n",
       "    .dataframe tbody tr th:only-of-type {\n",
       "        vertical-align: middle;\n",
       "    }\n",
       "\n",
       "    .dataframe tbody tr th {\n",
       "        vertical-align: top;\n",
       "    }\n",
       "\n",
       "    .dataframe thead th {\n",
       "        text-align: right;\n",
       "    }\n",
       "</style>\n",
       "<table border=\"1\" class=\"dataframe\">\n",
       "  <thead>\n",
       "    <tr style=\"text-align: right;\">\n",
       "      <th></th>\n",
       "      <th>map</th>\n",
       "      <th>mrr</th>\n",
       "      <th>avg_sr</th>\n",
       "      <th>avg_ndcg</th>\n",
       "      <th>avg_p3</th>\n",
       "    </tr>\n",
       "  </thead>\n",
       "  <tbody>\n",
       "    <tr>\n",
       "      <th>Ensemble wfm_sc</th>\n",
       "      <td>0.577485</td>\n",
       "      <td>0.745614</td>\n",
       "      <td>0.842105</td>\n",
       "      <td>0.742913</td>\n",
       "      <td>0.502193</td>\n",
       "    </tr>\n",
       "  </tbody>\n",
       "</table>\n",
       "</div>"
      ],
      "text/plain": [
       "                      map       mrr    avg_sr  avg_ndcg    avg_p3\n",
       "Ensemble wfm_sc  0.577485  0.745614  0.842105  0.742913  0.502193"
      ]
     },
     "metadata": {},
     "output_type": "display_data"
    },
    {
     "name": "stdout",
     "output_type": "stream",
     "text": [
      "Pruned_ 3\n"
     ]
    },
    {
     "data": {
      "text/html": [
       "<div>\n",
       "<style scoped>\n",
       "    .dataframe tbody tr th:only-of-type {\n",
       "        vertical-align: middle;\n",
       "    }\n",
       "\n",
       "    .dataframe tbody tr th {\n",
       "        vertical-align: top;\n",
       "    }\n",
       "\n",
       "    .dataframe thead th {\n",
       "        text-align: right;\n",
       "    }\n",
       "</style>\n",
       "<table border=\"1\" class=\"dataframe\">\n",
       "  <thead>\n",
       "    <tr style=\"text-align: right;\">\n",
       "      <th></th>\n",
       "      <th>map</th>\n",
       "      <th>mrr</th>\n",
       "      <th>avg_sr</th>\n",
       "      <th>avg_ndcg</th>\n",
       "      <th>avg_p3</th>\n",
       "    </tr>\n",
       "  </thead>\n",
       "  <tbody>\n",
       "    <tr>\n",
       "      <th>Ensemble wfm_sc</th>\n",
       "      <td>0.609524</td>\n",
       "      <td>0.774603</td>\n",
       "      <td>0.866667</td>\n",
       "      <td>0.760696</td>\n",
       "      <td>0.542857</td>\n",
       "    </tr>\n",
       "  </tbody>\n",
       "</table>\n",
       "</div>"
      ],
      "text/plain": [
       "                      map       mrr    avg_sr  avg_ndcg    avg_p3\n",
       "Ensemble wfm_sc  0.609524  0.774603  0.866667  0.760696  0.542857"
      ]
     },
     "metadata": {},
     "output_type": "display_data"
    },
    {
     "name": "stdout",
     "output_type": "stream",
     "text": [
      "Pruned_ 4\n"
     ]
    },
    {
     "data": {
      "text/html": [
       "<div>\n",
       "<style scoped>\n",
       "    .dataframe tbody tr th:only-of-type {\n",
       "        vertical-align: middle;\n",
       "    }\n",
       "\n",
       "    .dataframe tbody tr th {\n",
       "        vertical-align: top;\n",
       "    }\n",
       "\n",
       "    .dataframe thead th {\n",
       "        text-align: right;\n",
       "    }\n",
       "</style>\n",
       "<table border=\"1\" class=\"dataframe\">\n",
       "  <thead>\n",
       "    <tr style=\"text-align: right;\">\n",
       "      <th></th>\n",
       "      <th>map</th>\n",
       "      <th>mrr</th>\n",
       "      <th>avg_sr</th>\n",
       "      <th>avg_ndcg</th>\n",
       "      <th>avg_p3</th>\n",
       "    </tr>\n",
       "  </thead>\n",
       "  <tbody>\n",
       "    <tr>\n",
       "      <th>Ensemble wfm_sc</th>\n",
       "      <td>0.609772</td>\n",
       "      <td>0.769076</td>\n",
       "      <td>0.86747</td>\n",
       "      <td>0.753719</td>\n",
       "      <td>0.558233</td>\n",
       "    </tr>\n",
       "  </tbody>\n",
       "</table>\n",
       "</div>"
      ],
      "text/plain": [
       "                      map       mrr   avg_sr  avg_ndcg    avg_p3\n",
       "Ensemble wfm_sc  0.609772  0.769076  0.86747  0.753719  0.558233"
      ]
     },
     "metadata": {},
     "output_type": "display_data"
    },
    {
     "name": "stdout",
     "output_type": "stream",
     "text": [
      "Pruned_ 5\n"
     ]
    },
    {
     "data": {
      "text/html": [
       "<div>\n",
       "<style scoped>\n",
       "    .dataframe tbody tr th:only-of-type {\n",
       "        vertical-align: middle;\n",
       "    }\n",
       "\n",
       "    .dataframe tbody tr th {\n",
       "        vertical-align: top;\n",
       "    }\n",
       "\n",
       "    .dataframe thead th {\n",
       "        text-align: right;\n",
       "    }\n",
       "</style>\n",
       "<table border=\"1\" class=\"dataframe\">\n",
       "  <thead>\n",
       "    <tr style=\"text-align: right;\">\n",
       "      <th></th>\n",
       "      <th>map</th>\n",
       "      <th>mrr</th>\n",
       "      <th>avg_sr</th>\n",
       "      <th>avg_ndcg</th>\n",
       "      <th>avg_p3</th>\n",
       "    </tr>\n",
       "  </thead>\n",
       "  <tbody>\n",
       "    <tr>\n",
       "      <th>Ensemble wfm_sc</th>\n",
       "      <td>0.623077</td>\n",
       "      <td>0.784615</td>\n",
       "      <td>0.892308</td>\n",
       "      <td>0.776387</td>\n",
       "      <td>0.569231</td>\n",
       "    </tr>\n",
       "  </tbody>\n",
       "</table>\n",
       "</div>"
      ],
      "text/plain": [
       "                      map       mrr    avg_sr  avg_ndcg    avg_p3\n",
       "Ensemble wfm_sc  0.623077  0.784615  0.892308  0.776387  0.569231"
      ]
     },
     "metadata": {},
     "output_type": "display_data"
    },
    {
     "name": "stdout",
     "output_type": "stream",
     "text": [
      "Pruned_ 6\n"
     ]
    },
    {
     "data": {
      "text/html": [
       "<div>\n",
       "<style scoped>\n",
       "    .dataframe tbody tr th:only-of-type {\n",
       "        vertical-align: middle;\n",
       "    }\n",
       "\n",
       "    .dataframe tbody tr th {\n",
       "        vertical-align: top;\n",
       "    }\n",
       "\n",
       "    .dataframe thead th {\n",
       "        text-align: right;\n",
       "    }\n",
       "</style>\n",
       "<table border=\"1\" class=\"dataframe\">\n",
       "  <thead>\n",
       "    <tr style=\"text-align: right;\">\n",
       "      <th></th>\n",
       "      <th>map</th>\n",
       "      <th>mrr</th>\n",
       "      <th>avg_sr</th>\n",
       "      <th>avg_ndcg</th>\n",
       "      <th>avg_p3</th>\n",
       "    </tr>\n",
       "  </thead>\n",
       "  <tbody>\n",
       "    <tr>\n",
       "      <th>Ensemble wfm_sc</th>\n",
       "      <td>0.648889</td>\n",
       "      <td>0.796667</td>\n",
       "      <td>0.9</td>\n",
       "      <td>0.782701</td>\n",
       "      <td>0.606667</td>\n",
       "    </tr>\n",
       "  </tbody>\n",
       "</table>\n",
       "</div>"
      ],
      "text/plain": [
       "                      map       mrr  avg_sr  avg_ndcg    avg_p3\n",
       "Ensemble wfm_sc  0.648889  0.796667     0.9  0.782701  0.606667"
      ]
     },
     "metadata": {},
     "output_type": "display_data"
    },
    {
     "name": "stdout",
     "output_type": "stream",
     "text": [
      "Pruned_ 7\n"
     ]
    },
    {
     "data": {
      "text/html": [
       "<div>\n",
       "<style scoped>\n",
       "    .dataframe tbody tr th:only-of-type {\n",
       "        vertical-align: middle;\n",
       "    }\n",
       "\n",
       "    .dataframe tbody tr th {\n",
       "        vertical-align: top;\n",
       "    }\n",
       "\n",
       "    .dataframe thead th {\n",
       "        text-align: right;\n",
       "    }\n",
       "</style>\n",
       "<table border=\"1\" class=\"dataframe\">\n",
       "  <thead>\n",
       "    <tr style=\"text-align: right;\">\n",
       "      <th></th>\n",
       "      <th>map</th>\n",
       "      <th>mrr</th>\n",
       "      <th>avg_sr</th>\n",
       "      <th>avg_ndcg</th>\n",
       "      <th>avg_p3</th>\n",
       "    </tr>\n",
       "  </thead>\n",
       "  <tbody>\n",
       "    <tr>\n",
       "      <th>Ensemble wfm_sc</th>\n",
       "      <td>0.689189</td>\n",
       "      <td>0.851351</td>\n",
       "      <td>0.972973</td>\n",
       "      <td>0.844127</td>\n",
       "      <td>0.648649</td>\n",
       "    </tr>\n",
       "  </tbody>\n",
       "</table>\n",
       "</div>"
      ],
      "text/plain": [
       "                      map       mrr    avg_sr  avg_ndcg    avg_p3\n",
       "Ensemble wfm_sc  0.689189  0.851351  0.972973  0.844127  0.648649"
      ]
     },
     "metadata": {},
     "output_type": "display_data"
    },
    {
     "name": "stdout",
     "output_type": "stream",
     "text": [
      "Pruned_ 8\n"
     ]
    },
    {
     "data": {
      "text/html": [
       "<div>\n",
       "<style scoped>\n",
       "    .dataframe tbody tr th:only-of-type {\n",
       "        vertical-align: middle;\n",
       "    }\n",
       "\n",
       "    .dataframe tbody tr th {\n",
       "        vertical-align: top;\n",
       "    }\n",
       "\n",
       "    .dataframe thead th {\n",
       "        text-align: right;\n",
       "    }\n",
       "</style>\n",
       "<table border=\"1\" class=\"dataframe\">\n",
       "  <thead>\n",
       "    <tr style=\"text-align: right;\">\n",
       "      <th></th>\n",
       "      <th>map</th>\n",
       "      <th>mrr</th>\n",
       "      <th>avg_sr</th>\n",
       "      <th>avg_ndcg</th>\n",
       "      <th>avg_p3</th>\n",
       "    </tr>\n",
       "  </thead>\n",
       "  <tbody>\n",
       "    <tr>\n",
       "      <th>Ensemble wfm_sc</th>\n",
       "      <td>0.666667</td>\n",
       "      <td>0.828125</td>\n",
       "      <td>0.96875</td>\n",
       "      <td>0.840953</td>\n",
       "      <td>0.625</td>\n",
       "    </tr>\n",
       "  </tbody>\n",
       "</table>\n",
       "</div>"
      ],
      "text/plain": [
       "                      map       mrr   avg_sr  avg_ndcg  avg_p3\n",
       "Ensemble wfm_sc  0.666667  0.828125  0.96875  0.840953   0.625"
      ]
     },
     "metadata": {},
     "output_type": "display_data"
    },
    {
     "name": "stdout",
     "output_type": "stream",
     "text": [
      "Pruned_ 9\n"
     ]
    },
    {
     "data": {
      "text/html": [
       "<div>\n",
       "<style scoped>\n",
       "    .dataframe tbody tr th:only-of-type {\n",
       "        vertical-align: middle;\n",
       "    }\n",
       "\n",
       "    .dataframe tbody tr th {\n",
       "        vertical-align: top;\n",
       "    }\n",
       "\n",
       "    .dataframe thead th {\n",
       "        text-align: right;\n",
       "    }\n",
       "</style>\n",
       "<table border=\"1\" class=\"dataframe\">\n",
       "  <thead>\n",
       "    <tr style=\"text-align: right;\">\n",
       "      <th></th>\n",
       "      <th>map</th>\n",
       "      <th>mrr</th>\n",
       "      <th>avg_sr</th>\n",
       "      <th>avg_ndcg</th>\n",
       "      <th>avg_p3</th>\n",
       "    </tr>\n",
       "  </thead>\n",
       "  <tbody>\n",
       "    <tr>\n",
       "      <th>Ensemble wfm_sc</th>\n",
       "      <td>0.681818</td>\n",
       "      <td>0.840909</td>\n",
       "      <td>0.954545</td>\n",
       "      <td>0.830582</td>\n",
       "      <td>0.636364</td>\n",
       "    </tr>\n",
       "  </tbody>\n",
       "</table>\n",
       "</div>"
      ],
      "text/plain": [
       "                      map       mrr    avg_sr  avg_ndcg    avg_p3\n",
       "Ensemble wfm_sc  0.681818  0.840909  0.954545  0.830582  0.636364"
      ]
     },
     "metadata": {},
     "output_type": "display_data"
    },
    {
     "name": "stdout",
     "output_type": "stream",
     "text": [
      "Pruned_ 10\n"
     ]
    },
    {
     "data": {
      "text/html": [
       "<div>\n",
       "<style scoped>\n",
       "    .dataframe tbody tr th:only-of-type {\n",
       "        vertical-align: middle;\n",
       "    }\n",
       "\n",
       "    .dataframe tbody tr th {\n",
       "        vertical-align: top;\n",
       "    }\n",
       "\n",
       "    .dataframe thead th {\n",
       "        text-align: right;\n",
       "    }\n",
       "</style>\n",
       "<table border=\"1\" class=\"dataframe\">\n",
       "  <thead>\n",
       "    <tr style=\"text-align: right;\">\n",
       "      <th></th>\n",
       "      <th>map</th>\n",
       "      <th>mrr</th>\n",
       "      <th>avg_sr</th>\n",
       "      <th>avg_ndcg</th>\n",
       "      <th>avg_p3</th>\n",
       "    </tr>\n",
       "  </thead>\n",
       "  <tbody>\n",
       "    <tr>\n",
       "      <th>Ensemble wfm_sc</th>\n",
       "      <td>0.65</td>\n",
       "      <td>0.866667</td>\n",
       "      <td>1.0</td>\n",
       "      <td>0.856203</td>\n",
       "      <td>0.6</td>\n",
       "    </tr>\n",
       "  </tbody>\n",
       "</table>\n",
       "</div>"
      ],
      "text/plain": [
       "                  map       mrr  avg_sr  avg_ndcg  avg_p3\n",
       "Ensemble wfm_sc  0.65  0.866667     1.0  0.856203     0.6"
      ]
     },
     "metadata": {},
     "output_type": "display_data"
    },
    {
     "name": "stdout",
     "output_type": "stream",
     "text": [
      "[81, 84, 87, 87, 89, 90, 97, 97, 95, 100]\n"
     ]
    }
   ],
   "source": [
    "ml = []\n",
    "for i in range(1,11):\n",
    "    print('Pruned_',i)\n",
    "    df1 = pd.read_csv(\"/home/ritwik/git/AshaQnA/other_codes/Metrics/Data/E_25_pruned_\"+str(i)+\".csv\")\n",
    "    mat_bin = get_data(df1[[\"final_1\",\"final_2\",\"final_3\"]],[1,2])    \n",
    "    display(pd.DataFrame(calc_metrics(df1),index=df1.Model_name.unique()))\n",
    "    ml.append(round(calc_metrics(df1)['avg_sr']*100))\n",
    "print(ml)"
   ]
  },
  {
   "cell_type": "code",
   "execution_count": 442,
   "metadata": {
    "hidden": true
   },
   "outputs": [
    {
     "data": {
      "text/html": [
       "<div>\n",
       "<style scoped>\n",
       "    .dataframe tbody tr th:only-of-type {\n",
       "        vertical-align: middle;\n",
       "    }\n",
       "\n",
       "    .dataframe tbody tr th {\n",
       "        vertical-align: top;\n",
       "    }\n",
       "\n",
       "    .dataframe thead th {\n",
       "        text-align: right;\n",
       "    }\n",
       "</style>\n",
       "<table border=\"1\" class=\"dataframe\">\n",
       "  <thead>\n",
       "    <tr style=\"text-align: right;\">\n",
       "      <th></th>\n",
       "      <th>map</th>\n",
       "      <th>mrr</th>\n",
       "      <th>avg_sr</th>\n",
       "      <th>avg_ndcg</th>\n",
       "      <th>avg_p5</th>\n",
       "    </tr>\n",
       "  </thead>\n",
       "  <tbody>\n",
       "    <tr>\n",
       "      <th>Ensemble wfm_sc</th>\n",
       "      <td>0.377765</td>\n",
       "      <td>0.643951</td>\n",
       "      <td>0.759259</td>\n",
       "      <td>0.628552</td>\n",
       "      <td>0.294074</td>\n",
       "    </tr>\n",
       "  </tbody>\n",
       "</table>\n",
       "</div>"
      ],
      "text/plain": [
       "                      map       mrr    avg_sr  avg_ndcg    avg_p5\n",
       "Ensemble wfm_sc  0.377765  0.643951  0.759259  0.628552  0.294074"
      ]
     },
     "execution_count": 442,
     "metadata": {},
     "output_type": "execute_result"
    }
   ],
   "source": [
    "# E29 top5 (inshorts 400 sent pairs)\n",
    "pd.DataFrame(calc_metrics(df1),index=df1.Model_name.unique())"
   ]
  },
  {
   "cell_type": "code",
   "execution_count": 443,
   "metadata": {
    "collapsed": true,
    "hidden": true
   },
   "outputs": [
    {
     "name": "stdout",
     "output_type": "stream",
     "text": [
      "Pruned_ 1\n"
     ]
    },
    {
     "data": {
      "text/html": [
       "<div>\n",
       "<style scoped>\n",
       "    .dataframe tbody tr th:only-of-type {\n",
       "        vertical-align: middle;\n",
       "    }\n",
       "\n",
       "    .dataframe tbody tr th {\n",
       "        vertical-align: top;\n",
       "    }\n",
       "\n",
       "    .dataframe thead th {\n",
       "        text-align: right;\n",
       "    }\n",
       "</style>\n",
       "<table border=\"1\" class=\"dataframe\">\n",
       "  <thead>\n",
       "    <tr style=\"text-align: right;\">\n",
       "      <th></th>\n",
       "      <th>map</th>\n",
       "      <th>mrr</th>\n",
       "      <th>avg_sr</th>\n",
       "      <th>avg_ndcg</th>\n",
       "      <th>avg_p5</th>\n",
       "    </tr>\n",
       "  </thead>\n",
       "  <tbody>\n",
       "    <tr>\n",
       "      <th>Ensemble wfm_sc</th>\n",
       "      <td>0.461782</td>\n",
       "      <td>0.737294</td>\n",
       "      <td>0.866337</td>\n",
       "      <td>0.732186</td>\n",
       "      <td>0.363366</td>\n",
       "    </tr>\n",
       "  </tbody>\n",
       "</table>\n",
       "</div>"
      ],
      "text/plain": [
       "                      map       mrr    avg_sr  avg_ndcg    avg_p5\n",
       "Ensemble wfm_sc  0.461782  0.737294  0.866337  0.732186  0.363366"
      ]
     },
     "metadata": {},
     "output_type": "display_data"
    },
    {
     "name": "stdout",
     "output_type": "stream",
     "text": [
      "Pruned_ 2\n"
     ]
    },
    {
     "data": {
      "text/html": [
       "<div>\n",
       "<style scoped>\n",
       "    .dataframe tbody tr th:only-of-type {\n",
       "        vertical-align: middle;\n",
       "    }\n",
       "\n",
       "    .dataframe tbody tr th {\n",
       "        vertical-align: top;\n",
       "    }\n",
       "\n",
       "    .dataframe thead th {\n",
       "        text-align: right;\n",
       "    }\n",
       "</style>\n",
       "<table border=\"1\" class=\"dataframe\">\n",
       "  <thead>\n",
       "    <tr style=\"text-align: right;\">\n",
       "      <th></th>\n",
       "      <th>map</th>\n",
       "      <th>mrr</th>\n",
       "      <th>avg_sr</th>\n",
       "      <th>avg_ndcg</th>\n",
       "      <th>avg_p5</th>\n",
       "    </tr>\n",
       "  </thead>\n",
       "  <tbody>\n",
       "    <tr>\n",
       "      <th>Ensemble wfm_sc</th>\n",
       "      <td>0.519211</td>\n",
       "      <td>0.780921</td>\n",
       "      <td>0.907895</td>\n",
       "      <td>0.776319</td>\n",
       "      <td>0.418421</td>\n",
       "    </tr>\n",
       "  </tbody>\n",
       "</table>\n",
       "</div>"
      ],
      "text/plain": [
       "                      map       mrr    avg_sr  avg_ndcg    avg_p5\n",
       "Ensemble wfm_sc  0.519211  0.780921  0.907895  0.776319  0.418421"
      ]
     },
     "metadata": {},
     "output_type": "display_data"
    },
    {
     "name": "stdout",
     "output_type": "stream",
     "text": [
      "Pruned_ 3\n"
     ]
    },
    {
     "data": {
      "text/html": [
       "<div>\n",
       "<style scoped>\n",
       "    .dataframe tbody tr th:only-of-type {\n",
       "        vertical-align: middle;\n",
       "    }\n",
       "\n",
       "    .dataframe tbody tr th {\n",
       "        vertical-align: top;\n",
       "    }\n",
       "\n",
       "    .dataframe thead th {\n",
       "        text-align: right;\n",
       "    }\n",
       "</style>\n",
       "<table border=\"1\" class=\"dataframe\">\n",
       "  <thead>\n",
       "    <tr style=\"text-align: right;\">\n",
       "      <th></th>\n",
       "      <th>map</th>\n",
       "      <th>mrr</th>\n",
       "      <th>avg_sr</th>\n",
       "      <th>avg_ndcg</th>\n",
       "      <th>avg_p5</th>\n",
       "    </tr>\n",
       "  </thead>\n",
       "  <tbody>\n",
       "    <tr>\n",
       "      <th>Ensemble wfm_sc</th>\n",
       "      <td>0.559238</td>\n",
       "      <td>0.810794</td>\n",
       "      <td>0.914286</td>\n",
       "      <td>0.798182</td>\n",
       "      <td>0.462857</td>\n",
       "    </tr>\n",
       "  </tbody>\n",
       "</table>\n",
       "</div>"
      ],
      "text/plain": [
       "                      map       mrr    avg_sr  avg_ndcg    avg_p5\n",
       "Ensemble wfm_sc  0.559238  0.810794  0.914286  0.798182  0.462857"
      ]
     },
     "metadata": {},
     "output_type": "display_data"
    },
    {
     "name": "stdout",
     "output_type": "stream",
     "text": [
      "Pruned_ 4\n"
     ]
    },
    {
     "data": {
      "text/html": [
       "<div>\n",
       "<style scoped>\n",
       "    .dataframe tbody tr th:only-of-type {\n",
       "        vertical-align: middle;\n",
       "    }\n",
       "\n",
       "    .dataframe tbody tr th {\n",
       "        vertical-align: top;\n",
       "    }\n",
       "\n",
       "    .dataframe thead th {\n",
       "        text-align: right;\n",
       "    }\n",
       "</style>\n",
       "<table border=\"1\" class=\"dataframe\">\n",
       "  <thead>\n",
       "    <tr style=\"text-align: right;\">\n",
       "      <th></th>\n",
       "      <th>map</th>\n",
       "      <th>mrr</th>\n",
       "      <th>avg_sr</th>\n",
       "      <th>avg_ndcg</th>\n",
       "      <th>avg_p5</th>\n",
       "    </tr>\n",
       "  </thead>\n",
       "  <tbody>\n",
       "    <tr>\n",
       "      <th>Ensemble wfm_sc</th>\n",
       "      <td>0.575944</td>\n",
       "      <td>0.826506</td>\n",
       "      <td>0.927711</td>\n",
       "      <td>0.814273</td>\n",
       "      <td>0.489157</td>\n",
       "    </tr>\n",
       "  </tbody>\n",
       "</table>\n",
       "</div>"
      ],
      "text/plain": [
       "                      map       mrr    avg_sr  avg_ndcg    avg_p5\n",
       "Ensemble wfm_sc  0.575944  0.826506  0.927711  0.814273  0.489157"
      ]
     },
     "metadata": {},
     "output_type": "display_data"
    },
    {
     "name": "stdout",
     "output_type": "stream",
     "text": [
      "Pruned_ 5\n"
     ]
    },
    {
     "data": {
      "text/html": [
       "<div>\n",
       "<style scoped>\n",
       "    .dataframe tbody tr th:only-of-type {\n",
       "        vertical-align: middle;\n",
       "    }\n",
       "\n",
       "    .dataframe tbody tr th {\n",
       "        vertical-align: top;\n",
       "    }\n",
       "\n",
       "    .dataframe thead th {\n",
       "        text-align: right;\n",
       "    }\n",
       "</style>\n",
       "<table border=\"1\" class=\"dataframe\">\n",
       "  <thead>\n",
       "    <tr style=\"text-align: right;\">\n",
       "      <th></th>\n",
       "      <th>map</th>\n",
       "      <th>mrr</th>\n",
       "      <th>avg_sr</th>\n",
       "      <th>avg_ndcg</th>\n",
       "      <th>avg_p5</th>\n",
       "    </tr>\n",
       "  </thead>\n",
       "  <tbody>\n",
       "    <tr>\n",
       "      <th>Ensemble wfm_sc</th>\n",
       "      <td>0.574769</td>\n",
       "      <td>0.809231</td>\n",
       "      <td>0.923077</td>\n",
       "      <td>0.801818</td>\n",
       "      <td>0.504615</td>\n",
       "    </tr>\n",
       "  </tbody>\n",
       "</table>\n",
       "</div>"
      ],
      "text/plain": [
       "                      map       mrr    avg_sr  avg_ndcg    avg_p5\n",
       "Ensemble wfm_sc  0.574769  0.809231  0.923077  0.801818  0.504615"
      ]
     },
     "metadata": {},
     "output_type": "display_data"
    },
    {
     "name": "stdout",
     "output_type": "stream",
     "text": [
      "Pruned_ 6\n"
     ]
    },
    {
     "data": {
      "text/html": [
       "<div>\n",
       "<style scoped>\n",
       "    .dataframe tbody tr th:only-of-type {\n",
       "        vertical-align: middle;\n",
       "    }\n",
       "\n",
       "    .dataframe tbody tr th {\n",
       "        vertical-align: top;\n",
       "    }\n",
       "\n",
       "    .dataframe thead th {\n",
       "        text-align: right;\n",
       "    }\n",
       "</style>\n",
       "<table border=\"1\" class=\"dataframe\">\n",
       "  <thead>\n",
       "    <tr style=\"text-align: right;\">\n",
       "      <th></th>\n",
       "      <th>map</th>\n",
       "      <th>mrr</th>\n",
       "      <th>avg_sr</th>\n",
       "      <th>avg_ndcg</th>\n",
       "      <th>avg_p5</th>\n",
       "    </tr>\n",
       "  </thead>\n",
       "  <tbody>\n",
       "    <tr>\n",
       "      <th>Ensemble wfm_sc</th>\n",
       "      <td>0.599067</td>\n",
       "      <td>0.830667</td>\n",
       "      <td>0.92</td>\n",
       "      <td>0.813941</td>\n",
       "      <td>0.532</td>\n",
       "    </tr>\n",
       "  </tbody>\n",
       "</table>\n",
       "</div>"
      ],
      "text/plain": [
       "                      map       mrr  avg_sr  avg_ndcg  avg_p5\n",
       "Ensemble wfm_sc  0.599067  0.830667    0.92  0.813941   0.532"
      ]
     },
     "metadata": {},
     "output_type": "display_data"
    },
    {
     "name": "stdout",
     "output_type": "stream",
     "text": [
      "Pruned_ 7\n"
     ]
    },
    {
     "data": {
      "text/html": [
       "<div>\n",
       "<style scoped>\n",
       "    .dataframe tbody tr th:only-of-type {\n",
       "        vertical-align: middle;\n",
       "    }\n",
       "\n",
       "    .dataframe tbody tr th {\n",
       "        vertical-align: top;\n",
       "    }\n",
       "\n",
       "    .dataframe thead th {\n",
       "        text-align: right;\n",
       "    }\n",
       "</style>\n",
       "<table border=\"1\" class=\"dataframe\">\n",
       "  <thead>\n",
       "    <tr style=\"text-align: right;\">\n",
       "      <th></th>\n",
       "      <th>map</th>\n",
       "      <th>mrr</th>\n",
       "      <th>avg_sr</th>\n",
       "      <th>avg_ndcg</th>\n",
       "      <th>avg_p5</th>\n",
       "    </tr>\n",
       "  </thead>\n",
       "  <tbody>\n",
       "    <tr>\n",
       "      <th>Ensemble wfm_sc</th>\n",
       "      <td>0.638108</td>\n",
       "      <td>0.882883</td>\n",
       "      <td>0.945946</td>\n",
       "      <td>0.855237</td>\n",
       "      <td>0.562162</td>\n",
       "    </tr>\n",
       "  </tbody>\n",
       "</table>\n",
       "</div>"
      ],
      "text/plain": [
       "                      map       mrr    avg_sr  avg_ndcg    avg_p5\n",
       "Ensemble wfm_sc  0.638108  0.882883  0.945946  0.855237  0.562162"
      ]
     },
     "metadata": {},
     "output_type": "display_data"
    },
    {
     "name": "stdout",
     "output_type": "stream",
     "text": [
      "Pruned_ 8\n"
     ]
    },
    {
     "data": {
      "text/html": [
       "<div>\n",
       "<style scoped>\n",
       "    .dataframe tbody tr th:only-of-type {\n",
       "        vertical-align: middle;\n",
       "    }\n",
       "\n",
       "    .dataframe tbody tr th {\n",
       "        vertical-align: top;\n",
       "    }\n",
       "\n",
       "    .dataframe thead th {\n",
       "        text-align: right;\n",
       "    }\n",
       "</style>\n",
       "<table border=\"1\" class=\"dataframe\">\n",
       "  <thead>\n",
       "    <tr style=\"text-align: right;\">\n",
       "      <th></th>\n",
       "      <th>map</th>\n",
       "      <th>mrr</th>\n",
       "      <th>avg_sr</th>\n",
       "      <th>avg_ndcg</th>\n",
       "      <th>avg_p5</th>\n",
       "    </tr>\n",
       "  </thead>\n",
       "  <tbody>\n",
       "    <tr>\n",
       "      <th>Ensemble wfm_sc</th>\n",
       "      <td>0.620521</td>\n",
       "      <td>0.880208</td>\n",
       "      <td>0.9375</td>\n",
       "      <td>0.847362</td>\n",
       "      <td>0.5375</td>\n",
       "    </tr>\n",
       "  </tbody>\n",
       "</table>\n",
       "</div>"
      ],
      "text/plain": [
       "                      map       mrr  avg_sr  avg_ndcg  avg_p5\n",
       "Ensemble wfm_sc  0.620521  0.880208  0.9375  0.847362  0.5375"
      ]
     },
     "metadata": {},
     "output_type": "display_data"
    },
    {
     "name": "stdout",
     "output_type": "stream",
     "text": [
      "Pruned_ 9\n"
     ]
    },
    {
     "data": {
      "text/html": [
       "<div>\n",
       "<style scoped>\n",
       "    .dataframe tbody tr th:only-of-type {\n",
       "        vertical-align: middle;\n",
       "    }\n",
       "\n",
       "    .dataframe tbody tr th {\n",
       "        vertical-align: top;\n",
       "    }\n",
       "\n",
       "    .dataframe thead th {\n",
       "        text-align: right;\n",
       "    }\n",
       "</style>\n",
       "<table border=\"1\" class=\"dataframe\">\n",
       "  <thead>\n",
       "    <tr style=\"text-align: right;\">\n",
       "      <th></th>\n",
       "      <th>map</th>\n",
       "      <th>mrr</th>\n",
       "      <th>avg_sr</th>\n",
       "      <th>avg_ndcg</th>\n",
       "      <th>avg_p5</th>\n",
       "    </tr>\n",
       "  </thead>\n",
       "  <tbody>\n",
       "    <tr>\n",
       "      <th>Ensemble wfm_sc</th>\n",
       "      <td>0.642576</td>\n",
       "      <td>0.871212</td>\n",
       "      <td>0.909091</td>\n",
       "      <td>0.825306</td>\n",
       "      <td>0.572727</td>\n",
       "    </tr>\n",
       "  </tbody>\n",
       "</table>\n",
       "</div>"
      ],
      "text/plain": [
       "                      map       mrr    avg_sr  avg_ndcg    avg_p5\n",
       "Ensemble wfm_sc  0.642576  0.871212  0.909091  0.825306  0.572727"
      ]
     },
     "metadata": {},
     "output_type": "display_data"
    },
    {
     "name": "stdout",
     "output_type": "stream",
     "text": [
      "Pruned_ 10\n"
     ]
    },
    {
     "data": {
      "text/html": [
       "<div>\n",
       "<style scoped>\n",
       "    .dataframe tbody tr th:only-of-type {\n",
       "        vertical-align: middle;\n",
       "    }\n",
       "\n",
       "    .dataframe tbody tr th {\n",
       "        vertical-align: top;\n",
       "    }\n",
       "\n",
       "    .dataframe thead th {\n",
       "        text-align: right;\n",
       "    }\n",
       "</style>\n",
       "<table border=\"1\" class=\"dataframe\">\n",
       "  <thead>\n",
       "    <tr style=\"text-align: right;\">\n",
       "      <th></th>\n",
       "      <th>map</th>\n",
       "      <th>mrr</th>\n",
       "      <th>avg_sr</th>\n",
       "      <th>avg_ndcg</th>\n",
       "      <th>avg_p5</th>\n",
       "    </tr>\n",
       "  </thead>\n",
       "  <tbody>\n",
       "    <tr>\n",
       "      <th>Ensemble wfm_sc</th>\n",
       "      <td>0.637667</td>\n",
       "      <td>0.883333</td>\n",
       "      <td>1.0</td>\n",
       "      <td>0.858315</td>\n",
       "      <td>0.58</td>\n",
       "    </tr>\n",
       "  </tbody>\n",
       "</table>\n",
       "</div>"
      ],
      "text/plain": [
       "                      map       mrr  avg_sr  avg_ndcg  avg_p5\n",
       "Ensemble wfm_sc  0.637667  0.883333     1.0  0.858315    0.58"
      ]
     },
     "metadata": {},
     "output_type": "display_data"
    },
    {
     "name": "stdout",
     "output_type": "stream",
     "text": [
      "[87, 91, 91, 93, 92, 92, 95, 94, 91, 100]\n"
     ]
    }
   ],
   "source": [
    "ml = []\n",
    "for i in range(1,11):\n",
    "    print('Pruned_',i)\n",
    "    df1 = pd.read_csv(\"/home/ritwik/git/AshaQnA/other_codes/Metrics/Data/E_29_pruned_\"+str(i)+\".csv\")\n",
    "    mat_bin = get_data(df1[[\"final_1\",\"final_2\",\"final_3\",\"final_4\",\"final_5\"]],[1,2])   \n",
    "    display(pd.DataFrame(calc_metrics(df1),index=df1.Model_name.unique()))\n",
    "    ml.append(round(calc_metrics(df1)['avg_sr']*100))\n",
    "print(ml)"
   ]
  },
  {
   "cell_type": "code",
   "execution_count": 448,
   "metadata": {
    "hidden": true
   },
   "outputs": [
    {
     "data": {
      "text/html": [
       "<div>\n",
       "<style scoped>\n",
       "    .dataframe tbody tr th:only-of-type {\n",
       "        vertical-align: middle;\n",
       "    }\n",
       "\n",
       "    .dataframe tbody tr th {\n",
       "        vertical-align: top;\n",
       "    }\n",
       "\n",
       "    .dataframe thead th {\n",
       "        text-align: right;\n",
       "    }\n",
       "</style>\n",
       "<table border=\"1\" class=\"dataframe\">\n",
       "  <thead>\n",
       "    <tr style=\"text-align: right;\">\n",
       "      <th></th>\n",
       "      <th>map</th>\n",
       "      <th>mrr</th>\n",
       "      <th>avg_sr</th>\n",
       "      <th>avg_ndcg</th>\n",
       "      <th>avg_p5</th>\n",
       "    </tr>\n",
       "  </thead>\n",
       "  <tbody>\n",
       "    <tr>\n",
       "      <th>Ensemble wfm_sc</th>\n",
       "      <td>0.377914</td>\n",
       "      <td>0.632099</td>\n",
       "      <td>0.774074</td>\n",
       "      <td>0.629845</td>\n",
       "      <td>0.298519</td>\n",
       "    </tr>\n",
       "  </tbody>\n",
       "</table>\n",
       "</div>"
      ],
      "text/plain": [
       "                      map       mrr    avg_sr  avg_ndcg    avg_p5\n",
       "Ensemble wfm_sc  0.377914  0.632099  0.774074  0.629845  0.298519"
      ]
     },
     "execution_count": 448,
     "metadata": {},
     "output_type": "execute_result"
    }
   ],
   "source": [
    "# E30 top5 (asha_sentsim dataset)\n",
    "pd.DataFrame(calc_metrics(df1),index=df1.Model_name.unique())"
   ]
  },
  {
   "cell_type": "code",
   "execution_count": 449,
   "metadata": {
    "collapsed": true,
    "hidden": true
   },
   "outputs": [
    {
     "name": "stdout",
     "output_type": "stream",
     "text": [
      "Pruned_ 1\n"
     ]
    },
    {
     "data": {
      "text/html": [
       "<div>\n",
       "<style scoped>\n",
       "    .dataframe tbody tr th:only-of-type {\n",
       "        vertical-align: middle;\n",
       "    }\n",
       "\n",
       "    .dataframe tbody tr th {\n",
       "        vertical-align: top;\n",
       "    }\n",
       "\n",
       "    .dataframe thead th {\n",
       "        text-align: right;\n",
       "    }\n",
       "</style>\n",
       "<table border=\"1\" class=\"dataframe\">\n",
       "  <thead>\n",
       "    <tr style=\"text-align: right;\">\n",
       "      <th></th>\n",
       "      <th>map</th>\n",
       "      <th>mrr</th>\n",
       "      <th>avg_sr</th>\n",
       "      <th>avg_ndcg</th>\n",
       "      <th>avg_p5</th>\n",
       "    </tr>\n",
       "  </thead>\n",
       "  <tbody>\n",
       "    <tr>\n",
       "      <th>Ensemble wfm_sc</th>\n",
       "      <td>0.459752</td>\n",
       "      <td>0.723927</td>\n",
       "      <td>0.861386</td>\n",
       "      <td>0.724582</td>\n",
       "      <td>0.364356</td>\n",
       "    </tr>\n",
       "  </tbody>\n",
       "</table>\n",
       "</div>"
      ],
      "text/plain": [
       "                      map       mrr    avg_sr  avg_ndcg    avg_p5\n",
       "Ensemble wfm_sc  0.459752  0.723927  0.861386  0.724582  0.364356"
      ]
     },
     "metadata": {},
     "output_type": "display_data"
    },
    {
     "name": "stdout",
     "output_type": "stream",
     "text": [
      "Pruned_ 2\n"
     ]
    },
    {
     "data": {
      "text/html": [
       "<div>\n",
       "<style scoped>\n",
       "    .dataframe tbody tr th:only-of-type {\n",
       "        vertical-align: middle;\n",
       "    }\n",
       "\n",
       "    .dataframe tbody tr th {\n",
       "        vertical-align: top;\n",
       "    }\n",
       "\n",
       "    .dataframe thead th {\n",
       "        text-align: right;\n",
       "    }\n",
       "</style>\n",
       "<table border=\"1\" class=\"dataframe\">\n",
       "  <thead>\n",
       "    <tr style=\"text-align: right;\">\n",
       "      <th></th>\n",
       "      <th>map</th>\n",
       "      <th>mrr</th>\n",
       "      <th>avg_sr</th>\n",
       "      <th>avg_ndcg</th>\n",
       "      <th>avg_p5</th>\n",
       "    </tr>\n",
       "  </thead>\n",
       "  <tbody>\n",
       "    <tr>\n",
       "      <th>Ensemble wfm_sc</th>\n",
       "      <td>0.513684</td>\n",
       "      <td>0.765132</td>\n",
       "      <td>0.894737</td>\n",
       "      <td>0.762304</td>\n",
       "      <td>0.417105</td>\n",
       "    </tr>\n",
       "  </tbody>\n",
       "</table>\n",
       "</div>"
      ],
      "text/plain": [
       "                      map       mrr    avg_sr  avg_ndcg    avg_p5\n",
       "Ensemble wfm_sc  0.513684  0.765132  0.894737  0.762304  0.417105"
      ]
     },
     "metadata": {},
     "output_type": "display_data"
    },
    {
     "name": "stdout",
     "output_type": "stream",
     "text": [
      "Pruned_ 3\n"
     ]
    },
    {
     "data": {
      "text/html": [
       "<div>\n",
       "<style scoped>\n",
       "    .dataframe tbody tr th:only-of-type {\n",
       "        vertical-align: middle;\n",
       "    }\n",
       "\n",
       "    .dataframe tbody tr th {\n",
       "        vertical-align: top;\n",
       "    }\n",
       "\n",
       "    .dataframe thead th {\n",
       "        text-align: right;\n",
       "    }\n",
       "</style>\n",
       "<table border=\"1\" class=\"dataframe\">\n",
       "  <thead>\n",
       "    <tr style=\"text-align: right;\">\n",
       "      <th></th>\n",
       "      <th>map</th>\n",
       "      <th>mrr</th>\n",
       "      <th>avg_sr</th>\n",
       "      <th>avg_ndcg</th>\n",
       "      <th>avg_p5</th>\n",
       "    </tr>\n",
       "  </thead>\n",
       "  <tbody>\n",
       "    <tr>\n",
       "      <th>Ensemble wfm_sc</th>\n",
       "      <td>0.556222</td>\n",
       "      <td>0.799365</td>\n",
       "      <td>0.904762</td>\n",
       "      <td>0.785425</td>\n",
       "      <td>0.462857</td>\n",
       "    </tr>\n",
       "  </tbody>\n",
       "</table>\n",
       "</div>"
      ],
      "text/plain": [
       "                      map       mrr    avg_sr  avg_ndcg    avg_p5\n",
       "Ensemble wfm_sc  0.556222  0.799365  0.904762  0.785425  0.462857"
      ]
     },
     "metadata": {},
     "output_type": "display_data"
    },
    {
     "name": "stdout",
     "output_type": "stream",
     "text": [
      "Pruned_ 4\n"
     ]
    },
    {
     "data": {
      "text/html": [
       "<div>\n",
       "<style scoped>\n",
       "    .dataframe tbody tr th:only-of-type {\n",
       "        vertical-align: middle;\n",
       "    }\n",
       "\n",
       "    .dataframe tbody tr th {\n",
       "        vertical-align: top;\n",
       "    }\n",
       "\n",
       "    .dataframe thead th {\n",
       "        text-align: right;\n",
       "    }\n",
       "</style>\n",
       "<table border=\"1\" class=\"dataframe\">\n",
       "  <thead>\n",
       "    <tr style=\"text-align: right;\">\n",
       "      <th></th>\n",
       "      <th>map</th>\n",
       "      <th>mrr</th>\n",
       "      <th>avg_sr</th>\n",
       "      <th>avg_ndcg</th>\n",
       "      <th>avg_p5</th>\n",
       "    </tr>\n",
       "  </thead>\n",
       "  <tbody>\n",
       "    <tr>\n",
       "      <th>Ensemble wfm_sc</th>\n",
       "      <td>0.571847</td>\n",
       "      <td>0.814458</td>\n",
       "      <td>0.915663</td>\n",
       "      <td>0.797438</td>\n",
       "      <td>0.486747</td>\n",
       "    </tr>\n",
       "  </tbody>\n",
       "</table>\n",
       "</div>"
      ],
      "text/plain": [
       "                      map       mrr    avg_sr  avg_ndcg    avg_p5\n",
       "Ensemble wfm_sc  0.571847  0.814458  0.915663  0.797438  0.486747"
      ]
     },
     "metadata": {},
     "output_type": "display_data"
    },
    {
     "name": "stdout",
     "output_type": "stream",
     "text": [
      "Pruned_ 5\n"
     ]
    },
    {
     "data": {
      "text/html": [
       "<div>\n",
       "<style scoped>\n",
       "    .dataframe tbody tr th:only-of-type {\n",
       "        vertical-align: middle;\n",
       "    }\n",
       "\n",
       "    .dataframe tbody tr th {\n",
       "        vertical-align: top;\n",
       "    }\n",
       "\n",
       "    .dataframe thead th {\n",
       "        text-align: right;\n",
       "    }\n",
       "</style>\n",
       "<table border=\"1\" class=\"dataframe\">\n",
       "  <thead>\n",
       "    <tr style=\"text-align: right;\">\n",
       "      <th></th>\n",
       "      <th>map</th>\n",
       "      <th>mrr</th>\n",
       "      <th>avg_sr</th>\n",
       "      <th>avg_ndcg</th>\n",
       "      <th>avg_p5</th>\n",
       "    </tr>\n",
       "  </thead>\n",
       "  <tbody>\n",
       "    <tr>\n",
       "      <th>Ensemble wfm_sc</th>\n",
       "      <td>0.586615</td>\n",
       "      <td>0.816923</td>\n",
       "      <td>0.923077</td>\n",
       "      <td>0.802137</td>\n",
       "      <td>0.513846</td>\n",
       "    </tr>\n",
       "  </tbody>\n",
       "</table>\n",
       "</div>"
      ],
      "text/plain": [
       "                      map       mrr    avg_sr  avg_ndcg    avg_p5\n",
       "Ensemble wfm_sc  0.586615  0.816923  0.923077  0.802137  0.513846"
      ]
     },
     "metadata": {},
     "output_type": "display_data"
    },
    {
     "name": "stdout",
     "output_type": "stream",
     "text": [
      "Pruned_ 6\n"
     ]
    },
    {
     "data": {
      "text/html": [
       "<div>\n",
       "<style scoped>\n",
       "    .dataframe tbody tr th:only-of-type {\n",
       "        vertical-align: middle;\n",
       "    }\n",
       "\n",
       "    .dataframe tbody tr th {\n",
       "        vertical-align: top;\n",
       "    }\n",
       "\n",
       "    .dataframe thead th {\n",
       "        text-align: right;\n",
       "    }\n",
       "</style>\n",
       "<table border=\"1\" class=\"dataframe\">\n",
       "  <thead>\n",
       "    <tr style=\"text-align: right;\">\n",
       "      <th></th>\n",
       "      <th>map</th>\n",
       "      <th>mrr</th>\n",
       "      <th>avg_sr</th>\n",
       "      <th>avg_ndcg</th>\n",
       "      <th>avg_p5</th>\n",
       "    </tr>\n",
       "  </thead>\n",
       "  <tbody>\n",
       "    <tr>\n",
       "      <th>Ensemble wfm_sc</th>\n",
       "      <td>0.605067</td>\n",
       "      <td>0.837333</td>\n",
       "      <td>0.92</td>\n",
       "      <td>0.813754</td>\n",
       "      <td>0.532</td>\n",
       "    </tr>\n",
       "  </tbody>\n",
       "</table>\n",
       "</div>"
      ],
      "text/plain": [
       "                      map       mrr  avg_sr  avg_ndcg  avg_p5\n",
       "Ensemble wfm_sc  0.605067  0.837333    0.92  0.813754   0.532"
      ]
     },
     "metadata": {},
     "output_type": "display_data"
    },
    {
     "name": "stdout",
     "output_type": "stream",
     "text": [
      "Pruned_ 7\n"
     ]
    },
    {
     "data": {
      "text/html": [
       "<div>\n",
       "<style scoped>\n",
       "    .dataframe tbody tr th:only-of-type {\n",
       "        vertical-align: middle;\n",
       "    }\n",
       "\n",
       "    .dataframe tbody tr th {\n",
       "        vertical-align: top;\n",
       "    }\n",
       "\n",
       "    .dataframe thead th {\n",
       "        text-align: right;\n",
       "    }\n",
       "</style>\n",
       "<table border=\"1\" class=\"dataframe\">\n",
       "  <thead>\n",
       "    <tr style=\"text-align: right;\">\n",
       "      <th></th>\n",
       "      <th>map</th>\n",
       "      <th>mrr</th>\n",
       "      <th>avg_sr</th>\n",
       "      <th>avg_ndcg</th>\n",
       "      <th>avg_p5</th>\n",
       "    </tr>\n",
       "  </thead>\n",
       "  <tbody>\n",
       "    <tr>\n",
       "      <th>Ensemble wfm_sc</th>\n",
       "      <td>0.642252</td>\n",
       "      <td>0.888288</td>\n",
       "      <td>0.972973</td>\n",
       "      <td>0.863557</td>\n",
       "      <td>0.578378</td>\n",
       "    </tr>\n",
       "  </tbody>\n",
       "</table>\n",
       "</div>"
      ],
      "text/plain": [
       "                      map       mrr    avg_sr  avg_ndcg    avg_p5\n",
       "Ensemble wfm_sc  0.642252  0.888288  0.972973  0.863557  0.578378"
      ]
     },
     "metadata": {},
     "output_type": "display_data"
    },
    {
     "name": "stdout",
     "output_type": "stream",
     "text": [
      "Pruned_ 8\n"
     ]
    },
    {
     "data": {
      "text/html": [
       "<div>\n",
       "<style scoped>\n",
       "    .dataframe tbody tr th:only-of-type {\n",
       "        vertical-align: middle;\n",
       "    }\n",
       "\n",
       "    .dataframe tbody tr th {\n",
       "        vertical-align: top;\n",
       "    }\n",
       "\n",
       "    .dataframe thead th {\n",
       "        text-align: right;\n",
       "    }\n",
       "</style>\n",
       "<table border=\"1\" class=\"dataframe\">\n",
       "  <thead>\n",
       "    <tr style=\"text-align: right;\">\n",
       "      <th></th>\n",
       "      <th>map</th>\n",
       "      <th>mrr</th>\n",
       "      <th>avg_sr</th>\n",
       "      <th>avg_ndcg</th>\n",
       "      <th>avg_p5</th>\n",
       "    </tr>\n",
       "  </thead>\n",
       "  <tbody>\n",
       "    <tr>\n",
       "      <th>Ensemble wfm_sc</th>\n",
       "      <td>0.627396</td>\n",
       "      <td>0.886458</td>\n",
       "      <td>0.96875</td>\n",
       "      <td>0.856595</td>\n",
       "      <td>0.55625</td>\n",
       "    </tr>\n",
       "  </tbody>\n",
       "</table>\n",
       "</div>"
      ],
      "text/plain": [
       "                      map       mrr   avg_sr  avg_ndcg   avg_p5\n",
       "Ensemble wfm_sc  0.627396  0.886458  0.96875  0.856595  0.55625"
      ]
     },
     "metadata": {},
     "output_type": "display_data"
    },
    {
     "name": "stdout",
     "output_type": "stream",
     "text": [
      "Pruned_ 9\n"
     ]
    },
    {
     "data": {
      "text/html": [
       "<div>\n",
       "<style scoped>\n",
       "    .dataframe tbody tr th:only-of-type {\n",
       "        vertical-align: middle;\n",
       "    }\n",
       "\n",
       "    .dataframe tbody tr th {\n",
       "        vertical-align: top;\n",
       "    }\n",
       "\n",
       "    .dataframe thead th {\n",
       "        text-align: right;\n",
       "    }\n",
       "</style>\n",
       "<table border=\"1\" class=\"dataframe\">\n",
       "  <thead>\n",
       "    <tr style=\"text-align: right;\">\n",
       "      <th></th>\n",
       "      <th>map</th>\n",
       "      <th>mrr</th>\n",
       "      <th>avg_sr</th>\n",
       "      <th>avg_ndcg</th>\n",
       "      <th>avg_p5</th>\n",
       "    </tr>\n",
       "  </thead>\n",
       "  <tbody>\n",
       "    <tr>\n",
       "      <th>Ensemble wfm_sc</th>\n",
       "      <td>0.654545</td>\n",
       "      <td>0.90303</td>\n",
       "      <td>0.954545</td>\n",
       "      <td>0.852361</td>\n",
       "      <td>0.590909</td>\n",
       "    </tr>\n",
       "  </tbody>\n",
       "</table>\n",
       "</div>"
      ],
      "text/plain": [
       "                      map      mrr    avg_sr  avg_ndcg    avg_p5\n",
       "Ensemble wfm_sc  0.654545  0.90303  0.954545  0.852361  0.590909"
      ]
     },
     "metadata": {},
     "output_type": "display_data"
    },
    {
     "name": "stdout",
     "output_type": "stream",
     "text": [
      "Pruned_ 10\n"
     ]
    },
    {
     "data": {
      "text/html": [
       "<div>\n",
       "<style scoped>\n",
       "    .dataframe tbody tr th:only-of-type {\n",
       "        vertical-align: middle;\n",
       "    }\n",
       "\n",
       "    .dataframe tbody tr th {\n",
       "        vertical-align: top;\n",
       "    }\n",
       "\n",
       "    .dataframe thead th {\n",
       "        text-align: right;\n",
       "    }\n",
       "</style>\n",
       "<table border=\"1\" class=\"dataframe\">\n",
       "  <thead>\n",
       "    <tr style=\"text-align: right;\">\n",
       "      <th></th>\n",
       "      <th>map</th>\n",
       "      <th>mrr</th>\n",
       "      <th>avg_sr</th>\n",
       "      <th>avg_ndcg</th>\n",
       "      <th>avg_p5</th>\n",
       "    </tr>\n",
       "  </thead>\n",
       "  <tbody>\n",
       "    <tr>\n",
       "      <th>Ensemble wfm_sc</th>\n",
       "      <td>0.657</td>\n",
       "      <td>0.95</td>\n",
       "      <td>1.0</td>\n",
       "      <td>0.887234</td>\n",
       "      <td>0.56</td>\n",
       "    </tr>\n",
       "  </tbody>\n",
       "</table>\n",
       "</div>"
      ],
      "text/plain": [
       "                   map   mrr  avg_sr  avg_ndcg  avg_p5\n",
       "Ensemble wfm_sc  0.657  0.95     1.0  0.887234    0.56"
      ]
     },
     "metadata": {},
     "output_type": "display_data"
    },
    {
     "name": "stdout",
     "output_type": "stream",
     "text": [
      "[86, 89, 90, 92, 92, 92, 97, 97, 95, 100]\n"
     ]
    }
   ],
   "source": [
    "ml = []\n",
    "for i in range(1,11):\n",
    "    print('Pruned_',i)\n",
    "    df1 = pd.read_csv(\"/home/ritwik/git/AshaQnA/other_codes/Metrics/Data/E_30_pruned_\"+str(i)+\".csv\")\n",
    "    mat_bin = get_data(df1[[\"final_1\",\"final_2\",\"final_3\",\"final_4\",\"final_5\"]],[1,2])   \n",
    "    display(pd.DataFrame(calc_metrics(df1),index=df1.Model_name.unique()))\n",
    "    ml.append(round(calc_metrics(df1)['avg_sr']*100))\n",
    "print(ml)"
   ]
  },
  {
   "cell_type": "markdown",
   "metadata": {
    "heading_collapsed": true,
    "hidden": true
   },
   "source": [
    "### Old "
   ]
  },
  {
   "cell_type": "code",
   "execution_count": 123,
   "metadata": {
    "hidden": true
   },
   "outputs": [
    {
     "data": {
      "text/html": [
       "<div>\n",
       "<style scoped>\n",
       "    .dataframe tbody tr th:only-of-type {\n",
       "        vertical-align: middle;\n",
       "    }\n",
       "\n",
       "    .dataframe tbody tr th {\n",
       "        vertical-align: top;\n",
       "    }\n",
       "\n",
       "    .dataframe thead th {\n",
       "        text-align: right;\n",
       "    }\n",
       "</style>\n",
       "<table border=\"1\" class=\"dataframe\">\n",
       "  <thead>\n",
       "    <tr style=\"text-align: right;\">\n",
       "      <th></th>\n",
       "      <th>map</th>\n",
       "      <th>mrr</th>\n",
       "      <th>avg_sr</th>\n",
       "      <th>avg_ndcg</th>\n",
       "      <th>avg_p3</th>\n",
       "    </tr>\n",
       "  </thead>\n",
       "  <tbody>\n",
       "    <tr>\n",
       "      <th>Ensemble wfm_sc</th>\n",
       "      <td>0.388272</td>\n",
       "      <td>0.549383</td>\n",
       "      <td>0.681481</td>\n",
       "      <td>0.580137</td>\n",
       "      <td>0.32963</td>\n",
       "    </tr>\n",
       "  </tbody>\n",
       "</table>\n",
       "</div>"
      ],
      "text/plain": [
       "                      map       mrr    avg_sr  avg_ndcg   avg_p3\n",
       "Ensemble wfm_sc  0.388272  0.549383  0.681481  0.580137  0.32963"
      ]
     },
     "execution_count": 123,
     "metadata": {},
     "output_type": "execute_result"
    }
   ],
   "source": [
    "# E1\n",
    "pd.DataFrame(calc_metrics(df1),index=df1.Model_name.unique())"
   ]
  },
  {
   "cell_type": "code",
   "execution_count": 126,
   "metadata": {
    "hidden": true
   },
   "outputs": [
    {
     "data": {
      "text/html": [
       "<div>\n",
       "<style scoped>\n",
       "    .dataframe tbody tr th:only-of-type {\n",
       "        vertical-align: middle;\n",
       "    }\n",
       "\n",
       "    .dataframe tbody tr th {\n",
       "        vertical-align: top;\n",
       "    }\n",
       "\n",
       "    .dataframe thead th {\n",
       "        text-align: right;\n",
       "    }\n",
       "</style>\n",
       "<table border=\"1\" class=\"dataframe\">\n",
       "  <thead>\n",
       "    <tr style=\"text-align: right;\">\n",
       "      <th></th>\n",
       "      <th>map</th>\n",
       "      <th>mrr</th>\n",
       "      <th>avg_sr</th>\n",
       "      <th>avg_ndcg</th>\n",
       "      <th>avg_p3</th>\n",
       "    </tr>\n",
       "  </thead>\n",
       "  <tbody>\n",
       "    <tr>\n",
       "      <th>Ensemble wfm_sc</th>\n",
       "      <td>0.394856</td>\n",
       "      <td>0.548765</td>\n",
       "      <td>0.674074</td>\n",
       "      <td>0.578804</td>\n",
       "      <td>0.341975</td>\n",
       "    </tr>\n",
       "  </tbody>\n",
       "</table>\n",
       "</div>"
      ],
      "text/plain": [
       "                      map       mrr    avg_sr  avg_ndcg    avg_p3\n",
       "Ensemble wfm_sc  0.394856  0.548765  0.674074  0.578804  0.341975"
      ]
     },
     "execution_count": 126,
     "metadata": {},
     "output_type": "execute_result"
    }
   ],
   "source": [
    "# E2\n",
    "pd.DataFrame(calc_metrics(df1),index=df1.Model_name.unique())"
   ]
  },
  {
   "cell_type": "code",
   "execution_count": 131,
   "metadata": {
    "hidden": true
   },
   "outputs": [
    {
     "data": {
      "text/html": [
       "<div>\n",
       "<style scoped>\n",
       "    .dataframe tbody tr th:only-of-type {\n",
       "        vertical-align: middle;\n",
       "    }\n",
       "\n",
       "    .dataframe tbody tr th {\n",
       "        vertical-align: top;\n",
       "    }\n",
       "\n",
       "    .dataframe thead th {\n",
       "        text-align: right;\n",
       "    }\n",
       "</style>\n",
       "<table border=\"1\" class=\"dataframe\">\n",
       "  <thead>\n",
       "    <tr style=\"text-align: right;\">\n",
       "      <th></th>\n",
       "      <th>map</th>\n",
       "      <th>mrr</th>\n",
       "      <th>avg_sr</th>\n",
       "      <th>avg_ndcg</th>\n",
       "      <th>avg_p3</th>\n",
       "    </tr>\n",
       "  </thead>\n",
       "  <tbody>\n",
       "    <tr>\n",
       "      <th>Ensemble wfm_sc</th>\n",
       "      <td>0.514026</td>\n",
       "      <td>0.693069</td>\n",
       "      <td>0.79703</td>\n",
       "      <td>0.713643</td>\n",
       "      <td>0.358025</td>\n",
       "    </tr>\n",
       "  </tbody>\n",
       "</table>\n",
       "</div>"
      ],
      "text/plain": [
       "                      map       mrr   avg_sr  avg_ndcg    avg_p3\n",
       "Ensemble wfm_sc  0.514026  0.693069  0.79703  0.713643  0.358025"
      ]
     },
     "execution_count": 131,
     "metadata": {},
     "output_type": "execute_result"
    }
   ],
   "source": [
    "# E9 | E3_pruned1\n",
    "pd.DataFrame(calc_metrics(df1),index=df1.Model_name.unique())"
   ]
  },
  {
   "cell_type": "code",
   "execution_count": 134,
   "metadata": {
    "hidden": true
   },
   "outputs": [
    {
     "data": {
      "text/html": [
       "<div>\n",
       "<style scoped>\n",
       "    .dataframe tbody tr th:only-of-type {\n",
       "        vertical-align: middle;\n",
       "    }\n",
       "\n",
       "    .dataframe tbody tr th {\n",
       "        vertical-align: top;\n",
       "    }\n",
       "\n",
       "    .dataframe thead th {\n",
       "        text-align: right;\n",
       "    }\n",
       "</style>\n",
       "<table border=\"1\" class=\"dataframe\">\n",
       "  <thead>\n",
       "    <tr style=\"text-align: right;\">\n",
       "      <th></th>\n",
       "      <th>map</th>\n",
       "      <th>mrr</th>\n",
       "      <th>avg_sr</th>\n",
       "      <th>avg_ndcg</th>\n",
       "      <th>avg_p3</th>\n",
       "    </tr>\n",
       "  </thead>\n",
       "  <tbody>\n",
       "    <tr>\n",
       "      <th>Ensemble wfm_sc</th>\n",
       "      <td>0.564693</td>\n",
       "      <td>0.736842</td>\n",
       "      <td>0.828947</td>\n",
       "      <td>0.751985</td>\n",
       "      <td>0.486842</td>\n",
       "    </tr>\n",
       "  </tbody>\n",
       "</table>\n",
       "</div>"
      ],
      "text/plain": [
       "                      map       mrr    avg_sr  avg_ndcg    avg_p3\n",
       "Ensemble wfm_sc  0.564693  0.736842  0.828947  0.751985  0.486842"
      ]
     },
     "execution_count": 134,
     "metadata": {},
     "output_type": "execute_result"
    }
   ],
   "source": [
    "# E10 | E3_pruned2\n",
    "pd.DataFrame(calc_metrics(df1),index=df1.Model_name.unique())"
   ]
  },
  {
   "cell_type": "code",
   "execution_count": 164,
   "metadata": {
    "hidden": true
   },
   "outputs": [
    {
     "data": {
      "text/html": [
       "<div>\n",
       "<style scoped>\n",
       "    .dataframe tbody tr th:only-of-type {\n",
       "        vertical-align: middle;\n",
       "    }\n",
       "\n",
       "    .dataframe tbody tr th {\n",
       "        vertical-align: top;\n",
       "    }\n",
       "\n",
       "    .dataframe thead th {\n",
       "        text-align: right;\n",
       "    }\n",
       "</style>\n",
       "<table border=\"1\" class=\"dataframe\">\n",
       "  <thead>\n",
       "    <tr style=\"text-align: right;\">\n",
       "      <th></th>\n",
       "      <th>map</th>\n",
       "      <th>mrr</th>\n",
       "      <th>avg_sr</th>\n",
       "      <th>avg_ndcg</th>\n",
       "      <th>avg_p3</th>\n",
       "    </tr>\n",
       "  </thead>\n",
       "  <tbody>\n",
       "    <tr>\n",
       "      <th>Ensemble wfm_sc</th>\n",
       "      <td>0.580423</td>\n",
       "      <td>0.739683</td>\n",
       "      <td>0.819048</td>\n",
       "      <td>0.751001</td>\n",
       "      <td>0.507937</td>\n",
       "    </tr>\n",
       "  </tbody>\n",
       "</table>\n",
       "</div>"
      ],
      "text/plain": [
       "                      map       mrr    avg_sr  avg_ndcg    avg_p3\n",
       "Ensemble wfm_sc  0.580423  0.739683  0.819048  0.751001  0.507937"
      ]
     },
     "execution_count": 164,
     "metadata": {},
     "output_type": "execute_result"
    }
   ],
   "source": [
    "# E12 | E3_pruned3\n",
    "pd.DataFrame(calc_metrics(df1),index=df1.Model_name.unique())"
   ]
  },
  {
   "cell_type": "code",
   "execution_count": 158,
   "metadata": {
    "hidden": true
   },
   "outputs": [
    {
     "data": {
      "text/html": [
       "<div>\n",
       "<style scoped>\n",
       "    .dataframe tbody tr th:only-of-type {\n",
       "        vertical-align: middle;\n",
       "    }\n",
       "\n",
       "    .dataframe tbody tr th {\n",
       "        vertical-align: top;\n",
       "    }\n",
       "\n",
       "    .dataframe thead th {\n",
       "        text-align: right;\n",
       "    }\n",
       "</style>\n",
       "<table border=\"1\" class=\"dataframe\">\n",
       "  <thead>\n",
       "    <tr style=\"text-align: right;\">\n",
       "      <th></th>\n",
       "      <th>map</th>\n",
       "      <th>mrr</th>\n",
       "      <th>avg_sr</th>\n",
       "      <th>avg_ndcg</th>\n",
       "      <th>avg_p3</th>\n",
       "    </tr>\n",
       "  </thead>\n",
       "  <tbody>\n",
       "    <tr>\n",
       "      <th>Ensemble wfm_sc</th>\n",
       "      <td>0.605756</td>\n",
       "      <td>0.763052</td>\n",
       "      <td>0.843373</td>\n",
       "      <td>0.775109</td>\n",
       "      <td>0.534137</td>\n",
       "    </tr>\n",
       "  </tbody>\n",
       "</table>\n",
       "</div>"
      ],
      "text/plain": [
       "                      map       mrr    avg_sr  avg_ndcg    avg_p3\n",
       "Ensemble wfm_sc  0.605756  0.763052  0.843373  0.775109  0.534137"
      ]
     },
     "execution_count": 158,
     "metadata": {},
     "output_type": "execute_result"
    }
   ],
   "source": [
    "# E13 | E3_pruned4\n",
    "pd.DataFrame(calc_metrics(df1),index=df1.Model_name.unique())"
   ]
  },
  {
   "cell_type": "code",
   "execution_count": 161,
   "metadata": {
    "hidden": true
   },
   "outputs": [
    {
     "data": {
      "text/html": [
       "<div>\n",
       "<style scoped>\n",
       "    .dataframe tbody tr th:only-of-type {\n",
       "        vertical-align: middle;\n",
       "    }\n",
       "\n",
       "    .dataframe tbody tr th {\n",
       "        vertical-align: top;\n",
       "    }\n",
       "\n",
       "    .dataframe thead th {\n",
       "        text-align: right;\n",
       "    }\n",
       "</style>\n",
       "<table border=\"1\" class=\"dataframe\">\n",
       "  <thead>\n",
       "    <tr style=\"text-align: right;\">\n",
       "      <th></th>\n",
       "      <th>map</th>\n",
       "      <th>mrr</th>\n",
       "      <th>avg_sr</th>\n",
       "      <th>avg_ndcg</th>\n",
       "      <th>avg_p3</th>\n",
       "    </tr>\n",
       "  </thead>\n",
       "  <tbody>\n",
       "    <tr>\n",
       "      <th>Ensemble wfm_sc</th>\n",
       "      <td>0.62906</td>\n",
       "      <td>0.779487</td>\n",
       "      <td>0.861538</td>\n",
       "      <td>0.792225</td>\n",
       "      <td>0.564103</td>\n",
       "    </tr>\n",
       "  </tbody>\n",
       "</table>\n",
       "</div>"
      ],
      "text/plain": [
       "                     map       mrr    avg_sr  avg_ndcg    avg_p3\n",
       "Ensemble wfm_sc  0.62906  0.779487  0.861538  0.792225  0.564103"
      ]
     },
     "execution_count": 161,
     "metadata": {},
     "output_type": "execute_result"
    }
   ],
   "source": [
    "# E14 | E3_pruned5\n",
    "pd.DataFrame(calc_metrics(df1),index=df1.Model_name.unique())"
   ]
  },
  {
   "cell_type": "code",
   "execution_count": 167,
   "metadata": {
    "hidden": true
   },
   "outputs": [
    {
     "data": {
      "text/html": [
       "<div>\n",
       "<style scoped>\n",
       "    .dataframe tbody tr th:only-of-type {\n",
       "        vertical-align: middle;\n",
       "    }\n",
       "\n",
       "    .dataframe tbody tr th {\n",
       "        vertical-align: top;\n",
       "    }\n",
       "\n",
       "    .dataframe thead th {\n",
       "        text-align: right;\n",
       "    }\n",
       "</style>\n",
       "<table border=\"1\" class=\"dataframe\">\n",
       "  <thead>\n",
       "    <tr style=\"text-align: right;\">\n",
       "      <th></th>\n",
       "      <th>map</th>\n",
       "      <th>mrr</th>\n",
       "      <th>avg_sr</th>\n",
       "      <th>avg_ndcg</th>\n",
       "      <th>avg_p3</th>\n",
       "    </tr>\n",
       "  </thead>\n",
       "  <tbody>\n",
       "    <tr>\n",
       "      <th>Ensemble wfm_sc</th>\n",
       "      <td>0.652222</td>\n",
       "      <td>0.803333</td>\n",
       "      <td>0.88</td>\n",
       "      <td>0.812393</td>\n",
       "      <td>0.586667</td>\n",
       "    </tr>\n",
       "  </tbody>\n",
       "</table>\n",
       "</div>"
      ],
      "text/plain": [
       "                      map       mrr  avg_sr  avg_ndcg    avg_p3\n",
       "Ensemble wfm_sc  0.652222  0.803333    0.88  0.812393  0.586667"
      ]
     },
     "execution_count": 167,
     "metadata": {},
     "output_type": "execute_result"
    }
   ],
   "source": [
    "# E15 | E3_pruned6\n",
    "pd.DataFrame(calc_metrics(df1),index=df1.Model_name.unique())"
   ]
  },
  {
   "cell_type": "code",
   "execution_count": 170,
   "metadata": {
    "hidden": true
   },
   "outputs": [
    {
     "data": {
      "text/html": [
       "<div>\n",
       "<style scoped>\n",
       "    .dataframe tbody tr th:only-of-type {\n",
       "        vertical-align: middle;\n",
       "    }\n",
       "\n",
       "    .dataframe tbody tr th {\n",
       "        vertical-align: top;\n",
       "    }\n",
       "\n",
       "    .dataframe thead th {\n",
       "        text-align: right;\n",
       "    }\n",
       "</style>\n",
       "<table border=\"1\" class=\"dataframe\">\n",
       "  <thead>\n",
       "    <tr style=\"text-align: right;\">\n",
       "      <th></th>\n",
       "      <th>map</th>\n",
       "      <th>mrr</th>\n",
       "      <th>avg_sr</th>\n",
       "      <th>avg_ndcg</th>\n",
       "      <th>avg_p3</th>\n",
       "    </tr>\n",
       "  </thead>\n",
       "  <tbody>\n",
       "    <tr>\n",
       "      <th>Ensemble wfm_sc</th>\n",
       "      <td>0.683183</td>\n",
       "      <td>0.846847</td>\n",
       "      <td>0.918919</td>\n",
       "      <td>0.853696</td>\n",
       "      <td>0.603604</td>\n",
       "    </tr>\n",
       "  </tbody>\n",
       "</table>\n",
       "</div>"
      ],
      "text/plain": [
       "                      map       mrr    avg_sr  avg_ndcg    avg_p3\n",
       "Ensemble wfm_sc  0.683183  0.846847  0.918919  0.853696  0.603604"
      ]
     },
     "execution_count": 170,
     "metadata": {},
     "output_type": "execute_result"
    }
   ],
   "source": [
    "# E16 | E3_pruned7\n",
    "pd.DataFrame(calc_metrics(df1),index=df1.Model_name.unique())"
   ]
  },
  {
   "cell_type": "code",
   "execution_count": 173,
   "metadata": {
    "hidden": true
   },
   "outputs": [
    {
     "data": {
      "text/html": [
       "<div>\n",
       "<style scoped>\n",
       "    .dataframe tbody tr th:only-of-type {\n",
       "        vertical-align: middle;\n",
       "    }\n",
       "\n",
       "    .dataframe tbody tr th {\n",
       "        vertical-align: top;\n",
       "    }\n",
       "\n",
       "    .dataframe thead th {\n",
       "        text-align: right;\n",
       "    }\n",
       "</style>\n",
       "<table border=\"1\" class=\"dataframe\">\n",
       "  <thead>\n",
       "    <tr style=\"text-align: right;\">\n",
       "      <th></th>\n",
       "      <th>map</th>\n",
       "      <th>mrr</th>\n",
       "      <th>avg_sr</th>\n",
       "      <th>avg_ndcg</th>\n",
       "      <th>avg_p3</th>\n",
       "    </tr>\n",
       "  </thead>\n",
       "  <tbody>\n",
       "    <tr>\n",
       "      <th>Ensemble wfm_sc</th>\n",
       "      <td>0.671875</td>\n",
       "      <td>0.838542</td>\n",
       "      <td>0.90625</td>\n",
       "      <td>0.84237</td>\n",
       "      <td>0.59375</td>\n",
       "    </tr>\n",
       "  </tbody>\n",
       "</table>\n",
       "</div>"
      ],
      "text/plain": [
       "                      map       mrr   avg_sr  avg_ndcg   avg_p3\n",
       "Ensemble wfm_sc  0.671875  0.838542  0.90625   0.84237  0.59375"
      ]
     },
     "execution_count": 173,
     "metadata": {},
     "output_type": "execute_result"
    }
   ],
   "source": [
    "# E17 | E3_pruned8\n",
    "pd.DataFrame(calc_metrics(df1),index=df1.Model_name.unique())"
   ]
  },
  {
   "cell_type": "code",
   "execution_count": 176,
   "metadata": {
    "hidden": true
   },
   "outputs": [
    {
     "data": {
      "text/html": [
       "<div>\n",
       "<style scoped>\n",
       "    .dataframe tbody tr th:only-of-type {\n",
       "        vertical-align: middle;\n",
       "    }\n",
       "\n",
       "    .dataframe tbody tr th {\n",
       "        vertical-align: top;\n",
       "    }\n",
       "\n",
       "    .dataframe thead th {\n",
       "        text-align: right;\n",
       "    }\n",
       "</style>\n",
       "<table border=\"1\" class=\"dataframe\">\n",
       "  <thead>\n",
       "    <tr style=\"text-align: right;\">\n",
       "      <th></th>\n",
       "      <th>map</th>\n",
       "      <th>mrr</th>\n",
       "      <th>avg_sr</th>\n",
       "      <th>avg_ndcg</th>\n",
       "      <th>avg_p3</th>\n",
       "    </tr>\n",
       "  </thead>\n",
       "  <tbody>\n",
       "    <tr>\n",
       "      <th>Ensemble wfm_sc</th>\n",
       "      <td>0.722222</td>\n",
       "      <td>0.886364</td>\n",
       "      <td>0.954545</td>\n",
       "      <td>0.888005</td>\n",
       "      <td>0.666667</td>\n",
       "    </tr>\n",
       "  </tbody>\n",
       "</table>\n",
       "</div>"
      ],
      "text/plain": [
       "                      map       mrr    avg_sr  avg_ndcg    avg_p3\n",
       "Ensemble wfm_sc  0.722222  0.886364  0.954545  0.888005  0.666667"
      ]
     },
     "execution_count": 176,
     "metadata": {},
     "output_type": "execute_result"
    }
   ],
   "source": [
    "# E18 | E3_pruned9\n",
    "pd.DataFrame(calc_metrics(df1),index=df1.Model_name.unique())"
   ]
  },
  {
   "cell_type": "code",
   "execution_count": 179,
   "metadata": {
    "hidden": true
   },
   "outputs": [
    {
     "data": {
      "text/html": [
       "<div>\n",
       "<style scoped>\n",
       "    .dataframe tbody tr th:only-of-type {\n",
       "        vertical-align: middle;\n",
       "    }\n",
       "\n",
       "    .dataframe tbody tr th {\n",
       "        vertical-align: top;\n",
       "    }\n",
       "\n",
       "    .dataframe thead th {\n",
       "        text-align: right;\n",
       "    }\n",
       "</style>\n",
       "<table border=\"1\" class=\"dataframe\">\n",
       "  <thead>\n",
       "    <tr style=\"text-align: right;\">\n",
       "      <th></th>\n",
       "      <th>map</th>\n",
       "      <th>mrr</th>\n",
       "      <th>avg_sr</th>\n",
       "      <th>avg_ndcg</th>\n",
       "      <th>avg_p3</th>\n",
       "    </tr>\n",
       "  </thead>\n",
       "  <tbody>\n",
       "    <tr>\n",
       "      <th>Ensemble wfm_sc</th>\n",
       "      <td>0.755556</td>\n",
       "      <td>0.95</td>\n",
       "      <td>1.0</td>\n",
       "      <td>0.939009</td>\n",
       "      <td>0.666667</td>\n",
       "    </tr>\n",
       "  </tbody>\n",
       "</table>\n",
       "</div>"
      ],
      "text/plain": [
       "                      map   mrr  avg_sr  avg_ndcg    avg_p3\n",
       "Ensemble wfm_sc  0.755556  0.95     1.0  0.939009  0.666667"
      ]
     },
     "execution_count": 179,
     "metadata": {},
     "output_type": "execute_result"
    }
   ],
   "source": [
    "# E19 | E3_pruned10\n",
    "pd.DataFrame(calc_metrics(df1),index=df1.Model_name.unique())"
   ]
  },
  {
   "cell_type": "code",
   "execution_count": 129,
   "metadata": {
    "hidden": true
   },
   "outputs": [
    {
     "data": {
      "text/html": [
       "<div>\n",
       "<style scoped>\n",
       "    .dataframe tbody tr th:only-of-type {\n",
       "        vertical-align: middle;\n",
       "    }\n",
       "\n",
       "    .dataframe tbody tr th {\n",
       "        vertical-align: top;\n",
       "    }\n",
       "\n",
       "    .dataframe thead th {\n",
       "        text-align: right;\n",
       "    }\n",
       "</style>\n",
       "<table border=\"1\" class=\"dataframe\">\n",
       "  <thead>\n",
       "    <tr style=\"text-align: right;\">\n",
       "      <th></th>\n",
       "      <th>map</th>\n",
       "      <th>mrr</th>\n",
       "      <th>avg_sr</th>\n",
       "      <th>avg_ndcg</th>\n",
       "      <th>avg_p3</th>\n",
       "    </tr>\n",
       "  </thead>\n",
       "  <tbody>\n",
       "    <tr>\n",
       "      <th>Ensemble wfm_sc</th>\n",
       "      <td>0.42428</td>\n",
       "      <td>0.588272</td>\n",
       "      <td>0.692593</td>\n",
       "      <td>0.610409</td>\n",
       "      <td>0.358025</td>\n",
       "    </tr>\n",
       "  </tbody>\n",
       "</table>\n",
       "</div>"
      ],
      "text/plain": [
       "                     map       mrr    avg_sr  avg_ndcg    avg_p3\n",
       "Ensemble wfm_sc  0.42428  0.588272  0.692593  0.610409  0.358025"
      ]
     },
     "execution_count": 129,
     "metadata": {},
     "output_type": "execute_result"
    }
   ],
   "source": [
    "# E3\n",
    "pd.DataFrame(calc_metrics(df1),index=df1.Model_name.unique())"
   ]
  },
  {
   "cell_type": "code",
   "execution_count": 220,
   "metadata": {
    "hidden": true
   },
   "outputs": [
    {
     "data": {
      "text/html": [
       "<div>\n",
       "<style scoped>\n",
       "    .dataframe tbody tr th:only-of-type {\n",
       "        vertical-align: middle;\n",
       "    }\n",
       "\n",
       "    .dataframe tbody tr th {\n",
       "        vertical-align: top;\n",
       "    }\n",
       "\n",
       "    .dataframe thead th {\n",
       "        text-align: right;\n",
       "    }\n",
       "</style>\n",
       "<table border=\"1\" class=\"dataframe\">\n",
       "  <thead>\n",
       "    <tr style=\"text-align: right;\">\n",
       "      <th></th>\n",
       "      <th>map</th>\n",
       "      <th>mrr</th>\n",
       "      <th>avg_sr</th>\n",
       "      <th>avg_ndcg</th>\n",
       "      <th>avg_p3</th>\n",
       "    </tr>\n",
       "  </thead>\n",
       "  <tbody>\n",
       "    <tr>\n",
       "      <th>Ensemble wfm_sc</th>\n",
       "      <td>0.372556</td>\n",
       "      <td>0.622716</td>\n",
       "      <td>0.755556</td>\n",
       "      <td>0.618253</td>\n",
       "      <td>0.28963</td>\n",
       "    </tr>\n",
       "  </tbody>\n",
       "</table>\n",
       "</div>"
      ],
      "text/plain": [
       "                      map       mrr    avg_sr  avg_ndcg   avg_p3\n",
       "Ensemble wfm_sc  0.372556  0.622716  0.755556  0.618253  0.28963"
      ]
     },
     "execution_count": 220,
     "metadata": {},
     "output_type": "execute_result"
    }
   ],
   "source": [
    "# E20 | top5 version of E3\n",
    "pd.DataFrame(calc_metrics(df1),index=df1.Model_name.unique())"
   ]
  },
  {
   "cell_type": "code",
   "execution_count": 152,
   "metadata": {
    "hidden": true
   },
   "outputs": [
    {
     "data": {
      "text/html": [
       "<div>\n",
       "<style scoped>\n",
       "    .dataframe tbody tr th:only-of-type {\n",
       "        vertical-align: middle;\n",
       "    }\n",
       "\n",
       "    .dataframe tbody tr th {\n",
       "        vertical-align: top;\n",
       "    }\n",
       "\n",
       "    .dataframe thead th {\n",
       "        text-align: right;\n",
       "    }\n",
       "</style>\n",
       "<table border=\"1\" class=\"dataframe\">\n",
       "  <thead>\n",
       "    <tr style=\"text-align: right;\">\n",
       "      <th></th>\n",
       "      <th>map</th>\n",
       "      <th>mrr</th>\n",
       "      <th>avg_sr</th>\n",
       "      <th>avg_ndcg</th>\n",
       "      <th>avg_p3</th>\n",
       "    </tr>\n",
       "  </thead>\n",
       "  <tbody>\n",
       "    <tr>\n",
       "      <th>Ensemble wfm_sc</th>\n",
       "      <td>0.422222</td>\n",
       "      <td>0.577778</td>\n",
       "      <td>0.685185</td>\n",
       "      <td>0.601864</td>\n",
       "      <td>0.355556</td>\n",
       "    </tr>\n",
       "  </tbody>\n",
       "</table>\n",
       "</div>"
      ],
      "text/plain": [
       "                      map       mrr    avg_sr  avg_ndcg    avg_p3\n",
       "Ensemble wfm_sc  0.422222  0.577778  0.685185  0.601864  0.355556"
      ]
     },
     "execution_count": 152,
     "metadata": {},
     "output_type": "execute_result"
    }
   ],
   "source": [
    "# E11\n",
    "pd.DataFrame(calc_metrics(df1),index=df1.Model_name.unique())"
   ]
  },
  {
   "cell_type": "code",
   "execution_count": 137,
   "metadata": {
    "hidden": true
   },
   "outputs": [
    {
     "data": {
      "text/html": [
       "<div>\n",
       "<style scoped>\n",
       "    .dataframe tbody tr th:only-of-type {\n",
       "        vertical-align: middle;\n",
       "    }\n",
       "\n",
       "    .dataframe tbody tr th {\n",
       "        vertical-align: top;\n",
       "    }\n",
       "\n",
       "    .dataframe thead th {\n",
       "        text-align: right;\n",
       "    }\n",
       "</style>\n",
       "<table border=\"1\" class=\"dataframe\">\n",
       "  <thead>\n",
       "    <tr style=\"text-align: right;\">\n",
       "      <th></th>\n",
       "      <th>map</th>\n",
       "      <th>mrr</th>\n",
       "      <th>avg_sr</th>\n",
       "      <th>avg_ndcg</th>\n",
       "      <th>avg_p3</th>\n",
       "    </tr>\n",
       "  </thead>\n",
       "  <tbody>\n",
       "    <tr>\n",
       "      <th>Ensemble wfm_sc</th>\n",
       "      <td>0.418313</td>\n",
       "      <td>0.577778</td>\n",
       "      <td>0.692593</td>\n",
       "      <td>0.603078</td>\n",
       "      <td>0.35679</td>\n",
       "    </tr>\n",
       "  </tbody>\n",
       "</table>\n",
       "</div>"
      ],
      "text/plain": [
       "                      map       mrr    avg_sr  avg_ndcg   avg_p3\n",
       "Ensemble wfm_sc  0.418313  0.577778  0.692593  0.603078  0.35679"
      ]
     },
     "execution_count": 137,
     "metadata": {},
     "output_type": "execute_result"
    }
   ],
   "source": [
    "# E8\n",
    "pd.DataFrame(calc_metrics(df1),index=df1.Model_name.unique())"
   ]
  },
  {
   "cell_type": "code",
   "execution_count": 140,
   "metadata": {
    "hidden": true
   },
   "outputs": [
    {
     "data": {
      "text/html": [
       "<div>\n",
       "<style scoped>\n",
       "    .dataframe tbody tr th:only-of-type {\n",
       "        vertical-align: middle;\n",
       "    }\n",
       "\n",
       "    .dataframe tbody tr th {\n",
       "        vertical-align: top;\n",
       "    }\n",
       "\n",
       "    .dataframe thead th {\n",
       "        text-align: right;\n",
       "    }\n",
       "</style>\n",
       "<table border=\"1\" class=\"dataframe\">\n",
       "  <thead>\n",
       "    <tr style=\"text-align: right;\">\n",
       "      <th></th>\n",
       "      <th>map</th>\n",
       "      <th>mrr</th>\n",
       "      <th>avg_sr</th>\n",
       "      <th>avg_ndcg</th>\n",
       "      <th>avg_p3</th>\n",
       "    </tr>\n",
       "  </thead>\n",
       "  <tbody>\n",
       "    <tr>\n",
       "      <th>Ensemble wfm_sc</th>\n",
       "      <td>0.426337</td>\n",
       "      <td>0.582716</td>\n",
       "      <td>0.692593</td>\n",
       "      <td>0.608499</td>\n",
       "      <td>0.35679</td>\n",
       "    </tr>\n",
       "  </tbody>\n",
       "</table>\n",
       "</div>"
      ],
      "text/plain": [
       "                      map       mrr    avg_sr  avg_ndcg   avg_p3\n",
       "Ensemble wfm_sc  0.426337  0.582716  0.692593  0.608499  0.35679"
      ]
     },
     "execution_count": 140,
     "metadata": {},
     "output_type": "execute_result"
    }
   ],
   "source": [
    "# E4\n",
    "pd.DataFrame(calc_metrics(df1),index=df1.Model_name.unique())"
   ]
  },
  {
   "cell_type": "code",
   "execution_count": 143,
   "metadata": {
    "hidden": true
   },
   "outputs": [
    {
     "data": {
      "text/html": [
       "<div>\n",
       "<style scoped>\n",
       "    .dataframe tbody tr th:only-of-type {\n",
       "        vertical-align: middle;\n",
       "    }\n",
       "\n",
       "    .dataframe tbody tr th {\n",
       "        vertical-align: top;\n",
       "    }\n",
       "\n",
       "    .dataframe thead th {\n",
       "        text-align: right;\n",
       "    }\n",
       "</style>\n",
       "<table border=\"1\" class=\"dataframe\">\n",
       "  <thead>\n",
       "    <tr style=\"text-align: right;\">\n",
       "      <th></th>\n",
       "      <th>map</th>\n",
       "      <th>mrr</th>\n",
       "      <th>avg_sr</th>\n",
       "      <th>avg_ndcg</th>\n",
       "      <th>avg_p3</th>\n",
       "    </tr>\n",
       "  </thead>\n",
       "  <tbody>\n",
       "    <tr>\n",
       "      <th>Ensemble wfm_sc</th>\n",
       "      <td>0.406379</td>\n",
       "      <td>0.561728</td>\n",
       "      <td>0.685185</td>\n",
       "      <td>0.591304</td>\n",
       "      <td>0.350617</td>\n",
       "    </tr>\n",
       "  </tbody>\n",
       "</table>\n",
       "</div>"
      ],
      "text/plain": [
       "                      map       mrr    avg_sr  avg_ndcg    avg_p3\n",
       "Ensemble wfm_sc  0.406379  0.561728  0.685185  0.591304  0.350617"
      ]
     },
     "execution_count": 143,
     "metadata": {},
     "output_type": "execute_result"
    }
   ],
   "source": [
    "# E5\n",
    "pd.DataFrame(calc_metrics(df1),index=df1.Model_name.unique())"
   ]
  },
  {
   "cell_type": "code",
   "execution_count": 146,
   "metadata": {
    "hidden": true
   },
   "outputs": [
    {
     "data": {
      "text/html": [
       "<div>\n",
       "<style scoped>\n",
       "    .dataframe tbody tr th:only-of-type {\n",
       "        vertical-align: middle;\n",
       "    }\n",
       "\n",
       "    .dataframe tbody tr th {\n",
       "        vertical-align: top;\n",
       "    }\n",
       "\n",
       "    .dataframe thead th {\n",
       "        text-align: right;\n",
       "    }\n",
       "</style>\n",
       "<table border=\"1\" class=\"dataframe\">\n",
       "  <thead>\n",
       "    <tr style=\"text-align: right;\">\n",
       "      <th></th>\n",
       "      <th>map</th>\n",
       "      <th>mrr</th>\n",
       "      <th>avg_sr</th>\n",
       "      <th>avg_ndcg</th>\n",
       "      <th>avg_p3</th>\n",
       "    </tr>\n",
       "  </thead>\n",
       "  <tbody>\n",
       "    <tr>\n",
       "      <th>Ensemble ns</th>\n",
       "      <td>0.39177</td>\n",
       "      <td>0.546914</td>\n",
       "      <td>0.655556</td>\n",
       "      <td>0.571552</td>\n",
       "      <td>0.334568</td>\n",
       "    </tr>\n",
       "  </tbody>\n",
       "</table>\n",
       "</div>"
      ],
      "text/plain": [
       "                 map       mrr    avg_sr  avg_ndcg    avg_p3\n",
       "Ensemble ns  0.39177  0.546914  0.655556  0.571552  0.334568"
      ]
     },
     "execution_count": 146,
     "metadata": {},
     "output_type": "execute_result"
    }
   ],
   "source": [
    "# E6\n",
    "pd.DataFrame(calc_metrics(df1),index=df1.Model_name.unique())"
   ]
  },
  {
   "cell_type": "code",
   "execution_count": 149,
   "metadata": {
    "hidden": true
   },
   "outputs": [
    {
     "data": {
      "text/html": [
       "<div>\n",
       "<style scoped>\n",
       "    .dataframe tbody tr th:only-of-type {\n",
       "        vertical-align: middle;\n",
       "    }\n",
       "\n",
       "    .dataframe tbody tr th {\n",
       "        vertical-align: top;\n",
       "    }\n",
       "\n",
       "    .dataframe thead th {\n",
       "        text-align: right;\n",
       "    }\n",
       "</style>\n",
       "<table border=\"1\" class=\"dataframe\">\n",
       "  <thead>\n",
       "    <tr style=\"text-align: right;\">\n",
       "      <th></th>\n",
       "      <th>map</th>\n",
       "      <th>mrr</th>\n",
       "      <th>avg_sr</th>\n",
       "      <th>avg_ndcg</th>\n",
       "      <th>avg_p3</th>\n",
       "    </tr>\n",
       "  </thead>\n",
       "  <tbody>\n",
       "    <tr>\n",
       "      <th>Ensemble ns</th>\n",
       "      <td>0.348765</td>\n",
       "      <td>0.496296</td>\n",
       "      <td>0.648148</td>\n",
       "      <td>0.533741</td>\n",
       "      <td>0.318519</td>\n",
       "    </tr>\n",
       "  </tbody>\n",
       "</table>\n",
       "</div>"
      ],
      "text/plain": [
       "                  map       mrr    avg_sr  avg_ndcg    avg_p3\n",
       "Ensemble ns  0.348765  0.496296  0.648148  0.533741  0.318519"
      ]
     },
     "execution_count": 149,
     "metadata": {},
     "output_type": "execute_result"
    }
   ],
   "source": [
    "# E7\n",
    "pd.DataFrame(calc_metrics(df1),index=df1.Model_name.unique())"
   ]
  },
  {
   "cell_type": "code",
   "execution_count": 46,
   "metadata": {
    "hidden": true
   },
   "outputs": [
    {
     "data": {
      "text/html": [
       "<div>\n",
       "<style scoped>\n",
       "    .dataframe tbody tr th:only-of-type {\n",
       "        vertical-align: middle;\n",
       "    }\n",
       "\n",
       "    .dataframe tbody tr th {\n",
       "        vertical-align: top;\n",
       "    }\n",
       "\n",
       "    .dataframe thead th {\n",
       "        text-align: right;\n",
       "    }\n",
       "</style>\n",
       "<table border=\"1\" class=\"dataframe\">\n",
       "  <thead>\n",
       "    <tr style=\"text-align: right;\">\n",
       "      <th></th>\n",
       "      <th>map</th>\n",
       "      <th>mrr</th>\n",
       "      <th>avg_sr</th>\n",
       "      <th>avg_ndcg</th>\n",
       "      <th>avg_p3</th>\n",
       "    </tr>\n",
       "  </thead>\n",
       "  <tbody>\n",
       "    <tr>\n",
       "      <th>Ensemble wfm_sc</th>\n",
       "      <td>0.30679</td>\n",
       "      <td>0.439506</td>\n",
       "      <td>0.525926</td>\n",
       "      <td>0.459216</td>\n",
       "      <td>0.251852</td>\n",
       "    </tr>\n",
       "  </tbody>\n",
       "</table>\n",
       "</div>"
      ],
      "text/plain": [
       "                     map       mrr    avg_sr  avg_ndcg    avg_p3\n",
       "Ensemble wfm_sc  0.30679  0.439506  0.525926  0.459216  0.251852"
      ]
     },
     "execution_count": 46,
     "metadata": {},
     "output_type": "execute_result"
    }
   ],
   "source": [
    "# E21\n",
    "pd.DataFrame(calc_metrics(df1),index=df1.Model_name.unique())"
   ]
  },
  {
   "cell_type": "code",
   "execution_count": null,
   "metadata": {
    "hidden": true
   },
   "outputs": [],
   "source": []
  },
  {
   "cell_type": "code",
   "execution_count": null,
   "metadata": {
    "hidden": true
   },
   "outputs": [],
   "source": []
  },
  {
   "cell_type": "code",
   "execution_count": null,
   "metadata": {
    "hidden": true
   },
   "outputs": [],
   "source": []
  },
  {
   "cell_type": "markdown",
   "metadata": {
    "heading_collapsed": true,
    "hidden": true
   },
   "source": [
    "## BERT_spc"
   ]
  },
  {
   "cell_type": "markdown",
   "metadata": {
    "heading_collapsed": true,
    "hidden": true
   },
   "source": [
    "### asha "
   ]
  },
  {
   "cell_type": "code",
   "execution_count": 154,
   "metadata": {
    "collapsed": true,
    "hidden": true
   },
   "outputs": [
    {
     "data": {
      "text/html": [
       "<div>\n",
       "<style scoped>\n",
       "    .dataframe tbody tr th:only-of-type {\n",
       "        vertical-align: middle;\n",
       "    }\n",
       "\n",
       "    .dataframe tbody tr th {\n",
       "        vertical-align: top;\n",
       "    }\n",
       "\n",
       "    .dataframe thead th {\n",
       "        text-align: right;\n",
       "    }\n",
       "</style>\n",
       "<table border=\"1\" class=\"dataframe\">\n",
       "  <thead>\n",
       "    <tr style=\"text-align: right;\">\n",
       "      <th></th>\n",
       "      <th>map</th>\n",
       "      <th>mrr</th>\n",
       "      <th>avg_sr</th>\n",
       "      <th>avg_ndcg</th>\n",
       "      <th>avg_p3</th>\n",
       "    </tr>\n",
       "  </thead>\n",
       "  <tbody>\n",
       "    <tr>\n",
       "      <th>BERT_spc_53_final</th>\n",
       "      <td>0.015021</td>\n",
       "      <td>0.030864</td>\n",
       "      <td>0.062963</td>\n",
       "      <td>0.038977</td>\n",
       "      <td>0.020988</td>\n",
       "    </tr>\n",
       "  </tbody>\n",
       "</table>\n",
       "</div>"
      ],
      "text/plain": [
       "                        map       mrr    avg_sr  avg_ndcg    avg_p3\n",
       "BERT_spc_53_final  0.015021  0.030864  0.062963  0.038977  0.020988"
      ]
     },
     "execution_count": 154,
     "metadata": {},
     "output_type": "execute_result"
    }
   ],
   "source": [
    "# asha sentsim\n",
    "pd.DataFrame(calc_metrics(df1),index=df1.Model_name.unique())"
   ]
  },
  {
   "cell_type": "code",
   "execution_count": 158,
   "metadata": {
    "hidden": true
   },
   "outputs": [
    {
     "data": {
      "text/html": [
       "<div>\n",
       "<style scoped>\n",
       "    .dataframe tbody tr th:only-of-type {\n",
       "        vertical-align: middle;\n",
       "    }\n",
       "\n",
       "    .dataframe tbody tr th {\n",
       "        vertical-align: top;\n",
       "    }\n",
       "\n",
       "    .dataframe thead th {\n",
       "        text-align: right;\n",
       "    }\n",
       "</style>\n",
       "<table border=\"1\" class=\"dataframe\">\n",
       "  <thead>\n",
       "    <tr style=\"text-align: right;\">\n",
       "      <th></th>\n",
       "      <th>map</th>\n",
       "      <th>mrr</th>\n",
       "      <th>avg_sr</th>\n",
       "      <th>avg_ndcg</th>\n",
       "      <th>avg_p3</th>\n",
       "    </tr>\n",
       "  </thead>\n",
       "  <tbody>\n",
       "    <tr>\n",
       "      <th>BERT_spc_53_epoch0</th>\n",
       "      <td>0.388683</td>\n",
       "      <td>0.529012</td>\n",
       "      <td>0.603704</td>\n",
       "      <td>0.544888</td>\n",
       "      <td>0.323457</td>\n",
       "    </tr>\n",
       "  </tbody>\n",
       "</table>\n",
       "</div>"
      ],
      "text/plain": [
       "                         map       mrr    avg_sr  avg_ndcg    avg_p3\n",
       "BERT_spc_53_epoch0  0.388683  0.529012  0.603704  0.544888  0.323457"
      ]
     },
     "execution_count": 158,
     "metadata": {},
     "output_type": "execute_result"
    }
   ],
   "source": [
    "# asha sentsim\n",
    "pd.DataFrame(calc_metrics(df1),index=df1.Model_name.unique())"
   ]
  },
  {
   "cell_type": "code",
   "execution_count": 219,
   "metadata": {
    "hidden": true
   },
   "outputs": [
    {
     "data": {
      "text/html": [
       "<div>\n",
       "<style scoped>\n",
       "    .dataframe tbody tr th:only-of-type {\n",
       "        vertical-align: middle;\n",
       "    }\n",
       "\n",
       "    .dataframe tbody tr th {\n",
       "        vertical-align: top;\n",
       "    }\n",
       "\n",
       "    .dataframe thead th {\n",
       "        text-align: right;\n",
       "    }\n",
       "</style>\n",
       "<table border=\"1\" class=\"dataframe\">\n",
       "  <thead>\n",
       "    <tr style=\"text-align: right;\">\n",
       "      <th></th>\n",
       "      <th>map</th>\n",
       "      <th>mrr</th>\n",
       "      <th>avg_sr</th>\n",
       "      <th>avg_ndcg</th>\n",
       "      <th>avg_p3</th>\n",
       "    </tr>\n",
       "  </thead>\n",
       "  <tbody>\n",
       "    <tr>\n",
       "      <th>BERT_spc_61_final</th>\n",
       "      <td>0.015021</td>\n",
       "      <td>0.030864</td>\n",
       "      <td>0.062963</td>\n",
       "      <td>0.038977</td>\n",
       "      <td>0.323457</td>\n",
       "    </tr>\n",
       "  </tbody>\n",
       "</table>\n",
       "</div>"
      ],
      "text/plain": [
       "                        map       mrr    avg_sr  avg_ndcg    avg_p3\n",
       "BERT_spc_61_final  0.015021  0.030864  0.062963  0.038977  0.323457"
      ]
     },
     "execution_count": 219,
     "metadata": {},
     "output_type": "execute_result"
    }
   ],
   "source": [
    "# asha sentsim REPEATED\n",
    "pd.DataFrame(calc_metrics(df1),index=df1.Model_name.unique())"
   ]
  },
  {
   "cell_type": "code",
   "execution_count": 217,
   "metadata": {
    "hidden": true
   },
   "outputs": [
    {
     "data": {
      "text/html": [
       "<div>\n",
       "<style scoped>\n",
       "    .dataframe tbody tr th:only-of-type {\n",
       "        vertical-align: middle;\n",
       "    }\n",
       "\n",
       "    .dataframe tbody tr th {\n",
       "        vertical-align: top;\n",
       "    }\n",
       "\n",
       "    .dataframe thead th {\n",
       "        text-align: right;\n",
       "    }\n",
       "</style>\n",
       "<table border=\"1\" class=\"dataframe\">\n",
       "  <thead>\n",
       "    <tr style=\"text-align: right;\">\n",
       "      <th></th>\n",
       "      <th>map</th>\n",
       "      <th>mrr</th>\n",
       "      <th>avg_sr</th>\n",
       "      <th>avg_ndcg</th>\n",
       "      <th>avg_p3</th>\n",
       "    </tr>\n",
       "  </thead>\n",
       "  <tbody>\n",
       "    <tr>\n",
       "      <th>BERT_spc_61_epoch_0</th>\n",
       "      <td>0.388683</td>\n",
       "      <td>0.529012</td>\n",
       "      <td>0.603704</td>\n",
       "      <td>0.544888</td>\n",
       "      <td>0.323457</td>\n",
       "    </tr>\n",
       "  </tbody>\n",
       "</table>\n",
       "</div>"
      ],
      "text/plain": [
       "                          map       mrr    avg_sr  avg_ndcg    avg_p3\n",
       "BERT_spc_61_epoch_0  0.388683  0.529012  0.603704  0.544888  0.323457"
      ]
     },
     "execution_count": 217,
     "metadata": {},
     "output_type": "execute_result"
    }
   ],
   "source": [
    "# asha sentsim REPEATED\n",
    "pd.DataFrame(calc_metrics(df1),index=df1.Model_name.unique())"
   ]
  },
  {
   "cell_type": "code",
   "execution_count": 354,
   "metadata": {
    "collapsed": true,
    "hidden": true
   },
   "outputs": [
    {
     "data": {
      "text/html": [
       "<div>\n",
       "<style scoped>\n",
       "    .dataframe tbody tr th:only-of-type {\n",
       "        vertical-align: middle;\n",
       "    }\n",
       "\n",
       "    .dataframe tbody tr th {\n",
       "        vertical-align: top;\n",
       "    }\n",
       "\n",
       "    .dataframe thead th {\n",
       "        text-align: right;\n",
       "    }\n",
       "</style>\n",
       "<table border=\"1\" class=\"dataframe\">\n",
       "  <thead>\n",
       "    <tr style=\"text-align: right;\">\n",
       "      <th></th>\n",
       "      <th>map</th>\n",
       "      <th>mrr</th>\n",
       "      <th>avg_sr</th>\n",
       "      <th>avg_ndcg</th>\n",
       "      <th>avg_p3</th>\n",
       "    </tr>\n",
       "  </thead>\n",
       "  <tbody>\n",
       "    <tr>\n",
       "      <th>BERT_spc_61_epoch_0_added_answer</th>\n",
       "      <td>0.320165</td>\n",
       "      <td>0.44321</td>\n",
       "      <td>0.518519</td>\n",
       "      <td>0.459437</td>\n",
       "      <td>0.264198</td>\n",
       "    </tr>\n",
       "  </tbody>\n",
       "</table>\n",
       "</div>"
      ],
      "text/plain": [
       "                                       map      mrr    avg_sr  avg_ndcg  \\\n",
       "BERT_spc_61_epoch_0_added_answer  0.320165  0.44321  0.518519  0.459437   \n",
       "\n",
       "                                    avg_p3  \n",
       "BERT_spc_61_epoch_0_added_answer  0.264198  "
      ]
     },
     "execution_count": 354,
     "metadata": {},
     "output_type": "execute_result"
    }
   ],
   "source": [
    "# asha sentsim | added answer\n",
    "pd.DataFrame(calc_metrics(df1),index=df1.Model_name.unique())"
   ]
  },
  {
   "cell_type": "code",
   "execution_count": 79,
   "metadata": {
    "collapsed": true,
    "hidden": true
   },
   "outputs": [
    {
     "data": {
      "text/html": [
       "<div>\n",
       "<style scoped>\n",
       "    .dataframe tbody tr th:only-of-type {\n",
       "        vertical-align: middle;\n",
       "    }\n",
       "\n",
       "    .dataframe tbody tr th {\n",
       "        vertical-align: top;\n",
       "    }\n",
       "\n",
       "    .dataframe thead th {\n",
       "        text-align: right;\n",
       "    }\n",
       "</style>\n",
       "<table border=\"1\" class=\"dataframe\">\n",
       "  <thead>\n",
       "    <tr style=\"text-align: right;\">\n",
       "      <th></th>\n",
       "      <th>map</th>\n",
       "      <th>mrr</th>\n",
       "      <th>avg_sr</th>\n",
       "      <th>avg_ndcg</th>\n",
       "      <th>avg_p3</th>\n",
       "    </tr>\n",
       "  </thead>\n",
       "  <tbody>\n",
       "    <tr>\n",
       "      <th>BERT_spc_77_epoch_0</th>\n",
       "      <td>0.405144</td>\n",
       "      <td>0.545679</td>\n",
       "      <td>0.607407</td>\n",
       "      <td>0.55653</td>\n",
       "      <td>0.332099</td>\n",
       "    </tr>\n",
       "  </tbody>\n",
       "</table>\n",
       "</div>"
      ],
      "text/plain": [
       "                          map       mrr    avg_sr  avg_ndcg    avg_p3\n",
       "BERT_spc_77_epoch_0  0.405144  0.545679  0.607407   0.55653  0.332099"
      ]
     },
     "execution_count": 79,
     "metadata": {},
     "output_type": "execute_result"
    }
   ],
   "source": [
    "# asha sentsim REPEATED again\n",
    "pd.DataFrame(calc_metrics(df1),index=df1.Model_name.unique())"
   ]
  },
  {
   "cell_type": "code",
   "execution_count": 431,
   "metadata": {
    "collapsed": true,
    "hidden": true
   },
   "outputs": [
    {
     "data": {
      "text/html": [
       "<div>\n",
       "<style scoped>\n",
       "    .dataframe tbody tr th:only-of-type {\n",
       "        vertical-align: middle;\n",
       "    }\n",
       "\n",
       "    .dataframe tbody tr th {\n",
       "        vertical-align: top;\n",
       "    }\n",
       "\n",
       "    .dataframe thead th {\n",
       "        text-align: right;\n",
       "    }\n",
       "</style>\n",
       "<table border=\"1\" class=\"dataframe\">\n",
       "  <thead>\n",
       "    <tr style=\"text-align: right;\">\n",
       "      <th></th>\n",
       "      <th>map</th>\n",
       "      <th>mrr</th>\n",
       "      <th>avg_sr</th>\n",
       "      <th>avg_ndcg</th>\n",
       "      <th>avg_p5</th>\n",
       "    </tr>\n",
       "  </thead>\n",
       "  <tbody>\n",
       "    <tr>\n",
       "      <th>BERT_spc_61_epoch_0</th>\n",
       "      <td>0.345173</td>\n",
       "      <td>0.586543</td>\n",
       "      <td>0.703704</td>\n",
       "      <td>0.576941</td>\n",
       "      <td>0.268148</td>\n",
       "    </tr>\n",
       "  </tbody>\n",
       "</table>\n",
       "</div>"
      ],
      "text/plain": [
       "                          map       mrr    avg_sr  avg_ndcg    avg_p5\n",
       "BERT_spc_61_epoch_0  0.345173  0.586543  0.703704  0.576941  0.268148"
      ]
     },
     "execution_count": 431,
     "metadata": {},
     "output_type": "execute_result"
    }
   ],
   "source": [
    "# asha sentsim top5\n",
    "pd.DataFrame(calc_metrics(df1),index=df1.Model_name.unique())"
   ]
  },
  {
   "cell_type": "code",
   "execution_count": 65,
   "metadata": {
    "collapsed": true,
    "hidden": true
   },
   "outputs": [
    {
     "data": {
      "text/html": [
       "<div>\n",
       "<style scoped>\n",
       "    .dataframe tbody tr th:only-of-type {\n",
       "        vertical-align: middle;\n",
       "    }\n",
       "\n",
       "    .dataframe tbody tr th {\n",
       "        vertical-align: top;\n",
       "    }\n",
       "\n",
       "    .dataframe thead th {\n",
       "        text-align: right;\n",
       "    }\n",
       "</style>\n",
       "<table border=\"1\" class=\"dataframe\">\n",
       "  <thead>\n",
       "    <tr style=\"text-align: right;\">\n",
       "      <th></th>\n",
       "      <th>map</th>\n",
       "      <th>mrr</th>\n",
       "      <th>avg_sr</th>\n",
       "      <th>avg_ndcg</th>\n",
       "      <th>avg_p3</th>\n",
       "    </tr>\n",
       "  </thead>\n",
       "  <tbody>\n",
       "    <tr>\n",
       "      <th>BERT_spc_61_epoch_1</th>\n",
       "      <td>0.3393</td>\n",
       "      <td>0.474074</td>\n",
       "      <td>0.585185</td>\n",
       "      <td>0.498294</td>\n",
       "      <td>0.297531</td>\n",
       "    </tr>\n",
       "  </tbody>\n",
       "</table>\n",
       "</div>"
      ],
      "text/plain": [
       "                        map       mrr    avg_sr  avg_ndcg    avg_p3\n",
       "BERT_spc_61_epoch_1  0.3393  0.474074  0.585185  0.498294  0.297531"
      ]
     },
     "execution_count": 65,
     "metadata": {},
     "output_type": "execute_result"
    }
   ],
   "source": [
    "# asha sentsim REPEATED\n",
    "pd.DataFrame(calc_metrics(df1),index=df1.Model_name.unique())"
   ]
  },
  {
   "cell_type": "code",
   "execution_count": 68,
   "metadata": {
    "collapsed": true,
    "hidden": true
   },
   "outputs": [
    {
     "data": {
      "text/html": [
       "<div>\n",
       "<style scoped>\n",
       "    .dataframe tbody tr th:only-of-type {\n",
       "        vertical-align: middle;\n",
       "    }\n",
       "\n",
       "    .dataframe tbody tr th {\n",
       "        vertical-align: top;\n",
       "    }\n",
       "\n",
       "    .dataframe thead th {\n",
       "        text-align: right;\n",
       "    }\n",
       "</style>\n",
       "<table border=\"1\" class=\"dataframe\">\n",
       "  <thead>\n",
       "    <tr style=\"text-align: right;\">\n",
       "      <th></th>\n",
       "      <th>map</th>\n",
       "      <th>mrr</th>\n",
       "      <th>avg_sr</th>\n",
       "      <th>avg_ndcg</th>\n",
       "      <th>avg_p3</th>\n",
       "    </tr>\n",
       "  </thead>\n",
       "  <tbody>\n",
       "    <tr>\n",
       "      <th>BERT_spc_61_epoch_2</th>\n",
       "      <td>0.284774</td>\n",
       "      <td>0.40679</td>\n",
       "      <td>0.492593</td>\n",
       "      <td>0.426379</td>\n",
       "      <td>0.239506</td>\n",
       "    </tr>\n",
       "  </tbody>\n",
       "</table>\n",
       "</div>"
      ],
      "text/plain": [
       "                          map      mrr    avg_sr  avg_ndcg    avg_p3\n",
       "BERT_spc_61_epoch_2  0.284774  0.40679  0.492593  0.426379  0.239506"
      ]
     },
     "execution_count": 68,
     "metadata": {},
     "output_type": "execute_result"
    }
   ],
   "source": [
    "# asha sentsim REPEATED\n",
    "pd.DataFrame(calc_metrics(df1),index=df1.Model_name.unique())"
   ]
  },
  {
   "cell_type": "code",
   "execution_count": 41,
   "metadata": {
    "hidden": true
   },
   "outputs": [
    {
     "data": {
      "text/html": [
       "<div>\n",
       "<style scoped>\n",
       "    .dataframe tbody tr th:only-of-type {\n",
       "        vertical-align: middle;\n",
       "    }\n",
       "\n",
       "    .dataframe tbody tr th {\n",
       "        vertical-align: top;\n",
       "    }\n",
       "\n",
       "    .dataframe thead th {\n",
       "        text-align: right;\n",
       "    }\n",
       "</style>\n",
       "<table border=\"1\" class=\"dataframe\">\n",
       "  <thead>\n",
       "    <tr style=\"text-align: right;\">\n",
       "      <th></th>\n",
       "      <th>map</th>\n",
       "      <th>mrr</th>\n",
       "      <th>avg_sr</th>\n",
       "      <th>avg_ndcg</th>\n",
       "      <th>avg_p3</th>\n",
       "    </tr>\n",
       "  </thead>\n",
       "  <tbody>\n",
       "    <tr>\n",
       "      <th>BERT_spc_72_final</th>\n",
       "      <td>0.162346</td>\n",
       "      <td>0.253704</td>\n",
       "      <td>0.355556</td>\n",
       "      <td>0.278075</td>\n",
       "      <td>0.151852</td>\n",
       "    </tr>\n",
       "  </tbody>\n",
       "</table>\n",
       "</div>"
      ],
      "text/plain": [
       "                        map       mrr    avg_sr  avg_ndcg    avg_p3\n",
       "BERT_spc_72_final  0.162346  0.253704  0.355556  0.278075  0.151852"
      ]
     },
     "execution_count": 41,
     "metadata": {},
     "output_type": "execute_result"
    }
   ],
   "source": [
    "# asha sentsim | NEW CODE with activation = identity | BERT last 2\n",
    "pd.DataFrame(calc_metrics(df1),index=df1.Model_name.unique())"
   ]
  },
  {
   "cell_type": "code",
   "execution_count": 38,
   "metadata": {
    "hidden": true
   },
   "outputs": [
    {
     "data": {
      "text/html": [
       "<div>\n",
       "<style scoped>\n",
       "    .dataframe tbody tr th:only-of-type {\n",
       "        vertical-align: middle;\n",
       "    }\n",
       "\n",
       "    .dataframe tbody tr th {\n",
       "        vertical-align: top;\n",
       "    }\n",
       "\n",
       "    .dataframe thead th {\n",
       "        text-align: right;\n",
       "    }\n",
       "</style>\n",
       "<table border=\"1\" class=\"dataframe\">\n",
       "  <thead>\n",
       "    <tr style=\"text-align: right;\">\n",
       "      <th></th>\n",
       "      <th>map</th>\n",
       "      <th>mrr</th>\n",
       "      <th>avg_sr</th>\n",
       "      <th>avg_ndcg</th>\n",
       "      <th>avg_p3</th>\n",
       "    </tr>\n",
       "  </thead>\n",
       "  <tbody>\n",
       "    <tr>\n",
       "      <th>BERT_spc_72_epoch_0</th>\n",
       "      <td>0.204733</td>\n",
       "      <td>0.298148</td>\n",
       "      <td>0.362963</td>\n",
       "      <td>0.313448</td>\n",
       "      <td>0.167901</td>\n",
       "    </tr>\n",
       "  </tbody>\n",
       "</table>\n",
       "</div>"
      ],
      "text/plain": [
       "                          map       mrr    avg_sr  avg_ndcg    avg_p3\n",
       "BERT_spc_72_epoch_0  0.204733  0.298148  0.362963  0.313448  0.167901"
      ]
     },
     "execution_count": 38,
     "metadata": {},
     "output_type": "execute_result"
    }
   ],
   "source": [
    "# asha sentsim | NEW CODE with activation = identity | BERT last 2\n",
    "pd.DataFrame(calc_metrics(df1),index=df1.Model_name.unique())"
   ]
  },
  {
   "cell_type": "code",
   "execution_count": 44,
   "metadata": {
    "hidden": true
   },
   "outputs": [
    {
     "data": {
      "text/html": [
       "<div>\n",
       "<style scoped>\n",
       "    .dataframe tbody tr th:only-of-type {\n",
       "        vertical-align: middle;\n",
       "    }\n",
       "\n",
       "    .dataframe tbody tr th {\n",
       "        vertical-align: top;\n",
       "    }\n",
       "\n",
       "    .dataframe thead th {\n",
       "        text-align: right;\n",
       "    }\n",
       "</style>\n",
       "<table border=\"1\" class=\"dataframe\">\n",
       "  <thead>\n",
       "    <tr style=\"text-align: right;\">\n",
       "      <th></th>\n",
       "      <th>map</th>\n",
       "      <th>mrr</th>\n",
       "      <th>avg_sr</th>\n",
       "      <th>avg_ndcg</th>\n",
       "      <th>avg_p3</th>\n",
       "    </tr>\n",
       "  </thead>\n",
       "  <tbody>\n",
       "    <tr>\n",
       "      <th>BERT_spc_73_final</th>\n",
       "      <td>0.010288</td>\n",
       "      <td>0.016049</td>\n",
       "      <td>0.022222</td>\n",
       "      <td>0.017637</td>\n",
       "      <td>0.008642</td>\n",
       "    </tr>\n",
       "  </tbody>\n",
       "</table>\n",
       "</div>"
      ],
      "text/plain": [
       "                        map       mrr    avg_sr  avg_ndcg    avg_p3\n",
       "BERT_spc_73_final  0.010288  0.016049  0.022222  0.017637  0.008642"
      ]
     },
     "execution_count": 44,
     "metadata": {},
     "output_type": "execute_result"
    }
   ],
   "source": [
    "# asha sentsim | NEW CODE with activation = identity | BERT first 2\n",
    "pd.DataFrame(calc_metrics(df1),index=df1.Model_name.unique())"
   ]
  },
  {
   "cell_type": "code",
   "execution_count": 47,
   "metadata": {
    "hidden": true
   },
   "outputs": [
    {
     "data": {
      "text/html": [
       "<div>\n",
       "<style scoped>\n",
       "    .dataframe tbody tr th:only-of-type {\n",
       "        vertical-align: middle;\n",
       "    }\n",
       "\n",
       "    .dataframe tbody tr th {\n",
       "        vertical-align: top;\n",
       "    }\n",
       "\n",
       "    .dataframe thead th {\n",
       "        text-align: right;\n",
       "    }\n",
       "</style>\n",
       "<table border=\"1\" class=\"dataframe\">\n",
       "  <thead>\n",
       "    <tr style=\"text-align: right;\">\n",
       "      <th></th>\n",
       "      <th>map</th>\n",
       "      <th>mrr</th>\n",
       "      <th>avg_sr</th>\n",
       "      <th>avg_ndcg</th>\n",
       "      <th>avg_p3</th>\n",
       "    </tr>\n",
       "  </thead>\n",
       "  <tbody>\n",
       "    <tr>\n",
       "      <th>BERT_spc_73_epoch_0</th>\n",
       "      <td>0.009465</td>\n",
       "      <td>0.016049</td>\n",
       "      <td>0.018519</td>\n",
       "      <td>0.016667</td>\n",
       "      <td>0.006173</td>\n",
       "    </tr>\n",
       "  </tbody>\n",
       "</table>\n",
       "</div>"
      ],
      "text/plain": [
       "                          map       mrr    avg_sr  avg_ndcg    avg_p3\n",
       "BERT_spc_73_epoch_0  0.009465  0.016049  0.018519  0.016667  0.006173"
      ]
     },
     "execution_count": 47,
     "metadata": {},
     "output_type": "execute_result"
    }
   ],
   "source": [
    "# asha sentsim | NEW CODE with activation = identity | BERT first 2\n",
    "pd.DataFrame(calc_metrics(df1),index=df1.Model_name.unique())"
   ]
  },
  {
   "cell_type": "code",
   "execution_count": 161,
   "metadata": {
    "collapsed": true,
    "hidden": true
   },
   "outputs": [
    {
     "data": {
      "text/html": [
       "<div>\n",
       "<style scoped>\n",
       "    .dataframe tbody tr th:only-of-type {\n",
       "        vertical-align: middle;\n",
       "    }\n",
       "\n",
       "    .dataframe tbody tr th {\n",
       "        vertical-align: top;\n",
       "    }\n",
       "\n",
       "    .dataframe thead th {\n",
       "        text-align: right;\n",
       "    }\n",
       "</style>\n",
       "<table border=\"1\" class=\"dataframe\">\n",
       "  <thead>\n",
       "    <tr style=\"text-align: right;\">\n",
       "      <th></th>\n",
       "      <th>map</th>\n",
       "      <th>mrr</th>\n",
       "      <th>avg_sr</th>\n",
       "      <th>avg_ndcg</th>\n",
       "      <th>avg_p3</th>\n",
       "    </tr>\n",
       "  </thead>\n",
       "  <tbody>\n",
       "    <tr>\n",
       "      <th>BERT_spc_53_epoch1</th>\n",
       "      <td>0.3393</td>\n",
       "      <td>0.474074</td>\n",
       "      <td>0.585185</td>\n",
       "      <td>0.498294</td>\n",
       "      <td>0.297531</td>\n",
       "    </tr>\n",
       "  </tbody>\n",
       "</table>\n",
       "</div>"
      ],
      "text/plain": [
       "                       map       mrr    avg_sr  avg_ndcg    avg_p3\n",
       "BERT_spc_53_epoch1  0.3393  0.474074  0.585185  0.498294  0.297531"
      ]
     },
     "execution_count": 161,
     "metadata": {},
     "output_type": "execute_result"
    }
   ],
   "source": [
    "# asha sentsim\n",
    "pd.DataFrame(calc_metrics(df1),index=df1.Model_name.unique())"
   ]
  },
  {
   "cell_type": "code",
   "execution_count": 20,
   "metadata": {
    "collapsed": true,
    "hidden": true
   },
   "outputs": [
    {
     "data": {
      "text/html": [
       "<div>\n",
       "<style scoped>\n",
       "    .dataframe tbody tr th:only-of-type {\n",
       "        vertical-align: middle;\n",
       "    }\n",
       "\n",
       "    .dataframe tbody tr th {\n",
       "        vertical-align: top;\n",
       "    }\n",
       "\n",
       "    .dataframe thead th {\n",
       "        text-align: right;\n",
       "    }\n",
       "</style>\n",
       "<table border=\"1\" class=\"dataframe\">\n",
       "  <thead>\n",
       "    <tr style=\"text-align: right;\">\n",
       "      <th></th>\n",
       "      <th>map</th>\n",
       "      <th>mrr</th>\n",
       "      <th>avg_sr</th>\n",
       "      <th>avg_ndcg</th>\n",
       "      <th>avg_p3</th>\n",
       "    </tr>\n",
       "  </thead>\n",
       "  <tbody>\n",
       "    <tr>\n",
       "      <th>BERT_spc_81_final</th>\n",
       "      <td>0.076132</td>\n",
       "      <td>0.125309</td>\n",
       "      <td>0.181481</td>\n",
       "      <td>0.139913</td>\n",
       "      <td>0.069136</td>\n",
       "    </tr>\n",
       "  </tbody>\n",
       "</table>\n",
       "</div>"
      ],
      "text/plain": [
       "                        map       mrr    avg_sr  avg_ndcg    avg_p3\n",
       "BERT_spc_81_final  0.076132  0.125309  0.181481  0.139913  0.069136"
      ]
     },
     "execution_count": 20,
     "metadata": {},
     "output_type": "execute_result"
    }
   ],
   "source": [
    "# REPEATED with max_len 100 ---> 200\n",
    "pd.DataFrame(calc_metrics(df1),index=df1.Model_name.unique())"
   ]
  },
  {
   "cell_type": "code",
   "execution_count": 24,
   "metadata": {
    "hidden": true
   },
   "outputs": [
    {
     "data": {
      "text/html": [
       "<div>\n",
       "<style scoped>\n",
       "    .dataframe tbody tr th:only-of-type {\n",
       "        vertical-align: middle;\n",
       "    }\n",
       "\n",
       "    .dataframe tbody tr th {\n",
       "        vertical-align: top;\n",
       "    }\n",
       "\n",
       "    .dataframe thead th {\n",
       "        text-align: right;\n",
       "    }\n",
       "</style>\n",
       "<table border=\"1\" class=\"dataframe\">\n",
       "  <thead>\n",
       "    <tr style=\"text-align: right;\">\n",
       "      <th></th>\n",
       "      <th>map</th>\n",
       "      <th>mrr</th>\n",
       "      <th>avg_sr</th>\n",
       "      <th>avg_ndcg</th>\n",
       "      <th>avg_p3</th>\n",
       "    </tr>\n",
       "  </thead>\n",
       "  <tbody>\n",
       "    <tr>\n",
       "      <th>BERT_spc_81_epoch_0</th>\n",
       "      <td>0.394239</td>\n",
       "      <td>0.541975</td>\n",
       "      <td>0.611111</td>\n",
       "      <td>0.555933</td>\n",
       "      <td>0.319753</td>\n",
       "    </tr>\n",
       "  </tbody>\n",
       "</table>\n",
       "</div>"
      ],
      "text/plain": [
       "                          map       mrr    avg_sr  avg_ndcg    avg_p3\n",
       "BERT_spc_81_epoch_0  0.394239  0.541975  0.611111  0.555933  0.319753"
      ]
     },
     "execution_count": 24,
     "metadata": {},
     "output_type": "execute_result"
    }
   ],
   "source": [
    "# REPEATED with max_len 100 ---> 200\n",
    "pd.DataFrame(calc_metrics(df1),index=df1.Model_name.unique())"
   ]
  },
  {
   "cell_type": "code",
   "execution_count": 41,
   "metadata": {
    "hidden": true
   },
   "outputs": [
    {
     "data": {
      "text/html": [
       "<div>\n",
       "<style scoped>\n",
       "    .dataframe tbody tr th:only-of-type {\n",
       "        vertical-align: middle;\n",
       "    }\n",
       "\n",
       "    .dataframe tbody tr th {\n",
       "        vertical-align: top;\n",
       "    }\n",
       "\n",
       "    .dataframe thead th {\n",
       "        text-align: right;\n",
       "    }\n",
       "</style>\n",
       "<table border=\"1\" class=\"dataframe\">\n",
       "  <thead>\n",
       "    <tr style=\"text-align: right;\">\n",
       "      <th></th>\n",
       "      <th>map</th>\n",
       "      <th>mrr</th>\n",
       "      <th>avg_sr</th>\n",
       "      <th>avg_ndcg</th>\n",
       "      <th>avg_p3</th>\n",
       "    </tr>\n",
       "  </thead>\n",
       "  <tbody>\n",
       "    <tr>\n",
       "      <th>BERT_spc_84_epoch_0</th>\n",
       "      <td>0.401235</td>\n",
       "      <td>0.545062</td>\n",
       "      <td>0.618519</td>\n",
       "      <td>0.560672</td>\n",
       "      <td>0.32963</td>\n",
       "    </tr>\n",
       "  </tbody>\n",
       "</table>\n",
       "</div>"
      ],
      "text/plain": [
       "                          map       mrr    avg_sr  avg_ndcg   avg_p3\n",
       "BERT_spc_84_epoch_0  0.401235  0.545062  0.618519  0.560672  0.32963"
      ]
     },
     "execution_count": 41,
     "metadata": {},
     "output_type": "execute_result"
    }
   ],
   "source": [
    "# REPEATED with max_len 100 ---> 300\n",
    "pd.DataFrame(calc_metrics(df1),index=df1.Model_name.unique())"
   ]
  },
  {
   "cell_type": "code",
   "execution_count": 45,
   "metadata": {
    "hidden": true
   },
   "outputs": [
    {
     "data": {
      "text/html": [
       "<div>\n",
       "<style scoped>\n",
       "    .dataframe tbody tr th:only-of-type {\n",
       "        vertical-align: middle;\n",
       "    }\n",
       "\n",
       "    .dataframe tbody tr th {\n",
       "        vertical-align: top;\n",
       "    }\n",
       "\n",
       "    .dataframe thead th {\n",
       "        text-align: right;\n",
       "    }\n",
       "</style>\n",
       "<table border=\"1\" class=\"dataframe\">\n",
       "  <thead>\n",
       "    <tr style=\"text-align: right;\">\n",
       "      <th></th>\n",
       "      <th>map</th>\n",
       "      <th>mrr</th>\n",
       "      <th>avg_sr</th>\n",
       "      <th>avg_ndcg</th>\n",
       "      <th>avg_p3</th>\n",
       "    </tr>\n",
       "  </thead>\n",
       "  <tbody>\n",
       "    <tr>\n",
       "      <th>BERT_spc_84_epoch_0_max_len_100</th>\n",
       "      <td>0.401852</td>\n",
       "      <td>0.545679</td>\n",
       "      <td>0.618519</td>\n",
       "      <td>0.561157</td>\n",
       "      <td>0.32963</td>\n",
       "    </tr>\n",
       "  </tbody>\n",
       "</table>\n",
       "</div>"
      ],
      "text/plain": [
       "                                      map       mrr    avg_sr  avg_ndcg  \\\n",
       "BERT_spc_84_epoch_0_max_len_100  0.401852  0.545679  0.618519  0.561157   \n",
       "\n",
       "                                  avg_p3  \n",
       "BERT_spc_84_epoch_0_max_len_100  0.32963  "
      ]
     },
     "execution_count": 45,
     "metadata": {},
     "output_type": "execute_result"
    }
   ],
   "source": [
    "# REPEATED with max_len 100 ---> 300 (during training) but 100 during testing\n",
    "pd.DataFrame(calc_metrics(df1),index=df1.Model_name.unique())"
   ]
  },
  {
   "cell_type": "code",
   "execution_count": null,
   "metadata": {
    "hidden": true
   },
   "outputs": [],
   "source": [
    "# REPEATED with max_len 100 ---> 400\n",
    "# gives CUDA memory error"
   ]
  },
  {
   "cell_type": "markdown",
   "metadata": {
    "heading_collapsed": true,
    "hidden": true
   },
   "source": [
    "### 400 sentence pairs "
   ]
  },
  {
   "cell_type": "code",
   "execution_count": 198,
   "metadata": {
    "hidden": true
   },
   "outputs": [
    {
     "data": {
      "text/html": [
       "<div>\n",
       "<style scoped>\n",
       "    .dataframe tbody tr th:only-of-type {\n",
       "        vertical-align: middle;\n",
       "    }\n",
       "\n",
       "    .dataframe tbody tr th {\n",
       "        vertical-align: top;\n",
       "    }\n",
       "\n",
       "    .dataframe thead th {\n",
       "        text-align: right;\n",
       "    }\n",
       "</style>\n",
       "<table border=\"1\" class=\"dataframe\">\n",
       "  <thead>\n",
       "    <tr style=\"text-align: right;\">\n",
       "      <th></th>\n",
       "      <th>map</th>\n",
       "      <th>mrr</th>\n",
       "      <th>avg_sr</th>\n",
       "      <th>avg_ndcg</th>\n",
       "      <th>avg_p3</th>\n",
       "    </tr>\n",
       "  </thead>\n",
       "  <tbody>\n",
       "    <tr>\n",
       "      <th>BERT_spc_58_final</th>\n",
       "      <td>0.081687</td>\n",
       "      <td>0.135185</td>\n",
       "      <td>0.203704</td>\n",
       "      <td>0.151202</td>\n",
       "      <td>0.080247</td>\n",
       "    </tr>\n",
       "  </tbody>\n",
       "</table>\n",
       "</div>"
      ],
      "text/plain": [
       "                        map       mrr    avg_sr  avg_ndcg    avg_p3\n",
       "BERT_spc_58_final  0.081687  0.135185  0.203704  0.151202  0.080247"
      ]
     },
     "execution_count": 198,
     "metadata": {},
     "output_type": "execute_result"
    }
   ],
   "source": [
    "# 400 sentence pairs\n",
    "pd.DataFrame(calc_metrics(df1),index=df1.Model_name.unique())"
   ]
  },
  {
   "cell_type": "code",
   "execution_count": 201,
   "metadata": {
    "hidden": true,
    "scrolled": true
   },
   "outputs": [
    {
     "data": {
      "text/html": [
       "<div>\n",
       "<style scoped>\n",
       "    .dataframe tbody tr th:only-of-type {\n",
       "        vertical-align: middle;\n",
       "    }\n",
       "\n",
       "    .dataframe tbody tr th {\n",
       "        vertical-align: top;\n",
       "    }\n",
       "\n",
       "    .dataframe thead th {\n",
       "        text-align: right;\n",
       "    }\n",
       "</style>\n",
       "<table border=\"1\" class=\"dataframe\">\n",
       "  <thead>\n",
       "    <tr style=\"text-align: right;\">\n",
       "      <th></th>\n",
       "      <th>map</th>\n",
       "      <th>mrr</th>\n",
       "      <th>avg_sr</th>\n",
       "      <th>avg_ndcg</th>\n",
       "      <th>avg_p3</th>\n",
       "    </tr>\n",
       "  </thead>\n",
       "  <tbody>\n",
       "    <tr>\n",
       "      <th>BERT_spc_58_epoch_0</th>\n",
       "      <td>0.277984</td>\n",
       "      <td>0.403704</td>\n",
       "      <td>0.514815</td>\n",
       "      <td>0.431151</td>\n",
       "      <td>0.24321</td>\n",
       "    </tr>\n",
       "  </tbody>\n",
       "</table>\n",
       "</div>"
      ],
      "text/plain": [
       "                          map       mrr    avg_sr  avg_ndcg   avg_p3\n",
       "BERT_spc_58_epoch_0  0.277984  0.403704  0.514815  0.431151  0.24321"
      ]
     },
     "execution_count": 201,
     "metadata": {},
     "output_type": "execute_result"
    }
   ],
   "source": [
    "# 400 sentence pairs\n",
    "pd.DataFrame(calc_metrics(df1),index=df1.Model_name.unique())"
   ]
  },
  {
   "cell_type": "code",
   "execution_count": 213,
   "metadata": {
    "hidden": true
   },
   "outputs": [
    {
     "data": {
      "text/html": [
       "<div>\n",
       "<style scoped>\n",
       "    .dataframe tbody tr th:only-of-type {\n",
       "        vertical-align: middle;\n",
       "    }\n",
       "\n",
       "    .dataframe tbody tr th {\n",
       "        vertical-align: top;\n",
       "    }\n",
       "\n",
       "    .dataframe thead th {\n",
       "        text-align: right;\n",
       "    }\n",
       "</style>\n",
       "<table border=\"1\" class=\"dataframe\">\n",
       "  <thead>\n",
       "    <tr style=\"text-align: right;\">\n",
       "      <th></th>\n",
       "      <th>map</th>\n",
       "      <th>mrr</th>\n",
       "      <th>avg_sr</th>\n",
       "      <th>avg_ndcg</th>\n",
       "      <th>avg_p3</th>\n",
       "    </tr>\n",
       "  </thead>\n",
       "  <tbody>\n",
       "    <tr>\n",
       "      <th>BERT_spc_60_final</th>\n",
       "      <td>0.081687</td>\n",
       "      <td>0.135185</td>\n",
       "      <td>0.203704</td>\n",
       "      <td>0.151202</td>\n",
       "      <td>0.080247</td>\n",
       "    </tr>\n",
       "  </tbody>\n",
       "</table>\n",
       "</div>"
      ],
      "text/plain": [
       "                        map       mrr    avg_sr  avg_ndcg    avg_p3\n",
       "BERT_spc_60_final  0.081687  0.135185  0.203704  0.151202  0.080247"
      ]
     },
     "execution_count": 213,
     "metadata": {},
     "output_type": "execute_result"
    }
   ],
   "source": [
    "# 400 sentence pairs REPEATED\n",
    "pd.DataFrame(calc_metrics(df1),index=df1.Model_name.unique())"
   ]
  },
  {
   "cell_type": "code",
   "execution_count": 210,
   "metadata": {
    "hidden": true
   },
   "outputs": [
    {
     "data": {
      "text/html": [
       "<div>\n",
       "<style scoped>\n",
       "    .dataframe tbody tr th:only-of-type {\n",
       "        vertical-align: middle;\n",
       "    }\n",
       "\n",
       "    .dataframe tbody tr th {\n",
       "        vertical-align: top;\n",
       "    }\n",
       "\n",
       "    .dataframe thead th {\n",
       "        text-align: right;\n",
       "    }\n",
       "</style>\n",
       "<table border=\"1\" class=\"dataframe\">\n",
       "  <thead>\n",
       "    <tr style=\"text-align: right;\">\n",
       "      <th></th>\n",
       "      <th>map</th>\n",
       "      <th>mrr</th>\n",
       "      <th>avg_sr</th>\n",
       "      <th>avg_ndcg</th>\n",
       "      <th>avg_p3</th>\n",
       "    </tr>\n",
       "  </thead>\n",
       "  <tbody>\n",
       "    <tr>\n",
       "      <th>BERT_spc_60_epoch_0</th>\n",
       "      <td>0.277984</td>\n",
       "      <td>0.403704</td>\n",
       "      <td>0.514815</td>\n",
       "      <td>0.431151</td>\n",
       "      <td>0.24321</td>\n",
       "    </tr>\n",
       "  </tbody>\n",
       "</table>\n",
       "</div>"
      ],
      "text/plain": [
       "                          map       mrr    avg_sr  avg_ndcg   avg_p3\n",
       "BERT_spc_60_epoch_0  0.277984  0.403704  0.514815  0.431151  0.24321"
      ]
     },
     "execution_count": 210,
     "metadata": {},
     "output_type": "execute_result"
    }
   ],
   "source": [
    "# 400 sentence pairs REPEATED\n",
    "pd.DataFrame(calc_metrics(df1),index=df1.Model_name.unique())"
   ]
  },
  {
   "cell_type": "code",
   "execution_count": 222,
   "metadata": {
    "hidden": true
   },
   "outputs": [
    {
     "data": {
      "text/html": [
       "<div>\n",
       "<style scoped>\n",
       "    .dataframe tbody tr th:only-of-type {\n",
       "        vertical-align: middle;\n",
       "    }\n",
       "\n",
       "    .dataframe tbody tr th {\n",
       "        vertical-align: top;\n",
       "    }\n",
       "\n",
       "    .dataframe thead th {\n",
       "        text-align: right;\n",
       "    }\n",
       "</style>\n",
       "<table border=\"1\" class=\"dataframe\">\n",
       "  <thead>\n",
       "    <tr style=\"text-align: right;\">\n",
       "      <th></th>\n",
       "      <th>map</th>\n",
       "      <th>mrr</th>\n",
       "      <th>avg_sr</th>\n",
       "      <th>avg_ndcg</th>\n",
       "      <th>avg_p3</th>\n",
       "    </tr>\n",
       "  </thead>\n",
       "  <tbody>\n",
       "    <tr>\n",
       "      <th>BERT_spc_62_final</th>\n",
       "      <td>0.125103</td>\n",
       "      <td>0.203086</td>\n",
       "      <td>0.3</td>\n",
       "      <td>0.226565</td>\n",
       "      <td>0.119753</td>\n",
       "    </tr>\n",
       "  </tbody>\n",
       "</table>\n",
       "</div>"
      ],
      "text/plain": [
       "                        map       mrr  avg_sr  avg_ndcg    avg_p3\n",
       "BERT_spc_62_final  0.125103  0.203086     0.3  0.226565  0.119753"
      ]
     },
     "execution_count": 222,
     "metadata": {},
     "output_type": "execute_result"
    }
   ],
   "source": [
    "# 400 sentence pairs | not random negatives\n",
    "pd.DataFrame(calc_metrics(df1),index=df1.Model_name.unique())"
   ]
  },
  {
   "cell_type": "code",
   "execution_count": 225,
   "metadata": {
    "hidden": true
   },
   "outputs": [
    {
     "data": {
      "text/html": [
       "<div>\n",
       "<style scoped>\n",
       "    .dataframe tbody tr th:only-of-type {\n",
       "        vertical-align: middle;\n",
       "    }\n",
       "\n",
       "    .dataframe tbody tr th {\n",
       "        vertical-align: top;\n",
       "    }\n",
       "\n",
       "    .dataframe thead th {\n",
       "        text-align: right;\n",
       "    }\n",
       "</style>\n",
       "<table border=\"1\" class=\"dataframe\">\n",
       "  <thead>\n",
       "    <tr style=\"text-align: right;\">\n",
       "      <th></th>\n",
       "      <th>map</th>\n",
       "      <th>mrr</th>\n",
       "      <th>avg_sr</th>\n",
       "      <th>avg_ndcg</th>\n",
       "      <th>avg_p3</th>\n",
       "    </tr>\n",
       "  </thead>\n",
       "  <tbody>\n",
       "    <tr>\n",
       "      <th>BERT_spc_62_epoch_0</th>\n",
       "      <td>0.337037</td>\n",
       "      <td>0.46358</td>\n",
       "      <td>0.555556</td>\n",
       "      <td>0.486497</td>\n",
       "      <td>0.285185</td>\n",
       "    </tr>\n",
       "  </tbody>\n",
       "</table>\n",
       "</div>"
      ],
      "text/plain": [
       "                          map      mrr    avg_sr  avg_ndcg    avg_p3\n",
       "BERT_spc_62_epoch_0  0.337037  0.46358  0.555556  0.486497  0.285185"
      ]
     },
     "execution_count": 225,
     "metadata": {},
     "output_type": "execute_result"
    }
   ],
   "source": [
    "# 400 sentence pairs | not random negatives\n",
    "pd.DataFrame(calc_metrics(df1),index=df1.Model_name.unique())"
   ]
  },
  {
   "cell_type": "code",
   "execution_count": 334,
   "metadata": {
    "collapsed": true,
    "hidden": true
   },
   "outputs": [
    {
     "data": {
      "text/html": [
       "<div>\n",
       "<style scoped>\n",
       "    .dataframe tbody tr th:only-of-type {\n",
       "        vertical-align: middle;\n",
       "    }\n",
       "\n",
       "    .dataframe tbody tr th {\n",
       "        vertical-align: top;\n",
       "    }\n",
       "\n",
       "    .dataframe thead th {\n",
       "        text-align: right;\n",
       "    }\n",
       "</style>\n",
       "<table border=\"1\" class=\"dataframe\">\n",
       "  <thead>\n",
       "    <tr style=\"text-align: right;\">\n",
       "      <th></th>\n",
       "      <th>map</th>\n",
       "      <th>mrr</th>\n",
       "      <th>avg_sr</th>\n",
       "      <th>avg_ndcg</th>\n",
       "      <th>avg_p3</th>\n",
       "    </tr>\n",
       "  </thead>\n",
       "  <tbody>\n",
       "    <tr>\n",
       "      <th>BERT_spc_62_epoch_0</th>\n",
       "      <td>0.302889</td>\n",
       "      <td>0.529877</td>\n",
       "      <td>0.655556</td>\n",
       "      <td>0.522409</td>\n",
       "      <td>0.242222</td>\n",
       "    </tr>\n",
       "  </tbody>\n",
       "</table>\n",
       "</div>"
      ],
      "text/plain": [
       "                          map       mrr    avg_sr  avg_ndcg    avg_p3\n",
       "BERT_spc_62_epoch_0  0.302889  0.529877  0.655556  0.522409  0.242222"
      ]
     },
     "execution_count": 334,
     "metadata": {},
     "output_type": "execute_result"
    }
   ],
   "source": [
    "# 400 sentence pairs | not random negatives | top5\n",
    "pd.DataFrame(calc_metrics(df1),index=df1.Model_name.unique())"
   ]
  },
  {
   "cell_type": "code",
   "execution_count": 71,
   "metadata": {
    "collapsed": true,
    "hidden": true
   },
   "outputs": [
    {
     "data": {
      "text/html": [
       "<div>\n",
       "<style scoped>\n",
       "    .dataframe tbody tr th:only-of-type {\n",
       "        vertical-align: middle;\n",
       "    }\n",
       "\n",
       "    .dataframe tbody tr th {\n",
       "        vertical-align: top;\n",
       "    }\n",
       "\n",
       "    .dataframe thead th {\n",
       "        text-align: right;\n",
       "    }\n",
       "</style>\n",
       "<table border=\"1\" class=\"dataframe\">\n",
       "  <thead>\n",
       "    <tr style=\"text-align: right;\">\n",
       "      <th></th>\n",
       "      <th>map</th>\n",
       "      <th>mrr</th>\n",
       "      <th>avg_sr</th>\n",
       "      <th>avg_ndcg</th>\n",
       "      <th>avg_p3</th>\n",
       "    </tr>\n",
       "  </thead>\n",
       "  <tbody>\n",
       "    <tr>\n",
       "      <th>BERT_spc_62_epoch_1</th>\n",
       "      <td>0.2607</td>\n",
       "      <td>0.380247</td>\n",
       "      <td>0.474074</td>\n",
       "      <td>0.40116</td>\n",
       "      <td>0.228395</td>\n",
       "    </tr>\n",
       "  </tbody>\n",
       "</table>\n",
       "</div>"
      ],
      "text/plain": [
       "                        map       mrr    avg_sr  avg_ndcg    avg_p3\n",
       "BERT_spc_62_epoch_1  0.2607  0.380247  0.474074   0.40116  0.228395"
      ]
     },
     "execution_count": 71,
     "metadata": {},
     "output_type": "execute_result"
    }
   ],
   "source": [
    "# 400 sentence pairs | not random negatives\n",
    "pd.DataFrame(calc_metrics(df1),index=df1.Model_name.unique())"
   ]
  },
  {
   "cell_type": "code",
   "execution_count": 74,
   "metadata": {
    "collapsed": true,
    "hidden": true
   },
   "outputs": [
    {
     "data": {
      "text/html": [
       "<div>\n",
       "<style scoped>\n",
       "    .dataframe tbody tr th:only-of-type {\n",
       "        vertical-align: middle;\n",
       "    }\n",
       "\n",
       "    .dataframe tbody tr th {\n",
       "        vertical-align: top;\n",
       "    }\n",
       "\n",
       "    .dataframe thead th {\n",
       "        text-align: right;\n",
       "    }\n",
       "</style>\n",
       "<table border=\"1\" class=\"dataframe\">\n",
       "  <thead>\n",
       "    <tr style=\"text-align: right;\">\n",
       "      <th></th>\n",
       "      <th>map</th>\n",
       "      <th>mrr</th>\n",
       "      <th>avg_sr</th>\n",
       "      <th>avg_ndcg</th>\n",
       "      <th>avg_p3</th>\n",
       "    </tr>\n",
       "  </thead>\n",
       "  <tbody>\n",
       "    <tr>\n",
       "      <th>BERT_spc_62_epoch_2</th>\n",
       "      <td>0.205761</td>\n",
       "      <td>0.3</td>\n",
       "      <td>0.374074</td>\n",
       "      <td>0.318838</td>\n",
       "      <td>0.176543</td>\n",
       "    </tr>\n",
       "  </tbody>\n",
       "</table>\n",
       "</div>"
      ],
      "text/plain": [
       "                          map  mrr    avg_sr  avg_ndcg    avg_p3\n",
       "BERT_spc_62_epoch_2  0.205761  0.3  0.374074  0.318838  0.176543"
      ]
     },
     "execution_count": 74,
     "metadata": {},
     "output_type": "execute_result"
    }
   ],
   "source": [
    "# 400 sentence pairs | not random negatives\n",
    "pd.DataFrame(calc_metrics(df1),index=df1.Model_name.unique())"
   ]
  },
  {
   "cell_type": "code",
   "execution_count": 228,
   "metadata": {
    "collapsed": true,
    "hidden": true
   },
   "outputs": [
    {
     "data": {
      "text/html": [
       "<div>\n",
       "<style scoped>\n",
       "    .dataframe tbody tr th:only-of-type {\n",
       "        vertical-align: middle;\n",
       "    }\n",
       "\n",
       "    .dataframe tbody tr th {\n",
       "        vertical-align: top;\n",
       "    }\n",
       "\n",
       "    .dataframe thead th {\n",
       "        text-align: right;\n",
       "    }\n",
       "</style>\n",
       "<table border=\"1\" class=\"dataframe\">\n",
       "  <thead>\n",
       "    <tr style=\"text-align: right;\">\n",
       "      <th></th>\n",
       "      <th>map</th>\n",
       "      <th>mrr</th>\n",
       "      <th>avg_sr</th>\n",
       "      <th>avg_ndcg</th>\n",
       "      <th>avg_p3</th>\n",
       "    </tr>\n",
       "  </thead>\n",
       "  <tbody>\n",
       "    <tr>\n",
       "      <th>BERT_spc_63_epoch_0</th>\n",
       "      <td>0.0</td>\n",
       "      <td>0.0</td>\n",
       "      <td>0.0</td>\n",
       "      <td>0.0</td>\n",
       "      <td>0.0</td>\n",
       "    </tr>\n",
       "  </tbody>\n",
       "</table>\n",
       "</div>"
      ],
      "text/plain": [
       "                     map  mrr  avg_sr  avg_ndcg  avg_p3\n",
       "BERT_spc_63_epoch_0  0.0  0.0     0.0       0.0     0.0"
      ]
     },
     "execution_count": 228,
     "metadata": {},
     "output_type": "execute_result"
    }
   ],
   "source": [
    "# 400 sentence pairs | indic/albert\n",
    "pd.DataFrame(calc_metrics(df1),index=df1.Model_name.unique())"
   ]
  },
  {
   "cell_type": "code",
   "execution_count": 231,
   "metadata": {
    "collapsed": true,
    "hidden": true
   },
   "outputs": [
    {
     "data": {
      "text/html": [
       "<div>\n",
       "<style scoped>\n",
       "    .dataframe tbody tr th:only-of-type {\n",
       "        vertical-align: middle;\n",
       "    }\n",
       "\n",
       "    .dataframe tbody tr th {\n",
       "        vertical-align: top;\n",
       "    }\n",
       "\n",
       "    .dataframe thead th {\n",
       "        text-align: right;\n",
       "    }\n",
       "</style>\n",
       "<table border=\"1\" class=\"dataframe\">\n",
       "  <thead>\n",
       "    <tr style=\"text-align: right;\">\n",
       "      <th></th>\n",
       "      <th>map</th>\n",
       "      <th>mrr</th>\n",
       "      <th>avg_sr</th>\n",
       "      <th>avg_ndcg</th>\n",
       "      <th>avg_p3</th>\n",
       "    </tr>\n",
       "  </thead>\n",
       "  <tbody>\n",
       "    <tr>\n",
       "      <th>BERT_spc_64_epoch_0</th>\n",
       "      <td>0.109465</td>\n",
       "      <td>0.166667</td>\n",
       "      <td>0.207407</td>\n",
       "      <td>0.176411</td>\n",
       "      <td>0.087654</td>\n",
       "    </tr>\n",
       "  </tbody>\n",
       "</table>\n",
       "</div>"
      ],
      "text/plain": [
       "                          map       mrr    avg_sr  avg_ndcg    avg_p3\n",
       "BERT_spc_64_epoch_0  0.109465  0.166667  0.207407  0.176411  0.087654"
      ]
     },
     "execution_count": 231,
     "metadata": {},
     "output_type": "execute_result"
    }
   ],
   "source": [
    "# 400 sentence pairs | xlm-roberta-base\n",
    "pd.DataFrame(calc_metrics(df1),index=df1.Model_name.unique())"
   ]
  },
  {
   "cell_type": "code",
   "execution_count": 234,
   "metadata": {
    "collapsed": true,
    "hidden": true
   },
   "outputs": [
    {
     "data": {
      "text/html": [
       "<div>\n",
       "<style scoped>\n",
       "    .dataframe tbody tr th:only-of-type {\n",
       "        vertical-align: middle;\n",
       "    }\n",
       "\n",
       "    .dataframe tbody tr th {\n",
       "        vertical-align: top;\n",
       "    }\n",
       "\n",
       "    .dataframe thead th {\n",
       "        text-align: right;\n",
       "    }\n",
       "</style>\n",
       "<table border=\"1\" class=\"dataframe\">\n",
       "  <thead>\n",
       "    <tr style=\"text-align: right;\">\n",
       "      <th></th>\n",
       "      <th>map</th>\n",
       "      <th>mrr</th>\n",
       "      <th>avg_sr</th>\n",
       "      <th>avg_ndcg</th>\n",
       "      <th>avg_p3</th>\n",
       "    </tr>\n",
       "  </thead>\n",
       "  <tbody>\n",
       "    <tr>\n",
       "      <th>BERT_spc_65_epoch_0</th>\n",
       "      <td>0.0</td>\n",
       "      <td>0.0</td>\n",
       "      <td>0.0</td>\n",
       "      <td>0.0</td>\n",
       "      <td>0.0</td>\n",
       "    </tr>\n",
       "  </tbody>\n",
       "</table>\n",
       "</div>"
      ],
      "text/plain": [
       "                     map  mrr  avg_sr  avg_ndcg  avg_p3\n",
       "BERT_spc_65_epoch_0  0.0  0.0     0.0       0.0     0.0"
      ]
     },
     "execution_count": 234,
     "metadata": {},
     "output_type": "execute_result"
    }
   ],
   "source": [
    "# 400 sentence pairs | xlm-mlm-xnli15-1024\n",
    "pd.DataFrame(calc_metrics(df1),index=df1.Model_name.unique())"
   ]
  },
  {
   "cell_type": "code",
   "execution_count": 237,
   "metadata": {
    "collapsed": true,
    "hidden": true
   },
   "outputs": [
    {
     "data": {
      "text/html": [
       "<div>\n",
       "<style scoped>\n",
       "    .dataframe tbody tr th:only-of-type {\n",
       "        vertical-align: middle;\n",
       "    }\n",
       "\n",
       "    .dataframe tbody tr th {\n",
       "        vertical-align: top;\n",
       "    }\n",
       "\n",
       "    .dataframe thead th {\n",
       "        text-align: right;\n",
       "    }\n",
       "</style>\n",
       "<table border=\"1\" class=\"dataframe\">\n",
       "  <thead>\n",
       "    <tr style=\"text-align: right;\">\n",
       "      <th></th>\n",
       "      <th>map</th>\n",
       "      <th>mrr</th>\n",
       "      <th>avg_sr</th>\n",
       "      <th>avg_ndcg</th>\n",
       "      <th>avg_p3</th>\n",
       "    </tr>\n",
       "  </thead>\n",
       "  <tbody>\n",
       "    <tr>\n",
       "      <th>BERT_spc_66_epoch_0</th>\n",
       "      <td>0.0</td>\n",
       "      <td>0.0</td>\n",
       "      <td>0.0</td>\n",
       "      <td>0.0</td>\n",
       "      <td>0.0</td>\n",
       "    </tr>\n",
       "  </tbody>\n",
       "</table>\n",
       "</div>"
      ],
      "text/plain": [
       "                     map  mrr  avg_sr  avg_ndcg  avg_p3\n",
       "BERT_spc_66_epoch_0  0.0  0.0     0.0       0.0     0.0"
      ]
     },
     "execution_count": 237,
     "metadata": {},
     "output_type": "execute_result"
    }
   ],
   "source": [
    "# 400 sentence pairs | xlm-mlm-xnli15-1024\n",
    "pd.DataFrame(calc_metrics(df1),index=df1.Model_name.unique())"
   ]
  },
  {
   "cell_type": "code",
   "execution_count": 240,
   "metadata": {
    "collapsed": true,
    "hidden": true
   },
   "outputs": [
    {
     "data": {
      "text/html": [
       "<div>\n",
       "<style scoped>\n",
       "    .dataframe tbody tr th:only-of-type {\n",
       "        vertical-align: middle;\n",
       "    }\n",
       "\n",
       "    .dataframe tbody tr th {\n",
       "        vertical-align: top;\n",
       "    }\n",
       "\n",
       "    .dataframe thead th {\n",
       "        text-align: right;\n",
       "    }\n",
       "</style>\n",
       "<table border=\"1\" class=\"dataframe\">\n",
       "  <thead>\n",
       "    <tr style=\"text-align: right;\">\n",
       "      <th></th>\n",
       "      <th>map</th>\n",
       "      <th>mrr</th>\n",
       "      <th>avg_sr</th>\n",
       "      <th>avg_ndcg</th>\n",
       "      <th>avg_p3</th>\n",
       "    </tr>\n",
       "  </thead>\n",
       "  <tbody>\n",
       "    <tr>\n",
       "      <th>BERT_spc_67_epoch_0</th>\n",
       "      <td>0.276337</td>\n",
       "      <td>0.404321</td>\n",
       "      <td>0.514815</td>\n",
       "      <td>0.429279</td>\n",
       "      <td>0.241975</td>\n",
       "    </tr>\n",
       "  </tbody>\n",
       "</table>\n",
       "</div>"
      ],
      "text/plain": [
       "                          map       mrr    avg_sr  avg_ndcg    avg_p3\n",
       "BERT_spc_67_epoch_0  0.276337  0.404321  0.514815  0.429279  0.241975"
      ]
     },
     "execution_count": 240,
     "metadata": {},
     "output_type": "execute_result"
    }
   ],
   "source": [
    "# 400 sentence pairs | bert-base-multilingual-uncased | not random negatives\n",
    "pd.DataFrame(calc_metrics(df1),index=df1.Model_name.unique())"
   ]
  },
  {
   "cell_type": "code",
   "execution_count": 22,
   "metadata": {
    "hidden": true
   },
   "outputs": [
    {
     "data": {
      "text/html": [
       "<div>\n",
       "<style scoped>\n",
       "    .dataframe tbody tr th:only-of-type {\n",
       "        vertical-align: middle;\n",
       "    }\n",
       "\n",
       "    .dataframe tbody tr th {\n",
       "        vertical-align: top;\n",
       "    }\n",
       "\n",
       "    .dataframe thead th {\n",
       "        text-align: right;\n",
       "    }\n",
       "</style>\n",
       "<table border=\"1\" class=\"dataframe\">\n",
       "  <thead>\n",
       "    <tr style=\"text-align: right;\">\n",
       "      <th></th>\n",
       "      <th>map</th>\n",
       "      <th>mrr</th>\n",
       "      <th>avg_sr</th>\n",
       "      <th>avg_ndcg</th>\n",
       "      <th>avg_p3</th>\n",
       "    </tr>\n",
       "  </thead>\n",
       "  <tbody>\n",
       "    <tr>\n",
       "      <th>BERT_spc_69_final</th>\n",
       "      <td>0.146914</td>\n",
       "      <td>0.224691</td>\n",
       "      <td>0.296296</td>\n",
       "      <td>0.242196</td>\n",
       "      <td>0.12963</td>\n",
       "    </tr>\n",
       "  </tbody>\n",
       "</table>\n",
       "</div>"
      ],
      "text/plain": [
       "                        map       mrr    avg_sr  avg_ndcg   avg_p3\n",
       "BERT_spc_69_final  0.146914  0.224691  0.296296  0.242196  0.12963"
      ]
     },
     "execution_count": 22,
     "metadata": {},
     "output_type": "execute_result"
    }
   ],
   "source": [
    "# 400 sentence pairs | not random negatives | NEW CODE with activation = identity\n",
    "pd.DataFrame(calc_metrics(df1),index=df1.Model_name.unique())"
   ]
  },
  {
   "cell_type": "code",
   "execution_count": 18,
   "metadata": {
    "hidden": true
   },
   "outputs": [
    {
     "data": {
      "text/html": [
       "<div>\n",
       "<style scoped>\n",
       "    .dataframe tbody tr th:only-of-type {\n",
       "        vertical-align: middle;\n",
       "    }\n",
       "\n",
       "    .dataframe tbody tr th {\n",
       "        vertical-align: top;\n",
       "    }\n",
       "\n",
       "    .dataframe thead th {\n",
       "        text-align: right;\n",
       "    }\n",
       "</style>\n",
       "<table border=\"1\" class=\"dataframe\">\n",
       "  <thead>\n",
       "    <tr style=\"text-align: right;\">\n",
       "      <th></th>\n",
       "      <th>map</th>\n",
       "      <th>mrr</th>\n",
       "      <th>avg_sr</th>\n",
       "      <th>avg_ndcg</th>\n",
       "      <th>avg_p3</th>\n",
       "    </tr>\n",
       "  </thead>\n",
       "  <tbody>\n",
       "    <tr>\n",
       "      <th>BERT_spc_69_epoch_0</th>\n",
       "      <td>0.147119</td>\n",
       "      <td>0.219136</td>\n",
       "      <td>0.27037</td>\n",
       "      <td>0.230909</td>\n",
       "      <td>0.120988</td>\n",
       "    </tr>\n",
       "  </tbody>\n",
       "</table>\n",
       "</div>"
      ],
      "text/plain": [
       "                          map       mrr   avg_sr  avg_ndcg    avg_p3\n",
       "BERT_spc_69_epoch_0  0.147119  0.219136  0.27037  0.230909  0.120988"
      ]
     },
     "execution_count": 18,
     "metadata": {},
     "output_type": "execute_result"
    }
   ],
   "source": [
    "# 400 sentence pairs | not random negatives | NEW CODE with activation = identity\n",
    "pd.DataFrame(calc_metrics(df1),index=df1.Model_name.unique())"
   ]
  },
  {
   "cell_type": "code",
   "execution_count": 26,
   "metadata": {
    "hidden": true
   },
   "outputs": [
    {
     "data": {
      "text/html": [
       "<div>\n",
       "<style scoped>\n",
       "    .dataframe tbody tr th:only-of-type {\n",
       "        vertical-align: middle;\n",
       "    }\n",
       "\n",
       "    .dataframe tbody tr th {\n",
       "        vertical-align: top;\n",
       "    }\n",
       "\n",
       "    .dataframe thead th {\n",
       "        text-align: right;\n",
       "    }\n",
       "</style>\n",
       "<table border=\"1\" class=\"dataframe\">\n",
       "  <thead>\n",
       "    <tr style=\"text-align: right;\">\n",
       "      <th></th>\n",
       "      <th>map</th>\n",
       "      <th>mrr</th>\n",
       "      <th>avg_sr</th>\n",
       "      <th>avg_ndcg</th>\n",
       "      <th>avg_p3</th>\n",
       "    </tr>\n",
       "  </thead>\n",
       "  <tbody>\n",
       "    <tr>\n",
       "      <th>BERT_spc_70_final</th>\n",
       "      <td>0.005144</td>\n",
       "      <td>0.009877</td>\n",
       "      <td>0.018519</td>\n",
       "      <td>0.012081</td>\n",
       "      <td>0.006173</td>\n",
       "    </tr>\n",
       "  </tbody>\n",
       "</table>\n",
       "</div>"
      ],
      "text/plain": [
       "                        map       mrr    avg_sr  avg_ndcg    avg_p3\n",
       "BERT_spc_70_final  0.005144  0.009877  0.018519  0.012081  0.006173"
      ]
     },
     "execution_count": 26,
     "metadata": {},
     "output_type": "execute_result"
    }
   ],
   "source": [
    "# 400 sentence pairs | not random negatives | NEW CODE with activation = identity\n",
    "pd.DataFrame(calc_metrics(df1),index=df1.Model_name.unique())"
   ]
  },
  {
   "cell_type": "code",
   "execution_count": 29,
   "metadata": {
    "hidden": true
   },
   "outputs": [
    {
     "data": {
      "text/html": [
       "<div>\n",
       "<style scoped>\n",
       "    .dataframe tbody tr th:only-of-type {\n",
       "        vertical-align: middle;\n",
       "    }\n",
       "\n",
       "    .dataframe tbody tr th {\n",
       "        vertical-align: top;\n",
       "    }\n",
       "\n",
       "    .dataframe thead th {\n",
       "        text-align: right;\n",
       "    }\n",
       "</style>\n",
       "<table border=\"1\" class=\"dataframe\">\n",
       "  <thead>\n",
       "    <tr style=\"text-align: right;\">\n",
       "      <th></th>\n",
       "      <th>map</th>\n",
       "      <th>mrr</th>\n",
       "      <th>avg_sr</th>\n",
       "      <th>avg_ndcg</th>\n",
       "      <th>avg_p3</th>\n",
       "    </tr>\n",
       "  </thead>\n",
       "  <tbody>\n",
       "    <tr>\n",
       "      <th>BERT_spc_70_epoch_0</th>\n",
       "      <td>0.003704</td>\n",
       "      <td>0.00679</td>\n",
       "      <td>0.011111</td>\n",
       "      <td>0.007892</td>\n",
       "      <td>0.003704</td>\n",
       "    </tr>\n",
       "  </tbody>\n",
       "</table>\n",
       "</div>"
      ],
      "text/plain": [
       "                          map      mrr    avg_sr  avg_ndcg    avg_p3\n",
       "BERT_spc_70_epoch_0  0.003704  0.00679  0.011111  0.007892  0.003704"
      ]
     },
     "execution_count": 29,
     "metadata": {},
     "output_type": "execute_result"
    }
   ],
   "source": [
    "# 400 sentence pairs | not random negatives | NEW CODE with activation = identity\n",
    "pd.DataFrame(calc_metrics(df1),index=df1.Model_name.unique())"
   ]
  },
  {
   "cell_type": "code",
   "execution_count": 35,
   "metadata": {
    "hidden": true
   },
   "outputs": [
    {
     "data": {
      "text/html": [
       "<div>\n",
       "<style scoped>\n",
       "    .dataframe tbody tr th:only-of-type {\n",
       "        vertical-align: middle;\n",
       "    }\n",
       "\n",
       "    .dataframe tbody tr th {\n",
       "        vertical-align: top;\n",
       "    }\n",
       "\n",
       "    .dataframe thead th {\n",
       "        text-align: right;\n",
       "    }\n",
       "</style>\n",
       "<table border=\"1\" class=\"dataframe\">\n",
       "  <thead>\n",
       "    <tr style=\"text-align: right;\">\n",
       "      <th></th>\n",
       "      <th>map</th>\n",
       "      <th>mrr</th>\n",
       "      <th>avg_sr</th>\n",
       "      <th>avg_ndcg</th>\n",
       "      <th>avg_p3</th>\n",
       "    </tr>\n",
       "  </thead>\n",
       "  <tbody>\n",
       "    <tr>\n",
       "      <th>BERT_spc_71_final</th>\n",
       "      <td>0.128395</td>\n",
       "      <td>0.201235</td>\n",
       "      <td>0.255556</td>\n",
       "      <td>0.214121</td>\n",
       "      <td>0.103704</td>\n",
       "    </tr>\n",
       "  </tbody>\n",
       "</table>\n",
       "</div>"
      ],
      "text/plain": [
       "                        map       mrr    avg_sr  avg_ndcg    avg_p3\n",
       "BERT_spc_71_final  0.128395  0.201235  0.255556  0.214121  0.103704"
      ]
     },
     "execution_count": 35,
     "metadata": {},
     "output_type": "execute_result"
    }
   ],
   "source": [
    "# 400 sentence pairs | not random negatives | NEW CODE with activation = identity\n",
    "pd.DataFrame(calc_metrics(df1),index=df1.Model_name.unique())"
   ]
  },
  {
   "cell_type": "code",
   "execution_count": 32,
   "metadata": {
    "hidden": true
   },
   "outputs": [
    {
     "data": {
      "text/html": [
       "<div>\n",
       "<style scoped>\n",
       "    .dataframe tbody tr th:only-of-type {\n",
       "        vertical-align: middle;\n",
       "    }\n",
       "\n",
       "    .dataframe tbody tr th {\n",
       "        vertical-align: top;\n",
       "    }\n",
       "\n",
       "    .dataframe thead th {\n",
       "        text-align: right;\n",
       "    }\n",
       "</style>\n",
       "<table border=\"1\" class=\"dataframe\">\n",
       "  <thead>\n",
       "    <tr style=\"text-align: right;\">\n",
       "      <th></th>\n",
       "      <th>map</th>\n",
       "      <th>mrr</th>\n",
       "      <th>avg_sr</th>\n",
       "      <th>avg_ndcg</th>\n",
       "      <th>avg_p3</th>\n",
       "    </tr>\n",
       "  </thead>\n",
       "  <tbody>\n",
       "    <tr>\n",
       "      <th>BERT_spc_71_epoch_0</th>\n",
       "      <td>0.093827</td>\n",
       "      <td>0.151235</td>\n",
       "      <td>0.207407</td>\n",
       "      <td>0.165454</td>\n",
       "      <td>0.081481</td>\n",
       "    </tr>\n",
       "  </tbody>\n",
       "</table>\n",
       "</div>"
      ],
      "text/plain": [
       "                          map       mrr    avg_sr  avg_ndcg    avg_p3\n",
       "BERT_spc_71_epoch_0  0.093827  0.151235  0.207407  0.165454  0.081481"
      ]
     },
     "execution_count": 32,
     "metadata": {},
     "output_type": "execute_result"
    }
   ],
   "source": [
    "# 400 sentence pairs | not random negatives | NEW CODE with activation = identity\n",
    "pd.DataFrame(calc_metrics(df1),index=df1.Model_name.unique())"
   ]
  },
  {
   "cell_type": "code",
   "execution_count": 82,
   "metadata": {
    "hidden": true
   },
   "outputs": [
    {
     "data": {
      "text/html": [
       "<div>\n",
       "<style scoped>\n",
       "    .dataframe tbody tr th:only-of-type {\n",
       "        vertical-align: middle;\n",
       "    }\n",
       "\n",
       "    .dataframe tbody tr th {\n",
       "        vertical-align: top;\n",
       "    }\n",
       "\n",
       "    .dataframe thead th {\n",
       "        text-align: right;\n",
       "    }\n",
       "</style>\n",
       "<table border=\"1\" class=\"dataframe\">\n",
       "  <thead>\n",
       "    <tr style=\"text-align: right;\">\n",
       "      <th></th>\n",
       "      <th>map</th>\n",
       "      <th>mrr</th>\n",
       "      <th>avg_sr</th>\n",
       "      <th>avg_ndcg</th>\n",
       "      <th>avg_p3</th>\n",
       "    </tr>\n",
       "  </thead>\n",
       "  <tbody>\n",
       "    <tr>\n",
       "      <th>BERT_spc_76_epoch_0</th>\n",
       "      <td>0.33642</td>\n",
       "      <td>0.46358</td>\n",
       "      <td>0.555556</td>\n",
       "      <td>0.486199</td>\n",
       "      <td>0.285185</td>\n",
       "    </tr>\n",
       "  </tbody>\n",
       "</table>\n",
       "</div>"
      ],
      "text/plain": [
       "                         map      mrr    avg_sr  avg_ndcg    avg_p3\n",
       "BERT_spc_76_epoch_0  0.33642  0.46358  0.555556  0.486199  0.285185"
      ]
     },
     "execution_count": 82,
     "metadata": {},
     "output_type": "execute_result"
    }
   ],
   "source": [
    "# 400 sentence pairs | not random negatives | REPEATED\n",
    "pd.DataFrame(calc_metrics(df1),index=df1.Model_name.unique())"
   ]
  },
  {
   "cell_type": "code",
   "execution_count": 7,
   "metadata": {
    "hidden": true
   },
   "outputs": [
    {
     "data": {
      "text/html": [
       "<div>\n",
       "<style scoped>\n",
       "    .dataframe tbody tr th:only-of-type {\n",
       "        vertical-align: middle;\n",
       "    }\n",
       "\n",
       "    .dataframe tbody tr th {\n",
       "        vertical-align: top;\n",
       "    }\n",
       "\n",
       "    .dataframe thead th {\n",
       "        text-align: right;\n",
       "    }\n",
       "</style>\n",
       "<table border=\"1\" class=\"dataframe\">\n",
       "  <thead>\n",
       "    <tr style=\"text-align: right;\">\n",
       "      <th></th>\n",
       "      <th>map</th>\n",
       "      <th>mrr</th>\n",
       "      <th>avg_sr</th>\n",
       "      <th>avg_ndcg</th>\n",
       "      <th>avg_p3</th>\n",
       "    </tr>\n",
       "  </thead>\n",
       "  <tbody>\n",
       "    <tr>\n",
       "      <th>BERT_spc_79_epoch_0</th>\n",
       "      <td>0.33642</td>\n",
       "      <td>0.46358</td>\n",
       "      <td>0.555556</td>\n",
       "      <td>0.486199</td>\n",
       "      <td>0.285185</td>\n",
       "    </tr>\n",
       "  </tbody>\n",
       "</table>\n",
       "</div>"
      ],
      "text/plain": [
       "                         map      mrr    avg_sr  avg_ndcg    avg_p3\n",
       "BERT_spc_79_epoch_0  0.33642  0.46358  0.555556  0.486199  0.285185"
      ]
     },
     "execution_count": 7,
     "metadata": {},
     "output_type": "execute_result"
    }
   ],
   "source": [
    "# 400 sentence pairs | not random negatives | REPEATED with optim placed outside\n",
    "pd.DataFrame(calc_metrics(df1),index=df1.Model_name.unique())"
   ]
  },
  {
   "cell_type": "code",
   "execution_count": 11,
   "metadata": {
    "collapsed": true,
    "hidden": true
   },
   "outputs": [
    {
     "data": {
      "text/html": [
       "<div>\n",
       "<style scoped>\n",
       "    .dataframe tbody tr th:only-of-type {\n",
       "        vertical-align: middle;\n",
       "    }\n",
       "\n",
       "    .dataframe tbody tr th {\n",
       "        vertical-align: top;\n",
       "    }\n",
       "\n",
       "    .dataframe thead th {\n",
       "        text-align: right;\n",
       "    }\n",
       "</style>\n",
       "<table border=\"1\" class=\"dataframe\">\n",
       "  <thead>\n",
       "    <tr style=\"text-align: right;\">\n",
       "      <th></th>\n",
       "      <th>map</th>\n",
       "      <th>mrr</th>\n",
       "      <th>avg_sr</th>\n",
       "      <th>avg_ndcg</th>\n",
       "      <th>avg_p3</th>\n",
       "    </tr>\n",
       "  </thead>\n",
       "  <tbody>\n",
       "    <tr>\n",
       "      <th>BERT_spc_80_final</th>\n",
       "      <td>0.095679</td>\n",
       "      <td>0.153704</td>\n",
       "      <td>0.222222</td>\n",
       "      <td>0.172155</td>\n",
       "      <td>0.088889</td>\n",
       "    </tr>\n",
       "  </tbody>\n",
       "</table>\n",
       "</div>"
      ],
      "text/plain": [
       "                        map       mrr    avg_sr  avg_ndcg    avg_p3\n",
       "BERT_spc_80_final  0.095679  0.153704  0.222222  0.172155  0.088889"
      ]
     },
     "execution_count": 11,
     "metadata": {},
     "output_type": "execute_result"
    }
   ],
   "source": [
    "# 400 sentence pairs | not random negatives | REPEATED with max_len 100 ---> 200\n",
    "pd.DataFrame(calc_metrics(df1),index=df1.Model_name.unique())"
   ]
  },
  {
   "cell_type": "code",
   "execution_count": 6,
   "metadata": {
    "hidden": true
   },
   "outputs": [
    {
     "data": {
      "text/html": [
       "<div>\n",
       "<style scoped>\n",
       "    .dataframe tbody tr th:only-of-type {\n",
       "        vertical-align: middle;\n",
       "    }\n",
       "\n",
       "    .dataframe tbody tr th {\n",
       "        vertical-align: top;\n",
       "    }\n",
       "\n",
       "    .dataframe thead th {\n",
       "        text-align: right;\n",
       "    }\n",
       "</style>\n",
       "<table border=\"1\" class=\"dataframe\">\n",
       "  <thead>\n",
       "    <tr style=\"text-align: right;\">\n",
       "      <th></th>\n",
       "      <th>map</th>\n",
       "      <th>mrr</th>\n",
       "      <th>avg_sr</th>\n",
       "      <th>avg_ndcg</th>\n",
       "      <th>avg_p3</th>\n",
       "    </tr>\n",
       "  </thead>\n",
       "  <tbody>\n",
       "    <tr>\n",
       "      <th>BERT_spc_80_epoch_0</th>\n",
       "      <td>0.333745</td>\n",
       "      <td>0.465432</td>\n",
       "      <td>0.562963</td>\n",
       "      <td>0.488823</td>\n",
       "      <td>0.28642</td>\n",
       "    </tr>\n",
       "  </tbody>\n",
       "</table>\n",
       "</div>"
      ],
      "text/plain": [
       "                          map       mrr    avg_sr  avg_ndcg   avg_p3\n",
       "BERT_spc_80_epoch_0  0.333745  0.465432  0.562963  0.488823  0.28642"
      ]
     },
     "execution_count": 6,
     "metadata": {},
     "output_type": "execute_result"
    }
   ],
   "source": [
    "# 400 sentence pairs | not random negatives | REPEATED with max_len 100 ---> 200\n",
    "pd.DataFrame(calc_metrics(df1),index=df1.Model_name.unique())"
   ]
  },
  {
   "cell_type": "code",
   "execution_count": 15,
   "metadata": {
    "collapsed": true,
    "hidden": true
   },
   "outputs": [
    {
     "data": {
      "text/html": [
       "<div>\n",
       "<style scoped>\n",
       "    .dataframe tbody tr th:only-of-type {\n",
       "        vertical-align: middle;\n",
       "    }\n",
       "\n",
       "    .dataframe tbody tr th {\n",
       "        vertical-align: top;\n",
       "    }\n",
       "\n",
       "    .dataframe thead th {\n",
       "        text-align: right;\n",
       "    }\n",
       "</style>\n",
       "<table border=\"1\" class=\"dataframe\">\n",
       "  <thead>\n",
       "    <tr style=\"text-align: right;\">\n",
       "      <th></th>\n",
       "      <th>map</th>\n",
       "      <th>mrr</th>\n",
       "      <th>avg_sr</th>\n",
       "      <th>avg_ndcg</th>\n",
       "      <th>avg_p3</th>\n",
       "    </tr>\n",
       "  </thead>\n",
       "  <tbody>\n",
       "    <tr>\n",
       "      <th>BERT_spc_80_epoch_1</th>\n",
       "      <td>0.241564</td>\n",
       "      <td>0.343827</td>\n",
       "      <td>0.440741</td>\n",
       "      <td>0.366723</td>\n",
       "      <td>0.220988</td>\n",
       "    </tr>\n",
       "  </tbody>\n",
       "</table>\n",
       "</div>"
      ],
      "text/plain": [
       "                          map       mrr    avg_sr  avg_ndcg    avg_p3\n",
       "BERT_spc_80_epoch_1  0.241564  0.343827  0.440741  0.366723  0.220988"
      ]
     },
     "execution_count": 15,
     "metadata": {},
     "output_type": "execute_result"
    }
   ],
   "source": [
    "# 400 sentence pairs | not random negatives | REPEATED with max_len 100 ---> 200\n",
    "pd.DataFrame(calc_metrics(df1),index=df1.Model_name.unique())"
   ]
  },
  {
   "cell_type": "code",
   "execution_count": 28,
   "metadata": {
    "collapsed": true,
    "hidden": true
   },
   "outputs": [
    {
     "data": {
      "text/html": [
       "<div>\n",
       "<style scoped>\n",
       "    .dataframe tbody tr th:only-of-type {\n",
       "        vertical-align: middle;\n",
       "    }\n",
       "\n",
       "    .dataframe tbody tr th {\n",
       "        vertical-align: top;\n",
       "    }\n",
       "\n",
       "    .dataframe thead th {\n",
       "        text-align: right;\n",
       "    }\n",
       "</style>\n",
       "<table border=\"1\" class=\"dataframe\">\n",
       "  <thead>\n",
       "    <tr style=\"text-align: right;\">\n",
       "      <th></th>\n",
       "      <th>map</th>\n",
       "      <th>mrr</th>\n",
       "      <th>avg_sr</th>\n",
       "      <th>avg_ndcg</th>\n",
       "      <th>avg_p3</th>\n",
       "    </tr>\n",
       "  </thead>\n",
       "  <tbody>\n",
       "    <tr>\n",
       "      <th>BERT_spc_82_final</th>\n",
       "      <td>0.155967</td>\n",
       "      <td>0.239506</td>\n",
       "      <td>0.325926</td>\n",
       "      <td>0.260461</td>\n",
       "      <td>0.141975</td>\n",
       "    </tr>\n",
       "  </tbody>\n",
       "</table>\n",
       "</div>"
      ],
      "text/plain": [
       "                        map       mrr    avg_sr  avg_ndcg    avg_p3\n",
       "BERT_spc_82_final  0.155967  0.239506  0.325926  0.260461  0.141975"
      ]
     },
     "execution_count": 28,
     "metadata": {},
     "output_type": "execute_result"
    }
   ],
   "source": [
    "# 400 sentence pairs | not random negatives | REPEATED with max_len 100 ---> 300\n",
    "pd.DataFrame(calc_metrics(df1),index=df1.Model_name.unique())"
   ]
  },
  {
   "cell_type": "code",
   "execution_count": 32,
   "metadata": {
    "hidden": true
   },
   "outputs": [
    {
     "data": {
      "text/html": [
       "<div>\n",
       "<style scoped>\n",
       "    .dataframe tbody tr th:only-of-type {\n",
       "        vertical-align: middle;\n",
       "    }\n",
       "\n",
       "    .dataframe tbody tr th {\n",
       "        vertical-align: top;\n",
       "    }\n",
       "\n",
       "    .dataframe thead th {\n",
       "        text-align: right;\n",
       "    }\n",
       "</style>\n",
       "<table border=\"1\" class=\"dataframe\">\n",
       "  <thead>\n",
       "    <tr style=\"text-align: right;\">\n",
       "      <th></th>\n",
       "      <th>map</th>\n",
       "      <th>mrr</th>\n",
       "      <th>avg_sr</th>\n",
       "      <th>avg_ndcg</th>\n",
       "      <th>avg_p3</th>\n",
       "    </tr>\n",
       "  </thead>\n",
       "  <tbody>\n",
       "    <tr>\n",
       "      <th>BERT_spc_82_epoch_0</th>\n",
       "      <td>0.330864</td>\n",
       "      <td>0.45679</td>\n",
       "      <td>0.559259</td>\n",
       "      <td>0.480909</td>\n",
       "      <td>0.288889</td>\n",
       "    </tr>\n",
       "  </tbody>\n",
       "</table>\n",
       "</div>"
      ],
      "text/plain": [
       "                          map      mrr    avg_sr  avg_ndcg    avg_p3\n",
       "BERT_spc_82_epoch_0  0.330864  0.45679  0.559259  0.480909  0.288889"
      ]
     },
     "execution_count": 32,
     "metadata": {},
     "output_type": "execute_result"
    }
   ],
   "source": [
    "# 400 sentence pairs | not random negatives | REPEATED with max_len 100 ---> 300\n",
    "pd.DataFrame(calc_metrics(df1),index=df1.Model_name.unique())"
   ]
  },
  {
   "cell_type": "code",
   "execution_count": 57,
   "metadata": {
    "hidden": true
   },
   "outputs": [
    {
     "data": {
      "text/html": [
       "<div>\n",
       "<style scoped>\n",
       "    .dataframe tbody tr th:only-of-type {\n",
       "        vertical-align: middle;\n",
       "    }\n",
       "\n",
       "    .dataframe tbody tr th {\n",
       "        vertical-align: top;\n",
       "    }\n",
       "\n",
       "    .dataframe thead th {\n",
       "        text-align: right;\n",
       "    }\n",
       "</style>\n",
       "<table border=\"1\" class=\"dataframe\">\n",
       "  <thead>\n",
       "    <tr style=\"text-align: right;\">\n",
       "      <th></th>\n",
       "      <th>map</th>\n",
       "      <th>mrr</th>\n",
       "      <th>avg_sr</th>\n",
       "      <th>avg_ndcg</th>\n",
       "      <th>avg_p3</th>\n",
       "    </tr>\n",
       "  </thead>\n",
       "  <tbody>\n",
       "    <tr>\n",
       "      <th>BERT_spc_82_epoch_0_max_len_100</th>\n",
       "      <td>0.333745</td>\n",
       "      <td>0.461728</td>\n",
       "      <td>0.562963</td>\n",
       "      <td>0.484966</td>\n",
       "      <td>0.290123</td>\n",
       "    </tr>\n",
       "  </tbody>\n",
       "</table>\n",
       "</div>"
      ],
      "text/plain": [
       "                                      map       mrr    avg_sr  avg_ndcg  \\\n",
       "BERT_spc_82_epoch_0_max_len_100  0.333745  0.461728  0.562963  0.484966   \n",
       "\n",
       "                                   avg_p3  \n",
       "BERT_spc_82_epoch_0_max_len_100  0.290123  "
      ]
     },
     "execution_count": 57,
     "metadata": {},
     "output_type": "execute_result"
    }
   ],
   "source": [
    "# 400 sentence pairs | not random negatives | REPEATED with max_len 100 ---> 300 during training but 100 during testing\n",
    "pd.DataFrame(calc_metrics(df1),index=df1.Model_name.unique())"
   ]
  },
  {
   "cell_type": "code",
   "execution_count": 63,
   "metadata": {
    "hidden": true
   },
   "outputs": [
    {
     "data": {
      "text/html": [
       "<div>\n",
       "<style scoped>\n",
       "    .dataframe tbody tr th:only-of-type {\n",
       "        vertical-align: middle;\n",
       "    }\n",
       "\n",
       "    .dataframe tbody tr th {\n",
       "        vertical-align: top;\n",
       "    }\n",
       "\n",
       "    .dataframe thead th {\n",
       "        text-align: right;\n",
       "    }\n",
       "</style>\n",
       "<table border=\"1\" class=\"dataframe\">\n",
       "  <thead>\n",
       "    <tr style=\"text-align: right;\">\n",
       "      <th></th>\n",
       "      <th>map</th>\n",
       "      <th>mrr</th>\n",
       "      <th>avg_sr</th>\n",
       "      <th>avg_ndcg</th>\n",
       "      <th>avg_p3</th>\n",
       "    </tr>\n",
       "  </thead>\n",
       "  <tbody>\n",
       "    <tr>\n",
       "      <th>BERT_spc_93_epoch_0</th>\n",
       "      <td>0.241975</td>\n",
       "      <td>0.359877</td>\n",
       "      <td>0.477778</td>\n",
       "      <td>0.389991</td>\n",
       "      <td>0.222222</td>\n",
       "    </tr>\n",
       "  </tbody>\n",
       "</table>\n",
       "</div>"
      ],
      "text/plain": [
       "                          map       mrr    avg_sr  avg_ndcg    avg_p3\n",
       "BERT_spc_93_epoch_0  0.241975  0.359877  0.477778  0.389991  0.222222"
      ]
     },
     "execution_count": 63,
     "metadata": {},
     "output_type": "execute_result"
    }
   ],
   "source": [
    "# 400 sentence pairs | WITH random negatives | REPEATED with max_len 100 ---> 300 during training but 100 during testing\n",
    "pd.DataFrame(calc_metrics(df1),index=df1.Model_name.unique())"
   ]
  },
  {
   "cell_type": "code",
   "execution_count": 67,
   "metadata": {
    "collapsed": true,
    "hidden": true
   },
   "outputs": [
    {
     "data": {
      "text/html": [
       "<div>\n",
       "<style scoped>\n",
       "    .dataframe tbody tr th:only-of-type {\n",
       "        vertical-align: middle;\n",
       "    }\n",
       "\n",
       "    .dataframe tbody tr th {\n",
       "        vertical-align: top;\n",
       "    }\n",
       "\n",
       "    .dataframe thead th {\n",
       "        text-align: right;\n",
       "    }\n",
       "</style>\n",
       "<table border=\"1\" class=\"dataframe\">\n",
       "  <thead>\n",
       "    <tr style=\"text-align: right;\">\n",
       "      <th></th>\n",
       "      <th>map</th>\n",
       "      <th>mrr</th>\n",
       "      <th>avg_sr</th>\n",
       "      <th>avg_ndcg</th>\n",
       "      <th>avg_p3</th>\n",
       "    </tr>\n",
       "  </thead>\n",
       "  <tbody>\n",
       "    <tr>\n",
       "      <th>BERT_spc_93_epoch_1</th>\n",
       "      <td>0.296502</td>\n",
       "      <td>0.425309</td>\n",
       "      <td>0.544444</td>\n",
       "      <td>0.456182</td>\n",
       "      <td>0.258025</td>\n",
       "    </tr>\n",
       "  </tbody>\n",
       "</table>\n",
       "</div>"
      ],
      "text/plain": [
       "                          map       mrr    avg_sr  avg_ndcg    avg_p3\n",
       "BERT_spc_93_epoch_1  0.296502  0.425309  0.544444  0.456182  0.258025"
      ]
     },
     "execution_count": 67,
     "metadata": {},
     "output_type": "execute_result"
    }
   ],
   "source": [
    "# 400 sentence pairs | WITH random negatives | REPEATED with max_len 100 ---> 300 during training but 100 during testing\n",
    "pd.DataFrame(calc_metrics(df1),index=df1.Model_name.unique())"
   ]
  },
  {
   "cell_type": "code",
   "execution_count": 10,
   "metadata": {
    "hidden": true
   },
   "outputs": [
    {
     "data": {
      "text/html": [
       "<div>\n",
       "<style scoped>\n",
       "    .dataframe tbody tr th:only-of-type {\n",
       "        vertical-align: middle;\n",
       "    }\n",
       "\n",
       "    .dataframe tbody tr th {\n",
       "        vertical-align: top;\n",
       "    }\n",
       "\n",
       "    .dataframe thead th {\n",
       "        text-align: right;\n",
       "    }\n",
       "</style>\n",
       "<table border=\"1\" class=\"dataframe\">\n",
       "  <thead>\n",
       "    <tr style=\"text-align: right;\">\n",
       "      <th></th>\n",
       "      <th>map</th>\n",
       "      <th>mrr</th>\n",
       "      <th>avg_sr</th>\n",
       "      <th>avg_ndcg</th>\n",
       "      <th>avg_p3</th>\n",
       "    </tr>\n",
       "  </thead>\n",
       "  <tbody>\n",
       "    <tr>\n",
       "      <th>BERT_spc_94_epoch_0</th>\n",
       "      <td>0.333745</td>\n",
       "      <td>0.461728</td>\n",
       "      <td>0.562963</td>\n",
       "      <td>0.484966</td>\n",
       "      <td>0.290123</td>\n",
       "    </tr>\n",
       "  </tbody>\n",
       "</table>\n",
       "</div>"
      ],
      "text/plain": [
       "                          map       mrr    avg_sr  avg_ndcg    avg_p3\n",
       "BERT_spc_94_epoch_0  0.333745  0.461728  0.562963  0.484966  0.290123"
      ]
     },
     "execution_count": 10,
     "metadata": {},
     "output_type": "execute_result"
    }
   ],
   "source": [
    "# 400 sentence pairs | not random negatives | REPEATED with max_len 100 ---> 300 during training but 100 during testing\n",
    "# 20 epochs\n",
    "pd.DataFrame(calc_metrics(df1),index=df1.Model_name.unique())"
   ]
  },
  {
   "cell_type": "code",
   "execution_count": 54,
   "metadata": {
    "hidden": true
   },
   "outputs": [
    {
     "data": {
      "text/html": [
       "<div>\n",
       "<style scoped>\n",
       "    .dataframe tbody tr th:only-of-type {\n",
       "        vertical-align: middle;\n",
       "    }\n",
       "\n",
       "    .dataframe tbody tr th {\n",
       "        vertical-align: top;\n",
       "    }\n",
       "\n",
       "    .dataframe thead th {\n",
       "        text-align: right;\n",
       "    }\n",
       "</style>\n",
       "<table border=\"1\" class=\"dataframe\">\n",
       "  <thead>\n",
       "    <tr style=\"text-align: right;\">\n",
       "      <th></th>\n",
       "      <th>map</th>\n",
       "      <th>mrr</th>\n",
       "      <th>avg_sr</th>\n",
       "      <th>avg_ndcg</th>\n",
       "      <th>avg_p3</th>\n",
       "    </tr>\n",
       "  </thead>\n",
       "  <tbody>\n",
       "    <tr>\n",
       "      <th>BERT_spc_94_epoch_0_added_answer</th>\n",
       "      <td>0.288683</td>\n",
       "      <td>0.403086</td>\n",
       "      <td>0.481481</td>\n",
       "      <td>0.421077</td>\n",
       "      <td>0.241975</td>\n",
       "    </tr>\n",
       "  </tbody>\n",
       "</table>\n",
       "</div>"
      ],
      "text/plain": [
       "                                       map       mrr    avg_sr  avg_ndcg  \\\n",
       "BERT_spc_94_epoch_0_added_answer  0.288683  0.403086  0.481481  0.421077   \n",
       "\n",
       "                                    avg_p3  \n",
       "BERT_spc_94_epoch_0_added_answer  0.241975  "
      ]
     },
     "execution_count": 54,
     "metadata": {},
     "output_type": "execute_result"
    }
   ],
   "source": [
    "# 400 sentence pairs | not random negatives | REPEATED with max_len 100 ---> 300 during training but 100 during testing\n",
    "# added_answer\n",
    "pd.DataFrame(calc_metrics(df1),index=df1.Model_name.unique())"
   ]
  },
  {
   "cell_type": "code",
   "execution_count": 20,
   "metadata": {
    "hidden": true
   },
   "outputs": [
    {
     "data": {
      "text/html": [
       "<div>\n",
       "<style scoped>\n",
       "    .dataframe tbody tr th:only-of-type {\n",
       "        vertical-align: middle;\n",
       "    }\n",
       "\n",
       "    .dataframe tbody tr th {\n",
       "        vertical-align: top;\n",
       "    }\n",
       "\n",
       "    .dataframe thead th {\n",
       "        text-align: right;\n",
       "    }\n",
       "</style>\n",
       "<table border=\"1\" class=\"dataframe\">\n",
       "  <thead>\n",
       "    <tr style=\"text-align: right;\">\n",
       "      <th></th>\n",
       "      <th>map</th>\n",
       "      <th>mrr</th>\n",
       "      <th>avg_sr</th>\n",
       "      <th>avg_ndcg</th>\n",
       "      <th>avg_p3</th>\n",
       "    </tr>\n",
       "  </thead>\n",
       "  <tbody>\n",
       "    <tr>\n",
       "      <th>BERT_spc_94_best</th>\n",
       "      <td>0.167078</td>\n",
       "      <td>0.257407</td>\n",
       "      <td>0.348148</td>\n",
       "      <td>0.280081</td>\n",
       "      <td>0.149383</td>\n",
       "    </tr>\n",
       "  </tbody>\n",
       "</table>\n",
       "</div>"
      ],
      "text/plain": [
       "                       map       mrr    avg_sr  avg_ndcg    avg_p3\n",
       "BERT_spc_94_best  0.167078  0.257407  0.348148  0.280081  0.149383"
      ]
     },
     "execution_count": 20,
     "metadata": {},
     "output_type": "execute_result"
    }
   ],
   "source": [
    "# 400 sentence pairs | not random negatives | REPEATED with max_len 100 ---> 300 during training but 100 during testing\n",
    "# 20 epochs\n",
    "pd.DataFrame(calc_metrics(df1),index=df1.Model_name.unique())"
   ]
  },
  {
   "cell_type": "code",
   "execution_count": 15,
   "metadata": {
    "hidden": true
   },
   "outputs": [
    {
     "data": {
      "text/html": [
       "<div>\n",
       "<style scoped>\n",
       "    .dataframe tbody tr th:only-of-type {\n",
       "        vertical-align: middle;\n",
       "    }\n",
       "\n",
       "    .dataframe tbody tr th {\n",
       "        vertical-align: top;\n",
       "    }\n",
       "\n",
       "    .dataframe thead th {\n",
       "        text-align: right;\n",
       "    }\n",
       "</style>\n",
       "<table border=\"1\" class=\"dataframe\">\n",
       "  <thead>\n",
       "    <tr style=\"text-align: right;\">\n",
       "      <th></th>\n",
       "      <th>map</th>\n",
       "      <th>mrr</th>\n",
       "      <th>avg_sr</th>\n",
       "      <th>avg_ndcg</th>\n",
       "      <th>avg_p3</th>\n",
       "    </tr>\n",
       "  </thead>\n",
       "  <tbody>\n",
       "    <tr>\n",
       "      <th>BERT_spc_94_final</th>\n",
       "      <td>0.168107</td>\n",
       "      <td>0.253086</td>\n",
       "      <td>0.325926</td>\n",
       "      <td>0.270117</td>\n",
       "      <td>0.146914</td>\n",
       "    </tr>\n",
       "  </tbody>\n",
       "</table>\n",
       "</div>"
      ],
      "text/plain": [
       "                        map       mrr    avg_sr  avg_ndcg    avg_p3\n",
       "BERT_spc_94_final  0.168107  0.253086  0.325926  0.270117  0.146914"
      ]
     },
     "execution_count": 15,
     "metadata": {},
     "output_type": "execute_result"
    }
   ],
   "source": [
    "# 400 sentence pairs | not random negatives | REPEATED with max_len 100 ---> 300 during training but 100 during testing\n",
    "# 20 epochs\n",
    "pd.DataFrame(calc_metrics(df1),index=df1.Model_name.unique())"
   ]
  },
  {
   "cell_type": "code",
   "execution_count": 7,
   "metadata": {
    "hidden": true
   },
   "outputs": [
    {
     "data": {
      "text/html": [
       "<div>\n",
       "<style scoped>\n",
       "    .dataframe tbody tr th:only-of-type {\n",
       "        vertical-align: middle;\n",
       "    }\n",
       "\n",
       "    .dataframe tbody tr th {\n",
       "        vertical-align: top;\n",
       "    }\n",
       "\n",
       "    .dataframe thead th {\n",
       "        text-align: right;\n",
       "    }\n",
       "</style>\n",
       "<table border=\"1\" class=\"dataframe\">\n",
       "  <thead>\n",
       "    <tr style=\"text-align: right;\">\n",
       "      <th></th>\n",
       "      <th>map</th>\n",
       "      <th>mrr</th>\n",
       "      <th>avg_sr</th>\n",
       "      <th>avg_ndcg</th>\n",
       "      <th>avg_p3</th>\n",
       "    </tr>\n",
       "  </thead>\n",
       "  <tbody>\n",
       "    <tr>\n",
       "      <th>BERT_spc_88_epoch_0</th>\n",
       "      <td>0.019753</td>\n",
       "      <td>0.033951</td>\n",
       "      <td>0.051852</td>\n",
       "      <td>0.038492</td>\n",
       "      <td>0.018519</td>\n",
       "    </tr>\n",
       "  </tbody>\n",
       "</table>\n",
       "</div>"
      ],
      "text/plain": [
       "                          map       mrr    avg_sr  avg_ndcg    avg_p3\n",
       "BERT_spc_88_epoch_0  0.019753  0.033951  0.051852  0.038492  0.018519"
      ]
     },
     "execution_count": 7,
     "metadata": {},
     "output_type": "execute_result"
    }
   ],
   "source": [
    "# 1230 random seed\n",
    "# 400 sentence pairs | not random negatives | REPEATED with max_len 100 ---> 300 during training but 100 during testing\n",
    "pd.DataFrame(calc_metrics(df1),index=df1.Model_name.unique())"
   ]
  },
  {
   "cell_type": "code",
   "execution_count": 11,
   "metadata": {
    "collapsed": true,
    "hidden": true
   },
   "outputs": [
    {
     "data": {
      "text/html": [
       "<div>\n",
       "<style scoped>\n",
       "    .dataframe tbody tr th:only-of-type {\n",
       "        vertical-align: middle;\n",
       "    }\n",
       "\n",
       "    .dataframe tbody tr th {\n",
       "        vertical-align: top;\n",
       "    }\n",
       "\n",
       "    .dataframe thead th {\n",
       "        text-align: right;\n",
       "    }\n",
       "</style>\n",
       "<table border=\"1\" class=\"dataframe\">\n",
       "  <thead>\n",
       "    <tr style=\"text-align: right;\">\n",
       "      <th></th>\n",
       "      <th>map</th>\n",
       "      <th>mrr</th>\n",
       "      <th>avg_sr</th>\n",
       "      <th>avg_ndcg</th>\n",
       "      <th>avg_p3</th>\n",
       "    </tr>\n",
       "  </thead>\n",
       "  <tbody>\n",
       "    <tr>\n",
       "      <th>BERT_spc_88_final</th>\n",
       "      <td>0.164815</td>\n",
       "      <td>0.245679</td>\n",
       "      <td>0.307407</td>\n",
       "      <td>0.26089</td>\n",
       "      <td>0.133333</td>\n",
       "    </tr>\n",
       "  </tbody>\n",
       "</table>\n",
       "</div>"
      ],
      "text/plain": [
       "                        map       mrr    avg_sr  avg_ndcg    avg_p3\n",
       "BERT_spc_88_final  0.164815  0.245679  0.307407   0.26089  0.133333"
      ]
     },
     "execution_count": 11,
     "metadata": {},
     "output_type": "execute_result"
    }
   ],
   "source": [
    "# 1230 random seed\n",
    "# 400 sentence pairs | not random negatives | REPEATED with max_len 100 ---> 300 during training but 100 during testing\n",
    "pd.DataFrame(calc_metrics(df1),index=df1.Model_name.unique())"
   ]
  },
  {
   "cell_type": "code",
   "execution_count": 85,
   "metadata": {
    "collapsed": true,
    "hidden": true
   },
   "outputs": [
    {
     "data": {
      "text/html": [
       "<div>\n",
       "<style scoped>\n",
       "    .dataframe tbody tr th:only-of-type {\n",
       "        vertical-align: middle;\n",
       "    }\n",
       "\n",
       "    .dataframe tbody tr th {\n",
       "        vertical-align: top;\n",
       "    }\n",
       "\n",
       "    .dataframe thead th {\n",
       "        text-align: right;\n",
       "    }\n",
       "</style>\n",
       "<table border=\"1\" class=\"dataframe\">\n",
       "  <thead>\n",
       "    <tr style=\"text-align: right;\">\n",
       "      <th></th>\n",
       "      <th>map</th>\n",
       "      <th>mrr</th>\n",
       "      <th>avg_sr</th>\n",
       "      <th>avg_ndcg</th>\n",
       "      <th>avg_p3</th>\n",
       "    </tr>\n",
       "  </thead>\n",
       "  <tbody>\n",
       "    <tr>\n",
       "      <th>BERT_spc_82_final_max_len_100</th>\n",
       "      <td>0.155967</td>\n",
       "      <td>0.238889</td>\n",
       "      <td>0.325926</td>\n",
       "      <td>0.260802</td>\n",
       "      <td>0.141975</td>\n",
       "    </tr>\n",
       "  </tbody>\n",
       "</table>\n",
       "</div>"
      ],
      "text/plain": [
       "                                    map       mrr    avg_sr  avg_ndcg  \\\n",
       "BERT_spc_82_final_max_len_100  0.155967  0.238889  0.325926  0.260802   \n",
       "\n",
       "                                 avg_p3  \n",
       "BERT_spc_82_final_max_len_100  0.141975  "
      ]
     },
     "execution_count": 85,
     "metadata": {},
     "output_type": "execute_result"
    }
   ],
   "source": [
    "# 400 sentence pairs | not random negatives | REPEATED with max_len 100 ---> 300 during training but 100 during testing\n",
    "pd.DataFrame(calc_metrics(df1),index=df1.Model_name.unique())"
   ]
  },
  {
   "cell_type": "code",
   "execution_count": 89,
   "metadata": {
    "collapsed": true,
    "hidden": true
   },
   "outputs": [
    {
     "data": {
      "text/html": [
       "<div>\n",
       "<style scoped>\n",
       "    .dataframe tbody tr th:only-of-type {\n",
       "        vertical-align: middle;\n",
       "    }\n",
       "\n",
       "    .dataframe tbody tr th {\n",
       "        vertical-align: top;\n",
       "    }\n",
       "\n",
       "    .dataframe thead th {\n",
       "        text-align: right;\n",
       "    }\n",
       "</style>\n",
       "<table border=\"1\" class=\"dataframe\">\n",
       "  <thead>\n",
       "    <tr style=\"text-align: right;\">\n",
       "      <th></th>\n",
       "      <th>map</th>\n",
       "      <th>mrr</th>\n",
       "      <th>avg_sr</th>\n",
       "      <th>avg_ndcg</th>\n",
       "      <th>avg_p3</th>\n",
       "    </tr>\n",
       "  </thead>\n",
       "  <tbody>\n",
       "    <tr>\n",
       "      <th>BERT_spc_82_epoch_1_max_len_100</th>\n",
       "      <td>0.24856</td>\n",
       "      <td>0.35679</td>\n",
       "      <td>0.451852</td>\n",
       "      <td>0.380434</td>\n",
       "      <td>0.216049</td>\n",
       "    </tr>\n",
       "  </tbody>\n",
       "</table>\n",
       "</div>"
      ],
      "text/plain": [
       "                                     map      mrr    avg_sr  avg_ndcg  \\\n",
       "BERT_spc_82_epoch_1_max_len_100  0.24856  0.35679  0.451852  0.380434   \n",
       "\n",
       "                                   avg_p3  \n",
       "BERT_spc_82_epoch_1_max_len_100  0.216049  "
      ]
     },
     "execution_count": 89,
     "metadata": {},
     "output_type": "execute_result"
    }
   ],
   "source": [
    "# 400 sentence pairs | not random negatives | REPEATED with max_len 100 ---> 300 during training but 100 during testing\n",
    "pd.DataFrame(calc_metrics(df1),index=df1.Model_name.unique())"
   ]
  },
  {
   "cell_type": "code",
   "execution_count": 65,
   "metadata": {
    "hidden": true
   },
   "outputs": [
    {
     "data": {
      "text/html": [
       "<div>\n",
       "<style scoped>\n",
       "    .dataframe tbody tr th:only-of-type {\n",
       "        vertical-align: middle;\n",
       "    }\n",
       "\n",
       "    .dataframe tbody tr th {\n",
       "        vertical-align: top;\n",
       "    }\n",
       "\n",
       "    .dataframe thead th {\n",
       "        text-align: right;\n",
       "    }\n",
       "</style>\n",
       "<table border=\"1\" class=\"dataframe\">\n",
       "  <thead>\n",
       "    <tr style=\"text-align: right;\">\n",
       "      <th></th>\n",
       "      <th>map</th>\n",
       "      <th>mrr</th>\n",
       "      <th>avg_sr</th>\n",
       "      <th>avg_ndcg</th>\n",
       "      <th>avg_p3</th>\n",
       "    </tr>\n",
       "  </thead>\n",
       "  <tbody>\n",
       "    <tr>\n",
       "      <th>BERT_spc_85_epoch_0_max_len_100</th>\n",
       "      <td>0.280864</td>\n",
       "      <td>0.406173</td>\n",
       "      <td>0.5</td>\n",
       "      <td>0.427096</td>\n",
       "      <td>0.237037</td>\n",
       "    </tr>\n",
       "  </tbody>\n",
       "</table>\n",
       "</div>"
      ],
      "text/plain": [
       "                                      map       mrr  avg_sr  avg_ndcg  \\\n",
       "BERT_spc_85_epoch_0_max_len_100  0.280864  0.406173     0.5  0.427096   \n",
       "\n",
       "                                   avg_p3  \n",
       "BERT_spc_85_epoch_0_max_len_100  0.237037  "
      ]
     },
     "execution_count": 65,
     "metadata": {},
     "output_type": "execute_result"
    }
   ],
   "source": [
    "# 400 different sentence pairs | baaki sab same as 82_epoch_0_max_len_100\n",
    "pd.DataFrame(calc_metrics(df1),index=df1.Model_name.unique())"
   ]
  },
  {
   "cell_type": "code",
   "execution_count": 70,
   "metadata": {
    "hidden": true
   },
   "outputs": [
    {
     "data": {
      "text/html": [
       "<div>\n",
       "<style scoped>\n",
       "    .dataframe tbody tr th:only-of-type {\n",
       "        vertical-align: middle;\n",
       "    }\n",
       "\n",
       "    .dataframe tbody tr th {\n",
       "        vertical-align: top;\n",
       "    }\n",
       "\n",
       "    .dataframe thead th {\n",
       "        text-align: right;\n",
       "    }\n",
       "</style>\n",
       "<table border=\"1\" class=\"dataframe\">\n",
       "  <thead>\n",
       "    <tr style=\"text-align: right;\">\n",
       "      <th></th>\n",
       "      <th>map</th>\n",
       "      <th>mrr</th>\n",
       "      <th>avg_sr</th>\n",
       "      <th>avg_ndcg</th>\n",
       "      <th>avg_p5</th>\n",
       "    </tr>\n",
       "  </thead>\n",
       "  <tbody>\n",
       "    <tr>\n",
       "      <th>BERT_spc_82_epoch_0_max_len_100_top5</th>\n",
       "      <td>0.299284</td>\n",
       "      <td>0.530123</td>\n",
       "      <td>0.62963</td>\n",
       "      <td>0.506752</td>\n",
       "      <td>0.237778</td>\n",
       "    </tr>\n",
       "  </tbody>\n",
       "</table>\n",
       "</div>"
      ],
      "text/plain": [
       "                                           map       mrr   avg_sr  avg_ndcg  \\\n",
       "BERT_spc_82_epoch_0_max_len_100_top5  0.299284  0.530123  0.62963  0.506752   \n",
       "\n",
       "                                        avg_p5  \n",
       "BERT_spc_82_epoch_0_max_len_100_top5  0.237778  "
      ]
     },
     "execution_count": 70,
     "metadata": {},
     "output_type": "execute_result"
    }
   ],
   "source": [
    "# 400 sentence pairs | not random negatives | REPEATED with max_len 100 ---> 300 during training but 100 during testing\n",
    "# top5\n",
    "pd.DataFrame(calc_metrics(df1),index=df1.Model_name.unique())"
   ]
  },
  {
   "cell_type": "code",
   "execution_count": 78,
   "metadata": {
    "hidden": true
   },
   "outputs": [
    {
     "data": {
      "text/html": [
       "<div>\n",
       "<style scoped>\n",
       "    .dataframe tbody tr th:only-of-type {\n",
       "        vertical-align: middle;\n",
       "    }\n",
       "\n",
       "    .dataframe tbody tr th {\n",
       "        vertical-align: top;\n",
       "    }\n",
       "\n",
       "    .dataframe thead th {\n",
       "        text-align: right;\n",
       "    }\n",
       "</style>\n",
       "<table border=\"1\" class=\"dataframe\">\n",
       "  <thead>\n",
       "    <tr style=\"text-align: right;\">\n",
       "      <th></th>\n",
       "      <th>map</th>\n",
       "      <th>mrr</th>\n",
       "      <th>avg_sr</th>\n",
       "      <th>avg_ndcg</th>\n",
       "      <th>avg_p3</th>\n",
       "    </tr>\n",
       "  </thead>\n",
       "  <tbody>\n",
       "    <tr>\n",
       "      <th>BERT_spc_86_epoch_0_max_len_100</th>\n",
       "      <td>0.073045</td>\n",
       "      <td>0.12716</td>\n",
       "      <td>0.203704</td>\n",
       "      <td>0.14667</td>\n",
       "      <td>0.07284</td>\n",
       "    </tr>\n",
       "  </tbody>\n",
       "</table>\n",
       "</div>"
      ],
      "text/plain": [
       "                                      map      mrr    avg_sr  avg_ndcg  \\\n",
       "BERT_spc_86_epoch_0_max_len_100  0.073045  0.12716  0.203704   0.14667   \n",
       "\n",
       "                                  avg_p3  \n",
       "BERT_spc_86_epoch_0_max_len_100  0.07284  "
      ]
     },
     "execution_count": 78,
     "metadata": {},
     "output_type": "execute_result"
    }
   ],
   "source": [
    "# 400 sentence pairs | not random negatives | REPEATED with max_len 100 ---> 300 during training but 100 during testing\n",
    "# last_two\n",
    "pd.DataFrame(calc_metrics(df1),index=df1.Model_name.unique())"
   ]
  },
  {
   "cell_type": "code",
   "execution_count": 81,
   "metadata": {
    "hidden": true
   },
   "outputs": [
    {
     "data": {
      "text/html": [
       "<div>\n",
       "<style scoped>\n",
       "    .dataframe tbody tr th:only-of-type {\n",
       "        vertical-align: middle;\n",
       "    }\n",
       "\n",
       "    .dataframe tbody tr th {\n",
       "        vertical-align: top;\n",
       "    }\n",
       "\n",
       "    .dataframe thead th {\n",
       "        text-align: right;\n",
       "    }\n",
       "</style>\n",
       "<table border=\"1\" class=\"dataframe\">\n",
       "  <thead>\n",
       "    <tr style=\"text-align: right;\">\n",
       "      <th></th>\n",
       "      <th>map</th>\n",
       "      <th>mrr</th>\n",
       "      <th>avg_sr</th>\n",
       "      <th>avg_ndcg</th>\n",
       "      <th>avg_p3</th>\n",
       "    </tr>\n",
       "  </thead>\n",
       "  <tbody>\n",
       "    <tr>\n",
       "      <th>BERT_spc_87_epoch_0_max_len_100</th>\n",
       "      <td>0.00535</td>\n",
       "      <td>0.009877</td>\n",
       "      <td>0.014815</td>\n",
       "      <td>0.011111</td>\n",
       "      <td>0.004938</td>\n",
       "    </tr>\n",
       "  </tbody>\n",
       "</table>\n",
       "</div>"
      ],
      "text/plain": [
       "                                     map       mrr    avg_sr  avg_ndcg  \\\n",
       "BERT_spc_87_epoch_0_max_len_100  0.00535  0.009877  0.014815  0.011111   \n",
       "\n",
       "                                   avg_p3  \n",
       "BERT_spc_87_epoch_0_max_len_100  0.004938  "
      ]
     },
     "execution_count": 81,
     "metadata": {},
     "output_type": "execute_result"
    }
   ],
   "source": [
    "# 400 sentence pairs | not random negatives | REPEATED with max_len 100 ---> 300 during training but 100 during testing\n",
    "# first_two\n",
    "pd.DataFrame(calc_metrics(df1),index=df1.Model_name.unique())"
   ]
  },
  {
   "cell_type": "code",
   "execution_count": 53,
   "metadata": {
    "collapsed": true,
    "hidden": true
   },
   "outputs": [
    {
     "data": {
      "text/html": [
       "<div>\n",
       "<style scoped>\n",
       "    .dataframe tbody tr th:only-of-type {\n",
       "        vertical-align: middle;\n",
       "    }\n",
       "\n",
       "    .dataframe tbody tr th {\n",
       "        vertical-align: top;\n",
       "    }\n",
       "\n",
       "    .dataframe thead th {\n",
       "        text-align: right;\n",
       "    }\n",
       "</style>\n",
       "<table border=\"1\" class=\"dataframe\">\n",
       "  <thead>\n",
       "    <tr style=\"text-align: right;\">\n",
       "      <th></th>\n",
       "      <th>map</th>\n",
       "      <th>mrr</th>\n",
       "      <th>avg_sr</th>\n",
       "      <th>avg_ndcg</th>\n",
       "      <th>avg_p3</th>\n",
       "    </tr>\n",
       "  </thead>\n",
       "  <tbody>\n",
       "    <tr>\n",
       "      <th>BERT_spc_83_final</th>\n",
       "      <td>0.107819</td>\n",
       "      <td>0.172222</td>\n",
       "      <td>0.248148</td>\n",
       "      <td>0.190719</td>\n",
       "      <td>0.104938</td>\n",
       "    </tr>\n",
       "  </tbody>\n",
       "</table>\n",
       "</div>"
      ],
      "text/plain": [
       "                        map       mrr    avg_sr  avg_ndcg    avg_p3\n",
       "BERT_spc_83_final  0.107819  0.172222  0.248148  0.190719  0.104938"
      ]
     },
     "execution_count": 53,
     "metadata": {},
     "output_type": "execute_result"
    }
   ],
   "source": [
    "# 400 sentence pairs | not random negatives | REPEATED with max_len 100 ---> 400\n",
    "pd.DataFrame(calc_metrics(df1),index=df1.Model_name.unique())"
   ]
  },
  {
   "cell_type": "code",
   "execution_count": 37,
   "metadata": {
    "collapsed": true,
    "hidden": true
   },
   "outputs": [
    {
     "data": {
      "text/html": [
       "<div>\n",
       "<style scoped>\n",
       "    .dataframe tbody tr th:only-of-type {\n",
       "        vertical-align: middle;\n",
       "    }\n",
       "\n",
       "    .dataframe tbody tr th {\n",
       "        vertical-align: top;\n",
       "    }\n",
       "\n",
       "    .dataframe thead th {\n",
       "        text-align: right;\n",
       "    }\n",
       "</style>\n",
       "<table border=\"1\" class=\"dataframe\">\n",
       "  <thead>\n",
       "    <tr style=\"text-align: right;\">\n",
       "      <th></th>\n",
       "      <th>map</th>\n",
       "      <th>mrr</th>\n",
       "      <th>avg_sr</th>\n",
       "      <th>avg_ndcg</th>\n",
       "      <th>avg_p3</th>\n",
       "    </tr>\n",
       "  </thead>\n",
       "  <tbody>\n",
       "    <tr>\n",
       "      <th>BERT_spc_83_epoch_0</th>\n",
       "      <td>0.338066</td>\n",
       "      <td>0.465432</td>\n",
       "      <td>0.574074</td>\n",
       "      <td>0.492086</td>\n",
       "      <td>0.297531</td>\n",
       "    </tr>\n",
       "  </tbody>\n",
       "</table>\n",
       "</div>"
      ],
      "text/plain": [
       "                          map       mrr    avg_sr  avg_ndcg    avg_p3\n",
       "BERT_spc_83_epoch_0  0.338066  0.465432  0.574074  0.492086  0.297531"
      ]
     },
     "execution_count": 37,
     "metadata": {},
     "output_type": "execute_result"
    }
   ],
   "source": [
    "# 400 sentence pairs | not random negatives | REPEATED with max_len 100 ---> 400\n",
    "pd.DataFrame(calc_metrics(df1),index=df1.Model_name.unique())"
   ]
  },
  {
   "cell_type": "code",
   "execution_count": 49,
   "metadata": {
    "collapsed": true,
    "hidden": true
   },
   "outputs": [
    {
     "data": {
      "text/html": [
       "<div>\n",
       "<style scoped>\n",
       "    .dataframe tbody tr th:only-of-type {\n",
       "        vertical-align: middle;\n",
       "    }\n",
       "\n",
       "    .dataframe tbody tr th {\n",
       "        vertical-align: top;\n",
       "    }\n",
       "\n",
       "    .dataframe thead th {\n",
       "        text-align: right;\n",
       "    }\n",
       "</style>\n",
       "<table border=\"1\" class=\"dataframe\">\n",
       "  <thead>\n",
       "    <tr style=\"text-align: right;\">\n",
       "      <th></th>\n",
       "      <th>map</th>\n",
       "      <th>mrr</th>\n",
       "      <th>avg_sr</th>\n",
       "      <th>avg_ndcg</th>\n",
       "      <th>avg_p3</th>\n",
       "    </tr>\n",
       "  </thead>\n",
       "  <tbody>\n",
       "    <tr>\n",
       "      <th>BERT_spc_83_epoch_0_max_len_100</th>\n",
       "      <td>0.336831</td>\n",
       "      <td>0.464815</td>\n",
       "      <td>0.574074</td>\n",
       "      <td>0.491833</td>\n",
       "      <td>0.297531</td>\n",
       "    </tr>\n",
       "  </tbody>\n",
       "</table>\n",
       "</div>"
      ],
      "text/plain": [
       "                                      map       mrr    avg_sr  avg_ndcg  \\\n",
       "BERT_spc_83_epoch_0_max_len_100  0.336831  0.464815  0.574074  0.491833   \n",
       "\n",
       "                                   avg_p3  \n",
       "BERT_spc_83_epoch_0_max_len_100  0.297531  "
      ]
     },
     "execution_count": 49,
     "metadata": {},
     "output_type": "execute_result"
    }
   ],
   "source": [
    "# 400 sentence pairs | not random negatives | REPEATED with max_len 100 ---> 400 during training but 100 during testing\n",
    "pd.DataFrame(calc_metrics(df1),index=df1.Model_name.unique())"
   ]
  },
  {
   "cell_type": "markdown",
   "metadata": {
    "heading_collapsed": true,
    "hidden": true
   },
   "source": [
    "### all sentence pairs "
   ]
  },
  {
   "cell_type": "code",
   "execution_count": 6,
   "metadata": {
    "hidden": true
   },
   "outputs": [
    {
     "data": {
      "text/html": [
       "<div>\n",
       "<style scoped>\n",
       "    .dataframe tbody tr th:only-of-type {\n",
       "        vertical-align: middle;\n",
       "    }\n",
       "\n",
       "    .dataframe tbody tr th {\n",
       "        vertical-align: top;\n",
       "    }\n",
       "\n",
       "    .dataframe thead th {\n",
       "        text-align: right;\n",
       "    }\n",
       "</style>\n",
       "<table border=\"1\" class=\"dataframe\">\n",
       "  <thead>\n",
       "    <tr style=\"text-align: right;\">\n",
       "      <th></th>\n",
       "      <th>map</th>\n",
       "      <th>mrr</th>\n",
       "      <th>avg_sr</th>\n",
       "      <th>avg_ndcg</th>\n",
       "      <th>avg_p3</th>\n",
       "    </tr>\n",
       "  </thead>\n",
       "  <tbody>\n",
       "    <tr>\n",
       "      <th>BERT_spc</th>\n",
       "      <td>0.394033</td>\n",
       "      <td>0.546914</td>\n",
       "      <td>0.662963</td>\n",
       "      <td>0.571851</td>\n",
       "      <td>0.346914</td>\n",
       "    </tr>\n",
       "  </tbody>\n",
       "</table>\n",
       "</div>"
      ],
      "text/plain": [
       "               map       mrr    avg_sr  avg_ndcg    avg_p3\n",
       "BERT_spc  0.394033  0.546914  0.662963  0.571851  0.346914"
      ]
     },
     "execution_count": 6,
     "metadata": {},
     "output_type": "execute_result"
    }
   ],
   "source": [
    "# 695 epoch 3\n",
    "pd.DataFrame(calc_metrics(df1),index=df1.Model_name.unique())"
   ]
  },
  {
   "cell_type": "code",
   "execution_count": 8,
   "metadata": {
    "hidden": true
   },
   "outputs": [
    {
     "data": {
      "text/html": [
       "<div>\n",
       "<style scoped>\n",
       "    .dataframe tbody tr th:only-of-type {\n",
       "        vertical-align: middle;\n",
       "    }\n",
       "\n",
       "    .dataframe tbody tr th {\n",
       "        vertical-align: top;\n",
       "    }\n",
       "\n",
       "    .dataframe thead th {\n",
       "        text-align: right;\n",
       "    }\n",
       "</style>\n",
       "<table border=\"1\" class=\"dataframe\">\n",
       "  <thead>\n",
       "    <tr style=\"text-align: right;\">\n",
       "      <th></th>\n",
       "      <th>map</th>\n",
       "      <th>mrr</th>\n",
       "      <th>avg_sr</th>\n",
       "      <th>avg_ndcg</th>\n",
       "      <th>avg_p3</th>\n",
       "    </tr>\n",
       "  </thead>\n",
       "  <tbody>\n",
       "    <tr>\n",
       "      <th>BERT_spc</th>\n",
       "      <td>0.391975</td>\n",
       "      <td>0.542593</td>\n",
       "      <td>0.644444</td>\n",
       "      <td>0.565214</td>\n",
       "      <td>0.346914</td>\n",
       "    </tr>\n",
       "  </tbody>\n",
       "</table>\n",
       "</div>"
      ],
      "text/plain": [
       "               map       mrr    avg_sr  avg_ndcg    avg_p3\n",
       "BERT_spc  0.391975  0.542593  0.644444  0.565214  0.346914"
      ]
     },
     "execution_count": 8,
     "metadata": {},
     "output_type": "execute_result"
    }
   ],
   "source": [
    "# 695 epoch 3 QE\n",
    "pd.DataFrame(calc_metrics(df1),index=df1.Model_name.unique())"
   ]
  },
  {
   "cell_type": "code",
   "execution_count": 10,
   "metadata": {
    "hidden": true
   },
   "outputs": [
    {
     "data": {
      "text/html": [
       "<div>\n",
       "<style scoped>\n",
       "    .dataframe tbody tr th:only-of-type {\n",
       "        vertical-align: middle;\n",
       "    }\n",
       "\n",
       "    .dataframe tbody tr th {\n",
       "        vertical-align: top;\n",
       "    }\n",
       "\n",
       "    .dataframe thead th {\n",
       "        text-align: right;\n",
       "    }\n",
       "</style>\n",
       "<table border=\"1\" class=\"dataframe\">\n",
       "  <thead>\n",
       "    <tr style=\"text-align: right;\">\n",
       "      <th></th>\n",
       "      <th>map</th>\n",
       "      <th>mrr</th>\n",
       "      <th>avg_sr</th>\n",
       "      <th>avg_ndcg</th>\n",
       "      <th>avg_p3</th>\n",
       "    </tr>\n",
       "  </thead>\n",
       "  <tbody>\n",
       "    <tr>\n",
       "      <th>BERT_spc</th>\n",
       "      <td>0.311934</td>\n",
       "      <td>0.42284</td>\n",
       "      <td>0.496296</td>\n",
       "      <td>0.439552</td>\n",
       "      <td>0.346914</td>\n",
       "    </tr>\n",
       "  </tbody>\n",
       "</table>\n",
       "</div>"
      ],
      "text/plain": [
       "               map      mrr    avg_sr  avg_ndcg    avg_p3\n",
       "BERT_spc  0.311934  0.42284  0.496296  0.439552  0.346914"
      ]
     },
     "execution_count": 10,
     "metadata": {},
     "output_type": "execute_result"
    }
   ],
   "source": [
    "# 695 epoch 3 with answers\n",
    "pd.DataFrame(calc_metrics(df1),index=df1.Model_name.unique())"
   ]
  },
  {
   "cell_type": "code",
   "execution_count": null,
   "metadata": {
    "hidden": true
   },
   "outputs": [],
   "source": []
  },
  {
   "cell_type": "code",
   "execution_count": 11,
   "metadata": {
    "hidden": true
   },
   "outputs": [
    {
     "data": {
      "text/html": [
       "<div>\n",
       "<style scoped>\n",
       "    .dataframe tbody tr th:only-of-type {\n",
       "        vertical-align: middle;\n",
       "    }\n",
       "\n",
       "    .dataframe tbody tr th {\n",
       "        vertical-align: top;\n",
       "    }\n",
       "\n",
       "    .dataframe thead th {\n",
       "        text-align: right;\n",
       "    }\n",
       "</style>\n",
       "<table border=\"1\" class=\"dataframe\">\n",
       "  <thead>\n",
       "    <tr style=\"text-align: right;\">\n",
       "      <th></th>\n",
       "      <th>map</th>\n",
       "      <th>mrr</th>\n",
       "      <th>avg_sr</th>\n",
       "      <th>avg_ndcg</th>\n",
       "      <th>avg_p3</th>\n",
       "    </tr>\n",
       "  </thead>\n",
       "  <tbody>\n",
       "    <tr>\n",
       "      <th>BERT_spc</th>\n",
       "      <td>0.404115</td>\n",
       "      <td>0.545062</td>\n",
       "      <td>0.651852</td>\n",
       "      <td>0.570955</td>\n",
       "      <td>0.353086</td>\n",
       "    </tr>\n",
       "  </tbody>\n",
       "</table>\n",
       "</div>"
      ],
      "text/plain": [
       "               map       mrr    avg_sr  avg_ndcg    avg_p3\n",
       "BERT_spc  0.404115  0.545062  0.651852  0.570955  0.353086"
      ]
     },
     "execution_count": 11,
     "metadata": {},
     "output_type": "execute_result"
    }
   ],
   "source": [
    "# 401 epoch 3\n",
    "pd.DataFrame(calc_metrics(df1),index=df1.Model_name.unique())"
   ]
  },
  {
   "cell_type": "code",
   "execution_count": 21,
   "metadata": {
    "hidden": true
   },
   "outputs": [
    {
     "data": {
      "text/html": [
       "<div>\n",
       "<style scoped>\n",
       "    .dataframe tbody tr th:only-of-type {\n",
       "        vertical-align: middle;\n",
       "    }\n",
       "\n",
       "    .dataframe tbody tr th {\n",
       "        vertical-align: top;\n",
       "    }\n",
       "\n",
       "    .dataframe thead th {\n",
       "        text-align: right;\n",
       "    }\n",
       "</style>\n",
       "<table border=\"1\" class=\"dataframe\">\n",
       "  <thead>\n",
       "    <tr style=\"text-align: right;\">\n",
       "      <th></th>\n",
       "      <th>map</th>\n",
       "      <th>mrr</th>\n",
       "      <th>avg_sr</th>\n",
       "      <th>avg_ndcg</th>\n",
       "      <th>avg_p3</th>\n",
       "    </tr>\n",
       "  </thead>\n",
       "  <tbody>\n",
       "    <tr>\n",
       "      <th>BERT_spc</th>\n",
       "      <td>0.4</td>\n",
       "      <td>0.546296</td>\n",
       "      <td>0.640741</td>\n",
       "      <td>0.568046</td>\n",
       "      <td>0.340741</td>\n",
       "    </tr>\n",
       "  </tbody>\n",
       "</table>\n",
       "</div>"
      ],
      "text/plain": [
       "          map       mrr    avg_sr  avg_ndcg    avg_p3\n",
       "BERT_spc  0.4  0.546296  0.640741  0.568046  0.340741"
      ]
     },
     "execution_count": 21,
     "metadata": {},
     "output_type": "execute_result"
    }
   ],
   "source": [
    "# 401 epoch 3_QE\n",
    "pd.DataFrame(calc_metrics(df1),index=df1.Model_name.unique())"
   ]
  },
  {
   "cell_type": "code",
   "execution_count": 23,
   "metadata": {
    "hidden": true
   },
   "outputs": [
    {
     "data": {
      "text/html": [
       "<div>\n",
       "<style scoped>\n",
       "    .dataframe tbody tr th:only-of-type {\n",
       "        vertical-align: middle;\n",
       "    }\n",
       "\n",
       "    .dataframe tbody tr th {\n",
       "        vertical-align: top;\n",
       "    }\n",
       "\n",
       "    .dataframe thead th {\n",
       "        text-align: right;\n",
       "    }\n",
       "</style>\n",
       "<table border=\"1\" class=\"dataframe\">\n",
       "  <thead>\n",
       "    <tr style=\"text-align: right;\">\n",
       "      <th></th>\n",
       "      <th>map</th>\n",
       "      <th>mrr</th>\n",
       "      <th>avg_sr</th>\n",
       "      <th>avg_ndcg</th>\n",
       "      <th>avg_p3</th>\n",
       "    </tr>\n",
       "  </thead>\n",
       "  <tbody>\n",
       "    <tr>\n",
       "      <th>BERT_spc</th>\n",
       "      <td>0.306996</td>\n",
       "      <td>0.426543</td>\n",
       "      <td>0.52963</td>\n",
       "      <td>0.451962</td>\n",
       "      <td>0.340741</td>\n",
       "    </tr>\n",
       "  </tbody>\n",
       "</table>\n",
       "</div>"
      ],
      "text/plain": [
       "               map       mrr   avg_sr  avg_ndcg    avg_p3\n",
       "BERT_spc  0.306996  0.426543  0.52963  0.451962  0.340741"
      ]
     },
     "execution_count": 23,
     "metadata": {},
     "output_type": "execute_result"
    }
   ],
   "source": [
    "# 401 epoch 3 with Answers\n",
    "pd.DataFrame(calc_metrics(df1),index=df1.Model_name.unique())"
   ]
  },
  {
   "cell_type": "code",
   "execution_count": 6,
   "metadata": {
    "hidden": true
   },
   "outputs": [
    {
     "data": {
      "text/html": [
       "<div>\n",
       "<style scoped>\n",
       "    .dataframe tbody tr th:only-of-type {\n",
       "        vertical-align: middle;\n",
       "    }\n",
       "\n",
       "    .dataframe tbody tr th {\n",
       "        vertical-align: top;\n",
       "    }\n",
       "\n",
       "    .dataframe thead th {\n",
       "        text-align: right;\n",
       "    }\n",
       "</style>\n",
       "<table border=\"1\" class=\"dataframe\">\n",
       "  <thead>\n",
       "    <tr style=\"text-align: right;\">\n",
       "      <th></th>\n",
       "      <th>map</th>\n",
       "      <th>mrr</th>\n",
       "      <th>avg_sr</th>\n",
       "      <th>avg_ndcg</th>\n",
       "      <th>avg_p3</th>\n",
       "    </tr>\n",
       "  </thead>\n",
       "  <tbody>\n",
       "    <tr>\n",
       "      <th>BERT_spc</th>\n",
       "      <td>0.223251</td>\n",
       "      <td>0.327778</td>\n",
       "      <td>0.414815</td>\n",
       "      <td>0.347763</td>\n",
       "      <td>0.193827</td>\n",
       "    </tr>\n",
       "  </tbody>\n",
       "</table>\n",
       "</div>"
      ],
      "text/plain": [
       "               map       mrr    avg_sr  avg_ndcg    avg_p3\n",
       "BERT_spc  0.223251  0.327778  0.414815  0.347763  0.193827"
      ]
     },
     "execution_count": 6,
     "metadata": {},
     "output_type": "execute_result"
    }
   ],
   "source": [
    "# 401 epoch 3 random negs off inshorts\n",
    "pd.DataFrame(calc_metrics(df1),index=df1.Model_name.unique())"
   ]
  },
  {
   "cell_type": "code",
   "execution_count": 7,
   "metadata": {
    "hidden": true
   },
   "outputs": [
    {
     "data": {
      "text/html": [
       "<div>\n",
       "<style scoped>\n",
       "    .dataframe tbody tr th:only-of-type {\n",
       "        vertical-align: middle;\n",
       "    }\n",
       "\n",
       "    .dataframe tbody tr th {\n",
       "        vertical-align: top;\n",
       "    }\n",
       "\n",
       "    .dataframe thead th {\n",
       "        text-align: right;\n",
       "    }\n",
       "</style>\n",
       "<table border=\"1\" class=\"dataframe\">\n",
       "  <thead>\n",
       "    <tr style=\"text-align: right;\">\n",
       "      <th></th>\n",
       "      <th>map</th>\n",
       "      <th>mrr</th>\n",
       "      <th>avg_sr</th>\n",
       "      <th>avg_ndcg</th>\n",
       "      <th>avg_p3</th>\n",
       "    </tr>\n",
       "  </thead>\n",
       "  <tbody>\n",
       "    <tr>\n",
       "      <th>BERT_spc_mbert_lhsAvg_cos_nosig_fullDataset_ep1</th>\n",
       "      <td>0.338477</td>\n",
       "      <td>0.474074</td>\n",
       "      <td>0.592593</td>\n",
       "      <td>0.504716</td>\n",
       "      <td>0.295062</td>\n",
       "    </tr>\n",
       "  </tbody>\n",
       "</table>\n",
       "</div>"
      ],
      "text/plain": [
       "                                                      map       mrr    avg_sr  \\\n",
       "BERT_spc_mbert_lhsAvg_cos_nosig_fullDataset_ep1  0.338477  0.474074  0.592593   \n",
       "\n",
       "                                                 avg_ndcg    avg_p3  \n",
       "BERT_spc_mbert_lhsAvg_cos_nosig_fullDataset_ep1  0.504716  0.295062  "
      ]
     },
     "execution_count": 7,
     "metadata": {},
     "output_type": "execute_result"
    }
   ],
   "source": [
    "# 178_epoch_0\n",
    "pd.DataFrame(calc_metrics(df1),index=df1.Model_name.unique())"
   ]
  },
  {
   "cell_type": "code",
   "execution_count": 11,
   "metadata": {
    "hidden": true
   },
   "outputs": [
    {
     "data": {
      "text/html": [
       "<div>\n",
       "<style scoped>\n",
       "    .dataframe tbody tr th:only-of-type {\n",
       "        vertical-align: middle;\n",
       "    }\n",
       "\n",
       "    .dataframe tbody tr th {\n",
       "        vertical-align: top;\n",
       "    }\n",
       "\n",
       "    .dataframe thead th {\n",
       "        text-align: right;\n",
       "    }\n",
       "</style>\n",
       "<table border=\"1\" class=\"dataframe\">\n",
       "  <thead>\n",
       "    <tr style=\"text-align: right;\">\n",
       "      <th></th>\n",
       "      <th>map</th>\n",
       "      <th>mrr</th>\n",
       "      <th>avg_sr</th>\n",
       "      <th>avg_ndcg</th>\n",
       "      <th>avg_p3</th>\n",
       "    </tr>\n",
       "  </thead>\n",
       "  <tbody>\n",
       "    <tr>\n",
       "      <th>BERT_spc_mbert_lhsAvg_cos_nosig_fullDataset_ep1</th>\n",
       "      <td>0.301852</td>\n",
       "      <td>0.424074</td>\n",
       "      <td>0.511111</td>\n",
       "      <td>0.444501</td>\n",
       "      <td>0.259259</td>\n",
       "    </tr>\n",
       "  </tbody>\n",
       "</table>\n",
       "</div>"
      ],
      "text/plain": [
       "                                                      map       mrr    avg_sr  \\\n",
       "BERT_spc_mbert_lhsAvg_cos_nosig_fullDataset_ep1  0.301852  0.424074  0.511111   \n",
       "\n",
       "                                                 avg_ndcg    avg_p3  \n",
       "BERT_spc_mbert_lhsAvg_cos_nosig_fullDataset_ep1  0.444501  0.259259  "
      ]
     },
     "execution_count": 11,
     "metadata": {},
     "output_type": "execute_result"
    }
   ],
   "source": [
    "# 178_epoch_0_QE\n",
    "pd.DataFrame(calc_metrics(df1),index=df1.Model_name.unique())"
   ]
  },
  {
   "cell_type": "code",
   "execution_count": 15,
   "metadata": {
    "hidden": true
   },
   "outputs": [
    {
     "data": {
      "text/html": [
       "<div>\n",
       "<style scoped>\n",
       "    .dataframe tbody tr th:only-of-type {\n",
       "        vertical-align: middle;\n",
       "    }\n",
       "\n",
       "    .dataframe tbody tr th {\n",
       "        vertical-align: top;\n",
       "    }\n",
       "\n",
       "    .dataframe thead th {\n",
       "        text-align: right;\n",
       "    }\n",
       "</style>\n",
       "<table border=\"1\" class=\"dataframe\">\n",
       "  <thead>\n",
       "    <tr style=\"text-align: right;\">\n",
       "      <th></th>\n",
       "      <th>map</th>\n",
       "      <th>mrr</th>\n",
       "      <th>avg_sr</th>\n",
       "      <th>avg_ndcg</th>\n",
       "      <th>avg_p3</th>\n",
       "    </tr>\n",
       "  </thead>\n",
       "  <tbody>\n",
       "    <tr>\n",
       "      <th>BERT_spc</th>\n",
       "      <td>0.290329</td>\n",
       "      <td>0.416049</td>\n",
       "      <td>0.522222</td>\n",
       "      <td>0.441996</td>\n",
       "      <td>0.246914</td>\n",
       "    </tr>\n",
       "  </tbody>\n",
       "</table>\n",
       "</div>"
      ],
      "text/plain": [
       "               map       mrr    avg_sr  avg_ndcg    avg_p3\n",
       "BERT_spc  0.290329  0.416049  0.522222  0.441996  0.246914"
      ]
     },
     "execution_count": 15,
     "metadata": {},
     "output_type": "execute_result"
    }
   ],
   "source": [
    "# 178_epoch_0 with Answers\n",
    "pd.DataFrame(calc_metrics(df1),index=df1.Model_name.unique())"
   ]
  },
  {
   "cell_type": "code",
   "execution_count": null,
   "metadata": {
    "hidden": true
   },
   "outputs": [],
   "source": []
  },
  {
   "cell_type": "code",
   "execution_count": 19,
   "metadata": {
    "hidden": true
   },
   "outputs": [
    {
     "data": {
      "text/html": [
       "<div>\n",
       "<style scoped>\n",
       "    .dataframe tbody tr th:only-of-type {\n",
       "        vertical-align: middle;\n",
       "    }\n",
       "\n",
       "    .dataframe tbody tr th {\n",
       "        vertical-align: top;\n",
       "    }\n",
       "\n",
       "    .dataframe thead th {\n",
       "        text-align: right;\n",
       "    }\n",
       "</style>\n",
       "<table border=\"1\" class=\"dataframe\">\n",
       "  <thead>\n",
       "    <tr style=\"text-align: right;\">\n",
       "      <th></th>\n",
       "      <th>map</th>\n",
       "      <th>mrr</th>\n",
       "      <th>avg_sr</th>\n",
       "      <th>avg_ndcg</th>\n",
       "      <th>avg_p3</th>\n",
       "    </tr>\n",
       "  </thead>\n",
       "  <tbody>\n",
       "    <tr>\n",
       "      <th>BERT_spc_89_epoch_0</th>\n",
       "      <td>0.003498</td>\n",
       "      <td>0.00679</td>\n",
       "      <td>0.014815</td>\n",
       "      <td>0.008862</td>\n",
       "      <td>0.004938</td>\n",
       "    </tr>\n",
       "  </tbody>\n",
       "</table>\n",
       "</div>"
      ],
      "text/plain": [
       "                          map      mrr    avg_sr  avg_ndcg    avg_p3\n",
       "BERT_spc_89_epoch_0  0.003498  0.00679  0.014815  0.008862  0.004938"
      ]
     },
     "execution_count": 19,
     "metadata": {},
     "output_type": "execute_result"
    }
   ],
   "source": [
    "# 123 random seed\n",
    "# all sentence pairs | not random negatives | REPEATED with max_len 100 ---> 300 during training but 100 during testing\n",
    "pd.DataFrame(calc_metrics(df1),index=df1.Model_name.unique())"
   ]
  },
  {
   "cell_type": "code",
   "execution_count": 27,
   "metadata": {
    "collapsed": true,
    "hidden": true
   },
   "outputs": [
    {
     "data": {
      "text/html": [
       "<div>\n",
       "<style scoped>\n",
       "    .dataframe tbody tr th:only-of-type {\n",
       "        vertical-align: middle;\n",
       "    }\n",
       "\n",
       "    .dataframe tbody tr th {\n",
       "        vertical-align: top;\n",
       "    }\n",
       "\n",
       "    .dataframe thead th {\n",
       "        text-align: right;\n",
       "    }\n",
       "</style>\n",
       "<table border=\"1\" class=\"dataframe\">\n",
       "  <thead>\n",
       "    <tr style=\"text-align: right;\">\n",
       "      <th></th>\n",
       "      <th>map</th>\n",
       "      <th>mrr</th>\n",
       "      <th>avg_sr</th>\n",
       "      <th>avg_ndcg</th>\n",
       "      <th>avg_p3</th>\n",
       "    </tr>\n",
       "  </thead>\n",
       "  <tbody>\n",
       "    <tr>\n",
       "      <th>BERT_spc_89_epoch_1</th>\n",
       "      <td>0.00144</td>\n",
       "      <td>0.003086</td>\n",
       "      <td>0.007407</td>\n",
       "      <td>0.004189</td>\n",
       "      <td>0.002469</td>\n",
       "    </tr>\n",
       "  </tbody>\n",
       "</table>\n",
       "</div>"
      ],
      "text/plain": [
       "                         map       mrr    avg_sr  avg_ndcg    avg_p3\n",
       "BERT_spc_89_epoch_1  0.00144  0.003086  0.007407  0.004189  0.002469"
      ]
     },
     "execution_count": 27,
     "metadata": {},
     "output_type": "execute_result"
    }
   ],
   "source": [
    "# 123 random seed\n",
    "# all sentence pairs | not random negatives | REPEATED with max_len 100 ---> 300 during training but 100 during testing\n",
    "pd.DataFrame(calc_metrics(df1),index=df1.Model_name.unique())"
   ]
  },
  {
   "cell_type": "code",
   "execution_count": 15,
   "metadata": {
    "collapsed": true,
    "hidden": true
   },
   "outputs": [
    {
     "data": {
      "text/html": [
       "<div>\n",
       "<style scoped>\n",
       "    .dataframe tbody tr th:only-of-type {\n",
       "        vertical-align: middle;\n",
       "    }\n",
       "\n",
       "    .dataframe tbody tr th {\n",
       "        vertical-align: top;\n",
       "    }\n",
       "\n",
       "    .dataframe thead th {\n",
       "        text-align: right;\n",
       "    }\n",
       "</style>\n",
       "<table border=\"1\" class=\"dataframe\">\n",
       "  <thead>\n",
       "    <tr style=\"text-align: right;\">\n",
       "      <th></th>\n",
       "      <th>map</th>\n",
       "      <th>mrr</th>\n",
       "      <th>avg_sr</th>\n",
       "      <th>avg_ndcg</th>\n",
       "      <th>avg_p3</th>\n",
       "    </tr>\n",
       "  </thead>\n",
       "  <tbody>\n",
       "    <tr>\n",
       "      <th>BERT_spc_89_final</th>\n",
       "      <td>0.002263</td>\n",
       "      <td>0.003704</td>\n",
       "      <td>0.003704</td>\n",
       "      <td>0.003704</td>\n",
       "      <td>0.001235</td>\n",
       "    </tr>\n",
       "  </tbody>\n",
       "</table>\n",
       "</div>"
      ],
      "text/plain": [
       "                        map       mrr    avg_sr  avg_ndcg    avg_p3\n",
       "BERT_spc_89_final  0.002263  0.003704  0.003704  0.003704  0.001235"
      ]
     },
     "execution_count": 15,
     "metadata": {},
     "output_type": "execute_result"
    }
   ],
   "source": [
    "# 123 random seed\n",
    "# all sentence pairs | not random negatives | REPEATED with max_len 100 ---> 300 during training but 100 during testing\n",
    "pd.DataFrame(calc_metrics(df1),index=df1.Model_name.unique())"
   ]
  },
  {
   "cell_type": "code",
   "execution_count": 23,
   "metadata": {
    "hidden": true
   },
   "outputs": [
    {
     "data": {
      "text/html": [
       "<div>\n",
       "<style scoped>\n",
       "    .dataframe tbody tr th:only-of-type {\n",
       "        vertical-align: middle;\n",
       "    }\n",
       "\n",
       "    .dataframe tbody tr th {\n",
       "        vertical-align: top;\n",
       "    }\n",
       "\n",
       "    .dataframe thead th {\n",
       "        text-align: right;\n",
       "    }\n",
       "</style>\n",
       "<table border=\"1\" class=\"dataframe\">\n",
       "  <thead>\n",
       "    <tr style=\"text-align: right;\">\n",
       "      <th></th>\n",
       "      <th>map</th>\n",
       "      <th>mrr</th>\n",
       "      <th>avg_sr</th>\n",
       "      <th>avg_ndcg</th>\n",
       "      <th>avg_p3</th>\n",
       "    </tr>\n",
       "  </thead>\n",
       "  <tbody>\n",
       "    <tr>\n",
       "      <th>BERT_spc_90_epoch_0</th>\n",
       "      <td>0.001235</td>\n",
       "      <td>0.003704</td>\n",
       "      <td>0.011111</td>\n",
       "      <td>0.005556</td>\n",
       "      <td>0.003704</td>\n",
       "    </tr>\n",
       "  </tbody>\n",
       "</table>\n",
       "</div>"
      ],
      "text/plain": [
       "                          map       mrr    avg_sr  avg_ndcg    avg_p3\n",
       "BERT_spc_90_epoch_0  0.001235  0.003704  0.011111  0.005556  0.003704"
      ]
     },
     "execution_count": 23,
     "metadata": {},
     "output_type": "execute_result"
    }
   ],
   "source": [
    "# 1230 random seed\n",
    "# all sentence pairs | not random negatives | REPEATED with max_len 100 ---> 300 during training but 100 during testing\n",
    "pd.DataFrame(calc_metrics(df1),index=df1.Model_name.unique())"
   ]
  },
  {
   "cell_type": "code",
   "execution_count": 31,
   "metadata": {
    "hidden": true
   },
   "outputs": [
    {
     "data": {
      "text/html": [
       "<div>\n",
       "<style scoped>\n",
       "    .dataframe tbody tr th:only-of-type {\n",
       "        vertical-align: middle;\n",
       "    }\n",
       "\n",
       "    .dataframe tbody tr th {\n",
       "        vertical-align: top;\n",
       "    }\n",
       "\n",
       "    .dataframe thead th {\n",
       "        text-align: right;\n",
       "    }\n",
       "</style>\n",
       "<table border=\"1\" class=\"dataframe\">\n",
       "  <thead>\n",
       "    <tr style=\"text-align: right;\">\n",
       "      <th></th>\n",
       "      <th>map</th>\n",
       "      <th>mrr</th>\n",
       "      <th>avg_sr</th>\n",
       "      <th>avg_ndcg</th>\n",
       "      <th>avg_p3</th>\n",
       "    </tr>\n",
       "  </thead>\n",
       "  <tbody>\n",
       "    <tr>\n",
       "      <th>BERT_spc_90_epoch_1</th>\n",
       "      <td>0.002263</td>\n",
       "      <td>0.003704</td>\n",
       "      <td>0.003704</td>\n",
       "      <td>0.003704</td>\n",
       "      <td>0.001235</td>\n",
       "    </tr>\n",
       "  </tbody>\n",
       "</table>\n",
       "</div>"
      ],
      "text/plain": [
       "                          map       mrr    avg_sr  avg_ndcg    avg_p3\n",
       "BERT_spc_90_epoch_1  0.002263  0.003704  0.003704  0.003704  0.001235"
      ]
     },
     "execution_count": 31,
     "metadata": {},
     "output_type": "execute_result"
    }
   ],
   "source": [
    "# 1230 random seed\n",
    "# all sentence pairs | not random negatives | REPEATED with max_len 100 ---> 300 during training but 100 during testing\n",
    "pd.DataFrame(calc_metrics(df1),index=df1.Model_name.unique())"
   ]
  },
  {
   "cell_type": "code",
   "execution_count": 39,
   "metadata": {
    "hidden": true
   },
   "outputs": [
    {
     "data": {
      "text/html": [
       "<div>\n",
       "<style scoped>\n",
       "    .dataframe tbody tr th:only-of-type {\n",
       "        vertical-align: middle;\n",
       "    }\n",
       "\n",
       "    .dataframe tbody tr th {\n",
       "        vertical-align: top;\n",
       "    }\n",
       "\n",
       "    .dataframe thead th {\n",
       "        text-align: right;\n",
       "    }\n",
       "</style>\n",
       "<table border=\"1\" class=\"dataframe\">\n",
       "  <thead>\n",
       "    <tr style=\"text-align: right;\">\n",
       "      <th></th>\n",
       "      <th>map</th>\n",
       "      <th>mrr</th>\n",
       "      <th>avg_sr</th>\n",
       "      <th>avg_ndcg</th>\n",
       "      <th>avg_p3</th>\n",
       "    </tr>\n",
       "  </thead>\n",
       "  <tbody>\n",
       "    <tr>\n",
       "      <th>BERT_spc_91_epoch_0</th>\n",
       "      <td>0.00535</td>\n",
       "      <td>0.009877</td>\n",
       "      <td>0.014815</td>\n",
       "      <td>0.011111</td>\n",
       "      <td>0.004938</td>\n",
       "    </tr>\n",
       "  </tbody>\n",
       "</table>\n",
       "</div>"
      ],
      "text/plain": [
       "                         map       mrr    avg_sr  avg_ndcg    avg_p3\n",
       "BERT_spc_91_epoch_0  0.00535  0.009877  0.014815  0.011111  0.004938"
      ]
     },
     "execution_count": 39,
     "metadata": {},
     "output_type": "execute_result"
    }
   ],
   "source": [
    "# 123 random seed\n",
    "# all sentence pairs | not random negatives | REPEATED with max_len 100 ---> 300 during training but 100 during testing\n",
    "# first_two\n",
    "pd.DataFrame(calc_metrics(df1),index=df1.Model_name.unique())"
   ]
  },
  {
   "cell_type": "code",
   "execution_count": 43,
   "metadata": {
    "hidden": true
   },
   "outputs": [
    {
     "data": {
      "text/html": [
       "<div>\n",
       "<style scoped>\n",
       "    .dataframe tbody tr th:only-of-type {\n",
       "        vertical-align: middle;\n",
       "    }\n",
       "\n",
       "    .dataframe tbody tr th {\n",
       "        vertical-align: top;\n",
       "    }\n",
       "\n",
       "    .dataframe thead th {\n",
       "        text-align: right;\n",
       "    }\n",
       "</style>\n",
       "<table border=\"1\" class=\"dataframe\">\n",
       "  <thead>\n",
       "    <tr style=\"text-align: right;\">\n",
       "      <th></th>\n",
       "      <th>map</th>\n",
       "      <th>mrr</th>\n",
       "      <th>avg_sr</th>\n",
       "      <th>avg_ndcg</th>\n",
       "      <th>avg_p3</th>\n",
       "    </tr>\n",
       "  </thead>\n",
       "  <tbody>\n",
       "    <tr>\n",
       "      <th>BERT_spc_91_epoch_1</th>\n",
       "      <td>0.00535</td>\n",
       "      <td>0.009877</td>\n",
       "      <td>0.014815</td>\n",
       "      <td>0.011111</td>\n",
       "      <td>0.004938</td>\n",
       "    </tr>\n",
       "  </tbody>\n",
       "</table>\n",
       "</div>"
      ],
      "text/plain": [
       "                         map       mrr    avg_sr  avg_ndcg    avg_p3\n",
       "BERT_spc_91_epoch_1  0.00535  0.009877  0.014815  0.011111  0.004938"
      ]
     },
     "execution_count": 43,
     "metadata": {},
     "output_type": "execute_result"
    }
   ],
   "source": [
    "# 123 random seed\n",
    "# all sentence pairs | not random negatives | REPEATED with max_len 100 ---> 300 during training but 100 during testing\n",
    "# first_two\n",
    "pd.DataFrame(calc_metrics(df1),index=df1.Model_name.unique())"
   ]
  },
  {
   "cell_type": "code",
   "execution_count": 59,
   "metadata": {
    "hidden": true
   },
   "outputs": [
    {
     "data": {
      "text/html": [
       "<div>\n",
       "<style scoped>\n",
       "    .dataframe tbody tr th:only-of-type {\n",
       "        vertical-align: middle;\n",
       "    }\n",
       "\n",
       "    .dataframe tbody tr th {\n",
       "        vertical-align: top;\n",
       "    }\n",
       "\n",
       "    .dataframe thead th {\n",
       "        text-align: right;\n",
       "    }\n",
       "</style>\n",
       "<table border=\"1\" class=\"dataframe\">\n",
       "  <thead>\n",
       "    <tr style=\"text-align: right;\">\n",
       "      <th></th>\n",
       "      <th>map</th>\n",
       "      <th>mrr</th>\n",
       "      <th>avg_sr</th>\n",
       "      <th>avg_ndcg</th>\n",
       "      <th>avg_p3</th>\n",
       "    </tr>\n",
       "  </thead>\n",
       "  <tbody>\n",
       "    <tr>\n",
       "      <th>BERT_spc_91_final</th>\n",
       "      <td>0.00535</td>\n",
       "      <td>0.009877</td>\n",
       "      <td>0.014815</td>\n",
       "      <td>0.011111</td>\n",
       "      <td>0.004938</td>\n",
       "    </tr>\n",
       "  </tbody>\n",
       "</table>\n",
       "</div>"
      ],
      "text/plain": [
       "                       map       mrr    avg_sr  avg_ndcg    avg_p3\n",
       "BERT_spc_91_final  0.00535  0.009877  0.014815  0.011111  0.004938"
      ]
     },
     "execution_count": 59,
     "metadata": {},
     "output_type": "execute_result"
    }
   ],
   "source": [
    "# 123 random seed\n",
    "# all sentence pairs | not random negatives | REPEATED with max_len 100 ---> 300 during training but 100 during testing\n",
    "# first_two\n",
    "pd.DataFrame(calc_metrics(df1),index=df1.Model_name.unique())"
   ]
  },
  {
   "cell_type": "code",
   "execution_count": 47,
   "metadata": {
    "hidden": true
   },
   "outputs": [
    {
     "data": {
      "text/html": [
       "<div>\n",
       "<style scoped>\n",
       "    .dataframe tbody tr th:only-of-type {\n",
       "        vertical-align: middle;\n",
       "    }\n",
       "\n",
       "    .dataframe tbody tr th {\n",
       "        vertical-align: top;\n",
       "    }\n",
       "\n",
       "    .dataframe thead th {\n",
       "        text-align: right;\n",
       "    }\n",
       "</style>\n",
       "<table border=\"1\" class=\"dataframe\">\n",
       "  <thead>\n",
       "    <tr style=\"text-align: right;\">\n",
       "      <th></th>\n",
       "      <th>map</th>\n",
       "      <th>mrr</th>\n",
       "      <th>avg_sr</th>\n",
       "      <th>avg_ndcg</th>\n",
       "      <th>avg_p3</th>\n",
       "    </tr>\n",
       "  </thead>\n",
       "  <tbody>\n",
       "    <tr>\n",
       "      <th>BERT_spc_92_epoch_0</th>\n",
       "      <td>0.006173</td>\n",
       "      <td>0.010494</td>\n",
       "      <td>0.018519</td>\n",
       "      <td>0.012797</td>\n",
       "      <td>0.007407</td>\n",
       "    </tr>\n",
       "  </tbody>\n",
       "</table>\n",
       "</div>"
      ],
      "text/plain": [
       "                          map       mrr    avg_sr  avg_ndcg    avg_p3\n",
       "BERT_spc_92_epoch_0  0.006173  0.010494  0.018519  0.012797  0.007407"
      ]
     },
     "execution_count": 47,
     "metadata": {},
     "output_type": "execute_result"
    }
   ],
   "source": [
    "# 123 random seed\n",
    "# all sentence pairs | not random negatives | REPEATED with max_len 100 ---> 300 during training but 100 during testing\n",
    "# last_two\n",
    "pd.DataFrame(calc_metrics(df1),index=df1.Model_name.unique())"
   ]
  },
  {
   "cell_type": "code",
   "execution_count": 51,
   "metadata": {
    "hidden": true
   },
   "outputs": [
    {
     "data": {
      "text/html": [
       "<div>\n",
       "<style scoped>\n",
       "    .dataframe tbody tr th:only-of-type {\n",
       "        vertical-align: middle;\n",
       "    }\n",
       "\n",
       "    .dataframe tbody tr th {\n",
       "        vertical-align: top;\n",
       "    }\n",
       "\n",
       "    .dataframe thead th {\n",
       "        text-align: right;\n",
       "    }\n",
       "</style>\n",
       "<table border=\"1\" class=\"dataframe\">\n",
       "  <thead>\n",
       "    <tr style=\"text-align: right;\">\n",
       "      <th></th>\n",
       "      <th>map</th>\n",
       "      <th>mrr</th>\n",
       "      <th>avg_sr</th>\n",
       "      <th>avg_ndcg</th>\n",
       "      <th>avg_p3</th>\n",
       "    </tr>\n",
       "  </thead>\n",
       "  <tbody>\n",
       "    <tr>\n",
       "      <th>BERT_spc_92_epoch_1</th>\n",
       "      <td>0.009053</td>\n",
       "      <td>0.014198</td>\n",
       "      <td>0.022222</td>\n",
       "      <td>0.01627</td>\n",
       "      <td>0.008642</td>\n",
       "    </tr>\n",
       "  </tbody>\n",
       "</table>\n",
       "</div>"
      ],
      "text/plain": [
       "                          map       mrr    avg_sr  avg_ndcg    avg_p3\n",
       "BERT_spc_92_epoch_1  0.009053  0.014198  0.022222   0.01627  0.008642"
      ]
     },
     "execution_count": 51,
     "metadata": {},
     "output_type": "execute_result"
    }
   ],
   "source": [
    "# 123 random seed\n",
    "# all sentence pairs | not random negatives | REPEATED with max_len 100 ---> 300 during training but 100 during testing\n",
    "# last_two\n",
    "pd.DataFrame(calc_metrics(df1),index=df1.Model_name.unique())"
   ]
  },
  {
   "cell_type": "code",
   "execution_count": 55,
   "metadata": {
    "hidden": true
   },
   "outputs": [
    {
     "data": {
      "text/html": [
       "<div>\n",
       "<style scoped>\n",
       "    .dataframe tbody tr th:only-of-type {\n",
       "        vertical-align: middle;\n",
       "    }\n",
       "\n",
       "    .dataframe tbody tr th {\n",
       "        vertical-align: top;\n",
       "    }\n",
       "\n",
       "    .dataframe thead th {\n",
       "        text-align: right;\n",
       "    }\n",
       "</style>\n",
       "<table border=\"1\" class=\"dataframe\">\n",
       "  <thead>\n",
       "    <tr style=\"text-align: right;\">\n",
       "      <th></th>\n",
       "      <th>map</th>\n",
       "      <th>mrr</th>\n",
       "      <th>avg_sr</th>\n",
       "      <th>avg_ndcg</th>\n",
       "      <th>avg_p3</th>\n",
       "    </tr>\n",
       "  </thead>\n",
       "  <tbody>\n",
       "    <tr>\n",
       "      <th>BERT_spc_92_final</th>\n",
       "      <td>0.002263</td>\n",
       "      <td>0.004321</td>\n",
       "      <td>0.011111</td>\n",
       "      <td>0.006272</td>\n",
       "      <td>0.004938</td>\n",
       "    </tr>\n",
       "  </tbody>\n",
       "</table>\n",
       "</div>"
      ],
      "text/plain": [
       "                        map       mrr    avg_sr  avg_ndcg    avg_p3\n",
       "BERT_spc_92_final  0.002263  0.004321  0.011111  0.006272  0.004938"
      ]
     },
     "execution_count": 55,
     "metadata": {},
     "output_type": "execute_result"
    }
   ],
   "source": [
    "# 123 random seed\n",
    "# all sentence pairs | not random negatives | REPEATED with max_len 100 ---> 300 during training but 100 during testing\n",
    "# last_two\n",
    "pd.DataFrame(calc_metrics(df1),index=df1.Model_name.unique())"
   ]
  },
  {
   "cell_type": "markdown",
   "metadata": {
    "heading_collapsed": true,
    "hidden": true
   },
   "source": [
    "### Rest "
   ]
  },
  {
   "cell_type": "code",
   "execution_count": 189,
   "metadata": {
    "hidden": true
   },
   "outputs": [
    {
     "data": {
      "text/html": [
       "<div>\n",
       "<style scoped>\n",
       "    .dataframe tbody tr th:only-of-type {\n",
       "        vertical-align: middle;\n",
       "    }\n",
       "\n",
       "    .dataframe tbody tr th {\n",
       "        vertical-align: top;\n",
       "    }\n",
       "\n",
       "    .dataframe thead th {\n",
       "        text-align: right;\n",
       "    }\n",
       "</style>\n",
       "<table border=\"1\" class=\"dataframe\">\n",
       "  <thead>\n",
       "    <tr style=\"text-align: right;\">\n",
       "      <th></th>\n",
       "      <th>map</th>\n",
       "      <th>mrr</th>\n",
       "      <th>avg_sr</th>\n",
       "      <th>avg_ndcg</th>\n",
       "      <th>avg_p3</th>\n",
       "    </tr>\n",
       "  </thead>\n",
       "  <tbody>\n",
       "    <tr>\n",
       "      <th>BERT_spc</th>\n",
       "      <td>0.285753</td>\n",
       "      <td>0.517778</td>\n",
       "      <td>0.644444</td>\n",
       "      <td>0.506727</td>\n",
       "      <td>0.220741</td>\n",
       "    </tr>\n",
       "  </tbody>\n",
       "</table>\n",
       "</div>"
      ],
      "text/plain": [
       "               map       mrr    avg_sr  avg_ndcg    avg_p3\n",
       "BERT_spc  0.285753  0.517778  0.644444  0.506727  0.220741"
      ]
     },
     "execution_count": 189,
     "metadata": {},
     "output_type": "execute_result"
    }
   ],
   "source": [
    "# top5\n",
    "pd.DataFrame(calc_metrics(df1),index=df1.Model_name.unique())"
   ]
  },
  {
   "cell_type": "code",
   "execution_count": 77,
   "metadata": {
    "hidden": true
   },
   "outputs": [
    {
     "data": {
      "text/html": [
       "<div>\n",
       "<style scoped>\n",
       "    .dataframe tbody tr th:only-of-type {\n",
       "        vertical-align: middle;\n",
       "    }\n",
       "\n",
       "    .dataframe tbody tr th {\n",
       "        vertical-align: top;\n",
       "    }\n",
       "\n",
       "    .dataframe thead th {\n",
       "        text-align: right;\n",
       "    }\n",
       "</style>\n",
       "<table border=\"1\" class=\"dataframe\">\n",
       "  <thead>\n",
       "    <tr style=\"text-align: right;\">\n",
       "      <th></th>\n",
       "      <th>map</th>\n",
       "      <th>mrr</th>\n",
       "      <th>avg_sr</th>\n",
       "      <th>avg_ndcg</th>\n",
       "      <th>avg_p3</th>\n",
       "    </tr>\n",
       "  </thead>\n",
       "  <tbody>\n",
       "    <tr>\n",
       "      <th>BERT_spc</th>\n",
       "      <td>0.317695</td>\n",
       "      <td>0.449383</td>\n",
       "      <td>0.559259</td>\n",
       "      <td>0.476708</td>\n",
       "      <td>0.275309</td>\n",
       "    </tr>\n",
       "  </tbody>\n",
       "</table>\n",
       "</div>"
      ],
      "text/plain": [
       "               map       mrr    avg_sr  avg_ndcg    avg_p3\n",
       "BERT_spc  0.317695  0.449383  0.559259  0.476708  0.275309"
      ]
     },
     "execution_count": 77,
     "metadata": {},
     "output_type": "execute_result"
    }
   ],
   "source": [
    "# 19\n",
    "pd.DataFrame(calc_metrics(df1),index=df1.Model_name.unique())"
   ]
  },
  {
   "cell_type": "code",
   "execution_count": 40,
   "metadata": {
    "hidden": true
   },
   "outputs": [
    {
     "data": {
      "text/html": [
       "<div>\n",
       "<style scoped>\n",
       "    .dataframe tbody tr th:only-of-type {\n",
       "        vertical-align: middle;\n",
       "    }\n",
       "\n",
       "    .dataframe tbody tr th {\n",
       "        vertical-align: top;\n",
       "    }\n",
       "\n",
       "    .dataframe thead th {\n",
       "        text-align: right;\n",
       "    }\n",
       "</style>\n",
       "<table border=\"1\" class=\"dataframe\">\n",
       "  <thead>\n",
       "    <tr style=\"text-align: right;\">\n",
       "      <th></th>\n",
       "      <th>map</th>\n",
       "      <th>mrr</th>\n",
       "      <th>avg_sr</th>\n",
       "      <th>avg_ndcg</th>\n",
       "      <th>avg_p3</th>\n",
       "    </tr>\n",
       "  </thead>\n",
       "  <tbody>\n",
       "    <tr>\n",
       "      <th>BERT_spc_oracle_categories</th>\n",
       "      <td>0.289095</td>\n",
       "      <td>0.417284</td>\n",
       "      <td>0.488889</td>\n",
       "      <td>0.433797</td>\n",
       "      <td>0.228395</td>\n",
       "    </tr>\n",
       "  </tbody>\n",
       "</table>\n",
       "</div>"
      ],
      "text/plain": [
       "                                 map       mrr    avg_sr  avg_ndcg    avg_p3\n",
       "BERT_spc_oracle_categories  0.289095  0.417284  0.488889  0.433797  0.228395"
      ]
     },
     "execution_count": 40,
     "metadata": {},
     "output_type": "execute_result"
    }
   ],
   "source": [
    "# oracle for cat\n",
    "pd.DataFrame(calc_metrics(df1),index=df1.Model_name.unique())"
   ]
  },
  {
   "cell_type": "code",
   "execution_count": 33,
   "metadata": {
    "hidden": true
   },
   "outputs": [
    {
     "data": {
      "text/html": [
       "<div>\n",
       "<style scoped>\n",
       "    .dataframe tbody tr th:only-of-type {\n",
       "        vertical-align: middle;\n",
       "    }\n",
       "\n",
       "    .dataframe tbody tr th {\n",
       "        vertical-align: top;\n",
       "    }\n",
       "\n",
       "    .dataframe thead th {\n",
       "        text-align: right;\n",
       "    }\n",
       "</style>\n",
       "<table border=\"1\" class=\"dataframe\">\n",
       "  <thead>\n",
       "    <tr style=\"text-align: right;\">\n",
       "      <th></th>\n",
       "      <th>map</th>\n",
       "      <th>mrr</th>\n",
       "      <th>avg_sr</th>\n",
       "      <th>avg_ndcg</th>\n",
       "      <th>avg_p3</th>\n",
       "    </tr>\n",
       "  </thead>\n",
       "  <tbody>\n",
       "    <tr>\n",
       "      <th>BERT_spc_31_final</th>\n",
       "      <td>0.139506</td>\n",
       "      <td>0.209877</td>\n",
       "      <td>0.292593</td>\n",
       "      <td>0.23028</td>\n",
       "      <td>0.133333</td>\n",
       "    </tr>\n",
       "  </tbody>\n",
       "</table>\n",
       "</div>"
      ],
      "text/plain": [
       "                        map       mrr    avg_sr  avg_ndcg    avg_p3\n",
       "BERT_spc_31_final  0.139506  0.209877  0.292593   0.23028  0.133333"
      ]
     },
     "execution_count": 33,
     "metadata": {},
     "output_type": "execute_result"
    }
   ],
   "source": [
    "# 19 repeat\n",
    "pd.DataFrame(calc_metrics(df1),index=df1.Model_name.unique())"
   ]
  },
  {
   "cell_type": "code",
   "execution_count": 80,
   "metadata": {
    "hidden": true
   },
   "outputs": [
    {
     "data": {
      "text/html": [
       "<div>\n",
       "<style scoped>\n",
       "    .dataframe tbody tr th:only-of-type {\n",
       "        vertical-align: middle;\n",
       "    }\n",
       "\n",
       "    .dataframe tbody tr th {\n",
       "        vertical-align: top;\n",
       "    }\n",
       "\n",
       "    .dataframe thead th {\n",
       "        text-align: right;\n",
       "    }\n",
       "</style>\n",
       "<table border=\"1\" class=\"dataframe\">\n",
       "  <thead>\n",
       "    <tr style=\"text-align: right;\">\n",
       "      <th></th>\n",
       "      <th>map</th>\n",
       "      <th>mrr</th>\n",
       "      <th>avg_sr</th>\n",
       "      <th>avg_ndcg</th>\n",
       "      <th>avg_p3</th>\n",
       "    </tr>\n",
       "  </thead>\n",
       "  <tbody>\n",
       "    <tr>\n",
       "      <th>BERT_spc_26_final</th>\n",
       "      <td>0.224897</td>\n",
       "      <td>0.332716</td>\n",
       "      <td>0.407407</td>\n",
       "      <td>0.351355</td>\n",
       "      <td>0.183951</td>\n",
       "    </tr>\n",
       "  </tbody>\n",
       "</table>\n",
       "</div>"
      ],
      "text/plain": [
       "                        map       mrr    avg_sr  avg_ndcg    avg_p3\n",
       "BERT_spc_26_final  0.224897  0.332716  0.407407  0.351355  0.183951"
      ]
     },
     "execution_count": 80,
     "metadata": {},
     "output_type": "execute_result"
    }
   ],
   "source": [
    "pd.DataFrame(calc_metrics(df1),index=df1.Model_name.unique())"
   ]
  },
  {
   "cell_type": "code",
   "execution_count": 85,
   "metadata": {
    "hidden": true
   },
   "outputs": [
    {
     "data": {
      "text/html": [
       "<div>\n",
       "<style scoped>\n",
       "    .dataframe tbody tr th:only-of-type {\n",
       "        vertical-align: middle;\n",
       "    }\n",
       "\n",
       "    .dataframe tbody tr th {\n",
       "        vertical-align: top;\n",
       "    }\n",
       "\n",
       "    .dataframe thead th {\n",
       "        text-align: right;\n",
       "    }\n",
       "</style>\n",
       "<table border=\"1\" class=\"dataframe\">\n",
       "  <thead>\n",
       "    <tr style=\"text-align: right;\">\n",
       "      <th></th>\n",
       "      <th>map</th>\n",
       "      <th>mrr</th>\n",
       "      <th>avg_sr</th>\n",
       "      <th>avg_ndcg</th>\n",
       "      <th>avg_p3</th>\n",
       "    </tr>\n",
       "  </thead>\n",
       "  <tbody>\n",
       "    <tr>\n",
       "      <th>BERT_spc_27</th>\n",
       "      <td>0.159465</td>\n",
       "      <td>0.237654</td>\n",
       "      <td>0.337037</td>\n",
       "      <td>0.263446</td>\n",
       "      <td>0.150617</td>\n",
       "    </tr>\n",
       "  </tbody>\n",
       "</table>\n",
       "</div>"
      ],
      "text/plain": [
       "                  map       mrr    avg_sr  avg_ndcg    avg_p3\n",
       "BERT_spc_27  0.159465  0.237654  0.337037  0.263446  0.150617"
      ]
     },
     "execution_count": 85,
     "metadata": {},
     "output_type": "execute_result"
    }
   ],
   "source": [
    "pd.DataFrame(calc_metrics(df1),index=df1.Model_name.unique())"
   ]
  },
  {
   "cell_type": "code",
   "execution_count": 50,
   "metadata": {
    "collapsed": true,
    "hidden": true
   },
   "outputs": [
    {
     "data": {
      "text/html": [
       "<div>\n",
       "<style scoped>\n",
       "    .dataframe tbody tr th:only-of-type {\n",
       "        vertical-align: middle;\n",
       "    }\n",
       "\n",
       "    .dataframe tbody tr th {\n",
       "        vertical-align: top;\n",
       "    }\n",
       "\n",
       "    .dataframe thead th {\n",
       "        text-align: right;\n",
       "    }\n",
       "</style>\n",
       "<table border=\"1\" class=\"dataframe\">\n",
       "  <thead>\n",
       "    <tr style=\"text-align: right;\">\n",
       "      <th></th>\n",
       "      <th>map</th>\n",
       "      <th>mrr</th>\n",
       "      <th>avg_sr</th>\n",
       "      <th>avg_ndcg</th>\n",
       "      <th>avg_p3</th>\n",
       "    </tr>\n",
       "  </thead>\n",
       "  <tbody>\n",
       "    <tr>\n",
       "      <th>BERT_spc</th>\n",
       "      <td>0.384213</td>\n",
       "      <td>0.529703</td>\n",
       "      <td>0.643564</td>\n",
       "      <td>0.557742</td>\n",
       "      <td>0.333333</td>\n",
       "    </tr>\n",
       "  </tbody>\n",
       "</table>\n",
       "</div>"
      ],
      "text/plain": [
       "               map       mrr    avg_sr  avg_ndcg    avg_p3\n",
       "BERT_spc  0.384213  0.529703  0.643564  0.557742  0.333333"
      ]
     },
     "execution_count": 50,
     "metadata": {},
     "output_type": "execute_result"
    }
   ],
   "source": [
    "# pruned 1\n",
    "pd.DataFrame(calc_metrics(df1),index=df1.Model_name.unique())"
   ]
  },
  {
   "cell_type": "code",
   "execution_count": 53,
   "metadata": {
    "collapsed": true,
    "hidden": true
   },
   "outputs": [
    {
     "data": {
      "text/html": [
       "<div>\n",
       "<style scoped>\n",
       "    .dataframe tbody tr th:only-of-type {\n",
       "        vertical-align: middle;\n",
       "    }\n",
       "\n",
       "    .dataframe tbody tr th {\n",
       "        vertical-align: top;\n",
       "    }\n",
       "\n",
       "    .dataframe thead th {\n",
       "        text-align: right;\n",
       "    }\n",
       "</style>\n",
       "<table border=\"1\" class=\"dataframe\">\n",
       "  <thead>\n",
       "    <tr style=\"text-align: right;\">\n",
       "      <th></th>\n",
       "      <th>map</th>\n",
       "      <th>mrr</th>\n",
       "      <th>avg_sr</th>\n",
       "      <th>avg_ndcg</th>\n",
       "      <th>avg_p3</th>\n",
       "    </tr>\n",
       "  </thead>\n",
       "  <tbody>\n",
       "    <tr>\n",
       "      <th>BERT_spc</th>\n",
       "      <td>0.425073</td>\n",
       "      <td>0.570175</td>\n",
       "      <td>0.697368</td>\n",
       "      <td>0.602502</td>\n",
       "      <td>0.377193</td>\n",
       "    </tr>\n",
       "  </tbody>\n",
       "</table>\n",
       "</div>"
      ],
      "text/plain": [
       "               map       mrr    avg_sr  avg_ndcg    avg_p3\n",
       "BERT_spc  0.425073  0.570175  0.697368  0.602502  0.377193"
      ]
     },
     "execution_count": 53,
     "metadata": {},
     "output_type": "execute_result"
    }
   ],
   "source": [
    "# _pruned_2\n",
    "pd.DataFrame(calc_metrics(df1),index=df1.Model_name.unique())"
   ]
  },
  {
   "cell_type": "code",
   "execution_count": 71,
   "metadata": {
    "collapsed": true,
    "hidden": true
   },
   "outputs": [
    {
     "data": {
      "text/html": [
       "<div>\n",
       "<style scoped>\n",
       "    .dataframe tbody tr th:only-of-type {\n",
       "        vertical-align: middle;\n",
       "    }\n",
       "\n",
       "    .dataframe tbody tr th {\n",
       "        vertical-align: top;\n",
       "    }\n",
       "\n",
       "    .dataframe thead th {\n",
       "        text-align: right;\n",
       "    }\n",
       "</style>\n",
       "<table border=\"1\" class=\"dataframe\">\n",
       "  <thead>\n",
       "    <tr style=\"text-align: right;\">\n",
       "      <th></th>\n",
       "      <th>map</th>\n",
       "      <th>mrr</th>\n",
       "      <th>avg_sr</th>\n",
       "      <th>avg_ndcg</th>\n",
       "      <th>avg_p3</th>\n",
       "    </tr>\n",
       "  </thead>\n",
       "  <tbody>\n",
       "    <tr>\n",
       "      <th>BERT_spc_added_words</th>\n",
       "      <td>0.30679</td>\n",
       "      <td>0.435185</td>\n",
       "      <td>0.544444</td>\n",
       "      <td>0.459559</td>\n",
       "      <td>0.266667</td>\n",
       "    </tr>\n",
       "  </tbody>\n",
       "</table>\n",
       "</div>"
      ],
      "text/plain": [
       "                          map       mrr    avg_sr  avg_ndcg    avg_p3\n",
       "BERT_spc_added_words  0.30679  0.435185  0.544444  0.459559  0.266667"
      ]
     },
     "execution_count": 71,
     "metadata": {},
     "output_type": "execute_result"
    }
   ],
   "source": [
    "# 19 added words\n",
    "pd.DataFrame(calc_metrics(df1),index=df1.Model_name.unique())"
   ]
  },
  {
   "cell_type": "code",
   "execution_count": 88,
   "metadata": {
    "hidden": true
   },
   "outputs": [
    {
     "data": {
      "text/html": [
       "<div>\n",
       "<style scoped>\n",
       "    .dataframe tbody tr th:only-of-type {\n",
       "        vertical-align: middle;\n",
       "    }\n",
       "\n",
       "    .dataframe tbody tr th {\n",
       "        vertical-align: top;\n",
       "    }\n",
       "\n",
       "    .dataframe thead th {\n",
       "        text-align: right;\n",
       "    }\n",
       "</style>\n",
       "<table border=\"1\" class=\"dataframe\">\n",
       "  <thead>\n",
       "    <tr style=\"text-align: right;\">\n",
       "      <th></th>\n",
       "      <th>map</th>\n",
       "      <th>mrr</th>\n",
       "      <th>avg_sr</th>\n",
       "      <th>avg_ndcg</th>\n",
       "      <th>avg_p3</th>\n",
       "    </tr>\n",
       "  </thead>\n",
       "  <tbody>\n",
       "    <tr>\n",
       "      <th>BERT_spc_28</th>\n",
       "      <td>0.006379</td>\n",
       "      <td>0.012346</td>\n",
       "      <td>0.025926</td>\n",
       "      <td>0.016016</td>\n",
       "      <td>0.009877</td>\n",
       "    </tr>\n",
       "  </tbody>\n",
       "</table>\n",
       "</div>"
      ],
      "text/plain": [
       "                  map       mrr    avg_sr  avg_ndcg    avg_p3\n",
       "BERT_spc_28  0.006379  0.012346  0.025926  0.016016  0.009877"
      ]
     },
     "execution_count": 88,
     "metadata": {},
     "output_type": "execute_result"
    }
   ],
   "source": [
    "pd.DataFrame(calc_metrics(df1),index=df1.Model_name.unique())"
   ]
  },
  {
   "cell_type": "code",
   "execution_count": 68,
   "metadata": {
    "collapsed": true,
    "hidden": true
   },
   "outputs": [
    {
     "data": {
      "text/html": [
       "<div>\n",
       "<style scoped>\n",
       "    .dataframe tbody tr th:only-of-type {\n",
       "        vertical-align: middle;\n",
       "    }\n",
       "\n",
       "    .dataframe tbody tr th {\n",
       "        vertical-align: top;\n",
       "    }\n",
       "\n",
       "    .dataframe thead th {\n",
       "        text-align: right;\n",
       "    }\n",
       "</style>\n",
       "<table border=\"1\" class=\"dataframe\">\n",
       "  <thead>\n",
       "    <tr style=\"text-align: right;\">\n",
       "      <th></th>\n",
       "      <th>map</th>\n",
       "      <th>mrr</th>\n",
       "      <th>avg_sr</th>\n",
       "      <th>avg_ndcg</th>\n",
       "      <th>avg_p3</th>\n",
       "    </tr>\n",
       "  </thead>\n",
       "  <tbody>\n",
       "    <tr>\n",
       "      <th>BERT_spc_added_answer</th>\n",
       "      <td>0.201646</td>\n",
       "      <td>0.295679</td>\n",
       "      <td>0.381481</td>\n",
       "      <td>0.31714</td>\n",
       "      <td>0.175309</td>\n",
       "    </tr>\n",
       "  </tbody>\n",
       "</table>\n",
       "</div>"
      ],
      "text/plain": [
       "                            map       mrr    avg_sr  avg_ndcg    avg_p3\n",
       "BERT_spc_added_answer  0.201646  0.295679  0.381481   0.31714  0.175309"
      ]
     },
     "execution_count": 68,
     "metadata": {},
     "output_type": "execute_result"
    }
   ],
   "source": [
    "# 19 added answer\n",
    "pd.DataFrame(calc_metrics(df1),index=df1.Model_name.unique())"
   ]
  },
  {
   "cell_type": "code",
   "execution_count": 91,
   "metadata": {
    "hidden": true
   },
   "outputs": [
    {
     "data": {
      "text/html": [
       "<div>\n",
       "<style scoped>\n",
       "    .dataframe tbody tr th:only-of-type {\n",
       "        vertical-align: middle;\n",
       "    }\n",
       "\n",
       "    .dataframe tbody tr th {\n",
       "        vertical-align: top;\n",
       "    }\n",
       "\n",
       "    .dataframe thead th {\n",
       "        text-align: right;\n",
       "    }\n",
       "</style>\n",
       "<table border=\"1\" class=\"dataframe\">\n",
       "  <thead>\n",
       "    <tr style=\"text-align: right;\">\n",
       "      <th></th>\n",
       "      <th>map</th>\n",
       "      <th>mrr</th>\n",
       "      <th>avg_sr</th>\n",
       "      <th>avg_ndcg</th>\n",
       "      <th>avg_p3</th>\n",
       "    </tr>\n",
       "  </thead>\n",
       "  <tbody>\n",
       "    <tr>\n",
       "      <th>BERT_spc_24</th>\n",
       "      <td>0.002247</td>\n",
       "      <td>0.003676</td>\n",
       "      <td>0.003676</td>\n",
       "      <td>0.003676</td>\n",
       "      <td>0.001225</td>\n",
       "    </tr>\n",
       "  </tbody>\n",
       "</table>\n",
       "</div>"
      ],
      "text/plain": [
       "                  map       mrr    avg_sr  avg_ndcg    avg_p3\n",
       "BERT_spc_24  0.002247  0.003676  0.003676  0.003676  0.001225"
      ]
     },
     "execution_count": 91,
     "metadata": {},
     "output_type": "execute_result"
    }
   ],
   "source": [
    "pd.DataFrame(calc_metrics(df1),index=df1.Model_name.unique())"
   ]
  },
  {
   "cell_type": "code",
   "execution_count": 64,
   "metadata": {
    "collapsed": true,
    "hidden": true
   },
   "outputs": [
    {
     "data": {
      "text/html": [
       "<div>\n",
       "<style scoped>\n",
       "    .dataframe tbody tr th:only-of-type {\n",
       "        vertical-align: middle;\n",
       "    }\n",
       "\n",
       "    .dataframe tbody tr th {\n",
       "        vertical-align: top;\n",
       "    }\n",
       "\n",
       "    .dataframe thead th {\n",
       "        text-align: right;\n",
       "    }\n",
       "</style>\n",
       "<table border=\"1\" class=\"dataframe\">\n",
       "  <thead>\n",
       "    <tr style=\"text-align: right;\">\n",
       "      <th></th>\n",
       "      <th>map</th>\n",
       "      <th>mrr</th>\n",
       "      <th>avg_sr</th>\n",
       "      <th>avg_ndcg</th>\n",
       "      <th>avg_p3</th>\n",
       "    </tr>\n",
       "  </thead>\n",
       "  <tbody>\n",
       "    <tr>\n",
       "      <th>BERT_spc_22</th>\n",
       "      <td>0.00817</td>\n",
       "      <td>0.014093</td>\n",
       "      <td>0.006127</td>\n",
       "      <td>0.015187</td>\n",
       "      <td>0.006127</td>\n",
       "    </tr>\n",
       "  </tbody>\n",
       "</table>\n",
       "</div>"
      ],
      "text/plain": [
       "                 map       mrr    avg_sr  avg_ndcg    avg_p3\n",
       "BERT_spc_22  0.00817  0.014093  0.006127  0.015187  0.006127"
      ]
     },
     "execution_count": 64,
     "metadata": {},
     "output_type": "execute_result"
    }
   ],
   "source": [
    "pd.DataFrame(calc_metrics(df1),index=df1.Model_name.unique())"
   ]
  },
  {
   "cell_type": "code",
   "execution_count": 68,
   "metadata": {
    "collapsed": true,
    "hidden": true
   },
   "outputs": [
    {
     "data": {
      "text/html": [
       "<div>\n",
       "<style scoped>\n",
       "    .dataframe tbody tr th:only-of-type {\n",
       "        vertical-align: middle;\n",
       "    }\n",
       "\n",
       "    .dataframe tbody tr th {\n",
       "        vertical-align: top;\n",
       "    }\n",
       "\n",
       "    .dataframe thead th {\n",
       "        text-align: right;\n",
       "    }\n",
       "</style>\n",
       "<table border=\"1\" class=\"dataframe\">\n",
       "  <thead>\n",
       "    <tr style=\"text-align: right;\">\n",
       "      <th></th>\n",
       "      <th>map</th>\n",
       "      <th>mrr</th>\n",
       "      <th>avg_sr</th>\n",
       "      <th>avg_ndcg</th>\n",
       "      <th>avg_p3</th>\n",
       "    </tr>\n",
       "  </thead>\n",
       "  <tbody>\n",
       "    <tr>\n",
       "      <th>BERT_spc_23</th>\n",
       "      <td>0.042484</td>\n",
       "      <td>0.071691</td>\n",
       "      <td>0.042892</td>\n",
       "      <td>0.081911</td>\n",
       "      <td>0.042892</td>\n",
       "    </tr>\n",
       "  </tbody>\n",
       "</table>\n",
       "</div>"
      ],
      "text/plain": [
       "                  map       mrr    avg_sr  avg_ndcg    avg_p3\n",
       "BERT_spc_23  0.042484  0.071691  0.042892  0.081911  0.042892"
      ]
     },
     "execution_count": 68,
     "metadata": {},
     "output_type": "execute_result"
    }
   ],
   "source": [
    "pd.DataFrame(calc_metrics(df1),index=df1.Model_name.unique())"
   ]
  },
  {
   "cell_type": "code",
   "execution_count": 99,
   "metadata": {
    "collapsed": true,
    "hidden": true
   },
   "outputs": [
    {
     "data": {
      "text/html": [
       "<div>\n",
       "<style scoped>\n",
       "    .dataframe tbody tr th:only-of-type {\n",
       "        vertical-align: middle;\n",
       "    }\n",
       "\n",
       "    .dataframe tbody tr th {\n",
       "        vertical-align: top;\n",
       "    }\n",
       "\n",
       "    .dataframe thead th {\n",
       "        text-align: right;\n",
       "    }\n",
       "</style>\n",
       "<table border=\"1\" class=\"dataframe\">\n",
       "  <thead>\n",
       "    <tr style=\"text-align: right;\">\n",
       "      <th></th>\n",
       "      <th>map</th>\n",
       "      <th>mrr</th>\n",
       "      <th>avg_sr</th>\n",
       "      <th>avg_ndcg</th>\n",
       "      <th>avg_p3</th>\n",
       "    </tr>\n",
       "  </thead>\n",
       "  <tbody>\n",
       "    <tr>\n",
       "      <th>BERT_spc_25_final</th>\n",
       "      <td>0.003676</td>\n",
       "      <td>0.00674</td>\n",
       "      <td>0.003676</td>\n",
       "      <td>0.007834</td>\n",
       "      <td>0.003676</td>\n",
       "    </tr>\n",
       "  </tbody>\n",
       "</table>\n",
       "</div>"
      ],
      "text/plain": [
       "                        map      mrr    avg_sr  avg_ndcg    avg_p3\n",
       "BERT_spc_25_final  0.003676  0.00674  0.003676  0.007834  0.003676"
      ]
     },
     "execution_count": 99,
     "metadata": {},
     "output_type": "execute_result"
    }
   ],
   "source": [
    "pd.DataFrame(calc_metrics(df1),index=df1.Model_name.unique())"
   ]
  },
  {
   "cell_type": "code",
   "execution_count": 16,
   "metadata": {
    "hidden": true
   },
   "outputs": [
    {
     "data": {
      "text/html": [
       "<div>\n",
       "<style scoped>\n",
       "    .dataframe tbody tr th:only-of-type {\n",
       "        vertical-align: middle;\n",
       "    }\n",
       "\n",
       "    .dataframe tbody tr th {\n",
       "        vertical-align: top;\n",
       "    }\n",
       "\n",
       "    .dataframe thead th {\n",
       "        text-align: right;\n",
       "    }\n",
       "</style>\n",
       "<table border=\"1\" class=\"dataframe\">\n",
       "  <thead>\n",
       "    <tr style=\"text-align: right;\">\n",
       "      <th></th>\n",
       "      <th>map</th>\n",
       "      <th>mrr</th>\n",
       "      <th>avg_sr</th>\n",
       "      <th>avg_ndcg</th>\n",
       "      <th>avg_p3</th>\n",
       "    </tr>\n",
       "  </thead>\n",
       "  <tbody>\n",
       "    <tr>\n",
       "      <th>BERT_spc_35_final</th>\n",
       "      <td>0.0</td>\n",
       "      <td>0.0</td>\n",
       "      <td>0.0</td>\n",
       "      <td>0.0</td>\n",
       "      <td>0.0</td>\n",
       "    </tr>\n",
       "  </tbody>\n",
       "</table>\n",
       "</div>"
      ],
      "text/plain": [
       "                   map  mrr  avg_sr  avg_ndcg  avg_p3\n",
       "BERT_spc_35_final  0.0  0.0     0.0       0.0     0.0"
      ]
     },
     "execution_count": 16,
     "metadata": {},
     "output_type": "execute_result"
    }
   ],
   "source": [
    "pd.DataFrame(calc_metrics(df1),index=df1.Model_name.unique())"
   ]
  },
  {
   "cell_type": "code",
   "execution_count": 19,
   "metadata": {
    "hidden": true
   },
   "outputs": [
    {
     "data": {
      "text/html": [
       "<div>\n",
       "<style scoped>\n",
       "    .dataframe tbody tr th:only-of-type {\n",
       "        vertical-align: middle;\n",
       "    }\n",
       "\n",
       "    .dataframe tbody tr th {\n",
       "        vertical-align: top;\n",
       "    }\n",
       "\n",
       "    .dataframe thead th {\n",
       "        text-align: right;\n",
       "    }\n",
       "</style>\n",
       "<table border=\"1\" class=\"dataframe\">\n",
       "  <thead>\n",
       "    <tr style=\"text-align: right;\">\n",
       "      <th></th>\n",
       "      <th>map</th>\n",
       "      <th>mrr</th>\n",
       "      <th>avg_sr</th>\n",
       "      <th>avg_ndcg</th>\n",
       "      <th>avg_p3</th>\n",
       "    </tr>\n",
       "  </thead>\n",
       "  <tbody>\n",
       "    <tr>\n",
       "      <th>BERT_spc_37_final</th>\n",
       "      <td>0.002675</td>\n",
       "      <td>0.004938</td>\n",
       "      <td>0.007407</td>\n",
       "      <td>0.005556</td>\n",
       "      <td>0.002469</td>\n",
       "    </tr>\n",
       "  </tbody>\n",
       "</table>\n",
       "</div>"
      ],
      "text/plain": [
       "                        map       mrr    avg_sr  avg_ndcg    avg_p3\n",
       "BERT_spc_37_final  0.002675  0.004938  0.007407  0.005556  0.002469"
      ]
     },
     "execution_count": 19,
     "metadata": {},
     "output_type": "execute_result"
    }
   ],
   "source": [
    "pd.DataFrame(calc_metrics(df1),index=df1.Model_name.unique())"
   ]
  },
  {
   "cell_type": "code",
   "execution_count": 22,
   "metadata": {
    "hidden": true
   },
   "outputs": [
    {
     "data": {
      "text/html": [
       "<div>\n",
       "<style scoped>\n",
       "    .dataframe tbody tr th:only-of-type {\n",
       "        vertical-align: middle;\n",
       "    }\n",
       "\n",
       "    .dataframe tbody tr th {\n",
       "        vertical-align: top;\n",
       "    }\n",
       "\n",
       "    .dataframe thead th {\n",
       "        text-align: right;\n",
       "    }\n",
       "</style>\n",
       "<table border=\"1\" class=\"dataframe\">\n",
       "  <thead>\n",
       "    <tr style=\"text-align: right;\">\n",
       "      <th></th>\n",
       "      <th>map</th>\n",
       "      <th>mrr</th>\n",
       "      <th>avg_sr</th>\n",
       "      <th>avg_ndcg</th>\n",
       "      <th>avg_p3</th>\n",
       "    </tr>\n",
       "  </thead>\n",
       "  <tbody>\n",
       "    <tr>\n",
       "      <th>BERT_spc_38_final</th>\n",
       "      <td>0.177984</td>\n",
       "      <td>0.273457</td>\n",
       "      <td>0.355556</td>\n",
       "      <td>0.294135</td>\n",
       "      <td>0.150617</td>\n",
       "    </tr>\n",
       "  </tbody>\n",
       "</table>\n",
       "</div>"
      ],
      "text/plain": [
       "                        map       mrr    avg_sr  avg_ndcg    avg_p3\n",
       "BERT_spc_38_final  0.177984  0.273457  0.355556  0.294135  0.150617"
      ]
     },
     "execution_count": 22,
     "metadata": {},
     "output_type": "execute_result"
    }
   ],
   "source": [
    "pd.DataFrame(calc_metrics(df1),index=df1.Model_name.unique())"
   ]
  },
  {
   "cell_type": "code",
   "execution_count": 25,
   "metadata": {
    "collapsed": true,
    "hidden": true
   },
   "outputs": [
    {
     "data": {
      "text/html": [
       "<div>\n",
       "<style scoped>\n",
       "    .dataframe tbody tr th:only-of-type {\n",
       "        vertical-align: middle;\n",
       "    }\n",
       "\n",
       "    .dataframe tbody tr th {\n",
       "        vertical-align: top;\n",
       "    }\n",
       "\n",
       "    .dataframe thead th {\n",
       "        text-align: right;\n",
       "    }\n",
       "</style>\n",
       "<table border=\"1\" class=\"dataframe\">\n",
       "  <thead>\n",
       "    <tr style=\"text-align: right;\">\n",
       "      <th></th>\n",
       "      <th>map</th>\n",
       "      <th>mrr</th>\n",
       "      <th>avg_sr</th>\n",
       "      <th>avg_ndcg</th>\n",
       "      <th>avg_p3</th>\n",
       "    </tr>\n",
       "  </thead>\n",
       "  <tbody>\n",
       "    <tr>\n",
       "      <th>BERT_spc_39_final</th>\n",
       "      <td>0.110494</td>\n",
       "      <td>0.170988</td>\n",
       "      <td>0.22963</td>\n",
       "      <td>0.184547</td>\n",
       "      <td>0.1</td>\n",
       "    </tr>\n",
       "  </tbody>\n",
       "</table>\n",
       "</div>"
      ],
      "text/plain": [
       "                        map       mrr   avg_sr  avg_ndcg  avg_p3\n",
       "BERT_spc_39_final  0.110494  0.170988  0.22963  0.184547     0.1"
      ]
     },
     "execution_count": 25,
     "metadata": {},
     "output_type": "execute_result"
    }
   ],
   "source": [
    "# 19 repeat lower alpha\n",
    "pd.DataFrame(calc_metrics(df1),index=df1.Model_name.unique())"
   ]
  },
  {
   "cell_type": "code",
   "execution_count": 28,
   "metadata": {
    "hidden": true
   },
   "outputs": [
    {
     "data": {
      "text/html": [
       "<div>\n",
       "<style scoped>\n",
       "    .dataframe tbody tr th:only-of-type {\n",
       "        vertical-align: middle;\n",
       "    }\n",
       "\n",
       "    .dataframe tbody tr th {\n",
       "        vertical-align: top;\n",
       "    }\n",
       "\n",
       "    .dataframe thead th {\n",
       "        text-align: right;\n",
       "    }\n",
       "</style>\n",
       "<table border=\"1\" class=\"dataframe\">\n",
       "  <thead>\n",
       "    <tr style=\"text-align: right;\">\n",
       "      <th></th>\n",
       "      <th>map</th>\n",
       "      <th>mrr</th>\n",
       "      <th>avg_sr</th>\n",
       "      <th>avg_ndcg</th>\n",
       "      <th>avg_p3</th>\n",
       "    </tr>\n",
       "  </thead>\n",
       "  <tbody>\n",
       "    <tr>\n",
       "      <th>BERT_spc_40_final</th>\n",
       "      <td>0.005967</td>\n",
       "      <td>0.010494</td>\n",
       "      <td>0.014815</td>\n",
       "      <td>0.011596</td>\n",
       "      <td>0.004938</td>\n",
       "    </tr>\n",
       "  </tbody>\n",
       "</table>\n",
       "</div>"
      ],
      "text/plain": [
       "                        map       mrr    avg_sr  avg_ndcg    avg_p3\n",
       "BERT_spc_40_final  0.005967  0.010494  0.014815  0.011596  0.004938"
      ]
     },
     "execution_count": 28,
     "metadata": {},
     "output_type": "execute_result"
    }
   ],
   "source": [
    "pd.DataFrame(calc_metrics(df1),index=df1.Model_name.unique())"
   ]
  },
  {
   "cell_type": "code",
   "execution_count": 31,
   "metadata": {
    "hidden": true
   },
   "outputs": [
    {
     "data": {
      "text/html": [
       "<div>\n",
       "<style scoped>\n",
       "    .dataframe tbody tr th:only-of-type {\n",
       "        vertical-align: middle;\n",
       "    }\n",
       "\n",
       "    .dataframe tbody tr th {\n",
       "        vertical-align: top;\n",
       "    }\n",
       "\n",
       "    .dataframe thead th {\n",
       "        text-align: right;\n",
       "    }\n",
       "</style>\n",
       "<table border=\"1\" class=\"dataframe\">\n",
       "  <thead>\n",
       "    <tr style=\"text-align: right;\">\n",
       "      <th></th>\n",
       "      <th>map</th>\n",
       "      <th>mrr</th>\n",
       "      <th>avg_sr</th>\n",
       "      <th>avg_ndcg</th>\n",
       "      <th>avg_p3</th>\n",
       "    </tr>\n",
       "  </thead>\n",
       "  <tbody>\n",
       "    <tr>\n",
       "      <th>BERT_spc_41_final</th>\n",
       "      <td>0.049383</td>\n",
       "      <td>0.07716</td>\n",
       "      <td>0.114815</td>\n",
       "      <td>0.087279</td>\n",
       "      <td>0.048148</td>\n",
       "    </tr>\n",
       "  </tbody>\n",
       "</table>\n",
       "</div>"
      ],
      "text/plain": [
       "                        map      mrr    avg_sr  avg_ndcg    avg_p3\n",
       "BERT_spc_41_final  0.049383  0.07716  0.114815  0.087279  0.048148"
      ]
     },
     "execution_count": 31,
     "metadata": {},
     "output_type": "execute_result"
    }
   ],
   "source": [
    "pd.DataFrame(calc_metrics(df1),index=df1.Model_name.unique())"
   ]
  },
  {
   "cell_type": "code",
   "execution_count": 34,
   "metadata": {
    "hidden": true
   },
   "outputs": [
    {
     "data": {
      "text/html": [
       "<div>\n",
       "<style scoped>\n",
       "    .dataframe tbody tr th:only-of-type {\n",
       "        vertical-align: middle;\n",
       "    }\n",
       "\n",
       "    .dataframe tbody tr th {\n",
       "        vertical-align: top;\n",
       "    }\n",
       "\n",
       "    .dataframe thead th {\n",
       "        text-align: right;\n",
       "    }\n",
       "</style>\n",
       "<table border=\"1\" class=\"dataframe\">\n",
       "  <thead>\n",
       "    <tr style=\"text-align: right;\">\n",
       "      <th></th>\n",
       "      <th>map</th>\n",
       "      <th>mrr</th>\n",
       "      <th>avg_sr</th>\n",
       "      <th>avg_ndcg</th>\n",
       "      <th>avg_p3</th>\n",
       "    </tr>\n",
       "  </thead>\n",
       "  <tbody>\n",
       "    <tr>\n",
       "      <th>BERT_spc_42_final</th>\n",
       "      <td>0.002263</td>\n",
       "      <td>0.003704</td>\n",
       "      <td>0.003704</td>\n",
       "      <td>0.003704</td>\n",
       "      <td>0.001235</td>\n",
       "    </tr>\n",
       "  </tbody>\n",
       "</table>\n",
       "</div>"
      ],
      "text/plain": [
       "                        map       mrr    avg_sr  avg_ndcg    avg_p3\n",
       "BERT_spc_42_final  0.002263  0.003704  0.003704  0.003704  0.001235"
      ]
     },
     "execution_count": 34,
     "metadata": {},
     "output_type": "execute_result"
    }
   ],
   "source": [
    "pd.DataFrame(calc_metrics(df1),index=df1.Model_name.unique())"
   ]
  },
  {
   "cell_type": "code",
   "execution_count": 37,
   "metadata": {
    "hidden": true
   },
   "outputs": [
    {
     "data": {
      "text/html": [
       "<div>\n",
       "<style scoped>\n",
       "    .dataframe tbody tr th:only-of-type {\n",
       "        vertical-align: middle;\n",
       "    }\n",
       "\n",
       "    .dataframe tbody tr th {\n",
       "        vertical-align: top;\n",
       "    }\n",
       "\n",
       "    .dataframe thead th {\n",
       "        text-align: right;\n",
       "    }\n",
       "</style>\n",
       "<table border=\"1\" class=\"dataframe\">\n",
       "  <thead>\n",
       "    <tr style=\"text-align: right;\">\n",
       "      <th></th>\n",
       "      <th>map</th>\n",
       "      <th>mrr</th>\n",
       "      <th>avg_sr</th>\n",
       "      <th>avg_ndcg</th>\n",
       "      <th>avg_p3</th>\n",
       "    </tr>\n",
       "  </thead>\n",
       "  <tbody>\n",
       "    <tr>\n",
       "      <th>BERT_spc_43_final</th>\n",
       "      <td>0.014609</td>\n",
       "      <td>0.027778</td>\n",
       "      <td>0.048148</td>\n",
       "      <td>0.032936</td>\n",
       "      <td>0.016049</td>\n",
       "    </tr>\n",
       "  </tbody>\n",
       "</table>\n",
       "</div>"
      ],
      "text/plain": [
       "                        map       mrr    avg_sr  avg_ndcg    avg_p3\n",
       "BERT_spc_43_final  0.014609  0.027778  0.048148  0.032936  0.016049"
      ]
     },
     "execution_count": 37,
     "metadata": {},
     "output_type": "execute_result"
    }
   ],
   "source": [
    "pd.DataFrame(calc_metrics(df1),index=df1.Model_name.unique())"
   ]
  },
  {
   "cell_type": "code",
   "execution_count": 40,
   "metadata": {
    "hidden": true
   },
   "outputs": [
    {
     "data": {
      "text/html": [
       "<div>\n",
       "<style scoped>\n",
       "    .dataframe tbody tr th:only-of-type {\n",
       "        vertical-align: middle;\n",
       "    }\n",
       "\n",
       "    .dataframe tbody tr th {\n",
       "        vertical-align: top;\n",
       "    }\n",
       "\n",
       "    .dataframe thead th {\n",
       "        text-align: right;\n",
       "    }\n",
       "</style>\n",
       "<table border=\"1\" class=\"dataframe\">\n",
       "  <thead>\n",
       "    <tr style=\"text-align: right;\">\n",
       "      <th></th>\n",
       "      <th>map</th>\n",
       "      <th>mrr</th>\n",
       "      <th>avg_sr</th>\n",
       "      <th>avg_ndcg</th>\n",
       "      <th>avg_p3</th>\n",
       "    </tr>\n",
       "  </thead>\n",
       "  <tbody>\n",
       "    <tr>\n",
       "      <th>BERT_spc_44_final</th>\n",
       "      <td>0.035802</td>\n",
       "      <td>0.061111</td>\n",
       "      <td>0.092593</td>\n",
       "      <td>0.069091</td>\n",
       "      <td>0.033333</td>\n",
       "    </tr>\n",
       "  </tbody>\n",
       "</table>\n",
       "</div>"
      ],
      "text/plain": [
       "                        map       mrr    avg_sr  avg_ndcg    avg_p3\n",
       "BERT_spc_44_final  0.035802  0.061111  0.092593  0.069091  0.033333"
      ]
     },
     "execution_count": 40,
     "metadata": {},
     "output_type": "execute_result"
    }
   ],
   "source": [
    "pd.DataFrame(calc_metrics(df1),index=df1.Model_name.unique())"
   ]
  },
  {
   "cell_type": "code",
   "execution_count": 43,
   "metadata": {
    "hidden": true
   },
   "outputs": [
    {
     "data": {
      "text/html": [
       "<div>\n",
       "<style scoped>\n",
       "    .dataframe tbody tr th:only-of-type {\n",
       "        vertical-align: middle;\n",
       "    }\n",
       "\n",
       "    .dataframe tbody tr th {\n",
       "        vertical-align: top;\n",
       "    }\n",
       "\n",
       "    .dataframe thead th {\n",
       "        text-align: right;\n",
       "    }\n",
       "</style>\n",
       "<table border=\"1\" class=\"dataframe\">\n",
       "  <thead>\n",
       "    <tr style=\"text-align: right;\">\n",
       "      <th></th>\n",
       "      <th>map</th>\n",
       "      <th>mrr</th>\n",
       "      <th>avg_sr</th>\n",
       "      <th>avg_ndcg</th>\n",
       "      <th>avg_p3</th>\n",
       "    </tr>\n",
       "  </thead>\n",
       "  <tbody>\n",
       "    <tr>\n",
       "      <th>BERT_spc_45_final</th>\n",
       "      <td>0.026749</td>\n",
       "      <td>0.042593</td>\n",
       "      <td>0.066667</td>\n",
       "      <td>0.048655</td>\n",
       "      <td>0.028395</td>\n",
       "    </tr>\n",
       "  </tbody>\n",
       "</table>\n",
       "</div>"
      ],
      "text/plain": [
       "                        map       mrr    avg_sr  avg_ndcg    avg_p3\n",
       "BERT_spc_45_final  0.026749  0.042593  0.066667  0.048655  0.028395"
      ]
     },
     "execution_count": 43,
     "metadata": {},
     "output_type": "execute_result"
    }
   ],
   "source": [
    "pd.DataFrame(calc_metrics(df1),index=df1.Model_name.unique())"
   ]
  },
  {
   "cell_type": "code",
   "execution_count": 46,
   "metadata": {
    "hidden": true
   },
   "outputs": [
    {
     "data": {
      "text/html": [
       "<div>\n",
       "<style scoped>\n",
       "    .dataframe tbody tr th:only-of-type {\n",
       "        vertical-align: middle;\n",
       "    }\n",
       "\n",
       "    .dataframe tbody tr th {\n",
       "        vertical-align: top;\n",
       "    }\n",
       "\n",
       "    .dataframe thead th {\n",
       "        text-align: right;\n",
       "    }\n",
       "</style>\n",
       "<table border=\"1\" class=\"dataframe\">\n",
       "  <thead>\n",
       "    <tr style=\"text-align: right;\">\n",
       "      <th></th>\n",
       "      <th>map</th>\n",
       "      <th>mrr</th>\n",
       "      <th>avg_sr</th>\n",
       "      <th>avg_ndcg</th>\n",
       "      <th>avg_p3</th>\n",
       "    </tr>\n",
       "  </thead>\n",
       "  <tbody>\n",
       "    <tr>\n",
       "      <th>BERT_spc_45_epoch1</th>\n",
       "      <td>0.113786</td>\n",
       "      <td>0.17963</td>\n",
       "      <td>0.251852</td>\n",
       "      <td>0.198434</td>\n",
       "      <td>0.102469</td>\n",
       "    </tr>\n",
       "  </tbody>\n",
       "</table>\n",
       "</div>"
      ],
      "text/plain": [
       "                         map      mrr    avg_sr  avg_ndcg    avg_p3\n",
       "BERT_spc_45_epoch1  0.113786  0.17963  0.251852  0.198434  0.102469"
      ]
     },
     "execution_count": 46,
     "metadata": {},
     "output_type": "execute_result"
    }
   ],
   "source": [
    "pd.DataFrame(calc_metrics(df1),index=df1.Model_name.unique())"
   ]
  },
  {
   "cell_type": "code",
   "execution_count": 15,
   "metadata": {
    "hidden": true
   },
   "outputs": [
    {
     "data": {
      "text/html": [
       "<div>\n",
       "<style scoped>\n",
       "    .dataframe tbody tr th:only-of-type {\n",
       "        vertical-align: middle;\n",
       "    }\n",
       "\n",
       "    .dataframe tbody tr th {\n",
       "        vertical-align: top;\n",
       "    }\n",
       "\n",
       "    .dataframe thead th {\n",
       "        text-align: right;\n",
       "    }\n",
       "</style>\n",
       "<table border=\"1\" class=\"dataframe\">\n",
       "  <thead>\n",
       "    <tr style=\"text-align: right;\">\n",
       "      <th></th>\n",
       "      <th>map</th>\n",
       "      <th>mrr</th>\n",
       "      <th>avg_sr</th>\n",
       "      <th>avg_ndcg</th>\n",
       "      <th>avg_p3</th>\n",
       "    </tr>\n",
       "  </thead>\n",
       "  <tbody>\n",
       "    <tr>\n",
       "      <th>BERT_spc_46_epoch0</th>\n",
       "      <td>0.059259</td>\n",
       "      <td>0.102469</td>\n",
       "      <td>0.159259</td>\n",
       "      <td>0.11627</td>\n",
       "      <td>0.059259</td>\n",
       "    </tr>\n",
       "  </tbody>\n",
       "</table>\n",
       "</div>"
      ],
      "text/plain": [
       "                         map       mrr    avg_sr  avg_ndcg    avg_p3\n",
       "BERT_spc_46_epoch0  0.059259  0.102469  0.159259   0.11627  0.059259"
      ]
     },
     "execution_count": 15,
     "metadata": {},
     "output_type": "execute_result"
    }
   ],
   "source": [
    "pd.DataFrame(calc_metrics(df1),index=df1.Model_name.unique())"
   ]
  },
  {
   "cell_type": "code",
   "execution_count": 18,
   "metadata": {
    "hidden": true
   },
   "outputs": [
    {
     "data": {
      "text/html": [
       "<div>\n",
       "<style scoped>\n",
       "    .dataframe tbody tr th:only-of-type {\n",
       "        vertical-align: middle;\n",
       "    }\n",
       "\n",
       "    .dataframe tbody tr th {\n",
       "        vertical-align: top;\n",
       "    }\n",
       "\n",
       "    .dataframe thead th {\n",
       "        text-align: right;\n",
       "    }\n",
       "</style>\n",
       "<table border=\"1\" class=\"dataframe\">\n",
       "  <thead>\n",
       "    <tr style=\"text-align: right;\">\n",
       "      <th></th>\n",
       "      <th>map</th>\n",
       "      <th>mrr</th>\n",
       "      <th>avg_sr</th>\n",
       "      <th>avg_ndcg</th>\n",
       "      <th>avg_p3</th>\n",
       "    </tr>\n",
       "  </thead>\n",
       "  <tbody>\n",
       "    <tr>\n",
       "      <th>BERT_spc_46_epoch1</th>\n",
       "      <td>0.054321</td>\n",
       "      <td>0.091975</td>\n",
       "      <td>0.137037</td>\n",
       "      <td>0.103351</td>\n",
       "      <td>0.051852</td>\n",
       "    </tr>\n",
       "  </tbody>\n",
       "</table>\n",
       "</div>"
      ],
      "text/plain": [
       "                         map       mrr    avg_sr  avg_ndcg    avg_p3\n",
       "BERT_spc_46_epoch1  0.054321  0.091975  0.137037  0.103351  0.051852"
      ]
     },
     "execution_count": 18,
     "metadata": {},
     "output_type": "execute_result"
    }
   ],
   "source": [
    "pd.DataFrame(calc_metrics(df1),index=df1.Model_name.unique())"
   ]
  },
  {
   "cell_type": "code",
   "execution_count": 21,
   "metadata": {
    "hidden": true
   },
   "outputs": [
    {
     "data": {
      "text/html": [
       "<div>\n",
       "<style scoped>\n",
       "    .dataframe tbody tr th:only-of-type {\n",
       "        vertical-align: middle;\n",
       "    }\n",
       "\n",
       "    .dataframe tbody tr th {\n",
       "        vertical-align: top;\n",
       "    }\n",
       "\n",
       "    .dataframe thead th {\n",
       "        text-align: right;\n",
       "    }\n",
       "</style>\n",
       "<table border=\"1\" class=\"dataframe\">\n",
       "  <thead>\n",
       "    <tr style=\"text-align: right;\">\n",
       "      <th></th>\n",
       "      <th>map</th>\n",
       "      <th>mrr</th>\n",
       "      <th>avg_sr</th>\n",
       "      <th>avg_ndcg</th>\n",
       "      <th>avg_p3</th>\n",
       "    </tr>\n",
       "  </thead>\n",
       "  <tbody>\n",
       "    <tr>\n",
       "      <th>BERT_spc_47_epoch1</th>\n",
       "      <td>0.026543</td>\n",
       "      <td>0.042593</td>\n",
       "      <td>0.062963</td>\n",
       "      <td>0.047244</td>\n",
       "      <td>0.025926</td>\n",
       "    </tr>\n",
       "  </tbody>\n",
       "</table>\n",
       "</div>"
      ],
      "text/plain": [
       "                         map       mrr    avg_sr  avg_ndcg    avg_p3\n",
       "BERT_spc_47_epoch1  0.026543  0.042593  0.062963  0.047244  0.025926"
      ]
     },
     "execution_count": 21,
     "metadata": {},
     "output_type": "execute_result"
    }
   ],
   "source": [
    "pd.DataFrame(calc_metrics(df1),index=df1.Model_name.unique())"
   ]
  },
  {
   "cell_type": "code",
   "execution_count": 24,
   "metadata": {
    "hidden": true
   },
   "outputs": [
    {
     "data": {
      "text/html": [
       "<div>\n",
       "<style scoped>\n",
       "    .dataframe tbody tr th:only-of-type {\n",
       "        vertical-align: middle;\n",
       "    }\n",
       "\n",
       "    .dataframe tbody tr th {\n",
       "        vertical-align: top;\n",
       "    }\n",
       "\n",
       "    .dataframe thead th {\n",
       "        text-align: right;\n",
       "    }\n",
       "</style>\n",
       "<table border=\"1\" class=\"dataframe\">\n",
       "  <thead>\n",
       "    <tr style=\"text-align: right;\">\n",
       "      <th></th>\n",
       "      <th>map</th>\n",
       "      <th>mrr</th>\n",
       "      <th>avg_sr</th>\n",
       "      <th>avg_ndcg</th>\n",
       "      <th>avg_p3</th>\n",
       "    </tr>\n",
       "  </thead>\n",
       "  <tbody>\n",
       "    <tr>\n",
       "      <th>BERT_spc_47_final</th>\n",
       "      <td>0.025103</td>\n",
       "      <td>0.044444</td>\n",
       "      <td>0.074074</td>\n",
       "      <td>0.051962</td>\n",
       "      <td>0.02716</td>\n",
       "    </tr>\n",
       "  </tbody>\n",
       "</table>\n",
       "</div>"
      ],
      "text/plain": [
       "                        map       mrr    avg_sr  avg_ndcg   avg_p3\n",
       "BERT_spc_47_final  0.025103  0.044444  0.074074  0.051962  0.02716"
      ]
     },
     "execution_count": 24,
     "metadata": {},
     "output_type": "execute_result"
    }
   ],
   "source": [
    "pd.DataFrame(calc_metrics(df1),index=df1.Model_name.unique())"
   ]
  },
  {
   "cell_type": "code",
   "execution_count": 27,
   "metadata": {
    "hidden": true
   },
   "outputs": [
    {
     "data": {
      "text/html": [
       "<div>\n",
       "<style scoped>\n",
       "    .dataframe tbody tr th:only-of-type {\n",
       "        vertical-align: middle;\n",
       "    }\n",
       "\n",
       "    .dataframe tbody tr th {\n",
       "        vertical-align: top;\n",
       "    }\n",
       "\n",
       "    .dataframe thead th {\n",
       "        text-align: right;\n",
       "    }\n",
       "</style>\n",
       "<table border=\"1\" class=\"dataframe\">\n",
       "  <thead>\n",
       "    <tr style=\"text-align: right;\">\n",
       "      <th></th>\n",
       "      <th>map</th>\n",
       "      <th>mrr</th>\n",
       "      <th>avg_sr</th>\n",
       "      <th>avg_ndcg</th>\n",
       "      <th>avg_p3</th>\n",
       "    </tr>\n",
       "  </thead>\n",
       "  <tbody>\n",
       "    <tr>\n",
       "      <th>BERT_spc_48_epoch3</th>\n",
       "      <td>0.003704</td>\n",
       "      <td>0.00679</td>\n",
       "      <td>0.011111</td>\n",
       "      <td>0.007892</td>\n",
       "      <td>0.003704</td>\n",
       "    </tr>\n",
       "  </tbody>\n",
       "</table>\n",
       "</div>"
      ],
      "text/plain": [
       "                         map      mrr    avg_sr  avg_ndcg    avg_p3\n",
       "BERT_spc_48_epoch3  0.003704  0.00679  0.011111  0.007892  0.003704"
      ]
     },
     "execution_count": 27,
     "metadata": {},
     "output_type": "execute_result"
    }
   ],
   "source": [
    "pd.DataFrame(calc_metrics(df1),index=df1.Model_name.unique())"
   ]
  },
  {
   "cell_type": "code",
   "execution_count": 129,
   "metadata": {
    "hidden": true
   },
   "outputs": [
    {
     "data": {
      "text/html": [
       "<div>\n",
       "<style scoped>\n",
       "    .dataframe tbody tr th:only-of-type {\n",
       "        vertical-align: middle;\n",
       "    }\n",
       "\n",
       "    .dataframe tbody tr th {\n",
       "        vertical-align: top;\n",
       "    }\n",
       "\n",
       "    .dataframe thead th {\n",
       "        text-align: right;\n",
       "    }\n",
       "</style>\n",
       "<table border=\"1\" class=\"dataframe\">\n",
       "  <thead>\n",
       "    <tr style=\"text-align: right;\">\n",
       "      <th></th>\n",
       "      <th>map</th>\n",
       "      <th>mrr</th>\n",
       "      <th>avg_sr</th>\n",
       "      <th>avg_ndcg</th>\n",
       "      <th>avg_p3</th>\n",
       "    </tr>\n",
       "  </thead>\n",
       "  <tbody>\n",
       "    <tr>\n",
       "      <th>BERT_spc_49_epoch0</th>\n",
       "      <td>0.231687</td>\n",
       "      <td>0.348148</td>\n",
       "      <td>0.47037</td>\n",
       "      <td>0.37791</td>\n",
       "      <td>0.209877</td>\n",
       "    </tr>\n",
       "  </tbody>\n",
       "</table>\n",
       "</div>"
      ],
      "text/plain": [
       "                         map       mrr   avg_sr  avg_ndcg    avg_p3\n",
       "BERT_spc_49_epoch0  0.231687  0.348148  0.47037   0.37791  0.209877"
      ]
     },
     "execution_count": 129,
     "metadata": {},
     "output_type": "execute_result"
    }
   ],
   "source": [
    "# trained for 10 iterations\n",
    "pd.DataFrame(calc_metrics(df1),index=df1.Model_name.unique())"
   ]
  },
  {
   "cell_type": "code",
   "execution_count": 132,
   "metadata": {
    "hidden": true
   },
   "outputs": [
    {
     "data": {
      "text/html": [
       "<div>\n",
       "<style scoped>\n",
       "    .dataframe tbody tr th:only-of-type {\n",
       "        vertical-align: middle;\n",
       "    }\n",
       "\n",
       "    .dataframe tbody tr th {\n",
       "        vertical-align: top;\n",
       "    }\n",
       "\n",
       "    .dataframe thead th {\n",
       "        text-align: right;\n",
       "    }\n",
       "</style>\n",
       "<table border=\"1\" class=\"dataframe\">\n",
       "  <thead>\n",
       "    <tr style=\"text-align: right;\">\n",
       "      <th></th>\n",
       "      <th>map</th>\n",
       "      <th>mrr</th>\n",
       "      <th>avg_sr</th>\n",
       "      <th>avg_ndcg</th>\n",
       "      <th>avg_p3</th>\n",
       "    </tr>\n",
       "  </thead>\n",
       "  <tbody>\n",
       "    <tr>\n",
       "      <th>BERT_spc_not_finetuned</th>\n",
       "      <td>0.145679</td>\n",
       "      <td>0.224691</td>\n",
       "      <td>0.3</td>\n",
       "      <td>0.243738</td>\n",
       "      <td>0.125926</td>\n",
       "    </tr>\n",
       "  </tbody>\n",
       "</table>\n",
       "</div>"
      ],
      "text/plain": [
       "                             map       mrr  avg_sr  avg_ndcg    avg_p3\n",
       "BERT_spc_not_finetuned  0.145679  0.224691     0.3  0.243738  0.125926"
      ]
     },
     "execution_count": 132,
     "metadata": {},
     "output_type": "execute_result"
    }
   ],
   "source": [
    "pd.DataFrame(calc_metrics(df1),index=df1.Model_name.unique())"
   ]
  },
  {
   "cell_type": "code",
   "execution_count": 135,
   "metadata": {
    "hidden": true
   },
   "outputs": [
    {
     "data": {
      "text/html": [
       "<div>\n",
       "<style scoped>\n",
       "    .dataframe tbody tr th:only-of-type {\n",
       "        vertical-align: middle;\n",
       "    }\n",
       "\n",
       "    .dataframe tbody tr th {\n",
       "        vertical-align: top;\n",
       "    }\n",
       "\n",
       "    .dataframe thead th {\n",
       "        text-align: right;\n",
       "    }\n",
       "</style>\n",
       "<table border=\"1\" class=\"dataframe\">\n",
       "  <thead>\n",
       "    <tr style=\"text-align: right;\">\n",
       "      <th></th>\n",
       "      <th>map</th>\n",
       "      <th>mrr</th>\n",
       "      <th>avg_sr</th>\n",
       "      <th>avg_ndcg</th>\n",
       "      <th>avg_p3</th>\n",
       "    </tr>\n",
       "  </thead>\n",
       "  <tbody>\n",
       "    <tr>\n",
       "      <th>BERT_spc_49_final</th>\n",
       "      <td>0.016667</td>\n",
       "      <td>0.024074</td>\n",
       "      <td>0.02963</td>\n",
       "      <td>0.025694</td>\n",
       "      <td>0.014815</td>\n",
       "    </tr>\n",
       "  </tbody>\n",
       "</table>\n",
       "</div>"
      ],
      "text/plain": [
       "                        map       mrr   avg_sr  avg_ndcg    avg_p3\n",
       "BERT_spc_49_final  0.016667  0.024074  0.02963  0.025694  0.014815"
      ]
     },
     "execution_count": 135,
     "metadata": {},
     "output_type": "execute_result"
    }
   ],
   "source": [
    "# all sentence pairs\n",
    "pd.DataFrame(calc_metrics(df1),index=df1.Model_name.unique())"
   ]
  },
  {
   "cell_type": "code",
   "execution_count": 141,
   "metadata": {
    "hidden": true
   },
   "outputs": [
    {
     "data": {
      "text/html": [
       "<div>\n",
       "<style scoped>\n",
       "    .dataframe tbody tr th:only-of-type {\n",
       "        vertical-align: middle;\n",
       "    }\n",
       "\n",
       "    .dataframe tbody tr th {\n",
       "        vertical-align: top;\n",
       "    }\n",
       "\n",
       "    .dataframe thead th {\n",
       "        text-align: right;\n",
       "    }\n",
       "</style>\n",
       "<table border=\"1\" class=\"dataframe\">\n",
       "  <thead>\n",
       "    <tr style=\"text-align: right;\">\n",
       "      <th></th>\n",
       "      <th>map</th>\n",
       "      <th>mrr</th>\n",
       "      <th>avg_sr</th>\n",
       "      <th>avg_ndcg</th>\n",
       "      <th>avg_p3</th>\n",
       "    </tr>\n",
       "  </thead>\n",
       "  <tbody>\n",
       "    <tr>\n",
       "      <th>BERT_spc_49_epoch0</th>\n",
       "      <td>0.038477</td>\n",
       "      <td>0.068519</td>\n",
       "      <td>0.111111</td>\n",
       "      <td>0.078814</td>\n",
       "      <td>0.039506</td>\n",
       "    </tr>\n",
       "  </tbody>\n",
       "</table>\n",
       "</div>"
      ],
      "text/plain": [
       "                         map       mrr    avg_sr  avg_ndcg    avg_p3\n",
       "BERT_spc_49_epoch0  0.038477  0.068519  0.111111  0.078814  0.039506"
      ]
     },
     "execution_count": 141,
     "metadata": {},
     "output_type": "execute_result"
    }
   ],
   "source": [
    "# all sentence pairs\n",
    "pd.DataFrame(calc_metrics(df1),index=df1.Model_name.unique())"
   ]
  },
  {
   "cell_type": "code",
   "execution_count": 138,
   "metadata": {
    "hidden": true
   },
   "outputs": [
    {
     "data": {
      "text/html": [
       "<div>\n",
       "<style scoped>\n",
       "    .dataframe tbody tr th:only-of-type {\n",
       "        vertical-align: middle;\n",
       "    }\n",
       "\n",
       "    .dataframe tbody tr th {\n",
       "        vertical-align: top;\n",
       "    }\n",
       "\n",
       "    .dataframe thead th {\n",
       "        text-align: right;\n",
       "    }\n",
       "</style>\n",
       "<table border=\"1\" class=\"dataframe\">\n",
       "  <thead>\n",
       "    <tr style=\"text-align: right;\">\n",
       "      <th></th>\n",
       "      <th>map</th>\n",
       "      <th>mrr</th>\n",
       "      <th>avg_sr</th>\n",
       "      <th>avg_ndcg</th>\n",
       "      <th>avg_p3</th>\n",
       "    </tr>\n",
       "  </thead>\n",
       "  <tbody>\n",
       "    <tr>\n",
       "      <th>BERT_spc_49_epoch1</th>\n",
       "      <td>0.003292</td>\n",
       "      <td>0.005556</td>\n",
       "      <td>0.007407</td>\n",
       "      <td>0.00604</td>\n",
       "      <td>0.002469</td>\n",
       "    </tr>\n",
       "  </tbody>\n",
       "</table>\n",
       "</div>"
      ],
      "text/plain": [
       "                         map       mrr    avg_sr  avg_ndcg    avg_p3\n",
       "BERT_spc_49_epoch1  0.003292  0.005556  0.007407   0.00604  0.002469"
      ]
     },
     "execution_count": 138,
     "metadata": {},
     "output_type": "execute_result"
    }
   ],
   "source": [
    "# all sentence pairs\n",
    "pd.DataFrame(calc_metrics(df1),index=df1.Model_name.unique())"
   ]
  },
  {
   "cell_type": "code",
   "execution_count": 56,
   "metadata": {
    "hidden": true
   },
   "outputs": [
    {
     "data": {
      "text/html": [
       "<div>\n",
       "<style scoped>\n",
       "    .dataframe tbody tr th:only-of-type {\n",
       "        vertical-align: middle;\n",
       "    }\n",
       "\n",
       "    .dataframe tbody tr th {\n",
       "        vertical-align: top;\n",
       "    }\n",
       "\n",
       "    .dataframe thead th {\n",
       "        text-align: right;\n",
       "    }\n",
       "</style>\n",
       "<table border=\"1\" class=\"dataframe\">\n",
       "  <thead>\n",
       "    <tr style=\"text-align: right;\">\n",
       "      <th></th>\n",
       "      <th>map</th>\n",
       "      <th>mrr</th>\n",
       "      <th>avg_sr</th>\n",
       "      <th>avg_ndcg</th>\n",
       "      <th>avg_p3</th>\n",
       "    </tr>\n",
       "  </thead>\n",
       "  <tbody>\n",
       "    <tr>\n",
       "      <th>BERT_spc_74_final</th>\n",
       "      <td>0.0</td>\n",
       "      <td>0.0</td>\n",
       "      <td>0.0</td>\n",
       "      <td>0.0</td>\n",
       "      <td>0.0</td>\n",
       "    </tr>\n",
       "  </tbody>\n",
       "</table>\n",
       "</div>"
      ],
      "text/plain": [
       "                   map  mrr  avg_sr  avg_ndcg  avg_p3\n",
       "BERT_spc_74_final  0.0  0.0     0.0       0.0     0.0"
      ]
     },
     "execution_count": 56,
     "metadata": {},
     "output_type": "execute_result"
    }
   ],
   "source": [
    "# all sentence pairs | BERT first 2 layers\n",
    "pd.DataFrame(calc_metrics(df1),index=df1.Model_name.unique())"
   ]
  },
  {
   "cell_type": "code",
   "execution_count": 53,
   "metadata": {
    "hidden": true
   },
   "outputs": [
    {
     "data": {
      "text/html": [
       "<div>\n",
       "<style scoped>\n",
       "    .dataframe tbody tr th:only-of-type {\n",
       "        vertical-align: middle;\n",
       "    }\n",
       "\n",
       "    .dataframe tbody tr th {\n",
       "        vertical-align: top;\n",
       "    }\n",
       "\n",
       "    .dataframe thead th {\n",
       "        text-align: right;\n",
       "    }\n",
       "</style>\n",
       "<table border=\"1\" class=\"dataframe\">\n",
       "  <thead>\n",
       "    <tr style=\"text-align: right;\">\n",
       "      <th></th>\n",
       "      <th>map</th>\n",
       "      <th>mrr</th>\n",
       "      <th>avg_sr</th>\n",
       "      <th>avg_ndcg</th>\n",
       "      <th>avg_p3</th>\n",
       "    </tr>\n",
       "  </thead>\n",
       "  <tbody>\n",
       "    <tr>\n",
       "      <th>BERT_spc_74_epoch_0</th>\n",
       "      <td>0.002675</td>\n",
       "      <td>0.004938</td>\n",
       "      <td>0.007407</td>\n",
       "      <td>0.005556</td>\n",
       "      <td>0.002469</td>\n",
       "    </tr>\n",
       "  </tbody>\n",
       "</table>\n",
       "</div>"
      ],
      "text/plain": [
       "                          map       mrr    avg_sr  avg_ndcg    avg_p3\n",
       "BERT_spc_74_epoch_0  0.002675  0.004938  0.007407  0.005556  0.002469"
      ]
     },
     "execution_count": 53,
     "metadata": {},
     "output_type": "execute_result"
    }
   ],
   "source": [
    "# all sentence pairs | BERT first 2 layers\n",
    "pd.DataFrame(calc_metrics(df1),index=df1.Model_name.unique())"
   ]
  },
  {
   "cell_type": "code",
   "execution_count": 59,
   "metadata": {
    "hidden": true
   },
   "outputs": [
    {
     "data": {
      "text/html": [
       "<div>\n",
       "<style scoped>\n",
       "    .dataframe tbody tr th:only-of-type {\n",
       "        vertical-align: middle;\n",
       "    }\n",
       "\n",
       "    .dataframe tbody tr th {\n",
       "        vertical-align: top;\n",
       "    }\n",
       "\n",
       "    .dataframe thead th {\n",
       "        text-align: right;\n",
       "    }\n",
       "</style>\n",
       "<table border=\"1\" class=\"dataframe\">\n",
       "  <thead>\n",
       "    <tr style=\"text-align: right;\">\n",
       "      <th></th>\n",
       "      <th>map</th>\n",
       "      <th>mrr</th>\n",
       "      <th>avg_sr</th>\n",
       "      <th>avg_ndcg</th>\n",
       "      <th>avg_p3</th>\n",
       "    </tr>\n",
       "  </thead>\n",
       "  <tbody>\n",
       "    <tr>\n",
       "      <th>BERT_spc_75_final</th>\n",
       "      <td>0.020165</td>\n",
       "      <td>0.033333</td>\n",
       "      <td>0.044444</td>\n",
       "      <td>0.036155</td>\n",
       "      <td>0.016049</td>\n",
       "    </tr>\n",
       "  </tbody>\n",
       "</table>\n",
       "</div>"
      ],
      "text/plain": [
       "                        map       mrr    avg_sr  avg_ndcg    avg_p3\n",
       "BERT_spc_75_final  0.020165  0.033333  0.044444  0.036155  0.016049"
      ]
     },
     "execution_count": 59,
     "metadata": {},
     "output_type": "execute_result"
    }
   ],
   "source": [
    "# all sentence pairs | BERT last 2 layers\n",
    "pd.DataFrame(calc_metrics(df1),index=df1.Model_name.unique())"
   ]
  },
  {
   "cell_type": "code",
   "execution_count": 62,
   "metadata": {
    "hidden": true
   },
   "outputs": [
    {
     "data": {
      "text/html": [
       "<div>\n",
       "<style scoped>\n",
       "    .dataframe tbody tr th:only-of-type {\n",
       "        vertical-align: middle;\n",
       "    }\n",
       "\n",
       "    .dataframe tbody tr th {\n",
       "        vertical-align: top;\n",
       "    }\n",
       "\n",
       "    .dataframe thead th {\n",
       "        text-align: right;\n",
       "    }\n",
       "</style>\n",
       "<table border=\"1\" class=\"dataframe\">\n",
       "  <thead>\n",
       "    <tr style=\"text-align: right;\">\n",
       "      <th></th>\n",
       "      <th>map</th>\n",
       "      <th>mrr</th>\n",
       "      <th>avg_sr</th>\n",
       "      <th>avg_ndcg</th>\n",
       "      <th>avg_p3</th>\n",
       "    </tr>\n",
       "  </thead>\n",
       "  <tbody>\n",
       "    <tr>\n",
       "      <th>BERT_spc_75_epoch_0</th>\n",
       "      <td>0.010288</td>\n",
       "      <td>0.018519</td>\n",
       "      <td>0.033333</td>\n",
       "      <td>0.022542</td>\n",
       "      <td>0.012346</td>\n",
       "    </tr>\n",
       "  </tbody>\n",
       "</table>\n",
       "</div>"
      ],
      "text/plain": [
       "                          map       mrr    avg_sr  avg_ndcg    avg_p3\n",
       "BERT_spc_75_epoch_0  0.010288  0.018519  0.033333  0.022542  0.012346"
      ]
     },
     "execution_count": 62,
     "metadata": {},
     "output_type": "execute_result"
    }
   ],
   "source": [
    "# all sentence pairs | BERT last 2 layers\n",
    "pd.DataFrame(calc_metrics(df1),index=df1.Model_name.unique())"
   ]
  },
  {
   "cell_type": "code",
   "execution_count": 144,
   "metadata": {
    "hidden": true
   },
   "outputs": [
    {
     "data": {
      "text/html": [
       "<div>\n",
       "<style scoped>\n",
       "    .dataframe tbody tr th:only-of-type {\n",
       "        vertical-align: middle;\n",
       "    }\n",
       "\n",
       "    .dataframe tbody tr th {\n",
       "        vertical-align: top;\n",
       "    }\n",
       "\n",
       "    .dataframe thead th {\n",
       "        text-align: right;\n",
       "    }\n",
       "</style>\n",
       "<table border=\"1\" class=\"dataframe\">\n",
       "  <thead>\n",
       "    <tr style=\"text-align: right;\">\n",
       "      <th></th>\n",
       "      <th>map</th>\n",
       "      <th>mrr</th>\n",
       "      <th>avg_sr</th>\n",
       "      <th>avg_ndcg</th>\n",
       "      <th>avg_p3</th>\n",
       "    </tr>\n",
       "  </thead>\n",
       "  <tbody>\n",
       "    <tr>\n",
       "      <th>BERT_spc_50_epoch4</th>\n",
       "      <td>0.004115</td>\n",
       "      <td>0.008025</td>\n",
       "      <td>0.014815</td>\n",
       "      <td>0.009744</td>\n",
       "      <td>0.004938</td>\n",
       "    </tr>\n",
       "  </tbody>\n",
       "</table>\n",
       "</div>"
      ],
      "text/plain": [
       "                         map       mrr    avg_sr  avg_ndcg    avg_p3\n",
       "BERT_spc_50_epoch4  0.004115  0.008025  0.014815  0.009744  0.004938"
      ]
     },
     "execution_count": 144,
     "metadata": {},
     "output_type": "execute_result"
    }
   ],
   "source": [
    "pd.DataFrame(calc_metrics(df1),index=df1.Model_name.unique())"
   ]
  },
  {
   "cell_type": "code",
   "execution_count": 147,
   "metadata": {
    "hidden": true
   },
   "outputs": [
    {
     "data": {
      "text/html": [
       "<div>\n",
       "<style scoped>\n",
       "    .dataframe tbody tr th:only-of-type {\n",
       "        vertical-align: middle;\n",
       "    }\n",
       "\n",
       "    .dataframe tbody tr th {\n",
       "        vertical-align: top;\n",
       "    }\n",
       "\n",
       "    .dataframe thead th {\n",
       "        text-align: right;\n",
       "    }\n",
       "</style>\n",
       "<table border=\"1\" class=\"dataframe\">\n",
       "  <thead>\n",
       "    <tr style=\"text-align: right;\">\n",
       "      <th></th>\n",
       "      <th>map</th>\n",
       "      <th>mrr</th>\n",
       "      <th>avg_sr</th>\n",
       "      <th>avg_ndcg</th>\n",
       "      <th>avg_p3</th>\n",
       "    </tr>\n",
       "  </thead>\n",
       "  <tbody>\n",
       "    <tr>\n",
       "      <th>BERT_spc_52_final</th>\n",
       "      <td>0.22284</td>\n",
       "      <td>0.335802</td>\n",
       "      <td>0.451852</td>\n",
       "      <td>0.365773</td>\n",
       "      <td>0.203704</td>\n",
       "    </tr>\n",
       "  </tbody>\n",
       "</table>\n",
       "</div>"
      ],
      "text/plain": [
       "                       map       mrr    avg_sr  avg_ndcg    avg_p3\n",
       "BERT_spc_52_final  0.22284  0.335802  0.451852  0.365773  0.203704"
      ]
     },
     "execution_count": 147,
     "metadata": {},
     "output_type": "execute_result"
    }
   ],
   "source": [
    "# 128 sentence pairs\n",
    "pd.DataFrame(calc_metrics(df1),index=df1.Model_name.unique())"
   ]
  },
  {
   "cell_type": "code",
   "execution_count": 151,
   "metadata": {
    "hidden": true
   },
   "outputs": [
    {
     "data": {
      "text/html": [
       "<div>\n",
       "<style scoped>\n",
       "    .dataframe tbody tr th:only-of-type {\n",
       "        vertical-align: middle;\n",
       "    }\n",
       "\n",
       "    .dataframe tbody tr th {\n",
       "        vertical-align: top;\n",
       "    }\n",
       "\n",
       "    .dataframe thead th {\n",
       "        text-align: right;\n",
       "    }\n",
       "</style>\n",
       "<table border=\"1\" class=\"dataframe\">\n",
       "  <thead>\n",
       "    <tr style=\"text-align: right;\">\n",
       "      <th></th>\n",
       "      <th>map</th>\n",
       "      <th>mrr</th>\n",
       "      <th>avg_sr</th>\n",
       "      <th>avg_ndcg</th>\n",
       "      <th>avg_p3</th>\n",
       "    </tr>\n",
       "  </thead>\n",
       "  <tbody>\n",
       "    <tr>\n",
       "      <th>BERT_spc_52_epoch_0</th>\n",
       "      <td>0.207819</td>\n",
       "      <td>0.324074</td>\n",
       "      <td>0.451852</td>\n",
       "      <td>0.355963</td>\n",
       "      <td>0.190123</td>\n",
       "    </tr>\n",
       "  </tbody>\n",
       "</table>\n",
       "</div>"
      ],
      "text/plain": [
       "                          map       mrr    avg_sr  avg_ndcg    avg_p3\n",
       "BERT_spc_52_epoch_0  0.207819  0.324074  0.451852  0.355963  0.190123"
      ]
     },
     "execution_count": 151,
     "metadata": {},
     "output_type": "execute_result"
    }
   ],
   "source": [
    "# 128 sentence pairs\n",
    "pd.DataFrame(calc_metrics(df1),index=df1.Model_name.unique())"
   ]
  },
  {
   "cell_type": "code",
   "execution_count": 164,
   "metadata": {
    "hidden": true
   },
   "outputs": [
    {
     "data": {
      "text/html": [
       "<div>\n",
       "<style scoped>\n",
       "    .dataframe tbody tr th:only-of-type {\n",
       "        vertical-align: middle;\n",
       "    }\n",
       "\n",
       "    .dataframe tbody tr th {\n",
       "        vertical-align: top;\n",
       "    }\n",
       "\n",
       "    .dataframe thead th {\n",
       "        text-align: right;\n",
       "    }\n",
       "</style>\n",
       "<table border=\"1\" class=\"dataframe\">\n",
       "  <thead>\n",
       "    <tr style=\"text-align: right;\">\n",
       "      <th></th>\n",
       "      <th>map</th>\n",
       "      <th>mrr</th>\n",
       "      <th>avg_sr</th>\n",
       "      <th>avg_ndcg</th>\n",
       "      <th>avg_p3</th>\n",
       "    </tr>\n",
       "  </thead>\n",
       "  <tbody>\n",
       "    <tr>\n",
       "      <th>BERT_spc_52_epoch1</th>\n",
       "      <td>0.226132</td>\n",
       "      <td>0.348148</td>\n",
       "      <td>0.462963</td>\n",
       "      <td>0.376389</td>\n",
       "      <td>0.202469</td>\n",
       "    </tr>\n",
       "  </tbody>\n",
       "</table>\n",
       "</div>"
      ],
      "text/plain": [
       "                         map       mrr    avg_sr  avg_ndcg    avg_p3\n",
       "BERT_spc_52_epoch1  0.226132  0.348148  0.462963  0.376389  0.202469"
      ]
     },
     "execution_count": 164,
     "metadata": {},
     "output_type": "execute_result"
    }
   ],
   "source": [
    "# 128 sentence pairs\n",
    "pd.DataFrame(calc_metrics(df1),index=df1.Model_name.unique())"
   ]
  },
  {
   "cell_type": "code",
   "execution_count": 167,
   "metadata": {
    "collapsed": true,
    "hidden": true
   },
   "outputs": [
    {
     "data": {
      "text/html": [
       "<div>\n",
       "<style scoped>\n",
       "    .dataframe tbody tr th:only-of-type {\n",
       "        vertical-align: middle;\n",
       "    }\n",
       "\n",
       "    .dataframe tbody tr th {\n",
       "        vertical-align: top;\n",
       "    }\n",
       "\n",
       "    .dataframe thead th {\n",
       "        text-align: right;\n",
       "    }\n",
       "</style>\n",
       "<table border=\"1\" class=\"dataframe\">\n",
       "  <thead>\n",
       "    <tr style=\"text-align: right;\">\n",
       "      <th></th>\n",
       "      <th>map</th>\n",
       "      <th>mrr</th>\n",
       "      <th>avg_sr</th>\n",
       "      <th>avg_ndcg</th>\n",
       "      <th>avg_p3</th>\n",
       "    </tr>\n",
       "  </thead>\n",
       "  <tbody>\n",
       "    <tr>\n",
       "      <th>BERT_spc_54_final</th>\n",
       "      <td>0.139095</td>\n",
       "      <td>0.214198</td>\n",
       "      <td>0.303704</td>\n",
       "      <td>0.237686</td>\n",
       "      <td>0.132099</td>\n",
       "    </tr>\n",
       "  </tbody>\n",
       "</table>\n",
       "</div>"
      ],
      "text/plain": [
       "                        map       mrr    avg_sr  avg_ndcg    avg_p3\n",
       "BERT_spc_54_final  0.139095  0.214198  0.303704  0.237686  0.132099"
      ]
     },
     "execution_count": 167,
     "metadata": {},
     "output_type": "execute_result"
    }
   ],
   "source": [
    "# 64 sentence pairs\n",
    "pd.DataFrame(calc_metrics(df1),index=df1.Model_name.unique())"
   ]
  },
  {
   "cell_type": "code",
   "execution_count": 171,
   "metadata": {
    "collapsed": true,
    "hidden": true
   },
   "outputs": [
    {
     "data": {
      "text/html": [
       "<div>\n",
       "<style scoped>\n",
       "    .dataframe tbody tr th:only-of-type {\n",
       "        vertical-align: middle;\n",
       "    }\n",
       "\n",
       "    .dataframe tbody tr th {\n",
       "        vertical-align: top;\n",
       "    }\n",
       "\n",
       "    .dataframe thead th {\n",
       "        text-align: right;\n",
       "    }\n",
       "</style>\n",
       "<table border=\"1\" class=\"dataframe\">\n",
       "  <thead>\n",
       "    <tr style=\"text-align: right;\">\n",
       "      <th></th>\n",
       "      <th>map</th>\n",
       "      <th>mrr</th>\n",
       "      <th>avg_sr</th>\n",
       "      <th>avg_ndcg</th>\n",
       "      <th>avg_p3</th>\n",
       "    </tr>\n",
       "  </thead>\n",
       "  <tbody>\n",
       "    <tr>\n",
       "      <th>BERT_spc_54_epoch_0</th>\n",
       "      <td>0.0</td>\n",
       "      <td>0.0</td>\n",
       "      <td>0.0</td>\n",
       "      <td>0.0</td>\n",
       "      <td>0.0</td>\n",
       "    </tr>\n",
       "  </tbody>\n",
       "</table>\n",
       "</div>"
      ],
      "text/plain": [
       "                     map  mrr  avg_sr  avg_ndcg  avg_p3\n",
       "BERT_spc_54_epoch_0  0.0  0.0     0.0       0.0     0.0"
      ]
     },
     "execution_count": 171,
     "metadata": {},
     "output_type": "execute_result"
    }
   ],
   "source": [
    "# 64 sentence pairs\n",
    "pd.DataFrame(calc_metrics(df1),index=df1.Model_name.unique())"
   ]
  },
  {
   "cell_type": "code",
   "execution_count": 174,
   "metadata": {
    "collapsed": true,
    "hidden": true
   },
   "outputs": [
    {
     "data": {
      "text/html": [
       "<div>\n",
       "<style scoped>\n",
       "    .dataframe tbody tr th:only-of-type {\n",
       "        vertical-align: middle;\n",
       "    }\n",
       "\n",
       "    .dataframe tbody tr th {\n",
       "        vertical-align: top;\n",
       "    }\n",
       "\n",
       "    .dataframe thead th {\n",
       "        text-align: right;\n",
       "    }\n",
       "</style>\n",
       "<table border=\"1\" class=\"dataframe\">\n",
       "  <thead>\n",
       "    <tr style=\"text-align: right;\">\n",
       "      <th></th>\n",
       "      <th>map</th>\n",
       "      <th>mrr</th>\n",
       "      <th>avg_sr</th>\n",
       "      <th>avg_ndcg</th>\n",
       "      <th>avg_p3</th>\n",
       "    </tr>\n",
       "  </thead>\n",
       "  <tbody>\n",
       "    <tr>\n",
       "      <th>BERT_spc_54_epoch_1</th>\n",
       "      <td>0.03642</td>\n",
       "      <td>0.062963</td>\n",
       "      <td>0.092593</td>\n",
       "      <td>0.070161</td>\n",
       "      <td>0.033333</td>\n",
       "    </tr>\n",
       "  </tbody>\n",
       "</table>\n",
       "</div>"
      ],
      "text/plain": [
       "                         map       mrr    avg_sr  avg_ndcg    avg_p3\n",
       "BERT_spc_54_epoch_1  0.03642  0.062963  0.092593  0.070161  0.033333"
      ]
     },
     "execution_count": 174,
     "metadata": {},
     "output_type": "execute_result"
    }
   ],
   "source": [
    "# 64 sentence pairs\n",
    "pd.DataFrame(calc_metrics(df1),index=df1.Model_name.unique())"
   ]
  },
  {
   "cell_type": "code",
   "execution_count": 177,
   "metadata": {
    "collapsed": true,
    "hidden": true
   },
   "outputs": [
    {
     "data": {
      "text/html": [
       "<div>\n",
       "<style scoped>\n",
       "    .dataframe tbody tr th:only-of-type {\n",
       "        vertical-align: middle;\n",
       "    }\n",
       "\n",
       "    .dataframe tbody tr th {\n",
       "        vertical-align: top;\n",
       "    }\n",
       "\n",
       "    .dataframe thead th {\n",
       "        text-align: right;\n",
       "    }\n",
       "</style>\n",
       "<table border=\"1\" class=\"dataframe\">\n",
       "  <thead>\n",
       "    <tr style=\"text-align: right;\">\n",
       "      <th></th>\n",
       "      <th>map</th>\n",
       "      <th>mrr</th>\n",
       "      <th>avg_sr</th>\n",
       "      <th>avg_ndcg</th>\n",
       "      <th>avg_p3</th>\n",
       "    </tr>\n",
       "  </thead>\n",
       "  <tbody>\n",
       "    <tr>\n",
       "      <th>BERT_spc_55_final</th>\n",
       "      <td>0.209465</td>\n",
       "      <td>0.322222</td>\n",
       "      <td>0.437037</td>\n",
       "      <td>0.349978</td>\n",
       "      <td>0.191358</td>\n",
       "    </tr>\n",
       "  </tbody>\n",
       "</table>\n",
       "</div>"
      ],
      "text/plain": [
       "                        map       mrr    avg_sr  avg_ndcg    avg_p3\n",
       "BERT_spc_55_final  0.209465  0.322222  0.437037  0.349978  0.191358"
      ]
     },
     "execution_count": 177,
     "metadata": {},
     "output_type": "execute_result"
    }
   ],
   "source": [
    "# 32 sentence pairs\n",
    "pd.DataFrame(calc_metrics(df1),index=df1.Model_name.unique())"
   ]
  },
  {
   "cell_type": "code",
   "execution_count": 180,
   "metadata": {
    "collapsed": true,
    "hidden": true
   },
   "outputs": [
    {
     "data": {
      "text/html": [
       "<div>\n",
       "<style scoped>\n",
       "    .dataframe tbody tr th:only-of-type {\n",
       "        vertical-align: middle;\n",
       "    }\n",
       "\n",
       "    .dataframe tbody tr th {\n",
       "        vertical-align: top;\n",
       "    }\n",
       "\n",
       "    .dataframe thead th {\n",
       "        text-align: right;\n",
       "    }\n",
       "</style>\n",
       "<table border=\"1\" class=\"dataframe\">\n",
       "  <thead>\n",
       "    <tr style=\"text-align: right;\">\n",
       "      <th></th>\n",
       "      <th>map</th>\n",
       "      <th>mrr</th>\n",
       "      <th>avg_sr</th>\n",
       "      <th>avg_ndcg</th>\n",
       "      <th>avg_p3</th>\n",
       "    </tr>\n",
       "  </thead>\n",
       "  <tbody>\n",
       "    <tr>\n",
       "      <th>BERT_spc_55_epoch_0</th>\n",
       "      <td>0.190741</td>\n",
       "      <td>0.293827</td>\n",
       "      <td>0.385185</td>\n",
       "      <td>0.317403</td>\n",
       "      <td>0.159259</td>\n",
       "    </tr>\n",
       "  </tbody>\n",
       "</table>\n",
       "</div>"
      ],
      "text/plain": [
       "                          map       mrr    avg_sr  avg_ndcg    avg_p3\n",
       "BERT_spc_55_epoch_0  0.190741  0.293827  0.385185  0.317403  0.159259"
      ]
     },
     "execution_count": 180,
     "metadata": {},
     "output_type": "execute_result"
    }
   ],
   "source": [
    "# 32 sentence pairs\n",
    "pd.DataFrame(calc_metrics(df1),index=df1.Model_name.unique())"
   ]
  },
  {
   "cell_type": "code",
   "execution_count": 183,
   "metadata": {
    "collapsed": true,
    "hidden": true
   },
   "outputs": [
    {
     "data": {
      "text/html": [
       "<div>\n",
       "<style scoped>\n",
       "    .dataframe tbody tr th:only-of-type {\n",
       "        vertical-align: middle;\n",
       "    }\n",
       "\n",
       "    .dataframe tbody tr th {\n",
       "        vertical-align: top;\n",
       "    }\n",
       "\n",
       "    .dataframe thead th {\n",
       "        text-align: right;\n",
       "    }\n",
       "</style>\n",
       "<table border=\"1\" class=\"dataframe\">\n",
       "  <thead>\n",
       "    <tr style=\"text-align: right;\">\n",
       "      <th></th>\n",
       "      <th>map</th>\n",
       "      <th>mrr</th>\n",
       "      <th>avg_sr</th>\n",
       "      <th>avg_ndcg</th>\n",
       "      <th>avg_p3</th>\n",
       "    </tr>\n",
       "  </thead>\n",
       "  <tbody>\n",
       "    <tr>\n",
       "      <th>BERT_spc_56_final</th>\n",
       "      <td>0.222016</td>\n",
       "      <td>0.332716</td>\n",
       "      <td>0.459259</td>\n",
       "      <td>0.366202</td>\n",
       "      <td>0.208642</td>\n",
       "    </tr>\n",
       "  </tbody>\n",
       "</table>\n",
       "</div>"
      ],
      "text/plain": [
       "                        map       mrr    avg_sr  avg_ndcg    avg_p3\n",
       "BERT_spc_56_final  0.222016  0.332716  0.459259  0.366202  0.208642"
      ]
     },
     "execution_count": 183,
     "metadata": {},
     "output_type": "execute_result"
    }
   ],
   "source": [
    "# 200 sentence pairs\n",
    "pd.DataFrame(calc_metrics(df1),index=df1.Model_name.unique())"
   ]
  },
  {
   "cell_type": "code",
   "execution_count": 186,
   "metadata": {
    "collapsed": true,
    "hidden": true
   },
   "outputs": [
    {
     "data": {
      "text/html": [
       "<div>\n",
       "<style scoped>\n",
       "    .dataframe tbody tr th:only-of-type {\n",
       "        vertical-align: middle;\n",
       "    }\n",
       "\n",
       "    .dataframe tbody tr th {\n",
       "        vertical-align: top;\n",
       "    }\n",
       "\n",
       "    .dataframe thead th {\n",
       "        text-align: right;\n",
       "    }\n",
       "</style>\n",
       "<table border=\"1\" class=\"dataframe\">\n",
       "  <thead>\n",
       "    <tr style=\"text-align: right;\">\n",
       "      <th></th>\n",
       "      <th>map</th>\n",
       "      <th>mrr</th>\n",
       "      <th>avg_sr</th>\n",
       "      <th>avg_ndcg</th>\n",
       "      <th>avg_p3</th>\n",
       "    </tr>\n",
       "  </thead>\n",
       "  <tbody>\n",
       "    <tr>\n",
       "      <th>BERT_spc_56_epoch_0</th>\n",
       "      <td>0.240123</td>\n",
       "      <td>0.364198</td>\n",
       "      <td>0.496296</td>\n",
       "      <td>0.395868</td>\n",
       "      <td>0.225926</td>\n",
       "    </tr>\n",
       "  </tbody>\n",
       "</table>\n",
       "</div>"
      ],
      "text/plain": [
       "                          map       mrr    avg_sr  avg_ndcg    avg_p3\n",
       "BERT_spc_56_epoch_0  0.240123  0.364198  0.496296  0.395868  0.225926"
      ]
     },
     "execution_count": 186,
     "metadata": {},
     "output_type": "execute_result"
    }
   ],
   "source": [
    "# 200 sentence pairs\n",
    "pd.DataFrame(calc_metrics(df1),index=df1.Model_name.unique())"
   ]
  },
  {
   "cell_type": "code",
   "execution_count": 189,
   "metadata": {
    "collapsed": true,
    "hidden": true
   },
   "outputs": [
    {
     "data": {
      "text/html": [
       "<div>\n",
       "<style scoped>\n",
       "    .dataframe tbody tr th:only-of-type {\n",
       "        vertical-align: middle;\n",
       "    }\n",
       "\n",
       "    .dataframe tbody tr th {\n",
       "        vertical-align: top;\n",
       "    }\n",
       "\n",
       "    .dataframe thead th {\n",
       "        text-align: right;\n",
       "    }\n",
       "</style>\n",
       "<table border=\"1\" class=\"dataframe\">\n",
       "  <thead>\n",
       "    <tr style=\"text-align: right;\">\n",
       "      <th></th>\n",
       "      <th>map</th>\n",
       "      <th>mrr</th>\n",
       "      <th>avg_sr</th>\n",
       "      <th>avg_ndcg</th>\n",
       "      <th>avg_p3</th>\n",
       "    </tr>\n",
       "  </thead>\n",
       "  <tbody>\n",
       "    <tr>\n",
       "      <th>BERT_spc_56_epoch_1</th>\n",
       "      <td>0.166255</td>\n",
       "      <td>0.257407</td>\n",
       "      <td>0.374074</td>\n",
       "      <td>0.288181</td>\n",
       "      <td>0.158025</td>\n",
       "    </tr>\n",
       "  </tbody>\n",
       "</table>\n",
       "</div>"
      ],
      "text/plain": [
       "                          map       mrr    avg_sr  avg_ndcg    avg_p3\n",
       "BERT_spc_56_epoch_1  0.166255  0.257407  0.374074  0.288181  0.158025"
      ]
     },
     "execution_count": 189,
     "metadata": {},
     "output_type": "execute_result"
    }
   ],
   "source": [
    "# 200 sentence pairs\n",
    "pd.DataFrame(calc_metrics(df1),index=df1.Model_name.unique())"
   ]
  },
  {
   "cell_type": "code",
   "execution_count": 192,
   "metadata": {
    "collapsed": true,
    "hidden": true
   },
   "outputs": [
    {
     "data": {
      "text/html": [
       "<div>\n",
       "<style scoped>\n",
       "    .dataframe tbody tr th:only-of-type {\n",
       "        vertical-align: middle;\n",
       "    }\n",
       "\n",
       "    .dataframe tbody tr th {\n",
       "        vertical-align: top;\n",
       "    }\n",
       "\n",
       "    .dataframe thead th {\n",
       "        text-align: right;\n",
       "    }\n",
       "</style>\n",
       "<table border=\"1\" class=\"dataframe\">\n",
       "  <thead>\n",
       "    <tr style=\"text-align: right;\">\n",
       "      <th></th>\n",
       "      <th>map</th>\n",
       "      <th>mrr</th>\n",
       "      <th>avg_sr</th>\n",
       "      <th>avg_ndcg</th>\n",
       "      <th>avg_p3</th>\n",
       "    </tr>\n",
       "  </thead>\n",
       "  <tbody>\n",
       "    <tr>\n",
       "      <th>BERT_spc_57_final</th>\n",
       "      <td>0.23786</td>\n",
       "      <td>0.353086</td>\n",
       "      <td>0.474074</td>\n",
       "      <td>0.384952</td>\n",
       "      <td>0.217284</td>\n",
       "    </tr>\n",
       "  </tbody>\n",
       "</table>\n",
       "</div>"
      ],
      "text/plain": [
       "                       map       mrr    avg_sr  avg_ndcg    avg_p3\n",
       "BERT_spc_57_final  0.23786  0.353086  0.474074  0.384952  0.217284"
      ]
     },
     "execution_count": 192,
     "metadata": {},
     "output_type": "execute_result"
    }
   ],
   "source": [
    "# 250 sentence pairs\n",
    "pd.DataFrame(calc_metrics(df1),index=df1.Model_name.unique())"
   ]
  },
  {
   "cell_type": "code",
   "execution_count": 195,
   "metadata": {
    "collapsed": true,
    "hidden": true
   },
   "outputs": [
    {
     "data": {
      "text/html": [
       "<div>\n",
       "<style scoped>\n",
       "    .dataframe tbody tr th:only-of-type {\n",
       "        vertical-align: middle;\n",
       "    }\n",
       "\n",
       "    .dataframe tbody tr th {\n",
       "        vertical-align: top;\n",
       "    }\n",
       "\n",
       "    .dataframe thead th {\n",
       "        text-align: right;\n",
       "    }\n",
       "</style>\n",
       "<table border=\"1\" class=\"dataframe\">\n",
       "  <thead>\n",
       "    <tr style=\"text-align: right;\">\n",
       "      <th></th>\n",
       "      <th>map</th>\n",
       "      <th>mrr</th>\n",
       "      <th>avg_sr</th>\n",
       "      <th>avg_ndcg</th>\n",
       "      <th>avg_p3</th>\n",
       "    </tr>\n",
       "  </thead>\n",
       "  <tbody>\n",
       "    <tr>\n",
       "      <th>BERT_spc_57_epoch_0</th>\n",
       "      <td>0.177572</td>\n",
       "      <td>0.270988</td>\n",
       "      <td>0.385185</td>\n",
       "      <td>0.301619</td>\n",
       "      <td>0.171605</td>\n",
       "    </tr>\n",
       "  </tbody>\n",
       "</table>\n",
       "</div>"
      ],
      "text/plain": [
       "                          map       mrr    avg_sr  avg_ndcg    avg_p3\n",
       "BERT_spc_57_epoch_0  0.177572  0.270988  0.385185  0.301619  0.171605"
      ]
     },
     "execution_count": 195,
     "metadata": {},
     "output_type": "execute_result"
    }
   ],
   "source": [
    "# 250 sentence pairs\n",
    "pd.DataFrame(calc_metrics(df1),index=df1.Model_name.unique())"
   ]
  },
  {
   "cell_type": "code",
   "execution_count": 207,
   "metadata": {
    "hidden": true
   },
   "outputs": [
    {
     "data": {
      "text/html": [
       "<div>\n",
       "<style scoped>\n",
       "    .dataframe tbody tr th:only-of-type {\n",
       "        vertical-align: middle;\n",
       "    }\n",
       "\n",
       "    .dataframe tbody tr th {\n",
       "        vertical-align: top;\n",
       "    }\n",
       "\n",
       "    .dataframe thead th {\n",
       "        text-align: right;\n",
       "    }\n",
       "</style>\n",
       "<table border=\"1\" class=\"dataframe\">\n",
       "  <thead>\n",
       "    <tr style=\"text-align: right;\">\n",
       "      <th></th>\n",
       "      <th>map</th>\n",
       "      <th>mrr</th>\n",
       "      <th>avg_sr</th>\n",
       "      <th>avg_ndcg</th>\n",
       "      <th>avg_p3</th>\n",
       "    </tr>\n",
       "  </thead>\n",
       "  <tbody>\n",
       "    <tr>\n",
       "      <th>BERT_spc_59_final</th>\n",
       "      <td>0.072016</td>\n",
       "      <td>0.117284</td>\n",
       "      <td>0.185185</td>\n",
       "      <td>0.134291</td>\n",
       "      <td>0.075309</td>\n",
       "    </tr>\n",
       "  </tbody>\n",
       "</table>\n",
       "</div>"
      ],
      "text/plain": [
       "                        map       mrr    avg_sr  avg_ndcg    avg_p3\n",
       "BERT_spc_59_final  0.072016  0.117284  0.185185  0.134291  0.075309"
      ]
     },
     "execution_count": 207,
     "metadata": {},
     "output_type": "execute_result"
    }
   ],
   "source": [
    "# 1k sentence pairs\n",
    "pd.DataFrame(calc_metrics(df1),index=df1.Model_name.unique())"
   ]
  },
  {
   "cell_type": "code",
   "execution_count": 204,
   "metadata": {
    "hidden": true
   },
   "outputs": [
    {
     "data": {
      "text/html": [
       "<div>\n",
       "<style scoped>\n",
       "    .dataframe tbody tr th:only-of-type {\n",
       "        vertical-align: middle;\n",
       "    }\n",
       "\n",
       "    .dataframe tbody tr th {\n",
       "        vertical-align: top;\n",
       "    }\n",
       "\n",
       "    .dataframe thead th {\n",
       "        text-align: right;\n",
       "    }\n",
       "</style>\n",
       "<table border=\"1\" class=\"dataframe\">\n",
       "  <thead>\n",
       "    <tr style=\"text-align: right;\">\n",
       "      <th></th>\n",
       "      <th>map</th>\n",
       "      <th>mrr</th>\n",
       "      <th>avg_sr</th>\n",
       "      <th>avg_ndcg</th>\n",
       "      <th>avg_p3</th>\n",
       "    </tr>\n",
       "  </thead>\n",
       "  <tbody>\n",
       "    <tr>\n",
       "      <th>BERT_spc_59_epoch_0</th>\n",
       "      <td>0.259259</td>\n",
       "      <td>0.385802</td>\n",
       "      <td>0.492593</td>\n",
       "      <td>0.410263</td>\n",
       "      <td>0.225926</td>\n",
       "    </tr>\n",
       "  </tbody>\n",
       "</table>\n",
       "</div>"
      ],
      "text/plain": [
       "                          map       mrr    avg_sr  avg_ndcg    avg_p3\n",
       "BERT_spc_59_epoch_0  0.259259  0.385802  0.492593  0.410263  0.225926"
      ]
     },
     "execution_count": 204,
     "metadata": {},
     "output_type": "execute_result"
    }
   ],
   "source": [
    "# 1k sentence pairs\n",
    "pd.DataFrame(calc_metrics(df1),index=df1.Model_name.unique())"
   ]
  },
  {
   "cell_type": "code",
   "execution_count": null,
   "metadata": {
    "hidden": true
   },
   "outputs": [],
   "source": []
  },
  {
   "cell_type": "code",
   "execution_count": null,
   "metadata": {
    "hidden": true
   },
   "outputs": [],
   "source": []
  },
  {
   "cell_type": "markdown",
   "metadata": {
    "heading_collapsed": true,
    "hidden": true
   },
   "source": [
    "## BERT_sim"
   ]
  },
  {
   "cell_type": "code",
   "execution_count": 6,
   "metadata": {
    "hidden": true
   },
   "outputs": [
    {
     "data": {
      "text/html": [
       "<div>\n",
       "<style scoped>\n",
       "    .dataframe tbody tr th:only-of-type {\n",
       "        vertical-align: middle;\n",
       "    }\n",
       "\n",
       "    .dataframe tbody tr th {\n",
       "        vertical-align: top;\n",
       "    }\n",
       "\n",
       "    .dataframe thead th {\n",
       "        text-align: right;\n",
       "    }\n",
       "</style>\n",
       "<table border=\"1\" class=\"dataframe\">\n",
       "  <thead>\n",
       "    <tr style=\"text-align: right;\">\n",
       "      <th></th>\n",
       "      <th>map</th>\n",
       "      <th>mrr</th>\n",
       "      <th>avg_sr</th>\n",
       "      <th>avg_ndcg</th>\n",
       "      <th>avg_p3</th>\n",
       "    </tr>\n",
       "  </thead>\n",
       "  <tbody>\n",
       "    <tr>\n",
       "      <th>BERT_sim_mbert_cls_cosine</th>\n",
       "      <td>0.042798</td>\n",
       "      <td>0.069753</td>\n",
       "      <td>0.092593</td>\n",
       "      <td>0.07608</td>\n",
       "      <td>0.035802</td>\n",
       "    </tr>\n",
       "  </tbody>\n",
       "</table>\n",
       "</div>"
      ],
      "text/plain": [
       "                                map       mrr    avg_sr  avg_ndcg    avg_p3\n",
       "BERT_sim_mbert_cls_cosine  0.042798  0.069753  0.092593   0.07608  0.035802"
      ]
     },
     "execution_count": 6,
     "metadata": {},
     "output_type": "execute_result"
    }
   ],
   "source": [
    "pd.DataFrame(calc_metrics(df1),index=df1.Model_name.unique())"
   ]
  },
  {
   "cell_type": "code",
   "execution_count": 10,
   "metadata": {
    "hidden": true
   },
   "outputs": [
    {
     "data": {
      "text/html": [
       "<div>\n",
       "<style scoped>\n",
       "    .dataframe tbody tr th:only-of-type {\n",
       "        vertical-align: middle;\n",
       "    }\n",
       "\n",
       "    .dataframe tbody tr th {\n",
       "        vertical-align: top;\n",
       "    }\n",
       "\n",
       "    .dataframe thead th {\n",
       "        text-align: right;\n",
       "    }\n",
       "</style>\n",
       "<table border=\"1\" class=\"dataframe\">\n",
       "  <thead>\n",
       "    <tr style=\"text-align: right;\">\n",
       "      <th></th>\n",
       "      <th>map</th>\n",
       "      <th>mrr</th>\n",
       "      <th>avg_sr</th>\n",
       "      <th>avg_ndcg</th>\n",
       "      <th>avg_p3</th>\n",
       "    </tr>\n",
       "  </thead>\n",
       "  <tbody>\n",
       "    <tr>\n",
       "      <th>BERT_sim_mbert_lhsAvg_cosine</th>\n",
       "      <td>0.068519</td>\n",
       "      <td>0.112346</td>\n",
       "      <td>0.137037</td>\n",
       "      <td>0.118694</td>\n",
       "      <td>0.048148</td>\n",
       "    </tr>\n",
       "  </tbody>\n",
       "</table>\n",
       "</div>"
      ],
      "text/plain": [
       "                                   map       mrr    avg_sr  avg_ndcg    avg_p3\n",
       "BERT_sim_mbert_lhsAvg_cosine  0.068519  0.112346  0.137037  0.118694  0.048148"
      ]
     },
     "execution_count": 10,
     "metadata": {},
     "output_type": "execute_result"
    }
   ],
   "source": [
    "pd.DataFrame(calc_metrics(df1),index=df1.Model_name.unique())"
   ]
  },
  {
   "cell_type": "code",
   "execution_count": 14,
   "metadata": {
    "hidden": true
   },
   "outputs": [
    {
     "data": {
      "text/html": [
       "<div>\n",
       "<style scoped>\n",
       "    .dataframe tbody tr th:only-of-type {\n",
       "        vertical-align: middle;\n",
       "    }\n",
       "\n",
       "    .dataframe tbody tr th {\n",
       "        vertical-align: top;\n",
       "    }\n",
       "\n",
       "    .dataframe thead th {\n",
       "        text-align: right;\n",
       "    }\n",
       "</style>\n",
       "<table border=\"1\" class=\"dataframe\">\n",
       "  <thead>\n",
       "    <tr style=\"text-align: right;\">\n",
       "      <th></th>\n",
       "      <th>map</th>\n",
       "      <th>mrr</th>\n",
       "      <th>avg_sr</th>\n",
       "      <th>avg_ndcg</th>\n",
       "      <th>avg_p3</th>\n",
       "    </tr>\n",
       "  </thead>\n",
       "  <tbody>\n",
       "    <tr>\n",
       "      <th>BERT_sim_mbert_pool_cosine</th>\n",
       "      <td>0.01893</td>\n",
       "      <td>0.033333</td>\n",
       "      <td>0.048148</td>\n",
       "      <td>0.037125</td>\n",
       "      <td>0.016049</td>\n",
       "    </tr>\n",
       "  </tbody>\n",
       "</table>\n",
       "</div>"
      ],
      "text/plain": [
       "                                map       mrr    avg_sr  avg_ndcg    avg_p3\n",
       "BERT_sim_mbert_pool_cosine  0.01893  0.033333  0.048148  0.037125  0.016049"
      ]
     },
     "execution_count": 14,
     "metadata": {},
     "output_type": "execute_result"
    }
   ],
   "source": [
    "pd.DataFrame(calc_metrics(df1),index=df1.Model_name.unique())"
   ]
  },
  {
   "cell_type": "code",
   "execution_count": 18,
   "metadata": {
    "hidden": true
   },
   "outputs": [
    {
     "data": {
      "text/html": [
       "<div>\n",
       "<style scoped>\n",
       "    .dataframe tbody tr th:only-of-type {\n",
       "        vertical-align: middle;\n",
       "    }\n",
       "\n",
       "    .dataframe tbody tr th {\n",
       "        vertical-align: top;\n",
       "    }\n",
       "\n",
       "    .dataframe thead th {\n",
       "        text-align: right;\n",
       "    }\n",
       "</style>\n",
       "<table border=\"1\" class=\"dataframe\">\n",
       "  <thead>\n",
       "    <tr style=\"text-align: right;\">\n",
       "      <th></th>\n",
       "      <th>map</th>\n",
       "      <th>mrr</th>\n",
       "      <th>avg_sr</th>\n",
       "      <th>avg_ndcg</th>\n",
       "      <th>avg_p3</th>\n",
       "    </tr>\n",
       "  </thead>\n",
       "  <tbody>\n",
       "    <tr>\n",
       "      <th>BERT_sim_mbert_first_two_cosine</th>\n",
       "      <td>0.052058</td>\n",
       "      <td>0.082099</td>\n",
       "      <td>0.103704</td>\n",
       "      <td>0.087929</td>\n",
       "      <td>0.039506</td>\n",
       "    </tr>\n",
       "  </tbody>\n",
       "</table>\n",
       "</div>"
      ],
      "text/plain": [
       "                                      map       mrr    avg_sr  avg_ndcg  \\\n",
       "BERT_sim_mbert_first_two_cosine  0.052058  0.082099  0.103704  0.087929   \n",
       "\n",
       "                                   avg_p3  \n",
       "BERT_sim_mbert_first_two_cosine  0.039506  "
      ]
     },
     "execution_count": 18,
     "metadata": {},
     "output_type": "execute_result"
    }
   ],
   "source": [
    "pd.DataFrame(calc_metrics(df1),index=df1.Model_name.unique())"
   ]
  },
  {
   "cell_type": "code",
   "execution_count": 26,
   "metadata": {
    "hidden": true
   },
   "outputs": [
    {
     "data": {
      "text/html": [
       "<div>\n",
       "<style scoped>\n",
       "    .dataframe tbody tr th:only-of-type {\n",
       "        vertical-align: middle;\n",
       "    }\n",
       "\n",
       "    .dataframe tbody tr th {\n",
       "        vertical-align: top;\n",
       "    }\n",
       "\n",
       "    .dataframe thead th {\n",
       "        text-align: right;\n",
       "    }\n",
       "</style>\n",
       "<table border=\"1\" class=\"dataframe\">\n",
       "  <thead>\n",
       "    <tr style=\"text-align: right;\">\n",
       "      <th></th>\n",
       "      <th>map</th>\n",
       "      <th>mrr</th>\n",
       "      <th>avg_sr</th>\n",
       "      <th>avg_ndcg</th>\n",
       "      <th>avg_p3</th>\n",
       "    </tr>\n",
       "  </thead>\n",
       "  <tbody>\n",
       "    <tr>\n",
       "      <th>BERT_sim_mbert_last_two_cosine</th>\n",
       "      <td>0.053909</td>\n",
       "      <td>0.083951</td>\n",
       "      <td>0.107407</td>\n",
       "      <td>0.089947</td>\n",
       "      <td>0.04321</td>\n",
       "    </tr>\n",
       "  </tbody>\n",
       "</table>\n",
       "</div>"
      ],
      "text/plain": [
       "                                     map       mrr    avg_sr  avg_ndcg  \\\n",
       "BERT_sim_mbert_last_two_cosine  0.053909  0.083951  0.107407  0.089947   \n",
       "\n",
       "                                 avg_p3  \n",
       "BERT_sim_mbert_last_two_cosine  0.04321  "
      ]
     },
     "execution_count": 26,
     "metadata": {},
     "output_type": "execute_result"
    }
   ],
   "source": [
    "pd.DataFrame(calc_metrics(df1),index=df1.Model_name.unique())"
   ]
  },
  {
   "cell_type": "code",
   "execution_count": 30,
   "metadata": {
    "hidden": true
   },
   "outputs": [
    {
     "data": {
      "text/html": [
       "<div>\n",
       "<style scoped>\n",
       "    .dataframe tbody tr th:only-of-type {\n",
       "        vertical-align: middle;\n",
       "    }\n",
       "\n",
       "    .dataframe tbody tr th {\n",
       "        vertical-align: top;\n",
       "    }\n",
       "\n",
       "    .dataframe thead th {\n",
       "        text-align: right;\n",
       "    }\n",
       "</style>\n",
       "<table border=\"1\" class=\"dataframe\">\n",
       "  <thead>\n",
       "    <tr style=\"text-align: right;\">\n",
       "      <th></th>\n",
       "      <th>map</th>\n",
       "      <th>mrr</th>\n",
       "      <th>avg_sr</th>\n",
       "      <th>avg_ndcg</th>\n",
       "      <th>avg_p3</th>\n",
       "    </tr>\n",
       "  </thead>\n",
       "  <tbody>\n",
       "    <tr>\n",
       "      <th>BERT_sim_mbert_lhsAvg_add</th>\n",
       "      <td>0.000412</td>\n",
       "      <td>0.001235</td>\n",
       "      <td>0.003704</td>\n",
       "      <td>0.001852</td>\n",
       "      <td>0.001235</td>\n",
       "    </tr>\n",
       "  </tbody>\n",
       "</table>\n",
       "</div>"
      ],
      "text/plain": [
       "                                map       mrr    avg_sr  avg_ndcg    avg_p3\n",
       "BERT_sim_mbert_lhsAvg_add  0.000412  0.001235  0.003704  0.001852  0.001235"
      ]
     },
     "execution_count": 30,
     "metadata": {},
     "output_type": "execute_result"
    }
   ],
   "source": [
    "pd.DataFrame(calc_metrics(df1),index=df1.Model_name.unique())"
   ]
  },
  {
   "cell_type": "code",
   "execution_count": 34,
   "metadata": {
    "hidden": true
   },
   "outputs": [
    {
     "data": {
      "text/html": [
       "<div>\n",
       "<style scoped>\n",
       "    .dataframe tbody tr th:only-of-type {\n",
       "        vertical-align: middle;\n",
       "    }\n",
       "\n",
       "    .dataframe tbody tr th {\n",
       "        vertical-align: top;\n",
       "    }\n",
       "\n",
       "    .dataframe thead th {\n",
       "        text-align: right;\n",
       "    }\n",
       "</style>\n",
       "<table border=\"1\" class=\"dataframe\">\n",
       "  <thead>\n",
       "    <tr style=\"text-align: right;\">\n",
       "      <th></th>\n",
       "      <th>map</th>\n",
       "      <th>mrr</th>\n",
       "      <th>avg_sr</th>\n",
       "      <th>avg_ndcg</th>\n",
       "      <th>avg_p3</th>\n",
       "    </tr>\n",
       "  </thead>\n",
       "  <tbody>\n",
       "    <tr>\n",
       "      <th>BERT_sim_mbert_lhsAvg_cat</th>\n",
       "      <td>0.0</td>\n",
       "      <td>0.0</td>\n",
       "      <td>0.0</td>\n",
       "      <td>0.0</td>\n",
       "      <td>0.0</td>\n",
       "    </tr>\n",
       "  </tbody>\n",
       "</table>\n",
       "</div>"
      ],
      "text/plain": [
       "                           map  mrr  avg_sr  avg_ndcg  avg_p3\n",
       "BERT_sim_mbert_lhsAvg_cat  0.0  0.0     0.0       0.0     0.0"
      ]
     },
     "execution_count": 34,
     "metadata": {},
     "output_type": "execute_result"
    }
   ],
   "source": [
    "pd.DataFrame(calc_metrics(df1),index=df1.Model_name.unique())"
   ]
  },
  {
   "cell_type": "code",
   "execution_count": 38,
   "metadata": {
    "hidden": true
   },
   "outputs": [
    {
     "data": {
      "text/html": [
       "<div>\n",
       "<style scoped>\n",
       "    .dataframe tbody tr th:only-of-type {\n",
       "        vertical-align: middle;\n",
       "    }\n",
       "\n",
       "    .dataframe tbody tr th {\n",
       "        vertical-align: top;\n",
       "    }\n",
       "\n",
       "    .dataframe thead th {\n",
       "        text-align: right;\n",
       "    }\n",
       "</style>\n",
       "<table border=\"1\" class=\"dataframe\">\n",
       "  <thead>\n",
       "    <tr style=\"text-align: right;\">\n",
       "      <th></th>\n",
       "      <th>map</th>\n",
       "      <th>mrr</th>\n",
       "      <th>avg_sr</th>\n",
       "      <th>avg_ndcg</th>\n",
       "      <th>avg_p3</th>\n",
       "    </tr>\n",
       "  </thead>\n",
       "  <tbody>\n",
       "    <tr>\n",
       "      <th>BERT_sim_mbert_lhsAvg_add_nosig</th>\n",
       "      <td>0.010082</td>\n",
       "      <td>0.016667</td>\n",
       "      <td>0.018519</td>\n",
       "      <td>0.017152</td>\n",
       "      <td>0.006173</td>\n",
       "    </tr>\n",
       "  </tbody>\n",
       "</table>\n",
       "</div>"
      ],
      "text/plain": [
       "                                      map       mrr    avg_sr  avg_ndcg  \\\n",
       "BERT_sim_mbert_lhsAvg_add_nosig  0.010082  0.016667  0.018519  0.017152   \n",
       "\n",
       "                                   avg_p3  \n",
       "BERT_sim_mbert_lhsAvg_add_nosig  0.006173  "
      ]
     },
     "execution_count": 38,
     "metadata": {},
     "output_type": "execute_result"
    }
   ],
   "source": [
    "pd.DataFrame(calc_metrics(df1),index=df1.Model_name.unique())"
   ]
  },
  {
   "cell_type": "code",
   "execution_count": 42,
   "metadata": {
    "hidden": true
   },
   "outputs": [
    {
     "data": {
      "text/html": [
       "<div>\n",
       "<style scoped>\n",
       "    .dataframe tbody tr th:only-of-type {\n",
       "        vertical-align: middle;\n",
       "    }\n",
       "\n",
       "    .dataframe tbody tr th {\n",
       "        vertical-align: top;\n",
       "    }\n",
       "\n",
       "    .dataframe thead th {\n",
       "        text-align: right;\n",
       "    }\n",
       "</style>\n",
       "<table border=\"1\" class=\"dataframe\">\n",
       "  <thead>\n",
       "    <tr style=\"text-align: right;\">\n",
       "      <th></th>\n",
       "      <th>map</th>\n",
       "      <th>mrr</th>\n",
       "      <th>avg_sr</th>\n",
       "      <th>avg_ndcg</th>\n",
       "      <th>avg_p3</th>\n",
       "    </tr>\n",
       "  </thead>\n",
       "  <tbody>\n",
       "    <tr>\n",
       "      <th>BERT_sim_mbert_lhsAvg_cos_nosig</th>\n",
       "      <td>0.150412</td>\n",
       "      <td>0.228395</td>\n",
       "      <td>0.274074</td>\n",
       "      <td>0.238129</td>\n",
       "      <td>0.116049</td>\n",
       "    </tr>\n",
       "  </tbody>\n",
       "</table>\n",
       "</div>"
      ],
      "text/plain": [
       "                                      map       mrr    avg_sr  avg_ndcg  \\\n",
       "BERT_sim_mbert_lhsAvg_cos_nosig  0.150412  0.228395  0.274074  0.238129   \n",
       "\n",
       "                                   avg_p3  \n",
       "BERT_sim_mbert_lhsAvg_cos_nosig  0.116049  "
      ]
     },
     "execution_count": 42,
     "metadata": {},
     "output_type": "execute_result"
    }
   ],
   "source": [
    "pd.DataFrame(calc_metrics(df1),index=df1.Model_name.unique())"
   ]
  },
  {
   "cell_type": "code",
   "execution_count": 18,
   "metadata": {
    "collapsed": true,
    "hidden": true
   },
   "outputs": [
    {
     "data": {
      "text/html": [
       "<div>\n",
       "<style scoped>\n",
       "    .dataframe tbody tr th:only-of-type {\n",
       "        vertical-align: middle;\n",
       "    }\n",
       "\n",
       "    .dataframe tbody tr th {\n",
       "        vertical-align: top;\n",
       "    }\n",
       "\n",
       "    .dataframe thead th {\n",
       "        text-align: right;\n",
       "    }\n",
       "</style>\n",
       "<table border=\"1\" class=\"dataframe\">\n",
       "  <thead>\n",
       "    <tr style=\"text-align: right;\">\n",
       "      <th></th>\n",
       "      <th>map</th>\n",
       "      <th>mrr</th>\n",
       "      <th>avg_sr</th>\n",
       "      <th>avg_ndcg</th>\n",
       "      <th>avg_p3</th>\n",
       "    </tr>\n",
       "  </thead>\n",
       "  <tbody>\n",
       "    <tr>\n",
       "      <th>BERT_sim_mbert_lhsAvg_cos_nosig_fullDataset_ep1</th>\n",
       "      <td>0.092181</td>\n",
       "      <td>0.13642</td>\n",
       "      <td>0.174074</td>\n",
       "      <td>0.145943</td>\n",
       "      <td>0.076543</td>\n",
       "    </tr>\n",
       "  </tbody>\n",
       "</table>\n",
       "</div>"
      ],
      "text/plain": [
       "                                                      map      mrr    avg_sr  \\\n",
       "BERT_sim_mbert_lhsAvg_cos_nosig_fullDataset_ep1  0.092181  0.13642  0.174074   \n",
       "\n",
       "                                                 avg_ndcg    avg_p3  \n",
       "BERT_sim_mbert_lhsAvg_cos_nosig_fullDataset_ep1  0.145943  0.076543  "
      ]
     },
     "execution_count": 18,
     "metadata": {},
     "output_type": "execute_result"
    }
   ],
   "source": [
    "pd.DataFrame(calc_metrics(df1),index=df1.Model_name.unique())"
   ]
  },
  {
   "cell_type": "code",
   "execution_count": 14,
   "metadata": {
    "collapsed": true,
    "hidden": true
   },
   "outputs": [
    {
     "data": {
      "text/html": [
       "<div>\n",
       "<style scoped>\n",
       "    .dataframe tbody tr th:only-of-type {\n",
       "        vertical-align: middle;\n",
       "    }\n",
       "\n",
       "    .dataframe tbody tr th {\n",
       "        vertical-align: top;\n",
       "    }\n",
       "\n",
       "    .dataframe thead th {\n",
       "        text-align: right;\n",
       "    }\n",
       "</style>\n",
       "<table border=\"1\" class=\"dataframe\">\n",
       "  <thead>\n",
       "    <tr style=\"text-align: right;\">\n",
       "      <th></th>\n",
       "      <th>map</th>\n",
       "      <th>mrr</th>\n",
       "      <th>avg_sr</th>\n",
       "      <th>avg_ndcg</th>\n",
       "      <th>avg_p3</th>\n",
       "    </tr>\n",
       "  </thead>\n",
       "  <tbody>\n",
       "    <tr>\n",
       "      <th>BERT_sim_albert_lhsAvg_cos_nosig</th>\n",
       "      <td>0.064403</td>\n",
       "      <td>0.104938</td>\n",
       "      <td>0.12963</td>\n",
       "      <td>0.110989</td>\n",
       "      <td>0.046914</td>\n",
       "    </tr>\n",
       "  </tbody>\n",
       "</table>\n",
       "</div>"
      ],
      "text/plain": [
       "                                       map       mrr   avg_sr  avg_ndcg  \\\n",
       "BERT_sim_albert_lhsAvg_cos_nosig  0.064403  0.104938  0.12963  0.110989   \n",
       "\n",
       "                                    avg_p3  \n",
       "BERT_sim_albert_lhsAvg_cos_nosig  0.046914  "
      ]
     },
     "execution_count": 14,
     "metadata": {},
     "output_type": "execute_result"
    }
   ],
   "source": [
    "pd.DataFrame(calc_metrics(df1),index=df1.Model_name.unique())"
   ]
  },
  {
   "cell_type": "code",
   "execution_count": 22,
   "metadata": {
    "collapsed": true,
    "hidden": true
   },
   "outputs": [
    {
     "data": {
      "text/html": [
       "<div>\n",
       "<style scoped>\n",
       "    .dataframe tbody tr th:only-of-type {\n",
       "        vertical-align: middle;\n",
       "    }\n",
       "\n",
       "    .dataframe tbody tr th {\n",
       "        vertical-align: top;\n",
       "    }\n",
       "\n",
       "    .dataframe thead th {\n",
       "        text-align: right;\n",
       "    }\n",
       "</style>\n",
       "<table border=\"1\" class=\"dataframe\">\n",
       "  <thead>\n",
       "    <tr style=\"text-align: right;\">\n",
       "      <th></th>\n",
       "      <th>map</th>\n",
       "      <th>mrr</th>\n",
       "      <th>avg_sr</th>\n",
       "      <th>avg_ndcg</th>\n",
       "      <th>avg_p3</th>\n",
       "    </tr>\n",
       "  </thead>\n",
       "  <tbody>\n",
       "    <tr>\n",
       "      <th>BERT_sim_muril_lhsAvg_cos_nosig</th>\n",
       "      <td>0.062757</td>\n",
       "      <td>0.1</td>\n",
       "      <td>0.12963</td>\n",
       "      <td>0.107286</td>\n",
       "      <td>0.049383</td>\n",
       "    </tr>\n",
       "  </tbody>\n",
       "</table>\n",
       "</div>"
      ],
      "text/plain": [
       "                                      map  mrr   avg_sr  avg_ndcg    avg_p3\n",
       "BERT_sim_muril_lhsAvg_cos_nosig  0.062757  0.1  0.12963  0.107286  0.049383"
      ]
     },
     "execution_count": 22,
     "metadata": {},
     "output_type": "execute_result"
    }
   ],
   "source": [
    "pd.DataFrame(calc_metrics(df1),index=df1.Model_name.unique())"
   ]
  },
  {
   "cell_type": "code",
   "execution_count": 26,
   "metadata": {
    "collapsed": true,
    "hidden": true
   },
   "outputs": [
    {
     "data": {
      "text/html": [
       "<div>\n",
       "<style scoped>\n",
       "    .dataframe tbody tr th:only-of-type {\n",
       "        vertical-align: middle;\n",
       "    }\n",
       "\n",
       "    .dataframe tbody tr th {\n",
       "        vertical-align: top;\n",
       "    }\n",
       "\n",
       "    .dataframe thead th {\n",
       "        text-align: right;\n",
       "    }\n",
       "</style>\n",
       "<table border=\"1\" class=\"dataframe\">\n",
       "  <thead>\n",
       "    <tr style=\"text-align: right;\">\n",
       "      <th></th>\n",
       "      <th>map</th>\n",
       "      <th>mrr</th>\n",
       "      <th>avg_sr</th>\n",
       "      <th>avg_ndcg</th>\n",
       "      <th>avg_p3</th>\n",
       "    </tr>\n",
       "  </thead>\n",
       "  <tbody>\n",
       "    <tr>\n",
       "      <th>BERT_sim_mbert_uncased_lhsAvg_cos_nosig</th>\n",
       "      <td>0.136008</td>\n",
       "      <td>0.206173</td>\n",
       "      <td>0.248148</td>\n",
       "      <td>0.216204</td>\n",
       "      <td>0.106173</td>\n",
       "    </tr>\n",
       "  </tbody>\n",
       "</table>\n",
       "</div>"
      ],
      "text/plain": [
       "                                              map       mrr    avg_sr  \\\n",
       "BERT_sim_mbert_uncased_lhsAvg_cos_nosig  0.136008  0.206173  0.248148   \n",
       "\n",
       "                                         avg_ndcg    avg_p3  \n",
       "BERT_sim_mbert_uncased_lhsAvg_cos_nosig  0.216204  0.106173  "
      ]
     },
     "execution_count": 26,
     "metadata": {},
     "output_type": "execute_result"
    }
   ],
   "source": [
    "pd.DataFrame(calc_metrics(df1),index=df1.Model_name.unique())"
   ]
  },
  {
   "cell_type": "code",
   "execution_count": 30,
   "metadata": {
    "collapsed": true,
    "hidden": true
   },
   "outputs": [
    {
     "data": {
      "text/html": [
       "<div>\n",
       "<style scoped>\n",
       "    .dataframe tbody tr th:only-of-type {\n",
       "        vertical-align: middle;\n",
       "    }\n",
       "\n",
       "    .dataframe tbody tr th {\n",
       "        vertical-align: top;\n",
       "    }\n",
       "\n",
       "    .dataframe thead th {\n",
       "        text-align: right;\n",
       "    }\n",
       "</style>\n",
       "<table border=\"1\" class=\"dataframe\">\n",
       "  <thead>\n",
       "    <tr style=\"text-align: right;\">\n",
       "      <th></th>\n",
       "      <th>map</th>\n",
       "      <th>mrr</th>\n",
       "      <th>avg_sr</th>\n",
       "      <th>avg_ndcg</th>\n",
       "      <th>avg_p3</th>\n",
       "    </tr>\n",
       "  </thead>\n",
       "  <tbody>\n",
       "    <tr>\n",
       "      <th>BERT_sim_mbert_lhsAvg_cos_nosig_best</th>\n",
       "      <td>0.079424</td>\n",
       "      <td>0.120988</td>\n",
       "      <td>0.140741</td>\n",
       "      <td>0.124846</td>\n",
       "      <td>0.060494</td>\n",
       "    </tr>\n",
       "  </tbody>\n",
       "</table>\n",
       "</div>"
      ],
      "text/plain": [
       "                                           map       mrr    avg_sr  avg_ndcg  \\\n",
       "BERT_sim_mbert_lhsAvg_cos_nosig_best  0.079424  0.120988  0.140741  0.124846   \n",
       "\n",
       "                                        avg_p3  \n",
       "BERT_sim_mbert_lhsAvg_cos_nosig_best  0.060494  "
      ]
     },
     "execution_count": 30,
     "metadata": {},
     "output_type": "execute_result"
    }
   ],
   "source": [
    "pd.DataFrame(calc_metrics(df1),index=df1.Model_name.unique())"
   ]
  },
  {
   "cell_type": "code",
   "execution_count": 34,
   "metadata": {
    "collapsed": true,
    "hidden": true
   },
   "outputs": [
    {
     "data": {
      "text/html": [
       "<div>\n",
       "<style scoped>\n",
       "    .dataframe tbody tr th:only-of-type {\n",
       "        vertical-align: middle;\n",
       "    }\n",
       "\n",
       "    .dataframe tbody tr th {\n",
       "        vertical-align: top;\n",
       "    }\n",
       "\n",
       "    .dataframe thead th {\n",
       "        text-align: right;\n",
       "    }\n",
       "</style>\n",
       "<table border=\"1\" class=\"dataframe\">\n",
       "  <thead>\n",
       "    <tr style=\"text-align: right;\">\n",
       "      <th></th>\n",
       "      <th>map</th>\n",
       "      <th>mrr</th>\n",
       "      <th>avg_sr</th>\n",
       "      <th>avg_ndcg</th>\n",
       "      <th>avg_p3</th>\n",
       "    </tr>\n",
       "  </thead>\n",
       "  <tbody>\n",
       "    <tr>\n",
       "      <th>BERT_sim_mbert_lhsAvg_cos_nosig_final</th>\n",
       "      <td>0.079424</td>\n",
       "      <td>0.120988</td>\n",
       "      <td>0.140741</td>\n",
       "      <td>0.124846</td>\n",
       "      <td>0.060494</td>\n",
       "    </tr>\n",
       "  </tbody>\n",
       "</table>\n",
       "</div>"
      ],
      "text/plain": [
       "                                            map       mrr    avg_sr  avg_ndcg  \\\n",
       "BERT_sim_mbert_lhsAvg_cos_nosig_final  0.079424  0.120988  0.140741  0.124846   \n",
       "\n",
       "                                         avg_p3  \n",
       "BERT_sim_mbert_lhsAvg_cos_nosig_final  0.060494  "
      ]
     },
     "execution_count": 34,
     "metadata": {},
     "output_type": "execute_result"
    }
   ],
   "source": [
    "pd.DataFrame(calc_metrics(df1),index=df1.Model_name.unique())"
   ]
  },
  {
   "cell_type": "code",
   "execution_count": 50,
   "metadata": {
    "hidden": true
   },
   "outputs": [
    {
     "data": {
      "text/html": [
       "<div>\n",
       "<style scoped>\n",
       "    .dataframe tbody tr th:only-of-type {\n",
       "        vertical-align: middle;\n",
       "    }\n",
       "\n",
       "    .dataframe tbody tr th {\n",
       "        vertical-align: top;\n",
       "    }\n",
       "\n",
       "    .dataframe thead th {\n",
       "        text-align: right;\n",
       "    }\n",
       "</style>\n",
       "<table border=\"1\" class=\"dataframe\">\n",
       "  <thead>\n",
       "    <tr style=\"text-align: right;\">\n",
       "      <th></th>\n",
       "      <th>map</th>\n",
       "      <th>mrr</th>\n",
       "      <th>avg_sr</th>\n",
       "      <th>avg_ndcg</th>\n",
       "      <th>avg_p3</th>\n",
       "    </tr>\n",
       "  </thead>\n",
       "  <tbody>\n",
       "    <tr>\n",
       "      <th>BERT_sim_mbert_cls_cat_nosig</th>\n",
       "      <td>0.0</td>\n",
       "      <td>0.0</td>\n",
       "      <td>0.0</td>\n",
       "      <td>0.0</td>\n",
       "      <td>0.0</td>\n",
       "    </tr>\n",
       "  </tbody>\n",
       "</table>\n",
       "</div>"
      ],
      "text/plain": [
       "                              map  mrr  avg_sr  avg_ndcg  avg_p3\n",
       "BERT_sim_mbert_cls_cat_nosig  0.0  0.0     0.0       0.0     0.0"
      ]
     },
     "execution_count": 50,
     "metadata": {},
     "output_type": "execute_result"
    }
   ],
   "source": [
    "pd.DataFrame(calc_metrics(df1),index=df1.Model_name.unique())"
   ]
  },
  {
   "cell_type": "code",
   "execution_count": 46,
   "metadata": {
    "hidden": true
   },
   "outputs": [
    {
     "data": {
      "text/html": [
       "<div>\n",
       "<style scoped>\n",
       "    .dataframe tbody tr th:only-of-type {\n",
       "        vertical-align: middle;\n",
       "    }\n",
       "\n",
       "    .dataframe tbody tr th {\n",
       "        vertical-align: top;\n",
       "    }\n",
       "\n",
       "    .dataframe thead th {\n",
       "        text-align: right;\n",
       "    }\n",
       "</style>\n",
       "<table border=\"1\" class=\"dataframe\">\n",
       "  <thead>\n",
       "    <tr style=\"text-align: right;\">\n",
       "      <th></th>\n",
       "      <th>map</th>\n",
       "      <th>mrr</th>\n",
       "      <th>avg_sr</th>\n",
       "      <th>avg_ndcg</th>\n",
       "      <th>avg_p3</th>\n",
       "    </tr>\n",
       "  </thead>\n",
       "  <tbody>\n",
       "    <tr>\n",
       "      <th>BERT_sim_mbert_lhsAvg_cat_nosig</th>\n",
       "      <td>0.0</td>\n",
       "      <td>0.0</td>\n",
       "      <td>0.0</td>\n",
       "      <td>0.0</td>\n",
       "      <td>0.0</td>\n",
       "    </tr>\n",
       "  </tbody>\n",
       "</table>\n",
       "</div>"
      ],
      "text/plain": [
       "                                 map  mrr  avg_sr  avg_ndcg  avg_p3\n",
       "BERT_sim_mbert_lhsAvg_cat_nosig  0.0  0.0     0.0       0.0     0.0"
      ]
     },
     "execution_count": 46,
     "metadata": {},
     "output_type": "execute_result"
    }
   ],
   "source": [
    "pd.DataFrame(calc_metrics(df1),index=df1.Model_name.unique())"
   ]
  },
  {
   "cell_type": "code",
   "execution_count": 58,
   "metadata": {
    "hidden": true
   },
   "outputs": [
    {
     "data": {
      "text/html": [
       "<div>\n",
       "<style scoped>\n",
       "    .dataframe tbody tr th:only-of-type {\n",
       "        vertical-align: middle;\n",
       "    }\n",
       "\n",
       "    .dataframe tbody tr th {\n",
       "        vertical-align: top;\n",
       "    }\n",
       "\n",
       "    .dataframe thead th {\n",
       "        text-align: right;\n",
       "    }\n",
       "</style>\n",
       "<table border=\"1\" class=\"dataframe\">\n",
       "  <thead>\n",
       "    <tr style=\"text-align: right;\">\n",
       "      <th></th>\n",
       "      <th>map</th>\n",
       "      <th>mrr</th>\n",
       "      <th>avg_sr</th>\n",
       "      <th>avg_ndcg</th>\n",
       "      <th>avg_p3</th>\n",
       "    </tr>\n",
       "  </thead>\n",
       "  <tbody>\n",
       "    <tr>\n",
       "      <th>BERT_sim_mbert_first_two_cat_nosig</th>\n",
       "      <td>0.0</td>\n",
       "      <td>0.0</td>\n",
       "      <td>0.0</td>\n",
       "      <td>0.0</td>\n",
       "      <td>0.0</td>\n",
       "    </tr>\n",
       "  </tbody>\n",
       "</table>\n",
       "</div>"
      ],
      "text/plain": [
       "                                    map  mrr  avg_sr  avg_ndcg  avg_p3\n",
       "BERT_sim_mbert_first_two_cat_nosig  0.0  0.0     0.0       0.0     0.0"
      ]
     },
     "execution_count": 58,
     "metadata": {},
     "output_type": "execute_result"
    }
   ],
   "source": [
    "pd.DataFrame(calc_metrics(df1),index=df1.Model_name.unique())"
   ]
  },
  {
   "cell_type": "code",
   "execution_count": 6,
   "metadata": {
    "hidden": true
   },
   "outputs": [
    {
     "data": {
      "text/html": [
       "<div>\n",
       "<style scoped>\n",
       "    .dataframe tbody tr th:only-of-type {\n",
       "        vertical-align: middle;\n",
       "    }\n",
       "\n",
       "    .dataframe tbody tr th {\n",
       "        vertical-align: top;\n",
       "    }\n",
       "\n",
       "    .dataframe thead th {\n",
       "        text-align: right;\n",
       "    }\n",
       "</style>\n",
       "<table border=\"1\" class=\"dataframe\">\n",
       "  <thead>\n",
       "    <tr style=\"text-align: right;\">\n",
       "      <th></th>\n",
       "      <th>map</th>\n",
       "      <th>mrr</th>\n",
       "      <th>avg_sr</th>\n",
       "      <th>avg_ndcg</th>\n",
       "      <th>avg_p3</th>\n",
       "    </tr>\n",
       "  </thead>\n",
       "  <tbody>\n",
       "    <tr>\n",
       "      <th>BERT_sim_mbert_cls_add_nosig</th>\n",
       "      <td>0.004527</td>\n",
       "      <td>0.007407</td>\n",
       "      <td>0.007407</td>\n",
       "      <td>0.007407</td>\n",
       "      <td>0.002469</td>\n",
       "    </tr>\n",
       "  </tbody>\n",
       "</table>\n",
       "</div>"
      ],
      "text/plain": [
       "                                   map       mrr    avg_sr  avg_ndcg    avg_p3\n",
       "BERT_sim_mbert_cls_add_nosig  0.004527  0.007407  0.007407  0.007407  0.002469"
      ]
     },
     "execution_count": 6,
     "metadata": {},
     "output_type": "execute_result"
    }
   ],
   "source": [
    "pd.DataFrame(calc_metrics(df1),index=df1.Model_name.unique())"
   ]
  },
  {
   "cell_type": "code",
   "execution_count": 10,
   "metadata": {
    "hidden": true
   },
   "outputs": [
    {
     "data": {
      "text/html": [
       "<div>\n",
       "<style scoped>\n",
       "    .dataframe tbody tr th:only-of-type {\n",
       "        vertical-align: middle;\n",
       "    }\n",
       "\n",
       "    .dataframe tbody tr th {\n",
       "        vertical-align: top;\n",
       "    }\n",
       "\n",
       "    .dataframe thead th {\n",
       "        text-align: right;\n",
       "    }\n",
       "</style>\n",
       "<table border=\"1\" class=\"dataframe\">\n",
       "  <thead>\n",
       "    <tr style=\"text-align: right;\">\n",
       "      <th></th>\n",
       "      <th>map</th>\n",
       "      <th>mrr</th>\n",
       "      <th>avg_sr</th>\n",
       "      <th>avg_ndcg</th>\n",
       "      <th>avg_p3</th>\n",
       "    </tr>\n",
       "  </thead>\n",
       "  <tbody>\n",
       "    <tr>\n",
       "      <th>BERT_sim_mbert_first_two_add_nosig</th>\n",
       "      <td>0.002263</td>\n",
       "      <td>0.003704</td>\n",
       "      <td>0.003704</td>\n",
       "      <td>0.003704</td>\n",
       "      <td>0.001235</td>\n",
       "    </tr>\n",
       "  </tbody>\n",
       "</table>\n",
       "</div>"
      ],
      "text/plain": [
       "                                         map       mrr    avg_sr  avg_ndcg  \\\n",
       "BERT_sim_mbert_first_two_add_nosig  0.002263  0.003704  0.003704  0.003704   \n",
       "\n",
       "                                      avg_p3  \n",
       "BERT_sim_mbert_first_two_add_nosig  0.001235  "
      ]
     },
     "execution_count": 10,
     "metadata": {},
     "output_type": "execute_result"
    }
   ],
   "source": [
    "pd.DataFrame(calc_metrics(df1),index=df1.Model_name.unique())"
   ]
  },
  {
   "cell_type": "code",
   "execution_count": 14,
   "metadata": {
    "hidden": true
   },
   "outputs": [
    {
     "data": {
      "text/html": [
       "<div>\n",
       "<style scoped>\n",
       "    .dataframe tbody tr th:only-of-type {\n",
       "        vertical-align: middle;\n",
       "    }\n",
       "\n",
       "    .dataframe tbody tr th {\n",
       "        vertical-align: top;\n",
       "    }\n",
       "\n",
       "    .dataframe thead th {\n",
       "        text-align: right;\n",
       "    }\n",
       "</style>\n",
       "<table border=\"1\" class=\"dataframe\">\n",
       "  <thead>\n",
       "    <tr style=\"text-align: right;\">\n",
       "      <th></th>\n",
       "      <th>map</th>\n",
       "      <th>mrr</th>\n",
       "      <th>avg_sr</th>\n",
       "      <th>avg_ndcg</th>\n",
       "      <th>avg_p3</th>\n",
       "    </tr>\n",
       "  </thead>\n",
       "  <tbody>\n",
       "    <tr>\n",
       "      <th>BERT_sim_mbert_pool_add_nosig</th>\n",
       "      <td>0.003292</td>\n",
       "      <td>0.005556</td>\n",
       "      <td>0.007407</td>\n",
       "      <td>0.00604</td>\n",
       "      <td>0.002469</td>\n",
       "    </tr>\n",
       "  </tbody>\n",
       "</table>\n",
       "</div>"
      ],
      "text/plain": [
       "                                    map       mrr    avg_sr  avg_ndcg  \\\n",
       "BERT_sim_mbert_pool_add_nosig  0.003292  0.005556  0.007407   0.00604   \n",
       "\n",
       "                                 avg_p3  \n",
       "BERT_sim_mbert_pool_add_nosig  0.002469  "
      ]
     },
     "execution_count": 14,
     "metadata": {},
     "output_type": "execute_result"
    }
   ],
   "source": [
    "pd.DataFrame(calc_metrics(df1),index=df1.Model_name.unique())"
   ]
  },
  {
   "cell_type": "code",
   "execution_count": null,
   "metadata": {
    "hidden": true
   },
   "outputs": [],
   "source": []
  },
  {
   "cell_type": "code",
   "execution_count": null,
   "metadata": {
    "hidden": true
   },
   "outputs": [],
   "source": []
  },
  {
   "cell_type": "code",
   "execution_count": 18,
   "metadata": {
    "hidden": true
   },
   "outputs": [
    {
     "data": {
      "text/html": [
       "<div>\n",
       "<style scoped>\n",
       "    .dataframe tbody tr th:only-of-type {\n",
       "        vertical-align: middle;\n",
       "    }\n",
       "\n",
       "    .dataframe tbody tr th {\n",
       "        vertical-align: top;\n",
       "    }\n",
       "\n",
       "    .dataframe thead th {\n",
       "        text-align: right;\n",
       "    }\n",
       "</style>\n",
       "<table border=\"1\" class=\"dataframe\">\n",
       "  <thead>\n",
       "    <tr style=\"text-align: right;\">\n",
       "      <th></th>\n",
       "      <th>map</th>\n",
       "      <th>mrr</th>\n",
       "      <th>avg_sr</th>\n",
       "      <th>avg_ndcg</th>\n",
       "      <th>avg_p3</th>\n",
       "    </tr>\n",
       "  </thead>\n",
       "  <tbody>\n",
       "    <tr>\n",
       "      <th>BERT_sim_mbert_rand_neg</th>\n",
       "      <td>0.002263</td>\n",
       "      <td>0.003704</td>\n",
       "      <td>0.003704</td>\n",
       "      <td>0.003704</td>\n",
       "      <td>0.001235</td>\n",
       "    </tr>\n",
       "  </tbody>\n",
       "</table>\n",
       "</div>"
      ],
      "text/plain": [
       "                              map       mrr    avg_sr  avg_ndcg    avg_p3\n",
       "BERT_sim_mbert_rand_neg  0.002263  0.003704  0.003704  0.003704  0.001235"
      ]
     },
     "execution_count": 18,
     "metadata": {},
     "output_type": "execute_result"
    }
   ],
   "source": [
    "pd.DataFrame(calc_metrics(df1),index=df1.Model_name.unique())"
   ]
  },
  {
   "cell_type": "code",
   "execution_count": 23,
   "metadata": {
    "hidden": true
   },
   "outputs": [
    {
     "data": {
      "text/html": [
       "<div>\n",
       "<style scoped>\n",
       "    .dataframe tbody tr th:only-of-type {\n",
       "        vertical-align: middle;\n",
       "    }\n",
       "\n",
       "    .dataframe tbody tr th {\n",
       "        vertical-align: top;\n",
       "    }\n",
       "\n",
       "    .dataframe thead th {\n",
       "        text-align: right;\n",
       "    }\n",
       "</style>\n",
       "<table border=\"1\" class=\"dataframe\">\n",
       "  <thead>\n",
       "    <tr style=\"text-align: right;\">\n",
       "      <th></th>\n",
       "      <th>map</th>\n",
       "      <th>mrr</th>\n",
       "      <th>avg_sr</th>\n",
       "      <th>avg_ndcg</th>\n",
       "      <th>avg_p3</th>\n",
       "    </tr>\n",
       "  </thead>\n",
       "  <tbody>\n",
       "    <tr>\n",
       "      <th>BERT_sim_mbert_33k</th>\n",
       "      <td>0.000412</td>\n",
       "      <td>0.001235</td>\n",
       "      <td>0.003704</td>\n",
       "      <td>0.001852</td>\n",
       "      <td>0.001235</td>\n",
       "    </tr>\n",
       "  </tbody>\n",
       "</table>\n",
       "</div>"
      ],
      "text/plain": [
       "                         map       mrr    avg_sr  avg_ndcg    avg_p3\n",
       "BERT_sim_mbert_33k  0.000412  0.001235  0.003704  0.001852  0.001235"
      ]
     },
     "execution_count": 23,
     "metadata": {},
     "output_type": "execute_result"
    }
   ],
   "source": [
    "pd.DataFrame(calc_metrics(df1),index=df1.Model_name.unique())"
   ]
  },
  {
   "cell_type": "code",
   "execution_count": 27,
   "metadata": {
    "hidden": true
   },
   "outputs": [
    {
     "data": {
      "text/html": [
       "<div>\n",
       "<style scoped>\n",
       "    .dataframe tbody tr th:only-of-type {\n",
       "        vertical-align: middle;\n",
       "    }\n",
       "\n",
       "    .dataframe tbody tr th {\n",
       "        vertical-align: top;\n",
       "    }\n",
       "\n",
       "    .dataframe thead th {\n",
       "        text-align: right;\n",
       "    }\n",
       "</style>\n",
       "<table border=\"1\" class=\"dataframe\">\n",
       "  <thead>\n",
       "    <tr style=\"text-align: right;\">\n",
       "      <th></th>\n",
       "      <th>map</th>\n",
       "      <th>mrr</th>\n",
       "      <th>avg_sr</th>\n",
       "      <th>avg_ndcg</th>\n",
       "      <th>avg_p3</th>\n",
       "    </tr>\n",
       "  </thead>\n",
       "  <tbody>\n",
       "    <tr>\n",
       "      <th>BERT_sim_indic_bert_rand_neg</th>\n",
       "      <td>0.002675</td>\n",
       "      <td>0.004938</td>\n",
       "      <td>0.007407</td>\n",
       "      <td>0.005556</td>\n",
       "      <td>0.002469</td>\n",
       "    </tr>\n",
       "  </tbody>\n",
       "</table>\n",
       "</div>"
      ],
      "text/plain": [
       "                                   map       mrr    avg_sr  avg_ndcg    avg_p3\n",
       "BERT_sim_indic_bert_rand_neg  0.002675  0.004938  0.007407  0.005556  0.002469"
      ]
     },
     "execution_count": 27,
     "metadata": {},
     "output_type": "execute_result"
    }
   ],
   "source": [
    "pd.DataFrame(calc_metrics(df1),index=df1.Model_name.unique())"
   ]
  },
  {
   "cell_type": "code",
   "execution_count": 30,
   "metadata": {
    "hidden": true
   },
   "outputs": [
    {
     "data": {
      "text/html": [
       "<div>\n",
       "<style scoped>\n",
       "    .dataframe tbody tr th:only-of-type {\n",
       "        vertical-align: middle;\n",
       "    }\n",
       "\n",
       "    .dataframe tbody tr th {\n",
       "        vertical-align: top;\n",
       "    }\n",
       "\n",
       "    .dataframe thead th {\n",
       "        text-align: right;\n",
       "    }\n",
       "</style>\n",
       "<table border=\"1\" class=\"dataframe\">\n",
       "  <thead>\n",
       "    <tr style=\"text-align: right;\">\n",
       "      <th></th>\n",
       "      <th>map</th>\n",
       "      <th>mrr</th>\n",
       "      <th>avg_sr</th>\n",
       "      <th>avg_ndcg</th>\n",
       "      <th>avg_p3</th>\n",
       "    </tr>\n",
       "  </thead>\n",
       "  <tbody>\n",
       "    <tr>\n",
       "      <th>BERT_sim_muril_rand_neg</th>\n",
       "      <td>0.001852</td>\n",
       "      <td>0.004321</td>\n",
       "      <td>0.011111</td>\n",
       "      <td>0.00604</td>\n",
       "      <td>0.003704</td>\n",
       "    </tr>\n",
       "  </tbody>\n",
       "</table>\n",
       "</div>"
      ],
      "text/plain": [
       "                              map       mrr    avg_sr  avg_ndcg    avg_p3\n",
       "BERT_sim_muril_rand_neg  0.001852  0.004321  0.011111   0.00604  0.003704"
      ]
     },
     "execution_count": 30,
     "metadata": {},
     "output_type": "execute_result"
    }
   ],
   "source": [
    "pd.DataFrame(calc_metrics(df1),index=df1.Model_name.unique())"
   ]
  },
  {
   "cell_type": "code",
   "execution_count": 6,
   "metadata": {
    "hidden": true
   },
   "outputs": [
    {
     "data": {
      "text/html": [
       "<div>\n",
       "<style scoped>\n",
       "    .dataframe tbody tr th:only-of-type {\n",
       "        vertical-align: middle;\n",
       "    }\n",
       "\n",
       "    .dataframe tbody tr th {\n",
       "        vertical-align: top;\n",
       "    }\n",
       "\n",
       "    .dataframe thead th {\n",
       "        text-align: right;\n",
       "    }\n",
       "</style>\n",
       "<table border=\"1\" class=\"dataframe\">\n",
       "  <thead>\n",
       "    <tr style=\"text-align: right;\">\n",
       "      <th></th>\n",
       "      <th>map</th>\n",
       "      <th>mrr</th>\n",
       "      <th>avg_sr</th>\n",
       "      <th>avg_ndcg</th>\n",
       "      <th>avg_p3</th>\n",
       "    </tr>\n",
       "  </thead>\n",
       "  <tbody>\n",
       "    <tr>\n",
       "      <th>BERT_sim_mbert_df.h5</th>\n",
       "      <td>0.0</td>\n",
       "      <td>0.0</td>\n",
       "      <td>0.0</td>\n",
       "      <td>0.0</td>\n",
       "      <td>0.0</td>\n",
       "    </tr>\n",
       "  </tbody>\n",
       "</table>\n",
       "</div>"
      ],
      "text/plain": [
       "                      map  mrr  avg_sr  avg_ndcg  avg_p3\n",
       "BERT_sim_mbert_df.h5  0.0  0.0     0.0       0.0     0.0"
      ]
     },
     "execution_count": 6,
     "metadata": {},
     "output_type": "execute_result"
    }
   ],
   "source": [
    "pd.DataFrame(calc_metrics(df1),index=df1.Model_name.unique())"
   ]
  },
  {
   "cell_type": "code",
   "execution_count": 6,
   "metadata": {
    "hidden": true
   },
   "outputs": [
    {
     "data": {
      "text/html": [
       "<div>\n",
       "<style scoped>\n",
       "    .dataframe tbody tr th:only-of-type {\n",
       "        vertical-align: middle;\n",
       "    }\n",
       "\n",
       "    .dataframe tbody tr th {\n",
       "        vertical-align: top;\n",
       "    }\n",
       "\n",
       "    .dataframe thead th {\n",
       "        text-align: right;\n",
       "    }\n",
       "</style>\n",
       "<table border=\"1\" class=\"dataframe\">\n",
       "  <thead>\n",
       "    <tr style=\"text-align: right;\">\n",
       "      <th></th>\n",
       "      <th>map</th>\n",
       "      <th>mrr</th>\n",
       "      <th>avg_sr</th>\n",
       "      <th>avg_ndcg</th>\n",
       "      <th>avg_p3</th>\n",
       "    </tr>\n",
       "  </thead>\n",
       "  <tbody>\n",
       "    <tr>\n",
       "      <th>BERT_sim_mbert_exp6_epoch0</th>\n",
       "      <td>0.003704</td>\n",
       "      <td>0.00679</td>\n",
       "      <td>0.011111</td>\n",
       "      <td>0.007892</td>\n",
       "      <td>0.003704</td>\n",
       "    </tr>\n",
       "  </tbody>\n",
       "</table>\n",
       "</div>"
      ],
      "text/plain": [
       "                                 map      mrr    avg_sr  avg_ndcg    avg_p3\n",
       "BERT_sim_mbert_exp6_epoch0  0.003704  0.00679  0.011111  0.007892  0.003704"
      ]
     },
     "execution_count": 6,
     "metadata": {},
     "output_type": "execute_result"
    }
   ],
   "source": [
    "pd.DataFrame(calc_metrics(df1),index=df1.Model_name.unique())"
   ]
  },
  {
   "cell_type": "code",
   "execution_count": 11,
   "metadata": {
    "hidden": true
   },
   "outputs": [
    {
     "data": {
      "text/html": [
       "<div>\n",
       "<style scoped>\n",
       "    .dataframe tbody tr th:only-of-type {\n",
       "        vertical-align: middle;\n",
       "    }\n",
       "\n",
       "    .dataframe tbody tr th {\n",
       "        vertical-align: top;\n",
       "    }\n",
       "\n",
       "    .dataframe thead th {\n",
       "        text-align: right;\n",
       "    }\n",
       "</style>\n",
       "<table border=\"1\" class=\"dataframe\">\n",
       "  <thead>\n",
       "    <tr style=\"text-align: right;\">\n",
       "      <th></th>\n",
       "      <th>map</th>\n",
       "      <th>mrr</th>\n",
       "      <th>avg_sr</th>\n",
       "      <th>avg_ndcg</th>\n",
       "      <th>avg_p3</th>\n",
       "    </tr>\n",
       "  </thead>\n",
       "  <tbody>\n",
       "    <tr>\n",
       "      <th>BERT_sim_mbert_exp6_epoch_last</th>\n",
       "      <td>0.0</td>\n",
       "      <td>0.0</td>\n",
       "      <td>0.0</td>\n",
       "      <td>0.0</td>\n",
       "      <td>0.0</td>\n",
       "    </tr>\n",
       "  </tbody>\n",
       "</table>\n",
       "</div>"
      ],
      "text/plain": [
       "                                map  mrr  avg_sr  avg_ndcg  avg_p3\n",
       "BERT_sim_mbert_exp6_epoch_last  0.0  0.0     0.0       0.0     0.0"
      ]
     },
     "execution_count": 11,
     "metadata": {},
     "output_type": "execute_result"
    }
   ],
   "source": [
    "pd.DataFrame(calc_metrics(df1),index=df1.Model_name.unique())"
   ]
  },
  {
   "cell_type": "markdown",
   "metadata": {
    "heading_collapsed": true,
    "hidden": true
   },
   "source": [
    "## BERT_cos"
   ]
  },
  {
   "cell_type": "code",
   "execution_count": 114,
   "metadata": {
    "collapsed": true,
    "hidden": true
   },
   "outputs": [
    {
     "data": {
      "text/html": [
       "<div>\n",
       "<style scoped>\n",
       "    .dataframe tbody tr th:only-of-type {\n",
       "        vertical-align: middle;\n",
       "    }\n",
       "\n",
       "    .dataframe tbody tr th {\n",
       "        vertical-align: top;\n",
       "    }\n",
       "\n",
       "    .dataframe thead th {\n",
       "        text-align: right;\n",
       "    }\n",
       "</style>\n",
       "<table border=\"1\" class=\"dataframe\">\n",
       "  <thead>\n",
       "    <tr style=\"text-align: right;\">\n",
       "      <th></th>\n",
       "      <th>map</th>\n",
       "      <th>mrr</th>\n",
       "      <th>avg_sr</th>\n",
       "      <th>avg_ndcg</th>\n",
       "      <th>avg_p3</th>\n",
       "    </tr>\n",
       "  </thead>\n",
       "  <tbody>\n",
       "    <tr>\n",
       "      <th>BERT_cos_added_words</th>\n",
       "      <td>0.329483</td>\n",
       "      <td>0.459571</td>\n",
       "      <td>0.559406</td>\n",
       "      <td>0.48107</td>\n",
       "      <td>0.285479</td>\n",
       "    </tr>\n",
       "  </tbody>\n",
       "</table>\n",
       "</div>"
      ],
      "text/plain": [
       "                           map       mrr    avg_sr  avg_ndcg    avg_p3\n",
       "BERT_cos_added_words  0.329483  0.459571  0.559406   0.48107  0.285479"
      ]
     },
     "execution_count": 114,
     "metadata": {},
     "output_type": "execute_result"
    }
   ],
   "source": [
    "# pruned 1\n",
    "pd.DataFrame(calc_metrics(df1),index=df1.Model_name.unique())"
   ]
  },
  {
   "cell_type": "code",
   "execution_count": 59,
   "metadata": {
    "collapsed": true,
    "hidden": true
   },
   "outputs": [
    {
     "data": {
      "text/html": [
       "<div>\n",
       "<style scoped>\n",
       "    .dataframe tbody tr th:only-of-type {\n",
       "        vertical-align: middle;\n",
       "    }\n",
       "\n",
       "    .dataframe tbody tr th {\n",
       "        vertical-align: top;\n",
       "    }\n",
       "\n",
       "    .dataframe thead th {\n",
       "        text-align: right;\n",
       "    }\n",
       "</style>\n",
       "<table border=\"1\" class=\"dataframe\">\n",
       "  <thead>\n",
       "    <tr style=\"text-align: right;\">\n",
       "      <th></th>\n",
       "      <th>map</th>\n",
       "      <th>mrr</th>\n",
       "      <th>avg_sr</th>\n",
       "      <th>avg_ndcg</th>\n",
       "      <th>avg_p3</th>\n",
       "    </tr>\n",
       "  </thead>\n",
       "  <tbody>\n",
       "    <tr>\n",
       "      <th>BERT_cos_added_words</th>\n",
       "      <td>0.380117</td>\n",
       "      <td>0.516447</td>\n",
       "      <td>0.631579</td>\n",
       "      <td>0.541161</td>\n",
       "      <td>0.337719</td>\n",
       "    </tr>\n",
       "  </tbody>\n",
       "</table>\n",
       "</div>"
      ],
      "text/plain": [
       "                           map       mrr    avg_sr  avg_ndcg    avg_p3\n",
       "BERT_cos_added_words  0.380117  0.516447  0.631579  0.541161  0.337719"
      ]
     },
     "execution_count": 59,
     "metadata": {},
     "output_type": "execute_result"
    }
   ],
   "source": [
    "# pruned_2\n",
    "pd.DataFrame(calc_metrics(df1),index=df1.Model_name.unique())"
   ]
  },
  {
   "cell_type": "code",
   "execution_count": 117,
   "metadata": {
    "collapsed": true,
    "hidden": true
   },
   "outputs": [
    {
     "data": {
      "text/html": [
       "<div>\n",
       "<style scoped>\n",
       "    .dataframe tbody tr th:only-of-type {\n",
       "        vertical-align: middle;\n",
       "    }\n",
       "\n",
       "    .dataframe tbody tr th {\n",
       "        vertical-align: top;\n",
       "    }\n",
       "\n",
       "    .dataframe thead th {\n",
       "        text-align: right;\n",
       "    }\n",
       "</style>\n",
       "<table border=\"1\" class=\"dataframe\">\n",
       "  <thead>\n",
       "    <tr style=\"text-align: right;\">\n",
       "      <th></th>\n",
       "      <th>map</th>\n",
       "      <th>mrr</th>\n",
       "      <th>avg_sr</th>\n",
       "      <th>avg_ndcg</th>\n",
       "      <th>avg_p3</th>\n",
       "    </tr>\n",
       "  </thead>\n",
       "  <tbody>\n",
       "    <tr>\n",
       "      <th>BERT_cos_mpnet</th>\n",
       "      <td>0.353685</td>\n",
       "      <td>0.513201</td>\n",
       "      <td>0.633663</td>\n",
       "      <td>0.540564</td>\n",
       "      <td>0.30363</td>\n",
       "    </tr>\n",
       "  </tbody>\n",
       "</table>\n",
       "</div>"
      ],
      "text/plain": [
       "                     map       mrr    avg_sr  avg_ndcg   avg_p3\n",
       "BERT_cos_mpnet  0.353685  0.513201  0.633663  0.540564  0.30363"
      ]
     },
     "execution_count": 117,
     "metadata": {},
     "output_type": "execute_result"
    }
   ],
   "source": [
    "# pruned 1\n",
    "pd.DataFrame(calc_metrics(df1),index=df1.Model_name.unique())"
   ]
  },
  {
   "cell_type": "code",
   "execution_count": 120,
   "metadata": {
    "collapsed": true,
    "hidden": true
   },
   "outputs": [
    {
     "data": {
      "text/html": [
       "<div>\n",
       "<style scoped>\n",
       "    .dataframe tbody tr th:only-of-type {\n",
       "        vertical-align: middle;\n",
       "    }\n",
       "\n",
       "    .dataframe tbody tr th {\n",
       "        vertical-align: top;\n",
       "    }\n",
       "\n",
       "    .dataframe thead th {\n",
       "        text-align: right;\n",
       "    }\n",
       "</style>\n",
       "<table border=\"1\" class=\"dataframe\">\n",
       "  <thead>\n",
       "    <tr style=\"text-align: right;\">\n",
       "      <th></th>\n",
       "      <th>map</th>\n",
       "      <th>mrr</th>\n",
       "      <th>avg_sr</th>\n",
       "      <th>avg_ndcg</th>\n",
       "      <th>avg_p3</th>\n",
       "    </tr>\n",
       "  </thead>\n",
       "  <tbody>\n",
       "    <tr>\n",
       "      <th>BERT_cos_mpnet</th>\n",
       "      <td>0.400585</td>\n",
       "      <td>0.570175</td>\n",
       "      <td>0.703947</td>\n",
       "      <td>0.599805</td>\n",
       "      <td>0.35307</td>\n",
       "    </tr>\n",
       "  </tbody>\n",
       "</table>\n",
       "</div>"
      ],
      "text/plain": [
       "                     map       mrr    avg_sr  avg_ndcg   avg_p3\n",
       "BERT_cos_mpnet  0.400585  0.570175  0.703947  0.599805  0.35307"
      ]
     },
     "execution_count": 120,
     "metadata": {},
     "output_type": "execute_result"
    }
   ],
   "source": [
    "# pruned 2\n",
    "pd.DataFrame(calc_metrics(df1),index=df1.Model_name.unique())"
   ]
  },
  {
   "cell_type": "code",
   "execution_count": 186,
   "metadata": {
    "collapsed": true,
    "hidden": true
   },
   "outputs": [
    {
     "data": {
      "text/html": [
       "<div>\n",
       "<style scoped>\n",
       "    .dataframe tbody tr th:only-of-type {\n",
       "        vertical-align: middle;\n",
       "    }\n",
       "\n",
       "    .dataframe tbody tr th {\n",
       "        vertical-align: top;\n",
       "    }\n",
       "\n",
       "    .dataframe thead th {\n",
       "        text-align: right;\n",
       "    }\n",
       "</style>\n",
       "<table border=\"1\" class=\"dataframe\">\n",
       "  <thead>\n",
       "    <tr style=\"text-align: right;\">\n",
       "      <th></th>\n",
       "      <th>map</th>\n",
       "      <th>mrr</th>\n",
       "      <th>avg_sr</th>\n",
       "      <th>avg_ndcg</th>\n",
       "      <th>avg_p3</th>\n",
       "    </tr>\n",
       "  </thead>\n",
       "  <tbody>\n",
       "    <tr>\n",
       "      <th>BERT_cos_added_words</th>\n",
       "      <td>0.241136</td>\n",
       "      <td>0.462469</td>\n",
       "      <td>0.555556</td>\n",
       "      <td>0.432554</td>\n",
       "      <td>0.193333</td>\n",
       "    </tr>\n",
       "  </tbody>\n",
       "</table>\n",
       "</div>"
      ],
      "text/plain": [
       "                           map       mrr    avg_sr  avg_ndcg    avg_p3\n",
       "BERT_cos_added_words  0.241136  0.462469  0.555556  0.432554  0.193333"
      ]
     },
     "execution_count": 186,
     "metadata": {},
     "output_type": "execute_result"
    }
   ],
   "source": [
    "# top5\n",
    "pd.DataFrame(calc_metrics(df1),index=df1.Model_name.unique())"
   ]
  },
  {
   "cell_type": "code",
   "execution_count": 104,
   "metadata": {
    "hidden": true
   },
   "outputs": [
    {
     "data": {
      "text/html": [
       "<div>\n",
       "<style scoped>\n",
       "    .dataframe tbody tr th:only-of-type {\n",
       "        vertical-align: middle;\n",
       "    }\n",
       "\n",
       "    .dataframe tbody tr th {\n",
       "        vertical-align: top;\n",
       "    }\n",
       "\n",
       "    .dataframe thead th {\n",
       "        text-align: right;\n",
       "    }\n",
       "</style>\n",
       "<table border=\"1\" class=\"dataframe\">\n",
       "  <thead>\n",
       "    <tr style=\"text-align: right;\">\n",
       "      <th></th>\n",
       "      <th>map</th>\n",
       "      <th>mrr</th>\n",
       "      <th>avg_sr</th>\n",
       "      <th>avg_ndcg</th>\n",
       "      <th>avg_p3</th>\n",
       "    </tr>\n",
       "  </thead>\n",
       "  <tbody>\n",
       "    <tr>\n",
       "      <th>BERT_cos_mpnet</th>\n",
       "      <td>0.279835</td>\n",
       "      <td>0.410494</td>\n",
       "      <td>0.511111</td>\n",
       "      <td>0.433655</td>\n",
       "      <td>0.239506</td>\n",
       "    </tr>\n",
       "  </tbody>\n",
       "</table>\n",
       "</div>"
      ],
      "text/plain": [
       "                     map       mrr    avg_sr  avg_ndcg    avg_p3\n",
       "BERT_cos_mpnet  0.279835  0.410494  0.511111  0.433655  0.239506"
      ]
     },
     "execution_count": 104,
     "metadata": {},
     "output_type": "execute_result"
    }
   ],
   "source": [
    "# added_words\n",
    "pd.DataFrame(calc_metrics(df1),index=df1.Model_name.unique())"
   ]
  },
  {
   "cell_type": "code",
   "execution_count": 46,
   "metadata": {
    "hidden": true
   },
   "outputs": [
    {
     "data": {
      "text/html": [
       "<div>\n",
       "<style scoped>\n",
       "    .dataframe tbody tr th:only-of-type {\n",
       "        vertical-align: middle;\n",
       "    }\n",
       "\n",
       "    .dataframe tbody tr th {\n",
       "        vertical-align: top;\n",
       "    }\n",
       "\n",
       "    .dataframe thead th {\n",
       "        text-align: right;\n",
       "    }\n",
       "</style>\n",
       "<table border=\"1\" class=\"dataframe\">\n",
       "  <thead>\n",
       "    <tr style=\"text-align: right;\">\n",
       "      <th></th>\n",
       "      <th>map</th>\n",
       "      <th>mrr</th>\n",
       "      <th>avg_sr</th>\n",
       "      <th>avg_ndcg</th>\n",
       "      <th>avg_p3</th>\n",
       "    </tr>\n",
       "  </thead>\n",
       "  <tbody>\n",
       "    <tr>\n",
       "      <th>BERT_cos_mpnet_without_a_w</th>\n",
       "      <td>0.265844</td>\n",
       "      <td>0.387037</td>\n",
       "      <td>0.477778</td>\n",
       "      <td>0.40894</td>\n",
       "      <td>0.22716</td>\n",
       "    </tr>\n",
       "  </tbody>\n",
       "</table>\n",
       "</div>"
      ],
      "text/plain": [
       "                                 map       mrr    avg_sr  avg_ndcg   avg_p3\n",
       "BERT_cos_mpnet_without_a_w  0.265844  0.387037  0.477778   0.40894  0.22716"
      ]
     },
     "execution_count": 46,
     "metadata": {},
     "output_type": "execute_result"
    }
   ],
   "source": [
    "# without added_words\n",
    "pd.DataFrame(calc_metrics(df1),index=df1.Model_name.unique())"
   ]
  },
  {
   "cell_type": "code",
   "execution_count": 19,
   "metadata": {
    "collapsed": true,
    "hidden": true
   },
   "outputs": [
    {
     "data": {
      "text/html": [
       "<div>\n",
       "<style scoped>\n",
       "    .dataframe tbody tr th:only-of-type {\n",
       "        vertical-align: middle;\n",
       "    }\n",
       "\n",
       "    .dataframe tbody tr th {\n",
       "        vertical-align: top;\n",
       "    }\n",
       "\n",
       "    .dataframe thead th {\n",
       "        text-align: right;\n",
       "    }\n",
       "</style>\n",
       "<table border=\"1\" class=\"dataframe\">\n",
       "  <thead>\n",
       "    <tr style=\"text-align: right;\">\n",
       "      <th></th>\n",
       "      <th>map</th>\n",
       "      <th>mrr</th>\n",
       "      <th>avg_sr</th>\n",
       "      <th>avg_ndcg</th>\n",
       "      <th>avg_p5</th>\n",
       "    </tr>\n",
       "  </thead>\n",
       "  <tbody>\n",
       "    <tr>\n",
       "      <th>BERT_cos_added_w_mpnet</th>\n",
       "      <td>0.25316</td>\n",
       "      <td>0.48679</td>\n",
       "      <td>0.577778</td>\n",
       "      <td>0.453182</td>\n",
       "      <td>0.202222</td>\n",
       "    </tr>\n",
       "  </tbody>\n",
       "</table>\n",
       "</div>"
      ],
      "text/plain": [
       "                            map      mrr    avg_sr  avg_ndcg    avg_p5\n",
       "BERT_cos_added_w_mpnet  0.25316  0.48679  0.577778  0.453182  0.202222"
      ]
     },
     "execution_count": 19,
     "metadata": {},
     "output_type": "execute_result"
    }
   ],
   "source": [
    "# added_words\n",
    "# top5\n",
    "pd.DataFrame(calc_metrics(df1),index=df1.Model_name.unique())"
   ]
  },
  {
   "cell_type": "code",
   "execution_count": 94,
   "metadata": {
    "hidden": true
   },
   "outputs": [
    {
     "data": {
      "text/html": [
       "<div>\n",
       "<style scoped>\n",
       "    .dataframe tbody tr th:only-of-type {\n",
       "        vertical-align: middle;\n",
       "    }\n",
       "\n",
       "    .dataframe tbody tr th {\n",
       "        vertical-align: top;\n",
       "    }\n",
       "\n",
       "    .dataframe thead th {\n",
       "        text-align: right;\n",
       "    }\n",
       "</style>\n",
       "<table border=\"1\" class=\"dataframe\">\n",
       "  <thead>\n",
       "    <tr style=\"text-align: right;\">\n",
       "      <th></th>\n",
       "      <th>map</th>\n",
       "      <th>mrr</th>\n",
       "      <th>avg_sr</th>\n",
       "      <th>avg_ndcg</th>\n",
       "      <th>avg_p3</th>\n",
       "    </tr>\n",
       "  </thead>\n",
       "  <tbody>\n",
       "    <tr>\n",
       "      <th>BERT_cos_minilm</th>\n",
       "      <td>0.280041</td>\n",
       "      <td>0.385802</td>\n",
       "      <td>0.474074</td>\n",
       "      <td>0.407617</td>\n",
       "      <td>0.245679</td>\n",
       "    </tr>\n",
       "  </tbody>\n",
       "</table>\n",
       "</div>"
      ],
      "text/plain": [
       "                      map       mrr    avg_sr  avg_ndcg    avg_p3\n",
       "BERT_cos_minilm  0.280041  0.385802  0.474074  0.407617  0.245679"
      ]
     },
     "execution_count": 94,
     "metadata": {},
     "output_type": "execute_result"
    }
   ],
   "source": [
    "# added_words\n",
    "pd.DataFrame(calc_metrics(df1),index=df1.Model_name.unique())"
   ]
  },
  {
   "cell_type": "code",
   "execution_count": 65,
   "metadata": {
    "hidden": true
   },
   "outputs": [
    {
     "data": {
      "text/html": [
       "<div>\n",
       "<style scoped>\n",
       "    .dataframe tbody tr th:only-of-type {\n",
       "        vertical-align: middle;\n",
       "    }\n",
       "\n",
       "    .dataframe tbody tr th {\n",
       "        vertical-align: top;\n",
       "    }\n",
       "\n",
       "    .dataframe thead th {\n",
       "        text-align: right;\n",
       "    }\n",
       "</style>\n",
       "<table border=\"1\" class=\"dataframe\">\n",
       "  <thead>\n",
       "    <tr style=\"text-align: right;\">\n",
       "      <th></th>\n",
       "      <th>map</th>\n",
       "      <th>mrr</th>\n",
       "      <th>avg_sr</th>\n",
       "      <th>avg_ndcg</th>\n",
       "      <th>avg_p3</th>\n",
       "    </tr>\n",
       "  </thead>\n",
       "  <tbody>\n",
       "    <tr>\n",
       "      <th>BERT_cos_added_words</th>\n",
       "      <td>0.268313</td>\n",
       "      <td>0.381481</td>\n",
       "      <td>0.47037</td>\n",
       "      <td>0.401226</td>\n",
       "      <td>0.230864</td>\n",
       "    </tr>\n",
       "  </tbody>\n",
       "</table>\n",
       "</div>"
      ],
      "text/plain": [
       "                           map       mrr   avg_sr  avg_ndcg    avg_p3\n",
       "BERT_cos_added_words  0.268313  0.381481  0.47037  0.401226  0.230864"
      ]
     },
     "execution_count": 65,
     "metadata": {},
     "output_type": "execute_result"
    }
   ],
   "source": [
    "# added words\n",
    "pd.DataFrame(calc_metrics(df1),index=df1.Model_name.unique())"
   ]
  },
  {
   "cell_type": "code",
   "execution_count": 43,
   "metadata": {
    "collapsed": true,
    "hidden": true
   },
   "outputs": [
    {
     "data": {
      "text/html": [
       "<div>\n",
       "<style scoped>\n",
       "    .dataframe tbody tr th:only-of-type {\n",
       "        vertical-align: middle;\n",
       "    }\n",
       "\n",
       "    .dataframe tbody tr th {\n",
       "        vertical-align: top;\n",
       "    }\n",
       "\n",
       "    .dataframe thead th {\n",
       "        text-align: right;\n",
       "    }\n",
       "</style>\n",
       "<table border=\"1\" class=\"dataframe\">\n",
       "  <thead>\n",
       "    <tr style=\"text-align: right;\">\n",
       "      <th></th>\n",
       "      <th>map</th>\n",
       "      <th>mrr</th>\n",
       "      <th>avg_sr</th>\n",
       "      <th>avg_ndcg</th>\n",
       "      <th>avg_p3</th>\n",
       "    </tr>\n",
       "  </thead>\n",
       "  <tbody>\n",
       "    <tr>\n",
       "      <th>BERT_cos_added_words_oracle_categories</th>\n",
       "      <td>0.223457</td>\n",
       "      <td>0.33642</td>\n",
       "      <td>0.418519</td>\n",
       "      <td>0.35538</td>\n",
       "      <td>0.185185</td>\n",
       "    </tr>\n",
       "  </tbody>\n",
       "</table>\n",
       "</div>"
      ],
      "text/plain": [
       "                                             map      mrr    avg_sr  avg_ndcg  \\\n",
       "BERT_cos_added_words_oracle_categories  0.223457  0.33642  0.418519   0.35538   \n",
       "\n",
       "                                          avg_p3  \n",
       "BERT_cos_added_words_oracle_categories  0.185185  "
      ]
     },
     "execution_count": 43,
     "metadata": {},
     "output_type": "execute_result"
    }
   ],
   "source": [
    "# oracle for cats added words\n",
    "pd.DataFrame(calc_metrics(df1),index=df1.Model_name.unique())"
   ]
  },
  {
   "cell_type": "code",
   "execution_count": 110,
   "metadata": {
    "hidden": true
   },
   "outputs": [
    {
     "data": {
      "text/html": [
       "<div>\n",
       "<style scoped>\n",
       "    .dataframe tbody tr th:only-of-type {\n",
       "        vertical-align: middle;\n",
       "    }\n",
       "\n",
       "    .dataframe tbody tr th {\n",
       "        vertical-align: top;\n",
       "    }\n",
       "\n",
       "    .dataframe thead th {\n",
       "        text-align: right;\n",
       "    }\n",
       "</style>\n",
       "<table border=\"1\" class=\"dataframe\">\n",
       "  <thead>\n",
       "    <tr style=\"text-align: right;\">\n",
       "      <th></th>\n",
       "      <th>map</th>\n",
       "      <th>mrr</th>\n",
       "      <th>avg_sr</th>\n",
       "      <th>avg_ndcg</th>\n",
       "      <th>avg_p3</th>\n",
       "    </tr>\n",
       "  </thead>\n",
       "  <tbody>\n",
       "    <tr>\n",
       "      <th>BERT_cos_quora</th>\n",
       "      <td>0.213786</td>\n",
       "      <td>0.31358</td>\n",
       "      <td>0.403704</td>\n",
       "      <td>0.334854</td>\n",
       "      <td>0.183951</td>\n",
       "    </tr>\n",
       "  </tbody>\n",
       "</table>\n",
       "</div>"
      ],
      "text/plain": [
       "                     map      mrr    avg_sr  avg_ndcg    avg_p3\n",
       "BERT_cos_quora  0.213786  0.31358  0.403704  0.334854  0.183951"
      ]
     },
     "execution_count": 110,
     "metadata": {},
     "output_type": "execute_result"
    }
   ],
   "source": [
    "# added_words\n",
    "pd.DataFrame(calc_metrics(df1),index=df1.Model_name.unique())"
   ]
  },
  {
   "cell_type": "code",
   "execution_count": 107,
   "metadata": {
    "hidden": true
   },
   "outputs": [
    {
     "data": {
      "text/html": [
       "<div>\n",
       "<style scoped>\n",
       "    .dataframe tbody tr th:only-of-type {\n",
       "        vertical-align: middle;\n",
       "    }\n",
       "\n",
       "    .dataframe tbody tr th {\n",
       "        vertical-align: top;\n",
       "    }\n",
       "\n",
       "    .dataframe thead th {\n",
       "        text-align: right;\n",
       "    }\n",
       "</style>\n",
       "<table border=\"1\" class=\"dataframe\">\n",
       "  <thead>\n",
       "    <tr style=\"text-align: right;\">\n",
       "      <th></th>\n",
       "      <th>map</th>\n",
       "      <th>mrr</th>\n",
       "      <th>avg_sr</th>\n",
       "      <th>avg_ndcg</th>\n",
       "      <th>avg_p3</th>\n",
       "    </tr>\n",
       "  </thead>\n",
       "  <tbody>\n",
       "    <tr>\n",
       "      <th>BERT_cos_stsb</th>\n",
       "      <td>0.215432</td>\n",
       "      <td>0.315432</td>\n",
       "      <td>0.4</td>\n",
       "      <td>0.336916</td>\n",
       "      <td>0.185185</td>\n",
       "    </tr>\n",
       "  </tbody>\n",
       "</table>\n",
       "</div>"
      ],
      "text/plain": [
       "                    map       mrr  avg_sr  avg_ndcg    avg_p3\n",
       "BERT_cos_stsb  0.215432  0.315432     0.4  0.336916  0.185185"
      ]
     },
     "execution_count": 107,
     "metadata": {},
     "output_type": "execute_result"
    }
   ],
   "source": [
    "# added_words\n",
    "pd.DataFrame(calc_metrics(df1),index=df1.Model_name.unique())"
   ]
  },
  {
   "cell_type": "code",
   "execution_count": 97,
   "metadata": {
    "hidden": true
   },
   "outputs": [
    {
     "data": {
      "text/html": [
       "<div>\n",
       "<style scoped>\n",
       "    .dataframe tbody tr th:only-of-type {\n",
       "        vertical-align: middle;\n",
       "    }\n",
       "\n",
       "    .dataframe tbody tr th {\n",
       "        vertical-align: top;\n",
       "    }\n",
       "\n",
       "    .dataframe thead th {\n",
       "        text-align: right;\n",
       "    }\n",
       "</style>\n",
       "<table border=\"1\" class=\"dataframe\">\n",
       "  <thead>\n",
       "    <tr style=\"text-align: right;\">\n",
       "      <th></th>\n",
       "      <th>map</th>\n",
       "      <th>mrr</th>\n",
       "      <th>avg_sr</th>\n",
       "      <th>avg_ndcg</th>\n",
       "      <th>avg_p3</th>\n",
       "    </tr>\n",
       "  </thead>\n",
       "  <tbody>\n",
       "    <tr>\n",
       "      <th>BERT_cos_minilm</th>\n",
       "      <td>0.264198</td>\n",
       "      <td>0.37284</td>\n",
       "      <td>0.448148</td>\n",
       "      <td>0.38921</td>\n",
       "      <td>0.222222</td>\n",
       "    </tr>\n",
       "  </tbody>\n",
       "</table>\n",
       "</div>"
      ],
      "text/plain": [
       "                      map      mrr    avg_sr  avg_ndcg    avg_p3\n",
       "BERT_cos_minilm  0.264198  0.37284  0.448148   0.38921  0.222222"
      ]
     },
     "execution_count": 97,
     "metadata": {},
     "output_type": "execute_result"
    }
   ],
   "source": [
    "# without added words\n",
    "pd.DataFrame(calc_metrics(df1),index=df1.Model_name.unique())"
   ]
  },
  {
   "cell_type": "code",
   "execution_count": 100,
   "metadata": {
    "hidden": true
   },
   "outputs": [
    {
     "data": {
      "text/html": [
       "<div>\n",
       "<style scoped>\n",
       "    .dataframe tbody tr th:only-of-type {\n",
       "        vertical-align: middle;\n",
       "    }\n",
       "\n",
       "    .dataframe tbody tr th {\n",
       "        vertical-align: top;\n",
       "    }\n",
       "\n",
       "    .dataframe thead th {\n",
       "        text-align: right;\n",
       "    }\n",
       "</style>\n",
       "<table border=\"1\" class=\"dataframe\">\n",
       "  <thead>\n",
       "    <tr style=\"text-align: right;\">\n",
       "      <th></th>\n",
       "      <th>map</th>\n",
       "      <th>mrr</th>\n",
       "      <th>avg_sr</th>\n",
       "      <th>avg_ndcg</th>\n",
       "      <th>avg_p3</th>\n",
       "    </tr>\n",
       "  </thead>\n",
       "  <tbody>\n",
       "    <tr>\n",
       "      <th>BERT_cos</th>\n",
       "      <td>0.258783</td>\n",
       "      <td>0.376838</td>\n",
       "      <td>0.459559</td>\n",
       "      <td>0.393999</td>\n",
       "      <td>0.219363</td>\n",
       "    </tr>\n",
       "  </tbody>\n",
       "</table>\n",
       "</div>"
      ],
      "text/plain": [
       "               map       mrr    avg_sr  avg_ndcg    avg_p3\n",
       "BERT_cos  0.258783  0.376838  0.459559  0.393999  0.219363"
      ]
     },
     "execution_count": 100,
     "metadata": {},
     "output_type": "execute_result"
    }
   ],
   "source": [
    "# without added words\n",
    "pd.DataFrame(calc_metrics(df1),index=df1.Model_name.unique())"
   ]
  },
  {
   "cell_type": "markdown",
   "metadata": {
    "heading_collapsed": true,
    "hidden": true
   },
   "source": [
    "## Lem"
   ]
  },
  {
   "cell_type": "code",
   "execution_count": 201,
   "metadata": {
    "hidden": true
   },
   "outputs": [
    {
     "data": {
      "text/html": [
       "<div>\n",
       "<style scoped>\n",
       "    .dataframe tbody tr th:only-of-type {\n",
       "        vertical-align: middle;\n",
       "    }\n",
       "\n",
       "    .dataframe tbody tr th {\n",
       "        vertical-align: top;\n",
       "    }\n",
       "\n",
       "    .dataframe thead th {\n",
       "        text-align: right;\n",
       "    }\n",
       "</style>\n",
       "<table border=\"1\" class=\"dataframe\">\n",
       "  <thead>\n",
       "    <tr style=\"text-align: right;\">\n",
       "      <th></th>\n",
       "      <th>map</th>\n",
       "      <th>mrr</th>\n",
       "      <th>avg_sr</th>\n",
       "      <th>avg_ndcg</th>\n",
       "      <th>avg_p3</th>\n",
       "    </tr>\n",
       "  </thead>\n",
       "  <tbody>\n",
       "    <tr>\n",
       "      <th>Lem</th>\n",
       "      <td>0.234273</td>\n",
       "      <td>0.34375</td>\n",
       "      <td>0.422794</td>\n",
       "      <td>0.361303</td>\n",
       "      <td>0.197304</td>\n",
       "    </tr>\n",
       "  </tbody>\n",
       "</table>\n",
       "</div>"
      ],
      "text/plain": [
       "          map      mrr    avg_sr  avg_ndcg    avg_p3\n",
       "Lem  0.234273  0.34375  0.422794  0.361303  0.197304"
      ]
     },
     "execution_count": 201,
     "metadata": {},
     "output_type": "execute_result"
    }
   ],
   "source": [
    "pd.DataFrame(calc_metrics(df1),index=df1.Model_name.unique())"
   ]
  },
  {
   "cell_type": "code",
   "execution_count": 204,
   "metadata": {
    "hidden": true
   },
   "outputs": [
    {
     "data": {
      "text/html": [
       "<div>\n",
       "<style scoped>\n",
       "    .dataframe tbody tr th:only-of-type {\n",
       "        vertical-align: middle;\n",
       "    }\n",
       "\n",
       "    .dataframe tbody tr th {\n",
       "        vertical-align: top;\n",
       "    }\n",
       "\n",
       "    .dataframe thead th {\n",
       "        text-align: right;\n",
       "    }\n",
       "</style>\n",
       "<table border=\"1\" class=\"dataframe\">\n",
       "  <thead>\n",
       "    <tr style=\"text-align: right;\">\n",
       "      <th></th>\n",
       "      <th>map</th>\n",
       "      <th>mrr</th>\n",
       "      <th>avg_sr</th>\n",
       "      <th>avg_ndcg</th>\n",
       "      <th>avg_p3</th>\n",
       "    </tr>\n",
       "  </thead>\n",
       "  <tbody>\n",
       "    <tr>\n",
       "      <th>Lem_added_words</th>\n",
       "      <td>0.255515</td>\n",
       "      <td>0.373162</td>\n",
       "      <td>0.452206</td>\n",
       "      <td>0.3916</td>\n",
       "      <td>0.213235</td>\n",
       "    </tr>\n",
       "  </tbody>\n",
       "</table>\n",
       "</div>"
      ],
      "text/plain": [
       "                      map       mrr    avg_sr  avg_ndcg    avg_p3\n",
       "Lem_added_words  0.255515  0.373162  0.452206    0.3916  0.213235"
      ]
     },
     "execution_count": 204,
     "metadata": {},
     "output_type": "execute_result"
    }
   ],
   "source": [
    "pd.DataFrame(calc_metrics(df1),index=df1.Model_name.unique())"
   ]
  },
  {
   "cell_type": "code",
   "execution_count": 82,
   "metadata": {
    "hidden": true
   },
   "outputs": [
    {
     "data": {
      "text/html": [
       "<div>\n",
       "<style scoped>\n",
       "    .dataframe tbody tr th:only-of-type {\n",
       "        vertical-align: middle;\n",
       "    }\n",
       "\n",
       "    .dataframe tbody tr th {\n",
       "        vertical-align: top;\n",
       "    }\n",
       "\n",
       "    .dataframe thead th {\n",
       "        text-align: right;\n",
       "    }\n",
       "</style>\n",
       "<table border=\"1\" class=\"dataframe\">\n",
       "  <thead>\n",
       "    <tr style=\"text-align: right;\">\n",
       "      <th></th>\n",
       "      <th>map</th>\n",
       "      <th>mrr</th>\n",
       "      <th>avg_sr</th>\n",
       "      <th>avg_ndcg</th>\n",
       "      <th>avg_p3</th>\n",
       "    </tr>\n",
       "  </thead>\n",
       "  <tbody>\n",
       "    <tr>\n",
       "      <th>Lem_only_nouns_added_words</th>\n",
       "      <td>0.283688</td>\n",
       "      <td>0.399823</td>\n",
       "      <td>0.239362</td>\n",
       "      <td>0.421732</td>\n",
       "      <td>0.239362</td>\n",
       "    </tr>\n",
       "  </tbody>\n",
       "</table>\n",
       "</div>"
      ],
      "text/plain": [
       "                                 map       mrr    avg_sr  avg_ndcg    avg_p3\n",
       "Lem_only_nouns_added_words  0.283688  0.399823  0.239362  0.421732  0.239362"
      ]
     },
     "execution_count": 82,
     "metadata": {},
     "output_type": "execute_result"
    }
   ],
   "source": [
    "pd.DataFrame(calc_metrics(df1),index=df1.Model_name.unique())"
   ]
  },
  {
   "cell_type": "code",
   "execution_count": 207,
   "metadata": {
    "hidden": true
   },
   "outputs": [
    {
     "data": {
      "text/html": [
       "<div>\n",
       "<style scoped>\n",
       "    .dataframe tbody tr th:only-of-type {\n",
       "        vertical-align: middle;\n",
       "    }\n",
       "\n",
       "    .dataframe tbody tr th {\n",
       "        vertical-align: top;\n",
       "    }\n",
       "\n",
       "    .dataframe thead th {\n",
       "        text-align: right;\n",
       "    }\n",
       "</style>\n",
       "<table border=\"1\" class=\"dataframe\">\n",
       "  <thead>\n",
       "    <tr style=\"text-align: right;\">\n",
       "      <th></th>\n",
       "      <th>map</th>\n",
       "      <th>mrr</th>\n",
       "      <th>avg_sr</th>\n",
       "      <th>avg_ndcg</th>\n",
       "      <th>avg_p3</th>\n",
       "    </tr>\n",
       "  </thead>\n",
       "  <tbody>\n",
       "    <tr>\n",
       "      <th>Lem_added_noun_kw</th>\n",
       "      <td>0.241422</td>\n",
       "      <td>0.35723</td>\n",
       "      <td>0.463235</td>\n",
       "      <td>0.382518</td>\n",
       "      <td>0.213235</td>\n",
       "    </tr>\n",
       "  </tbody>\n",
       "</table>\n",
       "</div>"
      ],
      "text/plain": [
       "                        map      mrr    avg_sr  avg_ndcg    avg_p3\n",
       "Lem_added_noun_kw  0.241422  0.35723  0.463235  0.382518  0.213235"
      ]
     },
     "execution_count": 207,
     "metadata": {},
     "output_type": "execute_result"
    }
   ],
   "source": [
    "pd.DataFrame(calc_metrics(df1),index=df1.Model_name.unique())"
   ]
  },
  {
   "cell_type": "code",
   "execution_count": 210,
   "metadata": {
    "hidden": true
   },
   "outputs": [
    {
     "data": {
      "text/html": [
       "<div>\n",
       "<style scoped>\n",
       "    .dataframe tbody tr th:only-of-type {\n",
       "        vertical-align: middle;\n",
       "    }\n",
       "\n",
       "    .dataframe tbody tr th {\n",
       "        vertical-align: top;\n",
       "    }\n",
       "\n",
       "    .dataframe thead th {\n",
       "        text-align: right;\n",
       "    }\n",
       "</style>\n",
       "<table border=\"1\" class=\"dataframe\">\n",
       "  <thead>\n",
       "    <tr style=\"text-align: right;\">\n",
       "      <th></th>\n",
       "      <th>map</th>\n",
       "      <th>mrr</th>\n",
       "      <th>avg_sr</th>\n",
       "      <th>avg_ndcg</th>\n",
       "      <th>avg_p3</th>\n",
       "    </tr>\n",
       "  </thead>\n",
       "  <tbody>\n",
       "    <tr>\n",
       "      <th>Lem_added_noun_verb_kw</th>\n",
       "      <td>0.295956</td>\n",
       "      <td>0.417892</td>\n",
       "      <td>0.477941</td>\n",
       "      <td>0.431035</td>\n",
       "      <td>0.231618</td>\n",
       "    </tr>\n",
       "  </tbody>\n",
       "</table>\n",
       "</div>"
      ],
      "text/plain": [
       "                             map       mrr    avg_sr  avg_ndcg    avg_p3\n",
       "Lem_added_noun_verb_kw  0.295956  0.417892  0.477941  0.431035  0.231618"
      ]
     },
     "execution_count": 210,
     "metadata": {},
     "output_type": "execute_result"
    }
   ],
   "source": [
    "pd.DataFrame(calc_metrics(df1),index=df1.Model_name.unique())"
   ]
  },
  {
   "cell_type": "markdown",
   "metadata": {
    "heading_collapsed": true,
    "hidden": true
   },
   "source": [
    "## DTP"
   ]
  },
  {
   "cell_type": "code",
   "execution_count": 45,
   "metadata": {
    "collapsed": true,
    "hidden": true
   },
   "outputs": [
    {
     "data": {
      "text/html": [
       "<div>\n",
       "<style scoped>\n",
       "    .dataframe tbody tr th:only-of-type {\n",
       "        vertical-align: middle;\n",
       "    }\n",
       "\n",
       "    .dataframe tbody tr th {\n",
       "        vertical-align: top;\n",
       "    }\n",
       "\n",
       "    .dataframe thead th {\n",
       "        text-align: right;\n",
       "    }\n",
       "</style>\n",
       "<table border=\"1\" class=\"dataframe\">\n",
       "  <thead>\n",
       "    <tr style=\"text-align: right;\">\n",
       "      <th></th>\n",
       "      <th>map</th>\n",
       "      <th>mrr</th>\n",
       "      <th>avg_sr</th>\n",
       "      <th>avg_ndcg</th>\n",
       "      <th>avg_p3</th>\n",
       "    </tr>\n",
       "  </thead>\n",
       "  <tbody>\n",
       "    <tr>\n",
       "      <th>DTP_added_words</th>\n",
       "      <td>0.435919</td>\n",
       "      <td>0.588284</td>\n",
       "      <td>0.707921</td>\n",
       "      <td>0.616884</td>\n",
       "      <td>0.374587</td>\n",
       "    </tr>\n",
       "  </tbody>\n",
       "</table>\n",
       "</div>"
      ],
      "text/plain": [
       "                      map       mrr    avg_sr  avg_ndcg    avg_p3\n",
       "DTP_added_words  0.435919  0.588284  0.707921  0.616884  0.374587"
      ]
     },
     "execution_count": 45,
     "metadata": {},
     "output_type": "execute_result"
    }
   ],
   "source": [
    "# pruned 1\n",
    "pd.DataFrame(calc_metrics(df1),index=df1.Model_name.unique())"
   ]
  },
  {
   "cell_type": "code",
   "execution_count": 41,
   "metadata": {
    "collapsed": true,
    "hidden": true
   },
   "outputs": [
    {
     "data": {
      "text/html": [
       "<div>\n",
       "<style scoped>\n",
       "    .dataframe tbody tr th:only-of-type {\n",
       "        vertical-align: middle;\n",
       "    }\n",
       "\n",
       "    .dataframe tbody tr th {\n",
       "        vertical-align: top;\n",
       "    }\n",
       "\n",
       "    .dataframe thead th {\n",
       "        text-align: right;\n",
       "    }\n",
       "</style>\n",
       "<table border=\"1\" class=\"dataframe\">\n",
       "  <thead>\n",
       "    <tr style=\"text-align: right;\">\n",
       "      <th></th>\n",
       "      <th>map</th>\n",
       "      <th>mrr</th>\n",
       "      <th>avg_sr</th>\n",
       "      <th>avg_ndcg</th>\n",
       "      <th>avg_p3</th>\n",
       "    </tr>\n",
       "  </thead>\n",
       "  <tbody>\n",
       "    <tr>\n",
       "      <th>DTP_added_words</th>\n",
       "      <td>0.487208</td>\n",
       "      <td>0.650219</td>\n",
       "      <td>0.769737</td>\n",
       "      <td>0.679259</td>\n",
       "      <td>0.41886</td>\n",
       "    </tr>\n",
       "  </tbody>\n",
       "</table>\n",
       "</div>"
      ],
      "text/plain": [
       "                      map       mrr    avg_sr  avg_ndcg   avg_p3\n",
       "DTP_added_words  0.487208  0.650219  0.769737  0.679259  0.41886"
      ]
     },
     "execution_count": 41,
     "metadata": {},
     "output_type": "execute_result"
    }
   ],
   "source": [
    "# pruned_2\n",
    "pd.DataFrame(calc_metrics(df1),index=df1.Model_name.unique())"
   ]
  },
  {
   "cell_type": "code",
   "execution_count": 121,
   "metadata": {
    "hidden": true
   },
   "outputs": [
    {
     "data": {
      "text/html": [
       "<div>\n",
       "<style scoped>\n",
       "    .dataframe tbody tr th:only-of-type {\n",
       "        vertical-align: middle;\n",
       "    }\n",
       "\n",
       "    .dataframe tbody tr th {\n",
       "        vertical-align: top;\n",
       "    }\n",
       "\n",
       "    .dataframe thead th {\n",
       "        text-align: right;\n",
       "    }\n",
       "</style>\n",
       "<table border=\"1\" class=\"dataframe\">\n",
       "  <thead>\n",
       "    <tr style=\"text-align: right;\">\n",
       "      <th></th>\n",
       "      <th>map</th>\n",
       "      <th>mrr</th>\n",
       "      <th>avg_sr</th>\n",
       "      <th>avg_ndcg</th>\n",
       "      <th>avg_p3</th>\n",
       "    </tr>\n",
       "  </thead>\n",
       "  <tbody>\n",
       "    <tr>\n",
       "      <th>DTP</th>\n",
       "      <td>0.30535</td>\n",
       "      <td>0.426543</td>\n",
       "      <td>0.271605</td>\n",
       "      <td>0.455081</td>\n",
       "      <td>0.271605</td>\n",
       "    </tr>\n",
       "  </tbody>\n",
       "</table>\n",
       "</div>"
      ],
      "text/plain": [
       "         map       mrr    avg_sr  avg_ndcg    avg_p3\n",
       "DTP  0.30535  0.426543  0.271605  0.455081  0.271605"
      ]
     },
     "execution_count": 121,
     "metadata": {},
     "output_type": "execute_result"
    }
   ],
   "source": [
    "pd.DataFrame(calc_metrics(df1),index=df1.Model_name.unique())"
   ]
  },
  {
   "cell_type": "code",
   "execution_count": 38,
   "metadata": {
    "hidden": true
   },
   "outputs": [
    {
     "data": {
      "text/html": [
       "<div>\n",
       "<style scoped>\n",
       "    .dataframe tbody tr th:only-of-type {\n",
       "        vertical-align: middle;\n",
       "    }\n",
       "\n",
       "    .dataframe tbody tr th {\n",
       "        vertical-align: top;\n",
       "    }\n",
       "\n",
       "    .dataframe thead th {\n",
       "        text-align: right;\n",
       "    }\n",
       "</style>\n",
       "<table border=\"1\" class=\"dataframe\">\n",
       "  <thead>\n",
       "    <tr style=\"text-align: right;\">\n",
       "      <th></th>\n",
       "      <th>map</th>\n",
       "      <th>mrr</th>\n",
       "      <th>avg_sr</th>\n",
       "      <th>avg_ndcg</th>\n",
       "      <th>avg_p3</th>\n",
       "    </tr>\n",
       "  </thead>\n",
       "  <tbody>\n",
       "    <tr>\n",
       "      <th>DTP_added_words</th>\n",
       "      <td>0.35144</td>\n",
       "      <td>0.485185</td>\n",
       "      <td>0.596296</td>\n",
       "      <td>0.512093</td>\n",
       "      <td>0.302469</td>\n",
       "    </tr>\n",
       "  </tbody>\n",
       "</table>\n",
       "</div>"
      ],
      "text/plain": [
       "                     map       mrr    avg_sr  avg_ndcg    avg_p3\n",
       "DTP_added_words  0.35144  0.485185  0.596296  0.512093  0.302469"
      ]
     },
     "execution_count": 38,
     "metadata": {},
     "output_type": "execute_result"
    }
   ],
   "source": [
    "pd.DataFrame(calc_metrics(df1),index=df1.Model_name.unique())"
   ]
  },
  {
   "cell_type": "code",
   "execution_count": 37,
   "metadata": {
    "hidden": true
   },
   "outputs": [
    {
     "data": {
      "text/html": [
       "<div>\n",
       "<style scoped>\n",
       "    .dataframe tbody tr th:only-of-type {\n",
       "        vertical-align: middle;\n",
       "    }\n",
       "\n",
       "    .dataframe tbody tr th {\n",
       "        vertical-align: top;\n",
       "    }\n",
       "\n",
       "    .dataframe thead th {\n",
       "        text-align: right;\n",
       "    }\n",
       "</style>\n",
       "<table border=\"1\" class=\"dataframe\">\n",
       "  <thead>\n",
       "    <tr style=\"text-align: right;\">\n",
       "      <th></th>\n",
       "      <th>map</th>\n",
       "      <th>mrr</th>\n",
       "      <th>avg_sr</th>\n",
       "      <th>avg_ndcg</th>\n",
       "      <th>avg_p3</th>\n",
       "    </tr>\n",
       "  </thead>\n",
       "  <tbody>\n",
       "    <tr>\n",
       "      <th>DTP_added_words_oracle_categories</th>\n",
       "      <td>0.256173</td>\n",
       "      <td>0.370988</td>\n",
       "      <td>0.455556</td>\n",
       "      <td>0.393429</td>\n",
       "      <td>0.211111</td>\n",
       "    </tr>\n",
       "  </tbody>\n",
       "</table>\n",
       "</div>"
      ],
      "text/plain": [
       "                                        map       mrr    avg_sr  avg_ndcg  \\\n",
       "DTP_added_words_oracle_categories  0.256173  0.370988  0.455556  0.393429   \n",
       "\n",
       "                                     avg_p3  \n",
       "DTP_added_words_oracle_categories  0.211111  "
      ]
     },
     "execution_count": 37,
     "metadata": {},
     "output_type": "execute_result"
    }
   ],
   "source": [
    "# oracle cat\n",
    "pd.DataFrame(calc_metrics(df1),index=df1.Model_name.unique())"
   ]
  },
  {
   "cell_type": "code",
   "execution_count": 192,
   "metadata": {
    "hidden": true
   },
   "outputs": [
    {
     "data": {
      "text/html": [
       "<div>\n",
       "<style scoped>\n",
       "    .dataframe tbody tr th:only-of-type {\n",
       "        vertical-align: middle;\n",
       "    }\n",
       "\n",
       "    .dataframe tbody tr th {\n",
       "        vertical-align: top;\n",
       "    }\n",
       "\n",
       "    .dataframe thead th {\n",
       "        text-align: right;\n",
       "    }\n",
       "</style>\n",
       "<table border=\"1\" class=\"dataframe\">\n",
       "  <thead>\n",
       "    <tr style=\"text-align: right;\">\n",
       "      <th></th>\n",
       "      <th>map</th>\n",
       "      <th>mrr</th>\n",
       "      <th>avg_sr</th>\n",
       "      <th>avg_ndcg</th>\n",
       "      <th>avg_p3</th>\n",
       "    </tr>\n",
       "  </thead>\n",
       "  <tbody>\n",
       "    <tr>\n",
       "      <th>DTP_added_words</th>\n",
       "      <td>0.309938</td>\n",
       "      <td>0.549259</td>\n",
       "      <td>0.655556</td>\n",
       "      <td>0.532477</td>\n",
       "      <td>0.233333</td>\n",
       "    </tr>\n",
       "  </tbody>\n",
       "</table>\n",
       "</div>"
      ],
      "text/plain": [
       "                      map       mrr    avg_sr  avg_ndcg    avg_p3\n",
       "DTP_added_words  0.309938  0.549259  0.655556  0.532477  0.233333"
      ]
     },
     "execution_count": 192,
     "metadata": {},
     "output_type": "execute_result"
    }
   ],
   "source": [
    "# top5\n",
    "pd.DataFrame(calc_metrics(df1),index=df1.Model_name.unique())"
   ]
  },
  {
   "cell_type": "code",
   "execution_count": null,
   "metadata": {
    "hidden": true
   },
   "outputs": [],
   "source": []
  },
  {
   "cell_type": "markdown",
   "metadata": {
    "heading_collapsed": true
   },
   "source": [
    "# Inside"
   ]
  },
  {
   "cell_type": "markdown",
   "metadata": {
    "heading_collapsed": true,
    "hidden": true
   },
   "source": [
    "## Ensemble "
   ]
  },
  {
   "cell_type": "markdown",
   "metadata": {
    "heading_collapsed": true,
    "hidden": true
   },
   "source": [
    "### Old "
   ]
  },
  {
   "cell_type": "code",
   "execution_count": 57,
   "metadata": {
    "hidden": true
   },
   "outputs": [
    {
     "data": {
      "text/html": [
       "<div>\n",
       "<style scoped>\n",
       "    .dataframe tbody tr th:only-of-type {\n",
       "        vertical-align: middle;\n",
       "    }\n",
       "\n",
       "    .dataframe tbody tr th {\n",
       "        vertical-align: top;\n",
       "    }\n",
       "\n",
       "    .dataframe thead th {\n",
       "        text-align: right;\n",
       "    }\n",
       "</style>\n",
       "<table border=\"1\" class=\"dataframe\">\n",
       "  <thead>\n",
       "    <tr style=\"text-align: right;\">\n",
       "      <th></th>\n",
       "      <th>map</th>\n",
       "      <th>mrr</th>\n",
       "      <th>avg_sr</th>\n",
       "      <th>avg_ndcg</th>\n",
       "      <th>avg_p3</th>\n",
       "    </tr>\n",
       "  </thead>\n",
       "  <tbody>\n",
       "    <tr>\n",
       "      <th>Ensemble wfm_sc</th>\n",
       "      <td>0.524775</td>\n",
       "      <td>0.739489</td>\n",
       "      <td>0.792793</td>\n",
       "      <td>0.750338</td>\n",
       "      <td>0.391892</td>\n",
       "    </tr>\n",
       "  </tbody>\n",
       "</table>\n",
       "</div>"
      ],
      "text/plain": [
       "                      map       mrr    avg_sr  avg_ndcg    avg_p3\n",
       "Ensemble wfm_sc  0.524775  0.739489  0.792793  0.750338  0.391892"
      ]
     },
     "execution_count": 57,
     "metadata": {},
     "output_type": "execute_result"
    }
   ],
   "source": [
    "# E22 (inside version of E3)\n",
    "pd.DataFrame(calc_metrics(df1),index=df1.Model_name.unique())"
   ]
  },
  {
   "cell_type": "code",
   "execution_count": 77,
   "metadata": {
    "hidden": true
   },
   "outputs": [
    {
     "data": {
      "text/html": [
       "<div>\n",
       "<style scoped>\n",
       "    .dataframe tbody tr th:only-of-type {\n",
       "        vertical-align: middle;\n",
       "    }\n",
       "\n",
       "    .dataframe tbody tr th {\n",
       "        vertical-align: top;\n",
       "    }\n",
       "\n",
       "    .dataframe thead th {\n",
       "        text-align: right;\n",
       "    }\n",
       "</style>\n",
       "<table border=\"1\" class=\"dataframe\">\n",
       "  <thead>\n",
       "    <tr style=\"text-align: right;\">\n",
       "      <th></th>\n",
       "      <th>map</th>\n",
       "      <th>mrr</th>\n",
       "      <th>avg_sr</th>\n",
       "      <th>avg_ndcg</th>\n",
       "      <th>avg_p3</th>\n",
       "    </tr>\n",
       "  </thead>\n",
       "  <tbody>\n",
       "    <tr>\n",
       "      <th>Ensemble wfm_sc</th>\n",
       "      <td>0.546595</td>\n",
       "      <td>0.723656</td>\n",
       "      <td>0.8</td>\n",
       "      <td>0.739193</td>\n",
       "      <td>0.449462</td>\n",
       "    </tr>\n",
       "  </tbody>\n",
       "</table>\n",
       "</div>"
      ],
      "text/plain": [
       "                      map       mrr  avg_sr  avg_ndcg    avg_p3\n",
       "Ensemble wfm_sc  0.546595  0.723656     0.8  0.739193  0.449462"
      ]
     },
     "execution_count": 77,
     "metadata": {},
     "output_type": "execute_result"
    }
   ],
   "source": [
    "# pruned_1\n",
    "pd.DataFrame(calc_metrics(df1),index=df1.Model_name.unique())"
   ]
  },
  {
   "cell_type": "code",
   "execution_count": 15,
   "metadata": {
    "hidden": true
   },
   "outputs": [
    {
     "data": {
      "text/html": [
       "<div>\n",
       "<style scoped>\n",
       "    .dataframe tbody tr th:only-of-type {\n",
       "        vertical-align: middle;\n",
       "    }\n",
       "\n",
       "    .dataframe tbody tr th {\n",
       "        vertical-align: top;\n",
       "    }\n",
       "\n",
       "    .dataframe thead th {\n",
       "        text-align: right;\n",
       "    }\n",
       "</style>\n",
       "<table border=\"1\" class=\"dataframe\">\n",
       "  <thead>\n",
       "    <tr style=\"text-align: right;\">\n",
       "      <th></th>\n",
       "      <th>map</th>\n",
       "      <th>mrr</th>\n",
       "      <th>avg_sr</th>\n",
       "      <th>avg_ndcg</th>\n",
       "      <th>avg_p3</th>\n",
       "    </tr>\n",
       "  </thead>\n",
       "  <tbody>\n",
       "    <tr>\n",
       "      <th>Ensemble wfm_sc</th>\n",
       "      <td>0.578972</td>\n",
       "      <td>0.746556</td>\n",
       "      <td>0.826446</td>\n",
       "      <td>0.762499</td>\n",
       "      <td>0.493113</td>\n",
       "    </tr>\n",
       "  </tbody>\n",
       "</table>\n",
       "</div>"
      ],
      "text/plain": [
       "                      map       mrr    avg_sr  avg_ndcg    avg_p3\n",
       "Ensemble wfm_sc  0.578972  0.746556  0.826446  0.762499  0.493113"
      ]
     },
     "execution_count": 15,
     "metadata": {},
     "output_type": "execute_result"
    }
   ],
   "source": [
    "# pruned_2\n",
    "pd.DataFrame(calc_metrics(df1),index=df1.Model_name.unique())"
   ]
  },
  {
   "cell_type": "code",
   "execution_count": 18,
   "metadata": {
    "hidden": true
   },
   "outputs": [
    {
     "data": {
      "text/html": [
       "<div>\n",
       "<style scoped>\n",
       "    .dataframe tbody tr th:only-of-type {\n",
       "        vertical-align: middle;\n",
       "    }\n",
       "\n",
       "    .dataframe tbody tr th {\n",
       "        vertical-align: top;\n",
       "    }\n",
       "\n",
       "    .dataframe thead th {\n",
       "        text-align: right;\n",
       "    }\n",
       "</style>\n",
       "<table border=\"1\" class=\"dataframe\">\n",
       "  <thead>\n",
       "    <tr style=\"text-align: right;\">\n",
       "      <th></th>\n",
       "      <th>map</th>\n",
       "      <th>mrr</th>\n",
       "      <th>avg_sr</th>\n",
       "      <th>avg_ndcg</th>\n",
       "      <th>avg_p3</th>\n",
       "    </tr>\n",
       "  </thead>\n",
       "  <tbody>\n",
       "    <tr>\n",
       "      <th>Ensemble wfm_sc</th>\n",
       "      <td>0.619702</td>\n",
       "      <td>0.795533</td>\n",
       "      <td>0.876289</td>\n",
       "      <td>0.811462</td>\n",
       "      <td>0.52921</td>\n",
       "    </tr>\n",
       "  </tbody>\n",
       "</table>\n",
       "</div>"
      ],
      "text/plain": [
       "                      map       mrr    avg_sr  avg_ndcg   avg_p3\n",
       "Ensemble wfm_sc  0.619702  0.795533  0.876289  0.811462  0.52921"
      ]
     },
     "execution_count": 18,
     "metadata": {},
     "output_type": "execute_result"
    }
   ],
   "source": [
    "# pruned_3\n",
    "pd.DataFrame(calc_metrics(df1),index=df1.Model_name.unique())"
   ]
  },
  {
   "cell_type": "code",
   "execution_count": 21,
   "metadata": {
    "hidden": true
   },
   "outputs": [
    {
     "data": {
      "text/html": [
       "<div>\n",
       "<style scoped>\n",
       "    .dataframe tbody tr th:only-of-type {\n",
       "        vertical-align: middle;\n",
       "    }\n",
       "\n",
       "    .dataframe tbody tr th {\n",
       "        vertical-align: top;\n",
       "    }\n",
       "\n",
       "    .dataframe thead th {\n",
       "        text-align: right;\n",
       "    }\n",
       "</style>\n",
       "<table border=\"1\" class=\"dataframe\">\n",
       "  <thead>\n",
       "    <tr style=\"text-align: right;\">\n",
       "      <th></th>\n",
       "      <th>map</th>\n",
       "      <th>mrr</th>\n",
       "      <th>avg_sr</th>\n",
       "      <th>avg_ndcg</th>\n",
       "      <th>avg_p3</th>\n",
       "    </tr>\n",
       "  </thead>\n",
       "  <tbody>\n",
       "    <tr>\n",
       "      <th>Ensemble wfm_sc</th>\n",
       "      <td>0.609739</td>\n",
       "      <td>0.786008</td>\n",
       "      <td>0.876543</td>\n",
       "      <td>0.804458</td>\n",
       "      <td>0.526749</td>\n",
       "    </tr>\n",
       "  </tbody>\n",
       "</table>\n",
       "</div>"
      ],
      "text/plain": [
       "                      map       mrr    avg_sr  avg_ndcg    avg_p3\n",
       "Ensemble wfm_sc  0.609739  0.786008  0.876543  0.804458  0.526749"
      ]
     },
     "execution_count": 21,
     "metadata": {},
     "output_type": "execute_result"
    }
   ],
   "source": [
    "# pruned_4\n",
    "pd.DataFrame(calc_metrics(df1),index=df1.Model_name.unique())"
   ]
  },
  {
   "cell_type": "code",
   "execution_count": 23,
   "metadata": {
    "hidden": true
   },
   "outputs": [
    {
     "data": {
      "text/html": [
       "<div>\n",
       "<style scoped>\n",
       "    .dataframe tbody tr th:only-of-type {\n",
       "        vertical-align: middle;\n",
       "    }\n",
       "\n",
       "    .dataframe tbody tr th {\n",
       "        vertical-align: top;\n",
       "    }\n",
       "\n",
       "    .dataframe thead th {\n",
       "        text-align: right;\n",
       "    }\n",
       "</style>\n",
       "<table border=\"1\" class=\"dataframe\">\n",
       "  <thead>\n",
       "    <tr style=\"text-align: right;\">\n",
       "      <th></th>\n",
       "      <th>map</th>\n",
       "      <th>mrr</th>\n",
       "      <th>avg_sr</th>\n",
       "      <th>avg_ndcg</th>\n",
       "      <th>avg_p3</th>\n",
       "    </tr>\n",
       "  </thead>\n",
       "  <tbody>\n",
       "    <tr>\n",
       "      <th>Ensemble wfm_sc</th>\n",
       "      <td>0.599839</td>\n",
       "      <td>0.770531</td>\n",
       "      <td>0.855072</td>\n",
       "      <td>0.787919</td>\n",
       "      <td>0.526749</td>\n",
       "    </tr>\n",
       "  </tbody>\n",
       "</table>\n",
       "</div>"
      ],
      "text/plain": [
       "                      map       mrr    avg_sr  avg_ndcg    avg_p3\n",
       "Ensemble wfm_sc  0.599839  0.770531  0.855072  0.787919  0.526749"
      ]
     },
     "execution_count": 23,
     "metadata": {},
     "output_type": "execute_result"
    }
   ],
   "source": [
    "# pruned_5\n",
    "pd.DataFrame(calc_metrics(df1),index=df1.Model_name.unique())"
   ]
  },
  {
   "cell_type": "code",
   "execution_count": 26,
   "metadata": {
    "hidden": true
   },
   "outputs": [
    {
     "data": {
      "text/html": [
       "<div>\n",
       "<style scoped>\n",
       "    .dataframe tbody tr th:only-of-type {\n",
       "        vertical-align: middle;\n",
       "    }\n",
       "\n",
       "    .dataframe tbody tr th {\n",
       "        vertical-align: top;\n",
       "    }\n",
       "\n",
       "    .dataframe thead th {\n",
       "        text-align: right;\n",
       "    }\n",
       "</style>\n",
       "<table border=\"1\" class=\"dataframe\">\n",
       "  <thead>\n",
       "    <tr style=\"text-align: right;\">\n",
       "      <th></th>\n",
       "      <th>map</th>\n",
       "      <th>mrr</th>\n",
       "      <th>avg_sr</th>\n",
       "      <th>avg_ndcg</th>\n",
       "      <th>avg_p3</th>\n",
       "    </tr>\n",
       "  </thead>\n",
       "  <tbody>\n",
       "    <tr>\n",
       "      <th>Ensemble wfm_sc</th>\n",
       "      <td>0.579798</td>\n",
       "      <td>0.766667</td>\n",
       "      <td>0.872727</td>\n",
       "      <td>0.78848</td>\n",
       "      <td>0.50303</td>\n",
       "    </tr>\n",
       "  </tbody>\n",
       "</table>\n",
       "</div>"
      ],
      "text/plain": [
       "                      map       mrr    avg_sr  avg_ndcg   avg_p3\n",
       "Ensemble wfm_sc  0.579798  0.766667  0.872727   0.78848  0.50303"
      ]
     },
     "execution_count": 26,
     "metadata": {},
     "output_type": "execute_result"
    }
   ],
   "source": [
    "# pruned_6\n",
    "pd.DataFrame(calc_metrics(df1),index=df1.Model_name.unique())"
   ]
  },
  {
   "cell_type": "code",
   "execution_count": 29,
   "metadata": {
    "hidden": true
   },
   "outputs": [
    {
     "data": {
      "text/html": [
       "<div>\n",
       "<style scoped>\n",
       "    .dataframe tbody tr th:only-of-type {\n",
       "        vertical-align: middle;\n",
       "    }\n",
       "\n",
       "    .dataframe tbody tr th {\n",
       "        vertical-align: top;\n",
       "    }\n",
       "\n",
       "    .dataframe thead th {\n",
       "        text-align: right;\n",
       "    }\n",
       "</style>\n",
       "<table border=\"1\" class=\"dataframe\">\n",
       "  <thead>\n",
       "    <tr style=\"text-align: right;\">\n",
       "      <th></th>\n",
       "      <th>map</th>\n",
       "      <th>mrr</th>\n",
       "      <th>avg_sr</th>\n",
       "      <th>avg_ndcg</th>\n",
       "      <th>avg_p3</th>\n",
       "    </tr>\n",
       "  </thead>\n",
       "  <tbody>\n",
       "    <tr>\n",
       "      <th>Ensemble wfm_sc</th>\n",
       "      <td>0.571605</td>\n",
       "      <td>0.737037</td>\n",
       "      <td>0.866667</td>\n",
       "      <td>0.763698</td>\n",
       "      <td>0.525926</td>\n",
       "    </tr>\n",
       "  </tbody>\n",
       "</table>\n",
       "</div>"
      ],
      "text/plain": [
       "                      map       mrr    avg_sr  avg_ndcg    avg_p3\n",
       "Ensemble wfm_sc  0.571605  0.737037  0.866667  0.763698  0.525926"
      ]
     },
     "execution_count": 29,
     "metadata": {},
     "output_type": "execute_result"
    }
   ],
   "source": [
    "# pruned_7\n",
    "pd.DataFrame(calc_metrics(df1),index=df1.Model_name.unique())"
   ]
  },
  {
   "cell_type": "code",
   "execution_count": 32,
   "metadata": {
    "hidden": true
   },
   "outputs": [
    {
     "data": {
      "text/html": [
       "<div>\n",
       "<style scoped>\n",
       "    .dataframe tbody tr th:only-of-type {\n",
       "        vertical-align: middle;\n",
       "    }\n",
       "\n",
       "    .dataframe tbody tr th {\n",
       "        vertical-align: top;\n",
       "    }\n",
       "\n",
       "    .dataframe thead th {\n",
       "        text-align: right;\n",
       "    }\n",
       "</style>\n",
       "<table border=\"1\" class=\"dataframe\">\n",
       "  <thead>\n",
       "    <tr style=\"text-align: right;\">\n",
       "      <th></th>\n",
       "      <th>map</th>\n",
       "      <th>mrr</th>\n",
       "      <th>avg_sr</th>\n",
       "      <th>avg_ndcg</th>\n",
       "      <th>avg_p3</th>\n",
       "    </tr>\n",
       "  </thead>\n",
       "  <tbody>\n",
       "    <tr>\n",
       "      <th>Ensemble wfm_sc</th>\n",
       "      <td>0.566358</td>\n",
       "      <td>0.712963</td>\n",
       "      <td>0.861111</td>\n",
       "      <td>0.744882</td>\n",
       "      <td>0.546296</td>\n",
       "    </tr>\n",
       "  </tbody>\n",
       "</table>\n",
       "</div>"
      ],
      "text/plain": [
       "                      map       mrr    avg_sr  avg_ndcg    avg_p3\n",
       "Ensemble wfm_sc  0.566358  0.712963  0.861111  0.744882  0.546296"
      ]
     },
     "execution_count": 32,
     "metadata": {},
     "output_type": "execute_result"
    }
   ],
   "source": [
    "# pruned_8\n",
    "pd.DataFrame(calc_metrics(df1),index=df1.Model_name.unique())"
   ]
  },
  {
   "cell_type": "code",
   "execution_count": 35,
   "metadata": {
    "hidden": true
   },
   "outputs": [
    {
     "data": {
      "text/html": [
       "<div>\n",
       "<style scoped>\n",
       "    .dataframe tbody tr th:only-of-type {\n",
       "        vertical-align: middle;\n",
       "    }\n",
       "\n",
       "    .dataframe tbody tr th {\n",
       "        vertical-align: top;\n",
       "    }\n",
       "\n",
       "    .dataframe thead th {\n",
       "        text-align: right;\n",
       "    }\n",
       "</style>\n",
       "<table border=\"1\" class=\"dataframe\">\n",
       "  <thead>\n",
       "    <tr style=\"text-align: right;\">\n",
       "      <th></th>\n",
       "      <th>map</th>\n",
       "      <th>mrr</th>\n",
       "      <th>avg_sr</th>\n",
       "      <th>avg_ndcg</th>\n",
       "      <th>avg_p3</th>\n",
       "    </tr>\n",
       "  </thead>\n",
       "  <tbody>\n",
       "    <tr>\n",
       "      <th>Ensemble wfm_sc</th>\n",
       "      <td>0.580247</td>\n",
       "      <td>0.728395</td>\n",
       "      <td>0.851852</td>\n",
       "      <td>0.749901</td>\n",
       "      <td>0.555556</td>\n",
       "    </tr>\n",
       "  </tbody>\n",
       "</table>\n",
       "</div>"
      ],
      "text/plain": [
       "                      map       mrr    avg_sr  avg_ndcg    avg_p3\n",
       "Ensemble wfm_sc  0.580247  0.728395  0.851852  0.749901  0.555556"
      ]
     },
     "execution_count": 35,
     "metadata": {},
     "output_type": "execute_result"
    }
   ],
   "source": [
    "# pruned_9\n",
    "pd.DataFrame(calc_metrics(df1),index=df1.Model_name.unique())"
   ]
  },
  {
   "cell_type": "code",
   "execution_count": 38,
   "metadata": {
    "hidden": true
   },
   "outputs": [
    {
     "data": {
      "text/html": [
       "<div>\n",
       "<style scoped>\n",
       "    .dataframe tbody tr th:only-of-type {\n",
       "        vertical-align: middle;\n",
       "    }\n",
       "\n",
       "    .dataframe tbody tr th {\n",
       "        vertical-align: top;\n",
       "    }\n",
       "\n",
       "    .dataframe thead th {\n",
       "        text-align: right;\n",
       "    }\n",
       "</style>\n",
       "<table border=\"1\" class=\"dataframe\">\n",
       "  <thead>\n",
       "    <tr style=\"text-align: right;\">\n",
       "      <th></th>\n",
       "      <th>map</th>\n",
       "      <th>mrr</th>\n",
       "      <th>avg_sr</th>\n",
       "      <th>avg_ndcg</th>\n",
       "      <th>avg_p3</th>\n",
       "    </tr>\n",
       "  </thead>\n",
       "  <tbody>\n",
       "    <tr>\n",
       "      <th>Ensemble wfm_sc</th>\n",
       "      <td>0.561728</td>\n",
       "      <td>0.703704</td>\n",
       "      <td>0.888889</td>\n",
       "      <td>0.749342</td>\n",
       "      <td>0.574074</td>\n",
       "    </tr>\n",
       "  </tbody>\n",
       "</table>\n",
       "</div>"
      ],
      "text/plain": [
       "                      map       mrr    avg_sr  avg_ndcg    avg_p3\n",
       "Ensemble wfm_sc  0.561728  0.703704  0.888889  0.749342  0.574074"
      ]
     },
     "execution_count": 38,
     "metadata": {},
     "output_type": "execute_result"
    }
   ],
   "source": [
    "# pruned_10\n",
    "pd.DataFrame(calc_metrics(df1),index=df1.Model_name.unique())"
   ]
  },
  {
   "cell_type": "markdown",
   "metadata": {
    "heading_collapsed": true,
    "hidden": true
   },
   "source": [
    "### New "
   ]
  },
  {
   "cell_type": "code",
   "execution_count": 31,
   "metadata": {
    "hidden": true
   },
   "outputs": [
    {
     "data": {
      "text/html": [
       "<div>\n",
       "<style scoped>\n",
       "    .dataframe tbody tr th:only-of-type {\n",
       "        vertical-align: middle;\n",
       "    }\n",
       "\n",
       "    .dataframe tbody tr th {\n",
       "        vertical-align: top;\n",
       "    }\n",
       "\n",
       "    .dataframe thead th {\n",
       "        text-align: right;\n",
       "    }\n",
       "</style>\n",
       "<table border=\"1\" class=\"dataframe\">\n",
       "  <thead>\n",
       "    <tr style=\"text-align: right;\">\n",
       "      <th></th>\n",
       "      <th>map</th>\n",
       "      <th>mrr</th>\n",
       "      <th>avg_sr</th>\n",
       "      <th>avg_ndcg</th>\n",
       "      <th>avg_p3</th>\n",
       "    </tr>\n",
       "  </thead>\n",
       "  <tbody>\n",
       "    <tr>\n",
       "      <th>Ensemble wfm_sc</th>\n",
       "      <td>0.586587</td>\n",
       "      <td>0.812312</td>\n",
       "      <td>0.869369</td>\n",
       "      <td>0.822907</td>\n",
       "      <td>0.444444</td>\n",
       "    </tr>\n",
       "  </tbody>\n",
       "</table>\n",
       "</div>"
      ],
      "text/plain": [
       "                      map       mrr    avg_sr  avg_ndcg    avg_p3\n",
       "Ensemble wfm_sc  0.586587  0.812312  0.869369  0.822907  0.444444"
      ]
     },
     "execution_count": 31,
     "metadata": {},
     "output_type": "execute_result"
    }
   ],
   "source": [
    "# E36 (inshorts 400 sent pairs)\n",
    "pd.DataFrame(calc_metrics(df1),index=df1.Model_name.unique())"
   ]
  },
  {
   "cell_type": "code",
   "execution_count": 32,
   "metadata": {
    "collapsed": true,
    "hidden": true
   },
   "outputs": [
    {
     "name": "stdout",
     "output_type": "stream",
     "text": [
      "Pruned_ 1\n"
     ]
    },
    {
     "data": {
      "text/html": [
       "<div>\n",
       "<style scoped>\n",
       "    .dataframe tbody tr th:only-of-type {\n",
       "        vertical-align: middle;\n",
       "    }\n",
       "\n",
       "    .dataframe tbody tr th {\n",
       "        vertical-align: top;\n",
       "    }\n",
       "\n",
       "    .dataframe thead th {\n",
       "        text-align: right;\n",
       "    }\n",
       "</style>\n",
       "<table border=\"1\" class=\"dataframe\">\n",
       "  <thead>\n",
       "    <tr style=\"text-align: right;\">\n",
       "      <th></th>\n",
       "      <th>map</th>\n",
       "      <th>mrr</th>\n",
       "      <th>avg_sr</th>\n",
       "      <th>avg_ndcg</th>\n",
       "      <th>avg_p3</th>\n",
       "    </tr>\n",
       "  </thead>\n",
       "  <tbody>\n",
       "    <tr>\n",
       "      <th>Ensemble wfm_sc</th>\n",
       "      <td>0.624731</td>\n",
       "      <td>0.807527</td>\n",
       "      <td>0.864516</td>\n",
       "      <td>0.816327</td>\n",
       "      <td>0.509677</td>\n",
       "    </tr>\n",
       "  </tbody>\n",
       "</table>\n",
       "</div>"
      ],
      "text/plain": [
       "                      map       mrr    avg_sr  avg_ndcg    avg_p3\n",
       "Ensemble wfm_sc  0.624731  0.807527  0.864516  0.816327  0.509677"
      ]
     },
     "metadata": {},
     "output_type": "display_data"
    },
    {
     "name": "stdout",
     "output_type": "stream",
     "text": [
      "Pruned_ 2\n"
     ]
    },
    {
     "data": {
      "text/html": [
       "<div>\n",
       "<style scoped>\n",
       "    .dataframe tbody tr th:only-of-type {\n",
       "        vertical-align: middle;\n",
       "    }\n",
       "\n",
       "    .dataframe tbody tr th {\n",
       "        vertical-align: top;\n",
       "    }\n",
       "\n",
       "    .dataframe thead th {\n",
       "        text-align: right;\n",
       "    }\n",
       "</style>\n",
       "<table border=\"1\" class=\"dataframe\">\n",
       "  <thead>\n",
       "    <tr style=\"text-align: right;\">\n",
       "      <th></th>\n",
       "      <th>map</th>\n",
       "      <th>mrr</th>\n",
       "      <th>avg_sr</th>\n",
       "      <th>avg_ndcg</th>\n",
       "      <th>avg_p3</th>\n",
       "    </tr>\n",
       "  </thead>\n",
       "  <tbody>\n",
       "    <tr>\n",
       "      <th>Ensemble wfm_sc</th>\n",
       "      <td>0.64876</td>\n",
       "      <td>0.818182</td>\n",
       "      <td>0.876033</td>\n",
       "      <td>0.826429</td>\n",
       "      <td>0.545455</td>\n",
       "    </tr>\n",
       "  </tbody>\n",
       "</table>\n",
       "</div>"
      ],
      "text/plain": [
       "                     map       mrr    avg_sr  avg_ndcg    avg_p3\n",
       "Ensemble wfm_sc  0.64876  0.818182  0.876033  0.826429  0.545455"
      ]
     },
     "metadata": {},
     "output_type": "display_data"
    },
    {
     "name": "stdout",
     "output_type": "stream",
     "text": [
      "Pruned_ 3\n"
     ]
    },
    {
     "data": {
      "text/html": [
       "<div>\n",
       "<style scoped>\n",
       "    .dataframe tbody tr th:only-of-type {\n",
       "        vertical-align: middle;\n",
       "    }\n",
       "\n",
       "    .dataframe tbody tr th {\n",
       "        vertical-align: top;\n",
       "    }\n",
       "\n",
       "    .dataframe thead th {\n",
       "        text-align: right;\n",
       "    }\n",
       "</style>\n",
       "<table border=\"1\" class=\"dataframe\">\n",
       "  <thead>\n",
       "    <tr style=\"text-align: right;\">\n",
       "      <th></th>\n",
       "      <th>map</th>\n",
       "      <th>mrr</th>\n",
       "      <th>avg_sr</th>\n",
       "      <th>avg_ndcg</th>\n",
       "      <th>avg_p3</th>\n",
       "    </tr>\n",
       "  </thead>\n",
       "  <tbody>\n",
       "    <tr>\n",
       "      <th>Ensemble wfm_sc</th>\n",
       "      <td>0.682703</td>\n",
       "      <td>0.843643</td>\n",
       "      <td>0.896907</td>\n",
       "      <td>0.850799</td>\n",
       "      <td>0.584192</td>\n",
       "    </tr>\n",
       "  </tbody>\n",
       "</table>\n",
       "</div>"
      ],
      "text/plain": [
       "                      map       mrr    avg_sr  avg_ndcg    avg_p3\n",
       "Ensemble wfm_sc  0.682703  0.843643  0.896907  0.850799  0.584192"
      ]
     },
     "metadata": {},
     "output_type": "display_data"
    },
    {
     "name": "stdout",
     "output_type": "stream",
     "text": [
      "Pruned_ 4\n"
     ]
    },
    {
     "data": {
      "text/html": [
       "<div>\n",
       "<style scoped>\n",
       "    .dataframe tbody tr th:only-of-type {\n",
       "        vertical-align: middle;\n",
       "    }\n",
       "\n",
       "    .dataframe tbody tr th {\n",
       "        vertical-align: top;\n",
       "    }\n",
       "\n",
       "    .dataframe thead th {\n",
       "        text-align: right;\n",
       "    }\n",
       "</style>\n",
       "<table border=\"1\" class=\"dataframe\">\n",
       "  <thead>\n",
       "    <tr style=\"text-align: right;\">\n",
       "      <th></th>\n",
       "      <th>map</th>\n",
       "      <th>mrr</th>\n",
       "      <th>avg_sr</th>\n",
       "      <th>avg_ndcg</th>\n",
       "      <th>avg_p3</th>\n",
       "    </tr>\n",
       "  </thead>\n",
       "  <tbody>\n",
       "    <tr>\n",
       "      <th>Ensemble wfm_sc</th>\n",
       "      <td>0.689986</td>\n",
       "      <td>0.849794</td>\n",
       "      <td>0.91358</td>\n",
       "      <td>0.860346</td>\n",
       "      <td>0.600823</td>\n",
       "    </tr>\n",
       "  </tbody>\n",
       "</table>\n",
       "</div>"
      ],
      "text/plain": [
       "                      map       mrr   avg_sr  avg_ndcg    avg_p3\n",
       "Ensemble wfm_sc  0.689986  0.849794  0.91358  0.860346  0.600823"
      ]
     },
     "metadata": {},
     "output_type": "display_data"
    },
    {
     "name": "stdout",
     "output_type": "stream",
     "text": [
      "Pruned_ 5\n"
     ]
    },
    {
     "data": {
      "text/html": [
       "<div>\n",
       "<style scoped>\n",
       "    .dataframe tbody tr th:only-of-type {\n",
       "        vertical-align: middle;\n",
       "    }\n",
       "\n",
       "    .dataframe tbody tr th {\n",
       "        vertical-align: top;\n",
       "    }\n",
       "\n",
       "    .dataframe thead th {\n",
       "        text-align: right;\n",
       "    }\n",
       "</style>\n",
       "<table border=\"1\" class=\"dataframe\">\n",
       "  <thead>\n",
       "    <tr style=\"text-align: right;\">\n",
       "      <th></th>\n",
       "      <th>map</th>\n",
       "      <th>mrr</th>\n",
       "      <th>avg_sr</th>\n",
       "      <th>avg_ndcg</th>\n",
       "      <th>avg_p3</th>\n",
       "    </tr>\n",
       "  </thead>\n",
       "  <tbody>\n",
       "    <tr>\n",
       "      <th>Ensemble wfm_sc</th>\n",
       "      <td>0.700483</td>\n",
       "      <td>0.855072</td>\n",
       "      <td>0.913043</td>\n",
       "      <td>0.864568</td>\n",
       "      <td>0.608696</td>\n",
       "    </tr>\n",
       "  </tbody>\n",
       "</table>\n",
       "</div>"
      ],
      "text/plain": [
       "                      map       mrr    avg_sr  avg_ndcg    avg_p3\n",
       "Ensemble wfm_sc  0.700483  0.855072  0.913043  0.864568  0.608696"
      ]
     },
     "metadata": {},
     "output_type": "display_data"
    },
    {
     "name": "stdout",
     "output_type": "stream",
     "text": [
      "Pruned_ 6\n"
     ]
    },
    {
     "data": {
      "text/html": [
       "<div>\n",
       "<style scoped>\n",
       "    .dataframe tbody tr th:only-of-type {\n",
       "        vertical-align: middle;\n",
       "    }\n",
       "\n",
       "    .dataframe tbody tr th {\n",
       "        vertical-align: top;\n",
       "    }\n",
       "\n",
       "    .dataframe thead th {\n",
       "        text-align: right;\n",
       "    }\n",
       "</style>\n",
       "<table border=\"1\" class=\"dataframe\">\n",
       "  <thead>\n",
       "    <tr style=\"text-align: right;\">\n",
       "      <th></th>\n",
       "      <th>map</th>\n",
       "      <th>mrr</th>\n",
       "      <th>avg_sr</th>\n",
       "      <th>avg_ndcg</th>\n",
       "      <th>avg_p3</th>\n",
       "    </tr>\n",
       "  </thead>\n",
       "  <tbody>\n",
       "    <tr>\n",
       "      <th>Ensemble wfm_sc</th>\n",
       "      <td>0.706061</td>\n",
       "      <td>0.872727</td>\n",
       "      <td>0.945455</td>\n",
       "      <td>0.886099</td>\n",
       "      <td>0.618182</td>\n",
       "    </tr>\n",
       "  </tbody>\n",
       "</table>\n",
       "</div>"
      ],
      "text/plain": [
       "                      map       mrr    avg_sr  avg_ndcg    avg_p3\n",
       "Ensemble wfm_sc  0.706061  0.872727  0.945455  0.886099  0.618182"
      ]
     },
     "metadata": {},
     "output_type": "display_data"
    },
    {
     "name": "stdout",
     "output_type": "stream",
     "text": [
      "Pruned_ 7\n"
     ]
    },
    {
     "data": {
      "text/html": [
       "<div>\n",
       "<style scoped>\n",
       "    .dataframe tbody tr th:only-of-type {\n",
       "        vertical-align: middle;\n",
       "    }\n",
       "\n",
       "    .dataframe tbody tr th {\n",
       "        vertical-align: top;\n",
       "    }\n",
       "\n",
       "    .dataframe thead th {\n",
       "        text-align: right;\n",
       "    }\n",
       "</style>\n",
       "<table border=\"1\" class=\"dataframe\">\n",
       "  <thead>\n",
       "    <tr style=\"text-align: right;\">\n",
       "      <th></th>\n",
       "      <th>map</th>\n",
       "      <th>mrr</th>\n",
       "      <th>avg_sr</th>\n",
       "      <th>avg_ndcg</th>\n",
       "      <th>avg_p3</th>\n",
       "    </tr>\n",
       "  </thead>\n",
       "  <tbody>\n",
       "    <tr>\n",
       "      <th>Ensemble wfm_sc</th>\n",
       "      <td>0.735802</td>\n",
       "      <td>0.888889</td>\n",
       "      <td>0.955556</td>\n",
       "      <td>0.899809</td>\n",
       "      <td>0.651852</td>\n",
       "    </tr>\n",
       "  </tbody>\n",
       "</table>\n",
       "</div>"
      ],
      "text/plain": [
       "                      map       mrr    avg_sr  avg_ndcg    avg_p3\n",
       "Ensemble wfm_sc  0.735802  0.888889  0.955556  0.899809  0.651852"
      ]
     },
     "metadata": {},
     "output_type": "display_data"
    },
    {
     "name": "stdout",
     "output_type": "stream",
     "text": [
      "Pruned_ 8\n"
     ]
    },
    {
     "data": {
      "text/html": [
       "<div>\n",
       "<style scoped>\n",
       "    .dataframe tbody tr th:only-of-type {\n",
       "        vertical-align: middle;\n",
       "    }\n",
       "\n",
       "    .dataframe tbody tr th {\n",
       "        vertical-align: top;\n",
       "    }\n",
       "\n",
       "    .dataframe thead th {\n",
       "        text-align: right;\n",
       "    }\n",
       "</style>\n",
       "<table border=\"1\" class=\"dataframe\">\n",
       "  <thead>\n",
       "    <tr style=\"text-align: right;\">\n",
       "      <th></th>\n",
       "      <th>map</th>\n",
       "      <th>mrr</th>\n",
       "      <th>avg_sr</th>\n",
       "      <th>avg_ndcg</th>\n",
       "      <th>avg_p3</th>\n",
       "    </tr>\n",
       "  </thead>\n",
       "  <tbody>\n",
       "    <tr>\n",
       "      <th>Ensemble wfm_sc</th>\n",
       "      <td>0.742284</td>\n",
       "      <td>0.902778</td>\n",
       "      <td>0.972222</td>\n",
       "      <td>0.912791</td>\n",
       "      <td>0.657407</td>\n",
       "    </tr>\n",
       "  </tbody>\n",
       "</table>\n",
       "</div>"
      ],
      "text/plain": [
       "                      map       mrr    avg_sr  avg_ndcg    avg_p3\n",
       "Ensemble wfm_sc  0.742284  0.902778  0.972222  0.912791  0.657407"
      ]
     },
     "metadata": {},
     "output_type": "display_data"
    },
    {
     "name": "stdout",
     "output_type": "stream",
     "text": [
      "Pruned_ 9\n"
     ]
    },
    {
     "data": {
      "text/html": [
       "<div>\n",
       "<style scoped>\n",
       "    .dataframe tbody tr th:only-of-type {\n",
       "        vertical-align: middle;\n",
       "    }\n",
       "\n",
       "    .dataframe tbody tr th {\n",
       "        vertical-align: top;\n",
       "    }\n",
       "\n",
       "    .dataframe thead th {\n",
       "        text-align: right;\n",
       "    }\n",
       "</style>\n",
       "<table border=\"1\" class=\"dataframe\">\n",
       "  <thead>\n",
       "    <tr style=\"text-align: right;\">\n",
       "      <th></th>\n",
       "      <th>map</th>\n",
       "      <th>mrr</th>\n",
       "      <th>avg_sr</th>\n",
       "      <th>avg_ndcg</th>\n",
       "      <th>avg_p3</th>\n",
       "    </tr>\n",
       "  </thead>\n",
       "  <tbody>\n",
       "    <tr>\n",
       "      <th>Ensemble wfm_sc</th>\n",
       "      <td>0.759259</td>\n",
       "      <td>0.907407</td>\n",
       "      <td>0.962963</td>\n",
       "      <td>0.917665</td>\n",
       "      <td>0.666667</td>\n",
       "    </tr>\n",
       "  </tbody>\n",
       "</table>\n",
       "</div>"
      ],
      "text/plain": [
       "                      map       mrr    avg_sr  avg_ndcg    avg_p3\n",
       "Ensemble wfm_sc  0.759259  0.907407  0.962963  0.917665  0.666667"
      ]
     },
     "metadata": {},
     "output_type": "display_data"
    },
    {
     "name": "stdout",
     "output_type": "stream",
     "text": [
      "Pruned_ 10\n"
     ]
    },
    {
     "data": {
      "text/html": [
       "<div>\n",
       "<style scoped>\n",
       "    .dataframe tbody tr th:only-of-type {\n",
       "        vertical-align: middle;\n",
       "    }\n",
       "\n",
       "    .dataframe tbody tr th {\n",
       "        vertical-align: top;\n",
       "    }\n",
       "\n",
       "    .dataframe thead th {\n",
       "        text-align: right;\n",
       "    }\n",
       "</style>\n",
       "<table border=\"1\" class=\"dataframe\">\n",
       "  <thead>\n",
       "    <tr style=\"text-align: right;\">\n",
       "      <th></th>\n",
       "      <th>map</th>\n",
       "      <th>mrr</th>\n",
       "      <th>avg_sr</th>\n",
       "      <th>avg_ndcg</th>\n",
       "      <th>avg_p3</th>\n",
       "    </tr>\n",
       "  </thead>\n",
       "  <tbody>\n",
       "    <tr>\n",
       "      <th>Ensemble wfm_sc</th>\n",
       "      <td>0.734568</td>\n",
       "      <td>0.888889</td>\n",
       "      <td>0.944444</td>\n",
       "      <td>0.901461</td>\n",
       "      <td>0.648148</td>\n",
       "    </tr>\n",
       "  </tbody>\n",
       "</table>\n",
       "</div>"
      ],
      "text/plain": [
       "                      map       mrr    avg_sr  avg_ndcg    avg_p3\n",
       "Ensemble wfm_sc  0.734568  0.888889  0.944444  0.901461  0.648148"
      ]
     },
     "metadata": {},
     "output_type": "display_data"
    },
    {
     "name": "stdout",
     "output_type": "stream",
     "text": [
      "[86, 88, 90, 91, 91, 95, 96, 97, 96, 94]\n"
     ]
    }
   ],
   "source": [
    "ml = []\n",
    "for i in range(1,11):\n",
    "    print('Pruned_',i)\n",
    "    df1 = pd.read_csv(\"/home/ritwik/git/AshaQnA/other_codes/Metrics/Data/E_36_pruned_\"+str(i)+\".csv\")\n",
    "    mat_bin = get_data(df1[[\"final_1\",\"final_2\",\"final_3\"]],[1,2])    \n",
    "    display(pd.DataFrame(calc_metrics(df1),index=df1.Model_name.unique()))\n",
    "    ml.append(round(calc_metrics(df1)['avg_sr']*100))\n",
    "print(ml)"
   ]
  },
  {
   "cell_type": "code",
   "execution_count": 42,
   "metadata": {
    "hidden": true
   },
   "outputs": [
    {
     "data": {
      "text/html": [
       "<div>\n",
       "<style scoped>\n",
       "    .dataframe tbody tr th:only-of-type {\n",
       "        vertical-align: middle;\n",
       "    }\n",
       "\n",
       "    .dataframe tbody tr th {\n",
       "        vertical-align: top;\n",
       "    }\n",
       "\n",
       "    .dataframe thead th {\n",
       "        text-align: right;\n",
       "    }\n",
       "</style>\n",
       "<table border=\"1\" class=\"dataframe\">\n",
       "  <thead>\n",
       "    <tr style=\"text-align: right;\">\n",
       "      <th></th>\n",
       "      <th>map</th>\n",
       "      <th>mrr</th>\n",
       "      <th>avg_sr</th>\n",
       "      <th>avg_ndcg</th>\n",
       "      <th>avg_p5</th>\n",
       "    </tr>\n",
       "  </thead>\n",
       "  <tbody>\n",
       "    <tr>\n",
       "      <th>Ensemble wfm_sc</th>\n",
       "      <td>0.488378</td>\n",
       "      <td>0.826426</td>\n",
       "      <td>0.896396</td>\n",
       "      <td>0.818004</td>\n",
       "      <td>0.327027</td>\n",
       "    </tr>\n",
       "  </tbody>\n",
       "</table>\n",
       "</div>"
      ],
      "text/plain": [
       "                      map       mrr    avg_sr  avg_ndcg    avg_p5\n",
       "Ensemble wfm_sc  0.488378  0.826426  0.896396  0.818004  0.327027"
      ]
     },
     "execution_count": 42,
     "metadata": {},
     "output_type": "execute_result"
    }
   ],
   "source": [
    "# E38 (inshorts 400 sent pairs) top5\n",
    "pd.DataFrame(calc_metrics(df1),index=df1.Model_name.unique())"
   ]
  },
  {
   "cell_type": "code",
   "execution_count": 43,
   "metadata": {
    "collapsed": true,
    "hidden": true
   },
   "outputs": [
    {
     "name": "stdout",
     "output_type": "stream",
     "text": [
      "Pruned_ 1\n"
     ]
    },
    {
     "data": {
      "text/html": [
       "<div>\n",
       "<style scoped>\n",
       "    .dataframe tbody tr th:only-of-type {\n",
       "        vertical-align: middle;\n",
       "    }\n",
       "\n",
       "    .dataframe tbody tr th {\n",
       "        vertical-align: top;\n",
       "    }\n",
       "\n",
       "    .dataframe thead th {\n",
       "        text-align: right;\n",
       "    }\n",
       "</style>\n",
       "<table border=\"1\" class=\"dataframe\">\n",
       "  <thead>\n",
       "    <tr style=\"text-align: right;\">\n",
       "      <th></th>\n",
       "      <th>map</th>\n",
       "      <th>mrr</th>\n",
       "      <th>avg_sr</th>\n",
       "      <th>avg_ndcg</th>\n",
       "      <th>avg_p5</th>\n",
       "    </tr>\n",
       "  </thead>\n",
       "  <tbody>\n",
       "    <tr>\n",
       "      <th>Ensemble wfm_sc</th>\n",
       "      <td>0.538323</td>\n",
       "      <td>0.829462</td>\n",
       "      <td>0.883871</td>\n",
       "      <td>0.806499</td>\n",
       "      <td>0.388387</td>\n",
       "    </tr>\n",
       "  </tbody>\n",
       "</table>\n",
       "</div>"
      ],
      "text/plain": [
       "                      map       mrr    avg_sr  avg_ndcg    avg_p5\n",
       "Ensemble wfm_sc  0.538323  0.829462  0.883871  0.806499  0.388387"
      ]
     },
     "metadata": {},
     "output_type": "display_data"
    },
    {
     "name": "stdout",
     "output_type": "stream",
     "text": [
      "Pruned_ 2\n"
     ]
    },
    {
     "data": {
      "text/html": [
       "<div>\n",
       "<style scoped>\n",
       "    .dataframe tbody tr th:only-of-type {\n",
       "        vertical-align: middle;\n",
       "    }\n",
       "\n",
       "    .dataframe tbody tr th {\n",
       "        vertical-align: top;\n",
       "    }\n",
       "\n",
       "    .dataframe thead th {\n",
       "        text-align: right;\n",
       "    }\n",
       "</style>\n",
       "<table border=\"1\" class=\"dataframe\">\n",
       "  <thead>\n",
       "    <tr style=\"text-align: right;\">\n",
       "      <th></th>\n",
       "      <th>map</th>\n",
       "      <th>mrr</th>\n",
       "      <th>avg_sr</th>\n",
       "      <th>avg_ndcg</th>\n",
       "      <th>avg_p5</th>\n",
       "    </tr>\n",
       "  </thead>\n",
       "  <tbody>\n",
       "    <tr>\n",
       "      <th>Ensemble wfm_sc</th>\n",
       "      <td>0.57011</td>\n",
       "      <td>0.839118</td>\n",
       "      <td>0.900826</td>\n",
       "      <td>0.817377</td>\n",
       "      <td>0.429752</td>\n",
       "    </tr>\n",
       "  </tbody>\n",
       "</table>\n",
       "</div>"
      ],
      "text/plain": [
       "                     map       mrr    avg_sr  avg_ndcg    avg_p5\n",
       "Ensemble wfm_sc  0.57011  0.839118  0.900826  0.817377  0.429752"
      ]
     },
     "metadata": {},
     "output_type": "display_data"
    },
    {
     "name": "stdout",
     "output_type": "stream",
     "text": [
      "Pruned_ 3\n"
     ]
    },
    {
     "data": {
      "text/html": [
       "<div>\n",
       "<style scoped>\n",
       "    .dataframe tbody tr th:only-of-type {\n",
       "        vertical-align: middle;\n",
       "    }\n",
       "\n",
       "    .dataframe tbody tr th {\n",
       "        vertical-align: top;\n",
       "    }\n",
       "\n",
       "    .dataframe thead th {\n",
       "        text-align: right;\n",
       "    }\n",
       "</style>\n",
       "<table border=\"1\" class=\"dataframe\">\n",
       "  <thead>\n",
       "    <tr style=\"text-align: right;\">\n",
       "      <th></th>\n",
       "      <th>map</th>\n",
       "      <th>mrr</th>\n",
       "      <th>avg_sr</th>\n",
       "      <th>avg_ndcg</th>\n",
       "      <th>avg_p5</th>\n",
       "    </tr>\n",
       "  </thead>\n",
       "  <tbody>\n",
       "    <tr>\n",
       "      <th>Ensemble wfm_sc</th>\n",
       "      <td>0.611203</td>\n",
       "      <td>0.869416</td>\n",
       "      <td>0.927835</td>\n",
       "      <td>0.849185</td>\n",
       "      <td>0.470103</td>\n",
       "    </tr>\n",
       "  </tbody>\n",
       "</table>\n",
       "</div>"
      ],
      "text/plain": [
       "                      map       mrr    avg_sr  avg_ndcg    avg_p5\n",
       "Ensemble wfm_sc  0.611203  0.869416  0.927835  0.849185  0.470103"
      ]
     },
     "metadata": {},
     "output_type": "display_data"
    },
    {
     "name": "stdout",
     "output_type": "stream",
     "text": [
      "Pruned_ 4\n"
     ]
    },
    {
     "data": {
      "text/html": [
       "<div>\n",
       "<style scoped>\n",
       "    .dataframe tbody tr th:only-of-type {\n",
       "        vertical-align: middle;\n",
       "    }\n",
       "\n",
       "    .dataframe tbody tr th {\n",
       "        vertical-align: top;\n",
       "    }\n",
       "\n",
       "    .dataframe thead th {\n",
       "        text-align: right;\n",
       "    }\n",
       "</style>\n",
       "<table border=\"1\" class=\"dataframe\">\n",
       "  <thead>\n",
       "    <tr style=\"text-align: right;\">\n",
       "      <th></th>\n",
       "      <th>map</th>\n",
       "      <th>mrr</th>\n",
       "      <th>avg_sr</th>\n",
       "      <th>avg_ndcg</th>\n",
       "      <th>avg_p5</th>\n",
       "    </tr>\n",
       "  </thead>\n",
       "  <tbody>\n",
       "    <tr>\n",
       "      <th>Ensemble wfm_sc</th>\n",
       "      <td>0.625967</td>\n",
       "      <td>0.876543</td>\n",
       "      <td>0.938272</td>\n",
       "      <td>0.856215</td>\n",
       "      <td>0.488889</td>\n",
       "    </tr>\n",
       "  </tbody>\n",
       "</table>\n",
       "</div>"
      ],
      "text/plain": [
       "                      map       mrr    avg_sr  avg_ndcg    avg_p5\n",
       "Ensemble wfm_sc  0.625967  0.876543  0.938272  0.856215  0.488889"
      ]
     },
     "metadata": {},
     "output_type": "display_data"
    },
    {
     "name": "stdout",
     "output_type": "stream",
     "text": [
      "Pruned_ 5\n"
     ]
    },
    {
     "data": {
      "text/html": [
       "<div>\n",
       "<style scoped>\n",
       "    .dataframe tbody tr th:only-of-type {\n",
       "        vertical-align: middle;\n",
       "    }\n",
       "\n",
       "    .dataframe tbody tr th {\n",
       "        vertical-align: top;\n",
       "    }\n",
       "\n",
       "    .dataframe thead th {\n",
       "        text-align: right;\n",
       "    }\n",
       "</style>\n",
       "<table border=\"1\" class=\"dataframe\">\n",
       "  <thead>\n",
       "    <tr style=\"text-align: right;\">\n",
       "      <th></th>\n",
       "      <th>map</th>\n",
       "      <th>mrr</th>\n",
       "      <th>avg_sr</th>\n",
       "      <th>avg_ndcg</th>\n",
       "      <th>avg_p5</th>\n",
       "    </tr>\n",
       "  </thead>\n",
       "  <tbody>\n",
       "    <tr>\n",
       "      <th>Ensemble wfm_sc</th>\n",
       "      <td>0.639275</td>\n",
       "      <td>0.888889</td>\n",
       "      <td>0.942029</td>\n",
       "      <td>0.862774</td>\n",
       "      <td>0.504348</td>\n",
       "    </tr>\n",
       "  </tbody>\n",
       "</table>\n",
       "</div>"
      ],
      "text/plain": [
       "                      map       mrr    avg_sr  avg_ndcg    avg_p5\n",
       "Ensemble wfm_sc  0.639275  0.888889  0.942029  0.862774  0.504348"
      ]
     },
     "metadata": {},
     "output_type": "display_data"
    },
    {
     "name": "stdout",
     "output_type": "stream",
     "text": [
      "Pruned_ 6\n"
     ]
    },
    {
     "data": {
      "text/html": [
       "<div>\n",
       "<style scoped>\n",
       "    .dataframe tbody tr th:only-of-type {\n",
       "        vertical-align: middle;\n",
       "    }\n",
       "\n",
       "    .dataframe tbody tr th {\n",
       "        vertical-align: top;\n",
       "    }\n",
       "\n",
       "    .dataframe thead th {\n",
       "        text-align: right;\n",
       "    }\n",
       "</style>\n",
       "<table border=\"1\" class=\"dataframe\">\n",
       "  <thead>\n",
       "    <tr style=\"text-align: right;\">\n",
       "      <th></th>\n",
       "      <th>map</th>\n",
       "      <th>mrr</th>\n",
       "      <th>avg_sr</th>\n",
       "      <th>avg_ndcg</th>\n",
       "      <th>avg_p5</th>\n",
       "    </tr>\n",
       "  </thead>\n",
       "  <tbody>\n",
       "    <tr>\n",
       "      <th>Ensemble wfm_sc</th>\n",
       "      <td>0.641091</td>\n",
       "      <td>0.90303</td>\n",
       "      <td>0.963636</td>\n",
       "      <td>0.877431</td>\n",
       "      <td>0.505455</td>\n",
       "    </tr>\n",
       "  </tbody>\n",
       "</table>\n",
       "</div>"
      ],
      "text/plain": [
       "                      map      mrr    avg_sr  avg_ndcg    avg_p5\n",
       "Ensemble wfm_sc  0.641091  0.90303  0.963636  0.877431  0.505455"
      ]
     },
     "metadata": {},
     "output_type": "display_data"
    },
    {
     "name": "stdout",
     "output_type": "stream",
     "text": [
      "Pruned_ 7\n"
     ]
    },
    {
     "data": {
      "text/html": [
       "<div>\n",
       "<style scoped>\n",
       "    .dataframe tbody tr th:only-of-type {\n",
       "        vertical-align: middle;\n",
       "    }\n",
       "\n",
       "    .dataframe tbody tr th {\n",
       "        vertical-align: top;\n",
       "    }\n",
       "\n",
       "    .dataframe thead th {\n",
       "        text-align: right;\n",
       "    }\n",
       "</style>\n",
       "<table border=\"1\" class=\"dataframe\">\n",
       "  <thead>\n",
       "    <tr style=\"text-align: right;\">\n",
       "      <th></th>\n",
       "      <th>map</th>\n",
       "      <th>mrr</th>\n",
       "      <th>avg_sr</th>\n",
       "      <th>avg_ndcg</th>\n",
       "      <th>avg_p5</th>\n",
       "    </tr>\n",
       "  </thead>\n",
       "  <tbody>\n",
       "    <tr>\n",
       "      <th>Ensemble wfm_sc</th>\n",
       "      <td>0.661407</td>\n",
       "      <td>0.918519</td>\n",
       "      <td>0.955556</td>\n",
       "      <td>0.884907</td>\n",
       "      <td>0.52</td>\n",
       "    </tr>\n",
       "  </tbody>\n",
       "</table>\n",
       "</div>"
      ],
      "text/plain": [
       "                      map       mrr    avg_sr  avg_ndcg  avg_p5\n",
       "Ensemble wfm_sc  0.661407  0.918519  0.955556  0.884907    0.52"
      ]
     },
     "metadata": {},
     "output_type": "display_data"
    },
    {
     "name": "stdout",
     "output_type": "stream",
     "text": [
      "Pruned_ 8\n"
     ]
    },
    {
     "data": {
      "text/html": [
       "<div>\n",
       "<style scoped>\n",
       "    .dataframe tbody tr th:only-of-type {\n",
       "        vertical-align: middle;\n",
       "    }\n",
       "\n",
       "    .dataframe tbody tr th {\n",
       "        vertical-align: top;\n",
       "    }\n",
       "\n",
       "    .dataframe thead th {\n",
       "        text-align: right;\n",
       "    }\n",
       "</style>\n",
       "<table border=\"1\" class=\"dataframe\">\n",
       "  <thead>\n",
       "    <tr style=\"text-align: right;\">\n",
       "      <th></th>\n",
       "      <th>map</th>\n",
       "      <th>mrr</th>\n",
       "      <th>avg_sr</th>\n",
       "      <th>avg_ndcg</th>\n",
       "      <th>avg_p5</th>\n",
       "    </tr>\n",
       "  </thead>\n",
       "  <tbody>\n",
       "    <tr>\n",
       "      <th>Ensemble wfm_sc</th>\n",
       "      <td>0.681389</td>\n",
       "      <td>0.935185</td>\n",
       "      <td>0.972222</td>\n",
       "      <td>0.902497</td>\n",
       "      <td>0.538889</td>\n",
       "    </tr>\n",
       "  </tbody>\n",
       "</table>\n",
       "</div>"
      ],
      "text/plain": [
       "                      map       mrr    avg_sr  avg_ndcg    avg_p5\n",
       "Ensemble wfm_sc  0.681389  0.935185  0.972222  0.902497  0.538889"
      ]
     },
     "metadata": {},
     "output_type": "display_data"
    },
    {
     "name": "stdout",
     "output_type": "stream",
     "text": [
      "Pruned_ 9\n"
     ]
    },
    {
     "data": {
      "text/html": [
       "<div>\n",
       "<style scoped>\n",
       "    .dataframe tbody tr th:only-of-type {\n",
       "        vertical-align: middle;\n",
       "    }\n",
       "\n",
       "    .dataframe tbody tr th {\n",
       "        vertical-align: top;\n",
       "    }\n",
       "\n",
       "    .dataframe thead th {\n",
       "        text-align: right;\n",
       "    }\n",
       "</style>\n",
       "<table border=\"1\" class=\"dataframe\">\n",
       "  <thead>\n",
       "    <tr style=\"text-align: right;\">\n",
       "      <th></th>\n",
       "      <th>map</th>\n",
       "      <th>mrr</th>\n",
       "      <th>avg_sr</th>\n",
       "      <th>avg_ndcg</th>\n",
       "      <th>avg_p5</th>\n",
       "    </tr>\n",
       "  </thead>\n",
       "  <tbody>\n",
       "    <tr>\n",
       "      <th>Ensemble wfm_sc</th>\n",
       "      <td>0.667778</td>\n",
       "      <td>0.91358</td>\n",
       "      <td>0.962963</td>\n",
       "      <td>0.886337</td>\n",
       "      <td>0.533333</td>\n",
       "    </tr>\n",
       "  </tbody>\n",
       "</table>\n",
       "</div>"
      ],
      "text/plain": [
       "                      map      mrr    avg_sr  avg_ndcg    avg_p5\n",
       "Ensemble wfm_sc  0.667778  0.91358  0.962963  0.886337  0.533333"
      ]
     },
     "metadata": {},
     "output_type": "display_data"
    },
    {
     "name": "stdout",
     "output_type": "stream",
     "text": [
      "Pruned_ 10\n"
     ]
    },
    {
     "data": {
      "text/html": [
       "<div>\n",
       "<style scoped>\n",
       "    .dataframe tbody tr th:only-of-type {\n",
       "        vertical-align: middle;\n",
       "    }\n",
       "\n",
       "    .dataframe tbody tr th {\n",
       "        vertical-align: top;\n",
       "    }\n",
       "\n",
       "    .dataframe thead th {\n",
       "        text-align: right;\n",
       "    }\n",
       "</style>\n",
       "<table border=\"1\" class=\"dataframe\">\n",
       "  <thead>\n",
       "    <tr style=\"text-align: right;\">\n",
       "      <th></th>\n",
       "      <th>map</th>\n",
       "      <th>mrr</th>\n",
       "      <th>avg_sr</th>\n",
       "      <th>avg_ndcg</th>\n",
       "      <th>avg_p5</th>\n",
       "    </tr>\n",
       "  </thead>\n",
       "  <tbody>\n",
       "    <tr>\n",
       "      <th>Ensemble wfm_sc</th>\n",
       "      <td>0.634074</td>\n",
       "      <td>0.898148</td>\n",
       "      <td>0.944444</td>\n",
       "      <td>0.858311</td>\n",
       "      <td>0.522222</td>\n",
       "    </tr>\n",
       "  </tbody>\n",
       "</table>\n",
       "</div>"
      ],
      "text/plain": [
       "                      map       mrr    avg_sr  avg_ndcg    avg_p5\n",
       "Ensemble wfm_sc  0.634074  0.898148  0.944444  0.858311  0.522222"
      ]
     },
     "metadata": {},
     "output_type": "display_data"
    },
    {
     "name": "stdout",
     "output_type": "stream",
     "text": [
      "[88, 90, 93, 94, 94, 96, 96, 97, 96, 94]\n"
     ]
    }
   ],
   "source": [
    "ml = []\n",
    "for i in range(1,11):\n",
    "    print('Pruned_',i)\n",
    "    df1 = pd.read_csv(\"/home/ritwik/git/AshaQnA/other_codes/Metrics/Data/E_38_pruned_\"+str(i)+\".csv\")\n",
    "    mat_bin = get_data(df1[[\"final_1\",\"final_2\",\"final_3\",\"final_4\",\"final_5\"]],[1,2])    \n",
    "    display(pd.DataFrame(calc_metrics(df1),index=df1.Model_name.unique()))\n",
    "    ml.append(round(calc_metrics(df1)['avg_sr']*100))\n",
    "print(ml)"
   ]
  },
  {
   "cell_type": "code",
   "execution_count": 102,
   "metadata": {
    "hidden": true
   },
   "outputs": [
    {
     "data": {
      "text/html": [
       "<div>\n",
       "<style scoped>\n",
       "    .dataframe tbody tr th:only-of-type {\n",
       "        vertical-align: middle;\n",
       "    }\n",
       "\n",
       "    .dataframe tbody tr th {\n",
       "        vertical-align: top;\n",
       "    }\n",
       "\n",
       "    .dataframe thead th {\n",
       "        text-align: right;\n",
       "    }\n",
       "</style>\n",
       "<table border=\"1\" class=\"dataframe\">\n",
       "  <thead>\n",
       "    <tr style=\"text-align: right;\">\n",
       "      <th></th>\n",
       "      <th>map</th>\n",
       "      <th>mrr</th>\n",
       "      <th>avg_sr</th>\n",
       "      <th>avg_ndcg</th>\n",
       "      <th>avg_p3</th>\n",
       "    </tr>\n",
       "  </thead>\n",
       "  <tbody>\n",
       "    <tr>\n",
       "      <th>Ensemble wfm_sc</th>\n",
       "      <td>0.564064</td>\n",
       "      <td>0.790541</td>\n",
       "      <td>0.846847</td>\n",
       "      <td>0.802448</td>\n",
       "      <td>0.421922</td>\n",
       "    </tr>\n",
       "  </tbody>\n",
       "</table>\n",
       "</div>"
      ],
      "text/plain": [
       "                      map       mrr    avg_sr  avg_ndcg    avg_p3\n",
       "Ensemble wfm_sc  0.564064  0.790541  0.846847  0.802448  0.421922"
      ]
     },
     "execution_count": 102,
     "metadata": {},
     "output_type": "execute_result"
    }
   ],
   "source": [
    "# E32 (inshorts 400 sent pairs)\n",
    "pd.DataFrame(calc_metrics(df1),index=df1.Model_name.unique())"
   ]
  },
  {
   "cell_type": "code",
   "execution_count": 103,
   "metadata": {
    "collapsed": true,
    "hidden": true
   },
   "outputs": [
    {
     "name": "stdout",
     "output_type": "stream",
     "text": [
      "Pruned_ 1\n"
     ]
    },
    {
     "data": {
      "text/html": [
       "<div>\n",
       "<style scoped>\n",
       "    .dataframe tbody tr th:only-of-type {\n",
       "        vertical-align: middle;\n",
       "    }\n",
       "\n",
       "    .dataframe tbody tr th {\n",
       "        vertical-align: top;\n",
       "    }\n",
       "\n",
       "    .dataframe thead th {\n",
       "        text-align: right;\n",
       "    }\n",
       "</style>\n",
       "<table border=\"1\" class=\"dataframe\">\n",
       "  <thead>\n",
       "    <tr style=\"text-align: right;\">\n",
       "      <th></th>\n",
       "      <th>map</th>\n",
       "      <th>mrr</th>\n",
       "      <th>avg_sr</th>\n",
       "      <th>avg_ndcg</th>\n",
       "      <th>avg_p3</th>\n",
       "    </tr>\n",
       "  </thead>\n",
       "  <tbody>\n",
       "    <tr>\n",
       "      <th>Ensemble wfm_sc</th>\n",
       "      <td>0.593548</td>\n",
       "      <td>0.780645</td>\n",
       "      <td>0.851613</td>\n",
       "      <td>0.795165</td>\n",
       "      <td>0.483871</td>\n",
       "    </tr>\n",
       "  </tbody>\n",
       "</table>\n",
       "</div>"
      ],
      "text/plain": [
       "                      map       mrr    avg_sr  avg_ndcg    avg_p3\n",
       "Ensemble wfm_sc  0.593548  0.780645  0.851613  0.795165  0.483871"
      ]
     },
     "metadata": {},
     "output_type": "display_data"
    },
    {
     "name": "stdout",
     "output_type": "stream",
     "text": [
      "Pruned_ 2\n"
     ]
    },
    {
     "data": {
      "text/html": [
       "<div>\n",
       "<style scoped>\n",
       "    .dataframe tbody tr th:only-of-type {\n",
       "        vertical-align: middle;\n",
       "    }\n",
       "\n",
       "    .dataframe tbody tr th {\n",
       "        vertical-align: top;\n",
       "    }\n",
       "\n",
       "    .dataframe thead th {\n",
       "        text-align: right;\n",
       "    }\n",
       "</style>\n",
       "<table border=\"1\" class=\"dataframe\">\n",
       "  <thead>\n",
       "    <tr style=\"text-align: right;\">\n",
       "      <th></th>\n",
       "      <th>map</th>\n",
       "      <th>mrr</th>\n",
       "      <th>avg_sr</th>\n",
       "      <th>avg_ndcg</th>\n",
       "      <th>avg_p3</th>\n",
       "    </tr>\n",
       "  </thead>\n",
       "  <tbody>\n",
       "    <tr>\n",
       "      <th>Ensemble wfm_sc</th>\n",
       "      <td>0.612029</td>\n",
       "      <td>0.785124</td>\n",
       "      <td>0.859504</td>\n",
       "      <td>0.799543</td>\n",
       "      <td>0.517906</td>\n",
       "    </tr>\n",
       "  </tbody>\n",
       "</table>\n",
       "</div>"
      ],
      "text/plain": [
       "                      map       mrr    avg_sr  avg_ndcg    avg_p3\n",
       "Ensemble wfm_sc  0.612029  0.785124  0.859504  0.799543  0.517906"
      ]
     },
     "metadata": {},
     "output_type": "display_data"
    },
    {
     "name": "stdout",
     "output_type": "stream",
     "text": [
      "Pruned_ 3\n"
     ]
    },
    {
     "data": {
      "text/html": [
       "<div>\n",
       "<style scoped>\n",
       "    .dataframe tbody tr th:only-of-type {\n",
       "        vertical-align: middle;\n",
       "    }\n",
       "\n",
       "    .dataframe tbody tr th {\n",
       "        vertical-align: top;\n",
       "    }\n",
       "\n",
       "    .dataframe thead th {\n",
       "        text-align: right;\n",
       "    }\n",
       "</style>\n",
       "<table border=\"1\" class=\"dataframe\">\n",
       "  <thead>\n",
       "    <tr style=\"text-align: right;\">\n",
       "      <th></th>\n",
       "      <th>map</th>\n",
       "      <th>mrr</th>\n",
       "      <th>avg_sr</th>\n",
       "      <th>avg_ndcg</th>\n",
       "      <th>avg_p3</th>\n",
       "    </tr>\n",
       "  </thead>\n",
       "  <tbody>\n",
       "    <tr>\n",
       "      <th>Ensemble wfm_sc</th>\n",
       "      <td>0.649485</td>\n",
       "      <td>0.824742</td>\n",
       "      <td>0.896907</td>\n",
       "      <td>0.836685</td>\n",
       "      <td>0.556701</td>\n",
       "    </tr>\n",
       "  </tbody>\n",
       "</table>\n",
       "</div>"
      ],
      "text/plain": [
       "                      map       mrr    avg_sr  avg_ndcg    avg_p3\n",
       "Ensemble wfm_sc  0.649485  0.824742  0.896907  0.836685  0.556701"
      ]
     },
     "metadata": {},
     "output_type": "display_data"
    },
    {
     "name": "stdout",
     "output_type": "stream",
     "text": [
      "Pruned_ 4\n"
     ]
    },
    {
     "data": {
      "text/html": [
       "<div>\n",
       "<style scoped>\n",
       "    .dataframe tbody tr th:only-of-type {\n",
       "        vertical-align: middle;\n",
       "    }\n",
       "\n",
       "    .dataframe tbody tr th {\n",
       "        vertical-align: top;\n",
       "    }\n",
       "\n",
       "    .dataframe thead th {\n",
       "        text-align: right;\n",
       "    }\n",
       "</style>\n",
       "<table border=\"1\" class=\"dataframe\">\n",
       "  <thead>\n",
       "    <tr style=\"text-align: right;\">\n",
       "      <th></th>\n",
       "      <th>map</th>\n",
       "      <th>mrr</th>\n",
       "      <th>avg_sr</th>\n",
       "      <th>avg_ndcg</th>\n",
       "      <th>avg_p3</th>\n",
       "    </tr>\n",
       "  </thead>\n",
       "  <tbody>\n",
       "    <tr>\n",
       "      <th>Ensemble wfm_sc</th>\n",
       "      <td>0.652263</td>\n",
       "      <td>0.823045</td>\n",
       "      <td>0.901235</td>\n",
       "      <td>0.837271</td>\n",
       "      <td>0.567901</td>\n",
       "    </tr>\n",
       "  </tbody>\n",
       "</table>\n",
       "</div>"
      ],
      "text/plain": [
       "                      map       mrr    avg_sr  avg_ndcg    avg_p3\n",
       "Ensemble wfm_sc  0.652263  0.823045  0.901235  0.837271  0.567901"
      ]
     },
     "metadata": {},
     "output_type": "display_data"
    },
    {
     "name": "stdout",
     "output_type": "stream",
     "text": [
      "Pruned_ 5\n"
     ]
    },
    {
     "data": {
      "text/html": [
       "<div>\n",
       "<style scoped>\n",
       "    .dataframe tbody tr th:only-of-type {\n",
       "        vertical-align: middle;\n",
       "    }\n",
       "\n",
       "    .dataframe tbody tr th {\n",
       "        vertical-align: top;\n",
       "    }\n",
       "\n",
       "    .dataframe thead th {\n",
       "        text-align: right;\n",
       "    }\n",
       "</style>\n",
       "<table border=\"1\" class=\"dataframe\">\n",
       "  <thead>\n",
       "    <tr style=\"text-align: right;\">\n",
       "      <th></th>\n",
       "      <th>map</th>\n",
       "      <th>mrr</th>\n",
       "      <th>avg_sr</th>\n",
       "      <th>avg_ndcg</th>\n",
       "      <th>avg_p3</th>\n",
       "    </tr>\n",
       "  </thead>\n",
       "  <tbody>\n",
       "    <tr>\n",
       "      <th>Ensemble wfm_sc</th>\n",
       "      <td>0.645733</td>\n",
       "      <td>0.809179</td>\n",
       "      <td>0.884058</td>\n",
       "      <td>0.824151</td>\n",
       "      <td>0.560386</td>\n",
       "    </tr>\n",
       "  </tbody>\n",
       "</table>\n",
       "</div>"
      ],
      "text/plain": [
       "                      map       mrr    avg_sr  avg_ndcg    avg_p3\n",
       "Ensemble wfm_sc  0.645733  0.809179  0.884058  0.824151  0.560386"
      ]
     },
     "metadata": {},
     "output_type": "display_data"
    },
    {
     "name": "stdout",
     "output_type": "stream",
     "text": [
      "Pruned_ 6\n"
     ]
    },
    {
     "data": {
      "text/html": [
       "<div>\n",
       "<style scoped>\n",
       "    .dataframe tbody tr th:only-of-type {\n",
       "        vertical-align: middle;\n",
       "    }\n",
       "\n",
       "    .dataframe tbody tr th {\n",
       "        vertical-align: top;\n",
       "    }\n",
       "\n",
       "    .dataframe thead th {\n",
       "        text-align: right;\n",
       "    }\n",
       "</style>\n",
       "<table border=\"1\" class=\"dataframe\">\n",
       "  <thead>\n",
       "    <tr style=\"text-align: right;\">\n",
       "      <th></th>\n",
       "      <th>map</th>\n",
       "      <th>mrr</th>\n",
       "      <th>avg_sr</th>\n",
       "      <th>avg_ndcg</th>\n",
       "      <th>avg_p3</th>\n",
       "    </tr>\n",
       "  </thead>\n",
       "  <tbody>\n",
       "    <tr>\n",
       "      <th>Ensemble wfm_sc</th>\n",
       "      <td>0.655556</td>\n",
       "      <td>0.824242</td>\n",
       "      <td>0.909091</td>\n",
       "      <td>0.840645</td>\n",
       "      <td>0.575758</td>\n",
       "    </tr>\n",
       "  </tbody>\n",
       "</table>\n",
       "</div>"
      ],
      "text/plain": [
       "                      map       mrr    avg_sr  avg_ndcg    avg_p3\n",
       "Ensemble wfm_sc  0.655556  0.824242  0.909091  0.840645  0.575758"
      ]
     },
     "metadata": {},
     "output_type": "display_data"
    },
    {
     "name": "stdout",
     "output_type": "stream",
     "text": [
      "Pruned_ 7\n"
     ]
    },
    {
     "data": {
      "text/html": [
       "<div>\n",
       "<style scoped>\n",
       "    .dataframe tbody tr th:only-of-type {\n",
       "        vertical-align: middle;\n",
       "    }\n",
       "\n",
       "    .dataframe tbody tr th {\n",
       "        vertical-align: top;\n",
       "    }\n",
       "\n",
       "    .dataframe thead th {\n",
       "        text-align: right;\n",
       "    }\n",
       "</style>\n",
       "<table border=\"1\" class=\"dataframe\">\n",
       "  <thead>\n",
       "    <tr style=\"text-align: right;\">\n",
       "      <th></th>\n",
       "      <th>map</th>\n",
       "      <th>mrr</th>\n",
       "      <th>avg_sr</th>\n",
       "      <th>avg_ndcg</th>\n",
       "      <th>avg_p3</th>\n",
       "    </tr>\n",
       "  </thead>\n",
       "  <tbody>\n",
       "    <tr>\n",
       "      <th>Ensemble wfm_sc</th>\n",
       "      <td>0.677778</td>\n",
       "      <td>0.840741</td>\n",
       "      <td>0.911111</td>\n",
       "      <td>0.850671</td>\n",
       "      <td>0.6</td>\n",
       "    </tr>\n",
       "  </tbody>\n",
       "</table>\n",
       "</div>"
      ],
      "text/plain": [
       "                      map       mrr    avg_sr  avg_ndcg  avg_p3\n",
       "Ensemble wfm_sc  0.677778  0.840741  0.911111  0.850671     0.6"
      ]
     },
     "metadata": {},
     "output_type": "display_data"
    },
    {
     "name": "stdout",
     "output_type": "stream",
     "text": [
      "Pruned_ 8\n"
     ]
    },
    {
     "data": {
      "text/html": [
       "<div>\n",
       "<style scoped>\n",
       "    .dataframe tbody tr th:only-of-type {\n",
       "        vertical-align: middle;\n",
       "    }\n",
       "\n",
       "    .dataframe tbody tr th {\n",
       "        vertical-align: top;\n",
       "    }\n",
       "\n",
       "    .dataframe thead th {\n",
       "        text-align: right;\n",
       "    }\n",
       "</style>\n",
       "<table border=\"1\" class=\"dataframe\">\n",
       "  <thead>\n",
       "    <tr style=\"text-align: right;\">\n",
       "      <th></th>\n",
       "      <th>map</th>\n",
       "      <th>mrr</th>\n",
       "      <th>avg_sr</th>\n",
       "      <th>avg_ndcg</th>\n",
       "      <th>avg_p3</th>\n",
       "    </tr>\n",
       "  </thead>\n",
       "  <tbody>\n",
       "    <tr>\n",
       "      <th>Ensemble wfm_sc</th>\n",
       "      <td>0.70216</td>\n",
       "      <td>0.856481</td>\n",
       "      <td>0.916667</td>\n",
       "      <td>0.862114</td>\n",
       "      <td>0.62037</td>\n",
       "    </tr>\n",
       "  </tbody>\n",
       "</table>\n",
       "</div>"
      ],
      "text/plain": [
       "                     map       mrr    avg_sr  avg_ndcg   avg_p3\n",
       "Ensemble wfm_sc  0.70216  0.856481  0.916667  0.862114  0.62037"
      ]
     },
     "metadata": {},
     "output_type": "display_data"
    },
    {
     "name": "stdout",
     "output_type": "stream",
     "text": [
      "Pruned_ 9\n"
     ]
    },
    {
     "data": {
      "text/html": [
       "<div>\n",
       "<style scoped>\n",
       "    .dataframe tbody tr th:only-of-type {\n",
       "        vertical-align: middle;\n",
       "    }\n",
       "\n",
       "    .dataframe tbody tr th {\n",
       "        vertical-align: top;\n",
       "    }\n",
       "\n",
       "    .dataframe thead th {\n",
       "        text-align: right;\n",
       "    }\n",
       "</style>\n",
       "<table border=\"1\" class=\"dataframe\">\n",
       "  <thead>\n",
       "    <tr style=\"text-align: right;\">\n",
       "      <th></th>\n",
       "      <th>map</th>\n",
       "      <th>mrr</th>\n",
       "      <th>avg_sr</th>\n",
       "      <th>avg_ndcg</th>\n",
       "      <th>avg_p3</th>\n",
       "    </tr>\n",
       "  </thead>\n",
       "  <tbody>\n",
       "    <tr>\n",
       "      <th>Ensemble wfm_sc</th>\n",
       "      <td>0.699588</td>\n",
       "      <td>0.864198</td>\n",
       "      <td>0.925926</td>\n",
       "      <td>0.867517</td>\n",
       "      <td>0.617284</td>\n",
       "    </tr>\n",
       "  </tbody>\n",
       "</table>\n",
       "</div>"
      ],
      "text/plain": [
       "                      map       mrr    avg_sr  avg_ndcg    avg_p3\n",
       "Ensemble wfm_sc  0.699588  0.864198  0.925926  0.867517  0.617284"
      ]
     },
     "metadata": {},
     "output_type": "display_data"
    },
    {
     "name": "stdout",
     "output_type": "stream",
     "text": [
      "Pruned_ 10\n"
     ]
    },
    {
     "data": {
      "text/html": [
       "<div>\n",
       "<style scoped>\n",
       "    .dataframe tbody tr th:only-of-type {\n",
       "        vertical-align: middle;\n",
       "    }\n",
       "\n",
       "    .dataframe tbody tr th {\n",
       "        vertical-align: top;\n",
       "    }\n",
       "\n",
       "    .dataframe thead th {\n",
       "        text-align: right;\n",
       "    }\n",
       "</style>\n",
       "<table border=\"1\" class=\"dataframe\">\n",
       "  <thead>\n",
       "    <tr style=\"text-align: right;\">\n",
       "      <th></th>\n",
       "      <th>map</th>\n",
       "      <th>mrr</th>\n",
       "      <th>avg_sr</th>\n",
       "      <th>avg_ndcg</th>\n",
       "      <th>avg_p3</th>\n",
       "    </tr>\n",
       "  </thead>\n",
       "  <tbody>\n",
       "    <tr>\n",
       "      <th>Ensemble wfm_sc</th>\n",
       "      <td>0.675926</td>\n",
       "      <td>0.851852</td>\n",
       "      <td>0.944444</td>\n",
       "      <td>0.865751</td>\n",
       "      <td>0.611111</td>\n",
       "    </tr>\n",
       "  </tbody>\n",
       "</table>\n",
       "</div>"
      ],
      "text/plain": [
       "                      map       mrr    avg_sr  avg_ndcg    avg_p3\n",
       "Ensemble wfm_sc  0.675926  0.851852  0.944444  0.865751  0.611111"
      ]
     },
     "metadata": {},
     "output_type": "display_data"
    },
    {
     "name": "stdout",
     "output_type": "stream",
     "text": [
      "[85, 86, 90, 90, 88, 91, 91, 92, 93, 94]\n"
     ]
    }
   ],
   "source": [
    "ml = []\n",
    "for i in range(1,11):\n",
    "    print('Pruned_',i)\n",
    "    df1 = pd.read_csv(\"/home/ritwik/git/AshaQnA/other_codes/Metrics/Data/E_32_pruned_\"+str(i)+\".csv\")\n",
    "    mat_bin = get_data(df1[[\"final_1\",\"final_2\",\"final_3\"]],[1,2])    \n",
    "    display(pd.DataFrame(calc_metrics(df1),index=df1.Model_name.unique()))\n",
    "    ml.append(round(calc_metrics(df1)['avg_sr']*100))\n",
    "print(ml)"
   ]
  },
  {
   "cell_type": "code",
   "execution_count": 107,
   "metadata": {
    "hidden": true
   },
   "outputs": [
    {
     "data": {
      "text/html": [
       "<div>\n",
       "<style scoped>\n",
       "    .dataframe tbody tr th:only-of-type {\n",
       "        vertical-align: middle;\n",
       "    }\n",
       "\n",
       "    .dataframe tbody tr th {\n",
       "        vertical-align: top;\n",
       "    }\n",
       "\n",
       "    .dataframe thead th {\n",
       "        text-align: right;\n",
       "    }\n",
       "</style>\n",
       "<table border=\"1\" class=\"dataframe\">\n",
       "  <thead>\n",
       "    <tr style=\"text-align: right;\">\n",
       "      <th></th>\n",
       "      <th>map</th>\n",
       "      <th>mrr</th>\n",
       "      <th>avg_sr</th>\n",
       "      <th>avg_ndcg</th>\n",
       "      <th>avg_p5</th>\n",
       "    </tr>\n",
       "  </thead>\n",
       "  <tbody>\n",
       "    <tr>\n",
       "      <th>Ensemble wfm_sc</th>\n",
       "      <td>0.478949</td>\n",
       "      <td>0.816517</td>\n",
       "      <td>0.896396</td>\n",
       "      <td>0.815626</td>\n",
       "      <td>0.318919</td>\n",
       "    </tr>\n",
       "  </tbody>\n",
       "</table>\n",
       "</div>"
      ],
      "text/plain": [
       "                      map       mrr    avg_sr  avg_ndcg    avg_p5\n",
       "Ensemble wfm_sc  0.478949  0.816517  0.896396  0.815626  0.318919"
      ]
     },
     "execution_count": 107,
     "metadata": {},
     "output_type": "execute_result"
    }
   ],
   "source": [
    "# E34 (inshorts 400 sent pairs) top5\n",
    "pd.DataFrame(calc_metrics(df1),index=df1.Model_name.unique())"
   ]
  },
  {
   "cell_type": "code",
   "execution_count": 247,
   "metadata": {
    "hidden": true
   },
   "outputs": [
    {
     "data": {
      "text/html": [
       "<div>\n",
       "<style scoped>\n",
       "    .dataframe tbody tr th:only-of-type {\n",
       "        vertical-align: middle;\n",
       "    }\n",
       "\n",
       "    .dataframe tbody tr th {\n",
       "        vertical-align: top;\n",
       "    }\n",
       "\n",
       "    .dataframe thead th {\n",
       "        text-align: right;\n",
       "    }\n",
       "</style>\n",
       "<table border=\"1\" class=\"dataframe\">\n",
       "  <thead>\n",
       "    <tr style=\"text-align: right;\">\n",
       "      <th></th>\n",
       "      <th>map</th>\n",
       "      <th>mrr</th>\n",
       "      <th>avg_sr</th>\n",
       "      <th>avg_ndcg</th>\n",
       "      <th>avg_p3</th>\n",
       "    </tr>\n",
       "  </thead>\n",
       "  <tbody>\n",
       "    <tr>\n",
       "      <th>Ensemble wfm_sc</th>\n",
       "      <td>0.56006</td>\n",
       "      <td>0.783033</td>\n",
       "      <td>0.837838</td>\n",
       "      <td>0.794431</td>\n",
       "      <td>0.423423</td>\n",
       "    </tr>\n",
       "  </tbody>\n",
       "</table>\n",
       "</div>"
      ],
      "text/plain": [
       "                     map       mrr    avg_sr  avg_ndcg    avg_p3\n",
       "Ensemble wfm_sc  0.56006  0.783033  0.837838  0.794431  0.423423"
      ]
     },
     "execution_count": 247,
     "metadata": {},
     "output_type": "execute_result"
    }
   ],
   "source": [
    "# E23 (inshorts 400 sent pairs)\n",
    "pd.DataFrame(calc_metrics(df1),index=df1.Model_name.unique())"
   ]
  },
  {
   "cell_type": "code",
   "execution_count": 361,
   "metadata": {
    "collapsed": true,
    "hidden": true
   },
   "outputs": [
    {
     "name": "stdout",
     "output_type": "stream",
     "text": [
      "Pruned_ 1\n"
     ]
    },
    {
     "data": {
      "text/html": [
       "<div>\n",
       "<style scoped>\n",
       "    .dataframe tbody tr th:only-of-type {\n",
       "        vertical-align: middle;\n",
       "    }\n",
       "\n",
       "    .dataframe tbody tr th {\n",
       "        vertical-align: top;\n",
       "    }\n",
       "\n",
       "    .dataframe thead th {\n",
       "        text-align: right;\n",
       "    }\n",
       "</style>\n",
       "<table border=\"1\" class=\"dataframe\">\n",
       "  <thead>\n",
       "    <tr style=\"text-align: right;\">\n",
       "      <th></th>\n",
       "      <th>map</th>\n",
       "      <th>mrr</th>\n",
       "      <th>avg_sr</th>\n",
       "      <th>avg_ndcg</th>\n",
       "      <th>avg_p3</th>\n",
       "    </tr>\n",
       "  </thead>\n",
       "  <tbody>\n",
       "    <tr>\n",
       "      <th>Ensemble wfm_sc</th>\n",
       "      <td>0.589606</td>\n",
       "      <td>0.773118</td>\n",
       "      <td>0.845161</td>\n",
       "      <td>0.787754</td>\n",
       "      <td>0.488172</td>\n",
       "    </tr>\n",
       "  </tbody>\n",
       "</table>\n",
       "</div>"
      ],
      "text/plain": [
       "                      map       mrr    avg_sr  avg_ndcg    avg_p3\n",
       "Ensemble wfm_sc  0.589606  0.773118  0.845161  0.787754  0.488172"
      ]
     },
     "metadata": {},
     "output_type": "display_data"
    },
    {
     "name": "stdout",
     "output_type": "stream",
     "text": [
      "Pruned_ 2\n"
     ]
    },
    {
     "data": {
      "text/html": [
       "<div>\n",
       "<style scoped>\n",
       "    .dataframe tbody tr th:only-of-type {\n",
       "        vertical-align: middle;\n",
       "    }\n",
       "\n",
       "    .dataframe tbody tr th {\n",
       "        vertical-align: top;\n",
       "    }\n",
       "\n",
       "    .dataframe thead th {\n",
       "        text-align: right;\n",
       "    }\n",
       "</style>\n",
       "<table border=\"1\" class=\"dataframe\">\n",
       "  <thead>\n",
       "    <tr style=\"text-align: right;\">\n",
       "      <th></th>\n",
       "      <th>map</th>\n",
       "      <th>mrr</th>\n",
       "      <th>avg_sr</th>\n",
       "      <th>avg_ndcg</th>\n",
       "      <th>avg_p3</th>\n",
       "    </tr>\n",
       "  </thead>\n",
       "  <tbody>\n",
       "    <tr>\n",
       "      <th>Ensemble wfm_sc</th>\n",
       "      <td>0.608356</td>\n",
       "      <td>0.775482</td>\n",
       "      <td>0.85124</td>\n",
       "      <td>0.789533</td>\n",
       "      <td>0.523416</td>\n",
       "    </tr>\n",
       "  </tbody>\n",
       "</table>\n",
       "</div>"
      ],
      "text/plain": [
       "                      map       mrr   avg_sr  avg_ndcg    avg_p3\n",
       "Ensemble wfm_sc  0.608356  0.775482  0.85124  0.789533  0.523416"
      ]
     },
     "metadata": {},
     "output_type": "display_data"
    },
    {
     "name": "stdout",
     "output_type": "stream",
     "text": [
      "Pruned_ 3\n"
     ]
    },
    {
     "data": {
      "text/html": [
       "<div>\n",
       "<style scoped>\n",
       "    .dataframe tbody tr th:only-of-type {\n",
       "        vertical-align: middle;\n",
       "    }\n",
       "\n",
       "    .dataframe tbody tr th {\n",
       "        vertical-align: top;\n",
       "    }\n",
       "\n",
       "    .dataframe thead th {\n",
       "        text-align: right;\n",
       "    }\n",
       "</style>\n",
       "<table border=\"1\" class=\"dataframe\">\n",
       "  <thead>\n",
       "    <tr style=\"text-align: right;\">\n",
       "      <th></th>\n",
       "      <th>map</th>\n",
       "      <th>mrr</th>\n",
       "      <th>avg_sr</th>\n",
       "      <th>avg_ndcg</th>\n",
       "      <th>avg_p3</th>\n",
       "    </tr>\n",
       "  </thead>\n",
       "  <tbody>\n",
       "    <tr>\n",
       "      <th>Ensemble wfm_sc</th>\n",
       "      <td>0.648912</td>\n",
       "      <td>0.823024</td>\n",
       "      <td>0.896907</td>\n",
       "      <td>0.835335</td>\n",
       "      <td>0.560137</td>\n",
       "    </tr>\n",
       "  </tbody>\n",
       "</table>\n",
       "</div>"
      ],
      "text/plain": [
       "                      map       mrr    avg_sr  avg_ndcg    avg_p3\n",
       "Ensemble wfm_sc  0.648912  0.823024  0.896907  0.835335  0.560137"
      ]
     },
     "metadata": {},
     "output_type": "display_data"
    },
    {
     "name": "stdout",
     "output_type": "stream",
     "text": [
      "Pruned_ 4\n"
     ]
    },
    {
     "data": {
      "text/html": [
       "<div>\n",
       "<style scoped>\n",
       "    .dataframe tbody tr th:only-of-type {\n",
       "        vertical-align: middle;\n",
       "    }\n",
       "\n",
       "    .dataframe tbody tr th {\n",
       "        vertical-align: top;\n",
       "    }\n",
       "\n",
       "    .dataframe thead th {\n",
       "        text-align: right;\n",
       "    }\n",
       "</style>\n",
       "<table border=\"1\" class=\"dataframe\">\n",
       "  <thead>\n",
       "    <tr style=\"text-align: right;\">\n",
       "      <th></th>\n",
       "      <th>map</th>\n",
       "      <th>mrr</th>\n",
       "      <th>avg_sr</th>\n",
       "      <th>avg_ndcg</th>\n",
       "      <th>avg_p3</th>\n",
       "    </tr>\n",
       "  </thead>\n",
       "  <tbody>\n",
       "    <tr>\n",
       "      <th>Ensemble wfm_sc</th>\n",
       "      <td>0.655693</td>\n",
       "      <td>0.82716</td>\n",
       "      <td>0.901235</td>\n",
       "      <td>0.83922</td>\n",
       "      <td>0.572016</td>\n",
       "    </tr>\n",
       "  </tbody>\n",
       "</table>\n",
       "</div>"
      ],
      "text/plain": [
       "                      map      mrr    avg_sr  avg_ndcg    avg_p3\n",
       "Ensemble wfm_sc  0.655693  0.82716  0.901235   0.83922  0.572016"
      ]
     },
     "metadata": {},
     "output_type": "display_data"
    },
    {
     "name": "stdout",
     "output_type": "stream",
     "text": [
      "Pruned_ 5\n"
     ]
    },
    {
     "data": {
      "text/html": [
       "<div>\n",
       "<style scoped>\n",
       "    .dataframe tbody tr th:only-of-type {\n",
       "        vertical-align: middle;\n",
       "    }\n",
       "\n",
       "    .dataframe tbody tr th {\n",
       "        vertical-align: top;\n",
       "    }\n",
       "\n",
       "    .dataframe thead th {\n",
       "        text-align: right;\n",
       "    }\n",
       "</style>\n",
       "<table border=\"1\" class=\"dataframe\">\n",
       "  <thead>\n",
       "    <tr style=\"text-align: right;\">\n",
       "      <th></th>\n",
       "      <th>map</th>\n",
       "      <th>mrr</th>\n",
       "      <th>avg_sr</th>\n",
       "      <th>avg_ndcg</th>\n",
       "      <th>avg_p3</th>\n",
       "    </tr>\n",
       "  </thead>\n",
       "  <tbody>\n",
       "    <tr>\n",
       "      <th>Ensemble wfm_sc</th>\n",
       "      <td>0.651369</td>\n",
       "      <td>0.818841</td>\n",
       "      <td>0.898551</td>\n",
       "      <td>0.833685</td>\n",
       "      <td>0.570048</td>\n",
       "    </tr>\n",
       "  </tbody>\n",
       "</table>\n",
       "</div>"
      ],
      "text/plain": [
       "                      map       mrr    avg_sr  avg_ndcg    avg_p3\n",
       "Ensemble wfm_sc  0.651369  0.818841  0.898551  0.833685  0.570048"
      ]
     },
     "metadata": {},
     "output_type": "display_data"
    },
    {
     "name": "stdout",
     "output_type": "stream",
     "text": [
      "Pruned_ 6\n"
     ]
    },
    {
     "data": {
      "text/html": [
       "<div>\n",
       "<style scoped>\n",
       "    .dataframe tbody tr th:only-of-type {\n",
       "        vertical-align: middle;\n",
       "    }\n",
       "\n",
       "    .dataframe tbody tr th {\n",
       "        vertical-align: top;\n",
       "    }\n",
       "\n",
       "    .dataframe thead th {\n",
       "        text-align: right;\n",
       "    }\n",
       "</style>\n",
       "<table border=\"1\" class=\"dataframe\">\n",
       "  <thead>\n",
       "    <tr style=\"text-align: right;\">\n",
       "      <th></th>\n",
       "      <th>map</th>\n",
       "      <th>mrr</th>\n",
       "      <th>avg_sr</th>\n",
       "      <th>avg_ndcg</th>\n",
       "      <th>avg_p3</th>\n",
       "    </tr>\n",
       "  </thead>\n",
       "  <tbody>\n",
       "    <tr>\n",
       "      <th>Ensemble wfm_sc</th>\n",
       "      <td>0.649495</td>\n",
       "      <td>0.827273</td>\n",
       "      <td>0.927273</td>\n",
       "      <td>0.847355</td>\n",
       "      <td>0.575758</td>\n",
       "    </tr>\n",
       "  </tbody>\n",
       "</table>\n",
       "</div>"
      ],
      "text/plain": [
       "                      map       mrr    avg_sr  avg_ndcg    avg_p3\n",
       "Ensemble wfm_sc  0.649495  0.827273  0.927273  0.847355  0.575758"
      ]
     },
     "metadata": {},
     "output_type": "display_data"
    },
    {
     "name": "stdout",
     "output_type": "stream",
     "text": [
      "Pruned_ 7\n"
     ]
    },
    {
     "data": {
      "text/html": [
       "<div>\n",
       "<style scoped>\n",
       "    .dataframe tbody tr th:only-of-type {\n",
       "        vertical-align: middle;\n",
       "    }\n",
       "\n",
       "    .dataframe tbody tr th {\n",
       "        vertical-align: top;\n",
       "    }\n",
       "\n",
       "    .dataframe thead th {\n",
       "        text-align: right;\n",
       "    }\n",
       "</style>\n",
       "<table border=\"1\" class=\"dataframe\">\n",
       "  <thead>\n",
       "    <tr style=\"text-align: right;\">\n",
       "      <th></th>\n",
       "      <th>map</th>\n",
       "      <th>mrr</th>\n",
       "      <th>avg_sr</th>\n",
       "      <th>avg_ndcg</th>\n",
       "      <th>avg_p3</th>\n",
       "    </tr>\n",
       "  </thead>\n",
       "  <tbody>\n",
       "    <tr>\n",
       "      <th>Ensemble wfm_sc</th>\n",
       "      <td>0.674074</td>\n",
       "      <td>0.848148</td>\n",
       "      <td>0.933333</td>\n",
       "      <td>0.861782</td>\n",
       "      <td>0.6</td>\n",
       "    </tr>\n",
       "  </tbody>\n",
       "</table>\n",
       "</div>"
      ],
      "text/plain": [
       "                      map       mrr    avg_sr  avg_ndcg  avg_p3\n",
       "Ensemble wfm_sc  0.674074  0.848148  0.933333  0.861782     0.6"
      ]
     },
     "metadata": {},
     "output_type": "display_data"
    },
    {
     "name": "stdout",
     "output_type": "stream",
     "text": [
      "Pruned_ 8\n"
     ]
    },
    {
     "data": {
      "text/html": [
       "<div>\n",
       "<style scoped>\n",
       "    .dataframe tbody tr th:only-of-type {\n",
       "        vertical-align: middle;\n",
       "    }\n",
       "\n",
       "    .dataframe tbody tr th {\n",
       "        vertical-align: top;\n",
       "    }\n",
       "\n",
       "    .dataframe thead th {\n",
       "        text-align: right;\n",
       "    }\n",
       "</style>\n",
       "<table border=\"1\" class=\"dataframe\">\n",
       "  <thead>\n",
       "    <tr style=\"text-align: right;\">\n",
       "      <th></th>\n",
       "      <th>map</th>\n",
       "      <th>mrr</th>\n",
       "      <th>avg_sr</th>\n",
       "      <th>avg_ndcg</th>\n",
       "      <th>avg_p3</th>\n",
       "    </tr>\n",
       "  </thead>\n",
       "  <tbody>\n",
       "    <tr>\n",
       "      <th>Ensemble wfm_sc</th>\n",
       "      <td>0.700617</td>\n",
       "      <td>0.865741</td>\n",
       "      <td>0.944444</td>\n",
       "      <td>0.876003</td>\n",
       "      <td>0.62963</td>\n",
       "    </tr>\n",
       "  </tbody>\n",
       "</table>\n",
       "</div>"
      ],
      "text/plain": [
       "                      map       mrr    avg_sr  avg_ndcg   avg_p3\n",
       "Ensemble wfm_sc  0.700617  0.865741  0.944444  0.876003  0.62963"
      ]
     },
     "metadata": {},
     "output_type": "display_data"
    },
    {
     "name": "stdout",
     "output_type": "stream",
     "text": [
      "Pruned_ 9\n"
     ]
    },
    {
     "data": {
      "text/html": [
       "<div>\n",
       "<style scoped>\n",
       "    .dataframe tbody tr th:only-of-type {\n",
       "        vertical-align: middle;\n",
       "    }\n",
       "\n",
       "    .dataframe tbody tr th {\n",
       "        vertical-align: top;\n",
       "    }\n",
       "\n",
       "    .dataframe thead th {\n",
       "        text-align: right;\n",
       "    }\n",
       "</style>\n",
       "<table border=\"1\" class=\"dataframe\">\n",
       "  <thead>\n",
       "    <tr style=\"text-align: right;\">\n",
       "      <th></th>\n",
       "      <th>map</th>\n",
       "      <th>mrr</th>\n",
       "      <th>avg_sr</th>\n",
       "      <th>avg_ndcg</th>\n",
       "      <th>avg_p3</th>\n",
       "    </tr>\n",
       "  </thead>\n",
       "  <tbody>\n",
       "    <tr>\n",
       "      <th>Ensemble wfm_sc</th>\n",
       "      <td>0.697531</td>\n",
       "      <td>0.876543</td>\n",
       "      <td>0.962963</td>\n",
       "      <td>0.886036</td>\n",
       "      <td>0.62963</td>\n",
       "    </tr>\n",
       "  </tbody>\n",
       "</table>\n",
       "</div>"
      ],
      "text/plain": [
       "                      map       mrr    avg_sr  avg_ndcg   avg_p3\n",
       "Ensemble wfm_sc  0.697531  0.876543  0.962963  0.886036  0.62963"
      ]
     },
     "metadata": {},
     "output_type": "display_data"
    },
    {
     "name": "stdout",
     "output_type": "stream",
     "text": [
      "Pruned_ 10\n"
     ]
    },
    {
     "data": {
      "text/html": [
       "<div>\n",
       "<style scoped>\n",
       "    .dataframe tbody tr th:only-of-type {\n",
       "        vertical-align: middle;\n",
       "    }\n",
       "\n",
       "    .dataframe tbody tr th {\n",
       "        vertical-align: top;\n",
       "    }\n",
       "\n",
       "    .dataframe thead th {\n",
       "        text-align: right;\n",
       "    }\n",
       "</style>\n",
       "<table border=\"1\" class=\"dataframe\">\n",
       "  <thead>\n",
       "    <tr style=\"text-align: right;\">\n",
       "      <th></th>\n",
       "      <th>map</th>\n",
       "      <th>mrr</th>\n",
       "      <th>avg_sr</th>\n",
       "      <th>avg_ndcg</th>\n",
       "      <th>avg_p3</th>\n",
       "    </tr>\n",
       "  </thead>\n",
       "  <tbody>\n",
       "    <tr>\n",
       "      <th>Ensemble wfm_sc</th>\n",
       "      <td>0.666667</td>\n",
       "      <td>0.87037</td>\n",
       "      <td>1.0</td>\n",
       "      <td>0.893529</td>\n",
       "      <td>0.611111</td>\n",
       "    </tr>\n",
       "  </tbody>\n",
       "</table>\n",
       "</div>"
      ],
      "text/plain": [
       "                      map      mrr  avg_sr  avg_ndcg    avg_p3\n",
       "Ensemble wfm_sc  0.666667  0.87037     1.0  0.893529  0.611111"
      ]
     },
     "metadata": {},
     "output_type": "display_data"
    },
    {
     "name": "stdout",
     "output_type": "stream",
     "text": [
      "[85, 85, 90, 90, 90, 93, 93, 94, 96, 100]\n"
     ]
    }
   ],
   "source": [
    "ml = []\n",
    "for i in range(1,11):\n",
    "    print('Pruned_',i)\n",
    "    df1 = pd.read_csv(\"/home/ritwik/git/AshaQnA/other_codes/Metrics/Data/E_23_pruned_\"+str(i)+\".csv\")\n",
    "    mat_bin = get_data(df1[[\"final_1\",\"final_2\",\"final_3\"]],[1,2])    \n",
    "    display(pd.DataFrame(calc_metrics(df1),index=df1.Model_name.unique()))\n",
    "    ml.append(round(calc_metrics(df1)['avg_sr']*100))\n",
    "print(ml)"
   ]
  },
  {
   "cell_type": "code",
   "execution_count": 357,
   "metadata": {
    "hidden": true
   },
   "outputs": [
    {
     "data": {
      "text/html": [
       "<div>\n",
       "<style scoped>\n",
       "    .dataframe tbody tr th:only-of-type {\n",
       "        vertical-align: middle;\n",
       "    }\n",
       "\n",
       "    .dataframe tbody tr th {\n",
       "        vertical-align: top;\n",
       "    }\n",
       "\n",
       "    .dataframe thead th {\n",
       "        text-align: right;\n",
       "    }\n",
       "</style>\n",
       "<table border=\"1\" class=\"dataframe\">\n",
       "  <thead>\n",
       "    <tr style=\"text-align: right;\">\n",
       "      <th></th>\n",
       "      <th>map</th>\n",
       "      <th>mrr</th>\n",
       "      <th>avg_sr</th>\n",
       "      <th>avg_ndcg</th>\n",
       "      <th>avg_p3</th>\n",
       "    </tr>\n",
       "  </thead>\n",
       "  <tbody>\n",
       "    <tr>\n",
       "      <th>Ensemble wfm_sc</th>\n",
       "      <td>0.5498</td>\n",
       "      <td>0.77027</td>\n",
       "      <td>0.824324</td>\n",
       "      <td>0.781199</td>\n",
       "      <td>0.412913</td>\n",
       "    </tr>\n",
       "  </tbody>\n",
       "</table>\n",
       "</div>"
      ],
      "text/plain": [
       "                    map      mrr    avg_sr  avg_ndcg    avg_p3\n",
       "Ensemble wfm_sc  0.5498  0.77027  0.824324  0.781199  0.412913"
      ]
     },
     "execution_count": 357,
     "metadata": {},
     "output_type": "execute_result"
    }
   ],
   "source": [
    "# E26 (asha_sentsim dataset)\n",
    "pd.DataFrame(calc_metrics(df1),index=df1.Model_name.unique())"
   ]
  },
  {
   "cell_type": "code",
   "execution_count": 358,
   "metadata": {
    "collapsed": true,
    "hidden": true
   },
   "outputs": [
    {
     "name": "stdout",
     "output_type": "stream",
     "text": [
      "Pruned_ 1\n"
     ]
    },
    {
     "data": {
      "text/html": [
       "<div>\n",
       "<style scoped>\n",
       "    .dataframe tbody tr th:only-of-type {\n",
       "        vertical-align: middle;\n",
       "    }\n",
       "\n",
       "    .dataframe tbody tr th {\n",
       "        vertical-align: top;\n",
       "    }\n",
       "\n",
       "    .dataframe thead th {\n",
       "        text-align: right;\n",
       "    }\n",
       "</style>\n",
       "<table border=\"1\" class=\"dataframe\">\n",
       "  <thead>\n",
       "    <tr style=\"text-align: right;\">\n",
       "      <th></th>\n",
       "      <th>map</th>\n",
       "      <th>mrr</th>\n",
       "      <th>avg_sr</th>\n",
       "      <th>avg_ndcg</th>\n",
       "      <th>avg_p3</th>\n",
       "    </tr>\n",
       "  </thead>\n",
       "  <tbody>\n",
       "    <tr>\n",
       "      <th>Ensemble wfm_sc</th>\n",
       "      <td>0.573118</td>\n",
       "      <td>0.751613</td>\n",
       "      <td>0.819355</td>\n",
       "      <td>0.764732</td>\n",
       "      <td>0.470968</td>\n",
       "    </tr>\n",
       "  </tbody>\n",
       "</table>\n",
       "</div>"
      ],
      "text/plain": [
       "                      map       mrr    avg_sr  avg_ndcg    avg_p3\n",
       "Ensemble wfm_sc  0.573118  0.751613  0.819355  0.764732  0.470968"
      ]
     },
     "metadata": {},
     "output_type": "display_data"
    },
    {
     "name": "stdout",
     "output_type": "stream",
     "text": [
      "Pruned_ 2\n"
     ]
    },
    {
     "data": {
      "text/html": [
       "<div>\n",
       "<style scoped>\n",
       "    .dataframe tbody tr th:only-of-type {\n",
       "        vertical-align: middle;\n",
       "    }\n",
       "\n",
       "    .dataframe tbody tr th {\n",
       "        vertical-align: top;\n",
       "    }\n",
       "\n",
       "    .dataframe thead th {\n",
       "        text-align: right;\n",
       "    }\n",
       "</style>\n",
       "<table border=\"1\" class=\"dataframe\">\n",
       "  <thead>\n",
       "    <tr style=\"text-align: right;\">\n",
       "      <th></th>\n",
       "      <th>map</th>\n",
       "      <th>mrr</th>\n",
       "      <th>avg_sr</th>\n",
       "      <th>avg_ndcg</th>\n",
       "      <th>avg_p3</th>\n",
       "    </tr>\n",
       "  </thead>\n",
       "  <tbody>\n",
       "    <tr>\n",
       "      <th>Ensemble wfm_sc</th>\n",
       "      <td>0.602388</td>\n",
       "      <td>0.769972</td>\n",
       "      <td>0.834711</td>\n",
       "      <td>0.781219</td>\n",
       "      <td>0.509642</td>\n",
       "    </tr>\n",
       "  </tbody>\n",
       "</table>\n",
       "</div>"
      ],
      "text/plain": [
       "                      map       mrr    avg_sr  avg_ndcg    avg_p3\n",
       "Ensemble wfm_sc  0.602388  0.769972  0.834711  0.781219  0.509642"
      ]
     },
     "metadata": {},
     "output_type": "display_data"
    },
    {
     "name": "stdout",
     "output_type": "stream",
     "text": [
      "Pruned_ 3\n"
     ]
    },
    {
     "data": {
      "text/html": [
       "<div>\n",
       "<style scoped>\n",
       "    .dataframe tbody tr th:only-of-type {\n",
       "        vertical-align: middle;\n",
       "    }\n",
       "\n",
       "    .dataframe tbody tr th {\n",
       "        vertical-align: top;\n",
       "    }\n",
       "\n",
       "    .dataframe thead th {\n",
       "        text-align: right;\n",
       "    }\n",
       "</style>\n",
       "<table border=\"1\" class=\"dataframe\">\n",
       "  <thead>\n",
       "    <tr style=\"text-align: right;\">\n",
       "      <th></th>\n",
       "      <th>map</th>\n",
       "      <th>mrr</th>\n",
       "      <th>avg_sr</th>\n",
       "      <th>avg_ndcg</th>\n",
       "      <th>avg_p3</th>\n",
       "    </tr>\n",
       "  </thead>\n",
       "  <tbody>\n",
       "    <tr>\n",
       "      <th>Ensemble wfm_sc</th>\n",
       "      <td>0.653494</td>\n",
       "      <td>0.831615</td>\n",
       "      <td>0.896907</td>\n",
       "      <td>0.841778</td>\n",
       "      <td>0.553265</td>\n",
       "    </tr>\n",
       "  </tbody>\n",
       "</table>\n",
       "</div>"
      ],
      "text/plain": [
       "                      map       mrr    avg_sr  avg_ndcg    avg_p3\n",
       "Ensemble wfm_sc  0.653494  0.831615  0.896907  0.841778  0.553265"
      ]
     },
     "metadata": {},
     "output_type": "display_data"
    },
    {
     "name": "stdout",
     "output_type": "stream",
     "text": [
      "Pruned_ 4\n"
     ]
    },
    {
     "data": {
      "text/html": [
       "<div>\n",
       "<style scoped>\n",
       "    .dataframe tbody tr th:only-of-type {\n",
       "        vertical-align: middle;\n",
       "    }\n",
       "\n",
       "    .dataframe tbody tr th {\n",
       "        vertical-align: top;\n",
       "    }\n",
       "\n",
       "    .dataframe thead th {\n",
       "        text-align: right;\n",
       "    }\n",
       "</style>\n",
       "<table border=\"1\" class=\"dataframe\">\n",
       "  <thead>\n",
       "    <tr style=\"text-align: right;\">\n",
       "      <th></th>\n",
       "      <th>map</th>\n",
       "      <th>mrr</th>\n",
       "      <th>avg_sr</th>\n",
       "      <th>avg_ndcg</th>\n",
       "      <th>avg_p3</th>\n",
       "    </tr>\n",
       "  </thead>\n",
       "  <tbody>\n",
       "    <tr>\n",
       "      <th>Ensemble wfm_sc</th>\n",
       "      <td>0.66118</td>\n",
       "      <td>0.843621</td>\n",
       "      <td>0.91358</td>\n",
       "      <td>0.854726</td>\n",
       "      <td>0.563786</td>\n",
       "    </tr>\n",
       "  </tbody>\n",
       "</table>\n",
       "</div>"
      ],
      "text/plain": [
       "                     map       mrr   avg_sr  avg_ndcg    avg_p3\n",
       "Ensemble wfm_sc  0.66118  0.843621  0.91358  0.854726  0.563786"
      ]
     },
     "metadata": {},
     "output_type": "display_data"
    },
    {
     "name": "stdout",
     "output_type": "stream",
     "text": [
      "Pruned_ 5\n"
     ]
    },
    {
     "data": {
      "text/html": [
       "<div>\n",
       "<style scoped>\n",
       "    .dataframe tbody tr th:only-of-type {\n",
       "        vertical-align: middle;\n",
       "    }\n",
       "\n",
       "    .dataframe tbody tr th {\n",
       "        vertical-align: top;\n",
       "    }\n",
       "\n",
       "    .dataframe thead th {\n",
       "        text-align: right;\n",
       "    }\n",
       "</style>\n",
       "<table border=\"1\" class=\"dataframe\">\n",
       "  <thead>\n",
       "    <tr style=\"text-align: right;\">\n",
       "      <th></th>\n",
       "      <th>map</th>\n",
       "      <th>mrr</th>\n",
       "      <th>avg_sr</th>\n",
       "      <th>avg_ndcg</th>\n",
       "      <th>avg_p3</th>\n",
       "    </tr>\n",
       "  </thead>\n",
       "  <tbody>\n",
       "    <tr>\n",
       "      <th>Ensemble wfm_sc</th>\n",
       "      <td>0.660225</td>\n",
       "      <td>0.833333</td>\n",
       "      <td>0.898551</td>\n",
       "      <td>0.84464</td>\n",
       "      <td>0.560386</td>\n",
       "    </tr>\n",
       "  </tbody>\n",
       "</table>\n",
       "</div>"
      ],
      "text/plain": [
       "                      map       mrr    avg_sr  avg_ndcg    avg_p3\n",
       "Ensemble wfm_sc  0.660225  0.833333  0.898551   0.84464  0.560386"
      ]
     },
     "metadata": {},
     "output_type": "display_data"
    },
    {
     "name": "stdout",
     "output_type": "stream",
     "text": [
      "Pruned_ 6\n"
     ]
    },
    {
     "data": {
      "text/html": [
       "<div>\n",
       "<style scoped>\n",
       "    .dataframe tbody tr th:only-of-type {\n",
       "        vertical-align: middle;\n",
       "    }\n",
       "\n",
       "    .dataframe tbody tr th {\n",
       "        vertical-align: top;\n",
       "    }\n",
       "\n",
       "    .dataframe thead th {\n",
       "        text-align: right;\n",
       "    }\n",
       "</style>\n",
       "<table border=\"1\" class=\"dataframe\">\n",
       "  <thead>\n",
       "    <tr style=\"text-align: right;\">\n",
       "      <th></th>\n",
       "      <th>map</th>\n",
       "      <th>mrr</th>\n",
       "      <th>avg_sr</th>\n",
       "      <th>avg_ndcg</th>\n",
       "      <th>avg_p3</th>\n",
       "    </tr>\n",
       "  </thead>\n",
       "  <tbody>\n",
       "    <tr>\n",
       "      <th>Ensemble wfm_sc</th>\n",
       "      <td>0.655556</td>\n",
       "      <td>0.839394</td>\n",
       "      <td>0.909091</td>\n",
       "      <td>0.850549</td>\n",
       "      <td>0.557576</td>\n",
       "    </tr>\n",
       "  </tbody>\n",
       "</table>\n",
       "</div>"
      ],
      "text/plain": [
       "                      map       mrr    avg_sr  avg_ndcg    avg_p3\n",
       "Ensemble wfm_sc  0.655556  0.839394  0.909091  0.850549  0.557576"
      ]
     },
     "metadata": {},
     "output_type": "display_data"
    },
    {
     "name": "stdout",
     "output_type": "stream",
     "text": [
      "Pruned_ 7\n"
     ]
    },
    {
     "data": {
      "text/html": [
       "<div>\n",
       "<style scoped>\n",
       "    .dataframe tbody tr th:only-of-type {\n",
       "        vertical-align: middle;\n",
       "    }\n",
       "\n",
       "    .dataframe tbody tr th {\n",
       "        vertical-align: top;\n",
       "    }\n",
       "\n",
       "    .dataframe thead th {\n",
       "        text-align: right;\n",
       "    }\n",
       "</style>\n",
       "<table border=\"1\" class=\"dataframe\">\n",
       "  <thead>\n",
       "    <tr style=\"text-align: right;\">\n",
       "      <th></th>\n",
       "      <th>map</th>\n",
       "      <th>mrr</th>\n",
       "      <th>avg_sr</th>\n",
       "      <th>avg_ndcg</th>\n",
       "      <th>avg_p3</th>\n",
       "    </tr>\n",
       "  </thead>\n",
       "  <tbody>\n",
       "    <tr>\n",
       "      <th>Ensemble wfm_sc</th>\n",
       "      <td>0.666667</td>\n",
       "      <td>0.837037</td>\n",
       "      <td>0.911111</td>\n",
       "      <td>0.848156</td>\n",
       "      <td>0.577778</td>\n",
       "    </tr>\n",
       "  </tbody>\n",
       "</table>\n",
       "</div>"
      ],
      "text/plain": [
       "                      map       mrr    avg_sr  avg_ndcg    avg_p3\n",
       "Ensemble wfm_sc  0.666667  0.837037  0.911111  0.848156  0.577778"
      ]
     },
     "metadata": {},
     "output_type": "display_data"
    },
    {
     "name": "stdout",
     "output_type": "stream",
     "text": [
      "Pruned_ 8\n"
     ]
    },
    {
     "data": {
      "text/html": [
       "<div>\n",
       "<style scoped>\n",
       "    .dataframe tbody tr th:only-of-type {\n",
       "        vertical-align: middle;\n",
       "    }\n",
       "\n",
       "    .dataframe tbody tr th {\n",
       "        vertical-align: top;\n",
       "    }\n",
       "\n",
       "    .dataframe thead th {\n",
       "        text-align: right;\n",
       "    }\n",
       "</style>\n",
       "<table border=\"1\" class=\"dataframe\">\n",
       "  <thead>\n",
       "    <tr style=\"text-align: right;\">\n",
       "      <th></th>\n",
       "      <th>map</th>\n",
       "      <th>mrr</th>\n",
       "      <th>avg_sr</th>\n",
       "      <th>avg_ndcg</th>\n",
       "      <th>avg_p3</th>\n",
       "    </tr>\n",
       "  </thead>\n",
       "  <tbody>\n",
       "    <tr>\n",
       "      <th>Ensemble wfm_sc</th>\n",
       "      <td>0.669753</td>\n",
       "      <td>0.837963</td>\n",
       "      <td>0.916667</td>\n",
       "      <td>0.848225</td>\n",
       "      <td>0.592593</td>\n",
       "    </tr>\n",
       "  </tbody>\n",
       "</table>\n",
       "</div>"
      ],
      "text/plain": [
       "                      map       mrr    avg_sr  avg_ndcg    avg_p3\n",
       "Ensemble wfm_sc  0.669753  0.837963  0.916667  0.848225  0.592593"
      ]
     },
     "metadata": {},
     "output_type": "display_data"
    },
    {
     "name": "stdout",
     "output_type": "stream",
     "text": [
      "Pruned_ 9\n"
     ]
    },
    {
     "data": {
      "text/html": [
       "<div>\n",
       "<style scoped>\n",
       "    .dataframe tbody tr th:only-of-type {\n",
       "        vertical-align: middle;\n",
       "    }\n",
       "\n",
       "    .dataframe tbody tr th {\n",
       "        vertical-align: top;\n",
       "    }\n",
       "\n",
       "    .dataframe thead th {\n",
       "        text-align: right;\n",
       "    }\n",
       "</style>\n",
       "<table border=\"1\" class=\"dataframe\">\n",
       "  <thead>\n",
       "    <tr style=\"text-align: right;\">\n",
       "      <th></th>\n",
       "      <th>map</th>\n",
       "      <th>mrr</th>\n",
       "      <th>avg_sr</th>\n",
       "      <th>avg_ndcg</th>\n",
       "      <th>avg_p3</th>\n",
       "    </tr>\n",
       "  </thead>\n",
       "  <tbody>\n",
       "    <tr>\n",
       "      <th>Ensemble wfm_sc</th>\n",
       "      <td>0.695473</td>\n",
       "      <td>0.864198</td>\n",
       "      <td>0.925926</td>\n",
       "      <td>0.87049</td>\n",
       "      <td>0.604938</td>\n",
       "    </tr>\n",
       "  </tbody>\n",
       "</table>\n",
       "</div>"
      ],
      "text/plain": [
       "                      map       mrr    avg_sr  avg_ndcg    avg_p3\n",
       "Ensemble wfm_sc  0.695473  0.864198  0.925926   0.87049  0.604938"
      ]
     },
     "metadata": {},
     "output_type": "display_data"
    },
    {
     "name": "stdout",
     "output_type": "stream",
     "text": [
      "Pruned_ 10\n"
     ]
    },
    {
     "data": {
      "text/html": [
       "<div>\n",
       "<style scoped>\n",
       "    .dataframe tbody tr th:only-of-type {\n",
       "        vertical-align: middle;\n",
       "    }\n",
       "\n",
       "    .dataframe tbody tr th {\n",
       "        vertical-align: top;\n",
       "    }\n",
       "\n",
       "    .dataframe thead th {\n",
       "        text-align: right;\n",
       "    }\n",
       "</style>\n",
       "<table border=\"1\" class=\"dataframe\">\n",
       "  <thead>\n",
       "    <tr style=\"text-align: right;\">\n",
       "      <th></th>\n",
       "      <th>map</th>\n",
       "      <th>mrr</th>\n",
       "      <th>avg_sr</th>\n",
       "      <th>avg_ndcg</th>\n",
       "      <th>avg_p3</th>\n",
       "    </tr>\n",
       "  </thead>\n",
       "  <tbody>\n",
       "    <tr>\n",
       "      <th>Ensemble wfm_sc</th>\n",
       "      <td>0.651235</td>\n",
       "      <td>0.851852</td>\n",
       "      <td>0.944444</td>\n",
       "      <td>0.861291</td>\n",
       "      <td>0.592593</td>\n",
       "    </tr>\n",
       "  </tbody>\n",
       "</table>\n",
       "</div>"
      ],
      "text/plain": [
       "                      map       mrr    avg_sr  avg_ndcg    avg_p3\n",
       "Ensemble wfm_sc  0.651235  0.851852  0.944444  0.861291  0.592593"
      ]
     },
     "metadata": {},
     "output_type": "display_data"
    },
    {
     "name": "stdout",
     "output_type": "stream",
     "text": [
      "[82, 83, 90, 91, 90, 91, 91, 92, 93, 94]\n"
     ]
    }
   ],
   "source": [
    "ml = []\n",
    "for i in range(1,11):\n",
    "    print('Pruned_',i)\n",
    "    df1 = pd.read_csv(\"/home/ritwik/git/AshaQnA/other_codes/Metrics/Data/E_26_pruned_\"+str(i)+\".csv\")\n",
    "    mat_bin = get_data(df1[[\"final_1\",\"final_2\",\"final_3\"]],[1,2])    \n",
    "    display(pd.DataFrame(calc_metrics(df1),index=df1.Model_name.unique()))\n",
    "    ml.append(round(calc_metrics(df1)['avg_sr']*100))\n",
    "print(ml)"
   ]
  },
  {
   "cell_type": "code",
   "execution_count": 395,
   "metadata": {
    "hidden": true
   },
   "outputs": [
    {
     "data": {
      "text/html": [
       "<div>\n",
       "<style scoped>\n",
       "    .dataframe tbody tr th:only-of-type {\n",
       "        vertical-align: middle;\n",
       "    }\n",
       "\n",
       "    .dataframe tbody tr th {\n",
       "        vertical-align: top;\n",
       "    }\n",
       "\n",
       "    .dataframe thead th {\n",
       "        text-align: right;\n",
       "    }\n",
       "</style>\n",
       "<table border=\"1\" class=\"dataframe\">\n",
       "  <thead>\n",
       "    <tr style=\"text-align: right;\">\n",
       "      <th></th>\n",
       "      <th>map</th>\n",
       "      <th>mrr</th>\n",
       "      <th>avg_sr</th>\n",
       "      <th>avg_ndcg</th>\n",
       "      <th>avg_p5</th>\n",
       "    </tr>\n",
       "  </thead>\n",
       "  <tbody>\n",
       "    <tr>\n",
       "      <th>Ensemble wfm_sc</th>\n",
       "      <td>0.481051</td>\n",
       "      <td>0.818619</td>\n",
       "      <td>0.878378</td>\n",
       "      <td>0.807204</td>\n",
       "      <td>0.323423</td>\n",
       "    </tr>\n",
       "  </tbody>\n",
       "</table>\n",
       "</div>"
      ],
      "text/plain": [
       "                      map       mrr    avg_sr  avg_ndcg    avg_p5\n",
       "Ensemble wfm_sc  0.481051  0.818619  0.878378  0.807204  0.323423"
      ]
     },
     "execution_count": 395,
     "metadata": {},
     "output_type": "execute_result"
    }
   ],
   "source": [
    "# E27 | top5 (asha_sentsim dataset)\n",
    "pd.DataFrame(calc_metrics(df1),index=df1.Model_name.unique())"
   ]
  },
  {
   "cell_type": "code",
   "execution_count": 396,
   "metadata": {
    "collapsed": true,
    "hidden": true
   },
   "outputs": [
    {
     "name": "stdout",
     "output_type": "stream",
     "text": [
      "Pruned_ 1\n"
     ]
    },
    {
     "data": {
      "text/html": [
       "<div>\n",
       "<style scoped>\n",
       "    .dataframe tbody tr th:only-of-type {\n",
       "        vertical-align: middle;\n",
       "    }\n",
       "\n",
       "    .dataframe tbody tr th {\n",
       "        vertical-align: top;\n",
       "    }\n",
       "\n",
       "    .dataframe thead th {\n",
       "        text-align: right;\n",
       "    }\n",
       "</style>\n",
       "<table border=\"1\" class=\"dataframe\">\n",
       "  <thead>\n",
       "    <tr style=\"text-align: right;\">\n",
       "      <th></th>\n",
       "      <th>map</th>\n",
       "      <th>mrr</th>\n",
       "      <th>avg_sr</th>\n",
       "      <th>avg_ndcg</th>\n",
       "      <th>avg_p5</th>\n",
       "    </tr>\n",
       "  </thead>\n",
       "  <tbody>\n",
       "    <tr>\n",
       "      <th>Ensemble wfm_sc</th>\n",
       "      <td>0.525634</td>\n",
       "      <td>0.807957</td>\n",
       "      <td>0.883871</td>\n",
       "      <td>0.795128</td>\n",
       "      <td>0.388387</td>\n",
       "    </tr>\n",
       "  </tbody>\n",
       "</table>\n",
       "</div>"
      ],
      "text/plain": [
       "                      map       mrr    avg_sr  avg_ndcg    avg_p5\n",
       "Ensemble wfm_sc  0.525634  0.807957  0.883871  0.795128  0.388387"
      ]
     },
     "metadata": {},
     "output_type": "display_data"
    },
    {
     "name": "stdout",
     "output_type": "stream",
     "text": [
      "Pruned_ 2\n"
     ]
    },
    {
     "data": {
      "text/html": [
       "<div>\n",
       "<style scoped>\n",
       "    .dataframe tbody tr th:only-of-type {\n",
       "        vertical-align: middle;\n",
       "    }\n",
       "\n",
       "    .dataframe tbody tr th {\n",
       "        vertical-align: top;\n",
       "    }\n",
       "\n",
       "    .dataframe thead th {\n",
       "        text-align: right;\n",
       "    }\n",
       "</style>\n",
       "<table border=\"1\" class=\"dataframe\">\n",
       "  <thead>\n",
       "    <tr style=\"text-align: right;\">\n",
       "      <th></th>\n",
       "      <th>map</th>\n",
       "      <th>mrr</th>\n",
       "      <th>avg_sr</th>\n",
       "      <th>avg_ndcg</th>\n",
       "      <th>avg_p5</th>\n",
       "    </tr>\n",
       "  </thead>\n",
       "  <tbody>\n",
       "    <tr>\n",
       "      <th>Ensemble wfm_sc</th>\n",
       "      <td>0.564298</td>\n",
       "      <td>0.822865</td>\n",
       "      <td>0.909091</td>\n",
       "      <td>0.815682</td>\n",
       "      <td>0.433058</td>\n",
       "    </tr>\n",
       "  </tbody>\n",
       "</table>\n",
       "</div>"
      ],
      "text/plain": [
       "                      map       mrr    avg_sr  avg_ndcg    avg_p5\n",
       "Ensemble wfm_sc  0.564298  0.822865  0.909091  0.815682  0.433058"
      ]
     },
     "metadata": {},
     "output_type": "display_data"
    },
    {
     "name": "stdout",
     "output_type": "stream",
     "text": [
      "Pruned_ 3\n"
     ]
    },
    {
     "data": {
      "text/html": [
       "<div>\n",
       "<style scoped>\n",
       "    .dataframe tbody tr th:only-of-type {\n",
       "        vertical-align: middle;\n",
       "    }\n",
       "\n",
       "    .dataframe tbody tr th {\n",
       "        vertical-align: top;\n",
       "    }\n",
       "\n",
       "    .dataframe thead th {\n",
       "        text-align: right;\n",
       "    }\n",
       "</style>\n",
       "<table border=\"1\" class=\"dataframe\">\n",
       "  <thead>\n",
       "    <tr style=\"text-align: right;\">\n",
       "      <th></th>\n",
       "      <th>map</th>\n",
       "      <th>mrr</th>\n",
       "      <th>avg_sr</th>\n",
       "      <th>avg_ndcg</th>\n",
       "      <th>avg_p5</th>\n",
       "    </tr>\n",
       "  </thead>\n",
       "  <tbody>\n",
       "    <tr>\n",
       "      <th>Ensemble wfm_sc</th>\n",
       "      <td>0.606117</td>\n",
       "      <td>0.866323</td>\n",
       "      <td>0.948454</td>\n",
       "      <td>0.859835</td>\n",
       "      <td>0.472165</td>\n",
       "    </tr>\n",
       "  </tbody>\n",
       "</table>\n",
       "</div>"
      ],
      "text/plain": [
       "                      map       mrr    avg_sr  avg_ndcg    avg_p5\n",
       "Ensemble wfm_sc  0.606117  0.866323  0.948454  0.859835  0.472165"
      ]
     },
     "metadata": {},
     "output_type": "display_data"
    },
    {
     "name": "stdout",
     "output_type": "stream",
     "text": [
      "Pruned_ 4\n"
     ]
    },
    {
     "data": {
      "text/html": [
       "<div>\n",
       "<style scoped>\n",
       "    .dataframe tbody tr th:only-of-type {\n",
       "        vertical-align: middle;\n",
       "    }\n",
       "\n",
       "    .dataframe tbody tr th {\n",
       "        vertical-align: top;\n",
       "    }\n",
       "\n",
       "    .dataframe thead th {\n",
       "        text-align: right;\n",
       "    }\n",
       "</style>\n",
       "<table border=\"1\" class=\"dataframe\">\n",
       "  <thead>\n",
       "    <tr style=\"text-align: right;\">\n",
       "      <th></th>\n",
       "      <th>map</th>\n",
       "      <th>mrr</th>\n",
       "      <th>avg_sr</th>\n",
       "      <th>avg_ndcg</th>\n",
       "      <th>avg_p5</th>\n",
       "    </tr>\n",
       "  </thead>\n",
       "  <tbody>\n",
       "    <tr>\n",
       "      <th>Ensemble wfm_sc</th>\n",
       "      <td>0.612099</td>\n",
       "      <td>0.872428</td>\n",
       "      <td>0.950617</td>\n",
       "      <td>0.8621</td>\n",
       "      <td>0.48642</td>\n",
       "    </tr>\n",
       "  </tbody>\n",
       "</table>\n",
       "</div>"
      ],
      "text/plain": [
       "                      map       mrr    avg_sr  avg_ndcg   avg_p5\n",
       "Ensemble wfm_sc  0.612099  0.872428  0.950617    0.8621  0.48642"
      ]
     },
     "metadata": {},
     "output_type": "display_data"
    },
    {
     "name": "stdout",
     "output_type": "stream",
     "text": [
      "Pruned_ 5\n"
     ]
    },
    {
     "data": {
      "text/html": [
       "<div>\n",
       "<style scoped>\n",
       "    .dataframe tbody tr th:only-of-type {\n",
       "        vertical-align: middle;\n",
       "    }\n",
       "\n",
       "    .dataframe tbody tr th {\n",
       "        vertical-align: top;\n",
       "    }\n",
       "\n",
       "    .dataframe thead th {\n",
       "        text-align: right;\n",
       "    }\n",
       "</style>\n",
       "<table border=\"1\" class=\"dataframe\">\n",
       "  <thead>\n",
       "    <tr style=\"text-align: right;\">\n",
       "      <th></th>\n",
       "      <th>map</th>\n",
       "      <th>mrr</th>\n",
       "      <th>avg_sr</th>\n",
       "      <th>avg_ndcg</th>\n",
       "      <th>avg_p5</th>\n",
       "    </tr>\n",
       "  </thead>\n",
       "  <tbody>\n",
       "    <tr>\n",
       "      <th>Ensemble wfm_sc</th>\n",
       "      <td>0.612077</td>\n",
       "      <td>0.86715</td>\n",
       "      <td>0.942029</td>\n",
       "      <td>0.854529</td>\n",
       "      <td>0.492754</td>\n",
       "    </tr>\n",
       "  </tbody>\n",
       "</table>\n",
       "</div>"
      ],
      "text/plain": [
       "                      map      mrr    avg_sr  avg_ndcg    avg_p5\n",
       "Ensemble wfm_sc  0.612077  0.86715  0.942029  0.854529  0.492754"
      ]
     },
     "metadata": {},
     "output_type": "display_data"
    },
    {
     "name": "stdout",
     "output_type": "stream",
     "text": [
      "Pruned_ 6\n"
     ]
    },
    {
     "data": {
      "text/html": [
       "<div>\n",
       "<style scoped>\n",
       "    .dataframe tbody tr th:only-of-type {\n",
       "        vertical-align: middle;\n",
       "    }\n",
       "\n",
       "    .dataframe tbody tr th {\n",
       "        vertical-align: top;\n",
       "    }\n",
       "\n",
       "    .dataframe thead th {\n",
       "        text-align: right;\n",
       "    }\n",
       "</style>\n",
       "<table border=\"1\" class=\"dataframe\">\n",
       "  <thead>\n",
       "    <tr style=\"text-align: right;\">\n",
       "      <th></th>\n",
       "      <th>map</th>\n",
       "      <th>mrr</th>\n",
       "      <th>avg_sr</th>\n",
       "      <th>avg_ndcg</th>\n",
       "      <th>avg_p5</th>\n",
       "    </tr>\n",
       "  </thead>\n",
       "  <tbody>\n",
       "    <tr>\n",
       "      <th>Ensemble wfm_sc</th>\n",
       "      <td>0.610606</td>\n",
       "      <td>0.875758</td>\n",
       "      <td>0.963636</td>\n",
       "      <td>0.869418</td>\n",
       "      <td>0.490909</td>\n",
       "    </tr>\n",
       "  </tbody>\n",
       "</table>\n",
       "</div>"
      ],
      "text/plain": [
       "                      map       mrr    avg_sr  avg_ndcg    avg_p5\n",
       "Ensemble wfm_sc  0.610606  0.875758  0.963636  0.869418  0.490909"
      ]
     },
     "metadata": {},
     "output_type": "display_data"
    },
    {
     "name": "stdout",
     "output_type": "stream",
     "text": [
      "Pruned_ 7\n"
     ]
    },
    {
     "data": {
      "text/html": [
       "<div>\n",
       "<style scoped>\n",
       "    .dataframe tbody tr th:only-of-type {\n",
       "        vertical-align: middle;\n",
       "    }\n",
       "\n",
       "    .dataframe tbody tr th {\n",
       "        vertical-align: top;\n",
       "    }\n",
       "\n",
       "    .dataframe thead th {\n",
       "        text-align: right;\n",
       "    }\n",
       "</style>\n",
       "<table border=\"1\" class=\"dataframe\">\n",
       "  <thead>\n",
       "    <tr style=\"text-align: right;\">\n",
       "      <th></th>\n",
       "      <th>map</th>\n",
       "      <th>mrr</th>\n",
       "      <th>avg_sr</th>\n",
       "      <th>avg_ndcg</th>\n",
       "      <th>avg_p5</th>\n",
       "    </tr>\n",
       "  </thead>\n",
       "  <tbody>\n",
       "    <tr>\n",
       "      <th>Ensemble wfm_sc</th>\n",
       "      <td>0.621926</td>\n",
       "      <td>0.888889</td>\n",
       "      <td>0.977778</td>\n",
       "      <td>0.88596</td>\n",
       "      <td>0.502222</td>\n",
       "    </tr>\n",
       "  </tbody>\n",
       "</table>\n",
       "</div>"
      ],
      "text/plain": [
       "                      map       mrr    avg_sr  avg_ndcg    avg_p5\n",
       "Ensemble wfm_sc  0.621926  0.888889  0.977778   0.88596  0.502222"
      ]
     },
     "metadata": {},
     "output_type": "display_data"
    },
    {
     "name": "stdout",
     "output_type": "stream",
     "text": [
      "Pruned_ 8\n"
     ]
    },
    {
     "data": {
      "text/html": [
       "<div>\n",
       "<style scoped>\n",
       "    .dataframe tbody tr th:only-of-type {\n",
       "        vertical-align: middle;\n",
       "    }\n",
       "\n",
       "    .dataframe tbody tr th {\n",
       "        vertical-align: top;\n",
       "    }\n",
       "\n",
       "    .dataframe thead th {\n",
       "        text-align: right;\n",
       "    }\n",
       "</style>\n",
       "<table border=\"1\" class=\"dataframe\">\n",
       "  <thead>\n",
       "    <tr style=\"text-align: right;\">\n",
       "      <th></th>\n",
       "      <th>map</th>\n",
       "      <th>mrr</th>\n",
       "      <th>avg_sr</th>\n",
       "      <th>avg_ndcg</th>\n",
       "      <th>avg_p5</th>\n",
       "    </tr>\n",
       "  </thead>\n",
       "  <tbody>\n",
       "    <tr>\n",
       "      <th>Ensemble wfm_sc</th>\n",
       "      <td>0.622315</td>\n",
       "      <td>0.861111</td>\n",
       "      <td>0.972222</td>\n",
       "      <td>0.870443</td>\n",
       "      <td>0.516667</td>\n",
       "    </tr>\n",
       "  </tbody>\n",
       "</table>\n",
       "</div>"
      ],
      "text/plain": [
       "                      map       mrr    avg_sr  avg_ndcg    avg_p5\n",
       "Ensemble wfm_sc  0.622315  0.861111  0.972222  0.870443  0.516667"
      ]
     },
     "metadata": {},
     "output_type": "display_data"
    },
    {
     "name": "stdout",
     "output_type": "stream",
     "text": [
      "Pruned_ 9\n"
     ]
    },
    {
     "data": {
      "text/html": [
       "<div>\n",
       "<style scoped>\n",
       "    .dataframe tbody tr th:only-of-type {\n",
       "        vertical-align: middle;\n",
       "    }\n",
       "\n",
       "    .dataframe tbody tr th {\n",
       "        vertical-align: top;\n",
       "    }\n",
       "\n",
       "    .dataframe thead th {\n",
       "        text-align: right;\n",
       "    }\n",
       "</style>\n",
       "<table border=\"1\" class=\"dataframe\">\n",
       "  <thead>\n",
       "    <tr style=\"text-align: right;\">\n",
       "      <th></th>\n",
       "      <th>map</th>\n",
       "      <th>mrr</th>\n",
       "      <th>avg_sr</th>\n",
       "      <th>avg_ndcg</th>\n",
       "      <th>avg_p5</th>\n",
       "    </tr>\n",
       "  </thead>\n",
       "  <tbody>\n",
       "    <tr>\n",
       "      <th>Ensemble wfm_sc</th>\n",
       "      <td>0.59716</td>\n",
       "      <td>0.814815</td>\n",
       "      <td>0.962963</td>\n",
       "      <td>0.841727</td>\n",
       "      <td>0.525926</td>\n",
       "    </tr>\n",
       "  </tbody>\n",
       "</table>\n",
       "</div>"
      ],
      "text/plain": [
       "                     map       mrr    avg_sr  avg_ndcg    avg_p5\n",
       "Ensemble wfm_sc  0.59716  0.814815  0.962963  0.841727  0.525926"
      ]
     },
     "metadata": {},
     "output_type": "display_data"
    },
    {
     "name": "stdout",
     "output_type": "stream",
     "text": [
      "Pruned_ 10\n"
     ]
    },
    {
     "data": {
      "text/html": [
       "<div>\n",
       "<style scoped>\n",
       "    .dataframe tbody tr th:only-of-type {\n",
       "        vertical-align: middle;\n",
       "    }\n",
       "\n",
       "    .dataframe tbody tr th {\n",
       "        vertical-align: top;\n",
       "    }\n",
       "\n",
       "    .dataframe thead th {\n",
       "        text-align: right;\n",
       "    }\n",
       "</style>\n",
       "<table border=\"1\" class=\"dataframe\">\n",
       "  <thead>\n",
       "    <tr style=\"text-align: right;\">\n",
       "      <th></th>\n",
       "      <th>map</th>\n",
       "      <th>mrr</th>\n",
       "      <th>avg_sr</th>\n",
       "      <th>avg_ndcg</th>\n",
       "      <th>avg_p5</th>\n",
       "    </tr>\n",
       "  </thead>\n",
       "  <tbody>\n",
       "    <tr>\n",
       "      <th>Ensemble wfm_sc</th>\n",
       "      <td>0.564259</td>\n",
       "      <td>0.805556</td>\n",
       "      <td>0.944444</td>\n",
       "      <td>0.828319</td>\n",
       "      <td>0.511111</td>\n",
       "    </tr>\n",
       "  </tbody>\n",
       "</table>\n",
       "</div>"
      ],
      "text/plain": [
       "                      map       mrr    avg_sr  avg_ndcg    avg_p5\n",
       "Ensemble wfm_sc  0.564259  0.805556  0.944444  0.828319  0.511111"
      ]
     },
     "metadata": {},
     "output_type": "display_data"
    },
    {
     "name": "stdout",
     "output_type": "stream",
     "text": [
      "[88, 91, 95, 95, 94, 96, 98, 97, 96, 94]\n"
     ]
    }
   ],
   "source": [
    "ml = []\n",
    "for i in range(1,11):\n",
    "    print('Pruned_',i)\n",
    "    df1 = pd.read_csv(\"/home/ritwik/git/AshaQnA/other_codes/Metrics/Data/E_27_pruned_\"+str(i)+\".csv\")\n",
    "    mat_bin = get_data(df1[[\"final_1\",\"final_2\",\"final_3\",\"final_4\",\"final_5\"]],[1,2])  \n",
    "    display(pd.DataFrame(calc_metrics(df1),index=df1.Model_name.unique()))\n",
    "    ml.append(round(calc_metrics(df1)['avg_sr']*100))\n",
    "print(ml)"
   ]
  },
  {
   "cell_type": "code",
   "execution_count": 399,
   "metadata": {
    "hidden": true
   },
   "outputs": [
    {
     "data": {
      "text/html": [
       "<div>\n",
       "<style scoped>\n",
       "    .dataframe tbody tr th:only-of-type {\n",
       "        vertical-align: middle;\n",
       "    }\n",
       "\n",
       "    .dataframe tbody tr th {\n",
       "        vertical-align: top;\n",
       "    }\n",
       "\n",
       "    .dataframe thead th {\n",
       "        text-align: right;\n",
       "    }\n",
       "</style>\n",
       "<table border=\"1\" class=\"dataframe\">\n",
       "  <thead>\n",
       "    <tr style=\"text-align: right;\">\n",
       "      <th></th>\n",
       "      <th>map</th>\n",
       "      <th>mrr</th>\n",
       "      <th>avg_sr</th>\n",
       "      <th>avg_ndcg</th>\n",
       "      <th>avg_p5</th>\n",
       "    </tr>\n",
       "  </thead>\n",
       "  <tbody>\n",
       "    <tr>\n",
       "      <th>Ensemble wfm_sc</th>\n",
       "      <td>0.47976</td>\n",
       "      <td>0.817868</td>\n",
       "      <td>0.891892</td>\n",
       "      <td>0.812204</td>\n",
       "      <td>0.320721</td>\n",
       "    </tr>\n",
       "  </tbody>\n",
       "</table>\n",
       "</div>"
      ],
      "text/plain": [
       "                     map       mrr    avg_sr  avg_ndcg    avg_p5\n",
       "Ensemble wfm_sc  0.47976  0.817868  0.891892  0.812204  0.320721"
      ]
     },
     "execution_count": 399,
     "metadata": {},
     "output_type": "execute_result"
    }
   ],
   "source": [
    "# E28 | top5 (inshorts 400 sent pairs)\n",
    "pd.DataFrame(calc_metrics(df1),index=df1.Model_name.unique())"
   ]
  },
  {
   "cell_type": "code",
   "execution_count": 400,
   "metadata": {
    "collapsed": true,
    "hidden": true
   },
   "outputs": [
    {
     "name": "stdout",
     "output_type": "stream",
     "text": [
      "Pruned_ 1\n"
     ]
    },
    {
     "data": {
      "text/html": [
       "<div>\n",
       "<style scoped>\n",
       "    .dataframe tbody tr th:only-of-type {\n",
       "        vertical-align: middle;\n",
       "    }\n",
       "\n",
       "    .dataframe tbody tr th {\n",
       "        vertical-align: top;\n",
       "    }\n",
       "\n",
       "    .dataframe thead th {\n",
       "        text-align: right;\n",
       "    }\n",
       "</style>\n",
       "<table border=\"1\" class=\"dataframe\">\n",
       "  <thead>\n",
       "    <tr style=\"text-align: right;\">\n",
       "      <th></th>\n",
       "      <th>map</th>\n",
       "      <th>mrr</th>\n",
       "      <th>avg_sr</th>\n",
       "      <th>avg_ndcg</th>\n",
       "      <th>avg_p5</th>\n",
       "    </tr>\n",
       "  </thead>\n",
       "  <tbody>\n",
       "    <tr>\n",
       "      <th>Ensemble wfm_sc</th>\n",
       "      <td>0.520968</td>\n",
       "      <td>0.806882</td>\n",
       "      <td>0.883871</td>\n",
       "      <td>0.792661</td>\n",
       "      <td>0.380645</td>\n",
       "    </tr>\n",
       "  </tbody>\n",
       "</table>\n",
       "</div>"
      ],
      "text/plain": [
       "                      map       mrr    avg_sr  avg_ndcg    avg_p5\n",
       "Ensemble wfm_sc  0.520968  0.806882  0.883871  0.792661  0.380645"
      ]
     },
     "metadata": {},
     "output_type": "display_data"
    },
    {
     "name": "stdout",
     "output_type": "stream",
     "text": [
      "Pruned_ 2\n"
     ]
    },
    {
     "data": {
      "text/html": [
       "<div>\n",
       "<style scoped>\n",
       "    .dataframe tbody tr th:only-of-type {\n",
       "        vertical-align: middle;\n",
       "    }\n",
       "\n",
       "    .dataframe tbody tr th {\n",
       "        vertical-align: top;\n",
       "    }\n",
       "\n",
       "    .dataframe thead th {\n",
       "        text-align: right;\n",
       "    }\n",
       "</style>\n",
       "<table border=\"1\" class=\"dataframe\">\n",
       "  <thead>\n",
       "    <tr style=\"text-align: right;\">\n",
       "      <th></th>\n",
       "      <th>map</th>\n",
       "      <th>mrr</th>\n",
       "      <th>avg_sr</th>\n",
       "      <th>avg_ndcg</th>\n",
       "      <th>avg_p5</th>\n",
       "    </tr>\n",
       "  </thead>\n",
       "  <tbody>\n",
       "    <tr>\n",
       "      <th>Ensemble wfm_sc</th>\n",
       "      <td>0.548072</td>\n",
       "      <td>0.810468</td>\n",
       "      <td>0.900826</td>\n",
       "      <td>0.797848</td>\n",
       "      <td>0.421488</td>\n",
       "    </tr>\n",
       "  </tbody>\n",
       "</table>\n",
       "</div>"
      ],
      "text/plain": [
       "                      map       mrr    avg_sr  avg_ndcg    avg_p5\n",
       "Ensemble wfm_sc  0.548072  0.810468  0.900826  0.797848  0.421488"
      ]
     },
     "metadata": {},
     "output_type": "display_data"
    },
    {
     "name": "stdout",
     "output_type": "stream",
     "text": [
      "Pruned_ 3\n"
     ]
    },
    {
     "data": {
      "text/html": [
       "<div>\n",
       "<style scoped>\n",
       "    .dataframe tbody tr th:only-of-type {\n",
       "        vertical-align: middle;\n",
       "    }\n",
       "\n",
       "    .dataframe tbody tr th {\n",
       "        vertical-align: top;\n",
       "    }\n",
       "\n",
       "    .dataframe thead th {\n",
       "        text-align: right;\n",
       "    }\n",
       "</style>\n",
       "<table border=\"1\" class=\"dataframe\">\n",
       "  <thead>\n",
       "    <tr style=\"text-align: right;\">\n",
       "      <th></th>\n",
       "      <th>map</th>\n",
       "      <th>mrr</th>\n",
       "      <th>avg_sr</th>\n",
       "      <th>avg_ndcg</th>\n",
       "      <th>avg_p5</th>\n",
       "    </tr>\n",
       "  </thead>\n",
       "  <tbody>\n",
       "    <tr>\n",
       "      <th>Ensemble wfm_sc</th>\n",
       "      <td>0.586392</td>\n",
       "      <td>0.850859</td>\n",
       "      <td>0.938144</td>\n",
       "      <td>0.837866</td>\n",
       "      <td>0.457732</td>\n",
       "    </tr>\n",
       "  </tbody>\n",
       "</table>\n",
       "</div>"
      ],
      "text/plain": [
       "                      map       mrr    avg_sr  avg_ndcg    avg_p5\n",
       "Ensemble wfm_sc  0.586392  0.850859  0.938144  0.837866  0.457732"
      ]
     },
     "metadata": {},
     "output_type": "display_data"
    },
    {
     "name": "stdout",
     "output_type": "stream",
     "text": [
      "Pruned_ 4\n"
     ]
    },
    {
     "data": {
      "text/html": [
       "<div>\n",
       "<style scoped>\n",
       "    .dataframe tbody tr th:only-of-type {\n",
       "        vertical-align: middle;\n",
       "    }\n",
       "\n",
       "    .dataframe tbody tr th {\n",
       "        vertical-align: top;\n",
       "    }\n",
       "\n",
       "    .dataframe thead th {\n",
       "        text-align: right;\n",
       "    }\n",
       "</style>\n",
       "<table border=\"1\" class=\"dataframe\">\n",
       "  <thead>\n",
       "    <tr style=\"text-align: right;\">\n",
       "      <th></th>\n",
       "      <th>map</th>\n",
       "      <th>mrr</th>\n",
       "      <th>avg_sr</th>\n",
       "      <th>avg_ndcg</th>\n",
       "      <th>avg_p5</th>\n",
       "    </tr>\n",
       "  </thead>\n",
       "  <tbody>\n",
       "    <tr>\n",
       "      <th>Ensemble wfm_sc</th>\n",
       "      <td>0.591852</td>\n",
       "      <td>0.854321</td>\n",
       "      <td>0.950617</td>\n",
       "      <td>0.842196</td>\n",
       "      <td>0.471605</td>\n",
       "    </tr>\n",
       "  </tbody>\n",
       "</table>\n",
       "</div>"
      ],
      "text/plain": [
       "                      map       mrr    avg_sr  avg_ndcg    avg_p5\n",
       "Ensemble wfm_sc  0.591852  0.854321  0.950617  0.842196  0.471605"
      ]
     },
     "metadata": {},
     "output_type": "display_data"
    },
    {
     "name": "stdout",
     "output_type": "stream",
     "text": [
      "Pruned_ 5\n"
     ]
    },
    {
     "data": {
      "text/html": [
       "<div>\n",
       "<style scoped>\n",
       "    .dataframe tbody tr th:only-of-type {\n",
       "        vertical-align: middle;\n",
       "    }\n",
       "\n",
       "    .dataframe tbody tr th {\n",
       "        vertical-align: top;\n",
       "    }\n",
       "\n",
       "    .dataframe thead th {\n",
       "        text-align: right;\n",
       "    }\n",
       "</style>\n",
       "<table border=\"1\" class=\"dataframe\">\n",
       "  <thead>\n",
       "    <tr style=\"text-align: right;\">\n",
       "      <th></th>\n",
       "      <th>map</th>\n",
       "      <th>mrr</th>\n",
       "      <th>avg_sr</th>\n",
       "      <th>avg_ndcg</th>\n",
       "      <th>avg_p5</th>\n",
       "    </tr>\n",
       "  </thead>\n",
       "  <tbody>\n",
       "    <tr>\n",
       "      <th>Ensemble wfm_sc</th>\n",
       "      <td>0.590725</td>\n",
       "      <td>0.847826</td>\n",
       "      <td>0.942029</td>\n",
       "      <td>0.835497</td>\n",
       "      <td>0.475362</td>\n",
       "    </tr>\n",
       "  </tbody>\n",
       "</table>\n",
       "</div>"
      ],
      "text/plain": [
       "                      map       mrr    avg_sr  avg_ndcg    avg_p5\n",
       "Ensemble wfm_sc  0.590725  0.847826  0.942029  0.835497  0.475362"
      ]
     },
     "metadata": {},
     "output_type": "display_data"
    },
    {
     "name": "stdout",
     "output_type": "stream",
     "text": [
      "Pruned_ 6\n"
     ]
    },
    {
     "data": {
      "text/html": [
       "<div>\n",
       "<style scoped>\n",
       "    .dataframe tbody tr th:only-of-type {\n",
       "        vertical-align: middle;\n",
       "    }\n",
       "\n",
       "    .dataframe tbody tr th {\n",
       "        vertical-align: top;\n",
       "    }\n",
       "\n",
       "    .dataframe thead th {\n",
       "        text-align: right;\n",
       "    }\n",
       "</style>\n",
       "<table border=\"1\" class=\"dataframe\">\n",
       "  <thead>\n",
       "    <tr style=\"text-align: right;\">\n",
       "      <th></th>\n",
       "      <th>map</th>\n",
       "      <th>mrr</th>\n",
       "      <th>avg_sr</th>\n",
       "      <th>avg_ndcg</th>\n",
       "      <th>avg_p5</th>\n",
       "    </tr>\n",
       "  </thead>\n",
       "  <tbody>\n",
       "    <tr>\n",
       "      <th>Ensemble wfm_sc</th>\n",
       "      <td>0.588909</td>\n",
       "      <td>0.851515</td>\n",
       "      <td>0.963636</td>\n",
       "      <td>0.84736</td>\n",
       "      <td>0.476364</td>\n",
       "    </tr>\n",
       "  </tbody>\n",
       "</table>\n",
       "</div>"
      ],
      "text/plain": [
       "                      map       mrr    avg_sr  avg_ndcg    avg_p5\n",
       "Ensemble wfm_sc  0.588909  0.851515  0.963636   0.84736  0.476364"
      ]
     },
     "metadata": {},
     "output_type": "display_data"
    },
    {
     "name": "stdout",
     "output_type": "stream",
     "text": [
      "Pruned_ 7\n"
     ]
    },
    {
     "data": {
      "text/html": [
       "<div>\n",
       "<style scoped>\n",
       "    .dataframe tbody tr th:only-of-type {\n",
       "        vertical-align: middle;\n",
       "    }\n",
       "\n",
       "    .dataframe tbody tr th {\n",
       "        vertical-align: top;\n",
       "    }\n",
       "\n",
       "    .dataframe thead th {\n",
       "        text-align: right;\n",
       "    }\n",
       "</style>\n",
       "<table border=\"1\" class=\"dataframe\">\n",
       "  <thead>\n",
       "    <tr style=\"text-align: right;\">\n",
       "      <th></th>\n",
       "      <th>map</th>\n",
       "      <th>mrr</th>\n",
       "      <th>avg_sr</th>\n",
       "      <th>avg_ndcg</th>\n",
       "      <th>avg_p5</th>\n",
       "    </tr>\n",
       "  </thead>\n",
       "  <tbody>\n",
       "    <tr>\n",
       "      <th>Ensemble wfm_sc</th>\n",
       "      <td>0.606815</td>\n",
       "      <td>0.87037</td>\n",
       "      <td>0.977778</td>\n",
       "      <td>0.863895</td>\n",
       "      <td>0.493333</td>\n",
       "    </tr>\n",
       "  </tbody>\n",
       "</table>\n",
       "</div>"
      ],
      "text/plain": [
       "                      map      mrr    avg_sr  avg_ndcg    avg_p5\n",
       "Ensemble wfm_sc  0.606815  0.87037  0.977778  0.863895  0.493333"
      ]
     },
     "metadata": {},
     "output_type": "display_data"
    },
    {
     "name": "stdout",
     "output_type": "stream",
     "text": [
      "Pruned_ 8\n"
     ]
    },
    {
     "data": {
      "text/html": [
       "<div>\n",
       "<style scoped>\n",
       "    .dataframe tbody tr th:only-of-type {\n",
       "        vertical-align: middle;\n",
       "    }\n",
       "\n",
       "    .dataframe tbody tr th {\n",
       "        vertical-align: top;\n",
       "    }\n",
       "\n",
       "    .dataframe thead th {\n",
       "        text-align: right;\n",
       "    }\n",
       "</style>\n",
       "<table border=\"1\" class=\"dataframe\">\n",
       "  <thead>\n",
       "    <tr style=\"text-align: right;\">\n",
       "      <th></th>\n",
       "      <th>map</th>\n",
       "      <th>mrr</th>\n",
       "      <th>avg_sr</th>\n",
       "      <th>avg_ndcg</th>\n",
       "      <th>avg_p5</th>\n",
       "    </tr>\n",
       "  </thead>\n",
       "  <tbody>\n",
       "    <tr>\n",
       "      <th>Ensemble wfm_sc</th>\n",
       "      <td>0.635463</td>\n",
       "      <td>0.875</td>\n",
       "      <td>1.0</td>\n",
       "      <td>0.885709</td>\n",
       "      <td>0.522222</td>\n",
       "    </tr>\n",
       "  </tbody>\n",
       "</table>\n",
       "</div>"
      ],
      "text/plain": [
       "                      map    mrr  avg_sr  avg_ndcg    avg_p5\n",
       "Ensemble wfm_sc  0.635463  0.875     1.0  0.885709  0.522222"
      ]
     },
     "metadata": {},
     "output_type": "display_data"
    },
    {
     "name": "stdout",
     "output_type": "stream",
     "text": [
      "Pruned_ 9\n"
     ]
    },
    {
     "data": {
      "text/html": [
       "<div>\n",
       "<style scoped>\n",
       "    .dataframe tbody tr th:only-of-type {\n",
       "        vertical-align: middle;\n",
       "    }\n",
       "\n",
       "    .dataframe tbody tr th {\n",
       "        vertical-align: top;\n",
       "    }\n",
       "\n",
       "    .dataframe thead th {\n",
       "        text-align: right;\n",
       "    }\n",
       "</style>\n",
       "<table border=\"1\" class=\"dataframe\">\n",
       "  <thead>\n",
       "    <tr style=\"text-align: right;\">\n",
       "      <th></th>\n",
       "      <th>map</th>\n",
       "      <th>mrr</th>\n",
       "      <th>avg_sr</th>\n",
       "      <th>avg_ndcg</th>\n",
       "      <th>avg_p5</th>\n",
       "    </tr>\n",
       "  </thead>\n",
       "  <tbody>\n",
       "    <tr>\n",
       "      <th>Ensemble wfm_sc</th>\n",
       "      <td>0.618765</td>\n",
       "      <td>0.851852</td>\n",
       "      <td>1.0</td>\n",
       "      <td>0.871403</td>\n",
       "      <td>0.525926</td>\n",
       "    </tr>\n",
       "  </tbody>\n",
       "</table>\n",
       "</div>"
      ],
      "text/plain": [
       "                      map       mrr  avg_sr  avg_ndcg    avg_p5\n",
       "Ensemble wfm_sc  0.618765  0.851852     1.0  0.871403  0.525926"
      ]
     },
     "metadata": {},
     "output_type": "display_data"
    },
    {
     "name": "stdout",
     "output_type": "stream",
     "text": [
      "Pruned_ 10\n"
     ]
    },
    {
     "data": {
      "text/html": [
       "<div>\n",
       "<style scoped>\n",
       "    .dataframe tbody tr th:only-of-type {\n",
       "        vertical-align: middle;\n",
       "    }\n",
       "\n",
       "    .dataframe tbody tr th {\n",
       "        vertical-align: top;\n",
       "    }\n",
       "\n",
       "    .dataframe thead th {\n",
       "        text-align: right;\n",
       "    }\n",
       "</style>\n",
       "<table border=\"1\" class=\"dataframe\">\n",
       "  <thead>\n",
       "    <tr style=\"text-align: right;\">\n",
       "      <th></th>\n",
       "      <th>map</th>\n",
       "      <th>mrr</th>\n",
       "      <th>avg_sr</th>\n",
       "      <th>avg_ndcg</th>\n",
       "      <th>avg_p5</th>\n",
       "    </tr>\n",
       "  </thead>\n",
       "  <tbody>\n",
       "    <tr>\n",
       "      <th>Ensemble wfm_sc</th>\n",
       "      <td>0.592778</td>\n",
       "      <td>0.833333</td>\n",
       "      <td>1.0</td>\n",
       "      <td>0.853762</td>\n",
       "      <td>0.533333</td>\n",
       "    </tr>\n",
       "  </tbody>\n",
       "</table>\n",
       "</div>"
      ],
      "text/plain": [
       "                      map       mrr  avg_sr  avg_ndcg    avg_p5\n",
       "Ensemble wfm_sc  0.592778  0.833333     1.0  0.853762  0.533333"
      ]
     },
     "metadata": {},
     "output_type": "display_data"
    },
    {
     "name": "stdout",
     "output_type": "stream",
     "text": [
      "[88, 90, 94, 95, 94, 96, 98, 100, 100, 100]\n"
     ]
    }
   ],
   "source": [
    "ml = []\n",
    "for i in range(1,11):\n",
    "    print('Pruned_',i)\n",
    "    df1 = pd.read_csv(\"/home/ritwik/git/AshaQnA/other_codes/Metrics/Data/E_28_pruned_\"+str(i)+\".csv\")\n",
    "    mat_bin = get_data(df1[[\"final_1\",\"final_2\",\"final_3\",\"final_4\",\"final_5\"]],[1,2])  \n",
    "    display(pd.DataFrame(calc_metrics(df1),index=df1.Model_name.unique()))\n",
    "    ml.append(round(calc_metrics(df1)['avg_sr']*100))\n",
    "print(ml)"
   ]
  },
  {
   "cell_type": "markdown",
   "metadata": {
    "heading_collapsed": true,
    "hidden": true
   },
   "source": [
    "## BERT_spc "
   ]
  },
  {
   "cell_type": "code",
   "execution_count": 51,
   "metadata": {
    "hidden": true
   },
   "outputs": [
    {
     "data": {
      "text/html": [
       "<div>\n",
       "<style scoped>\n",
       "    .dataframe tbody tr th:only-of-type {\n",
       "        vertical-align: middle;\n",
       "    }\n",
       "\n",
       "    .dataframe tbody tr th {\n",
       "        vertical-align: top;\n",
       "    }\n",
       "\n",
       "    .dataframe thead th {\n",
       "        text-align: right;\n",
       "    }\n",
       "</style>\n",
       "<table border=\"1\" class=\"dataframe\">\n",
       "  <thead>\n",
       "    <tr style=\"text-align: right;\">\n",
       "      <th></th>\n",
       "      <th>map</th>\n",
       "      <th>mrr</th>\n",
       "      <th>avg_sr</th>\n",
       "      <th>avg_ndcg</th>\n",
       "      <th>avg_p3</th>\n",
       "    </tr>\n",
       "  </thead>\n",
       "  <tbody>\n",
       "    <tr>\n",
       "      <th>BERT_spc</th>\n",
       "      <td>0.392893</td>\n",
       "      <td>0.578078</td>\n",
       "      <td>0.657658</td>\n",
       "      <td>0.597718</td>\n",
       "      <td>0.3003</td>\n",
       "    </tr>\n",
       "  </tbody>\n",
       "</table>\n",
       "</div>"
      ],
      "text/plain": [
       "               map       mrr    avg_sr  avg_ndcg  avg_p3\n",
       "BERT_spc  0.392893  0.578078  0.657658  0.597718  0.3003"
      ]
     },
     "execution_count": 51,
     "metadata": {},
     "output_type": "execute_result"
    }
   ],
   "source": [
    "pd.DataFrame(calc_metrics(df1),index=df1.Model_name.unique())"
   ]
  },
  {
   "cell_type": "code",
   "execution_count": 54,
   "metadata": {
    "hidden": true
   },
   "outputs": [
    {
     "data": {
      "text/html": [
       "<div>\n",
       "<style scoped>\n",
       "    .dataframe tbody tr th:only-of-type {\n",
       "        vertical-align: middle;\n",
       "    }\n",
       "\n",
       "    .dataframe tbody tr th {\n",
       "        vertical-align: top;\n",
       "    }\n",
       "\n",
       "    .dataframe thead th {\n",
       "        text-align: right;\n",
       "    }\n",
       "</style>\n",
       "<table border=\"1\" class=\"dataframe\">\n",
       "  <thead>\n",
       "    <tr style=\"text-align: right;\">\n",
       "      <th></th>\n",
       "      <th>map</th>\n",
       "      <th>mrr</th>\n",
       "      <th>avg_sr</th>\n",
       "      <th>avg_ndcg</th>\n",
       "      <th>avg_p3</th>\n",
       "    </tr>\n",
       "  </thead>\n",
       "  <tbody>\n",
       "    <tr>\n",
       "      <th>BERT_spc_38_final</th>\n",
       "      <td>0.265516</td>\n",
       "      <td>0.415916</td>\n",
       "      <td>0.545045</td>\n",
       "      <td>0.448907</td>\n",
       "      <td>0.222222</td>\n",
       "    </tr>\n",
       "  </tbody>\n",
       "</table>\n",
       "</div>"
      ],
      "text/plain": [
       "                        map       mrr    avg_sr  avg_ndcg    avg_p3\n",
       "BERT_spc_38_final  0.265516  0.415916  0.545045  0.448907  0.222222"
      ]
     },
     "execution_count": 54,
     "metadata": {},
     "output_type": "execute_result"
    }
   ],
   "source": [
    "pd.DataFrame(calc_metrics(df1),index=df1.Model_name.unique())"
   ]
  },
  {
   "cell_type": "code",
   "execution_count": 244,
   "metadata": {
    "hidden": true
   },
   "outputs": [
    {
     "data": {
      "text/html": [
       "<div>\n",
       "<style scoped>\n",
       "    .dataframe tbody tr th:only-of-type {\n",
       "        vertical-align: middle;\n",
       "    }\n",
       "\n",
       "    .dataframe tbody tr th {\n",
       "        vertical-align: top;\n",
       "    }\n",
       "\n",
       "    .dataframe thead th {\n",
       "        text-align: right;\n",
       "    }\n",
       "</style>\n",
       "<table border=\"1\" class=\"dataframe\">\n",
       "  <thead>\n",
       "    <tr style=\"text-align: right;\">\n",
       "      <th></th>\n",
       "      <th>map</th>\n",
       "      <th>mrr</th>\n",
       "      <th>avg_sr</th>\n",
       "      <th>avg_ndcg</th>\n",
       "      <th>avg_p3</th>\n",
       "    </tr>\n",
       "  </thead>\n",
       "  <tbody>\n",
       "    <tr>\n",
       "      <th>BERT_spc_62_epoch_0</th>\n",
       "      <td>0.540791</td>\n",
       "      <td>0.761261</td>\n",
       "      <td>0.837838</td>\n",
       "      <td>0.779333</td>\n",
       "      <td>0.408408</td>\n",
       "    </tr>\n",
       "  </tbody>\n",
       "</table>\n",
       "</div>"
      ],
      "text/plain": [
       "                          map       mrr    avg_sr  avg_ndcg    avg_p3\n",
       "BERT_spc_62_epoch_0  0.540791  0.761261  0.837838  0.779333  0.408408"
      ]
     },
     "execution_count": 244,
     "metadata": {},
     "output_type": "execute_result"
    }
   ],
   "source": [
    "pd.DataFrame(calc_metrics(df1),index=df1.Model_name.unique())"
   ]
  },
  {
   "cell_type": "code",
   "execution_count": 411,
   "metadata": {
    "hidden": true
   },
   "outputs": [
    {
     "data": {
      "text/html": [
       "<div>\n",
       "<style scoped>\n",
       "    .dataframe tbody tr th:only-of-type {\n",
       "        vertical-align: middle;\n",
       "    }\n",
       "\n",
       "    .dataframe tbody tr th {\n",
       "        vertical-align: top;\n",
       "    }\n",
       "\n",
       "    .dataframe thead th {\n",
       "        text-align: right;\n",
       "    }\n",
       "</style>\n",
       "<table border=\"1\" class=\"dataframe\">\n",
       "  <thead>\n",
       "    <tr style=\"text-align: right;\">\n",
       "      <th></th>\n",
       "      <th>map</th>\n",
       "      <th>mrr</th>\n",
       "      <th>avg_sr</th>\n",
       "      <th>avg_ndcg</th>\n",
       "      <th>avg_p3</th>\n",
       "    </tr>\n",
       "  </thead>\n",
       "  <tbody>\n",
       "    <tr>\n",
       "      <th>BERT_spc_61_epoch_0</th>\n",
       "      <td>0.496747</td>\n",
       "      <td>0.701201</td>\n",
       "      <td>0.797297</td>\n",
       "      <td>0.724662</td>\n",
       "      <td>0.393393</td>\n",
       "    </tr>\n",
       "  </tbody>\n",
       "</table>\n",
       "</div>"
      ],
      "text/plain": [
       "                           map       mrr    avg_sr  avg_ndcg    avg_p3\n",
       "BERT_spc_61_epoch_0   0.496747  0.701201  0.797297  0.724662  0.393393"
      ]
     },
     "execution_count": 411,
     "metadata": {},
     "output_type": "execute_result"
    }
   ],
   "source": [
    "pd.DataFrame(calc_metrics(df1),index=df1.Model_name.unique())"
   ]
  },
  {
   "cell_type": "code",
   "execution_count": 419,
   "metadata": {
    "hidden": true
   },
   "outputs": [
    {
     "data": {
      "text/html": [
       "<div>\n",
       "<style scoped>\n",
       "    .dataframe tbody tr th:only-of-type {\n",
       "        vertical-align: middle;\n",
       "    }\n",
       "\n",
       "    .dataframe tbody tr th {\n",
       "        vertical-align: top;\n",
       "    }\n",
       "\n",
       "    .dataframe thead th {\n",
       "        text-align: right;\n",
       "    }\n",
       "</style>\n",
       "<table border=\"1\" class=\"dataframe\">\n",
       "  <thead>\n",
       "    <tr style=\"text-align: right;\">\n",
       "      <th></th>\n",
       "      <th>map</th>\n",
       "      <th>mrr</th>\n",
       "      <th>avg_sr</th>\n",
       "      <th>avg_ndcg</th>\n",
       "      <th>avg_p5</th>\n",
       "    </tr>\n",
       "  </thead>\n",
       "  <tbody>\n",
       "    <tr>\n",
       "      <th>BERT_spc_61_epoch_0</th>\n",
       "      <td>0.427598</td>\n",
       "      <td>0.72973</td>\n",
       "      <td>0.855856</td>\n",
       "      <td>0.740854</td>\n",
       "      <td>0.305405</td>\n",
       "    </tr>\n",
       "  </tbody>\n",
       "</table>\n",
       "</div>"
      ],
      "text/plain": [
       "                           map      mrr    avg_sr  avg_ndcg    avg_p5\n",
       "BERT_spc_61_epoch_0   0.427598  0.72973  0.855856  0.740854  0.305405"
      ]
     },
     "execution_count": 419,
     "metadata": {},
     "output_type": "execute_result"
    }
   ],
   "source": [
    "# top5\n",
    "pd.DataFrame(calc_metrics(df1),index=df1.Model_name.unique())"
   ]
  },
  {
   "cell_type": "code",
   "execution_count": 422,
   "metadata": {
    "hidden": true
   },
   "outputs": [
    {
     "data": {
      "text/html": [
       "<div>\n",
       "<style scoped>\n",
       "    .dataframe tbody tr th:only-of-type {\n",
       "        vertical-align: middle;\n",
       "    }\n",
       "\n",
       "    .dataframe tbody tr th {\n",
       "        vertical-align: top;\n",
       "    }\n",
       "\n",
       "    .dataframe thead th {\n",
       "        text-align: right;\n",
       "    }\n",
       "</style>\n",
       "<table border=\"1\" class=\"dataframe\">\n",
       "  <thead>\n",
       "    <tr style=\"text-align: right;\">\n",
       "      <th></th>\n",
       "      <th>map</th>\n",
       "      <th>mrr</th>\n",
       "      <th>avg_sr</th>\n",
       "      <th>avg_ndcg</th>\n",
       "      <th>avg_p5</th>\n",
       "    </tr>\n",
       "  </thead>\n",
       "  <tbody>\n",
       "    <tr>\n",
       "      <th>BERT_spc_62_epoch_0</th>\n",
       "      <td>0.456817</td>\n",
       "      <td>0.785135</td>\n",
       "      <td>0.878378</td>\n",
       "      <td>0.786293</td>\n",
       "      <td>0.308108</td>\n",
       "    </tr>\n",
       "  </tbody>\n",
       "</table>\n",
       "</div>"
      ],
      "text/plain": [
       "                          map       mrr    avg_sr  avg_ndcg    avg_p5\n",
       "BERT_spc_62_epoch_0  0.456817  0.785135  0.878378  0.786293  0.308108"
      ]
     },
     "execution_count": 422,
     "metadata": {},
     "output_type": "execute_result"
    }
   ],
   "source": [
    "# top5\n",
    "pd.DataFrame(calc_metrics(df1),index=df1.Model_name.unique())"
   ]
  },
  {
   "cell_type": "code",
   "execution_count": 61,
   "metadata": {
    "hidden": true
   },
   "outputs": [
    {
     "data": {
      "text/html": [
       "<div>\n",
       "<style scoped>\n",
       "    .dataframe tbody tr th:only-of-type {\n",
       "        vertical-align: middle;\n",
       "    }\n",
       "\n",
       "    .dataframe tbody tr th {\n",
       "        vertical-align: top;\n",
       "    }\n",
       "\n",
       "    .dataframe thead th {\n",
       "        text-align: right;\n",
       "    }\n",
       "</style>\n",
       "<table border=\"1\" class=\"dataframe\">\n",
       "  <thead>\n",
       "    <tr style=\"text-align: right;\">\n",
       "      <th></th>\n",
       "      <th>map</th>\n",
       "      <th>mrr</th>\n",
       "      <th>avg_sr</th>\n",
       "      <th>avg_ndcg</th>\n",
       "      <th>avg_p3</th>\n",
       "    </tr>\n",
       "  </thead>\n",
       "  <tbody>\n",
       "    <tr>\n",
       "      <th>BERT_spc_82_epoch_0_max_len_100</th>\n",
       "      <td>0.538038</td>\n",
       "      <td>0.768018</td>\n",
       "      <td>0.855856</td>\n",
       "      <td>0.787298</td>\n",
       "      <td>0.411411</td>\n",
       "    </tr>\n",
       "  </tbody>\n",
       "</table>\n",
       "</div>"
      ],
      "text/plain": [
       "                                      map       mrr    avg_sr  avg_ndcg  \\\n",
       "BERT_spc_82_epoch_0_max_len_100  0.538038  0.768018  0.855856  0.787298   \n",
       "\n",
       "                                   avg_p3  \n",
       "BERT_spc_82_epoch_0_max_len_100  0.411411  "
      ]
     },
     "execution_count": 61,
     "metadata": {},
     "output_type": "execute_result"
    }
   ],
   "source": [
    "# maxlen 300 during training, maxlen 100 during testing, inshorts400\n",
    "pd.DataFrame(calc_metrics(df1),index=df1.Model_name.unique())"
   ]
  },
  {
   "cell_type": "code",
   "execution_count": 74,
   "metadata": {
    "hidden": true
   },
   "outputs": [
    {
     "data": {
      "text/html": [
       "<div>\n",
       "<style scoped>\n",
       "    .dataframe tbody tr th:only-of-type {\n",
       "        vertical-align: middle;\n",
       "    }\n",
       "\n",
       "    .dataframe tbody tr th {\n",
       "        vertical-align: top;\n",
       "    }\n",
       "\n",
       "    .dataframe thead th {\n",
       "        text-align: right;\n",
       "    }\n",
       "</style>\n",
       "<table border=\"1\" class=\"dataframe\">\n",
       "  <thead>\n",
       "    <tr style=\"text-align: right;\">\n",
       "      <th></th>\n",
       "      <th>map</th>\n",
       "      <th>mrr</th>\n",
       "      <th>avg_sr</th>\n",
       "      <th>avg_ndcg</th>\n",
       "      <th>avg_p5</th>\n",
       "    </tr>\n",
       "  </thead>\n",
       "  <tbody>\n",
       "    <tr>\n",
       "      <th>BERT_spc_82_epoch_0_max_len_100_top5</th>\n",
       "      <td>0.45521</td>\n",
       "      <td>0.790541</td>\n",
       "      <td>0.891892</td>\n",
       "      <td>0.793592</td>\n",
       "      <td>0.311712</td>\n",
       "    </tr>\n",
       "  </tbody>\n",
       "</table>\n",
       "</div>"
      ],
      "text/plain": [
       "                                          map       mrr    avg_sr  avg_ndcg  \\\n",
       "BERT_spc_82_epoch_0_max_len_100_top5  0.45521  0.790541  0.891892  0.793592   \n",
       "\n",
       "                                        avg_p5  \n",
       "BERT_spc_82_epoch_0_max_len_100_top5  0.311712  "
      ]
     },
     "execution_count": 74,
     "metadata": {},
     "output_type": "execute_result"
    }
   ],
   "source": [
    "# maxlen 300 during training, maxlen 100 during testing, inshorts400\n",
    "# top5\n",
    "pd.DataFrame(calc_metrics(df1),index=df1.Model_name.unique())"
   ]
  },
  {
   "cell_type": "markdown",
   "metadata": {
    "heading_collapsed": true,
    "hidden": true
   },
   "source": [
    "## BERT_sim "
   ]
  },
  {
   "cell_type": "code",
   "execution_count": null,
   "metadata": {
    "hidden": true
   },
   "outputs": [],
   "source": [
    "pd.DataFrame(calc_metrics(df1),index=df1.Model_name.unique())"
   ]
  },
  {
   "cell_type": "markdown",
   "metadata": {
    "heading_collapsed": true,
    "hidden": true
   },
   "source": [
    "## BERT_cos "
   ]
  },
  {
   "cell_type": "code",
   "execution_count": 48,
   "metadata": {
    "hidden": true
   },
   "outputs": [
    {
     "data": {
      "text/html": [
       "<div>\n",
       "<style scoped>\n",
       "    .dataframe tbody tr th:only-of-type {\n",
       "        vertical-align: middle;\n",
       "    }\n",
       "\n",
       "    .dataframe tbody tr th {\n",
       "        vertical-align: top;\n",
       "    }\n",
       "\n",
       "    .dataframe thead th {\n",
       "        text-align: right;\n",
       "    }\n",
       "</style>\n",
       "<table border=\"1\" class=\"dataframe\">\n",
       "  <thead>\n",
       "    <tr style=\"text-align: right;\">\n",
       "      <th></th>\n",
       "      <th>map</th>\n",
       "      <th>mrr</th>\n",
       "      <th>avg_sr</th>\n",
       "      <th>avg_ndcg</th>\n",
       "      <th>avg_p3</th>\n",
       "    </tr>\n",
       "  </thead>\n",
       "  <tbody>\n",
       "    <tr>\n",
       "      <th>BERT_cos_added_words</th>\n",
       "      <td>0.46997</td>\n",
       "      <td>0.674174</td>\n",
       "      <td>0.738739</td>\n",
       "      <td>0.687905</td>\n",
       "      <td>0.355856</td>\n",
       "    </tr>\n",
       "  </tbody>\n",
       "</table>\n",
       "</div>"
      ],
      "text/plain": [
       "                          map       mrr    avg_sr  avg_ndcg    avg_p3\n",
       "BERT_cos_added_words  0.46997  0.674174  0.738739  0.687905  0.355856"
      ]
     },
     "execution_count": 48,
     "metadata": {},
     "output_type": "execute_result"
    }
   ],
   "source": [
    "pd.DataFrame(calc_metrics(df1),index=df1.Model_name.unique())"
   ]
  },
  {
   "cell_type": "code",
   "execution_count": 23,
   "metadata": {
    "hidden": true
   },
   "outputs": [
    {
     "data": {
      "text/html": [
       "<div>\n",
       "<style scoped>\n",
       "    .dataframe tbody tr th:only-of-type {\n",
       "        vertical-align: middle;\n",
       "    }\n",
       "\n",
       "    .dataframe tbody tr th {\n",
       "        vertical-align: top;\n",
       "    }\n",
       "\n",
       "    .dataframe thead th {\n",
       "        text-align: right;\n",
       "    }\n",
       "</style>\n",
       "<table border=\"1\" class=\"dataframe\">\n",
       "  <thead>\n",
       "    <tr style=\"text-align: right;\">\n",
       "      <th></th>\n",
       "      <th>map</th>\n",
       "      <th>mrr</th>\n",
       "      <th>avg_sr</th>\n",
       "      <th>avg_ndcg</th>\n",
       "      <th>avg_p3</th>\n",
       "    </tr>\n",
       "  </thead>\n",
       "  <tbody>\n",
       "    <tr>\n",
       "      <th>BERT_cos_added_w_mpnet</th>\n",
       "      <td>0.477227</td>\n",
       "      <td>0.684685</td>\n",
       "      <td>0.747748</td>\n",
       "      <td>0.697934</td>\n",
       "      <td>0.366366</td>\n",
       "    </tr>\n",
       "  </tbody>\n",
       "</table>\n",
       "</div>"
      ],
      "text/plain": [
       "                             map       mrr    avg_sr  avg_ndcg    avg_p3\n",
       "BERT_cos_added_w_mpnet  0.477227  0.684685  0.747748  0.697934  0.366366"
      ]
     },
     "execution_count": 23,
     "metadata": {},
     "output_type": "execute_result"
    }
   ],
   "source": [
    "pd.DataFrame(calc_metrics(df1),index=df1.Model_name.unique())"
   ]
  },
  {
   "cell_type": "code",
   "execution_count": 27,
   "metadata": {
    "hidden": true
   },
   "outputs": [
    {
     "data": {
      "text/html": [
       "<div>\n",
       "<style scoped>\n",
       "    .dataframe tbody tr th:only-of-type {\n",
       "        vertical-align: middle;\n",
       "    }\n",
       "\n",
       "    .dataframe tbody tr th {\n",
       "        vertical-align: top;\n",
       "    }\n",
       "\n",
       "    .dataframe thead th {\n",
       "        text-align: right;\n",
       "    }\n",
       "</style>\n",
       "<table border=\"1\" class=\"dataframe\">\n",
       "  <thead>\n",
       "    <tr style=\"text-align: right;\">\n",
       "      <th></th>\n",
       "      <th>map</th>\n",
       "      <th>mrr</th>\n",
       "      <th>avg_sr</th>\n",
       "      <th>avg_ndcg</th>\n",
       "      <th>avg_p5</th>\n",
       "    </tr>\n",
       "  </thead>\n",
       "  <tbody>\n",
       "    <tr>\n",
       "      <th>BERT_cos_added_w_mpnet</th>\n",
       "      <td>0.403408</td>\n",
       "      <td>0.723123</td>\n",
       "      <td>0.774775</td>\n",
       "      <td>0.702069</td>\n",
       "      <td>0.271171</td>\n",
       "    </tr>\n",
       "  </tbody>\n",
       "</table>\n",
       "</div>"
      ],
      "text/plain": [
       "                             map       mrr    avg_sr  avg_ndcg    avg_p5\n",
       "BERT_cos_added_w_mpnet  0.403408  0.723123  0.774775  0.702069  0.271171"
      ]
     },
     "execution_count": 27,
     "metadata": {},
     "output_type": "execute_result"
    }
   ],
   "source": [
    "# top5\n",
    "pd.DataFrame(calc_metrics(df1),index=df1.Model_name.unique())"
   ]
  },
  {
   "cell_type": "markdown",
   "metadata": {
    "heading_collapsed": true,
    "hidden": true
   },
   "source": [
    "## DTP "
   ]
  },
  {
   "cell_type": "code",
   "execution_count": 45,
   "metadata": {
    "hidden": true
   },
   "outputs": [
    {
     "data": {
      "text/html": [
       "<div>\n",
       "<style scoped>\n",
       "    .dataframe tbody tr th:only-of-type {\n",
       "        vertical-align: middle;\n",
       "    }\n",
       "\n",
       "    .dataframe tbody tr th {\n",
       "        vertical-align: top;\n",
       "    }\n",
       "\n",
       "    .dataframe thead th {\n",
       "        text-align: right;\n",
       "    }\n",
       "</style>\n",
       "<table border=\"1\" class=\"dataframe\">\n",
       "  <thead>\n",
       "    <tr style=\"text-align: right;\">\n",
       "      <th></th>\n",
       "      <th>map</th>\n",
       "      <th>mrr</th>\n",
       "      <th>avg_sr</th>\n",
       "      <th>avg_ndcg</th>\n",
       "      <th>avg_p3</th>\n",
       "    </tr>\n",
       "  </thead>\n",
       "  <tbody>\n",
       "    <tr>\n",
       "      <th>DTP_added_words</th>\n",
       "      <td>0.409409</td>\n",
       "      <td>0.570571</td>\n",
       "      <td>0.653153</td>\n",
       "      <td>0.591163</td>\n",
       "      <td>0.331832</td>\n",
       "    </tr>\n",
       "  </tbody>\n",
       "</table>\n",
       "</div>"
      ],
      "text/plain": [
       "                      map       mrr    avg_sr  avg_ndcg    avg_p3\n",
       "DTP_added_words  0.409409  0.570571  0.653153  0.591163  0.331832"
      ]
     },
     "execution_count": 45,
     "metadata": {},
     "output_type": "execute_result"
    }
   ],
   "source": [
    "pd.DataFrame(calc_metrics(df1),index=df1.Model_name.unique())"
   ]
  },
  {
   "cell_type": "markdown",
   "metadata": {},
   "source": [
    "# Plots"
   ]
  },
  {
   "cell_type": "code",
   "execution_count": 5,
   "metadata": {
    "code_folding": [
     0
    ],
    "scrolled": false
   },
   "outputs": [],
   "source": [
    "# ---- E44, E45 SR bars -----\n",
    "%matplotlib qt5\n",
    "import matplotlib.pyplot as plt\n",
    "import numpy as np\n",
    "import pandas as pd\n",
    "\n",
    "font_size_num = 38\n",
    "font_name_val = 'Latin Modern Roman'\n",
    "\n",
    "E_top_3 = [67, 78, 81, 82, 81, 80, 84, 84, 81, 82, 90]\n",
    "E_top_5 = [70, 81, 84, 85, 84, 83, 86, 86, 84, 86, 90]\n",
    "\n",
    "fig, ax = plt.subplots(figsize=(25,6))\n",
    "ax.set_axisbelow(True)\n",
    "ax.grid(axis = 'y')\n",
    "\n",
    "r1 = ax.bar(np.arange(1,34,3),E_top_3,color='#73C2FB')\n",
    "r2 = ax.bar(np.arange(2,35,3),E_top_5,color='#FE9977')\n",
    "\n",
    "i = 0.7\n",
    "for f,e in zip( ['E_35']+['E_35_pruned_'+str(x) for x in range(1,11)],E_top_3):\n",
    "    n = str(len(pd.read_csv('/home/ritwik/git/AshaQnA/other_codes/Metrics/Data/'+f+'.csv')))\n",
    "    ax.text(i-0.05,5, (' ' if len(n) >= 3 else '')+'#\\n'+n,size=19,fontname=font_name_val)\n",
    "    if len(str(e)+'%') >= 4:\n",
    "        ax.text(i-0.50,e+2, str(e)+'%',size=20,fontname=font_name_val)\n",
    "    else:\n",
    "        ax.text(i-0.30,e+2, str(e)+'%',size=20,fontname=font_name_val)\n",
    "    i+=3\n",
    "\n",
    "i = 1.7\n",
    "for f,e in zip(['E_37']+['E_37_pruned_'+str(x) for x in range(1,11)],E_top_5):\n",
    "    n = str(len(pd.read_csv('/home/ritwik/git/AshaQnA/other_codes/Metrics/Data/'+f+'.csv')))\n",
    "    ax.text(i-0.05,5, (' ' if len(n) >= 3 else '')+'#\\n'+n,size=19,fontname=font_name_val)\n",
    "    if len(str(e)+'%') >= 4:\n",
    "        ax.text(i-0.10,e+2, str(e)+'%',size=20,fontname=font_name_val)\n",
    "    else:\n",
    "        ax.text(i-0.20,e+2, str(e)+'%',size=20,fontname=font_name_val)\n",
    "    i+=3\n",
    "\n",
    "\n",
    "ax.set_xticks(np.arange(1.5,33,3))\n",
    "# ax.set_xticklabels(['E_pruned_'+str(x) for x in range(0,12)])\n",
    "ax.set_xticklabels([r'$\\mathcal{E}$']+[r'$\\mathcal{E}_{p'+str(x)+r'}$' for x in range(1,11)])\n",
    "\n",
    "ax.set_ylim(0,110)\n",
    "\n",
    "L = ax.legend(['Top-3 suggestions','Top-5 suggestions'],loc='upper left',bbox_to_anchor=(0.1, 1.25),ncol=2,fontsize=30, handlelength=6)\n",
    "plt.setp(L.texts, family=font_name_val)\n",
    "\n",
    "plt.xticks(fontsize=font_size_num,fontname=font_name_val)\n",
    "plt.yticks(fontsize=font_size_num,fontname=font_name_val)\n",
    "plt.ylabel(\"Success Rate (SR)\",fontsize=font_size_num,fontname=font_name_val)\n",
    "plt.show()"
   ]
  },
  {
   "cell_type": "code",
   "execution_count": 21,
   "metadata": {
    "code_folding": []
   },
   "outputs": [],
   "source": [
    "# ---- E48, E49 all lines -----\n",
    "%matplotlib qt5\n",
    "import matplotlib.pyplot as plt\n",
    "import numpy as np\n",
    "import pandas as pd\n",
    "\n",
    "font_size_num = 22\n",
    "font_name_val = 'Latin Modern Roman'\n",
    "\n",
    "E_top_3 = [[45, 55, 61, 60, 60, 60, 57, 61, 58, 57, 47, 44, 33, 32, 43, 50, 50, 50], [62, 73, 78, 76, 76, 76, 72, 75, 71, 70, 55, 50, 40, 38, 50, 50, 50, 50], [70, 82, 87, 86, 83, 82, 80, 84, 81, 82, 70, 67, 60, 50, 67, 50, 50, 50], [63, 74, 78, 76, 75, 74, 72, 75, 71, 71, 56, 50, 42, 37, 49, 42, 42, 42], [37, 46, 52, 52, 52, 51, 50, 54, 51, 52, 47, 50, 40, 33, 44, 50, 50, 50]]\n",
    "E_top_5 = [[39, 49, 55, 57, 58, 58, 56, 59, 57, 59, 46, 50, 44, 41, 55, 63, 63, 63], [65, 76, 79, 80, 80, 79, 76, 78, 75, 77, 58, 61, 53, 54, 67, 75, 75, 75], [74, 86, 91, 90, 89, 88, 86, 92, 91, 91, 80, 83, 80, 75, 100, 100, 100, 100], [63, 75, 80, 80, 80, 79, 76, 79, 77, 79, 64, 67, 61, 58, 77, 82, 82, 82], [30, 37, 43, 47, 47, 48, 48, 52, 52, 53, 46, 57, 52, 45, 60, 60, 60, 60]]\n",
    "nums = ['','\\#202', '\\#152', '\\#105', '\\#83 ', '\\#65 ', '\\#50 ', '\\#37 ', '\\#32 ', '\\#22 ', '\\#10 ', '\\#6', '\\#5', '\\#4', '\\#3', '\\#2', '\\#2', '\\#2']\n",
    "\n",
    "fig, ax = plt.subplots(2,1,figsize=(25,6))\n",
    "ax[0].set_axisbelow(True)\n",
    "ax[0].grid(axis = 'y')\n",
    "ax[1].grid(axis = 'y')\n",
    "\n",
    "params = ['mAP','MRR','SR','nDCG','P@k']\n",
    "markerl = ['s','o','^','D','X']\n",
    "clist = [( 176/255, 58/255, 46/255 ), ( 136/255, 78/255, 160/255 ), ( 46/255, 134/255, 193/255 ), ( 212/255, 172/255, 13/255 ), ( 211/255, 84/255, 0 )]\n",
    "\n",
    "for metric, name, cval, markerval in zip(E_top_3, params, clist, markerl):\n",
    "    ax[0].plot(np.arange(1,19),metric,color=cval,marker=markerval, markersize=10, alpha=0.5)\n",
    "\n",
    "for metric, name, cval, markerval in zip(E_top_5, params, clist, markerl):\n",
    "    ax[1].plot(np.arange(1,19),metric,color=cval,marker=markerval, markersize=10, alpha=0.5)\n",
    "\n",
    "ax[0].set_xticks(np.arange(1,19))\n",
    "ax[1].set_xticks(np.arange(1,19))\n",
    "# ax.set_xticklabels(['E_pruned_'+str(x) for x in range(0,12)])\n",
    "ax[0].set_xticklabels([r'$\\mathcal{E}_{\\#270}$']+[r'$\\mathcal{E}^{\\ p'+str(x)+r'}_{'+nums[x]+'}$' for x in range(1,18)],fontsize=font_size_num,fontname=font_name_val)\n",
    "ax[1].set_xticklabels([r'$\\mathcal{E}_{\\#270}$']+[r'$\\mathcal{E}^{\\ p'+str(x)+r'}_{'+nums[x]+'}$' for x in range(1,18)],fontsize=font_size_num,fontname=font_name_val)\n",
    "\n",
    "\n",
    "ax[0].set_ylim(18,110)\n",
    "ax[1].set_ylim(18,110)\n",
    "\n",
    "ax[0].set_title('Top-k where k = 3',size=20,family=font_name_val)\n",
    "ax[1].set_title('Top-k where k = 5',size=20,family=font_name_val)\n",
    "\n",
    "L = ax[1].legend(params,loc='upper left',bbox_to_anchor=(0.1, -0.25),ncol=5,fontsize=22, handlelength=4)\n",
    "plt.setp(L.texts, family=font_name_val)\n",
    "plt.setp(ax[0].get_yticklabels(), family=font_name_val, size=font_size_num)\n",
    "plt.setp(ax[1].get_yticklabels(), family=font_name_val, size=font_size_num)\n",
    "# plt.legend()\n",
    "\n",
    "# ax[0].set_xticks(fontsize=font_size_num,fontname=font_name_val)\n",
    "# plt.yticks(fontsize=font_size_num,fontname=font_name_val)\n",
    "# plt.ylabel(\"Success Rate (SR)\",fontsize=font_size_num,fontname=font_name_val)\n",
    "plt.show()"
   ]
  },
  {
   "cell_type": "code",
   "execution_count": 58,
   "metadata": {},
   "outputs": [
    {
     "data": {
      "text/plain": [
       "60.5"
      ]
     },
     "execution_count": 58,
     "metadata": {},
     "output_type": "execute_result"
    }
   ],
   "source": [
    "5.5*11"
   ]
  },
  {
   "cell_type": "code",
   "execution_count": 44,
   "metadata": {
    "code_folding": [
     0
    ]
   },
   "outputs": [],
   "source": [
    "# ---- E37, E38 -----\n",
    "%matplotlib qt5\n",
    "import matplotlib.pyplot as plt\n",
    "import numpy as np\n",
    "\n",
    "E_out = [74, 84, 87, 89, 89, 88, 90, 95, 94, 91, 100]\n",
    "E_in = [89, 88, 90, 93, 94, 94, 96, 96, 97, 96, 94]\n",
    "\n",
    "fig, ax = plt.subplots()\n",
    "ax.set_axisbelow(True)\n",
    "ax.grid(axis = 'y')\n",
    "\n",
    "r1 = ax.bar(np.arange(1,34,3),E_out)\n",
    "r2 = ax.bar(np.arange(2,35,3),E_in,color='red')\n",
    "\n",
    "i = 0.7\n",
    "for f,e in zip( ['E_37']+['E_37_pruned_'+str(x) for x in range(1,11)],E_out):\n",
    "    ax.text(i,2, '#'+str(len(pd.read_csv('/home/ritwik/git/AshaQnA/other_codes/Metrics/Data/'+f+'.csv'))),size=7,color='white')\n",
    "    ax.text(i,e+2, str(e)+'%',size=7)\n",
    "    i+=3\n",
    "\n",
    "i = 1.7\n",
    "for f,e in zip(['E_38']+['E_38_pruned_'+str(x) for x in range(1,11)],E_in):\n",
    "    ax.text(i,2, '#'+str(len(pd.read_csv('/home/ritwik/git/AshaQnA/other_codes/Metrics/Data/'+f+'.csv'))),size=7,color='white')\n",
    "    ax.text(i,e+2, str(e)+'%',size=7)\n",
    "    i+=3\n",
    "\n",
    "\n",
    "ax.set_xticks(np.arange(1.5,33,3))\n",
    "ax.set_xticklabels(['E_pruned_'+str(x) for x in range(0,12)])\n",
    "\n",
    "ax.legend(['Outside db questions','Inside db questions'],loc='upper left')\n",
    "\n",
    "ax.set_ylim(0,110)\n",
    "\n",
    "plt.show()"
   ]
  },
  {
   "cell_type": "code",
   "execution_count": null,
   "metadata": {},
   "outputs": [],
   "source": []
  },
  {
   "cell_type": "code",
   "execution_count": 96,
   "metadata": {},
   "outputs": [
    {
     "name": "stdout",
     "output_type": "stream",
     "text": [
      "\"E_22_pruned_1\" , \"E_22_pruned_2\" , \"E_22_pruned_3\" , \"E_22_pruned_4\" , \"E_22_pruned_5\" , \"E_22_pruned_6\" , \"E_22_pruned_7\" , \"E_22_pruned_8\" , \"E_22_pruned_9\" , \"E_22_pruned_10\" , "
     ]
    }
   ],
   "source": [
    "for i in range(1,11):\n",
    "    print('\"E_22_pruned_'+str(i),end='\" , ')"
   ]
  },
  {
   "cell_type": "markdown",
   "metadata": {
    "heading_collapsed": true
   },
   "source": [
    "# Rest"
   ]
  },
  {
   "cell_type": "code",
   "execution_count": 52,
   "metadata": {
    "hidden": true
   },
   "outputs": [
    {
     "data": {
      "text/html": [
       "<div>\n",
       "<style scoped>\n",
       "    .dataframe tbody tr th:only-of-type {\n",
       "        vertical-align: middle;\n",
       "    }\n",
       "\n",
       "    .dataframe tbody tr th {\n",
       "        vertical-align: top;\n",
       "    }\n",
       "\n",
       "    .dataframe thead th {\n",
       "        text-align: right;\n",
       "    }\n",
       "</style>\n",
       "<table border=\"1\" class=\"dataframe\">\n",
       "  <thead>\n",
       "    <tr style=\"text-align: right;\">\n",
       "      <th></th>\n",
       "      <th>map</th>\n",
       "      <th>mrr</th>\n",
       "      <th>avg_sr</th>\n",
       "      <th>avg_ndcg</th>\n",
       "      <th>avg_p3</th>\n",
       "    </tr>\n",
       "  </thead>\n",
       "  <tbody>\n",
       "    <tr>\n",
       "      <th>sort_by_normalized_score</th>\n",
       "      <td>0.231647</td>\n",
       "      <td>0.320437</td>\n",
       "      <td>0.196429</td>\n",
       "      <td>0.336293</td>\n",
       "      <td>0.196429</td>\n",
       "    </tr>\n",
       "  </tbody>\n",
       "</table>\n",
       "</div>"
      ],
      "text/plain": [
       "                               map       mrr    avg_sr  avg_ndcg    avg_p3\n",
       "sort_by_normalized_score  0.231647  0.320437  0.196429  0.336293  0.196429"
      ]
     },
     "execution_count": 52,
     "metadata": {},
     "output_type": "execute_result"
    }
   ],
   "source": [
    "#sort_by_normalized_score_only outer.csv\n",
    "#Ensemble-2.1\n",
    "pd.DataFrame(calc_metrics(df1),index=df1.Model_name.unique())"
   ]
  },
  {
   "cell_type": "code",
   "execution_count": 56,
   "metadata": {
    "hidden": true
   },
   "outputs": [
    {
     "data": {
      "text/html": [
       "<div>\n",
       "<style scoped>\n",
       "    .dataframe tbody tr th:only-of-type {\n",
       "        vertical-align: middle;\n",
       "    }\n",
       "\n",
       "    .dataframe tbody tr th {\n",
       "        vertical-align: top;\n",
       "    }\n",
       "\n",
       "    .dataframe thead th {\n",
       "        text-align: right;\n",
       "    }\n",
       "</style>\n",
       "<table border=\"1\" class=\"dataframe\">\n",
       "  <thead>\n",
       "    <tr style=\"text-align: right;\">\n",
       "      <th></th>\n",
       "      <th>map</th>\n",
       "      <th>mrr</th>\n",
       "      <th>avg_sr</th>\n",
       "      <th>avg_ndcg</th>\n",
       "      <th>avg_p3</th>\n",
       "    </tr>\n",
       "  </thead>\n",
       "  <tbody>\n",
       "    <tr>\n",
       "      <th>sort_by_normalized_score</th>\n",
       "      <td>0.483826</td>\n",
       "      <td>0.647679</td>\n",
       "      <td>0.400844</td>\n",
       "      <td>0.659246</td>\n",
       "      <td>0.400844</td>\n",
       "    </tr>\n",
       "  </tbody>\n",
       "</table>\n",
       "</div>"
      ],
      "text/plain": [
       "                               map       mrr    avg_sr  avg_ndcg    avg_p3\n",
       "sort_by_normalized_score  0.483826  0.647679  0.400844  0.659246  0.400844"
      ]
     },
     "execution_count": 56,
     "metadata": {},
     "output_type": "execute_result"
    }
   ],
   "source": [
    "#sort_by_normalized_score_only inner.csv\n",
    "#Ensemble-2.1\n",
    "pd.DataFrame(calc_metrics(df1),index=df1.Model_name.unique())"
   ]
  },
  {
   "cell_type": "code",
   "execution_count": 48,
   "metadata": {
    "hidden": true
   },
   "outputs": [
    {
     "data": {
      "text/html": [
       "<div>\n",
       "<style scoped>\n",
       "    .dataframe tbody tr th:only-of-type {\n",
       "        vertical-align: middle;\n",
       "    }\n",
       "\n",
       "    .dataframe tbody tr th {\n",
       "        vertical-align: top;\n",
       "    }\n",
       "\n",
       "    .dataframe thead th {\n",
       "        text-align: right;\n",
       "    }\n",
       "</style>\n",
       "<table border=\"1\" class=\"dataframe\">\n",
       "  <thead>\n",
       "    <tr style=\"text-align: right;\">\n",
       "      <th></th>\n",
       "      <th>map</th>\n",
       "      <th>mrr</th>\n",
       "      <th>avg_sr</th>\n",
       "      <th>avg_ndcg</th>\n",
       "      <th>avg_p3</th>\n",
       "    </tr>\n",
       "  </thead>\n",
       "  <tbody>\n",
       "    <tr>\n",
       "      <th>sort_by_normalized_score</th>\n",
       "      <td>0.4782</td>\n",
       "      <td>0.620253</td>\n",
       "      <td>0.409283</td>\n",
       "      <td>0.62799</td>\n",
       "      <td>0.409283</td>\n",
       "    </tr>\n",
       "  </tbody>\n",
       "</table>\n",
       "</div>"
      ],
      "text/plain": [
       "                             map       mrr    avg_sr  avg_ndcg    avg_p3\n",
       "sort_by_normalized_score  0.4782  0.620253  0.409283   0.62799  0.409283"
      ]
     },
     "execution_count": 48,
     "metadata": {},
     "output_type": "execute_result"
    }
   ],
   "source": [
    "#sort_by_f1_score_only inner.csv\n",
    "#Ensemble-1.1\n",
    "pd.DataFrame(calc_metrics(df1),index=df1.Model_name.unique())"
   ]
  },
  {
   "cell_type": "code",
   "execution_count": 44,
   "metadata": {
    "hidden": true
   },
   "outputs": [
    {
     "data": {
      "text/html": [
       "<div>\n",
       "<style scoped>\n",
       "    .dataframe tbody tr th:only-of-type {\n",
       "        vertical-align: middle;\n",
       "    }\n",
       "\n",
       "    .dataframe tbody tr th {\n",
       "        vertical-align: top;\n",
       "    }\n",
       "\n",
       "    .dataframe thead th {\n",
       "        text-align: right;\n",
       "    }\n",
       "</style>\n",
       "<table border=\"1\" class=\"dataframe\">\n",
       "  <thead>\n",
       "    <tr style=\"text-align: right;\">\n",
       "      <th></th>\n",
       "      <th>map</th>\n",
       "      <th>mrr</th>\n",
       "      <th>avg_sr</th>\n",
       "      <th>avg_ndcg</th>\n",
       "      <th>avg_p3</th>\n",
       "    </tr>\n",
       "  </thead>\n",
       "  <tbody>\n",
       "    <tr>\n",
       "      <th>sort_by_normalized_score</th>\n",
       "      <td>0.236276</td>\n",
       "      <td>0.329861</td>\n",
       "      <td>0.204365</td>\n",
       "      <td>0.344802</td>\n",
       "      <td>0.204365</td>\n",
       "    </tr>\n",
       "  </tbody>\n",
       "</table>\n",
       "</div>"
      ],
      "text/plain": [
       "                               map       mrr    avg_sr  avg_ndcg    avg_p3\n",
       "sort_by_normalized_score  0.236276  0.329861  0.204365  0.344802  0.204365"
      ]
     },
     "execution_count": 44,
     "metadata": {},
     "output_type": "execute_result"
    }
   ],
   "source": [
    "#sort_by_f1_score_only outer.csv\n",
    "#Ensemble-1.1\n",
    "pd.DataFrame(calc_metrics(df1),index=df1.Model_name.unique())"
   ]
  },
  {
   "cell_type": "code",
   "execution_count": 40,
   "metadata": {
    "hidden": true
   },
   "outputs": [
    {
     "data": {
      "text/html": [
       "<div>\n",
       "<style scoped>\n",
       "    .dataframe tbody tr th:only-of-type {\n",
       "        vertical-align: middle;\n",
       "    }\n",
       "\n",
       "    .dataframe tbody tr th {\n",
       "        vertical-align: top;\n",
       "    }\n",
       "\n",
       "    .dataframe thead th {\n",
       "        text-align: right;\n",
       "    }\n",
       "</style>\n",
       "<table border=\"1\" class=\"dataframe\">\n",
       "  <thead>\n",
       "    <tr style=\"text-align: right;\">\n",
       "      <th></th>\n",
       "      <th>map</th>\n",
       "      <th>mrr</th>\n",
       "      <th>avg_sr</th>\n",
       "      <th>avg_ndcg</th>\n",
       "      <th>avg_p3</th>\n",
       "    </tr>\n",
       "  </thead>\n",
       "  <tbody>\n",
       "    <tr>\n",
       "      <th>sort_by_normalized_score</th>\n",
       "      <td>0.497187</td>\n",
       "      <td>0.662447</td>\n",
       "      <td>0.409283</td>\n",
       "      <td>0.668964</td>\n",
       "      <td>0.409283</td>\n",
       "    </tr>\n",
       "  </tbody>\n",
       "</table>\n",
       "</div>"
      ],
      "text/plain": [
       "                               map       mrr    avg_sr  avg_ndcg    avg_p3\n",
       "sort_by_normalized_score  0.497187  0.662447  0.409283  0.668964  0.409283"
      ]
     },
     "execution_count": 40,
     "metadata": {},
     "output_type": "execute_result"
    }
   ],
   "source": [
    "#sort_by_added_internal_normalized_score_only inner.csv\n",
    "#Ensemble-1.2\n",
    "pd.DataFrame(calc_metrics(df1),index=df1.Model_name.unique())"
   ]
  },
  {
   "cell_type": "code",
   "execution_count": 36,
   "metadata": {
    "hidden": true
   },
   "outputs": [
    {
     "data": {
      "text/html": [
       "<div>\n",
       "<style scoped>\n",
       "    .dataframe tbody tr th:only-of-type {\n",
       "        vertical-align: middle;\n",
       "    }\n",
       "\n",
       "    .dataframe tbody tr th {\n",
       "        vertical-align: top;\n",
       "    }\n",
       "\n",
       "    .dataframe thead th {\n",
       "        text-align: right;\n",
       "    }\n",
       "</style>\n",
       "<table border=\"1\" class=\"dataframe\">\n",
       "  <thead>\n",
       "    <tr style=\"text-align: right;\">\n",
       "      <th></th>\n",
       "      <th>map</th>\n",
       "      <th>mrr</th>\n",
       "      <th>avg_sr</th>\n",
       "      <th>avg_ndcg</th>\n",
       "      <th>avg_p3</th>\n",
       "    </tr>\n",
       "  </thead>\n",
       "  <tbody>\n",
       "    <tr>\n",
       "      <th>sort_by_normalized_score</th>\n",
       "      <td>0.24041</td>\n",
       "      <td>0.339782</td>\n",
       "      <td>0.194444</td>\n",
       "      <td>0.353427</td>\n",
       "      <td>0.194444</td>\n",
       "    </tr>\n",
       "  </tbody>\n",
       "</table>\n",
       "</div>"
      ],
      "text/plain": [
       "                              map       mrr    avg_sr  avg_ndcg    avg_p3\n",
       "sort_by_normalized_score  0.24041  0.339782  0.194444  0.353427  0.194444"
      ]
     },
     "execution_count": 36,
     "metadata": {},
     "output_type": "execute_result"
    }
   ],
   "source": [
    "#sort_by_added_internal_normalized_score_only outer.csv\n",
    "#Ensemble-1.2\n",
    "pd.DataFrame(calc_metrics(df1),index=df1.Model_name.unique())"
   ]
  },
  {
   "cell_type": "code",
   "execution_count": 28,
   "metadata": {
    "hidden": true
   },
   "outputs": [
    {
     "data": {
      "text/html": [
       "<div>\n",
       "<style scoped>\n",
       "    .dataframe tbody tr th:only-of-type {\n",
       "        vertical-align: middle;\n",
       "    }\n",
       "\n",
       "    .dataframe tbody tr th {\n",
       "        vertical-align: top;\n",
       "    }\n",
       "\n",
       "    .dataframe thead th {\n",
       "        text-align: right;\n",
       "    }\n",
       "</style>\n",
       "<table border=\"1\" class=\"dataframe\">\n",
       "  <thead>\n",
       "    <tr style=\"text-align: right;\">\n",
       "      <th></th>\n",
       "      <th>map</th>\n",
       "      <th>mrr</th>\n",
       "      <th>avg_sr</th>\n",
       "      <th>avg_ndcg</th>\n",
       "      <th>avg_p3</th>\n",
       "    </tr>\n",
       "  </thead>\n",
       "  <tbody>\n",
       "    <tr>\n",
       "      <th>sort_by_normalized_score</th>\n",
       "      <td>0.511252</td>\n",
       "      <td>0.668776</td>\n",
       "      <td>0.400844</td>\n",
       "      <td>0.673102</td>\n",
       "      <td>0.400844</td>\n",
       "    </tr>\n",
       "  </tbody>\n",
       "</table>\n",
       "</div>"
      ],
      "text/plain": [
       "                               map       mrr    avg_sr  avg_ndcg    avg_p3\n",
       "sort_by_normalized_score  0.511252  0.668776  0.400844  0.673102  0.400844"
      ]
     },
     "execution_count": 28,
     "metadata": {},
     "output_type": "execute_result"
    }
   ],
   "source": [
    "#sort_by_added_internal_normalized_score_bucket and f_score (group sort) inner.csv\n",
    "#Ensemble-1.3\n",
    "pd.DataFrame(calc_metrics(df1),index=df1.Model_name.unique())"
   ]
  },
  {
   "cell_type": "code",
   "execution_count": 32,
   "metadata": {
    "hidden": true
   },
   "outputs": [
    {
     "data": {
      "text/html": [
       "<div>\n",
       "<style scoped>\n",
       "    .dataframe tbody tr th:only-of-type {\n",
       "        vertical-align: middle;\n",
       "    }\n",
       "\n",
       "    .dataframe tbody tr th {\n",
       "        vertical-align: top;\n",
       "    }\n",
       "\n",
       "    .dataframe thead th {\n",
       "        text-align: right;\n",
       "    }\n",
       "</style>\n",
       "<table border=\"1\" class=\"dataframe\">\n",
       "  <thead>\n",
       "    <tr style=\"text-align: right;\">\n",
       "      <th></th>\n",
       "      <th>map</th>\n",
       "      <th>mrr</th>\n",
       "      <th>avg_sr</th>\n",
       "      <th>avg_ndcg</th>\n",
       "      <th>avg_p3</th>\n",
       "    </tr>\n",
       "  </thead>\n",
       "  <tbody>\n",
       "    <tr>\n",
       "      <th>sort_by_normalized_score</th>\n",
       "      <td>0.237434</td>\n",
       "      <td>0.337302</td>\n",
       "      <td>0.200397</td>\n",
       "      <td>0.35125</td>\n",
       "      <td>0.200397</td>\n",
       "    </tr>\n",
       "  </tbody>\n",
       "</table>\n",
       "</div>"
      ],
      "text/plain": [
       "                               map       mrr    avg_sr  avg_ndcg    avg_p3\n",
       "sort_by_normalized_score  0.237434  0.337302  0.200397   0.35125  0.200397"
      ]
     },
     "execution_count": 32,
     "metadata": {},
     "output_type": "execute_result"
    }
   ],
   "source": [
    "#sort_by_added_internal_normalized_score_bucket and f_score (group sort) outer.csv\n",
    "#Ensemble-1.3\n",
    "pd.DataFrame(calc_metrics(df1),index=df1.Model_name.unique())"
   ]
  },
  {
   "cell_type": "code",
   "execution_count": 24,
   "metadata": {
    "hidden": true
   },
   "outputs": [
    {
     "data": {
      "text/html": [
       "<div>\n",
       "<style scoped>\n",
       "    .dataframe tbody tr th:only-of-type {\n",
       "        vertical-align: middle;\n",
       "    }\n",
       "\n",
       "    .dataframe tbody tr th {\n",
       "        vertical-align: top;\n",
       "    }\n",
       "\n",
       "    .dataframe thead th {\n",
       "        text-align: right;\n",
       "    }\n",
       "</style>\n",
       "<table border=\"1\" class=\"dataframe\">\n",
       "  <thead>\n",
       "    <tr style=\"text-align: right;\">\n",
       "      <th></th>\n",
       "      <th>map</th>\n",
       "      <th>mrr</th>\n",
       "      <th>avg_sr</th>\n",
       "      <th>avg_ndcg</th>\n",
       "      <th>avg_p3</th>\n",
       "    </tr>\n",
       "  </thead>\n",
       "  <tbody>\n",
       "    <tr>\n",
       "      <th>sort_by_normalized_score</th>\n",
       "      <td>0.240079</td>\n",
       "      <td>0.330853</td>\n",
       "      <td>0.208333</td>\n",
       "      <td>0.344767</td>\n",
       "      <td>0.208333</td>\n",
       "    </tr>\n",
       "  </tbody>\n",
       "</table>\n",
       "</div>"
      ],
      "text/plain": [
       "                               map       mrr    avg_sr  avg_ndcg    avg_p3\n",
       "sort_by_normalized_score  0.240079  0.330853  0.208333  0.344767  0.208333"
      ]
     },
     "execution_count": 24,
     "metadata": {},
     "output_type": "execute_result"
    }
   ],
   "source": [
    "#sort_by_added_normalized_score_bucket and f_score (group sort) outer.csv\n",
    "#Ensemble-2.2\n",
    "pd.DataFrame(calc_metrics(df1),index=df1.Model_name.unique())"
   ]
  },
  {
   "cell_type": "code",
   "execution_count": 20,
   "metadata": {
    "hidden": true
   },
   "outputs": [
    {
     "data": {
      "text/html": [
       "<div>\n",
       "<style scoped>\n",
       "    .dataframe tbody tr th:only-of-type {\n",
       "        vertical-align: middle;\n",
       "    }\n",
       "\n",
       "    .dataframe tbody tr th {\n",
       "        vertical-align: top;\n",
       "    }\n",
       "\n",
       "    .dataframe thead th {\n",
       "        text-align: right;\n",
       "    }\n",
       "</style>\n",
       "<table border=\"1\" class=\"dataframe\">\n",
       "  <thead>\n",
       "    <tr style=\"text-align: right;\">\n",
       "      <th></th>\n",
       "      <th>map</th>\n",
       "      <th>mrr</th>\n",
       "      <th>avg_sr</th>\n",
       "      <th>avg_ndcg</th>\n",
       "      <th>avg_p3</th>\n",
       "    </tr>\n",
       "  </thead>\n",
       "  <tbody>\n",
       "    <tr>\n",
       "      <th>sort_by_normalized_score</th>\n",
       "      <td>0.524613</td>\n",
       "      <td>0.698312</td>\n",
       "      <td>0.434599</td>\n",
       "      <td>0.71259</td>\n",
       "      <td>0.434599</td>\n",
       "    </tr>\n",
       "  </tbody>\n",
       "</table>\n",
       "</div>"
      ],
      "text/plain": [
       "                               map       mrr    avg_sr  avg_ndcg    avg_p3\n",
       "sort_by_normalized_score  0.524613  0.698312  0.434599   0.71259  0.434599"
      ]
     },
     "execution_count": 20,
     "metadata": {},
     "output_type": "execute_result"
    }
   ],
   "source": [
    "# sort_by_added_normalized_score_bucket and f_score (group sort) inner.csv\n",
    "#Ensemble-2.2\n",
    "pd.DataFrame(calc_metrics(df1),index=df1.Model_name.unique())"
   ]
  },
  {
   "cell_type": "code",
   "execution_count": 149,
   "metadata": {
    "hidden": true
   },
   "outputs": [
    {
     "data": {
      "text/html": [
       "<div>\n",
       "<style scoped>\n",
       "    .dataframe tbody tr th:only-of-type {\n",
       "        vertical-align: middle;\n",
       "    }\n",
       "\n",
       "    .dataframe tbody tr th {\n",
       "        vertical-align: top;\n",
       "    }\n",
       "\n",
       "    .dataframe thead th {\n",
       "        text-align: right;\n",
       "    }\n",
       "</style>\n",
       "<table border=\"1\" class=\"dataframe\">\n",
       "  <thead>\n",
       "    <tr style=\"text-align: right;\">\n",
       "      <th></th>\n",
       "      <th>map</th>\n",
       "      <th>mrr</th>\n",
       "      <th>avg_sr</th>\n",
       "      <th>avg_ndcg</th>\n",
       "      <th>avg_p3</th>\n",
       "    </tr>\n",
       "  </thead>\n",
       "  <tbody>\n",
       "    <tr>\n",
       "      <th>sort_by_normalized_score</th>\n",
       "      <td>0.241898</td>\n",
       "      <td>0.321429</td>\n",
       "      <td>0.22123</td>\n",
       "      <td>0.336595</td>\n",
       "      <td>0.22123</td>\n",
       "    </tr>\n",
       "  </tbody>\n",
       "</table>\n",
       "</div>"
      ],
      "text/plain": [
       "                               map       mrr   avg_sr  avg_ndcg   avg_p3\n",
       "sort_by_normalized_score  0.241898  0.321429  0.22123  0.336595  0.22123"
      ]
     },
     "execution_count": 149,
     "metadata": {},
     "output_type": "execute_result"
    }
   ],
   "source": [
    "#sort_by_normalized_score_bucket and f_score (group sort) outer.csv\n",
    "pd.DataFrame(calc_metrics(df1),index=df1.Model_name.unique())"
   ]
  },
  {
   "cell_type": "code",
   "execution_count": 153,
   "metadata": {
    "hidden": true
   },
   "outputs": [
    {
     "data": {
      "text/html": [
       "<div>\n",
       "<style scoped>\n",
       "    .dataframe tbody tr th:only-of-type {\n",
       "        vertical-align: middle;\n",
       "    }\n",
       "\n",
       "    .dataframe tbody tr th {\n",
       "        vertical-align: top;\n",
       "    }\n",
       "\n",
       "    .dataframe thead th {\n",
       "        text-align: right;\n",
       "    }\n",
       "</style>\n",
       "<table border=\"1\" class=\"dataframe\">\n",
       "  <thead>\n",
       "    <tr style=\"text-align: right;\">\n",
       "      <th></th>\n",
       "      <th>map</th>\n",
       "      <th>mrr</th>\n",
       "      <th>avg_sr</th>\n",
       "      <th>avg_ndcg</th>\n",
       "      <th>avg_p3</th>\n",
       "    </tr>\n",
       "  </thead>\n",
       "  <tbody>\n",
       "    <tr>\n",
       "      <th>sort_by_normalized_score</th>\n",
       "      <td>0.545007</td>\n",
       "      <td>0.681435</td>\n",
       "      <td>0.50211</td>\n",
       "      <td>0.703393</td>\n",
       "      <td>0.50211</td>\n",
       "    </tr>\n",
       "  </tbody>\n",
       "</table>\n",
       "</div>"
      ],
      "text/plain": [
       "                               map       mrr   avg_sr  avg_ndcg   avg_p3\n",
       "sort_by_normalized_score  0.545007  0.681435  0.50211  0.703393  0.50211"
      ]
     },
     "execution_count": 153,
     "metadata": {},
     "output_type": "execute_result"
    }
   ],
   "source": [
    "#sort_by_normalized_score_bucket and f_score (group sort) inner.csv\n",
    "pd.DataFrame(calc_metrics(df1),index=df1.Model_name.unique())"
   ]
  },
  {
   "cell_type": "code",
   "execution_count": 141,
   "metadata": {
    "hidden": true
   },
   "outputs": [
    {
     "data": {
      "text/html": [
       "<div>\n",
       "<style scoped>\n",
       "    .dataframe tbody tr th:only-of-type {\n",
       "        vertical-align: middle;\n",
       "    }\n",
       "\n",
       "    .dataframe tbody tr th {\n",
       "        vertical-align: top;\n",
       "    }\n",
       "\n",
       "    .dataframe thead th {\n",
       "        text-align: right;\n",
       "    }\n",
       "</style>\n",
       "<table border=\"1\" class=\"dataframe\">\n",
       "  <thead>\n",
       "    <tr style=\"text-align: right;\">\n",
       "      <th></th>\n",
       "      <th>map</th>\n",
       "      <th>mrr</th>\n",
       "      <th>avg_sr</th>\n",
       "      <th>avg_ndcg</th>\n",
       "      <th>avg_p3</th>\n",
       "    </tr>\n",
       "  </thead>\n",
       "  <tbody>\n",
       "    <tr>\n",
       "      <th>sort_by_normalized_score</th>\n",
       "      <td>0.245701</td>\n",
       "      <td>0.315972</td>\n",
       "      <td>0.225198</td>\n",
       "      <td>0.330637</td>\n",
       "      <td>0.225198</td>\n",
       "    </tr>\n",
       "  </tbody>\n",
       "</table>\n",
       "</div>"
      ],
      "text/plain": [
       "                               map       mrr    avg_sr  avg_ndcg    avg_p3\n",
       "sort_by_normalized_score  0.245701  0.315972  0.225198  0.330637  0.225198"
      ]
     },
     "execution_count": 141,
     "metadata": {},
     "output_type": "execute_result"
    }
   ],
   "source": [
    "#sort_by_normalized_score and f_score outer.csv\n",
    "pd.DataFrame(calc_metrics(df1),index=df1.Model_name.unique())"
   ]
  },
  {
   "cell_type": "code",
   "execution_count": 145,
   "metadata": {
    "hidden": true
   },
   "outputs": [
    {
     "data": {
      "text/html": [
       "<div>\n",
       "<style scoped>\n",
       "    .dataframe tbody tr th:only-of-type {\n",
       "        vertical-align: middle;\n",
       "    }\n",
       "\n",
       "    .dataframe tbody tr th {\n",
       "        vertical-align: top;\n",
       "    }\n",
       "\n",
       "    .dataframe thead th {\n",
       "        text-align: right;\n",
       "    }\n",
       "</style>\n",
       "<table border=\"1\" class=\"dataframe\">\n",
       "  <thead>\n",
       "    <tr style=\"text-align: right;\">\n",
       "      <th></th>\n",
       "      <th>map</th>\n",
       "      <th>mrr</th>\n",
       "      <th>avg_sr</th>\n",
       "      <th>avg_ndcg</th>\n",
       "      <th>avg_p3</th>\n",
       "    </tr>\n",
       "  </thead>\n",
       "  <tbody>\n",
       "    <tr>\n",
       "      <th>sort_by_normalized_score</th>\n",
       "      <td>0.533052</td>\n",
       "      <td>0.632911</td>\n",
       "      <td>0.49789</td>\n",
       "      <td>0.652589</td>\n",
       "      <td>0.49789</td>\n",
       "    </tr>\n",
       "  </tbody>\n",
       "</table>\n",
       "</div>"
      ],
      "text/plain": [
       "                               map       mrr   avg_sr  avg_ndcg   avg_p3\n",
       "sort_by_normalized_score  0.533052  0.632911  0.49789  0.652589  0.49789"
      ]
     },
     "execution_count": 145,
     "metadata": {},
     "output_type": "execute_result"
    }
   ],
   "source": [
    "#sort_by_normalized_score and f_score inner.csv\n",
    "pd.DataFrame(calc_metrics(df1),index=df1.Model_name.unique())"
   ]
  },
  {
   "cell_type": "code",
   "execution_count": 125,
   "metadata": {
    "hidden": true
   },
   "outputs": [
    {
     "data": {
      "text/html": [
       "<div>\n",
       "<style scoped>\n",
       "    .dataframe tbody tr th:only-of-type {\n",
       "        vertical-align: middle;\n",
       "    }\n",
       "\n",
       "    .dataframe tbody tr th {\n",
       "        vertical-align: top;\n",
       "    }\n",
       "\n",
       "    .dataframe thead th {\n",
       "        text-align: right;\n",
       "    }\n",
       "</style>\n",
       "<table border=\"1\" class=\"dataframe\">\n",
       "  <thead>\n",
       "    <tr style=\"text-align: right;\">\n",
       "      <th></th>\n",
       "      <th>map</th>\n",
       "      <th>mrr</th>\n",
       "      <th>avg_sr</th>\n",
       "      <th>avg_ndcg</th>\n",
       "      <th>avg_p3</th>\n",
       "    </tr>\n",
       "  </thead>\n",
       "  <tbody>\n",
       "    <tr>\n",
       "      <th>sort_by_normalized_score</th>\n",
       "      <td>0.435302</td>\n",
       "      <td>0.582278</td>\n",
       "      <td>0.375527</td>\n",
       "      <td>0.59504</td>\n",
       "      <td>0.375527</td>\n",
       "    </tr>\n",
       "  </tbody>\n",
       "</table>\n",
       "</div>"
      ],
      "text/plain": [
       "                               map       mrr    avg_sr  avg_ndcg    avg_p3\n",
       "sort_by_normalized_score  0.435302  0.582278  0.375527   0.59504  0.375527"
      ]
     },
     "execution_count": 125,
     "metadata": {},
     "output_type": "execute_result"
    }
   ],
   "source": [
    "#sort_by_normalized_score_inner.csv\n",
    "pd.DataFrame(calc_metrics(df1),index=df1.Model_name.unique())"
   ]
  },
  {
   "cell_type": "code",
   "execution_count": 129,
   "metadata": {
    "hidden": true
   },
   "outputs": [
    {
     "data": {
      "text/html": [
       "<div>\n",
       "<style scoped>\n",
       "    .dataframe tbody tr th:only-of-type {\n",
       "        vertical-align: middle;\n",
       "    }\n",
       "\n",
       "    .dataframe tbody tr th {\n",
       "        vertical-align: top;\n",
       "    }\n",
       "\n",
       "    .dataframe thead th {\n",
       "        text-align: right;\n",
       "    }\n",
       "</style>\n",
       "<table border=\"1\" class=\"dataframe\">\n",
       "  <thead>\n",
       "    <tr style=\"text-align: right;\">\n",
       "      <th></th>\n",
       "      <th>map</th>\n",
       "      <th>mrr</th>\n",
       "      <th>avg_sr</th>\n",
       "      <th>avg_ndcg</th>\n",
       "      <th>avg_p3</th>\n",
       "    </tr>\n",
       "  </thead>\n",
       "  <tbody>\n",
       "    <tr>\n",
       "      <th>sort_by_normalized_score</th>\n",
       "      <td>0.191799</td>\n",
       "      <td>0.261409</td>\n",
       "      <td>0.176587</td>\n",
       "      <td>0.274604</td>\n",
       "      <td>0.176587</td>\n",
       "    </tr>\n",
       "  </tbody>\n",
       "</table>\n",
       "</div>"
      ],
      "text/plain": [
       "                               map       mrr    avg_sr  avg_ndcg    avg_p3\n",
       "sort_by_normalized_score  0.191799  0.261409  0.176587  0.274604  0.176587"
      ]
     },
     "execution_count": 129,
     "metadata": {},
     "output_type": "execute_result"
    }
   ],
   "source": [
    "#sort_by_normalized_score_outer.csv\n",
    "pd.DataFrame(calc_metrics(df1),index=df1.Model_name.unique())"
   ]
  },
  {
   "cell_type": "code",
   "execution_count": null,
   "metadata": {
    "hidden": true
   },
   "outputs": [],
   "source": []
  },
  {
   "cell_type": "code",
   "execution_count": 18,
   "metadata": {
    "hidden": true
   },
   "outputs": [
    {
     "data": {
      "text/html": [
       "<div>\n",
       "<style scoped>\n",
       "    .dataframe tbody tr th:only-of-type {\n",
       "        vertical-align: middle;\n",
       "    }\n",
       "\n",
       "    .dataframe tbody tr th {\n",
       "        vertical-align: top;\n",
       "    }\n",
       "\n",
       "    .dataframe thead th {\n",
       "        text-align: right;\n",
       "    }\n",
       "</style>\n",
       "<table border=\"1\" class=\"dataframe\">\n",
       "  <thead>\n",
       "    <tr style=\"text-align: right;\">\n",
       "      <th></th>\n",
       "      <th>map</th>\n",
       "      <th>mrr</th>\n",
       "      <th>avg_sr</th>\n",
       "      <th>avg_ndcg</th>\n",
       "      <th>avg_p3</th>\n",
       "    </tr>\n",
       "  </thead>\n",
       "  <tbody>\n",
       "    <tr>\n",
       "      <th>????</th>\n",
       "      <td>0.413502</td>\n",
       "      <td>0.533755</td>\n",
       "      <td>0.35443</td>\n",
       "      <td>0.539982</td>\n",
       "      <td>0.35443</td>\n",
       "    </tr>\n",
       "  </tbody>\n",
       "</table>\n",
       "</div>"
      ],
      "text/plain": [
       "           map       mrr   avg_sr  avg_ndcg   avg_p3\n",
       "????  0.413502  0.533755  0.35443  0.539982  0.35443"
      ]
     },
     "execution_count": 18,
     "metadata": {},
     "output_type": "execute_result"
    }
   ],
   "source": [
    "#ganga_inner\n",
    "pd.DataFrame(calc_metrics(df1),index=df1.Model_name.unique())"
   ]
  },
  {
   "cell_type": "code",
   "execution_count": 30,
   "metadata": {
    "hidden": true
   },
   "outputs": [
    {
     "data": {
      "text/html": [
       "<div>\n",
       "<style scoped>\n",
       "    .dataframe tbody tr th:only-of-type {\n",
       "        vertical-align: middle;\n",
       "    }\n",
       "\n",
       "    .dataframe tbody tr th {\n",
       "        vertical-align: top;\n",
       "    }\n",
       "\n",
       "    .dataframe thead th {\n",
       "        text-align: right;\n",
       "    }\n",
       "</style>\n",
       "<table border=\"1\" class=\"dataframe\">\n",
       "  <thead>\n",
       "    <tr style=\"text-align: right;\">\n",
       "      <th></th>\n",
       "      <th>map</th>\n",
       "      <th>mrr</th>\n",
       "      <th>avg_sr</th>\n",
       "      <th>avg_ndcg</th>\n",
       "      <th>avg_p3</th>\n",
       "    </tr>\n",
       "  </thead>\n",
       "  <tbody>\n",
       "    <tr>\n",
       "      <th>????</th>\n",
       "      <td>0.424051</td>\n",
       "      <td>0.57384</td>\n",
       "      <td>0.35443</td>\n",
       "      <td>0.58178</td>\n",
       "      <td>0.35443</td>\n",
       "    </tr>\n",
       "  </tbody>\n",
       "</table>\n",
       "</div>"
      ],
      "text/plain": [
       "           map      mrr   avg_sr  avg_ndcg   avg_p3\n",
       "????  0.424051  0.57384  0.35443   0.58178  0.35443"
      ]
     },
     "execution_count": 30,
     "metadata": {},
     "output_type": "execute_result"
    }
   ],
   "source": [
    "#kaali_inner\n",
    "pd.DataFrame(calc_metrics(df1),index=df1.Model_name.unique())"
   ]
  },
  {
   "cell_type": "code",
   "execution_count": 17,
   "metadata": {
    "hidden": true
   },
   "outputs": [
    {
     "data": {
      "text/html": [
       "<div>\n",
       "<style scoped>\n",
       "    .dataframe tbody tr th:only-of-type {\n",
       "        vertical-align: middle;\n",
       "    }\n",
       "\n",
       "    .dataframe tbody tr th {\n",
       "        vertical-align: top;\n",
       "    }\n",
       "\n",
       "    .dataframe thead th {\n",
       "        text-align: right;\n",
       "    }\n",
       "</style>\n",
       "<table border=\"1\" class=\"dataframe\">\n",
       "  <thead>\n",
       "    <tr style=\"text-align: right;\">\n",
       "      <th></th>\n",
       "      <th>map</th>\n",
       "      <th>mrr</th>\n",
       "      <th>avg_sr</th>\n",
       "      <th>avg_ndcg</th>\n",
       "      <th>avg_p3</th>\n",
       "    </tr>\n",
       "  </thead>\n",
       "  <tbody>\n",
       "    <tr>\n",
       "      <th>????</th>\n",
       "      <td>0.339662</td>\n",
       "      <td>0.491561</td>\n",
       "      <td>0.253165</td>\n",
       "      <td>0.507602</td>\n",
       "      <td>0.253165</td>\n",
       "    </tr>\n",
       "  </tbody>\n",
       "</table>\n",
       "</div>"
      ],
      "text/plain": [
       "           map       mrr    avg_sr  avg_ndcg    avg_p3\n",
       "????  0.339662  0.491561  0.253165  0.507602  0.253165"
      ]
     },
     "execution_count": 17,
     "metadata": {},
     "output_type": "execute_result"
    }
   ],
   "source": [
    "#renu_inner\n",
    "pd.DataFrame(calc_metrics(df1),index=df1.Model_name.unique())"
   ]
  },
  {
   "cell_type": "code",
   "execution_count": null,
   "metadata": {
    "hidden": true
   },
   "outputs": [],
   "source": []
  },
  {
   "cell_type": "code",
   "execution_count": 23,
   "metadata": {
    "hidden": true
   },
   "outputs": [
    {
     "data": {
      "text/html": [
       "<div>\n",
       "<style scoped>\n",
       "    .dataframe tbody tr th:only-of-type {\n",
       "        vertical-align: middle;\n",
       "    }\n",
       "\n",
       "    .dataframe tbody tr th {\n",
       "        vertical-align: top;\n",
       "    }\n",
       "\n",
       "    .dataframe thead th {\n",
       "        text-align: right;\n",
       "    }\n",
       "</style>\n",
       "<table border=\"1\" class=\"dataframe\">\n",
       "  <thead>\n",
       "    <tr style=\"text-align: right;\">\n",
       "      <th></th>\n",
       "      <th>map</th>\n",
       "      <th>mrr</th>\n",
       "      <th>avg_sr</th>\n",
       "      <th>avg_ndcg</th>\n",
       "      <th>avg_p3</th>\n",
       "    </tr>\n",
       "  </thead>\n",
       "  <tbody>\n",
       "    <tr>\n",
       "      <th>????</th>\n",
       "      <td>0.183036</td>\n",
       "      <td>0.260913</td>\n",
       "      <td>0.16369</td>\n",
       "      <td>0.277396</td>\n",
       "      <td>0.16369</td>\n",
       "    </tr>\n",
       "  </tbody>\n",
       "</table>\n",
       "</div>"
      ],
      "text/plain": [
       "           map       mrr   avg_sr  avg_ndcg   avg_p3\n",
       "????  0.183036  0.260913  0.16369  0.277396  0.16369"
      ]
     },
     "execution_count": 23,
     "metadata": {},
     "output_type": "execute_result"
    }
   ],
   "source": [
    "#ganga_outer\n",
    "pd.DataFrame(calc_metrics(df1),index=df1.Model_name.unique())"
   ]
  },
  {
   "cell_type": "code",
   "execution_count": 44,
   "metadata": {
    "hidden": true
   },
   "outputs": [
    {
     "data": {
      "text/html": [
       "<div>\n",
       "<style scoped>\n",
       "    .dataframe tbody tr th:only-of-type {\n",
       "        vertical-align: middle;\n",
       "    }\n",
       "\n",
       "    .dataframe tbody tr th {\n",
       "        vertical-align: top;\n",
       "    }\n",
       "\n",
       "    .dataframe thead th {\n",
       "        text-align: right;\n",
       "    }\n",
       "</style>\n",
       "<table border=\"1\" class=\"dataframe\">\n",
       "  <thead>\n",
       "    <tr style=\"text-align: right;\">\n",
       "      <th></th>\n",
       "      <th>map</th>\n",
       "      <th>mrr</th>\n",
       "      <th>avg_sr</th>\n",
       "      <th>avg_ndcg</th>\n",
       "      <th>avg_p3</th>\n",
       "    </tr>\n",
       "  </thead>\n",
       "  <tbody>\n",
       "    <tr>\n",
       "      <th>????</th>\n",
       "      <td>0.219246</td>\n",
       "      <td>0.296627</td>\n",
       "      <td>0.199405</td>\n",
       "      <td>0.312296</td>\n",
       "      <td>0.199405</td>\n",
       "    </tr>\n",
       "  </tbody>\n",
       "</table>\n",
       "</div>"
      ],
      "text/plain": [
       "           map       mrr    avg_sr  avg_ndcg    avg_p3\n",
       "????  0.219246  0.296627  0.199405  0.312296  0.199405"
      ]
     },
     "execution_count": 44,
     "metadata": {},
     "output_type": "execute_result"
    }
   ],
   "source": [
    "#kaali_outer\n",
    "pd.DataFrame(calc_metrics(df1),index=df1.Model_name.unique())"
   ]
  },
  {
   "cell_type": "code",
   "execution_count": 47,
   "metadata": {
    "hidden": true
   },
   "outputs": [
    {
     "data": {
      "text/html": [
       "<div>\n",
       "<style scoped>\n",
       "    .dataframe tbody tr th:only-of-type {\n",
       "        vertical-align: middle;\n",
       "    }\n",
       "\n",
       "    .dataframe tbody tr th {\n",
       "        vertical-align: top;\n",
       "    }\n",
       "\n",
       "    .dataframe thead th {\n",
       "        text-align: right;\n",
       "    }\n",
       "</style>\n",
       "<table border=\"1\" class=\"dataframe\">\n",
       "  <thead>\n",
       "    <tr style=\"text-align: right;\">\n",
       "      <th></th>\n",
       "      <th>map</th>\n",
       "      <th>mrr</th>\n",
       "      <th>avg_sr</th>\n",
       "      <th>avg_ndcg</th>\n",
       "      <th>avg_p3</th>\n",
       "    </tr>\n",
       "  </thead>\n",
       "  <tbody>\n",
       "    <tr>\n",
       "      <th>????</th>\n",
       "      <td>0.105985</td>\n",
       "      <td>0.162202</td>\n",
       "      <td>0.087302</td>\n",
       "      <td>0.174693</td>\n",
       "      <td>0.087302</td>\n",
       "    </tr>\n",
       "  </tbody>\n",
       "</table>\n",
       "</div>"
      ],
      "text/plain": [
       "           map       mrr    avg_sr  avg_ndcg    avg_p3\n",
       "????  0.105985  0.162202  0.087302  0.174693  0.087302"
      ]
     },
     "execution_count": 47,
     "metadata": {},
     "output_type": "execute_result"
    }
   ],
   "source": [
    "#renu_outer\n",
    "pd.DataFrame(calc_metrics(df1),index=df1.Model_name.unique())"
   ]
  },
  {
   "cell_type": "code",
   "execution_count": null,
   "metadata": {
    "hidden": true
   },
   "outputs": [],
   "source": []
  },
  {
   "cell_type": "code",
   "execution_count": null,
   "metadata": {
    "hidden": true
   },
   "outputs": [],
   "source": []
  },
  {
   "cell_type": "code",
   "execution_count": null,
   "metadata": {
    "hidden": true
   },
   "outputs": [],
   "source": []
  },
  {
   "cell_type": "markdown",
   "metadata": {
    "hidden": true
   },
   "source": [
    "Use final.csv and Metrics-final.ipynb to get scores of kaali, ganga, and renu"
   ]
  },
  {
   "cell_type": "code",
   "execution_count": 44,
   "metadata": {
    "hidden": true
   },
   "outputs": [
    {
     "data": {
      "text/html": [
       "<div>\n",
       "<style scoped>\n",
       "    .dataframe tbody tr th:only-of-type {\n",
       "        vertical-align: middle;\n",
       "    }\n",
       "\n",
       "    .dataframe tbody tr th {\n",
       "        vertical-align: top;\n",
       "    }\n",
       "\n",
       "    .dataframe thead th {\n",
       "        text-align: right;\n",
       "    }\n",
       "</style>\n",
       "<table border=\"1\" class=\"dataframe\">\n",
       "  <thead>\n",
       "    <tr style=\"text-align: right;\">\n",
       "      <th></th>\n",
       "      <th>map</th>\n",
       "      <th>mrr</th>\n",
       "      <th>avg_sr</th>\n",
       "      <th>avg_ndcg</th>\n",
       "      <th>avg_p3</th>\n",
       "    </tr>\n",
       "  </thead>\n",
       "  <tbody>\n",
       "    <tr>\n",
       "      <th>????</th>\n",
       "      <td>0.424051</td>\n",
       "      <td>0.57384</td>\n",
       "      <td>0.35443</td>\n",
       "      <td>0.58178</td>\n",
       "      <td>0.6</td>\n",
       "    </tr>\n",
       "  </tbody>\n",
       "</table>\n",
       "</div>"
      ],
      "text/plain": [
       "           map      mrr   avg_sr  avg_ndcg  avg_p3\n",
       "????  0.424051  0.57384  0.35443   0.58178     0.6"
      ]
     },
     "execution_count": 44,
     "metadata": {},
     "output_type": "execute_result"
    }
   ],
   "source": [
    "#For starting till 1008*3\n",
    "#kaali\n",
    "pd.DataFrame(calc_metrics(df1),index=df1.Model_name.unique())"
   ]
  },
  {
   "cell_type": "code",
   "execution_count": 91,
   "metadata": {
    "hidden": true
   },
   "outputs": [
    {
     "data": {
      "text/html": [
       "<div>\n",
       "<style scoped>\n",
       "    .dataframe tbody tr th:only-of-type {\n",
       "        vertical-align: middle;\n",
       "    }\n",
       "\n",
       "    .dataframe tbody tr th {\n",
       "        vertical-align: top;\n",
       "    }\n",
       "\n",
       "    .dataframe thead th {\n",
       "        text-align: right;\n",
       "    }\n",
       "</style>\n",
       "<table border=\"1\" class=\"dataframe\">\n",
       "  <thead>\n",
       "    <tr style=\"text-align: right;\">\n",
       "      <th></th>\n",
       "      <th>map</th>\n",
       "      <th>mrr</th>\n",
       "      <th>avg_sr</th>\n",
       "      <th>avg_ndcg</th>\n",
       "      <th>avg_p3</th>\n",
       "    </tr>\n",
       "  </thead>\n",
       "  <tbody>\n",
       "    <tr>\n",
       "      <th>????</th>\n",
       "      <td>0.413502</td>\n",
       "      <td>0.533755</td>\n",
       "      <td>0.35443</td>\n",
       "      <td>0.539982</td>\n",
       "      <td>0.35443</td>\n",
       "    </tr>\n",
       "  </tbody>\n",
       "</table>\n",
       "</div>"
      ],
      "text/plain": [
       "           map       mrr   avg_sr  avg_ndcg   avg_p3\n",
       "????  0.413502  0.533755  0.35443  0.539982  0.35443"
      ]
     },
     "execution_count": 91,
     "metadata": {},
     "output_type": "execute_result"
    }
   ],
   "source": [
    "#ganga\n",
    "pd.DataFrame(calc_metrics(df1),index=df1.Model_name.unique())"
   ]
  }
 ],
 "metadata": {
  "kernelspec": {
   "display_name": "Python 3",
   "language": "python",
   "name": "python3"
  },
  "language_info": {
   "codemirror_mode": {
    "name": "ipython",
    "version": 3
   },
   "file_extension": ".py",
   "mimetype": "text/x-python",
   "name": "python",
   "nbconvert_exporter": "python",
   "pygments_lexer": "ipython3",
   "version": "3.6.9"
  }
 },
 "nbformat": 4,
 "nbformat_minor": 2
}
