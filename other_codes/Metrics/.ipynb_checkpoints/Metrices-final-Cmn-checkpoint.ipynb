{
 "cells": [
  {
   "cell_type": "code",
   "execution_count": 239,
   "metadata": {},
   "outputs": [],
   "source": [
    "import pandas as pd \n",
    "import numpy as np \n",
    "import collections as cols"
   ]
  },
  {
   "cell_type": "code",
   "execution_count": 240,
   "metadata": {},
   "outputs": [],
   "source": [
    "# keep this to 1 for outer metrices calculation else make it 0\n",
    "outer = 1"
   ]
  },
  {
   "cell_type": "code",
   "execution_count": 241,
   "metadata": {},
   "outputs": [],
   "source": [
    "qcount = 1008\n",
    "if outer == 1:\n",
    "    qstart = 0\n",
    "    qlast = 1008\n",
    "    start = 0\n",
    "    last = qcount*3\n",
    "    i = 1\n",
    "else:\n",
    "    qstart = 1008\n",
    "    qlast = 1245\n",
    "    start = qcount*3\n",
    "    last = 3735\n",
    "    qcount = 237\n",
    "    i = 1009"
   ]
  },
  {
   "cell_type": "code",
   "execution_count": 242,
   "metadata": {},
   "outputs": [],
   "source": [
    "df2 = pd.read_csv(\"Data/nitika.csv\")[start:last]\n",
    "df3 = pd.read_csv(\"Data/prerna.csv\")[start:last]"
   ]
  },
  {
   "cell_type": "code",
   "execution_count": 243,
   "metadata": {},
   "outputs": [],
   "source": [
    "# convert the to binary matrix \n",
    "\n",
    "def get_data(acolumn,right_ans):\n",
    "    acolumn =  np.reshape(acolumn.values,(qcount,3))\n",
    "    repd = []\n",
    "    for vec in acolumn: # vec = [2,3,1]\n",
    "        rep = []\n",
    "        for ind in vec:\n",
    "            if ind in right_ans:\n",
    "                rep.append(1)\n",
    "            else:\n",
    "                rep.append(0)\n",
    "        repd.append(rep)\n",
    "    return np.array(repd)"
   ]
  },
  {
   "cell_type": "code",
   "execution_count": 244,
   "metadata": {},
   "outputs": [
    {
     "data": {
      "text/plain": [
       "array([[0, 0, 0],\n",
       "       [1, 1, 0],\n",
       "       [0, 0, 0],\n",
       "       [0, 0, 0],\n",
       "       [0, 0, 0]])"
      ]
     },
     "execution_count": 244,
     "metadata": {},
     "output_type": "execute_result"
    }
   ],
   "source": [
    "mat_bin = get_data(df3[\"Ans\"],[1,2])\n",
    "mat_bin[:5]"
   ]
  },
  {
   "cell_type": "code",
   "execution_count": 245,
   "metadata": {},
   "outputs": [],
   "source": [
    "def precision_at_k(data):\n",
    "    \"\"\"\n",
    "    param : data\n",
    "    2-D array representing right ans in each row\n",
    "    \"\"\"\n",
    "    prec = []\n",
    "    for vec in data:\n",
    "        rev_doc = 0\n",
    "        tot_doc = 0\n",
    "        prec_vec = []\n",
    "        for doc in vec:\n",
    "            if doc == 1:\n",
    "                rev_doc +=1\n",
    "            tot_doc +=1\n",
    "            prec_vec.append(rev_doc/tot_doc)\n",
    "        prec.append(np.array(prec_vec))\n",
    "    return np.array(prec)"
   ]
  },
  {
   "cell_type": "code",
   "execution_count": 246,
   "metadata": {},
   "outputs": [
    {
     "data": {
      "text/plain": [
       "array([[0.        , 0.        , 0.        ],\n",
       "       [1.        , 1.        , 0.66666667],\n",
       "       [0.        , 0.        , 0.        ],\n",
       "       [0.        , 0.        , 0.        ],\n",
       "       [0.        , 0.        , 0.        ]])"
      ]
     },
     "execution_count": 246,
     "metadata": {},
     "output_type": "execute_result"
    }
   ],
   "source": [
    "precision_at_k(mat_bin)[:5]"
   ]
  },
  {
   "cell_type": "code",
   "execution_count": 247,
   "metadata": {},
   "outputs": [],
   "source": [
    "def precision_at_3(data):\n",
    "    \"\"\"\n",
    "    param : data\n",
    "    2-D array representing right ans in each row\n",
    "    \"\"\"\n",
    "    prec_at_k = precision_at_k(mat_bin)\n",
    "    k = 3-1\n",
    "    prec_at_3 = [vec[k] for vec in prec_at_k]\n",
    "    return np.array(prec_at_3)"
   ]
  },
  {
   "cell_type": "code",
   "execution_count": 248,
   "metadata": {},
   "outputs": [
    {
     "data": {
      "text/plain": [
       "array([0.        , 0.66666667, 0.        , 0.        , 0.        ])"
      ]
     },
     "execution_count": 248,
     "metadata": {},
     "output_type": "execute_result"
    }
   ],
   "source": [
    "precision_at_3(mat_bin)[:5]"
   ]
  },
  {
   "cell_type": "code",
   "execution_count": 249,
   "metadata": {},
   "outputs": [],
   "source": [
    "def avg_precision_at_3(data):\n",
    "    \"\"\"\n",
    "    param : data\n",
    "    2-D array representing right ans in each row\n",
    "    \"\"\"\n",
    "    data = precision_at_k(data)\n",
    "    aprec = []\n",
    "    for vec in data:\n",
    "        aprec.append(sum(vec)/3)\n",
    "    return np.array(aprec)"
   ]
  },
  {
   "cell_type": "code",
   "execution_count": 250,
   "metadata": {},
   "outputs": [
    {
     "data": {
      "text/plain": [
       "array([0.        , 0.88888889, 0.        , 0.        , 0.        ])"
      ]
     },
     "execution_count": 250,
     "metadata": {},
     "output_type": "execute_result"
    }
   ],
   "source": [
    "avg_precision_at_3(mat_bin)[:5]"
   ]
  },
  {
   "cell_type": "code",
   "execution_count": 251,
   "metadata": {},
   "outputs": [],
   "source": [
    "def reciprocal_rank(data):\n",
    "    \"\"\"\n",
    "    param : data\n",
    "    2-D array representing right ans in each row\n",
    "    \"\"\"\n",
    "    rr = []\n",
    "    for vec in data: #  vec = [0,1,1]\n",
    "        i = 1\n",
    "        for ind in vec:\n",
    "            if ind == 1:\n",
    "                break\n",
    "            i+=1\n",
    "        #print(i)\n",
    "        if i !=4:\n",
    "            rr.append(1/i)\n",
    "        else:\n",
    "            rr.append(0)\n",
    "    return np.array(rr)\n"
   ]
  },
  {
   "cell_type": "code",
   "execution_count": 252,
   "metadata": {},
   "outputs": [
    {
     "data": {
      "text/plain": [
       "array([0., 1., 0., 0., 0.])"
      ]
     },
     "execution_count": 252,
     "metadata": {},
     "output_type": "execute_result"
    }
   ],
   "source": [
    "reciprocal_rank(mat_bin)[:5]"
   ]
  },
  {
   "cell_type": "code",
   "execution_count": 253,
   "metadata": {},
   "outputs": [],
   "source": [
    "def success_ratio(data):\n",
    "    \"\"\"\n",
    "    param : data\n",
    "    2-D array representing right ans in each row\n",
    "    \"\"\"\n",
    "    sr_mat = []\n",
    "    for vec in data:\n",
    "        sr_mat.append(sum(vec)/len(vec))\n",
    "    \n",
    "    return np.array(sr_mat)"
   ]
  },
  {
   "cell_type": "code",
   "execution_count": 254,
   "metadata": {},
   "outputs": [
    {
     "data": {
      "text/plain": [
       "array([0.        , 0.66666667, 0.        , 0.        , 0.        ])"
      ]
     },
     "execution_count": 254,
     "metadata": {},
     "output_type": "execute_result"
    }
   ],
   "source": [
    "success_ratio(mat_bin)[:5]"
   ]
  },
  {
   "cell_type": "code",
   "execution_count": 255,
   "metadata": {},
   "outputs": [],
   "source": [
    "def invert_rel(element):\n",
    "    rmap = {1:2,2:1,3:0}\n",
    "    return rmap[element] "
   ]
  },
  {
   "cell_type": "code",
   "execution_count": 256,
   "metadata": {},
   "outputs": [],
   "source": [
    "def ndcg(acolumn):\n",
    "    \"\"\"\n",
    "    param : acolumn\n",
    "    pandas series representing ans in each cell\n",
    "    \"\"\"\n",
    "    idcg_vec = np.array([1/np.log2(2) , 1/np.log2(3) , 1/np.log2(4)])\n",
    "    acolumn = acolumn.apply(invert_rel)\n",
    "    acolumn =  np.reshape(acolumn.values,(-1,3))\n",
    "\n",
    "    ndcg_vec = []\n",
    "\n",
    "    for vec in acolumn: #  vec = [1,2,1]   \n",
    "        idcg = sum(idcg_vec*sorted(vec,reverse=True))\n",
    "        if idcg!=0:\n",
    "            ndcg_vec.append(np.sum(vec*idcg_vec)/idcg)\n",
    "        else:\n",
    "            ndcg_vec.append(0)\n",
    "    return np.array(ndcg_vec)"
   ]
  },
  {
   "cell_type": "code",
   "execution_count": 257,
   "metadata": {},
   "outputs": [
    {
     "data": {
      "text/plain": [
       "array([0., 1., 0., 0., 0.])"
      ]
     },
     "execution_count": 257,
     "metadata": {},
     "output_type": "execute_result"
    }
   ],
   "source": [
    "ndcg(df3[\"Ans\"])[:5]"
   ]
  },
  {
   "cell_type": "code",
   "execution_count": 258,
   "metadata": {},
   "outputs": [],
   "source": [
    "#get model number\n",
    "def get_commom_entries(df1,df2):\n",
    "    cmn = df1.Ans==df2.Ans\n",
    "    entries = np.apply_along_axis(all,1,np.reshape(cmn.values,(qcount,3)))\n",
    "\n",
    "\n",
    "    data = pd.read_csv(\"final-Ques_rand.csv\")[qstart:qlast]\n",
    "    df = data[[\"Page\",\"Model_name\"]]\n",
    "    models = df.Model_name.unique()\n",
    "    df[\"Model_num\"] = df.Model_name.replace(models,[0,1,2])\n",
    "    df = df[entries]\n",
    "\n",
    "    grp = {}\n",
    "    dgrp = df.groupby(df.Model_num)\n",
    "    grp[\"Grp1_Pg\"] = dgrp.get_group(0).Page.values-i\n",
    "    grp[\"Grp2_Pg\"] = dgrp.get_group(1).Page.values-i\n",
    "    grp[\"Grp3_Pg\"] = dgrp.get_group(2).Page.values-i\n",
    "\n",
    "    return grp"
   ]
  },
  {
   "cell_type": "code",
   "execution_count": 259,
   "metadata": {},
   "outputs": [],
   "source": [
    "def grp_division(rows,df2,df3):\n",
    "    mod_num = get_commom_entries(df2,df3)\n",
    "    grp1 = rows[mod_num[\"Grp1_Pg\"]]\n",
    "    grp2 = rows[mod_num[\"Grp2_Pg\"]]\n",
    "    grp3 = rows[mod_num[\"Grp3_Pg\"]]\n",
    "    return grp1,grp2,grp3"
   ]
  },
  {
   "cell_type": "code",
   "execution_count": 260,
   "metadata": {},
   "outputs": [],
   "source": [
    "def grp_mean(grp_mat):\n",
    "    return (np.mean(grp_mat[0]),np.mean(grp_mat[1]),np.mean(grp_mat[2]))"
   ]
  },
  {
   "cell_type": "code",
   "execution_count": 261,
   "metadata": {},
   "outputs": [],
   "source": [
    "def calc_metrics(df2,df3):\n",
    "    \"\"\"\n",
    "    param : acolumn\n",
    "    pandas series representing ans in each cell\n",
    "    \"\"\"\n",
    "    acolumn = df3[\"Ans\"] # we can also add df2 as in last step we will take common\n",
    "    data = get_data(acolumn,[1,2])\n",
    "    m_mat = {}\n",
    "\n",
    "    m_mat[\"map\"] = grp_mean(grp_division(avg_precision_at_3(data),df2,df3))\n",
    "    m_mat[\"mrr\"] = grp_mean(grp_division(reciprocal_rank(data),df2,df3))\n",
    "    m_mat[\"avg_sr\"] = grp_mean(grp_division(success_ratio(data),df2,df3))\n",
    "    m_mat[\"avg_ndcg\"] = grp_mean(grp_division(ndcg(acolumn),df2,df3))\n",
    "    m_mat[\"avg_p3\"] = grp_mean(grp_division(precision_at_3(data),df2,df3))\n",
    "    return m_mat"
   ]
  },
  {
   "cell_type": "code",
   "execution_count": 262,
   "metadata": {},
   "outputs": [
    {
     "data": {
      "text/plain": [
       "{'map': (0.045151893466500205, 0.11183891314895682, 0.098903836571998),\n",
       " 'mrr': (0.06741573033707865, 0.15356622998544395, 0.14275037369207771),\n",
       " 'avg_sr': (0.036204744069912614, 0.09315866084425034, 0.0881913303437967),\n",
       " 'avg_ndcg': (0.0709492127469439, 0.15977172018401356, 0.15185273808332828),\n",
       " 'avg_p3': (0.036204744069912614, 0.09315866084425034, 0.0881913303437967)}"
      ]
     },
     "execution_count": 262,
     "metadata": {},
     "output_type": "execute_result"
    }
   ],
   "source": [
    "calc_metrics(df2,df3)"
   ]
  },
  {
   "cell_type": "code",
   "execution_count": 263,
   "metadata": {},
   "outputs": [
    {
     "data": {
      "text/html": [
       "<div>\n",
       "<style scoped>\n",
       "    .dataframe tbody tr th:only-of-type {\n",
       "        vertical-align: middle;\n",
       "    }\n",
       "\n",
       "    .dataframe tbody tr th {\n",
       "        vertical-align: top;\n",
       "    }\n",
       "\n",
       "    .dataframe thead th {\n",
       "        text-align: right;\n",
       "    }\n",
       "</style>\n",
       "<table border=\"1\" class=\"dataframe\">\n",
       "  <thead>\n",
       "    <tr style=\"text-align: right;\">\n",
       "      <th></th>\n",
       "      <th>map</th>\n",
       "      <th>mrr</th>\n",
       "      <th>avg_sr</th>\n",
       "      <th>avg_ndcg</th>\n",
       "      <th>avg_p3</th>\n",
       "    </tr>\n",
       "  </thead>\n",
       "  <tbody>\n",
       "    <tr>\n",
       "      <th>गंगा</th>\n",
       "      <td>0.045152</td>\n",
       "      <td>0.067416</td>\n",
       "      <td>0.036205</td>\n",
       "      <td>0.070949</td>\n",
       "      <td>0.036205</td>\n",
       "    </tr>\n",
       "    <tr>\n",
       "      <th>काली</th>\n",
       "      <td>0.111839</td>\n",
       "      <td>0.153566</td>\n",
       "      <td>0.093159</td>\n",
       "      <td>0.159772</td>\n",
       "      <td>0.093159</td>\n",
       "    </tr>\n",
       "    <tr>\n",
       "      <th>रेनू</th>\n",
       "      <td>0.098904</td>\n",
       "      <td>0.142750</td>\n",
       "      <td>0.088191</td>\n",
       "      <td>0.151853</td>\n",
       "      <td>0.088191</td>\n",
       "    </tr>\n",
       "  </tbody>\n",
       "</table>\n",
       "</div>"
      ],
      "text/plain": [
       "           map       mrr    avg_sr  avg_ndcg    avg_p3\n",
       "गंगा  0.045152  0.067416  0.036205  0.070949  0.036205\n",
       "काली  0.111839  0.153566  0.093159  0.159772  0.093159\n",
       "रेनू  0.098904  0.142750  0.088191  0.151853  0.088191"
      ]
     },
     "execution_count": 263,
     "metadata": {},
     "output_type": "execute_result"
    }
   ],
   "source": [
    "#For starting till 1008*3\n",
    "pd.DataFrame(calc_metrics(df2,df3),index=['गंगा', 'काली', 'रेनू'])"
   ]
  }
 ],
 "metadata": {
  "kernelspec": {
   "display_name": "Python 3",
   "language": "python",
   "name": "python3"
  },
  "language_info": {
   "codemirror_mode": {
    "name": "ipython",
    "version": 3
   },
   "file_extension": ".py",
   "mimetype": "text/x-python",
   "name": "python",
   "nbconvert_exporter": "python",
   "pygments_lexer": "ipython3",
   "version": "3.6.9"
  }
 },
 "nbformat": 4,
 "nbformat_minor": 2
}
